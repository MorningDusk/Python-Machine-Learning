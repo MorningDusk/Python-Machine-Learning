{
 "cells": [
  {
   "cell_type": "code",
   "execution_count": 4,
   "id": "452233a9-14b0-4379-a273-fda3a3a78766",
   "metadata": {},
   "outputs": [],
   "source": [
    "import numpy as np\n",
    "import pandas as pd\n",
    "from sklearn.datasets import fetch_openml\n",
    "from sklearn.model_selection import train_test_split\n",
    "from keras.models import Sequential\n",
    "from keras.layers import Conv2D, MaxPool2D, Dropout\n",
    "from keras.layers.core import Activation, Flatten, Dense\n",
    "from keras.optimizers import SGD\n",
    "from keras.utils import np_utils\n",
    "from keras import backend\n",
    "\n",
    "backend.image_data_format()\n",
    "\n",
    "num_classes = 10\n",
    "img_depth = 1\n",
    "img_height = 28\n",
    "img_width = 28\n",
    "\n",
    "model = Sequential([\n",
    "    Conv2D(32, kernel_size=(3,3), input_shape=(28,28,1), padding='SAME', activation='relu'),\n",
    "    MaxPool2D(pool_size=(2,2), strides=(2,2), padding='SAME'),\n",
    "    Conv2D(64, kernel_size=(3,3), padding='SAME', activation='relu'),\n",
    "    MaxPool2D(pool_size=(2,2), strides=(2,2), padding='SAME'),\n",
    "    Flatten(),\n",
    "    Dense(1024, activation='relu'),\n",
    "    Dense(10, activation='softmax'),\n",
    "    Dropout(0.25)\n",
    "])"
   ]
  },
  {
   "cell_type": "code",
   "execution_count": 9,
   "id": "078a640b-403d-49d5-a5a3-35da58e5dd48",
   "metadata": {},
   "outputs": [
    {
     "name": "stderr",
     "output_type": "stream",
     "text": [
      "C:\\Users\\user\\miniconda3\\envs\\py\\lib\\site-packages\\sklearn\\datasets\\_openml.py:932: FutureWarning: The default value of `parser` will change from `'liac-arff'` to `'auto'` in 1.4. You can set `parser='auto'` to silence this warning. Therefore, an `ImportError` will be raised from 1.4 if the dataset is dense and pandas is not installed. Note that the pandas parser may return different data types. See the Notes Section in fetch_openml's API doc for details.\n",
      "  warn(\n"
     ]
    },
    {
     "name": "stdout",
     "output_type": "stream",
     "text": [
      "Epoch 1/20\n"
     ]
    },
    {
     "name": "stderr",
     "output_type": "stream",
     "text": [
      "C:\\Users\\user\\miniconda3\\envs\\py\\lib\\site-packages\\keras\\optimizers\\optimizer_v2\\gradient_descent.py:114: UserWarning: The `lr` argument is deprecated, use `learning_rate` instead.\n",
      "  super().__init__(name, **kwargs)\n"
     ]
    },
    {
     "name": "stdout",
     "output_type": "stream",
     "text": [
      "821/821 [==============================] - 44s 52ms/step - loss: 5.5136 - accuracy: 0.1752\n",
      "Epoch 2/20\n",
      "821/821 [==============================] - 42s 51ms/step - loss: 5.5635 - accuracy: 0.1947\n",
      "Epoch 3/20\n",
      "821/821 [==============================] - 40s 49ms/step - loss: 5.5411 - accuracy: 0.2146\n",
      "Epoch 4/20\n",
      "821/821 [==============================] - 41s 50ms/step - loss: 5.5119 - accuracy: 0.2328\n",
      "Epoch 5/20\n",
      "821/821 [==============================] - 41s 50ms/step - loss: 5.5558 - accuracy: 0.2462\n",
      "Epoch 6/20\n",
      "821/821 [==============================] - 41s 50ms/step - loss: 5.5047 - accuracy: 0.2668\n",
      "Epoch 7/20\n",
      "821/821 [==============================] - 42s 51ms/step - loss: 5.5017 - accuracy: 0.2806\n",
      "Epoch 8/20\n",
      "821/821 [==============================] - 42s 51ms/step - loss: 5.4943 - accuracy: 0.3011\n",
      "Epoch 9/20\n",
      "821/821 [==============================] - 42s 51ms/step - loss: 5.5121 - accuracy: 0.3241\n",
      "Epoch 10/20\n",
      "821/821 [==============================] - 46s 56ms/step - loss: 5.4504 - accuracy: 0.3525\n",
      "Epoch 11/20\n",
      "821/821 [==============================] - 46s 56ms/step - loss: 5.4557 - accuracy: 0.3793\n",
      "Epoch 12/20\n",
      "821/821 [==============================] - 41s 50ms/step - loss: 5.4405 - accuracy: 0.4044\n",
      "Epoch 13/20\n",
      "821/821 [==============================] - 42s 51ms/step - loss: 5.4251 - accuracy: 0.4265\n",
      "Epoch 14/20\n",
      "821/821 [==============================] - 42s 51ms/step - loss: 5.3885 - accuracy: 0.4534\n",
      "Epoch 15/20\n",
      "821/821 [==============================] - 46s 56ms/step - loss: 5.3724 - accuracy: 0.4702\n",
      "Epoch 16/20\n",
      "821/821 [==============================] - 48s 59ms/step - loss: 5.3742 - accuracy: 0.4905\n",
      "Epoch 17/20\n",
      "821/821 [==============================] - 39s 48ms/step - loss: 5.3602 - accuracy: 0.5037\n",
      "Epoch 18/20\n",
      "821/821 [==============================] - 44s 54ms/step - loss: 5.3516 - accuracy: 0.5168\n",
      "Epoch 19/20\n",
      "821/821 [==============================] - 41s 50ms/step - loss: 5.2805 - accuracy: 0.5326\n",
      "Epoch 20/20\n",
      "821/821 [==============================] - 38s 46ms/step - loss: 5.2523 - accuracy: 0.5427\n",
      "274/274 [==============================] - 3s 11ms/step - loss: 1.8458 - accuracy: 0.6966\n",
      "Accuracy: 0.6966285705566406\n"
     ]
    }
   ],
   "source": [
    "mnist = fetch_openml('mnist_784', version=1, cache=True)\n",
    "mnist.data = mnist.data.to_numpy().reshape((mnist.data.shape[0], 28, 28))\n",
    "mnist.data = mnist.data[:,:,:,np.newaxis]\n",
    "mnist.data = mnist.data / 255.0\n",
    "\n",
    "train_data, test_data, train_label, test_label = train_test_split(mnist.data, mnist.target, test_size=0.25)\n",
    "train_label = np_utils.to_categorical(train_label, 10)\n",
    "test_label = np_utils.to_categorical(test_label, 10)\n",
    "\n",
    "model.compile(loss='categorical_crossentropy', optimizer=SGD(lr=0.0001), metrics=['accuracy'])\n",
    "model.fit(train_data, train_label, batch_size=64, epochs=20, verbose=1)\n",
    "loss, accuracy = model.evaluate(test_data, test_label, batch_size=64, verbose=1)\n",
    "print('Accuracy:', accuracy)"
   ]
  },
  {
   "cell_type": "code",
   "execution_count": 7,
   "id": "48f6cdfb-1115-4c55-b1aa-cbc3f616e592",
   "metadata": {},
   "outputs": [
    {
     "name": "stderr",
     "output_type": "stream",
     "text": [
      "C:\\Users\\user\\miniconda3\\envs\\py\\lib\\site-packages\\sklearn\\datasets\\_openml.py:932: FutureWarning: The default value of `parser` will change from `'liac-arff'` to `'auto'` in 1.4. You can set `parser='auto'` to silence this warning. Therefore, an `ImportError` will be raised from 1.4 if the dataset is dense and pandas is not installed. Note that the pandas parser may return different data types. See the Notes Section in fetch_openml's API doc for details.\n",
      "  warn(\n"
     ]
    },
    {
     "name": "stdout",
     "output_type": "stream",
     "text": [
      "Iteration 1, loss = 2.29838954\n",
      "Iteration 2, loss = 2.25979562\n",
      "Iteration 3, loss = 2.22072170\n",
      "Iteration 4, loss = 2.17502788\n",
      "Iteration 5, loss = 2.12279446\n",
      "Iteration 6, loss = 2.06339064\n",
      "Iteration 7, loss = 1.99608277\n",
      "Iteration 8, loss = 1.92092294\n",
      "Iteration 9, loss = 1.83856986\n",
      "Iteration 10, loss = 1.75068040\n",
      "Iteration 11, loss = 1.65959311\n",
      "Iteration 12, loss = 1.56791410\n",
      "Iteration 13, loss = 1.47807319\n",
      "Iteration 14, loss = 1.39190507\n",
      "Iteration 15, loss = 1.31088706\n",
      "Iteration 16, loss = 1.23585850\n",
      "Iteration 17, loss = 1.16723367\n",
      "Iteration 18, loss = 1.10495251\n",
      "Iteration 19, loss = 1.04874645\n",
      "Iteration 20, loss = 0.99809858\n",
      "Network Performance: 0.8056\n"
     ]
    },
    {
     "name": "stderr",
     "output_type": "stream",
     "text": [
      "C:\\Users\\user\\miniconda3\\envs\\py\\lib\\site-packages\\sklearn\\neural_network\\_multilayer_perceptron.py:684: ConvergenceWarning: Stochastic Optimizer: Maximum iterations (20) reached and the optimization hasn't converged yet.\n",
      "  warnings.warn(\n"
     ]
    }
   ],
   "source": [
    "from sklearn.datasets import fetch_openml\n",
    "from sklearn.neural_network import MLPClassifier\n",
    "from sklearn.preprocessing import normalize\n",
    "from sklearn.model_selection import train_test_split\n",
    "\n",
    "mnist = fetch_openml('mnist_784', version=1, cache=True)\n",
    "\n",
    "images = mnist.data\n",
    "labels = mnist.target\n",
    "images = normalize(images, norm='l2')\n",
    "\n",
    "images_train, images_test = train_test_split(images, test_size=0.25, random_state=17)\n",
    "labels_train, labels_test = train_test_split(labels, test_size=0.25, random_state=17)\n",
    "\n",
    "nn = MLPClassifier(hidden_layer_sizes=(100), max_iter=20, solver='sgd', learning_rate_init=0.001, verbose=True)\n",
    "nn.fit(images_train, labels_train)\n",
    "print('Network Performance:', nn.score(images_test, labels_test))"
   ]
  },
  {
   "cell_type": "code",
   "execution_count": null,
   "id": "526c5730-549a-4755-844b-77b2e04933fe",
   "metadata": {},
   "outputs": [],
   "source": []
  }
 ],
 "metadata": {
  "kernelspec": {
   "display_name": "Python 3 (ipykernel)",
   "language": "python",
   "name": "python3"
  },
  "language_info": {
   "codemirror_mode": {
    "name": "ipython",
    "version": 3
   },
   "file_extension": ".py",
   "mimetype": "text/x-python",
   "name": "python",
   "nbconvert_exporter": "python",
   "pygments_lexer": "ipython3",
   "version": "3.10.8"
  }
 },
 "nbformat": 4,
 "nbformat_minor": 5
}
