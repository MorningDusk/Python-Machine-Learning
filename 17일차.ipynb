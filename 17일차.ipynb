{
 "cells": [
  {
   "cell_type": "markdown",
   "id": "91e54650-f8a5-43aa-acb8-1edbc7a21cb0",
   "metadata": {},
   "source": [
    "# 중복 데이터 처리"
   ]
  },
  {
   "cell_type": "code",
   "execution_count": 1,
   "id": "b9737545-5ddc-480d-b41c-550c7e04d4b4",
   "metadata": {},
   "outputs": [],
   "source": [
    "import pandas as pd"
   ]
  },
  {
   "cell_type": "code",
   "execution_count": 3,
   "id": "5f2b7711-c7c9-4036-a52b-ed2eddfe3227",
   "metadata": {},
   "outputs": [
    {
     "data": {
      "text/html": [
       "<div>\n",
       "<style scoped>\n",
       "    .dataframe tbody tr th:only-of-type {\n",
       "        vertical-align: middle;\n",
       "    }\n",
       "\n",
       "    .dataframe tbody tr th {\n",
       "        vertical-align: top;\n",
       "    }\n",
       "\n",
       "    .dataframe thead th {\n",
       "        text-align: right;\n",
       "    }\n",
       "</style>\n",
       "<table border=\"1\" class=\"dataframe\">\n",
       "  <thead>\n",
       "    <tr style=\"text-align: right;\">\n",
       "      <th></th>\n",
       "      <th>c1</th>\n",
       "      <th>c2</th>\n",
       "      <th>c3</th>\n",
       "    </tr>\n",
       "  </thead>\n",
       "  <tbody>\n",
       "    <tr>\n",
       "      <th>0</th>\n",
       "      <td>a</td>\n",
       "      <td>1</td>\n",
       "      <td>1</td>\n",
       "    </tr>\n",
       "    <tr>\n",
       "      <th>1</th>\n",
       "      <td>a</td>\n",
       "      <td>1</td>\n",
       "      <td>1</td>\n",
       "    </tr>\n",
       "    <tr>\n",
       "      <th>2</th>\n",
       "      <td>b</td>\n",
       "      <td>1</td>\n",
       "      <td>2</td>\n",
       "    </tr>\n",
       "    <tr>\n",
       "      <th>3</th>\n",
       "      <td>a</td>\n",
       "      <td>2</td>\n",
       "      <td>2</td>\n",
       "    </tr>\n",
       "    <tr>\n",
       "      <th>4</th>\n",
       "      <td>b</td>\n",
       "      <td>2</td>\n",
       "      <td>2</td>\n",
       "    </tr>\n",
       "  </tbody>\n",
       "</table>\n",
       "</div>"
      ],
      "text/plain": [
       "  c1  c2  c3\n",
       "0  a   1   1\n",
       "1  a   1   1\n",
       "2  b   1   2\n",
       "3  a   2   2\n",
       "4  b   2   2"
      ]
     },
     "execution_count": 3,
     "metadata": {},
     "output_type": "execute_result"
    }
   ],
   "source": [
    "df = pd.DataFrame(\n",
    "    {\n",
    "        'c1' : ['a', 'a', 'b', 'a', 'b'],\n",
    "        'c2' : [1,1,1,2,2],\n",
    "        'c3' : [1,1,2,2,2]\n",
    "    }\n",
    ")\n",
    "df"
   ]
  },
  {
   "cell_type": "code",
   "execution_count": 4,
   "id": "30daaeb1-0228-4783-8841-4d64967030fc",
   "metadata": {},
   "outputs": [
    {
     "data": {
      "text/plain": [
       "0    False\n",
       "1     True\n",
       "2    False\n",
       "3    False\n",
       "4    False\n",
       "dtype: bool"
      ]
     },
     "execution_count": 4,
     "metadata": {},
     "output_type": "execute_result"
    }
   ],
   "source": [
    "df.duplicated()"
   ]
  },
  {
   "cell_type": "code",
   "execution_count": 5,
   "id": "d473ed22-e78f-4403-814c-d1ab89749321",
   "metadata": {},
   "outputs": [
    {
     "data": {
      "text/plain": [
       "0    False\n",
       "1     True\n",
       "2    False\n",
       "3     True\n",
       "4     True\n",
       "Name: c1, dtype: bool"
      ]
     },
     "execution_count": 5,
     "metadata": {},
     "output_type": "execute_result"
    }
   ],
   "source": [
    "df['c1'].duplicated()"
   ]
  },
  {
   "cell_type": "code",
   "execution_count": 6,
   "id": "4629bc52-ea00-43d0-9ced-3c607ed9d662",
   "metadata": {},
   "outputs": [
    {
     "data": {
      "text/html": [
       "<div>\n",
       "<style scoped>\n",
       "    .dataframe tbody tr th:only-of-type {\n",
       "        vertical-align: middle;\n",
       "    }\n",
       "\n",
       "    .dataframe tbody tr th {\n",
       "        vertical-align: top;\n",
       "    }\n",
       "\n",
       "    .dataframe thead th {\n",
       "        text-align: right;\n",
       "    }\n",
       "</style>\n",
       "<table border=\"1\" class=\"dataframe\">\n",
       "  <thead>\n",
       "    <tr style=\"text-align: right;\">\n",
       "      <th></th>\n",
       "      <th>c1</th>\n",
       "      <th>c2</th>\n",
       "      <th>c3</th>\n",
       "    </tr>\n",
       "  </thead>\n",
       "  <tbody>\n",
       "    <tr>\n",
       "      <th>0</th>\n",
       "      <td>a</td>\n",
       "      <td>1</td>\n",
       "      <td>1</td>\n",
       "    </tr>\n",
       "    <tr>\n",
       "      <th>2</th>\n",
       "      <td>b</td>\n",
       "      <td>1</td>\n",
       "      <td>2</td>\n",
       "    </tr>\n",
       "    <tr>\n",
       "      <th>3</th>\n",
       "      <td>a</td>\n",
       "      <td>2</td>\n",
       "      <td>2</td>\n",
       "    </tr>\n",
       "    <tr>\n",
       "      <th>4</th>\n",
       "      <td>b</td>\n",
       "      <td>2</td>\n",
       "      <td>2</td>\n",
       "    </tr>\n",
       "  </tbody>\n",
       "</table>\n",
       "</div>"
      ],
      "text/plain": [
       "  c1  c2  c3\n",
       "0  a   1   1\n",
       "2  b   1   2\n",
       "3  a   2   2\n",
       "4  b   2   2"
      ]
     },
     "execution_count": 6,
     "metadata": {},
     "output_type": "execute_result"
    }
   ],
   "source": [
    "df.drop_duplicates()"
   ]
  },
  {
   "cell_type": "code",
   "execution_count": 8,
   "id": "cfff057d-9c68-4bc3-a872-6cdb65aac1f7",
   "metadata": {},
   "outputs": [
    {
     "data": {
      "text/html": [
       "<div>\n",
       "<style scoped>\n",
       "    .dataframe tbody tr th:only-of-type {\n",
       "        vertical-align: middle;\n",
       "    }\n",
       "\n",
       "    .dataframe tbody tr th {\n",
       "        vertical-align: top;\n",
       "    }\n",
       "\n",
       "    .dataframe thead th {\n",
       "        text-align: right;\n",
       "    }\n",
       "</style>\n",
       "<table border=\"1\" class=\"dataframe\">\n",
       "  <thead>\n",
       "    <tr style=\"text-align: right;\">\n",
       "      <th></th>\n",
       "      <th>c1</th>\n",
       "      <th>c2</th>\n",
       "      <th>c3</th>\n",
       "    </tr>\n",
       "  </thead>\n",
       "  <tbody>\n",
       "    <tr>\n",
       "      <th>0</th>\n",
       "      <td>a</td>\n",
       "      <td>1</td>\n",
       "      <td>1</td>\n",
       "    </tr>\n",
       "    <tr>\n",
       "      <th>2</th>\n",
       "      <td>b</td>\n",
       "      <td>1</td>\n",
       "      <td>2</td>\n",
       "    </tr>\n",
       "    <tr>\n",
       "      <th>3</th>\n",
       "      <td>a</td>\n",
       "      <td>2</td>\n",
       "      <td>2</td>\n",
       "    </tr>\n",
       "    <tr>\n",
       "      <th>4</th>\n",
       "      <td>b</td>\n",
       "      <td>2</td>\n",
       "      <td>2</td>\n",
       "    </tr>\n",
       "  </tbody>\n",
       "</table>\n",
       "</div>"
      ],
      "text/plain": [
       "  c1  c2  c3\n",
       "0  a   1   1\n",
       "2  b   1   2\n",
       "3  a   2   2\n",
       "4  b   2   2"
      ]
     },
     "execution_count": 8,
     "metadata": {},
     "output_type": "execute_result"
    }
   ],
   "source": [
    "df.drop_duplicates(subset=['c1', 'c2'])"
   ]
  },
  {
   "cell_type": "markdown",
   "id": "3542cc2e-898f-4901-83dc-a056652cd950",
   "metadata": {},
   "source": [
    "# 데이터 표준화"
   ]
  },
  {
   "cell_type": "code",
   "execution_count": 9,
   "id": "f017a1dd-1cee-4b97-894c-7cf305366195",
   "metadata": {},
   "outputs": [],
   "source": [
    "df = pd.read_csv('https://raw.githubusercontent.com/leekyuyoung20221226/python/main/data/auto-mpg.csv', header=None)"
   ]
  },
  {
   "cell_type": "code",
   "execution_count": 10,
   "id": "070d6f79-cc22-45e5-86a1-64a29fda3018",
   "metadata": {},
   "outputs": [],
   "source": [
    "df.columns = ['mpeg', 'cylinders', 'displacement', 'horsepower', 'weight', 'acceleration', 'model year', 'origin', 'name']"
   ]
  },
  {
   "cell_type": "code",
   "execution_count": 11,
   "id": "3bed9dde-face-4b3c-aeef-d2567e7a8dd6",
   "metadata": {},
   "outputs": [
    {
     "data": {
      "text/html": [
       "<div>\n",
       "<style scoped>\n",
       "    .dataframe tbody tr th:only-of-type {\n",
       "        vertical-align: middle;\n",
       "    }\n",
       "\n",
       "    .dataframe tbody tr th {\n",
       "        vertical-align: top;\n",
       "    }\n",
       "\n",
       "    .dataframe thead th {\n",
       "        text-align: right;\n",
       "    }\n",
       "</style>\n",
       "<table border=\"1\" class=\"dataframe\">\n",
       "  <thead>\n",
       "    <tr style=\"text-align: right;\">\n",
       "      <th></th>\n",
       "      <th>mpeg</th>\n",
       "      <th>cylinders</th>\n",
       "      <th>displacement</th>\n",
       "      <th>horsepower</th>\n",
       "      <th>weight</th>\n",
       "      <th>acceleration</th>\n",
       "      <th>model year</th>\n",
       "      <th>origin</th>\n",
       "      <th>name</th>\n",
       "    </tr>\n",
       "  </thead>\n",
       "  <tbody>\n",
       "    <tr>\n",
       "      <th>0</th>\n",
       "      <td>18.0</td>\n",
       "      <td>8</td>\n",
       "      <td>307.0</td>\n",
       "      <td>130.0</td>\n",
       "      <td>3504.0</td>\n",
       "      <td>12.0</td>\n",
       "      <td>70</td>\n",
       "      <td>1</td>\n",
       "      <td>chevrolet chevelle malibu</td>\n",
       "    </tr>\n",
       "    <tr>\n",
       "      <th>1</th>\n",
       "      <td>15.0</td>\n",
       "      <td>8</td>\n",
       "      <td>350.0</td>\n",
       "      <td>165.0</td>\n",
       "      <td>3693.0</td>\n",
       "      <td>11.5</td>\n",
       "      <td>70</td>\n",
       "      <td>1</td>\n",
       "      <td>buick skylark 320</td>\n",
       "    </tr>\n",
       "    <tr>\n",
       "      <th>2</th>\n",
       "      <td>18.0</td>\n",
       "      <td>8</td>\n",
       "      <td>318.0</td>\n",
       "      <td>150.0</td>\n",
       "      <td>3436.0</td>\n",
       "      <td>11.0</td>\n",
       "      <td>70</td>\n",
       "      <td>1</td>\n",
       "      <td>plymouth satellite</td>\n",
       "    </tr>\n",
       "    <tr>\n",
       "      <th>3</th>\n",
       "      <td>16.0</td>\n",
       "      <td>8</td>\n",
       "      <td>304.0</td>\n",
       "      <td>150.0</td>\n",
       "      <td>3433.0</td>\n",
       "      <td>12.0</td>\n",
       "      <td>70</td>\n",
       "      <td>1</td>\n",
       "      <td>amc rebel sst</td>\n",
       "    </tr>\n",
       "    <tr>\n",
       "      <th>4</th>\n",
       "      <td>17.0</td>\n",
       "      <td>8</td>\n",
       "      <td>302.0</td>\n",
       "      <td>140.0</td>\n",
       "      <td>3449.0</td>\n",
       "      <td>10.5</td>\n",
       "      <td>70</td>\n",
       "      <td>1</td>\n",
       "      <td>ford torino</td>\n",
       "    </tr>\n",
       "    <tr>\n",
       "      <th>...</th>\n",
       "      <td>...</td>\n",
       "      <td>...</td>\n",
       "      <td>...</td>\n",
       "      <td>...</td>\n",
       "      <td>...</td>\n",
       "      <td>...</td>\n",
       "      <td>...</td>\n",
       "      <td>...</td>\n",
       "      <td>...</td>\n",
       "    </tr>\n",
       "    <tr>\n",
       "      <th>393</th>\n",
       "      <td>27.0</td>\n",
       "      <td>4</td>\n",
       "      <td>140.0</td>\n",
       "      <td>86.00</td>\n",
       "      <td>2790.0</td>\n",
       "      <td>15.6</td>\n",
       "      <td>82</td>\n",
       "      <td>1</td>\n",
       "      <td>ford mustang gl</td>\n",
       "    </tr>\n",
       "    <tr>\n",
       "      <th>394</th>\n",
       "      <td>44.0</td>\n",
       "      <td>4</td>\n",
       "      <td>97.0</td>\n",
       "      <td>52.00</td>\n",
       "      <td>2130.0</td>\n",
       "      <td>24.6</td>\n",
       "      <td>82</td>\n",
       "      <td>2</td>\n",
       "      <td>vw pickup</td>\n",
       "    </tr>\n",
       "    <tr>\n",
       "      <th>395</th>\n",
       "      <td>32.0</td>\n",
       "      <td>4</td>\n",
       "      <td>135.0</td>\n",
       "      <td>84.00</td>\n",
       "      <td>2295.0</td>\n",
       "      <td>11.6</td>\n",
       "      <td>82</td>\n",
       "      <td>1</td>\n",
       "      <td>dodge rampage</td>\n",
       "    </tr>\n",
       "    <tr>\n",
       "      <th>396</th>\n",
       "      <td>28.0</td>\n",
       "      <td>4</td>\n",
       "      <td>120.0</td>\n",
       "      <td>79.00</td>\n",
       "      <td>2625.0</td>\n",
       "      <td>18.6</td>\n",
       "      <td>82</td>\n",
       "      <td>1</td>\n",
       "      <td>ford ranger</td>\n",
       "    </tr>\n",
       "    <tr>\n",
       "      <th>397</th>\n",
       "      <td>31.0</td>\n",
       "      <td>4</td>\n",
       "      <td>119.0</td>\n",
       "      <td>82.00</td>\n",
       "      <td>2720.0</td>\n",
       "      <td>19.4</td>\n",
       "      <td>82</td>\n",
       "      <td>1</td>\n",
       "      <td>chevy s-10</td>\n",
       "    </tr>\n",
       "  </tbody>\n",
       "</table>\n",
       "<p>398 rows × 9 columns</p>\n",
       "</div>"
      ],
      "text/plain": [
       "     mpeg  cylinders  displacement horsepower  weight  acceleration  \\\n",
       "0    18.0          8         307.0      130.0  3504.0          12.0   \n",
       "1    15.0          8         350.0      165.0  3693.0          11.5   \n",
       "2    18.0          8         318.0      150.0  3436.0          11.0   \n",
       "3    16.0          8         304.0      150.0  3433.0          12.0   \n",
       "4    17.0          8         302.0      140.0  3449.0          10.5   \n",
       "..    ...        ...           ...        ...     ...           ...   \n",
       "393  27.0          4         140.0      86.00  2790.0          15.6   \n",
       "394  44.0          4          97.0      52.00  2130.0          24.6   \n",
       "395  32.0          4         135.0      84.00  2295.0          11.6   \n",
       "396  28.0          4         120.0      79.00  2625.0          18.6   \n",
       "397  31.0          4         119.0      82.00  2720.0          19.4   \n",
       "\n",
       "     model year  origin                       name  \n",
       "0            70       1  chevrolet chevelle malibu  \n",
       "1            70       1          buick skylark 320  \n",
       "2            70       1         plymouth satellite  \n",
       "3            70       1              amc rebel sst  \n",
       "4            70       1                ford torino  \n",
       "..          ...     ...                        ...  \n",
       "393          82       1            ford mustang gl  \n",
       "394          82       2                  vw pickup  \n",
       "395          82       1              dodge rampage  \n",
       "396          82       1                ford ranger  \n",
       "397          82       1                 chevy s-10  \n",
       "\n",
       "[398 rows x 9 columns]"
      ]
     },
     "execution_count": 11,
     "metadata": {},
     "output_type": "execute_result"
    }
   ],
   "source": [
    "df"
   ]
  },
  {
   "cell_type": "code",
   "execution_count": 12,
   "id": "3fa2274f-d9d5-4d04-90e3-acd5fd805dc2",
   "metadata": {},
   "outputs": [],
   "source": [
    "mpg_to_kpl = 1.6093 / 3.78541\n",
    "df['kpl'] = (df['mpeg'] * mpg_to_kpl).round(2)"
   ]
  },
  {
   "cell_type": "code",
   "execution_count": 13,
   "id": "92c94615-4d91-438d-a1ca-b2322fb414dc",
   "metadata": {},
   "outputs": [
    {
     "data": {
      "text/html": [
       "<div>\n",
       "<style scoped>\n",
       "    .dataframe tbody tr th:only-of-type {\n",
       "        vertical-align: middle;\n",
       "    }\n",
       "\n",
       "    .dataframe tbody tr th {\n",
       "        vertical-align: top;\n",
       "    }\n",
       "\n",
       "    .dataframe thead th {\n",
       "        text-align: right;\n",
       "    }\n",
       "</style>\n",
       "<table border=\"1\" class=\"dataframe\">\n",
       "  <thead>\n",
       "    <tr style=\"text-align: right;\">\n",
       "      <th></th>\n",
       "      <th>mpeg</th>\n",
       "      <th>cylinders</th>\n",
       "      <th>displacement</th>\n",
       "      <th>horsepower</th>\n",
       "      <th>weight</th>\n",
       "      <th>acceleration</th>\n",
       "      <th>model year</th>\n",
       "      <th>origin</th>\n",
       "      <th>name</th>\n",
       "      <th>kpl</th>\n",
       "    </tr>\n",
       "  </thead>\n",
       "  <tbody>\n",
       "    <tr>\n",
       "      <th>0</th>\n",
       "      <td>18.0</td>\n",
       "      <td>8</td>\n",
       "      <td>307.0</td>\n",
       "      <td>130.0</td>\n",
       "      <td>3504.0</td>\n",
       "      <td>12.0</td>\n",
       "      <td>70</td>\n",
       "      <td>1</td>\n",
       "      <td>chevrolet chevelle malibu</td>\n",
       "      <td>7.65</td>\n",
       "    </tr>\n",
       "    <tr>\n",
       "      <th>1</th>\n",
       "      <td>15.0</td>\n",
       "      <td>8</td>\n",
       "      <td>350.0</td>\n",
       "      <td>165.0</td>\n",
       "      <td>3693.0</td>\n",
       "      <td>11.5</td>\n",
       "      <td>70</td>\n",
       "      <td>1</td>\n",
       "      <td>buick skylark 320</td>\n",
       "      <td>6.38</td>\n",
       "    </tr>\n",
       "    <tr>\n",
       "      <th>2</th>\n",
       "      <td>18.0</td>\n",
       "      <td>8</td>\n",
       "      <td>318.0</td>\n",
       "      <td>150.0</td>\n",
       "      <td>3436.0</td>\n",
       "      <td>11.0</td>\n",
       "      <td>70</td>\n",
       "      <td>1</td>\n",
       "      <td>plymouth satellite</td>\n",
       "      <td>7.65</td>\n",
       "    </tr>\n",
       "    <tr>\n",
       "      <th>3</th>\n",
       "      <td>16.0</td>\n",
       "      <td>8</td>\n",
       "      <td>304.0</td>\n",
       "      <td>150.0</td>\n",
       "      <td>3433.0</td>\n",
       "      <td>12.0</td>\n",
       "      <td>70</td>\n",
       "      <td>1</td>\n",
       "      <td>amc rebel sst</td>\n",
       "      <td>6.80</td>\n",
       "    </tr>\n",
       "    <tr>\n",
       "      <th>4</th>\n",
       "      <td>17.0</td>\n",
       "      <td>8</td>\n",
       "      <td>302.0</td>\n",
       "      <td>140.0</td>\n",
       "      <td>3449.0</td>\n",
       "      <td>10.5</td>\n",
       "      <td>70</td>\n",
       "      <td>1</td>\n",
       "      <td>ford torino</td>\n",
       "      <td>7.23</td>\n",
       "    </tr>\n",
       "  </tbody>\n",
       "</table>\n",
       "</div>"
      ],
      "text/plain": [
       "   mpeg  cylinders  displacement horsepower  weight  acceleration  model year  \\\n",
       "0  18.0          8         307.0      130.0  3504.0          12.0          70   \n",
       "1  15.0          8         350.0      165.0  3693.0          11.5          70   \n",
       "2  18.0          8         318.0      150.0  3436.0          11.0          70   \n",
       "3  16.0          8         304.0      150.0  3433.0          12.0          70   \n",
       "4  17.0          8         302.0      140.0  3449.0          10.5          70   \n",
       "\n",
       "   origin                       name   kpl  \n",
       "0       1  chevrolet chevelle malibu  7.65  \n",
       "1       1          buick skylark 320  6.38  \n",
       "2       1         plymouth satellite  7.65  \n",
       "3       1              amc rebel sst  6.80  \n",
       "4       1                ford torino  7.23  "
      ]
     },
     "execution_count": 13,
     "metadata": {},
     "output_type": "execute_result"
    }
   ],
   "source": [
    "df.head()"
   ]
  },
  {
   "cell_type": "markdown",
   "id": "0049d2ec-aed2-40af-a0b0-7d05b1b93ff1",
   "metadata": {},
   "source": [
    "# 자료형 변환\n",
    "    숫자가 문자열(object)로 저장된 경우 숫자형으로 변환\n",
    "    각 열의 자료형을 확인 - info() datatypes"
   ]
  },
  {
   "cell_type": "code",
   "execution_count": 14,
   "id": "a7d672d7-a22e-42bd-ab7e-95dee7b8dea6",
   "metadata": {},
   "outputs": [
    {
     "data": {
      "text/plain": [
       "mpeg            float64\n",
       "cylinders         int64\n",
       "displacement    float64\n",
       "horsepower       object\n",
       "weight          float64\n",
       "acceleration    float64\n",
       "model year        int64\n",
       "origin            int64\n",
       "name             object\n",
       "kpl             float64\n",
       "dtype: object"
      ]
     },
     "execution_count": 14,
     "metadata": {},
     "output_type": "execute_result"
    }
   ],
   "source": [
    "df.dtypes"
   ]
  },
  {
   "cell_type": "code",
   "execution_count": 15,
   "id": "02061674-4116-412f-a1d4-81d46c819cbb",
   "metadata": {},
   "outputs": [],
   "source": [
    "# model year, origin은 범주형 데이터\n",
    "# horsepower는 수치형\n",
    "# tip, csv로 가져올 때 원래 수치형 데이터였는데 컬럼중에 문자열이 하나라도 포함되어 있으면 object로 변환해서 가져온다\n",
    "# 확인방법"
   ]
  },
  {
   "cell_type": "code",
   "execution_count": 16,
   "id": "4ea0c97b-c07c-4ba9-b0f0-4f1d60c8fa49",
   "metadata": {},
   "outputs": [
    {
     "data": {
      "text/plain": [
       "array(['130.0', '165.0', '150.0', '140.0', '198.0', '220.0', '215.0',\n",
       "       '225.0', '190.0', '170.0', '160.0', '95.00', '97.00', '85.00',\n",
       "       '88.00', '46.00', '87.00', '90.00', '113.0', '200.0', '210.0',\n",
       "       '193.0', '?', '100.0', '105.0', '175.0', '153.0', '180.0', '110.0',\n",
       "       '72.00', '86.00', '70.00', '76.00', '65.00', '69.00', '60.00',\n",
       "       '80.00', '54.00', '208.0', '155.0', '112.0', '92.00', '145.0',\n",
       "       '137.0', '158.0', '167.0', '94.00', '107.0', '230.0', '49.00',\n",
       "       '75.00', '91.00', '122.0', '67.00', '83.00', '78.00', '52.00',\n",
       "       '61.00', '93.00', '148.0', '129.0', '96.00', '71.00', '98.00',\n",
       "       '115.0', '53.00', '81.00', '79.00', '120.0', '152.0', '102.0',\n",
       "       '108.0', '68.00', '58.00', '149.0', '89.00', '63.00', '48.00',\n",
       "       '66.00', '139.0', '103.0', '125.0', '133.0', '138.0', '135.0',\n",
       "       '142.0', '77.00', '62.00', '132.0', '84.00', '64.00', '74.00',\n",
       "       '116.0', '82.00'], dtype=object)"
      ]
     },
     "execution_count": 16,
     "metadata": {},
     "output_type": "execute_result"
    }
   ],
   "source": [
    "df['horsepower'].unique()"
   ]
  },
  {
   "cell_type": "code",
   "execution_count": 18,
   "id": "ee41de03-7cec-484e-a202-73cf5a4a5120",
   "metadata": {},
   "outputs": [],
   "source": [
    "import numpy as np\n",
    "df['horsepower'].replace('?', np.nan, inplace=True)"
   ]
  },
  {
   "cell_type": "code",
   "execution_count": 19,
   "id": "a3651a0d-ac18-407a-bea5-e88656afe429",
   "metadata": {},
   "outputs": [
    {
     "data": {
      "text/html": [
       "<div>\n",
       "<style scoped>\n",
       "    .dataframe tbody tr th:only-of-type {\n",
       "        vertical-align: middle;\n",
       "    }\n",
       "\n",
       "    .dataframe tbody tr th {\n",
       "        vertical-align: top;\n",
       "    }\n",
       "\n",
       "    .dataframe thead th {\n",
       "        text-align: right;\n",
       "    }\n",
       "</style>\n",
       "<table border=\"1\" class=\"dataframe\">\n",
       "  <thead>\n",
       "    <tr style=\"text-align: right;\">\n",
       "      <th></th>\n",
       "      <th>mpeg</th>\n",
       "      <th>cylinders</th>\n",
       "      <th>displacement</th>\n",
       "      <th>horsepower</th>\n",
       "      <th>weight</th>\n",
       "      <th>acceleration</th>\n",
       "      <th>model year</th>\n",
       "      <th>origin</th>\n",
       "      <th>name</th>\n",
       "      <th>kpl</th>\n",
       "    </tr>\n",
       "  </thead>\n",
       "  <tbody>\n",
       "    <tr>\n",
       "      <th>32</th>\n",
       "      <td>25.0</td>\n",
       "      <td>4</td>\n",
       "      <td>98.0</td>\n",
       "      <td>NaN</td>\n",
       "      <td>2046.0</td>\n",
       "      <td>19.0</td>\n",
       "      <td>71</td>\n",
       "      <td>1</td>\n",
       "      <td>ford pinto</td>\n",
       "      <td>10.63</td>\n",
       "    </tr>\n",
       "    <tr>\n",
       "      <th>126</th>\n",
       "      <td>21.0</td>\n",
       "      <td>6</td>\n",
       "      <td>200.0</td>\n",
       "      <td>NaN</td>\n",
       "      <td>2875.0</td>\n",
       "      <td>17.0</td>\n",
       "      <td>74</td>\n",
       "      <td>1</td>\n",
       "      <td>ford maverick</td>\n",
       "      <td>8.93</td>\n",
       "    </tr>\n",
       "    <tr>\n",
       "      <th>330</th>\n",
       "      <td>40.9</td>\n",
       "      <td>4</td>\n",
       "      <td>85.0</td>\n",
       "      <td>NaN</td>\n",
       "      <td>1835.0</td>\n",
       "      <td>17.3</td>\n",
       "      <td>80</td>\n",
       "      <td>2</td>\n",
       "      <td>renault lecar deluxe</td>\n",
       "      <td>17.39</td>\n",
       "    </tr>\n",
       "    <tr>\n",
       "      <th>336</th>\n",
       "      <td>23.6</td>\n",
       "      <td>4</td>\n",
       "      <td>140.0</td>\n",
       "      <td>NaN</td>\n",
       "      <td>2905.0</td>\n",
       "      <td>14.3</td>\n",
       "      <td>80</td>\n",
       "      <td>1</td>\n",
       "      <td>ford mustang cobra</td>\n",
       "      <td>10.03</td>\n",
       "    </tr>\n",
       "    <tr>\n",
       "      <th>354</th>\n",
       "      <td>34.5</td>\n",
       "      <td>4</td>\n",
       "      <td>100.0</td>\n",
       "      <td>NaN</td>\n",
       "      <td>2320.0</td>\n",
       "      <td>15.8</td>\n",
       "      <td>81</td>\n",
       "      <td>2</td>\n",
       "      <td>renault 18i</td>\n",
       "      <td>14.67</td>\n",
       "    </tr>\n",
       "    <tr>\n",
       "      <th>374</th>\n",
       "      <td>23.0</td>\n",
       "      <td>4</td>\n",
       "      <td>151.0</td>\n",
       "      <td>NaN</td>\n",
       "      <td>3035.0</td>\n",
       "      <td>20.5</td>\n",
       "      <td>82</td>\n",
       "      <td>1</td>\n",
       "      <td>amc concord dl</td>\n",
       "      <td>9.78</td>\n",
       "    </tr>\n",
       "  </tbody>\n",
       "</table>\n",
       "</div>"
      ],
      "text/plain": [
       "     mpeg  cylinders  displacement horsepower  weight  acceleration  \\\n",
       "32   25.0          4          98.0        NaN  2046.0          19.0   \n",
       "126  21.0          6         200.0        NaN  2875.0          17.0   \n",
       "330  40.9          4          85.0        NaN  1835.0          17.3   \n",
       "336  23.6          4         140.0        NaN  2905.0          14.3   \n",
       "354  34.5          4         100.0        NaN  2320.0          15.8   \n",
       "374  23.0          4         151.0        NaN  3035.0          20.5   \n",
       "\n",
       "     model year  origin                  name    kpl  \n",
       "32           71       1            ford pinto  10.63  \n",
       "126          74       1         ford maverick   8.93  \n",
       "330          80       2  renault lecar deluxe  17.39  \n",
       "336          80       1    ford mustang cobra  10.03  \n",
       "354          81       2           renault 18i  14.67  \n",
       "374          82       1        amc concord dl   9.78  "
      ]
     },
     "execution_count": 19,
     "metadata": {},
     "output_type": "execute_result"
    }
   ],
   "source": [
    "df[df['horsepower'].isnull()]"
   ]
  },
  {
   "cell_type": "code",
   "execution_count": 20,
   "id": "c1082f41-d4a3-4c1b-909e-0f52908f8cd4",
   "metadata": {},
   "outputs": [],
   "source": [
    "df.dropna(subset=['horsepower'], axis=0,inplace=True)"
   ]
  },
  {
   "cell_type": "code",
   "execution_count": 21,
   "id": "0caf26fe-06a8-4433-89e0-f67732950c8b",
   "metadata": {},
   "outputs": [
    {
     "data": {
      "text/plain": [
       "array(['130.0', '165.0', '150.0', '140.0', '198.0', '220.0', '215.0',\n",
       "       '225.0', '190.0', '170.0', '160.0', '95.00', '97.00', '85.00',\n",
       "       '88.00', '46.00', '87.00', '90.00', '113.0', '200.0', '210.0',\n",
       "       '193.0', '100.0', '105.0', '175.0', '153.0', '180.0', '110.0',\n",
       "       '72.00', '86.00', '70.00', '76.00', '65.00', '69.00', '60.00',\n",
       "       '80.00', '54.00', '208.0', '155.0', '112.0', '92.00', '145.0',\n",
       "       '137.0', '158.0', '167.0', '94.00', '107.0', '230.0', '49.00',\n",
       "       '75.00', '91.00', '122.0', '67.00', '83.00', '78.00', '52.00',\n",
       "       '61.00', '93.00', '148.0', '129.0', '96.00', '71.00', '98.00',\n",
       "       '115.0', '53.00', '81.00', '79.00', '120.0', '152.0', '102.0',\n",
       "       '108.0', '68.00', '58.00', '149.0', '89.00', '63.00', '48.00',\n",
       "       '66.00', '139.0', '103.0', '125.0', '133.0', '138.0', '135.0',\n",
       "       '142.0', '77.00', '62.00', '132.0', '84.00', '64.00', '74.00',\n",
       "       '116.0', '82.00'], dtype=object)"
      ]
     },
     "execution_count": 21,
     "metadata": {},
     "output_type": "execute_result"
    }
   ],
   "source": [
    "df.horsepower.unique()"
   ]
  },
  {
   "cell_type": "code",
   "execution_count": 22,
   "id": "60ebeaef-0877-4ee6-98ec-fd028034185c",
   "metadata": {},
   "outputs": [
    {
     "data": {
      "text/plain": [
       "array([1, 3, 2], dtype=int64)"
      ]
     },
     "execution_count": 22,
     "metadata": {},
     "output_type": "execute_result"
    }
   ],
   "source": [
    "df.origin.unique()"
   ]
  },
  {
   "cell_type": "code",
   "execution_count": 23,
   "id": "7c18e6b8-4cd1-40b5-a343-7dca707675a7",
   "metadata": {},
   "outputs": [],
   "source": [
    "df['origin_obj'] = df['origin'].replace({1:'USA', 2:'EU', 3:'JPN'})"
   ]
  },
  {
   "cell_type": "code",
   "execution_count": 24,
   "id": "9f0f6c5f-d35a-41eb-9b67-4a20ca7bd8a3",
   "metadata": {},
   "outputs": [
    {
     "data": {
      "text/html": [
       "<div>\n",
       "<style scoped>\n",
       "    .dataframe tbody tr th:only-of-type {\n",
       "        vertical-align: middle;\n",
       "    }\n",
       "\n",
       "    .dataframe tbody tr th {\n",
       "        vertical-align: top;\n",
       "    }\n",
       "\n",
       "    .dataframe thead th {\n",
       "        text-align: right;\n",
       "    }\n",
       "</style>\n",
       "<table border=\"1\" class=\"dataframe\">\n",
       "  <thead>\n",
       "    <tr style=\"text-align: right;\">\n",
       "      <th></th>\n",
       "      <th>mpeg</th>\n",
       "      <th>cylinders</th>\n",
       "      <th>displacement</th>\n",
       "      <th>horsepower</th>\n",
       "      <th>weight</th>\n",
       "      <th>acceleration</th>\n",
       "      <th>model year</th>\n",
       "      <th>origin</th>\n",
       "      <th>name</th>\n",
       "      <th>kpl</th>\n",
       "      <th>origin_obj</th>\n",
       "    </tr>\n",
       "  </thead>\n",
       "  <tbody>\n",
       "    <tr>\n",
       "      <th>0</th>\n",
       "      <td>18.0</td>\n",
       "      <td>8</td>\n",
       "      <td>307.0</td>\n",
       "      <td>130.0</td>\n",
       "      <td>3504.0</td>\n",
       "      <td>12.0</td>\n",
       "      <td>70</td>\n",
       "      <td>1</td>\n",
       "      <td>chevrolet chevelle malibu</td>\n",
       "      <td>7.65</td>\n",
       "      <td>USA</td>\n",
       "    </tr>\n",
       "    <tr>\n",
       "      <th>1</th>\n",
       "      <td>15.0</td>\n",
       "      <td>8</td>\n",
       "      <td>350.0</td>\n",
       "      <td>165.0</td>\n",
       "      <td>3693.0</td>\n",
       "      <td>11.5</td>\n",
       "      <td>70</td>\n",
       "      <td>1</td>\n",
       "      <td>buick skylark 320</td>\n",
       "      <td>6.38</td>\n",
       "      <td>USA</td>\n",
       "    </tr>\n",
       "    <tr>\n",
       "      <th>2</th>\n",
       "      <td>18.0</td>\n",
       "      <td>8</td>\n",
       "      <td>318.0</td>\n",
       "      <td>150.0</td>\n",
       "      <td>3436.0</td>\n",
       "      <td>11.0</td>\n",
       "      <td>70</td>\n",
       "      <td>1</td>\n",
       "      <td>plymouth satellite</td>\n",
       "      <td>7.65</td>\n",
       "      <td>USA</td>\n",
       "    </tr>\n",
       "    <tr>\n",
       "      <th>3</th>\n",
       "      <td>16.0</td>\n",
       "      <td>8</td>\n",
       "      <td>304.0</td>\n",
       "      <td>150.0</td>\n",
       "      <td>3433.0</td>\n",
       "      <td>12.0</td>\n",
       "      <td>70</td>\n",
       "      <td>1</td>\n",
       "      <td>amc rebel sst</td>\n",
       "      <td>6.80</td>\n",
       "      <td>USA</td>\n",
       "    </tr>\n",
       "    <tr>\n",
       "      <th>4</th>\n",
       "      <td>17.0</td>\n",
       "      <td>8</td>\n",
       "      <td>302.0</td>\n",
       "      <td>140.0</td>\n",
       "      <td>3449.0</td>\n",
       "      <td>10.5</td>\n",
       "      <td>70</td>\n",
       "      <td>1</td>\n",
       "      <td>ford torino</td>\n",
       "      <td>7.23</td>\n",
       "      <td>USA</td>\n",
       "    </tr>\n",
       "  </tbody>\n",
       "</table>\n",
       "</div>"
      ],
      "text/plain": [
       "   mpeg  cylinders  displacement horsepower  weight  acceleration  model year  \\\n",
       "0  18.0          8         307.0      130.0  3504.0          12.0          70   \n",
       "1  15.0          8         350.0      165.0  3693.0          11.5          70   \n",
       "2  18.0          8         318.0      150.0  3436.0          11.0          70   \n",
       "3  16.0          8         304.0      150.0  3433.0          12.0          70   \n",
       "4  17.0          8         302.0      140.0  3449.0          10.5          70   \n",
       "\n",
       "   origin                       name   kpl origin_obj  \n",
       "0       1  chevrolet chevelle malibu  7.65        USA  \n",
       "1       1          buick skylark 320  6.38        USA  \n",
       "2       1         plymouth satellite  7.65        USA  \n",
       "3       1              amc rebel sst  6.80        USA  \n",
       "4       1                ford torino  7.23        USA  "
      ]
     },
     "execution_count": 24,
     "metadata": {},
     "output_type": "execute_result"
    }
   ],
   "source": [
    "df.head()"
   ]
  },
  {
   "cell_type": "code",
   "execution_count": 25,
   "id": "8fc81b86-1516-45c2-bb0e-204c497f9012",
   "metadata": {},
   "outputs": [],
   "source": [
    "df['origin_obj'] = df['origin_obj'].astype('category')"
   ]
  },
  {
   "cell_type": "code",
   "execution_count": 26,
   "id": "84951bc4-759f-4839-8d70-89e48cb3e7b3",
   "metadata": {},
   "outputs": [
    {
     "name": "stdout",
     "output_type": "stream",
     "text": [
      "<class 'pandas.core.frame.DataFrame'>\n",
      "Int64Index: 392 entries, 0 to 397\n",
      "Data columns (total 11 columns):\n",
      " #   Column        Non-Null Count  Dtype   \n",
      "---  ------        --------------  -----   \n",
      " 0   mpeg          392 non-null    float64 \n",
      " 1   cylinders     392 non-null    int64   \n",
      " 2   displacement  392 non-null    float64 \n",
      " 3   horsepower    392 non-null    object  \n",
      " 4   weight        392 non-null    float64 \n",
      " 5   acceleration  392 non-null    float64 \n",
      " 6   model year    392 non-null    int64   \n",
      " 7   origin        392 non-null    int64   \n",
      " 8   name          392 non-null    object  \n",
      " 9   kpl           392 non-null    float64 \n",
      " 10  origin_obj    392 non-null    category\n",
      "dtypes: category(1), float64(5), int64(3), object(2)\n",
      "memory usage: 34.2+ KB\n"
     ]
    }
   ],
   "source": [
    "df.info()"
   ]
  },
  {
   "cell_type": "code",
   "execution_count": 27,
   "id": "915506ae-e04b-4efa-b8d3-6200d5988093",
   "metadata": {},
   "outputs": [
    {
     "data": {
      "text/plain": [
       "279    78\n",
       "313    80\n",
       "117    73\n",
       "Name: model year, dtype: int64"
      ]
     },
     "execution_count": 27,
     "metadata": {},
     "output_type": "execute_result"
    }
   ],
   "source": [
    "df['model year'].sample(3)"
   ]
  },
  {
   "cell_type": "code",
   "execution_count": 34,
   "id": "2015800a-88bc-4879-89a8-5fd017046962",
   "metadata": {},
   "outputs": [],
   "source": [
    "df.horsepower = df.horsepower.astype('float')"
   ]
  },
  {
   "cell_type": "markdown",
   "id": "d4cd3352-d16a-4a7e-b6f3-96a6ac12d7bd",
   "metadata": {},
   "source": [
    "# 범주형 카테고리 데이터 처리\n",
    "    구간을 정하기 애매할때"
   ]
  },
  {
   "cell_type": "code",
   "execution_count": 35,
   "id": "f50d6bc4-06a7-4b5e-8f51-1b1b33803dce",
   "metadata": {},
   "outputs": [],
   "source": [
    "count, bin_divide = np.histogram(df.horsepower, bins=3)"
   ]
  },
  {
   "cell_type": "code",
   "execution_count": 37,
   "id": "3c0dad0b-95b2-4404-beec-1056d5a77634",
   "metadata": {},
   "outputs": [
    {
     "data": {
      "text/html": [
       "<div>\n",
       "<style scoped>\n",
       "    .dataframe tbody tr th:only-of-type {\n",
       "        vertical-align: middle;\n",
       "    }\n",
       "\n",
       "    .dataframe tbody tr th {\n",
       "        vertical-align: top;\n",
       "    }\n",
       "\n",
       "    .dataframe thead th {\n",
       "        text-align: right;\n",
       "    }\n",
       "</style>\n",
       "<table border=\"1\" class=\"dataframe\">\n",
       "  <thead>\n",
       "    <tr style=\"text-align: right;\">\n",
       "      <th></th>\n",
       "      <th>mpeg</th>\n",
       "      <th>cylinders</th>\n",
       "      <th>displacement</th>\n",
       "      <th>horsepower</th>\n",
       "      <th>weight</th>\n",
       "      <th>acceleration</th>\n",
       "      <th>model year</th>\n",
       "      <th>origin</th>\n",
       "      <th>name</th>\n",
       "      <th>kpl</th>\n",
       "      <th>origin_obj</th>\n",
       "      <th>hp_bin</th>\n",
       "    </tr>\n",
       "  </thead>\n",
       "  <tbody>\n",
       "    <tr>\n",
       "      <th>0</th>\n",
       "      <td>18.0</td>\n",
       "      <td>8</td>\n",
       "      <td>307.0</td>\n",
       "      <td>130.0</td>\n",
       "      <td>3504.0</td>\n",
       "      <td>12.0</td>\n",
       "      <td>70</td>\n",
       "      <td>1</td>\n",
       "      <td>chevrolet chevelle malibu</td>\n",
       "      <td>7.65</td>\n",
       "      <td>USA</td>\n",
       "      <td>보통출력</td>\n",
       "    </tr>\n",
       "    <tr>\n",
       "      <th>1</th>\n",
       "      <td>15.0</td>\n",
       "      <td>8</td>\n",
       "      <td>350.0</td>\n",
       "      <td>165.0</td>\n",
       "      <td>3693.0</td>\n",
       "      <td>11.5</td>\n",
       "      <td>70</td>\n",
       "      <td>1</td>\n",
       "      <td>buick skylark 320</td>\n",
       "      <td>6.38</td>\n",
       "      <td>USA</td>\n",
       "      <td>보통출력</td>\n",
       "    </tr>\n",
       "    <tr>\n",
       "      <th>2</th>\n",
       "      <td>18.0</td>\n",
       "      <td>8</td>\n",
       "      <td>318.0</td>\n",
       "      <td>150.0</td>\n",
       "      <td>3436.0</td>\n",
       "      <td>11.0</td>\n",
       "      <td>70</td>\n",
       "      <td>1</td>\n",
       "      <td>plymouth satellite</td>\n",
       "      <td>7.65</td>\n",
       "      <td>USA</td>\n",
       "      <td>보통출력</td>\n",
       "    </tr>\n",
       "    <tr>\n",
       "      <th>3</th>\n",
       "      <td>16.0</td>\n",
       "      <td>8</td>\n",
       "      <td>304.0</td>\n",
       "      <td>150.0</td>\n",
       "      <td>3433.0</td>\n",
       "      <td>12.0</td>\n",
       "      <td>70</td>\n",
       "      <td>1</td>\n",
       "      <td>amc rebel sst</td>\n",
       "      <td>6.80</td>\n",
       "      <td>USA</td>\n",
       "      <td>보통출력</td>\n",
       "    </tr>\n",
       "    <tr>\n",
       "      <th>4</th>\n",
       "      <td>17.0</td>\n",
       "      <td>8</td>\n",
       "      <td>302.0</td>\n",
       "      <td>140.0</td>\n",
       "      <td>3449.0</td>\n",
       "      <td>10.5</td>\n",
       "      <td>70</td>\n",
       "      <td>1</td>\n",
       "      <td>ford torino</td>\n",
       "      <td>7.23</td>\n",
       "      <td>USA</td>\n",
       "      <td>보통출력</td>\n",
       "    </tr>\n",
       "  </tbody>\n",
       "</table>\n",
       "</div>"
      ],
      "text/plain": [
       "   mpeg  cylinders  displacement  horsepower  weight  acceleration  \\\n",
       "0  18.0          8         307.0       130.0  3504.0          12.0   \n",
       "1  15.0          8         350.0       165.0  3693.0          11.5   \n",
       "2  18.0          8         318.0       150.0  3436.0          11.0   \n",
       "3  16.0          8         304.0       150.0  3433.0          12.0   \n",
       "4  17.0          8         302.0       140.0  3449.0          10.5   \n",
       "\n",
       "   model year  origin                       name   kpl origin_obj hp_bin  \n",
       "0          70       1  chevrolet chevelle malibu  7.65        USA   보통출력  \n",
       "1          70       1          buick skylark 320  6.38        USA   보통출력  \n",
       "2          70       1         plymouth satellite  7.65        USA   보통출력  \n",
       "3          70       1              amc rebel sst  6.80        USA   보통출력  \n",
       "4          70       1                ford torino  7.23        USA   보통출력  "
      ]
     },
     "execution_count": 37,
     "metadata": {},
     "output_type": "execute_result"
    }
   ],
   "source": [
    "bin_names = ['저출력', '보통출력', '고출력']\n",
    "df['hp_bin'] = pd.cut(x=df['horsepower'],\n",
    "                      bins=bin_divide,\n",
    "                      labels=bin_names,\n",
    "                      include_lowest=True\n",
    "                     )\n",
    "df.head()"
   ]
  },
  {
   "cell_type": "code",
   "execution_count": 38,
   "id": "476d7201-77e5-45f4-a3be-4547b099a7d8",
   "metadata": {},
   "outputs": [
    {
     "data": {
      "text/plain": [
       "['보통출력', '고출력', '저출력']\n",
       "Categories (3, object): ['저출력' < '보통출력' < '고출력']"
      ]
     },
     "execution_count": 38,
     "metadata": {},
     "output_type": "execute_result"
    }
   ],
   "source": [
    "df.hp_bin.unique()"
   ]
  },
  {
   "cell_type": "code",
   "execution_count": 39,
   "id": "ba6961cc-3fea-46d4-a6b7-647ebaeb3b9d",
   "metadata": {},
   "outputs": [
    {
     "data": {
      "text/html": [
       "<div>\n",
       "<style scoped>\n",
       "    .dataframe tbody tr th:only-of-type {\n",
       "        vertical-align: middle;\n",
       "    }\n",
       "\n",
       "    .dataframe tbody tr th {\n",
       "        vertical-align: top;\n",
       "    }\n",
       "\n",
       "    .dataframe thead th {\n",
       "        text-align: right;\n",
       "    }\n",
       "</style>\n",
       "<table border=\"1\" class=\"dataframe\">\n",
       "  <thead>\n",
       "    <tr style=\"text-align: right;\">\n",
       "      <th></th>\n",
       "      <th>horsepower</th>\n",
       "      <th>hp_bin</th>\n",
       "    </tr>\n",
       "  </thead>\n",
       "  <tbody>\n",
       "    <tr>\n",
       "      <th>0</th>\n",
       "      <td>130.0</td>\n",
       "      <td>보통출력</td>\n",
       "    </tr>\n",
       "    <tr>\n",
       "      <th>1</th>\n",
       "      <td>165.0</td>\n",
       "      <td>보통출력</td>\n",
       "    </tr>\n",
       "    <tr>\n",
       "      <th>2</th>\n",
       "      <td>150.0</td>\n",
       "      <td>보통출력</td>\n",
       "    </tr>\n",
       "    <tr>\n",
       "      <th>3</th>\n",
       "      <td>150.0</td>\n",
       "      <td>보통출력</td>\n",
       "    </tr>\n",
       "    <tr>\n",
       "      <th>4</th>\n",
       "      <td>140.0</td>\n",
       "      <td>보통출력</td>\n",
       "    </tr>\n",
       "    <tr>\n",
       "      <th>...</th>\n",
       "      <td>...</td>\n",
       "      <td>...</td>\n",
       "    </tr>\n",
       "    <tr>\n",
       "      <th>393</th>\n",
       "      <td>86.0</td>\n",
       "      <td>저출력</td>\n",
       "    </tr>\n",
       "    <tr>\n",
       "      <th>394</th>\n",
       "      <td>52.0</td>\n",
       "      <td>저출력</td>\n",
       "    </tr>\n",
       "    <tr>\n",
       "      <th>395</th>\n",
       "      <td>84.0</td>\n",
       "      <td>저출력</td>\n",
       "    </tr>\n",
       "    <tr>\n",
       "      <th>396</th>\n",
       "      <td>79.0</td>\n",
       "      <td>저출력</td>\n",
       "    </tr>\n",
       "    <tr>\n",
       "      <th>397</th>\n",
       "      <td>82.0</td>\n",
       "      <td>저출력</td>\n",
       "    </tr>\n",
       "  </tbody>\n",
       "</table>\n",
       "<p>392 rows × 2 columns</p>\n",
       "</div>"
      ],
      "text/plain": [
       "     horsepower hp_bin\n",
       "0         130.0   보통출력\n",
       "1         165.0   보통출력\n",
       "2         150.0   보통출력\n",
       "3         150.0   보통출력\n",
       "4         140.0   보통출력\n",
       "..          ...    ...\n",
       "393        86.0    저출력\n",
       "394        52.0    저출력\n",
       "395        84.0    저출력\n",
       "396        79.0    저출력\n",
       "397        82.0    저출력\n",
       "\n",
       "[392 rows x 2 columns]"
      ]
     },
     "execution_count": 39,
     "metadata": {},
     "output_type": "execute_result"
    }
   ],
   "source": [
    "df[['horsepower','hp_bin']]"
   ]
  },
  {
   "cell_type": "markdown",
   "id": "deb067db-4017-4a8b-a373-9679e5c93b95",
   "metadata": {},
   "source": [
    "# 더미변수\n",
    "    hp_bin 같은 경우는 바로 머신러닝에서 사용불가, 수치가 아니기 때문에\n",
    "    데이터의 속성은 제거하면서 어떤 특성(Feature)이 있는지 없는지 여부만 표시\n",
    "    0과 1로 표현\n",
    "    010\n",
    "    100\n",
    "    001"
   ]
  },
  {
   "cell_type": "code",
   "execution_count": 41,
   "id": "60e9b638-6623-4b02-a20d-c375aa672b10",
   "metadata": {},
   "outputs": [],
   "source": [
    "horsepower_dums = pd.get_dummies(df['hp_bin'])"
   ]
  },
  {
   "cell_type": "code",
   "execution_count": 43,
   "id": "bfcac90c-ce67-40ab-9006-84464ed249a5",
   "metadata": {},
   "outputs": [
    {
     "name": "stdout",
     "output_type": "stream",
     "text": [
      "Collecting scikit-learn\n",
      "  Downloading scikit_learn-1.2.0-cp310-cp310-win_amd64.whl (8.2 MB)\n",
      "     ---------------------------------------- 8.2/8.2 MB 13.2 MB/s eta 0:00:00\n",
      "Requirement already satisfied: numpy>=1.17.3 in c:\\users\\user\\miniconda3\\envs\\py\\lib\\site-packages (from scikit-learn) (1.24.1)\n",
      "Collecting joblib>=1.1.1\n",
      "  Using cached joblib-1.2.0-py3-none-any.whl (297 kB)\n",
      "Collecting threadpoolctl>=2.0.0\n",
      "  Using cached threadpoolctl-3.1.0-py3-none-any.whl (14 kB)\n",
      "Collecting scipy>=1.3.2\n",
      "  Downloading scipy-1.10.0-cp310-cp310-win_amd64.whl (42.5 MB)\n",
      "     ---------------------------------------- 42.5/42.5 MB 8.4 MB/s eta 0:00:00\n",
      "Installing collected packages: threadpoolctl, scipy, joblib, scikit-learn\n",
      "Successfully installed joblib-1.2.0 scikit-learn-1.2.0 scipy-1.10.0 threadpoolctl-3.1.0\n"
     ]
    }
   ],
   "source": [
    "!pip install scikit-learn"
   ]
  },
  {
   "cell_type": "code",
   "execution_count": 44,
   "id": "fa614a4f-f554-4698-934d-f58720a6b607",
   "metadata": {},
   "outputs": [],
   "source": [
    "from sklearn import preprocessing"
   ]
  },
  {
   "cell_type": "code",
   "execution_count": 45,
   "id": "d853cf4a-7a76-48a9-b73d-c092948fa3d6",
   "metadata": {},
   "outputs": [],
   "source": [
    "label_encoder = preprocessing.LabelEncoder()\n",
    "onehot_encoder = preprocessing.OneHotEncoder()"
   ]
  },
  {
   "cell_type": "code",
   "execution_count": 46,
   "id": "f804fe8e-82ca-43fc-833e-8c6cea8b9381",
   "metadata": {},
   "outputs": [
    {
     "data": {
      "text/plain": [
       "array([1, 1, 1, 1, 1, 0, 0, 0, 0, 0, 0, 1, 1, 0, 2, 2, 2, 2, 2, 2, 2, 2,\n",
       "       2, 1, 2, 0, 0, 0, 0, 2, 2, 2, 2, 2, 2, 2, 2, 1, 0, 1, 1, 0, 0, 0,\n",
       "       1, 2, 2, 2, 2, 2, 2, 2, 2, 2, 2, 2, 2, 2, 2, 2, 2, 1, 0, 1, 1, 1,\n",
       "       0, 1, 1, 0, 2, 1, 1, 1, 1, 1, 2, 2, 2, 2, 2, 2, 2, 2, 0, 1, 1, 1,\n",
       "       1, 0, 1, 1, 1, 0, 0, 0, 2, 2, 2, 2, 2, 2, 1, 1, 0, 0, 2, 2, 2, 2,\n",
       "       2, 2, 2, 2, 1, 0, 2, 2, 2, 1, 1, 1, 1, 0, 2, 2, 2, 2, 2, 2, 2, 2,\n",
       "       1, 2, 1, 1, 1, 1, 1, 2, 2, 2, 2, 2, 2, 2, 2, 2, 2, 2, 2, 2, 2, 2,\n",
       "       0, 1, 1, 1, 1, 2, 1, 2, 1, 1, 1, 2, 2, 2, 2, 2, 2, 2, 2, 2, 2, 2,\n",
       "       2, 2, 1, 2, 2, 2, 2, 2, 2, 1, 1, 1, 1, 2, 2, 2, 2, 2, 2, 2, 2, 2,\n",
       "       2, 1, 2, 2, 2, 2, 2, 2, 1, 2, 1, 1, 0, 1, 1, 1, 2, 2, 2, 2, 2, 1,\n",
       "       1, 1, 1, 1, 2, 2, 2, 0, 0, 0, 1, 2, 2, 2, 2, 2, 2, 2, 2, 2, 1, 1,\n",
       "       2, 2, 2, 2, 2, 1, 1, 1, 2, 2, 2, 2, 2, 2, 2, 2, 1, 1, 1, 1, 1, 1,\n",
       "       2, 2, 2, 2, 2, 2, 2, 2, 2, 1, 1, 1, 2, 2, 1, 2, 2, 2, 1, 1, 1, 1,\n",
       "       1, 1, 1, 1, 1, 2, 2, 2, 2, 2, 1, 2, 2, 2, 2, 2, 2, 2, 1, 1, 2, 2,\n",
       "       2, 2, 2, 2, 2, 2, 2, 2, 2, 2, 2, 2, 2, 2, 2, 2, 2, 2, 2, 2, 2, 2,\n",
       "       1, 2, 2, 2, 2, 2, 2, 1, 2, 2, 2, 2, 2, 2, 2, 2, 2, 2, 2, 2, 2, 2,\n",
       "       2, 2, 2, 2, 1, 1, 1, 2, 2, 2, 2, 2, 2, 2, 2, 2, 2, 2, 2, 2, 2, 2,\n",
       "       2, 2, 2, 2, 2, 2, 1, 2, 2, 1, 2, 2, 2, 2, 2, 2, 2, 2])"
      ]
     },
     "execution_count": 46,
     "metadata": {},
     "output_type": "execute_result"
    }
   ],
   "source": [
    "label_encoder.fit_transform(df['hp_bin'])"
   ]
  },
  {
   "cell_type": "code",
   "execution_count": 47,
   "id": "aba9e264-b625-46dd-a9c1-94ad15c9035f",
   "metadata": {},
   "outputs": [
    {
     "data": {
      "text/plain": [
       "array([1, 1, 1, 1, 1])"
      ]
     },
     "execution_count": 47,
     "metadata": {},
     "output_type": "execute_result"
    }
   ],
   "source": [
    "# 2차원 배열 형태로 변환\n",
    "oneshot_labeled = label_encoder.fit_transform(df['hp_bin'])\n",
    "oneshot_labeled[:5]"
   ]
  },
  {
   "cell_type": "code",
   "execution_count": 49,
   "id": "63504bac-1c5a-4464-bce7-51c5e8c28016",
   "metadata": {},
   "outputs": [
    {
     "data": {
      "text/plain": [
       "array([[1],\n",
       "       [1],\n",
       "       [1],\n",
       "       [1],\n",
       "       [1]])"
      ]
     },
     "execution_count": 49,
     "metadata": {},
     "output_type": "execute_result"
    }
   ],
   "source": [
    "oneshot_reshaped = oneshot_labeled.reshape(-1,1)\n",
    "oneshot_reshaped[:5]"
   ]
  },
  {
   "cell_type": "code",
   "execution_count": 50,
   "id": "4d93ce86-9945-481c-a173-1087ad9eed16",
   "metadata": {},
   "outputs": [
    {
     "data": {
      "text/plain": [
       "392"
      ]
     },
     "execution_count": 50,
     "metadata": {},
     "output_type": "execute_result"
    }
   ],
   "source": [
    "len(oneshot_reshaped)"
   ]
  },
  {
   "cell_type": "code",
   "execution_count": 52,
   "id": "006d0fdd-bfcb-49a3-ae64-21287b35a6b3",
   "metadata": {},
   "outputs": [
    {
     "name": "stdout",
     "output_type": "stream",
     "text": [
      "  (0, 1)\t1.0\n",
      "  (1, 1)\t1.0\n",
      "  (2, 1)\t1.0\n",
      "  (3, 1)\t1.0\n",
      "  (4, 1)\t1.0\n",
      "  (5, 0)\t1.0\n",
      "  (6, 0)\t1.0\n",
      "  (7, 0)\t1.0\n",
      "  (8, 0)\t1.0\n",
      "  (9, 0)\t1.0\n",
      "  (10, 0)\t1.0\n",
      "  (11, 1)\t1.0\n",
      "  (12, 1)\t1.0\n",
      "  (13, 0)\t1.0\n",
      "  (14, 2)\t1.0\n",
      "  (15, 2)\t1.0\n",
      "  (16, 2)\t1.0\n",
      "  (17, 2)\t1.0\n",
      "  (18, 2)\t1.0\n",
      "  (19, 2)\t1.0\n",
      "  (20, 2)\t1.0\n",
      "  (21, 2)\t1.0\n",
      "  (22, 2)\t1.0\n",
      "  (23, 1)\t1.0\n",
      "  (24, 2)\t1.0\n",
      "  :\t:\n",
      "  (367, 2)\t1.0\n",
      "  (368, 2)\t1.0\n",
      "  (369, 2)\t1.0\n",
      "  (370, 2)\t1.0\n",
      "  (371, 2)\t1.0\n",
      "  (372, 2)\t1.0\n",
      "  (373, 2)\t1.0\n",
      "  (374, 2)\t1.0\n",
      "  (375, 2)\t1.0\n",
      "  (376, 2)\t1.0\n",
      "  (377, 2)\t1.0\n",
      "  (378, 2)\t1.0\n",
      "  (379, 2)\t1.0\n",
      "  (380, 1)\t1.0\n",
      "  (381, 2)\t1.0\n",
      "  (382, 2)\t1.0\n",
      "  (383, 1)\t1.0\n",
      "  (384, 2)\t1.0\n",
      "  (385, 2)\t1.0\n",
      "  (386, 2)\t1.0\n",
      "  (387, 2)\t1.0\n",
      "  (388, 2)\t1.0\n",
      "  (389, 2)\t1.0\n",
      "  (390, 2)\t1.0\n",
      "  (391, 2)\t1.0\n",
      "<class 'scipy.sparse._csr.csr_matrix'>\n"
     ]
    }
   ],
   "source": [
    "oneshot_fitted = onehot_encoder.fit_transform(oneshot_reshaped)\n",
    "print(oneshot_fitted)\n",
    "print(type(oneshot_fitted))"
   ]
  },
  {
   "cell_type": "markdown",
   "id": "c69e182c-f2b2-4324-a81b-72487e08cbb4",
   "metadata": {},
   "source": [
    "# 정규화"
   ]
  },
  {
   "cell_type": "code",
   "execution_count": 53,
   "id": "6671251d-d62f-4232-a716-47085c97e0b3",
   "metadata": {},
   "outputs": [],
   "source": [
    "df.horsepower = df.horsepower / df.horsepower.max()"
   ]
  },
  {
   "cell_type": "code",
   "execution_count": 54,
   "id": "a254dde8-abfe-434f-8020-0e2663cf18f1",
   "metadata": {},
   "outputs": [
    {
     "data": {
      "text/plain": [
       "count    392.000000\n",
       "mean       0.454215\n",
       "std        0.167353\n",
       "min        0.200000\n",
       "25%        0.326087\n",
       "50%        0.406522\n",
       "75%        0.547826\n",
       "max        1.000000\n",
       "Name: horsepower, dtype: float64"
      ]
     },
     "execution_count": 54,
     "metadata": {},
     "output_type": "execute_result"
    }
   ],
   "source": [
    "df.horsepower.describe()"
   ]
  },
  {
   "cell_type": "code",
   "execution_count": 55,
   "id": "50b77402-5925-4506-b238-4ade4ecf62df",
   "metadata": {},
   "outputs": [],
   "source": [
    "# 최대값 - 최소값의 값으로 각 데이터를 나눈다\n",
    "# 각열의 값 - 최소값 / 최대값 - 최소값\n",
    "# (x - min) / (max - min)"
   ]
  },
  {
   "cell_type": "code",
   "execution_count": 57,
   "id": "add074a5-8467-4241-a5a5-64eb48c984af",
   "metadata": {},
   "outputs": [],
   "source": [
    "weight_min = df.weight.min()\n",
    "weight_max = df.weight.max()\n",
    "weight_minmax = weight_max - weight_min"
   ]
  },
  {
   "cell_type": "code",
   "execution_count": 59,
   "id": "c084ec3d-dec7-4cd3-87c0-504369bfc040",
   "metadata": {},
   "outputs": [],
   "source": [
    "df.weight = (df.weight -weight_min) / weight_minmax"
   ]
  },
  {
   "cell_type": "code",
   "execution_count": 60,
   "id": "5335e198-ac56-49b8-a548-89f7981da6ea",
   "metadata": {},
   "outputs": [
    {
     "data": {
      "text/plain": [
       "count    392.000000\n",
       "mean       0.386897\n",
       "std        0.240829\n",
       "min        0.000000\n",
       "25%        0.173589\n",
       "50%        0.337539\n",
       "75%        0.567550\n",
       "max        1.000000\n",
       "Name: weight, dtype: float64"
      ]
     },
     "execution_count": 60,
     "metadata": {},
     "output_type": "execute_result"
    }
   ],
   "source": [
    "df.weight.describe()"
   ]
  },
  {
   "cell_type": "markdown",
   "id": "b5c7ae41-f7f7-477f-b5a6-5cc4a1e52106",
   "metadata": {},
   "source": [
    "# 시계열 데이터\n",
    "    시간의 개념을 가진 연속적인 데이터로 순서가 있으며 순서가 바뀌면 의미도 바뀐다\n",
    "    Timestamp: 특정한 시점을 기록\n",
    "    Period: 두 지점 사이의 일정한 기간"
   ]
  },
  {
   "cell_type": "code",
   "execution_count": 62,
   "id": "017ecf53-c136-4c1f-ac54-9f5fd73a3658",
   "metadata": {},
   "outputs": [
    {
     "data": {
      "text/html": [
       "<div>\n",
       "<style scoped>\n",
       "    .dataframe tbody tr th:only-of-type {\n",
       "        vertical-align: middle;\n",
       "    }\n",
       "\n",
       "    .dataframe tbody tr th {\n",
       "        vertical-align: top;\n",
       "    }\n",
       "\n",
       "    .dataframe thead th {\n",
       "        text-align: right;\n",
       "    }\n",
       "</style>\n",
       "<table border=\"1\" class=\"dataframe\">\n",
       "  <thead>\n",
       "    <tr style=\"text-align: right;\">\n",
       "      <th></th>\n",
       "      <th>Date</th>\n",
       "      <th>Close</th>\n",
       "      <th>Start</th>\n",
       "      <th>High</th>\n",
       "      <th>Low</th>\n",
       "      <th>Volume</th>\n",
       "    </tr>\n",
       "  </thead>\n",
       "  <tbody>\n",
       "    <tr>\n",
       "      <th>0</th>\n",
       "      <td>2018-07-02</td>\n",
       "      <td>10100</td>\n",
       "      <td>10850</td>\n",
       "      <td>10900</td>\n",
       "      <td>10000</td>\n",
       "      <td>137977</td>\n",
       "    </tr>\n",
       "    <tr>\n",
       "      <th>1</th>\n",
       "      <td>2018-06-29</td>\n",
       "      <td>10700</td>\n",
       "      <td>10550</td>\n",
       "      <td>10900</td>\n",
       "      <td>9990</td>\n",
       "      <td>170253</td>\n",
       "    </tr>\n",
       "    <tr>\n",
       "      <th>2</th>\n",
       "      <td>2018-06-28</td>\n",
       "      <td>10400</td>\n",
       "      <td>10900</td>\n",
       "      <td>10950</td>\n",
       "      <td>10150</td>\n",
       "      <td>155769</td>\n",
       "    </tr>\n",
       "    <tr>\n",
       "      <th>3</th>\n",
       "      <td>2018-06-27</td>\n",
       "      <td>10900</td>\n",
       "      <td>10800</td>\n",
       "      <td>11050</td>\n",
       "      <td>10500</td>\n",
       "      <td>133548</td>\n",
       "    </tr>\n",
       "    <tr>\n",
       "      <th>4</th>\n",
       "      <td>2018-06-26</td>\n",
       "      <td>10800</td>\n",
       "      <td>10900</td>\n",
       "      <td>11000</td>\n",
       "      <td>10700</td>\n",
       "      <td>63039</td>\n",
       "    </tr>\n",
       "  </tbody>\n",
       "</table>\n",
       "</div>"
      ],
      "text/plain": [
       "         Date  Close  Start   High    Low  Volume\n",
       "0  2018-07-02  10100  10850  10900  10000  137977\n",
       "1  2018-06-29  10700  10550  10900   9990  170253\n",
       "2  2018-06-28  10400  10900  10950  10150  155769\n",
       "3  2018-06-27  10900  10800  11050  10500  133548\n",
       "4  2018-06-26  10800  10900  11000  10700   63039"
      ]
     },
     "execution_count": 62,
     "metadata": {},
     "output_type": "execute_result"
    }
   ],
   "source": [
    "df = pd.read_csv('https://raw.githubusercontent.com/leekyuyoung20221226/python/main/data/stock-data.csv')\n",
    "df.head()"
   ]
  },
  {
   "cell_type": "code",
   "execution_count": 63,
   "id": "19107484-5d9f-48d6-8ab3-2dae688fdbbf",
   "metadata": {},
   "outputs": [
    {
     "name": "stdout",
     "output_type": "stream",
     "text": [
      "<class 'pandas.core.frame.DataFrame'>\n",
      "RangeIndex: 20 entries, 0 to 19\n",
      "Data columns (total 6 columns):\n",
      " #   Column  Non-Null Count  Dtype \n",
      "---  ------  --------------  ----- \n",
      " 0   Date    20 non-null     object\n",
      " 1   Close   20 non-null     int64 \n",
      " 2   Start   20 non-null     int64 \n",
      " 3   High    20 non-null     int64 \n",
      " 4   Low     20 non-null     int64 \n",
      " 5   Volume  20 non-null     int64 \n",
      "dtypes: int64(5), object(1)\n",
      "memory usage: 1.1+ KB\n"
     ]
    }
   ],
   "source": [
    "df.info()"
   ]
  },
  {
   "cell_type": "code",
   "execution_count": 66,
   "id": "7eea4778-7fdd-4b92-822b-dfdf07f2c350",
   "metadata": {},
   "outputs": [
    {
     "data": {
      "text/plain": [
       "0    2018-07-02\n",
       "1    2018-06-29\n",
       "2    2018-06-28\n",
       "3    2018-06-27\n",
       "4    2018-06-26\n",
       "5    2018-06-25\n",
       "6    2018-06-22\n",
       "7    2018-06-21\n",
       "8    2018-06-20\n",
       "9    2018-06-19\n",
       "10   2018-06-18\n",
       "11   2018-06-15\n",
       "12   2018-06-14\n",
       "13   2018-06-12\n",
       "14   2018-06-11\n",
       "15   2018-06-08\n",
       "16   2018-06-07\n",
       "17   2018-06-05\n",
       "18   2018-06-04\n",
       "19   2018-06-01\n",
       "Name: Date, dtype: datetime64[ns]"
      ]
     },
     "execution_count": 66,
     "metadata": {},
     "output_type": "execute_result"
    }
   ],
   "source": [
    "#df.Date.astype(np.datetime64)\n",
    "pd.to_datetime(df.Date)"
   ]
  },
  {
   "cell_type": "code",
   "execution_count": 67,
   "id": "71c3cfd9-ab8c-487f-aa65-306e915a3a78",
   "metadata": {},
   "outputs": [
    {
     "name": "stdout",
     "output_type": "stream",
     "text": [
      "<class 'pandas.core.frame.DataFrame'>\n",
      "RangeIndex: 20 entries, 0 to 19\n",
      "Data columns (total 7 columns):\n",
      " #   Column    Non-Null Count  Dtype         \n",
      "---  ------    --------------  -----         \n",
      " 0   Date      20 non-null     object        \n",
      " 1   Close     20 non-null     int64         \n",
      " 2   Start     20 non-null     int64         \n",
      " 3   High      20 non-null     int64         \n",
      " 4   Low       20 non-null     int64         \n",
      " 5   Volume    20 non-null     int64         \n",
      " 6   new_Data  20 non-null     datetime64[ns]\n",
      "dtypes: datetime64[ns](1), int64(5), object(1)\n",
      "memory usage: 1.2+ KB\n"
     ]
    }
   ],
   "source": [
    "df['new_Data'] = df.Date.astype(np.datetime64)\n",
    "df.info()"
   ]
  },
  {
   "cell_type": "code",
   "execution_count": 69,
   "id": "7766df9d-c15a-424e-9fac-cf2f09c03a95",
   "metadata": {},
   "outputs": [],
   "source": [
    "# datetime열을 인덱스열로 변경하고 date열을 삭제\n",
    "df.set_index('new_Data', inplace=True)"
   ]
  },
  {
   "cell_type": "code",
   "execution_count": 70,
   "id": "9b1d61d7-8da6-45b1-bea4-c853dce6fe7a",
   "metadata": {},
   "outputs": [],
   "source": [
    "df.drop('Date', axis=1, inplace=True)"
   ]
  },
  {
   "cell_type": "code",
   "execution_count": 71,
   "id": "bc000753-502a-410a-90ed-c360874cbbbf",
   "metadata": {},
   "outputs": [
    {
     "data": {
      "text/html": [
       "<div>\n",
       "<style scoped>\n",
       "    .dataframe tbody tr th:only-of-type {\n",
       "        vertical-align: middle;\n",
       "    }\n",
       "\n",
       "    .dataframe tbody tr th {\n",
       "        vertical-align: top;\n",
       "    }\n",
       "\n",
       "    .dataframe thead th {\n",
       "        text-align: right;\n",
       "    }\n",
       "</style>\n",
       "<table border=\"1\" class=\"dataframe\">\n",
       "  <thead>\n",
       "    <tr style=\"text-align: right;\">\n",
       "      <th></th>\n",
       "      <th>Close</th>\n",
       "      <th>Start</th>\n",
       "      <th>High</th>\n",
       "      <th>Low</th>\n",
       "      <th>Volume</th>\n",
       "    </tr>\n",
       "    <tr>\n",
       "      <th>new_Data</th>\n",
       "      <th></th>\n",
       "      <th></th>\n",
       "      <th></th>\n",
       "      <th></th>\n",
       "      <th></th>\n",
       "    </tr>\n",
       "  </thead>\n",
       "  <tbody>\n",
       "    <tr>\n",
       "      <th>2018-07-02</th>\n",
       "      <td>10100</td>\n",
       "      <td>10850</td>\n",
       "      <td>10900</td>\n",
       "      <td>10000</td>\n",
       "      <td>137977</td>\n",
       "    </tr>\n",
       "    <tr>\n",
       "      <th>2018-06-29</th>\n",
       "      <td>10700</td>\n",
       "      <td>10550</td>\n",
       "      <td>10900</td>\n",
       "      <td>9990</td>\n",
       "      <td>170253</td>\n",
       "    </tr>\n",
       "    <tr>\n",
       "      <th>2018-06-28</th>\n",
       "      <td>10400</td>\n",
       "      <td>10900</td>\n",
       "      <td>10950</td>\n",
       "      <td>10150</td>\n",
       "      <td>155769</td>\n",
       "    </tr>\n",
       "    <tr>\n",
       "      <th>2018-06-27</th>\n",
       "      <td>10900</td>\n",
       "      <td>10800</td>\n",
       "      <td>11050</td>\n",
       "      <td>10500</td>\n",
       "      <td>133548</td>\n",
       "    </tr>\n",
       "    <tr>\n",
       "      <th>2018-06-26</th>\n",
       "      <td>10800</td>\n",
       "      <td>10900</td>\n",
       "      <td>11000</td>\n",
       "      <td>10700</td>\n",
       "      <td>63039</td>\n",
       "    </tr>\n",
       "    <tr>\n",
       "      <th>2018-06-25</th>\n",
       "      <td>11150</td>\n",
       "      <td>11400</td>\n",
       "      <td>11450</td>\n",
       "      <td>11000</td>\n",
       "      <td>55519</td>\n",
       "    </tr>\n",
       "    <tr>\n",
       "      <th>2018-06-22</th>\n",
       "      <td>11300</td>\n",
       "      <td>11250</td>\n",
       "      <td>11450</td>\n",
       "      <td>10750</td>\n",
       "      <td>134805</td>\n",
       "    </tr>\n",
       "    <tr>\n",
       "      <th>2018-06-21</th>\n",
       "      <td>11200</td>\n",
       "      <td>11350</td>\n",
       "      <td>11750</td>\n",
       "      <td>11200</td>\n",
       "      <td>133002</td>\n",
       "    </tr>\n",
       "    <tr>\n",
       "      <th>2018-06-20</th>\n",
       "      <td>11550</td>\n",
       "      <td>11200</td>\n",
       "      <td>11600</td>\n",
       "      <td>10900</td>\n",
       "      <td>308596</td>\n",
       "    </tr>\n",
       "    <tr>\n",
       "      <th>2018-06-19</th>\n",
       "      <td>11300</td>\n",
       "      <td>11850</td>\n",
       "      <td>11950</td>\n",
       "      <td>11300</td>\n",
       "      <td>180656</td>\n",
       "    </tr>\n",
       "    <tr>\n",
       "      <th>2018-06-18</th>\n",
       "      <td>12000</td>\n",
       "      <td>13400</td>\n",
       "      <td>13400</td>\n",
       "      <td>12000</td>\n",
       "      <td>309787</td>\n",
       "    </tr>\n",
       "    <tr>\n",
       "      <th>2018-06-15</th>\n",
       "      <td>13400</td>\n",
       "      <td>13600</td>\n",
       "      <td>13600</td>\n",
       "      <td>12900</td>\n",
       "      <td>201376</td>\n",
       "    </tr>\n",
       "    <tr>\n",
       "      <th>2018-06-14</th>\n",
       "      <td>13450</td>\n",
       "      <td>13200</td>\n",
       "      <td>13700</td>\n",
       "      <td>13150</td>\n",
       "      <td>347451</td>\n",
       "    </tr>\n",
       "    <tr>\n",
       "      <th>2018-06-12</th>\n",
       "      <td>13200</td>\n",
       "      <td>12200</td>\n",
       "      <td>13300</td>\n",
       "      <td>12050</td>\n",
       "      <td>558148</td>\n",
       "    </tr>\n",
       "    <tr>\n",
       "      <th>2018-06-11</th>\n",
       "      <td>11950</td>\n",
       "      <td>12000</td>\n",
       "      <td>12250</td>\n",
       "      <td>11950</td>\n",
       "      <td>62293</td>\n",
       "    </tr>\n",
       "    <tr>\n",
       "      <th>2018-06-08</th>\n",
       "      <td>11950</td>\n",
       "      <td>11950</td>\n",
       "      <td>12200</td>\n",
       "      <td>11800</td>\n",
       "      <td>59258</td>\n",
       "    </tr>\n",
       "    <tr>\n",
       "      <th>2018-06-07</th>\n",
       "      <td>11950</td>\n",
       "      <td>12200</td>\n",
       "      <td>12300</td>\n",
       "      <td>11900</td>\n",
       "      <td>49088</td>\n",
       "    </tr>\n",
       "    <tr>\n",
       "      <th>2018-06-05</th>\n",
       "      <td>12150</td>\n",
       "      <td>11800</td>\n",
       "      <td>12250</td>\n",
       "      <td>11800</td>\n",
       "      <td>42485</td>\n",
       "    </tr>\n",
       "    <tr>\n",
       "      <th>2018-06-04</th>\n",
       "      <td>11900</td>\n",
       "      <td>11900</td>\n",
       "      <td>12200</td>\n",
       "      <td>11700</td>\n",
       "      <td>25171</td>\n",
       "    </tr>\n",
       "    <tr>\n",
       "      <th>2018-06-01</th>\n",
       "      <td>11900</td>\n",
       "      <td>11800</td>\n",
       "      <td>12100</td>\n",
       "      <td>11750</td>\n",
       "      <td>32062</td>\n",
       "    </tr>\n",
       "  </tbody>\n",
       "</table>\n",
       "</div>"
      ],
      "text/plain": [
       "            Close  Start   High    Low  Volume\n",
       "new_Data                                      \n",
       "2018-07-02  10100  10850  10900  10000  137977\n",
       "2018-06-29  10700  10550  10900   9990  170253\n",
       "2018-06-28  10400  10900  10950  10150  155769\n",
       "2018-06-27  10900  10800  11050  10500  133548\n",
       "2018-06-26  10800  10900  11000  10700   63039\n",
       "2018-06-25  11150  11400  11450  11000   55519\n",
       "2018-06-22  11300  11250  11450  10750  134805\n",
       "2018-06-21  11200  11350  11750  11200  133002\n",
       "2018-06-20  11550  11200  11600  10900  308596\n",
       "2018-06-19  11300  11850  11950  11300  180656\n",
       "2018-06-18  12000  13400  13400  12000  309787\n",
       "2018-06-15  13400  13600  13600  12900  201376\n",
       "2018-06-14  13450  13200  13700  13150  347451\n",
       "2018-06-12  13200  12200  13300  12050  558148\n",
       "2018-06-11  11950  12000  12250  11950   62293\n",
       "2018-06-08  11950  11950  12200  11800   59258\n",
       "2018-06-07  11950  12200  12300  11900   49088\n",
       "2018-06-05  12150  11800  12250  11800   42485\n",
       "2018-06-04  11900  11900  12200  11700   25171\n",
       "2018-06-01  11900  11800  12100  11750   32062"
      ]
     },
     "execution_count": 71,
     "metadata": {},
     "output_type": "execute_result"
    }
   ],
   "source": [
    "df"
   ]
  },
  {
   "cell_type": "code",
   "execution_count": 72,
   "id": "e0db904e-5dde-4161-a7cb-6f795e40fb85",
   "metadata": {},
   "outputs": [],
   "source": [
    "# period로 변환 pd.to_period"
   ]
  },
  {
   "cell_type": "code",
   "execution_count": 74,
   "id": "59f97ebe-fdd1-46a7-a8b9-9b0b64b854cc",
   "metadata": {},
   "outputs": [
    {
     "data": {
      "text/plain": [
       "DatetimeIndex(['2019-01-01', '2020-03-01', '2021-06-01'], dtype='datetime64[ns]', freq=None)"
      ]
     },
     "execution_count": 74,
     "metadata": {},
     "output_type": "execute_result"
    }
   ],
   "source": [
    "dates = ['2019-01-01', '2020-03-01', '2021-06-01']\n",
    "ts_dates = pd.to_datetime(dates)\n",
    "ts_dates"
   ]
  },
  {
   "cell_type": "code",
   "execution_count": 75,
   "id": "52416468-a99e-4860-9e65-5085bc12785f",
   "metadata": {},
   "outputs": [
    {
     "data": {
      "text/plain": [
       "PeriodIndex(['2019-01-01', '2020-03-01', '2021-06-01'], dtype='period[D]')"
      ]
     },
     "execution_count": 75,
     "metadata": {},
     "output_type": "execute_result"
    }
   ],
   "source": [
    "ts_dates.to_period(freq='D')"
   ]
  },
  {
   "cell_type": "code",
   "execution_count": 76,
   "id": "9a1bdf15-c9ca-45a6-b6ba-89f52344a259",
   "metadata": {},
   "outputs": [
    {
     "data": {
      "text/plain": [
       "PeriodIndex(['2019-01', '2020-03', '2021-06'], dtype='period[M]')"
      ]
     },
     "execution_count": 76,
     "metadata": {},
     "output_type": "execute_result"
    }
   ],
   "source": [
    "ts_dates.to_period(freq='M')"
   ]
  },
  {
   "cell_type": "code",
   "execution_count": 77,
   "id": "19a75068-3ea5-4ff4-a624-1b421056682e",
   "metadata": {},
   "outputs": [
    {
     "data": {
      "text/plain": [
       "PeriodIndex(['2019', '2020', '2021'], dtype='period[A-DEC]')"
      ]
     },
     "execution_count": 77,
     "metadata": {},
     "output_type": "execute_result"
    }
   ],
   "source": [
    "ts_dates.to_period(freq='A')"
   ]
  },
  {
   "cell_type": "code",
   "execution_count": 78,
   "id": "3ed3a23c-483d-4905-b931-3f24863755ca",
   "metadata": {},
   "outputs": [
    {
     "data": {
      "text/plain": [
       "PeriodIndex(['2018-07', '2018-06', '2018-06', '2018-06', '2018-06', '2018-06',\n",
       "             '2018-06', '2018-06', '2018-06', '2018-06', '2018-06', '2018-06',\n",
       "             '2018-06', '2018-06', '2018-06', '2018-06', '2018-06', '2018-06',\n",
       "             '2018-06', '2018-06'],\n",
       "            dtype='period[M]', name='new_Data')"
      ]
     },
     "execution_count": 78,
     "metadata": {},
     "output_type": "execute_result"
    }
   ],
   "source": [
    "df.index.to_period(freq='M')"
   ]
  },
  {
   "cell_type": "markdown",
   "id": "57acaf29-8c58-4ca3-ac0f-3676591dddac",
   "metadata": {},
   "source": [
    "# 시계열 데이터 만들기"
   ]
  },
  {
   "cell_type": "markdown",
   "id": "effbc8c1-2805-4108-a721-2fc25fc6e7bb",
   "metadata": {},
   "source": [
    "Timestamp 배열"
   ]
  },
  {
   "cell_type": "code",
   "execution_count": 79,
   "id": "b75faef7-56da-4f3a-951f-03a18fa1ab40",
   "metadata": {},
   "outputs": [
    {
     "data": {
      "text/plain": [
       "DatetimeIndex(['2022-01-01 00:00:00+09:00', '2022-02-01 00:00:00+09:00',\n",
       "               '2022-03-01 00:00:00+09:00', '2022-04-01 00:00:00+09:00',\n",
       "               '2022-05-01 00:00:00+09:00', '2022-06-01 00:00:00+09:00'],\n",
       "              dtype='datetime64[ns, Asia/Seoul]', freq='MS')"
      ]
     },
     "execution_count": 79,
     "metadata": {},
     "output_type": "execute_result"
    }
   ],
   "source": [
    "ts_ms = pd.date_range(start='2022-01-01', end=None, periods=6, freq='MS', tz='Asia/Seoul')\n",
    "ts_ms"
   ]
  },
  {
   "cell_type": "code",
   "execution_count": 80,
   "id": "11706b7c-9455-4e85-b514-3a0be6fe605f",
   "metadata": {},
   "outputs": [
    {
     "data": {
      "text/plain": [
       "DatetimeIndex(['2022-01-31 00:00:00+09:00', '2022-02-28 00:00:00+09:00',\n",
       "               '2022-03-31 00:00:00+09:00', '2022-04-30 00:00:00+09:00',\n",
       "               '2022-05-31 00:00:00+09:00', '2022-06-30 00:00:00+09:00'],\n",
       "              dtype='datetime64[ns, Asia/Seoul]', freq='M')"
      ]
     },
     "execution_count": 80,
     "metadata": {},
     "output_type": "execute_result"
    }
   ],
   "source": [
    "ts_ms = pd.date_range(start='2022-01-01', end=None, periods=6, freq='M', tz='Asia/Seoul')\n",
    "ts_ms"
   ]
  },
  {
   "cell_type": "markdown",
   "id": "f61f1709-07a0-49d0-ab0d-209c5fa5e98f",
   "metadata": {},
   "source": [
    "Period 배열"
   ]
  },
  {
   "cell_type": "code",
   "execution_count": 81,
   "id": "a130fdef-19aa-484a-a58d-ee353129ae8c",
   "metadata": {},
   "outputs": [
    {
     "data": {
      "text/plain": [
       "PeriodIndex(['2023-01', '2023-02', '2023-03'], dtype='period[M]')"
      ]
     },
     "execution_count": 81,
     "metadata": {},
     "output_type": "execute_result"
    }
   ],
   "source": [
    "# 1개월 길이로 Period 배열 만들기\n",
    "pr_m = pd.period_range(start='2023-01-01', end=None, periods=3, freq='M')\n",
    "pr_m"
   ]
  },
  {
   "cell_type": "code",
   "execution_count": 82,
   "id": "2f0621d6-1508-4d73-81cf-40b840f41f91",
   "metadata": {},
   "outputs": [
    {
     "data": {
      "text/plain": [
       "PeriodIndex(['2023-01-01 00:00', '2023-01-01 01:00', '2023-01-01 02:00'], dtype='period[H]')"
      ]
     },
     "execution_count": 82,
     "metadata": {},
     "output_type": "execute_result"
    }
   ],
   "source": [
    "pr_m = pd.period_range(start='2023-01-01', end=None, periods=3, freq='H')\n",
    "pr_m"
   ]
  },
  {
   "cell_type": "markdown",
   "id": "5e5cc7bd-5705-4a67-ab47-648094df3f7a",
   "metadata": {},
   "source": [
    "# 시계열 데이터 활용"
   ]
  },
  {
   "cell_type": "code",
   "execution_count": 83,
   "id": "c6dbdc88-6f99-4bea-be4c-bbf928e08e41",
   "metadata": {},
   "outputs": [],
   "source": [
    "df = pd.read_csv('https://raw.githubusercontent.com/leekyuyoung20221226/python/main/data/stock-data.csv')"
   ]
  },
  {
   "cell_type": "markdown",
   "id": "0507bb9b-541c-4a96-b5ab-fb8b61377646",
   "metadata": {},
   "source": [
    "year month day 각각 컬럼을 만들어서 날짜를 분리"
   ]
  },
  {
   "cell_type": "code",
   "execution_count": 87,
   "id": "cb7316d0-256e-4e93-a7c2-8cdce1e9c2be",
   "metadata": {},
   "outputs": [
    {
     "data": {
      "text/html": [
       "<div>\n",
       "<style scoped>\n",
       "    .dataframe tbody tr th:only-of-type {\n",
       "        vertical-align: middle;\n",
       "    }\n",
       "\n",
       "    .dataframe tbody tr th {\n",
       "        vertical-align: top;\n",
       "    }\n",
       "\n",
       "    .dataframe thead th {\n",
       "        text-align: right;\n",
       "    }\n",
       "</style>\n",
       "<table border=\"1\" class=\"dataframe\">\n",
       "  <thead>\n",
       "    <tr style=\"text-align: right;\">\n",
       "      <th></th>\n",
       "      <th>Date</th>\n",
       "      <th>Close</th>\n",
       "      <th>Start</th>\n",
       "      <th>High</th>\n",
       "      <th>Low</th>\n",
       "      <th>Volume</th>\n",
       "      <th>new_date</th>\n",
       "      <th>year</th>\n",
       "      <th>month</th>\n",
       "      <th>day</th>\n",
       "    </tr>\n",
       "  </thead>\n",
       "  <tbody>\n",
       "    <tr>\n",
       "      <th>0</th>\n",
       "      <td>2018-07-02</td>\n",
       "      <td>10100</td>\n",
       "      <td>10850</td>\n",
       "      <td>10900</td>\n",
       "      <td>10000</td>\n",
       "      <td>137977</td>\n",
       "      <td>2018-07-02</td>\n",
       "      <td>2018</td>\n",
       "      <td>7</td>\n",
       "      <td>2</td>\n",
       "    </tr>\n",
       "    <tr>\n",
       "      <th>1</th>\n",
       "      <td>2018-06-29</td>\n",
       "      <td>10700</td>\n",
       "      <td>10550</td>\n",
       "      <td>10900</td>\n",
       "      <td>9990</td>\n",
       "      <td>170253</td>\n",
       "      <td>2018-06-29</td>\n",
       "      <td>2018</td>\n",
       "      <td>6</td>\n",
       "      <td>29</td>\n",
       "    </tr>\n",
       "    <tr>\n",
       "      <th>2</th>\n",
       "      <td>2018-06-28</td>\n",
       "      <td>10400</td>\n",
       "      <td>10900</td>\n",
       "      <td>10950</td>\n",
       "      <td>10150</td>\n",
       "      <td>155769</td>\n",
       "      <td>2018-06-28</td>\n",
       "      <td>2018</td>\n",
       "      <td>6</td>\n",
       "      <td>28</td>\n",
       "    </tr>\n",
       "    <tr>\n",
       "      <th>3</th>\n",
       "      <td>2018-06-27</td>\n",
       "      <td>10900</td>\n",
       "      <td>10800</td>\n",
       "      <td>11050</td>\n",
       "      <td>10500</td>\n",
       "      <td>133548</td>\n",
       "      <td>2018-06-27</td>\n",
       "      <td>2018</td>\n",
       "      <td>6</td>\n",
       "      <td>27</td>\n",
       "    </tr>\n",
       "    <tr>\n",
       "      <th>4</th>\n",
       "      <td>2018-06-26</td>\n",
       "      <td>10800</td>\n",
       "      <td>10900</td>\n",
       "      <td>11000</td>\n",
       "      <td>10700</td>\n",
       "      <td>63039</td>\n",
       "      <td>2018-06-26</td>\n",
       "      <td>2018</td>\n",
       "      <td>6</td>\n",
       "      <td>26</td>\n",
       "    </tr>\n",
       "    <tr>\n",
       "      <th>5</th>\n",
       "      <td>2018-06-25</td>\n",
       "      <td>11150</td>\n",
       "      <td>11400</td>\n",
       "      <td>11450</td>\n",
       "      <td>11000</td>\n",
       "      <td>55519</td>\n",
       "      <td>2018-06-25</td>\n",
       "      <td>2018</td>\n",
       "      <td>6</td>\n",
       "      <td>25</td>\n",
       "    </tr>\n",
       "    <tr>\n",
       "      <th>6</th>\n",
       "      <td>2018-06-22</td>\n",
       "      <td>11300</td>\n",
       "      <td>11250</td>\n",
       "      <td>11450</td>\n",
       "      <td>10750</td>\n",
       "      <td>134805</td>\n",
       "      <td>2018-06-22</td>\n",
       "      <td>2018</td>\n",
       "      <td>6</td>\n",
       "      <td>22</td>\n",
       "    </tr>\n",
       "    <tr>\n",
       "      <th>7</th>\n",
       "      <td>2018-06-21</td>\n",
       "      <td>11200</td>\n",
       "      <td>11350</td>\n",
       "      <td>11750</td>\n",
       "      <td>11200</td>\n",
       "      <td>133002</td>\n",
       "      <td>2018-06-21</td>\n",
       "      <td>2018</td>\n",
       "      <td>6</td>\n",
       "      <td>21</td>\n",
       "    </tr>\n",
       "    <tr>\n",
       "      <th>8</th>\n",
       "      <td>2018-06-20</td>\n",
       "      <td>11550</td>\n",
       "      <td>11200</td>\n",
       "      <td>11600</td>\n",
       "      <td>10900</td>\n",
       "      <td>308596</td>\n",
       "      <td>2018-06-20</td>\n",
       "      <td>2018</td>\n",
       "      <td>6</td>\n",
       "      <td>20</td>\n",
       "    </tr>\n",
       "    <tr>\n",
       "      <th>9</th>\n",
       "      <td>2018-06-19</td>\n",
       "      <td>11300</td>\n",
       "      <td>11850</td>\n",
       "      <td>11950</td>\n",
       "      <td>11300</td>\n",
       "      <td>180656</td>\n",
       "      <td>2018-06-19</td>\n",
       "      <td>2018</td>\n",
       "      <td>6</td>\n",
       "      <td>19</td>\n",
       "    </tr>\n",
       "    <tr>\n",
       "      <th>10</th>\n",
       "      <td>2018-06-18</td>\n",
       "      <td>12000</td>\n",
       "      <td>13400</td>\n",
       "      <td>13400</td>\n",
       "      <td>12000</td>\n",
       "      <td>309787</td>\n",
       "      <td>2018-06-18</td>\n",
       "      <td>2018</td>\n",
       "      <td>6</td>\n",
       "      <td>18</td>\n",
       "    </tr>\n",
       "    <tr>\n",
       "      <th>11</th>\n",
       "      <td>2018-06-15</td>\n",
       "      <td>13400</td>\n",
       "      <td>13600</td>\n",
       "      <td>13600</td>\n",
       "      <td>12900</td>\n",
       "      <td>201376</td>\n",
       "      <td>2018-06-15</td>\n",
       "      <td>2018</td>\n",
       "      <td>6</td>\n",
       "      <td>15</td>\n",
       "    </tr>\n",
       "    <tr>\n",
       "      <th>12</th>\n",
       "      <td>2018-06-14</td>\n",
       "      <td>13450</td>\n",
       "      <td>13200</td>\n",
       "      <td>13700</td>\n",
       "      <td>13150</td>\n",
       "      <td>347451</td>\n",
       "      <td>2018-06-14</td>\n",
       "      <td>2018</td>\n",
       "      <td>6</td>\n",
       "      <td>14</td>\n",
       "    </tr>\n",
       "    <tr>\n",
       "      <th>13</th>\n",
       "      <td>2018-06-12</td>\n",
       "      <td>13200</td>\n",
       "      <td>12200</td>\n",
       "      <td>13300</td>\n",
       "      <td>12050</td>\n",
       "      <td>558148</td>\n",
       "      <td>2018-06-12</td>\n",
       "      <td>2018</td>\n",
       "      <td>6</td>\n",
       "      <td>12</td>\n",
       "    </tr>\n",
       "    <tr>\n",
       "      <th>14</th>\n",
       "      <td>2018-06-11</td>\n",
       "      <td>11950</td>\n",
       "      <td>12000</td>\n",
       "      <td>12250</td>\n",
       "      <td>11950</td>\n",
       "      <td>62293</td>\n",
       "      <td>2018-06-11</td>\n",
       "      <td>2018</td>\n",
       "      <td>6</td>\n",
       "      <td>11</td>\n",
       "    </tr>\n",
       "    <tr>\n",
       "      <th>15</th>\n",
       "      <td>2018-06-08</td>\n",
       "      <td>11950</td>\n",
       "      <td>11950</td>\n",
       "      <td>12200</td>\n",
       "      <td>11800</td>\n",
       "      <td>59258</td>\n",
       "      <td>2018-06-08</td>\n",
       "      <td>2018</td>\n",
       "      <td>6</td>\n",
       "      <td>8</td>\n",
       "    </tr>\n",
       "    <tr>\n",
       "      <th>16</th>\n",
       "      <td>2018-06-07</td>\n",
       "      <td>11950</td>\n",
       "      <td>12200</td>\n",
       "      <td>12300</td>\n",
       "      <td>11900</td>\n",
       "      <td>49088</td>\n",
       "      <td>2018-06-07</td>\n",
       "      <td>2018</td>\n",
       "      <td>6</td>\n",
       "      <td>7</td>\n",
       "    </tr>\n",
       "    <tr>\n",
       "      <th>17</th>\n",
       "      <td>2018-06-05</td>\n",
       "      <td>12150</td>\n",
       "      <td>11800</td>\n",
       "      <td>12250</td>\n",
       "      <td>11800</td>\n",
       "      <td>42485</td>\n",
       "      <td>2018-06-05</td>\n",
       "      <td>2018</td>\n",
       "      <td>6</td>\n",
       "      <td>5</td>\n",
       "    </tr>\n",
       "    <tr>\n",
       "      <th>18</th>\n",
       "      <td>2018-06-04</td>\n",
       "      <td>11900</td>\n",
       "      <td>11900</td>\n",
       "      <td>12200</td>\n",
       "      <td>11700</td>\n",
       "      <td>25171</td>\n",
       "      <td>2018-06-04</td>\n",
       "      <td>2018</td>\n",
       "      <td>6</td>\n",
       "      <td>4</td>\n",
       "    </tr>\n",
       "    <tr>\n",
       "      <th>19</th>\n",
       "      <td>2018-06-01</td>\n",
       "      <td>11900</td>\n",
       "      <td>11800</td>\n",
       "      <td>12100</td>\n",
       "      <td>11750</td>\n",
       "      <td>32062</td>\n",
       "      <td>2018-06-01</td>\n",
       "      <td>2018</td>\n",
       "      <td>6</td>\n",
       "      <td>1</td>\n",
       "    </tr>\n",
       "  </tbody>\n",
       "</table>\n",
       "</div>"
      ],
      "text/plain": [
       "          Date  Close  Start   High    Low  Volume   new_date  year  month  \\\n",
       "0   2018-07-02  10100  10850  10900  10000  137977 2018-07-02  2018      7   \n",
       "1   2018-06-29  10700  10550  10900   9990  170253 2018-06-29  2018      6   \n",
       "2   2018-06-28  10400  10900  10950  10150  155769 2018-06-28  2018      6   \n",
       "3   2018-06-27  10900  10800  11050  10500  133548 2018-06-27  2018      6   \n",
       "4   2018-06-26  10800  10900  11000  10700   63039 2018-06-26  2018      6   \n",
       "5   2018-06-25  11150  11400  11450  11000   55519 2018-06-25  2018      6   \n",
       "6   2018-06-22  11300  11250  11450  10750  134805 2018-06-22  2018      6   \n",
       "7   2018-06-21  11200  11350  11750  11200  133002 2018-06-21  2018      6   \n",
       "8   2018-06-20  11550  11200  11600  10900  308596 2018-06-20  2018      6   \n",
       "9   2018-06-19  11300  11850  11950  11300  180656 2018-06-19  2018      6   \n",
       "10  2018-06-18  12000  13400  13400  12000  309787 2018-06-18  2018      6   \n",
       "11  2018-06-15  13400  13600  13600  12900  201376 2018-06-15  2018      6   \n",
       "12  2018-06-14  13450  13200  13700  13150  347451 2018-06-14  2018      6   \n",
       "13  2018-06-12  13200  12200  13300  12050  558148 2018-06-12  2018      6   \n",
       "14  2018-06-11  11950  12000  12250  11950   62293 2018-06-11  2018      6   \n",
       "15  2018-06-08  11950  11950  12200  11800   59258 2018-06-08  2018      6   \n",
       "16  2018-06-07  11950  12200  12300  11900   49088 2018-06-07  2018      6   \n",
       "17  2018-06-05  12150  11800  12250  11800   42485 2018-06-05  2018      6   \n",
       "18  2018-06-04  11900  11900  12200  11700   25171 2018-06-04  2018      6   \n",
       "19  2018-06-01  11900  11800  12100  11750   32062 2018-06-01  2018      6   \n",
       "\n",
       "    day  \n",
       "0     2  \n",
       "1    29  \n",
       "2    28  \n",
       "3    27  \n",
       "4    26  \n",
       "5    25  \n",
       "6    22  \n",
       "7    21  \n",
       "8    20  \n",
       "9    19  \n",
       "10   18  \n",
       "11   15  \n",
       "12   14  \n",
       "13   12  \n",
       "14   11  \n",
       "15    8  \n",
       "16    7  \n",
       "17    5  \n",
       "18    4  \n",
       "19    1  "
      ]
     },
     "execution_count": 87,
     "metadata": {},
     "output_type": "execute_result"
    }
   ],
   "source": [
    "df['new_date'] = pd.to_datetime(df['Date'])\n",
    "df['year'] = df['new_date'].dt.year\n",
    "df['month'] = df['new_date'].dt.month\n",
    "df['day'] = df['new_date'].dt.day\n",
    "df"
   ]
  }
 ],
 "metadata": {
  "kernelspec": {
   "display_name": "Python 3 (ipykernel)",
   "language": "python",
   "name": "python3"
  },
  "language_info": {
   "codemirror_mode": {
    "name": "ipython",
    "version": 3
   },
   "file_extension": ".py",
   "mimetype": "text/x-python",
   "name": "python",
   "nbconvert_exporter": "python",
   "pygments_lexer": "ipython3",
   "version": "3.10.8"
  }
 },
 "nbformat": 4,
 "nbformat_minor": 5
}
