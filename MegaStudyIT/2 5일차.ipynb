{
 "cells": [
  {
   "cell_type": "code",
   "execution_count": 1,
   "id": "3314675c-c024-47ca-917a-144ab7f7d137",
   "metadata": {},
   "outputs": [],
   "source": [
    "webdriver_path = 'C:/Users/user/Downloads/chromedriver_win32/chromedriver.exe'"
   ]
  },
  {
   "cell_type": "code",
   "execution_count": 2,
   "id": "fec2263a-cea8-4345-81a8-b11bb4f1de10",
   "metadata": {},
   "outputs": [],
   "source": [
    "from selenium import webdriver\n",
    "from time import sleep\n",
    "from tqdm import tqdm\n",
    "from bs4 import BeautifulSoup"
   ]
  },
  {
   "cell_type": "code",
   "execution_count": 3,
   "id": "ee364ba2-80db-4572-9e05-969767c54791",
   "metadata": {},
   "outputs": [],
   "source": [
    "wd = webdriver.Chrome(webdriver_path)"
   ]
  },
  {
   "cell_type": "code",
   "execution_count": 7,
   "id": "de4f35bf-cee3-4cdc-8bf8-37ba11ec0a56",
   "metadata": {},
   "outputs": [
    {
     "name": "stderr",
     "output_type": "stream",
     "text": [
      "100%|████████████████████████████████████████████████████████████████████████████████| 100/100 [04:17<00:00,  2.57s/it]\n"
     ]
    }
   ],
   "source": [
    "result = []\n",
    "for number in tqdm(range(100)):\n",
    "    try:\n",
    "        wd.get('https://www.coffeebeankorea.com/store/store.asp')\n",
    "        sleep(1)\n",
    "        wd.execute_script(f\"storePop2('{number}')\")\n",
    "        sleep(1)\n",
    "        html = wd.page_source\n",
    "        soup = BeautifulSoup(html, 'html.parser')\n",
    "        store_name = soup.select('div.store_txt > h2')[0].string\n",
    "        store = soup.select('div.store_txt > table > tbody > tr > td')\n",
    "        temp = []\n",
    "        for i in range(len(store)):\n",
    "            temp += store[i]\n",
    "        result.append([store_name] + temp)\n",
    "    except Exception as e:\n",
    "        pass"
   ]
  },
  {
   "cell_type": "code",
   "execution_count": 5,
   "id": "74acbf67-b797-49bd-8732-d9e567d1e835",
   "metadata": {},
   "outputs": [],
   "source": [
    "import pandas as pd"
   ]
  },
  {
   "cell_type": "code",
   "execution_count": 12,
   "id": "355aa4d0-6c61-420c-b16a-89b06db5f200",
   "metadata": {},
   "outputs": [],
   "source": [
    "df = pd.DataFrame(result)\n",
    "df = df.loc[:, :7]\n",
    "df2 = df.drop(columns=[4, 7])"
   ]
  },
  {
   "cell_type": "code",
   "execution_count": 13,
   "id": "f61711fa-9d0e-450f-bb9e-8792e7145f83",
   "metadata": {},
   "outputs": [
    {
     "data": {
      "text/html": [
       "<div>\n",
       "<style scoped>\n",
       "    .dataframe tbody tr th:only-of-type {\n",
       "        vertical-align: middle;\n",
       "    }\n",
       "\n",
       "    .dataframe tbody tr th {\n",
       "        vertical-align: top;\n",
       "    }\n",
       "\n",
       "    .dataframe thead th {\n",
       "        text-align: right;\n",
       "    }\n",
       "</style>\n",
       "<table border=\"1\" class=\"dataframe\">\n",
       "  <thead>\n",
       "    <tr style=\"text-align: right;\">\n",
       "      <th></th>\n",
       "      <th>매장명</th>\n",
       "      <th>영업시간</th>\n",
       "      <th>주차</th>\n",
       "      <th>주소</th>\n",
       "      <th>전화번호</th>\n",
       "      <th>기타</th>\n",
       "    </tr>\n",
       "  </thead>\n",
       "  <tbody>\n",
       "    <tr>\n",
       "      <th>0</th>\n",
       "      <td>학동역 DT점</td>\n",
       "      <td>평일 07:00~22:00ㅣ주말/공휴일 08:00~22:00</td>\n",
       "      <td>DT(드라이브 스루) 매장입니다. (주차는 불가)</td>\n",
       "      <td>서울시 강남구 학동로 211 1층</td>\n",
       "      <td>02-3444-9973</td>\n",
       "      <td>홀케익 당일 수령가능</td>\n",
       "    </tr>\n",
       "    <tr>\n",
       "      <th>1</th>\n",
       "      <td>차병원점</td>\n",
       "      <td>평일 07:00~18:00 | 토요일 07:00~15:00 | 일.공휴일 휴무</td>\n",
       "      <td>병원주차장 이용가능 (병원방문시 무료)</td>\n",
       "      <td>서울시 강남구 논현로 566 강남차병원1층</td>\n",
       "      <td>02-538-7615</td>\n",
       "      <td>None</td>\n",
       "    </tr>\n",
       "    <tr>\n",
       "      <th>2</th>\n",
       "      <td>강남대로점</td>\n",
       "      <td>월-금 06:30-22:00 | 토-일,공휴일 08:00-22:00</td>\n",
       "      <td>15,000원 이상 구매시 1시간 무료 주차 가능(건물 지하 주차장 이용, 대형 차...</td>\n",
       "      <td>서울시 서초구 강남대로 369 1층</td>\n",
       "      <td>02-588-5778</td>\n",
       "      <td>None</td>\n",
       "    </tr>\n",
       "    <tr>\n",
       "      <th>3</th>\n",
       "      <td>청담에스점</td>\n",
       "      <td>월-금 07:00~22:00 | 토 08:00~22:00 | 일/공휴일 08:00~...</td>\n",
       "      <td>건물지하 주차가능(5,000원 이상 구매시 30분 무료지급/10,000원 이상 구매...</td>\n",
       "      <td>서울시 강남구 압구정로 461 네이처포엠빌딩B108,109호</td>\n",
       "      <td>02-548-6052</td>\n",
       "      <td>None</td>\n",
       "    </tr>\n",
       "    <tr>\n",
       "      <th>4</th>\n",
       "      <td>신사점</td>\n",
       "      <td>월-목 07:00~22:00 | 금 07:00~23:00 | 토 09:00~23:0...</td>\n",
       "      <td>주차불가</td>\n",
       "      <td>[]</td>\n",
       "      <td>span class=\"lot\"&gt;(서울시 강남구 도산대로 126)&lt;/span</td>\n",
       "      <td>02-548-2741</td>\n",
       "    </tr>\n",
       "  </tbody>\n",
       "</table>\n",
       "</div>"
      ],
      "text/plain": [
       "       매장명                                               영업시간  \\\n",
       "0  학동역 DT점                  평일 07:00~22:00ㅣ주말/공휴일 08:00~22:00   \n",
       "1     차병원점        평일 07:00~18:00 | 토요일 07:00~15:00 | 일.공휴일 휴무   \n",
       "2    강남대로점            월-금 06:30-22:00 | 토-일,공휴일 08:00-22:00     \n",
       "3    청담에스점  월-금 07:00~22:00 | 토 08:00~22:00 | 일/공휴일 08:00~...   \n",
       "4      신사점  월-목 07:00~22:00 | 금 07:00~23:00 | 토 09:00~23:0...   \n",
       "\n",
       "                                                  주차  \\\n",
       "0                        DT(드라이브 스루) 매장입니다. (주차는 불가)   \n",
       "1                              병원주차장 이용가능 (병원방문시 무료)   \n",
       "2  15,000원 이상 구매시 1시간 무료 주차 가능(건물 지하 주차장 이용, 대형 차...   \n",
       "3  건물지하 주차가능(5,000원 이상 구매시 30분 무료지급/10,000원 이상 구매...   \n",
       "4                                               주차불가   \n",
       "\n",
       "                                    주소  \\\n",
       "0                 서울시 강남구 학동로 211 1층     \n",
       "1            서울시 강남구 논현로 566 강남차병원1층     \n",
       "2                서울시 서초구 강남대로 369 1층     \n",
       "3  서울시 강남구 압구정로 461 네이처포엠빌딩B108,109호     \n",
       "4                                   []   \n",
       "\n",
       "                                        전화번호           기타  \n",
       "0                               02-3444-9973  홀케익 당일 수령가능  \n",
       "1                                02-538-7615         None  \n",
       "2                                02-588-5778         None  \n",
       "3                                02-548-6052         None  \n",
       "4  span class=\"lot\">(서울시 강남구 도산대로 126)</span  02-548-2741  "
      ]
     },
     "execution_count": 13,
     "metadata": {},
     "output_type": "execute_result"
    }
   ],
   "source": [
    "df2.columns = ['매장명', '영업시간', '주차', '주소', '전화번호', '기타']\n",
    "df2.head()"
   ]
  },
  {
   "cell_type": "markdown",
   "id": "9f958f07-2a3f-4186-bf45-d595eb3b57bc",
   "metadata": {},
   "source": [
    "# 네이버 API를 이용한 크롤링"
   ]
  },
  {
   "cell_type": "code",
   "execution_count": 20,
   "id": "124ece6f-448d-4391-a878-ddffc930cad8",
   "metadata": {
    "collapsed": true,
    "jupyter": {
     "outputs_hidden": true
    },
    "tags": []
   },
   "outputs": [
    {
     "name": "stdout",
     "output_type": "stream",
     "text": [
      "https://openapi.naver.com/v1/search/blog?query=%EC%9D%B8%EA%B3%B5%EC%A7%80%EB%8A%A5&display=5&start=11\n",
      "{\n",
      "\t\"lastBuildDate\":\"Tue, 31 Jan 2023 20:14:18 +0900\",\n",
      "\t\"total\":1566997,\n",
      "\t\"start\":11,\n",
      "\t\"display\":5,\n",
      "\t\"items\":[\n",
      "\t\t{\n",
      "\t\t\t\"title\":\"<b>인공지능<\\/b> 작사 작곡-Written and Composed by AI\",\n",
      "\t\t\t\"link\":\"https:\\/\\/blog.naver.com\\/mci9306\\/222994649060\",\n",
      "\t\t\t\"description\":\"인간 지능을 구성하는 대부분의 요소가 빠져있다. 자아를 지닌 주체가 아닌 단순 문장 출력기로 이해하는 것이 바람직하다. <b>인공지능<\\/b> 작사 작곡은 가능하나 인간은 감히 기계가 비견할 수... \",\n",
      "\t\t\t\"bloggername\":\"Jahee Lee\",\n",
      "\t\t\t\"bloggerlink\":\"blog.naver.com\\/mci9306\",\n",
      "\t\t\t\"postdate\":\"20230126\"\n",
      "\t\t},\n",
      "\t\t{\n",
      "\t\t\t\"title\":\"구인 - 스타트업: <b>인공지능<\\/b> 기반 헬스케어\",\n",
      "\t\t\t\"link\":\"https:\\/\\/blog.naver.com\\/ahs21c\\/222999793560\",\n",
      "\t\t\t\"description\":\"<b>인공지능<\\/b> 기반 헬스케어 스타트업에서 전략을 리드하실 분 모십니다. 대표께서 사업 개발에 1년 반 정도의 시간을 투자하셨는데요, 창업 전 벤처 투자 등을 경험하셔서, BM을 실행 단계까지 구축하신... \",\n",
      "\t\t\t\"bloggername\":\"ENVISIONERS http:\\/\\/cafe.naver.com\\/ineedamerica\",\n",
      "\t\t\t\"bloggerlink\":\"blog.naver.com\\/ahs21c\",\n",
      "\t\t\t\"postdate\":\"20230130\"\n",
      "\t\t},\n",
      "\t\t{\n",
      "\t\t\t\"title\":\"<b>인공지능<\\/b> 인류 미래 &lt;AI 2041&gt;도서 리뷰\",\n",
      "\t\t\t\"link\":\"https:\\/\\/blog.naver.com\\/11young17\\/222994237501\",\n",
      "\t\t\t\"description\":\"저자: 리카이푸, 천치우판 AI 2041 10개의 결정적 장면으로 읽는 <b>인공지능<\\/b>과 인류의 미래 이 책은 미래 2041년에 AI <b>인공지능<\\/b>으로 세상이 어떻게 변화되었을지를 엿볼 수 있는 책입니다. 이 책 속에서는 <b>인공지능<\\/b>... \",\n",
      "\t\t\t\"bloggername\":\"자유로운 글쓰기\",\n",
      "\t\t\t\"bloggerlink\":\"blog.naver.com\\/11young17\",\n",
      "\t\t\t\"postdate\":\"20230125\"\n",
      "\t\t},\n",
      "\t\t{\n",
      "\t\t\t\"title\":\"한국<b>인공지능<\\/b>협회 AIDE2급 자격시험 후기\",\n",
      "\t\t\t\"link\":\"https:\\/\\/blog.naver.com\\/poke82\\/222968822645\",\n",
      "\t\t\t\"description\":\"<b>인공지능<\\/b> 데이터 전문가 2급 자격증 따기' 를 적어 넣었다. 부수입 창출이라는 목표하에 AIDE 2급 풀패키지 교육비와 자격 시험 접수비에 거하게 털어 넣었으니 반드시 따야 한다며 각오를 다졌다. <b>인공지능<\\/b>... \",\n",
      "\t\t\t\"bloggername\":\"오늘도행복주워담기\",\n",
      "\t\t\t\"bloggerlink\":\"blog.naver.com\\/poke82\",\n",
      "\t\t\t\"postdate\":\"20221229\"\n",
      "\t\t},\n",
      "\t\t{\n",
      "\t\t\t\"title\":\"<b>인공지능<\\/b>을 이용한 글쓰기 OpenAI의 <b>인공지능<\\/b> 챗봇... \",\n",
      "\t\t\t\"link\":\"https:\\/\\/blog.naver.com\\/na_misugi\\/222998622686\",\n",
      "\t\t\t\"description\":\"오늘은 요즘 엄청나게 핫한 <b>인공지능<\\/b>을 이용한 글쓰기가 가능한 플랫폼 및 챗봇을 소개해 볼까... 그럼, 오늘은 대화형 <b>인공지능<\\/b> 챗봇 ChatGPT대해서 좀 더 알아보도록 하겠습니다. ChatGPT란? ChatGPT는 OpenAI가... \",\n",
      "\t\t\t\"bloggername\":\"NOMAD KKO_SUK\",\n",
      "\t\t\t\"bloggerlink\":\"blog.naver.com\\/na_misugi\",\n",
      "\t\t\t\"postdate\":\"20230130\"\n",
      "\t\t}\n",
      "\t]\n",
      "}\n"
     ]
    }
   ],
   "source": [
    "import os\n",
    "import sys\n",
    "import urllib.request\n",
    "client_id = \"16Q9VECLiTyUuiSRoJDr\"\n",
    "client_secret = \"p1wsZa60YG\"\n",
    "encText = urllib.parse.quote(\"인공지능\")\n",
    "url = \"https://openapi.naver.com/v1/search/blog?query=\" + encText + '&display=5' + '&start=11' # JSON 결과\n",
    "print(url)\n",
    "# url = \"https://openapi.naver.com/v1/search/blog.xml?query=\" + encText # XML 결과\n",
    "request = urllib.request.Request(url)\n",
    "request.add_header(\"X-Naver-Client-Id\",client_id)\n",
    "request.add_header(\"X-Naver-Client-Secret\",client_secret)\n",
    "response = urllib.request.urlopen(request)\n",
    "rescode = response.getcode()\n",
    "if(rescode==200):\n",
    "    response_body = response.read()\n",
    "    print(response_body.decode('utf-8'))\n",
    "else:\n",
    "    print(\"Error Code:\" + rescode)"
   ]
  },
  {
   "cell_type": "markdown",
   "id": "3f8672ab-d462-45b3-854b-b6eb60ea7834",
   "metadata": {},
   "source": [
    "# 크롤링 설계\n",
    "    검색어 : srcText\n",
    "    뉴스검색 : def getNaverNews()\n",
    "    url, 접속요청, 응답저장, 정리해서 리스트화 def getData()\n",
    "    json파일로 정리 json.dumps()\n",
    "# 프로그램 흐름\n",
    "    1. 검색어 저장\n",
    "    2. getNaverNews() -> 응답결과 반환 -> getData() -> json형태의 데이터로 변환 -> 저장"
   ]
  },
  {
   "cell_type": "code",
   "execution_count": 37,
   "id": "a903dcc6-3e74-4691-ab05-43e6252ef14f",
   "metadata": {},
   "outputs": [],
   "source": [
    "import os\n",
    "import sys\n",
    "import urllib.request\n",
    "import json\n",
    "client_id = \"16Q9VECLiTyUuiSRoJDr\"\n",
    "client_secret = \"p1wsZa60YG\"\n",
    "\n",
    "# 함수 설계\n",
    "def getRequestURL(url):\n",
    "    request = urllib.request.Request(url)\n",
    "    request.add_header(\"X-Naver-Client-Id\",client_id)\n",
    "    request.add_header(\"X-Naver-Client-Secret\",client_secret)\n",
    "    try:\n",
    "        response = urllib.request.urlopen(request)\n",
    "        rescode = response.getcode()\n",
    "        if(rescode==200):\n",
    "            response_body = response.read()\n",
    "            return response_body.decode('utf-8')\n",
    "        else:\n",
    "            print(\"Error Code:\" + rescode)\n",
    "            return None\n",
    "    except Exception as e:\n",
    "        print(e)\n",
    "        return None\n",
    "\n",
    "def getNaverSearch(srcText, searchType='news', display=10, start=1):\n",
    "    encText = urllib.parse.quote(srcText)\n",
    "    url = f\"https://openapi.naver.com/v1/search/{searchType}.json?query={encText}&display={display}&start={start}&sort=sim\"\n",
    "    jsonData = getRequestURL(url)\n",
    "    if jsonData == None:\n",
    "        return None\n",
    "    else:\n",
    "        return json.loads(jsonData)"
   ]
  },
  {
   "cell_type": "code",
   "execution_count": 61,
   "id": "adf9a30d-7de6-46cc-b9a7-3ccd0ae8841f",
   "metadata": {
    "tags": []
   },
   "outputs": [],
   "source": [
    "for idx in [i for i in range(1, 1000, 100)] + [1000]:\n",
    "    temp = getNaverSearch('마스크 해제', start=idx, display=10)\n",
    "    result.append(temp['items'])"
   ]
  },
  {
   "cell_type": "code",
   "execution_count": 62,
   "id": "4fe23cd0-93e6-4ce2-8d52-30f620177087",
   "metadata": {},
   "outputs": [
    {
     "data": {
      "text/plain": [
       "['학동역 DT점',\n",
       " '평일 07:00~22:00ㅣ주말/공휴일 08:00~22:00',\n",
       " 'DT(드라이브 스루) 매장입니다. (주차는 불가)',\n",
       " '서울시 강남구 학동로 211 1층  ',\n",
       " 'span class=\"lot\">(서울시 강남구 학동로 211 1층)</span',\n",
       " '02-3444-9973',\n",
       " '홀케익 당일 수령가능']"
      ]
     },
     "execution_count": 62,
     "metadata": {},
     "output_type": "execute_result"
    }
   ],
   "source": [
    "result[0]"
   ]
  },
  {
   "cell_type": "code",
   "execution_count": 55,
   "id": "cc3834f0-965a-4413-bbed-a675747b367f",
   "metadata": {},
   "outputs": [
    {
     "data": {
      "text/plain": [
       "(10, 10)"
      ]
     },
     "execution_count": 55,
     "metadata": {},
     "output_type": "execute_result"
    }
   ],
   "source": [
    "len(temp['items']), len(temp2['items'])"
   ]
  },
  {
   "cell_type": "code",
   "execution_count": 50,
   "id": "9692b5e7-c3ed-4dec-89f5-0919c8ea0205",
   "metadata": {},
   "outputs": [],
   "source": [
    "title, originallink, link, description, pubDate = [], [], [], [], []\n",
    "replaceWord = ['<b>', '</b>', '&quot;', '&apos;', '[', ']']\n",
    "for i in range(len(temp['items'])):\n",
    "    for idx, (key, value) in enumerate(temp['items'][i].items()):\n",
    "        if idx == 0:\n",
    "            for i in replaceWord:\n",
    "                value = value.replace(i, \"\")\n",
    "            title.append(value)\n",
    "        elif idx == 1:\n",
    "            originallink.append(value)\n",
    "        elif idx == 2:\n",
    "            link.append(value)\n",
    "        elif idx == 3:\n",
    "            description.append(value)\n",
    "        elif idx == 4:\n",
    "            pubDate.append(value)"
   ]
  },
  {
   "cell_type": "code",
   "execution_count": 51,
   "id": "213d1195-28a1-43b5-bb39-aa4c8db805c4",
   "metadata": {},
   "outputs": [
    {
     "data": {
      "text/html": [
       "<div>\n",
       "<style scoped>\n",
       "    .dataframe tbody tr th:only-of-type {\n",
       "        vertical-align: middle;\n",
       "    }\n",
       "\n",
       "    .dataframe tbody tr th {\n",
       "        vertical-align: top;\n",
       "    }\n",
       "\n",
       "    .dataframe thead th {\n",
       "        text-align: right;\n",
       "    }\n",
       "</style>\n",
       "<table border=\"1\" class=\"dataframe\">\n",
       "  <thead>\n",
       "    <tr style=\"text-align: right;\">\n",
       "      <th></th>\n",
       "      <th>title</th>\n",
       "      <th>originallink</th>\n",
       "      <th>link</th>\n",
       "      <th>description</th>\n",
       "      <th>pubDate</th>\n",
       "    </tr>\n",
       "  </thead>\n",
       "  <tbody>\n",
       "    <tr>\n",
       "      <th>0</th>\n",
       "      <td>마스크 부분해제 첫날 1만9629명 확진…중증 300명대(종합)</td>\n",
       "      <td>http://www.newsis.com/view/?id=NISX20230131_00...</td>\n",
       "      <td>https://n.news.naver.com/mnews/article/003/001...</td>\n",
       "      <td>5% WHO 비상사태 유지…엔데믹 논의 미뤄져 [서울·세종=뉴시스]이연희 권지원 기...</td>\n",
       "      <td>Tue, 31 Jan 2023 10:23:00 +0900</td>\n",
       "    </tr>\n",
       "    <tr>\n",
       "      <th>1</th>\n",
       "      <td>실내 마스크 해제 됐지만...아직은 낯선 노마스크 TF영상</td>\n",
       "      <td>http://news.tf.co.kr/read/video/1995397.htm</td>\n",
       "      <td>https://n.news.naver.com/mnews/article/629/000...</td>\n",
       "      <td>&amp;lt;더팩트&amp;gt; 취재진은 이날 오후 서울 광화문 일대를 찾아 실내 &lt;b&gt;마스크...</td>\n",
       "      <td>Tue, 31 Jan 2023 00:01:00 +0900</td>\n",
       "    </tr>\n",
       "    <tr>\n",
       "      <th>2</th>\n",
       "      <td>마스크 해제 아직 쓰는 게 익숙해요…출근길 시민 대다수 착용</td>\n",
       "      <td>https://www.yna.co.kr/view/AKR2023013004200006...</td>\n",
       "      <td>https://n.news.naver.com/mnews/article/001/001...</td>\n",
       "      <td>신씨는 &amp;quot;&lt;b&gt;마스크&lt;/b&gt; 착용 의무 &lt;b&gt;해제&lt;/b&gt;로 인해 대중교통을...</td>\n",
       "      <td>Mon, 30 Jan 2023 10:17:00 +0900</td>\n",
       "    </tr>\n",
       "    <tr>\n",
       "      <th>3</th>\n",
       "      <td>실내마스크 부분해제 첫날 1만9629명 확진…위중증 387명</td>\n",
       "      <td>http://www.newsis.com/view/?id=NISX20230131_00...</td>\n",
       "      <td>https://n.news.naver.com/mnews/article/003/001...</td>\n",
       "      <td>기사내용 요약 설 연휴였던 1주 전보다는 7379명 늘어나 위중증 387명, 75일...</td>\n",
       "      <td>Tue, 31 Jan 2023 09:43:00 +0900</td>\n",
       "    </tr>\n",
       "    <tr>\n",
       "      <th>4</th>\n",
       "      <td>벗으니 어색하고 걱정…의무 해제에도 일상된 마스크(종합)</td>\n",
       "      <td>https://www.news1.kr/articles/4937833</td>\n",
       "      <td>https://n.news.naver.com/mnews/article/421/000...</td>\n",
       "      <td>천씨는 &amp;quot;친구들이나 저나 야외에서도 마스크를 벗어본 적이 없다&amp;quot;며...</td>\n",
       "      <td>Mon, 30 Jan 2023 16:17:00 +0900</td>\n",
       "    </tr>\n",
       "  </tbody>\n",
       "</table>\n",
       "</div>"
      ],
      "text/plain": [
       "                                 title  \\\n",
       "0  마스크 부분해제 첫날 1만9629명 확진…중증 300명대(종합)   \n",
       "1     실내 마스크 해제 됐지만...아직은 낯선 노마스크 TF영상   \n",
       "2    마스크 해제 아직 쓰는 게 익숙해요…출근길 시민 대다수 착용   \n",
       "3    실내마스크 부분해제 첫날 1만9629명 확진…위중증 387명   \n",
       "4      벗으니 어색하고 걱정…의무 해제에도 일상된 마스크(종합)   \n",
       "\n",
       "                                        originallink  \\\n",
       "0  http://www.newsis.com/view/?id=NISX20230131_00...   \n",
       "1        http://news.tf.co.kr/read/video/1995397.htm   \n",
       "2  https://www.yna.co.kr/view/AKR2023013004200006...   \n",
       "3  http://www.newsis.com/view/?id=NISX20230131_00...   \n",
       "4              https://www.news1.kr/articles/4937833   \n",
       "\n",
       "                                                link  \\\n",
       "0  https://n.news.naver.com/mnews/article/003/001...   \n",
       "1  https://n.news.naver.com/mnews/article/629/000...   \n",
       "2  https://n.news.naver.com/mnews/article/001/001...   \n",
       "3  https://n.news.naver.com/mnews/article/003/001...   \n",
       "4  https://n.news.naver.com/mnews/article/421/000...   \n",
       "\n",
       "                                         description  \\\n",
       "0  5% WHO 비상사태 유지…엔데믹 논의 미뤄져 [서울·세종=뉴시스]이연희 권지원 기...   \n",
       "1  &lt;더팩트&gt; 취재진은 이날 오후 서울 광화문 일대를 찾아 실내 <b>마스크...   \n",
       "2  신씨는 &quot;<b>마스크</b> 착용 의무 <b>해제</b>로 인해 대중교통을...   \n",
       "3  기사내용 요약 설 연휴였던 1주 전보다는 7379명 늘어나 위중증 387명, 75일...   \n",
       "4  천씨는 &quot;친구들이나 저나 야외에서도 마스크를 벗어본 적이 없다&quot;며...   \n",
       "\n",
       "                           pubDate  \n",
       "0  Tue, 31 Jan 2023 10:23:00 +0900  \n",
       "1  Tue, 31 Jan 2023 00:01:00 +0900  \n",
       "2  Mon, 30 Jan 2023 10:17:00 +0900  \n",
       "3  Tue, 31 Jan 2023 09:43:00 +0900  \n",
       "4  Mon, 30 Jan 2023 16:17:00 +0900  "
      ]
     },
     "execution_count": 51,
     "metadata": {},
     "output_type": "execute_result"
    }
   ],
   "source": [
    "df = pd.DataFrame(\n",
    "    {\n",
    "    'title':title,\n",
    "    'originallink':originallink,\n",
    "    'link':link,\n",
    "    'description':description,\n",
    "    'pubDate':pubDate\n",
    "    }\n",
    ")\n",
    "df.head()"
   ]
  }
 ],
 "metadata": {
  "kernelspec": {
   "display_name": "Python 3 (ipykernel)",
   "language": "python",
   "name": "python3"
  },
  "language_info": {
   "codemirror_mode": {
    "name": "ipython",
    "version": 3
   },
   "file_extension": ".py",
   "mimetype": "text/x-python",
   "name": "python",
   "nbconvert_exporter": "python",
   "pygments_lexer": "ipython3",
   "version": "3.10.8"
  }
 },
 "nbformat": 4,
 "nbformat_minor": 5
}
