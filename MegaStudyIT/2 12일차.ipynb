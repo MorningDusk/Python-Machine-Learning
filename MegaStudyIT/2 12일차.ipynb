{
 "cells": [
  {
   "cell_type": "markdown",
   "id": "bf6c2ee4-0ffe-4620-8ae5-6c71a645d5c8",
   "metadata": {},
   "source": [
    "# 토픽분석\n",
    "    description 토큰 추출\n",
    "    명사토큰 추출 okt.nouns()"
   ]
  },
  {
   "cell_type": "code",
   "execution_count": 1,
   "id": "0bd63c0d-27b5-4d42-84fe-8b4ad86ee658",
   "metadata": {},
   "outputs": [],
   "source": [
    "url = \"./코로나 뉴스.csv\"\n",
    "import pandas as pd\n",
    "import numpy as np"
   ]
  },
  {
   "cell_type": "code",
   "execution_count": 11,
   "id": "ef6fd933-580f-4207-b5ec-8aada72bba0e",
   "metadata": {},
   "outputs": [],
   "source": [
    "data_df = pd.read_csv(url)\n",
    "data_df.dropna(inplace=True)"
   ]
  },
  {
   "cell_type": "code",
   "execution_count": 12,
   "id": "ca51a5dd-8caa-4f2f-963e-097f9e4529ff",
   "metadata": {},
   "outputs": [],
   "source": [
    "description = data_df['description']"
   ]
  },
  {
   "cell_type": "code",
   "execution_count": 4,
   "id": "cdd03ebf-f9c6-42f0-baef-899c312b8c69",
   "metadata": {},
   "outputs": [],
   "source": [
    "from konlpy.tag import Okt"
   ]
  },
  {
   "cell_type": "code",
   "execution_count": 13,
   "id": "b1b3e19e-8064-4d55-ba72-0b546d78652d",
   "metadata": {
    "tags": []
   },
   "outputs": [],
   "source": [
    "okt = Okt()\n",
    "description_noun_tk = []\n",
    "for d in description:\n",
    "    description_noun_tk.append(okt.nouns(d)) "
   ]
  },
  {
   "cell_type": "code",
   "execution_count": 5,
   "id": "6a82ade4-3a5b-4f13-813a-630436f54c72",
   "metadata": {},
   "outputs": [],
   "source": [
    "data_df.dropna(inplace=True)"
   ]
  },
  {
   "cell_type": "code",
   "execution_count": 14,
   "id": "37cdc423-1b90-481d-b93e-2e6db93998b5",
   "metadata": {},
   "outputs": [],
   "source": [
    "#  토큰의 길이가 1보다 큰 것만 추출\n",
    "description_noun_tk2 = []\n",
    "for d in description_noun_tk:\n",
    "     description_noun_tk2.append([i for i in d if len(i) > 1])"
   ]
  },
  {
   "cell_type": "code",
   "execution_count": 15,
   "id": "e58dab69-1a01-45fa-b3c9-bc4dadb33d8c",
   "metadata": {},
   "outputs": [
    {
     "data": {
      "text/plain": [
       "1091"
      ]
     },
     "execution_count": 15,
     "metadata": {},
     "output_type": "execute_result"
    }
   ],
   "source": [
    "len(description_noun_tk2)"
   ]
  },
  {
   "cell_type": "markdown",
   "id": "00c35dad-f7a2-4109-936f-2989f06ec1b6",
   "metadata": {},
   "source": [
    "# 토픽분석을 위한 LDA 모델 구축"
   ]
  },
  {
   "cell_type": "code",
   "execution_count": 8,
   "id": "0d36ccaa-ca9e-4371-b47b-03e8e7593d74",
   "metadata": {
    "collapsed": true,
    "jupyter": {
     "outputs_hidden": true
    },
    "tags": []
   },
   "outputs": [
    {
     "name": "stdout",
     "output_type": "stream",
     "text": [
      "Collecting gensim\n",
      "  Downloading gensim-4.3.0-cp310-cp310-win_amd64.whl (24.0 MB)\n",
      "     --------------------------------------- 24.0/24.0 MB 10.7 MB/s eta 0:00:00\n",
      "Requirement already satisfied: scipy>=1.7.0 in c:\\users\\user\\miniconda3\\envs\\py\\lib\\site-packages (from gensim) (1.10.0)\n",
      "Collecting smart-open>=1.8.1\n",
      "  Downloading smart_open-6.3.0-py3-none-any.whl (56 kB)\n",
      "     ---------------------------------------- 56.8/56.8 kB 3.1 MB/s eta 0:00:00\n",
      "Collecting FuzzyTM>=0.4.0\n",
      "  Downloading FuzzyTM-2.0.5-py3-none-any.whl (29 kB)\n",
      "Requirement already satisfied: numpy>=1.18.5 in c:\\users\\user\\miniconda3\\envs\\py\\lib\\site-packages (from gensim) (1.24.1)\n",
      "Collecting Cython==0.29.32\n",
      "  Downloading Cython-0.29.32-py2.py3-none-any.whl (986 kB)\n",
      "     ------------------------------------- 986.3/986.3 kB 10.5 MB/s eta 0:00:00\n",
      "Collecting pyfume\n",
      "  Downloading pyFUME-0.2.25-py3-none-any.whl (67 kB)\n",
      "     ---------------------------------------- 67.1/67.1 kB 3.6 MB/s eta 0:00:00\n",
      "Requirement already satisfied: pandas in c:\\users\\user\\miniconda3\\envs\\py\\lib\\site-packages (from FuzzyTM>=0.4.0->gensim) (1.5.2)\n",
      "Requirement already satisfied: pytz>=2020.1 in c:\\users\\user\\miniconda3\\envs\\py\\lib\\site-packages (from pandas->FuzzyTM>=0.4.0->gensim) (2022.7)\n",
      "Requirement already satisfied: python-dateutil>=2.8.1 in c:\\users\\user\\miniconda3\\envs\\py\\lib\\site-packages (from pandas->FuzzyTM>=0.4.0->gensim) (2.8.2)\n",
      "Collecting fst-pso\n",
      "  Downloading fst-pso-1.8.1.tar.gz (18 kB)\n",
      "  Preparing metadata (setup.py): started\n",
      "  Preparing metadata (setup.py): finished with status 'done'\n",
      "Collecting simpful\n",
      "  Downloading simpful-2.9.0-py3-none-any.whl (30 kB)\n",
      "Requirement already satisfied: six>=1.5 in c:\\users\\user\\miniconda3\\envs\\py\\lib\\site-packages (from python-dateutil>=2.8.1->pandas->FuzzyTM>=0.4.0->gensim) (1.16.0)\n",
      "Collecting miniful\n",
      "  Downloading miniful-0.0.6.tar.gz (2.8 kB)\n",
      "  Preparing metadata (setup.py): started\n",
      "  Preparing metadata (setup.py): finished with status 'done'\n",
      "Requirement already satisfied: requests in c:\\users\\user\\miniconda3\\envs\\py\\lib\\site-packages (from simpful->pyfume->FuzzyTM>=0.4.0->gensim) (2.28.1)\n",
      "Requirement already satisfied: certifi>=2017.4.17 in c:\\users\\user\\miniconda3\\envs\\py\\lib\\site-packages (from requests->simpful->pyfume->FuzzyTM>=0.4.0->gensim) (2022.12.7)\n",
      "Requirement already satisfied: urllib3<1.27,>=1.21.1 in c:\\users\\user\\miniconda3\\envs\\py\\lib\\site-packages (from requests->simpful->pyfume->FuzzyTM>=0.4.0->gensim) (1.26.13)\n",
      "Requirement already satisfied: charset-normalizer<3,>=2 in c:\\users\\user\\miniconda3\\envs\\py\\lib\\site-packages (from requests->simpful->pyfume->FuzzyTM>=0.4.0->gensim) (2.0.4)\n",
      "Requirement already satisfied: idna<4,>=2.5 in c:\\users\\user\\miniconda3\\envs\\py\\lib\\site-packages (from requests->simpful->pyfume->FuzzyTM>=0.4.0->gensim) (3.4)\n",
      "Building wheels for collected packages: fst-pso, miniful\n",
      "  Building wheel for fst-pso (setup.py): started\n",
      "  Building wheel for fst-pso (setup.py): finished with status 'done'\n",
      "  Created wheel for fst-pso: filename=fst_pso-1.8.1-py3-none-any.whl size=20431 sha256=b25df66243218462290f99c9bfb7f42f1ee8dc0c2476f5d083d50cd70bdafb3d\n",
      "  Stored in directory: c:\\users\\user\\appdata\\local\\pip\\cache\\wheels\\01\\02\\ee\\df0699282986903a384b69aab4413af9efd26b3612b5dccc9e\n",
      "  Building wheel for miniful (setup.py): started\n",
      "  Building wheel for miniful (setup.py): finished with status 'done'\n",
      "  Created wheel for miniful: filename=miniful-0.0.6-py3-none-any.whl size=3514 sha256=5f3160a2078d5596933f7f00a6f5df97a945d6b54abc54c28188849e5e3cf211\n",
      "  Stored in directory: c:\\users\\user\\appdata\\local\\pip\\cache\\wheels\\43\\aa\\48\\5c66b931ff013ad19774081aa19656637af5c0cc33b5494b30\n",
      "Successfully built fst-pso miniful\n",
      "Installing collected packages: smart-open, Cython, simpful, miniful, fst-pso, pyfume, FuzzyTM, gensim\n",
      "Successfully installed Cython-0.29.32 FuzzyTM-2.0.5 fst-pso-1.8.1 gensim-4.3.0 miniful-0.0.6 pyfume-0.2.25 simpful-2.9.0 smart-open-6.3.0\n"
     ]
    }
   ],
   "source": [
    "!pip install gensim"
   ]
  },
  {
   "cell_type": "code",
   "execution_count": 9,
   "id": "379d86c6-5e37-42ee-9aae-bff110ec646d",
   "metadata": {},
   "outputs": [],
   "source": [
    "import gensim\n",
    "import gensim.corpora as corpora"
   ]
  },
  {
   "cell_type": "code",
   "execution_count": 16,
   "id": "275ef971-cd10-4e9b-a921-e9a5c9a17d27",
   "metadata": {},
   "outputs": [],
   "source": [
    "dictionary=corpora.Dictionary(description_noun_tk2)"
   ]
  },
  {
   "cell_type": "code",
   "execution_count": 17,
   "id": "7d83afae-90e6-4ea2-9203-911a15435608",
   "metadata": {},
   "outputs": [],
   "source": [
    "corpus = [dictionary.doc2bow(word) for word in description_noun_tk2]"
   ]
  },
  {
   "cell_type": "code",
   "execution_count": 27,
   "id": "add704d8-4140-4f2e-b4f4-4f5c414b9c0e",
   "metadata": {},
   "outputs": [],
   "source": [
    "# 토픽의 개수를 설정 - 하이퍼 파라미터\n",
    "k = 2\n",
    "lda_model = gensim.models.ldamulticore.LdaMulticore(corpus, iterations=12, num_topics=k, id2word=dictionary)"
   ]
  },
  {
   "cell_type": "code",
   "execution_count": 28,
   "id": "ae605af1-a1f1-424e-9421-a87727f70516",
   "metadata": {},
   "outputs": [
    {
     "name": "stdout",
     "output_type": "stream",
     "text": [
      "[(0, '0.082*\"코로나\" + 0.020*\"진자\" + 0.013*\"중국\" + 0.011*\"신규\" + 0.009*\"발생\" + 0.009*\"방역\" + 0.009*\"검사\" + 0.007*\"대책\" + 0.007*\"본부\" + 0.007*\"기준\" + 0.006*\"중앙\" + 0.006*\"접종\" + 0.006*\"지난\" + 0.005*\"바이러스\" + 0.005*\"입국\"'), (1, '0.086*\"코로나\" + 0.021*\"진자\" + 0.013*\"접종\" + 0.012*\"신규\" + 0.011*\"방역\" + 0.010*\"백신\" + 0.008*\"발생\" + 0.007*\"이후\" + 0.007*\"기준\" + 0.007*\"중국\" + 0.007*\"대책\" + 0.007*\"중앙\" + 0.006*\"검사\" + 0.006*\"본부\" + 0.006*\"유아\"')]\n"
     ]
    }
   ],
   "source": [
    "# 토픽분석 결과 출력\n",
    "print(lda_model.print_topics(num_topics=k, num_words=15))"
   ]
  },
  {
   "cell_type": "code",
   "execution_count": 29,
   "id": "53b67587-9853-45a3-886c-4459bcb6138a",
   "metadata": {},
   "outputs": [],
   "source": [
    "lda_topics = lda_model.print_topics(num_topics=k, num_words=15)"
   ]
  },
  {
   "cell_type": "code",
   "execution_count": 30,
   "id": "22dd62a4-cad5-412d-ba9f-e60a7d2d010a",
   "metadata": {},
   "outputs": [
    {
     "data": {
      "text/plain": [
       "(2, 15)"
      ]
     },
     "execution_count": 30,
     "metadata": {},
     "output_type": "execute_result"
    }
   ],
   "source": [
    "len(lda_topics), len(lda_topics[0][1].split('+'))"
   ]
  },
  {
   "cell_type": "code",
   "execution_count": 31,
   "id": "310ae196-68d3-4950-8826-c5347c8f5edd",
   "metadata": {},
   "outputs": [],
   "source": [
    "dic1 = {}\n",
    "dic1['토픽번호'] = [i[0] for i in lda_topics]\n",
    "dic1['주요단어(15)'] = [i[1] for i in lda_topics]"
   ]
  },
  {
   "cell_type": "code",
   "execution_count": 32,
   "id": "3ffe33a1-ec61-4d9b-a37b-8c8beb6f7504",
   "metadata": {},
   "outputs": [
    {
     "data": {
      "text/html": [
       "<div>\n",
       "<style scoped>\n",
       "    .dataframe tbody tr th:only-of-type {\n",
       "        vertical-align: middle;\n",
       "    }\n",
       "\n",
       "    .dataframe tbody tr th {\n",
       "        vertical-align: top;\n",
       "    }\n",
       "\n",
       "    .dataframe thead th {\n",
       "        text-align: right;\n",
       "    }\n",
       "</style>\n",
       "<table border=\"1\" class=\"dataframe\">\n",
       "  <thead>\n",
       "    <tr style=\"text-align: right;\">\n",
       "      <th></th>\n",
       "      <th>토픽번호</th>\n",
       "      <th>주요단어(15)</th>\n",
       "    </tr>\n",
       "  </thead>\n",
       "  <tbody>\n",
       "    <tr>\n",
       "      <th>0</th>\n",
       "      <td>0</td>\n",
       "      <td>0.082*\"코로나\" + 0.020*\"진자\" + 0.013*\"중국\" + 0.011*...</td>\n",
       "    </tr>\n",
       "    <tr>\n",
       "      <th>1</th>\n",
       "      <td>1</td>\n",
       "      <td>0.086*\"코로나\" + 0.021*\"진자\" + 0.013*\"접종\" + 0.012*...</td>\n",
       "    </tr>\n",
       "  </tbody>\n",
       "</table>\n",
       "</div>"
      ],
      "text/plain": [
       "   토픽번호                                           주요단어(15)\n",
       "0     0  0.082*\"코로나\" + 0.020*\"진자\" + 0.013*\"중국\" + 0.011*...\n",
       "1     1  0.086*\"코로나\" + 0.021*\"진자\" + 0.013*\"접종\" + 0.012*..."
      ]
     },
     "execution_count": 32,
     "metadata": {},
     "output_type": "execute_result"
    }
   ],
   "source": [
    "pd.DataFrame(dic1)"
   ]
  },
  {
   "cell_type": "code",
   "execution_count": 33,
   "id": "95e5db4b-a80e-4ad7-9a12-e2fd3a527bb4",
   "metadata": {},
   "outputs": [],
   "source": [
    "dic1['토픽레이블'] = ['확진자 신규 접종 대책','확진자 중국 방역 대책']"
   ]
  },
  {
   "cell_type": "code",
   "execution_count": 36,
   "id": "60110082-6013-4a7a-bcee-b9377e4c936c",
   "metadata": {},
   "outputs": [
    {
     "data": {
      "text/html": [
       "<div>\n",
       "<style scoped>\n",
       "    .dataframe tbody tr th:only-of-type {\n",
       "        vertical-align: middle;\n",
       "    }\n",
       "\n",
       "    .dataframe tbody tr th {\n",
       "        vertical-align: top;\n",
       "    }\n",
       "\n",
       "    .dataframe thead th {\n",
       "        text-align: right;\n",
       "    }\n",
       "</style>\n",
       "<table border=\"1\" class=\"dataframe\">\n",
       "  <thead>\n",
       "    <tr style=\"text-align: right;\">\n",
       "      <th></th>\n",
       "      <th>토픽번호</th>\n",
       "      <th>주요단어(15)</th>\n",
       "      <th>토픽레이블</th>\n",
       "    </tr>\n",
       "  </thead>\n",
       "  <tbody>\n",
       "    <tr>\n",
       "      <th>0</th>\n",
       "      <td>0</td>\n",
       "      <td>0.082*\"코로나\" + 0.020*\"진자\" + 0.013*\"중국\" + 0.011*...</td>\n",
       "      <td>확진자 신규 접종 대책</td>\n",
       "    </tr>\n",
       "    <tr>\n",
       "      <th>1</th>\n",
       "      <td>1</td>\n",
       "      <td>0.086*\"코로나\" + 0.021*\"진자\" + 0.013*\"접종\" + 0.012*...</td>\n",
       "      <td>확진자 중국 방역 대책</td>\n",
       "    </tr>\n",
       "  </tbody>\n",
       "</table>\n",
       "</div>"
      ],
      "text/plain": [
       "   토픽번호                                           주요단어(15)         토픽레이블\n",
       "0     0  0.082*\"코로나\" + 0.020*\"진자\" + 0.013*\"중국\" + 0.011*...  확진자 신규 접종 대책\n",
       "1     1  0.086*\"코로나\" + 0.021*\"진자\" + 0.013*\"접종\" + 0.012*...  확진자 중국 방역 대책"
      ]
     },
     "execution_count": 36,
     "metadata": {},
     "output_type": "execute_result"
    }
   ],
   "source": [
    "pd.DataFrame(dic1)"
   ]
  },
  {
   "cell_type": "markdown",
   "id": "b9cf4eab-d8c3-42b6-b43e-9c48cf282710",
   "metadata": {},
   "source": [
    "# 분석결과 시각화"
   ]
  },
  {
   "cell_type": "code",
   "execution_count": 37,
   "id": "565bb8d2-3254-492a-9819-2d6a8411d4cf",
   "metadata": {
    "collapsed": true,
    "jupyter": {
     "outputs_hidden": true
    },
    "tags": []
   },
   "outputs": [
    {
     "name": "stdout",
     "output_type": "stream",
     "text": [
      "Collecting pyLDAvis\n",
      "  Downloading pyLDAvis-3.3.1.tar.gz (1.7 MB)\n",
      "     ---------------------------------------- 1.7/1.7 MB 11.7 MB/s eta 0:00:00\n",
      "  Installing build dependencies: started\n",
      "  Installing build dependencies: finished with status 'done'\n",
      "  Getting requirements to build wheel: started\n",
      "  Getting requirements to build wheel: finished with status 'done'\n",
      "  Installing backend dependencies: started\n",
      "  Installing backend dependencies: finished with status 'done'\n",
      "  Preparing metadata (pyproject.toml): started\n",
      "  Preparing metadata (pyproject.toml): finished with status 'done'\n",
      "Requirement already satisfied: gensim in c:\\users\\user\\miniconda3\\envs\\py\\lib\\site-packages (from pyLDAvis) (4.3.0)\n",
      "Requirement already satisfied: pandas>=1.2.0 in c:\\users\\user\\miniconda3\\envs\\py\\lib\\site-packages (from pyLDAvis) (1.5.2)\n",
      "Requirement already satisfied: joblib in c:\\users\\user\\miniconda3\\envs\\py\\lib\\site-packages (from pyLDAvis) (1.2.0)\n",
      "Collecting funcy\n",
      "  Downloading funcy-1.18-py2.py3-none-any.whl (33 kB)\n",
      "Requirement already satisfied: sklearn in c:\\users\\user\\miniconda3\\envs\\py\\lib\\site-packages (from pyLDAvis) (0.0.post1)\n",
      "Requirement already satisfied: scipy in c:\\users\\user\\miniconda3\\envs\\py\\lib\\site-packages (from pyLDAvis) (1.10.0)\n",
      "Collecting future\n",
      "  Downloading future-0.18.3.tar.gz (840 kB)\n",
      "     ------------------------------------- 840.9/840.9 kB 13.2 MB/s eta 0:00:00\n",
      "  Preparing metadata (setup.py): started\n",
      "  Preparing metadata (setup.py): finished with status 'done'\n",
      "Requirement already satisfied: setuptools in c:\\users\\user\\miniconda3\\envs\\py\\lib\\site-packages (from pyLDAvis) (65.5.0)\n",
      "Requirement already satisfied: numpy>=1.20.0 in c:\\users\\user\\miniconda3\\envs\\py\\lib\\site-packages (from pyLDAvis) (1.24.1)\n",
      "Collecting numexpr\n",
      "  Downloading numexpr-2.8.4-cp310-cp310-win_amd64.whl (92 kB)\n",
      "     ---------------------------------------- 92.7/92.7 kB ? eta 0:00:00\n",
      "Requirement already satisfied: jinja2 in c:\\users\\user\\miniconda3\\envs\\py\\lib\\site-packages (from pyLDAvis) (3.1.2)\n",
      "Requirement already satisfied: scikit-learn in c:\\users\\user\\miniconda3\\envs\\py\\lib\\site-packages (from pyLDAvis) (0.24.0)\n",
      "Requirement already satisfied: pytz>=2020.1 in c:\\users\\user\\miniconda3\\envs\\py\\lib\\site-packages (from pandas>=1.2.0->pyLDAvis) (2022.7)\n",
      "Requirement already satisfied: python-dateutil>=2.8.1 in c:\\users\\user\\miniconda3\\envs\\py\\lib\\site-packages (from pandas>=1.2.0->pyLDAvis) (2.8.2)\n",
      "Requirement already satisfied: Cython==0.29.32 in c:\\users\\user\\miniconda3\\envs\\py\\lib\\site-packages (from gensim->pyLDAvis) (0.29.32)\n",
      "Requirement already satisfied: FuzzyTM>=0.4.0 in c:\\users\\user\\miniconda3\\envs\\py\\lib\\site-packages (from gensim->pyLDAvis) (2.0.5)\n",
      "Requirement already satisfied: smart-open>=1.8.1 in c:\\users\\user\\miniconda3\\envs\\py\\lib\\site-packages (from gensim->pyLDAvis) (6.3.0)\n",
      "Requirement already satisfied: MarkupSafe>=2.0 in c:\\users\\user\\miniconda3\\envs\\py\\lib\\site-packages (from jinja2->pyLDAvis) (2.1.1)\n",
      "Requirement already satisfied: threadpoolctl>=2.0.0 in c:\\users\\user\\miniconda3\\envs\\py\\lib\\site-packages (from scikit-learn->pyLDAvis) (3.1.0)\n",
      "Requirement already satisfied: pyfume in c:\\users\\user\\miniconda3\\envs\\py\\lib\\site-packages (from FuzzyTM>=0.4.0->gensim->pyLDAvis) (0.2.25)\n",
      "Requirement already satisfied: six>=1.5 in c:\\users\\user\\miniconda3\\envs\\py\\lib\\site-packages (from python-dateutil>=2.8.1->pandas>=1.2.0->pyLDAvis) (1.16.0)\n",
      "Requirement already satisfied: simpful in c:\\users\\user\\miniconda3\\envs\\py\\lib\\site-packages (from pyfume->FuzzyTM>=0.4.0->gensim->pyLDAvis) (2.9.0)\n",
      "Requirement already satisfied: fst-pso in c:\\users\\user\\miniconda3\\envs\\py\\lib\\site-packages (from pyfume->FuzzyTM>=0.4.0->gensim->pyLDAvis) (1.8.1)\n",
      "Requirement already satisfied: miniful in c:\\users\\user\\miniconda3\\envs\\py\\lib\\site-packages (from fst-pso->pyfume->FuzzyTM>=0.4.0->gensim->pyLDAvis) (0.0.6)\n",
      "Requirement already satisfied: requests in c:\\users\\user\\miniconda3\\envs\\py\\lib\\site-packages (from simpful->pyfume->FuzzyTM>=0.4.0->gensim->pyLDAvis) (2.28.1)\n",
      "Requirement already satisfied: urllib3<1.27,>=1.21.1 in c:\\users\\user\\miniconda3\\envs\\py\\lib\\site-packages (from requests->simpful->pyfume->FuzzyTM>=0.4.0->gensim->pyLDAvis) (1.26.13)\n",
      "Requirement already satisfied: certifi>=2017.4.17 in c:\\users\\user\\miniconda3\\envs\\py\\lib\\site-packages (from requests->simpful->pyfume->FuzzyTM>=0.4.0->gensim->pyLDAvis) (2022.12.7)\n",
      "Requirement already satisfied: charset-normalizer<3,>=2 in c:\\users\\user\\miniconda3\\envs\\py\\lib\\site-packages (from requests->simpful->pyfume->FuzzyTM>=0.4.0->gensim->pyLDAvis) (2.0.4)\n",
      "Requirement already satisfied: idna<4,>=2.5 in c:\\users\\user\\miniconda3\\envs\\py\\lib\\site-packages (from requests->simpful->pyfume->FuzzyTM>=0.4.0->gensim->pyLDAvis) (3.4)\n",
      "Building wheels for collected packages: pyLDAvis, future\n",
      "  Building wheel for pyLDAvis (pyproject.toml): started\n",
      "  Building wheel for pyLDAvis (pyproject.toml): finished with status 'done'\n",
      "  Created wheel for pyLDAvis: filename=pyLDAvis-3.3.1-py2.py3-none-any.whl size=136904 sha256=1a0191a570d928e22b6a2f4a90ee4f038096ddda65d0b454c20b63cf9bc3d03a\n",
      "  Stored in directory: c:\\users\\user\\appdata\\local\\pip\\cache\\wheels\\f0\\26\\9e\\a6d11f6155723bb47e608728aac50d0f0fa0e87226659bd5d8\n",
      "  Building wheel for future (setup.py): started\n",
      "  Building wheel for future (setup.py): finished with status 'done'\n",
      "  Created wheel for future: filename=future-0.18.3-py3-none-any.whl size=492025 sha256=4d921afa8afd8562d98a0395655c654a27e65905438012cae45ddea5611b4e45\n",
      "  Stored in directory: c:\\users\\user\\appdata\\local\\pip\\cache\\wheels\\69\\c0\\ce\\f2a18105d619f21239a048bcc58e98d8ce47ac824e0531f1a0\n",
      "Successfully built pyLDAvis future\n",
      "Installing collected packages: funcy, numexpr, future, pyLDAvis\n",
      "Successfully installed funcy-1.18 future-0.18.3 numexpr-2.8.4 pyLDAvis-3.3.1\n"
     ]
    }
   ],
   "source": [
    "!pip install pyLDAvis"
   ]
  },
  {
   "cell_type": "code",
   "execution_count": 38,
   "id": "f67fc0fe-79f6-401f-81c9-80f93c353cb8",
   "metadata": {},
   "outputs": [],
   "source": [
    "import os\n",
    "os.environ['PYTHONIOENCODING'] = \"utf-8\""
   ]
  },
  {
   "cell_type": "code",
   "execution_count": 39,
   "id": "f9f070a0-59fc-4d68-9b5c-c9b3ed83a290",
   "metadata": {},
   "outputs": [],
   "source": [
    "import pyLDAvis.gensim_models"
   ]
  },
  {
   "cell_type": "code",
   "execution_count": 40,
   "id": "e8daafac-564e-4afb-8de2-a0c3d03d8ae8",
   "metadata": {},
   "outputs": [
    {
     "name": "stderr",
     "output_type": "stream",
     "text": [
      "C:\\Users\\user\\miniconda3\\envs\\py\\lib\\site-packages\\pyLDAvis\\_prepare.py:247: FutureWarning: In a future version of pandas all arguments of DataFrame.drop except for the argument 'labels' will be keyword-only.\n",
      "  by='saliency', ascending=False).head(R).drop('saliency', 1)\n"
     ]
    }
   ],
   "source": [
    "lda_vis = pyLDAvis.gensim_models.prepare(lda_model, corpus, dictionary)"
   ]
  },
  {
   "cell_type": "code",
   "execution_count": 41,
   "id": "7b67152b-8a26-4ccc-a4cd-433159cdbd5e",
   "metadata": {
    "collapsed": true,
    "jupyter": {
     "outputs_hidden": true
    },
    "tags": []
   },
   "outputs": [
    {
     "data": {
      "text/html": [
       "\n",
       "<link rel=\"stylesheet\" type=\"text/css\" href=\"https://cdn.jsdelivr.net/gh/bmabey/pyLDAvis@3.3.1/pyLDAvis/js/ldavis.v1.0.0.css\">\n",
       "\n",
       "\n",
       "<div id=\"ldavis_el2099617544894754084229948003\"></div>\n",
       "<script type=\"text/javascript\">\n",
       "\n",
       "var ldavis_el2099617544894754084229948003_data = {\"mdsDat\": {\"x\": [0.004805260422133715, -0.004805260422133715], \"y\": [0.0, 0.0], \"topics\": [1, 2], \"cluster\": [1, 1], \"Freq\": [52.55637151382846, 47.44362848617154]}, \"tinfo\": {\"Term\": [\"\\uc911\\uad6d\", \"\\uc811\\uc885\", \"\\uc720\\uc544\", \"\\ubc31\\uc2e0\", \"\\uac80\\uc0ac\", \"\\uc785\\uad6d\", \"\\uc774\\ud6c4\", \"\\uc608\\ubc29\\uc811\\uc885\", \"\\uc9d1\\uacc4\", \"\\uacf5\\ubb34\\uc6d0\", \"\\uac1c\\uc6d4\", \"\\uc218\\uc820\\ud14d\", \"\\ubc1c\\uc0dd\", \"\\ud658\\uc790\", \"\\ubcf4\\ub3c4\", \"\\ud5c8\\uac00\", \"\\ub3d9\\uc2dc\", \"\\ub300\\uc751\", \"\\uac00\\ub3d9\", \"\\uae30\\uc5c5\", \"\\uc9c8\\ubcd1\", \"\\ubbf8\\uad6d\", \"\\uc81c\\ub85c\", \"\\uc775\\uc0b0\\uc2dc\", \"\\ud654\\uc774\\uc790\", \"\\uc720\\ud589\", \"\\ub3c5\\uac10\", \"\\ubcf8\\ubd80\", \"\\uc81c\\ud488\", \"\\uac04\\uaca9\", \"\\ubd80\\uc815\", \"\\uc720\\uc544\", \"\\ud55c\\uc778\", \"\\uc218\\uae09\", \"\\uc99d\\ud6c4\\uad70\", \"\\uac04\\uaca9\", \"\\uc778\\uacfc\\uc131\", \"\\uc0c1\\ub2f4\", \"\\ud734\\ub300\\uc804\\ud654\", \"\\ub2f9\\uc77c\", \"\\ud654\\uc774\\uc790\", \"\\uc6d0\\uc8fc\", \"\\uad6c\\uccad\", \"\\uc0ac\\uc804\", \"\\uc811\\uc885\", \"\\uc8fc\\ub85c\", \"\\ud1b5\\ud55c\", \"\\ubc31\\uc2e0\", \"\\ubb34\\ub8cc\", \"\\uad6c\\ubbfc\", \"\\uc608\\uc57d\", \"\\uc804\\uc8fc\", \"\\ub098\\uba38\\uc9c0\", \"\\uc0dd\\uc77c\", \"\\ubd88\\uad6c\", \"\\ub9c8\\uc220\", \"\\ubaa9\\ud3ec\\uc2dc\", \"\\ud544\\uc694\\uc131\", \"\\uba74\\uc5ed\", \"\\ud589\\uc815\\ubd80\", \"\\uc608\\ubc29\\uc811\\uc885\", \"\\ud655\\uc778\", \"\\uac1c\\uc6d4\", \"\\uc774\\ud6c4\", \"\\uc720\\ud589\", \"\\uc601\\uc720\", \"\\ud3c9\\uade0\", \"\\uc2dc\\uc791\", \"\\uc608\\ubc29\", \"\\ucf54\\ub85c\\ub098\", \"\\uc870\\uce58\", \"\\ub9e4\\uc77c\", \"\\uc9c4\\uc790\", \"\\ubc29\\uc5ed\", \"\\uc6b4\\ud56d\", \"\\uc2e0\\uc885\", \"\\uc2e0\\uaddc\", \"\\uc7ac\\ub09c\", \"\\uc9c0\\ub09c\\ud574\", \"\\uac10\\uc5fc\", \"\\uac10\\uc18c\", \"\\uae30\\uc900\", \"\\uc911\\uc559\", \"\\uc815\\ubd80\", \"\\uc11c\\uc6b8\", \"\\ub300\\ucc45\", \"\\uac10\\uc5fc\\uc99d\", \"\\uc0ac\\ud0dc\", \"\\uad6d\\ub0b4\", \"\\ub300\\uc0c1\", \"\\ube44\\uc0c1\", \"\\ubc1c\\uc0dd\", \"\\ubc14\\uc774\\ub7ec\\uc2a4\", \"\\uad00\\ub9ac\", \"\\ubcf8\\ubd80\", \"\\uc9c0\\ub09c\", \"\\uc911\\uad6d\", \"\\uac80\\uc0ac\", \"\\ubbf8\\uc138\\uba3c\\uc9c0\", \"\\uae09\\uc5ec\", \"\\uc218\\uc820\\ud14d\", \"\\ud30c\\uc6cc\", \"\\uacf5\\ubb34\\uc6d0\", \"\\uc544\\uc2dc\\uc544\", \"\\uc2f1\\ud06c\\ud0f1\\ud06c\", \"\\uc775\\uc0b0\\uc2dc\", \"\\uc720\\uc871\", \"\\uc74c\\uc131\", \"\\uc704\\uc5f0\", \"\\uc870\\ud569\\uc6d0\", \"\\uc21c\\uc9c1\", \"\\uc694\\uac00\", \"\\ub178\\ub3d9\\uc870\\ud569\", \"\\uaca9\\ubb34\", \"\\ubb34\\uc0c1\", \"\\ud0dd\\uc2dc\", \"\\ubcf4\\ub3c4\", \"\\ube14\\ub8f8\\ubc84\\uadf8\", \"\\ucf64\\ubcf4\", \"\\ub3d9\\uc2dc\", \"\\uc218\\ud589\", \"\\ub85c\\ubd80\\ud130\", \"\\ubd09\\uc0ac\", \"\\ud5c8\\uac00\", \"\\uc74c\\uc131\\uad70\", \"\\uace0\\uc218\", \"\\uc7ac\\uc791\\ub144\", \"\\uac00\\ub3d9\", \"\\uc911\\ud658\\uc790\", \"\\uc81c\\uc870\", \"\\uc911\\uad6d\", \"\\uc81c\\ub85c\", \"\\uc785\\uad6d\", \"\\uc9d1\\uacc4\", \"\\uacf5\\ud56d\", \"\\uac80\\uc0ac\", \"\\uc2dd\\ud488\\uc758\\uc57d\\ud488\\uc548\\uc804\\ucc98\", \"\\uae30\\uc5c5\", \"\\uc81c\\ud488\", \"\\ud658\\uc790\", \"\\ucf54\\ub85c\\ub098\", \"\\ubc1c\\uc0dd\", \"\\ub300\\uc751\", \"\\ubbf8\\uad6d\", \"\\uc9c8\\ubcd1\", \"\\ubcf8\\ubd80\", \"\\ub3c5\\uac10\", \"\\uc9c4\\uc790\", \"\\uc774\\uc804\", \"\\uc9c0\\ub09c\", \"\\uc2e0\\uaddc\", \"\\uae30\\ub85d\", \"\\ub204\\uc801\", \"\\ub300\\ucc45\", \"\\uae30\\uc790\", \"\\ubc29\\uc5ed\", \"\\ud55c\\uad6d\", \"\\ubc14\\uc774\\ub7ec\\uc2a4\", \"\\uc911\\uc559\", \"\\uae30\\uc900\", \"\\ub300\\ud574\", \"\\uc0ac\\ud0dc\", \"\\uc804\\ub0a0\", \"\\ubb38\\uc790\", \"\\uac10\\uc5fc\\uc99d\", \"\\uc0c1\\ud669\", \"\\uac10\\uc5fc\", \"\\uc7ac\\ub09c\", \"\\uac10\\uc18c\", \"\\uc815\\ubd80\", \"\\ub300\\uc0c1\", \"\\uc9c0\\ub09c\\ud574\", \"\\uad6d\\ub0b4\", \"\\uc811\\uc885\", \"\\ubc31\\uc2e0\", \"\\uc774\\ud6c4\"], \"Freq\": [227.0, 216.0, 97.0, 176.0, 168.0, 98.0, 135.0, 86.0, 53.0, 19.0, 88.0, 18.0, 195.0, 81.0, 19.0, 22.0, 21.0, 92.0, 19.0, 33.0, 94.0, 49.0, 21.0, 12.0, 28.0, 105.0, 39.0, 148.0, 23.0, 20.0, 6.043761563194429, 72.01229467309174, 2.6248629275672615, 11.73306378817648, 2.580442257047922, 14.716628092469556, 1.8970568808453172, 5.679987276238474, 2.5231896983744244, 13.135735296642492, 19.9623053616344, 2.4937986552046265, 2.490098353400953, 14.89414376515662, 150.48794182218708, 2.471792036607491, 4.322303922282568, 121.71158923906604, 4.3025251393646915, 3.050928585676338, 15.243638749242546, 7.301161345259226, 1.8248849906071167, 7.8935144259842485, 3.0257846260953074, 4.837928017999893, 9.667268273976442, 1.812201671223073, 9.651473360889506, 1.8063368581339598, 58.04087918104739, 17.973554758538693, 58.516399451048215, 88.50048044007114, 66.3688079949742, 27.6945965768271, 9.518467082460374, 21.303225148039672, 26.62625699155335, 1030.412843866283, 21.632457717848332, 20.51966023287866, 254.63594399528043, 129.41356129119603, 37.39264537730695, 59.94646745824683, 139.52068010876906, 70.90218882279562, 65.35625232954807, 68.85052856586648, 67.24222813734747, 87.31664551094045, 82.12087203934, 62.021759543902384, 47.06152598777218, 86.44402701364059, 61.139743984908726, 63.31638293557359, 55.50412344907398, 55.96447369945655, 42.68107844213165, 93.46777393179178, 64.20994441041616, 51.432657192924204, 72.23526891007157, 62.922068198112775, 87.26824618963362, 72.56256277920791, 3.319672469745484, 2.5732935184061603, 12.635714077678898, 1.8945975197782567, 13.86036312342199, 3.750650714572338, 1.8632087613107247, 8.665680641346123, 2.472755798680266, 3.6971428945298075, 1.8473091251759568, 1.8393378705615286, 6.730368444348154, 1.835085424987442, 4.280020040578953, 3.6639515815789547, 2.4380230959181395, 1.825025638218136, 13.342317947849537, 1.816668682801213, 7.786187328722954, 14.323096039936985, 1.78804233358282, 8.341894240309705, 1.7854655506970967, 14.839265478381995, 3.560117030848673, 1.1867387086008028, 1.7789420874907305, 13.024636172869544, 7.0286709526229885, 6.443158289119662, 140.01878883659856, 13.716923884589274, 58.36764764125699, 31.994542409368474, 12.407582732015618, 95.49685522639518, 9.11675144809187, 20.182592275592654, 14.429832141166816, 45.69670036062966, 888.2891201720679, 102.17653982131583, 50.38793273626201, 28.297053703288544, 50.93460269060985, 76.4702019741077, 22.95444679715225, 218.29179907761716, 50.606855004132825, 65.02599933837188, 120.3294237116517, 41.149064268130715, 54.298149882993535, 79.11606927588167, 36.014522215092725, 101.42134016273964, 41.953719061525824, 59.06481377713335, 69.80952350863379, 72.6682675008792, 39.30562047432765, 53.54218636093879, 31.947474347920043, 40.464863709719324, 50.29401773174052, 41.668252726212195, 53.28901084655586, 53.89978502809099, 52.20108331263916, 49.36862727997486, 46.49435474727721, 49.568920324720615, 45.13118509019901, 66.4394231716709, 55.085466985592454, 47.45921985446432], \"Total\": [227.0, 216.0, 97.0, 176.0, 168.0, 98.0, 135.0, 86.0, 53.0, 19.0, 88.0, 18.0, 195.0, 81.0, 19.0, 22.0, 21.0, 92.0, 19.0, 33.0, 94.0, 49.0, 21.0, 12.0, 28.0, 105.0, 39.0, 148.0, 23.0, 20.0, 8.012850063163322, 97.09354092395942, 3.564220899436296, 16.0408844390408, 3.5664210281970226, 20.509773111083653, 2.676628244445599, 8.029737969358917, 3.5690038400073103, 18.7405703788307, 28.560106430804638, 3.570385627557738, 3.5705686386993793, 21.42415194979833, 216.92736499385796, 3.5714349183113674, 6.249938537508401, 176.7970562246585, 6.251004244621121, 4.465948146114679, 22.32872943733146, 10.719358383840058, 2.679997175548148, 11.613340171128531, 4.467249504504057, 7.147519185503562, 14.294926603980628, 2.6806701598491967, 14.29546618269707, 2.6808897141017196, 86.68656118103272, 26.809751588865318, 88.50951150011937, 135.95970029453548, 105.65727671895769, 42.94780947380331, 14.302161174655629, 33.10500886196602, 42.07184413145731, 1918.701964038351, 34.01220340530082, 32.222757308251346, 472.92774307289756, 230.8349014539357, 61.84921211607919, 103.19718147760327, 259.85010382042077, 124.80197385088661, 114.92517265426869, 122.13953941242235, 119.44331144998662, 159.98491301181963, 151.93039554797377, 111.39038682387724, 81.67515273569774, 165.56009628952228, 111.43376171664924, 116.85856929651239, 100.63530853927298, 102.45882844673375, 74.51173947013518, 195.6443137531076, 123.27475818754951, 94.37754439747113, 148.70547088417925, 127.94806753648464, 227.28703502623216, 168.0594180056031, 4.551906459230832, 3.6380047376917393, 18.178827764294276, 2.727006679699929, 19.99504738218162, 5.451824717096917, 2.7255594865017585, 12.716768620454118, 3.6335833576329217, 5.449439863167911, 2.7249807003408555, 2.724557922231429, 9.9879074781817, 2.724315615673632, 6.3559679860276415, 5.44796119788004, 3.631853276105673, 2.7238770485141637, 19.970684747804327, 2.723433728675393, 11.796476305527353, 21.775475341764306, 2.7221637785391217, 12.701081142629732, 2.722038380360289, 22.67847749698502, 5.443340141166191, 1.8146570913690943, 2.721763764856652, 19.95693709936594, 10.881815575057509, 9.974918043408131, 227.28703502623216, 21.74804361008784, 98.59544721166321, 53.38574810421436, 19.92922778672193, 168.0594180056031, 14.497077602626621, 33.48473433697791, 23.542801815741353, 81.29280345863899, 1918.701964038351, 195.6443137531076, 92.07420304417596, 49.698156096254195, 94.73555981585959, 148.70547088417925, 39.77349347549566, 472.92774307289756, 96.48088299014722, 127.94806753648464, 259.85010382042077, 77.57235095881074, 107.2147968482622, 165.56009628952228, 67.6521269920361, 230.8349014539357, 82.00260703909112, 123.27475818754951, 151.93039554797377, 159.98491301181963, 77.48439575268152, 116.85856929651239, 60.427680313194315, 83.69921086001274, 111.43376171664924, 87.2787426778345, 122.13953941242235, 124.80197385088661, 119.44331144998662, 111.39038682387724, 102.45882844673375, 114.92517265426869, 100.63530853927298, 216.92736499385796, 176.7970562246585, 135.95970029453548], \"Category\": [\"Default\", \"Default\", \"Default\", \"Default\", \"Default\", \"Default\", \"Default\", \"Default\", \"Default\", \"Default\", \"Default\", \"Default\", \"Default\", \"Default\", \"Default\", \"Default\", \"Default\", \"Default\", \"Default\", \"Default\", \"Default\", \"Default\", \"Default\", \"Default\", \"Default\", \"Default\", \"Default\", \"Default\", \"Default\", \"Default\", \"Topic1\", \"Topic1\", \"Topic1\", \"Topic1\", \"Topic1\", \"Topic1\", \"Topic1\", \"Topic1\", \"Topic1\", \"Topic1\", \"Topic1\", \"Topic1\", \"Topic1\", \"Topic1\", \"Topic1\", \"Topic1\", \"Topic1\", \"Topic1\", \"Topic1\", \"Topic1\", \"Topic1\", \"Topic1\", \"Topic1\", \"Topic1\", \"Topic1\", \"Topic1\", \"Topic1\", \"Topic1\", \"Topic1\", \"Topic1\", \"Topic1\", \"Topic1\", \"Topic1\", \"Topic1\", \"Topic1\", \"Topic1\", \"Topic1\", \"Topic1\", \"Topic1\", \"Topic1\", \"Topic1\", \"Topic1\", \"Topic1\", \"Topic1\", \"Topic1\", \"Topic1\", \"Topic1\", \"Topic1\", \"Topic1\", \"Topic1\", \"Topic1\", \"Topic1\", \"Topic1\", \"Topic1\", \"Topic1\", \"Topic1\", \"Topic1\", \"Topic1\", \"Topic1\", \"Topic1\", \"Topic1\", \"Topic1\", \"Topic1\", \"Topic1\", \"Topic1\", \"Topic1\", \"Topic1\", \"Topic1\", \"Topic2\", \"Topic2\", \"Topic2\", \"Topic2\", \"Topic2\", \"Topic2\", \"Topic2\", \"Topic2\", \"Topic2\", \"Topic2\", \"Topic2\", \"Topic2\", \"Topic2\", \"Topic2\", \"Topic2\", \"Topic2\", \"Topic2\", \"Topic2\", \"Topic2\", \"Topic2\", \"Topic2\", \"Topic2\", \"Topic2\", \"Topic2\", \"Topic2\", \"Topic2\", \"Topic2\", \"Topic2\", \"Topic2\", \"Topic2\", \"Topic2\", \"Topic2\", \"Topic2\", \"Topic2\", \"Topic2\", \"Topic2\", \"Topic2\", \"Topic2\", \"Topic2\", \"Topic2\", \"Topic2\", \"Topic2\", \"Topic2\", \"Topic2\", \"Topic2\", \"Topic2\", \"Topic2\", \"Topic2\", \"Topic2\", \"Topic2\", \"Topic2\", \"Topic2\", \"Topic2\", \"Topic2\", \"Topic2\", \"Topic2\", \"Topic2\", \"Topic2\", \"Topic2\", \"Topic2\", \"Topic2\", \"Topic2\", \"Topic2\", \"Topic2\", \"Topic2\", \"Topic2\", \"Topic2\", \"Topic2\", \"Topic2\", \"Topic2\", \"Topic2\", \"Topic2\", \"Topic2\", \"Topic2\", \"Topic2\", \"Topic2\", \"Topic2\", \"Topic2\"], \"logprob\": [30.0, 29.0, 28.0, 27.0, 26.0, 25.0, 24.0, 23.0, 22.0, 21.0, 20.0, 19.0, 18.0, 17.0, 16.0, 15.0, 14.0, 13.0, 12.0, 11.0, 10.0, 9.0, 8.0, 7.0, 6.0, 5.0, 4.0, 3.0, 2.0, 1.0, -7.5899, -5.1121, -8.4239, -6.9265, -8.4409, -6.6999, -8.7486, -7.652, -8.4634, -6.8136, -6.3951, -8.4751, -8.4766, -6.6879, -4.375, -8.484, -7.9251, -4.5873, -7.9297, -8.2735, -6.6647, -7.4009, -8.7874, -7.3229, -8.2817, -7.8124, -7.1202, -8.7944, -7.1218, -8.7976, -5.3278, -6.5, -5.3196, -4.9059, -5.1937, -6.0677, -7.1357, -6.33, -6.107, -2.4512, -6.3147, -6.3675, -3.8491, -4.5259, -5.7674, -5.2955, -4.4507, -5.1276, -5.2091, -5.157, -5.1806, -4.9194, -4.9807, -5.2614, -5.5374, -4.9294, -5.2757, -5.2408, -5.3724, -5.3642, -5.6351, -4.8513, -5.2267, -5.4486, -5.109, -5.247, -4.9199, -5.1045, -8.0867, -8.3414, -6.75, -8.6476, -6.6575, -7.9646, -8.6643, -7.1272, -8.3812, -7.979, -8.6728, -8.6772, -7.3799, -8.6795, -7.8326, -7.988, -8.3954, -8.685, -6.6956, -8.6896, -7.2342, -6.6247, -8.7054, -7.1653, -8.7069, -6.5893, -8.0168, -9.1154, -8.7105, -6.7197, -7.3366, -7.4235, -4.3448, -6.6679, -5.2198, -5.821, -6.7683, -4.7275, -7.0764, -6.2817, -6.6173, -5.4645, -2.4973, -4.6599, -5.3668, -5.9438, -5.356, -4.9497, -6.153, -3.9007, -5.3625, -5.1118, -4.4963, -5.5694, -5.2921, -4.9156, -5.7026, -4.6673, -5.55, -5.2079, -5.0408, -5.0007, -5.6152, -5.3061, -5.8225, -5.5861, -5.3687, -5.5568, -5.3108, -5.2994, -5.3315, -5.3872, -5.4472, -5.3832, -5.477, -5.0903, -5.2777, -5.4267], \"loglift\": [30.0, 29.0, 28.0, 27.0, 26.0, 25.0, 24.0, 23.0, 22.0, 21.0, 20.0, 19.0, 18.0, 17.0, 16.0, 15.0, 14.0, 13.0, 12.0, 11.0, 10.0, 9.0, 8.0, 7.0, 6.0, 5.0, 4.0, 3.0, 2.0, 1.0, 0.3613, 0.3444, 0.3374, 0.3306, 0.3197, 0.3114, 0.299, 0.2971, 0.2965, 0.2879, 0.2851, 0.2844, 0.2829, 0.2797, 0.2776, 0.2753, 0.2745, 0.2699, 0.2697, 0.2622, 0.2616, 0.2593, 0.259, 0.2572, 0.2537, 0.253, 0.2521, 0.2518, 0.2505, 0.2484, 0.2421, 0.2434, 0.2295, 0.2139, 0.1783, 0.2045, 0.2361, 0.2025, 0.1858, 0.0216, 0.1908, 0.192, 0.0242, 0.0646, 0.1401, 0.1001, 0.0214, 0.0779, 0.0789, 0.0701, 0.0687, 0.0377, 0.0281, 0.0577, 0.092, -0.0066, 0.043, 0.0305, 0.0482, 0.0385, 0.0861, -0.0954, -0.009, 0.0363, -0.0788, -0.0664, -0.3139, -0.1966, 0.4299, 0.3994, 0.3819, 0.3814, 0.3792, 0.3716, 0.3653, 0.3621, 0.3607, 0.3577, 0.3569, 0.3527, 0.3509, 0.3505, 0.3502, 0.3489, 0.3471, 0.3452, 0.3423, 0.3407, 0.3302, 0.3267, 0.3253, 0.3252, 0.3239, 0.3215, 0.321, 0.3209, 0.3204, 0.3189, 0.3085, 0.3086, 0.2612, 0.2847, 0.2214, 0.2336, 0.2717, 0.1804, 0.2818, 0.2394, 0.2561, 0.1696, -0.0245, 0.096, 0.1428, 0.1824, 0.1251, 0.0806, 0.1959, -0.0275, 0.1004, 0.0688, -0.0242, 0.1116, 0.0653, 0.0072, 0.1152, -0.0768, 0.0754, 0.0098, -0.032, -0.0435, 0.0669, -0.0349, 0.1083, 0.0188, -0.0499, 0.0063, -0.0838, -0.094, -0.0821, -0.0681, -0.0445, -0.0953, -0.0563, -0.4376, -0.4205, -0.3069]}, \"token.table\": {\"Topic\": [1, 2, 1, 2, 1, 2, 1, 2, 1, 2, 1, 2, 1, 2, 1, 2, 1, 2, 1, 2, 1, 2, 1, 2, 1, 2, 1, 2, 1, 2, 1, 2, 1, 2, 1, 2, 1, 2, 1, 2, 1, 2, 1, 2, 1, 2, 1, 2, 1, 2, 1, 2, 1, 2, 1, 2, 1, 2, 1, 2, 1, 2, 1, 2, 1, 2, 1, 2, 1, 2, 1, 2, 1, 2, 1, 2, 1, 2, 1, 2, 1, 2, 1, 2, 1, 2, 1, 2, 1, 2, 1, 2, 1, 2, 1, 2, 1, 2, 1, 2, 1, 2, 1, 2, 1, 2, 1, 2, 1, 2, 1, 2, 1, 2, 1, 2, 1, 2, 1, 2, 1, 2, 1, 2, 1, 2, 1, 2, 1, 2, 1, 2, 1, 2, 1, 2, 1, 2, 1, 2, 1, 2, 1, 2, 1, 2, 1, 2, 1, 2, 1, 2, 1, 2, 1, 2, 1, 2, 1, 2, 1, 2, 1, 2, 1, 2, 1, 2, 1, 2, 1, 2, 1, 2, 1, 2, 1, 2, 1, 2, 1, 2, 1, 2, 1, 2, 1, 2, 1, 2, 1, 2, 1, 2, 1, 2, 1, 2, 1, 2, 1, 2, 1, 2, 1, 2, 1, 2, 1, 2, 1, 2, 1, 2, 1, 2, 1, 2, 1, 2, 1, 2, 1, 2, 1, 2, 1, 2, 1, 2, 1, 2, 1, 2, 1, 2, 1, 2, 1, 2, 1, 2], \"Freq\": [0.3507552268740878, 0.6514025641947344, 0.7313586512516744, 0.29254346050066976, 0.560935553331961, 0.43535296676510404, 0.564927625664374, 0.4339299153653888, 0.5474103993286088, 0.4486970486300072, 0.6665950246479491, 0.33894662270234693, 0.4343701820838519, 0.5652762643556977, 0.3671098099557424, 0.7342196199114848, 0.5510683008686427, 0.5510683008686427, 0.30007430766814974, 0.7001733845590161, 0.4014204707585353, 0.602130706137803, 0.5403827820017593, 0.45561685541324803, 0.6717498506134614, 0.22391661687115377, 0.5601348699260751, 0.28006743496303754, 0.5564647320393117, 0.4471591596744469, 0.2748759476972219, 0.8246278430916657, 0.4640828794671342, 0.5285388349486806, 0.38823661759334377, 0.5972871039897597, 0.4730080401428766, 0.5321340451607363, 0.5438012770214931, 0.45629302554677004, 0.7462694432097429, 0.37313472160487143, 0.3146648951657105, 0.629329790331421, 0.49433475190005044, 0.5036618226906174, 0.6936821952166817, 0.32016101317693, 0.5465610025895744, 0.4489608235557218, 0.45615382605971583, 0.5430402691187094, 0.5194488401940042, 0.4771681206433294, 0.49042132458889215, 0.5033271489201788, 0.42742033737804935, 0.5782745740997138, 0.32146255776903015, 0.6429251155380603, 0.31493381981274454, 0.6298676396254891, 0.6995434178254306, 0.27981736713017225, 0.6517133155027204, 0.3724076088586974, 0.6995224830165937, 0.34976124150829685, 0.6995488873105061, 0.34977444365525306, 0.6398971818715257, 0.31994859093576283, 0.2753415195980246, 0.5506830391960492, 0.5137443896803002, 0.47790175784213973, 0.42255088819246545, 0.5634011842566206, 0.21968816999130011, 0.6590645099739003, 0.5191654880606682, 0.47860568430592854, 0.47535243021353996, 0.5213542782987213, 0.5588409689673492, 0.4375421539976921, 0.6900567385294747, 0.31109115261574677, 0.3505137699782484, 0.6509541442453185, 0.48417855491058515, 0.5110773635167287, 0.367371748765585, 0.73474349753117, 0.7487972385235564, 0.24959907950785212, 0.6715541625725812, 0.2238513875241937, 0.36718352624881895, 0.7343670524976379, 0.577090272026661, 0.4294625280198407, 0.7001443994211962, 0.3267340530632249, 0.5391132236108954, 0.46209704880933894, 0.7472223904311327, 0.2490741301437109, 0.5270470058190041, 0.48121683139996024, 0.6888629698360585, 0.3444314849180293, 0.5754504084258385, 0.4285268998915818, 0.7480884265205496, 0.2493628088401832, 0.3300542850064748, 0.7151176175140287, 0.36735482555596294, 0.7347096511119259, 0.30036321487292655, 0.7008475013701619, 0.6343450952561643, 0.36248291157495105, 0.3448970983706458, 0.6208147770671625, 0.538772153413309, 0.4618047029256934, 0.5814112279124766, 0.4166780466706082, 0.36689714715546157, 0.7337942943109231, 0.36684965195744496, 0.7336993039148899, 0.6519540889990918, 0.3492611191066563, 0.6417593656136403, 0.35653298089646684, 0.669077181166238, 0.334538590583119, 0.6717802749188881, 0.3134974616288145, 0.36706466543258187, 0.7341293308651637, 0.5982291242539687, 0.3880405130296013, 0.5601635813686787, 0.28008179068433936, 0.3669750761445446, 0.7339501522890892, 0.7415529325105994, 0.2574836571217359, 0.2752104194608169, 0.5504208389216338, 0.624661188036828, 0.36911797474903474, 0.367010197418225, 0.73402039483645, 0.36742146331710157, 0.7348429266342031, 0.4767783894007022, 0.5286021273790394, 0.6546057383709686, 0.3456906708251183, 0.3145453156681842, 0.7077269602534144, 0.7472087332823664, 0.3736043666411832, 0.4056982460268029, 0.5882624567388642, 0.5689012586037364, 0.43268546429016574, 0.3674088151631585, 0.734817630326317, 0.46336380703143143, 0.5295586366073503, 0.6530241595945548, 0.27986749696909496, 0.6914756928165658, 0.30424930483928897, 0.5566009937467055, 0.43989433376755754, 0.3678491796057093, 0.6437360643099912, 0.40100580100940053, 0.6015087015141009, 0.3822824517845772, 0.5946615916648978, 0.6468266621200814, 0.3528145429745899, 0.36703202080614755, 0.7340640416122951, 0.5599990048105462, 0.2799995024052731, 0.382775902681642, 0.6159612227060905, 0.5397208353486288, 0.46073729846834166, 0.3675857187993981, 0.6432750078989466, 0.8411794278581369, 0.280393142619379, 0.49238727253176706, 0.5080186145169026, 0.5655854022124516, 0.4350656940095781, 0.5391944197291341, 0.46095836667039697, 0.4644507309137577, 0.5383406199227646, 0.3933634115046189, 0.5994109127689431, 0.536821256925243, 0.4628128894656464, 0.3390843075847795, 0.678168615169559, 0.367123765937044, 0.734247531874088, 0.6400062938210332, 0.3200031469105166, 0.3667024387743842, 0.7334048775487684, 0.6991950291904596, 0.3495975145952298, 0.7460820916932621, 0.37304104584663106, 0.48778936968347564, 0.5121788381676494, 0.8416986726256134, 0.2805662242085378, 0.7460209905240865, 0.3730104952620433, 0.3527573665852814, 0.6614200623474026, 0.7002775024125332, 0.31512487608563994, 0.6713974928240588, 0.3356987464120294, 0.44284362782883313, 0.5658557466701757, 0.8405706842819914, 0.28019022809399713], \"Term\": [\"\\uac00\\ub3d9\", \"\\uac00\\ub3d9\", \"\\uac04\\uaca9\", \"\\uac04\\uaca9\", \"\\uac10\\uc18c\", \"\\uac10\\uc18c\", \"\\uac10\\uc5fc\", \"\\uac10\\uc5fc\", \"\\uac10\\uc5fc\\uc99d\", \"\\uac10\\uc5fc\\uc99d\", \"\\uac1c\\uc6d4\", \"\\uac1c\\uc6d4\", \"\\uac80\\uc0ac\", \"\\uac80\\uc0ac\", \"\\uaca9\\ubb34\", \"\\uaca9\\ubb34\", \"\\uace0\\uc218\", \"\\uace0\\uc218\", \"\\uacf5\\ubb34\\uc6d0\", \"\\uacf5\\ubb34\\uc6d0\", \"\\uacf5\\ud56d\", \"\\uacf5\\ud56d\", \"\\uad00\\ub9ac\", \"\\uad00\\ub9ac\", \"\\uad6c\\ubbfc\", \"\\uad6c\\ubbfc\", \"\\uad6c\\uccad\", \"\\uad6c\\uccad\", \"\\uad6d\\ub0b4\", \"\\uad6d\\ub0b4\", \"\\uae09\\uc5ec\", \"\\uae09\\uc5ec\", \"\\uae30\\ub85d\", \"\\uae30\\ub85d\", \"\\uae30\\uc5c5\", \"\\uae30\\uc5c5\", \"\\uae30\\uc790\", \"\\uae30\\uc790\", \"\\uae30\\uc900\", \"\\uae30\\uc900\", \"\\ub098\\uba38\\uc9c0\", \"\\ub098\\uba38\\uc9c0\", \"\\ub178\\ub3d9\\uc870\\ud569\", \"\\ub178\\ub3d9\\uc870\\ud569\", \"\\ub204\\uc801\", \"\\ub204\\uc801\", \"\\ub2f9\\uc77c\", \"\\ub2f9\\uc77c\", \"\\ub300\\uc0c1\", \"\\ub300\\uc0c1\", \"\\ub300\\uc751\", \"\\ub300\\uc751\", \"\\ub300\\ucc45\", \"\\ub300\\ucc45\", \"\\ub300\\ud574\", \"\\ub300\\ud574\", \"\\ub3c5\\uac10\", \"\\ub3c5\\uac10\", \"\\ub3d9\\uc2dc\", \"\\ub3d9\\uc2dc\", \"\\ub85c\\ubd80\\ud130\", \"\\ub85c\\ubd80\\ud130\", \"\\ub9c8\\uc220\", \"\\ub9c8\\uc220\", \"\\ub9e4\\uc77c\", \"\\ub9e4\\uc77c\", \"\\uba74\\uc5ed\", \"\\uba74\\uc5ed\", \"\\ubaa9\\ud3ec\\uc2dc\", \"\\ubaa9\\ud3ec\\uc2dc\", \"\\ubb34\\ub8cc\", \"\\ubb34\\ub8cc\", \"\\ubb34\\uc0c1\", \"\\ubb34\\uc0c1\", \"\\ubb38\\uc790\", \"\\ubb38\\uc790\", \"\\ubbf8\\uad6d\", \"\\ubbf8\\uad6d\", \"\\ubbf8\\uc138\\uba3c\\uc9c0\", \"\\ubbf8\\uc138\\uba3c\\uc9c0\", \"\\ubc14\\uc774\\ub7ec\\uc2a4\", \"\\ubc14\\uc774\\ub7ec\\uc2a4\", \"\\ubc1c\\uc0dd\", \"\\ubc1c\\uc0dd\", \"\\ubc29\\uc5ed\", \"\\ubc29\\uc5ed\", \"\\ubc31\\uc2e0\", \"\\ubc31\\uc2e0\", \"\\ubcf4\\ub3c4\", \"\\ubcf4\\ub3c4\", \"\\ubcf8\\ubd80\", \"\\ubcf8\\ubd80\", \"\\ubd09\\uc0ac\", \"\\ubd09\\uc0ac\", \"\\ubd80\\uc815\", \"\\ubd80\\uc815\", \"\\ubd88\\uad6c\", \"\\ubd88\\uad6c\", \"\\ube14\\ub8f8\\ubc84\\uadf8\", \"\\ube14\\ub8f8\\ubc84\\uadf8\", \"\\ube44\\uc0c1\", \"\\ube44\\uc0c1\", \"\\uc0ac\\uc804\", \"\\uc0ac\\uc804\", \"\\uc0ac\\ud0dc\", \"\\uc0ac\\ud0dc\", \"\\uc0c1\\ub2f4\", \"\\uc0c1\\ub2f4\", \"\\uc0c1\\ud669\", \"\\uc0c1\\ud669\", \"\\uc0dd\\uc77c\", \"\\uc0dd\\uc77c\", \"\\uc11c\\uc6b8\", \"\\uc11c\\uc6b8\", \"\\uc218\\uae09\", \"\\uc218\\uae09\", \"\\uc218\\uc820\\ud14d\", \"\\uc218\\uc820\\ud14d\", \"\\uc218\\ud589\", \"\\uc218\\ud589\", \"\\uc21c\\uc9c1\", \"\\uc21c\\uc9c1\", \"\\uc2dc\\uc791\", \"\\uc2dc\\uc791\", \"\\uc2dd\\ud488\\uc758\\uc57d\\ud488\\uc548\\uc804\\ucc98\", \"\\uc2dd\\ud488\\uc758\\uc57d\\ud488\\uc548\\uc804\\ucc98\", \"\\uc2e0\\uaddc\", \"\\uc2e0\\uaddc\", \"\\uc2e0\\uc885\", \"\\uc2e0\\uc885\", \"\\uc2f1\\ud06c\\ud0f1\\ud06c\", \"\\uc2f1\\ud06c\\ud0f1\\ud06c\", \"\\uc544\\uc2dc\\uc544\", \"\\uc544\\uc2dc\\uc544\", \"\\uc601\\uc720\", \"\\uc601\\uc720\", \"\\uc608\\ubc29\", \"\\uc608\\ubc29\", \"\\uc608\\ubc29\\uc811\\uc885\", \"\\uc608\\ubc29\\uc811\\uc885\", \"\\uc608\\uc57d\", \"\\uc608\\uc57d\", \"\\uc694\\uac00\", \"\\uc694\\uac00\", \"\\uc6b4\\ud56d\", \"\\uc6b4\\ud56d\", \"\\uc6d0\\uc8fc\", \"\\uc6d0\\uc8fc\", \"\\uc704\\uc5f0\", \"\\uc704\\uc5f0\", \"\\uc720\\uc544\", \"\\uc720\\uc544\", \"\\uc720\\uc871\", \"\\uc720\\uc871\", \"\\uc720\\ud589\", \"\\uc720\\ud589\", \"\\uc74c\\uc131\", \"\\uc74c\\uc131\", \"\\uc74c\\uc131\\uad70\", \"\\uc74c\\uc131\\uad70\", \"\\uc774\\uc804\", \"\\uc774\\uc804\", \"\\uc774\\ud6c4\", \"\\uc774\\ud6c4\", \"\\uc775\\uc0b0\\uc2dc\", \"\\uc775\\uc0b0\\uc2dc\", \"\\uc778\\uacfc\\uc131\", \"\\uc778\\uacfc\\uc131\", \"\\uc785\\uad6d\", \"\\uc785\\uad6d\", \"\\uc7ac\\ub09c\", \"\\uc7ac\\ub09c\", \"\\uc7ac\\uc791\\ub144\", \"\\uc7ac\\uc791\\ub144\", \"\\uc804\\ub0a0\", \"\\uc804\\ub0a0\", \"\\uc804\\uc8fc\", \"\\uc804\\uc8fc\", \"\\uc811\\uc885\", \"\\uc811\\uc885\", \"\\uc815\\ubd80\", \"\\uc815\\ubd80\", \"\\uc81c\\ub85c\", \"\\uc81c\\ub85c\", \"\\uc81c\\uc870\", \"\\uc81c\\uc870\", \"\\uc81c\\ud488\", \"\\uc81c\\ud488\", \"\\uc870\\uce58\", \"\\uc870\\uce58\", \"\\uc870\\ud569\\uc6d0\", \"\\uc870\\ud569\\uc6d0\", \"\\uc8fc\\ub85c\", \"\\uc8fc\\ub85c\", \"\\uc911\\uad6d\", \"\\uc911\\uad6d\", \"\\uc911\\uc559\", \"\\uc911\\uc559\", \"\\uc911\\ud658\\uc790\", \"\\uc911\\ud658\\uc790\", \"\\uc99d\\ud6c4\\uad70\", \"\\uc99d\\ud6c4\\uad70\", \"\\uc9c0\\ub09c\", \"\\uc9c0\\ub09c\", \"\\uc9c0\\ub09c\\ud574\", \"\\uc9c0\\ub09c\\ud574\", \"\\uc9c4\\uc790\", \"\\uc9c4\\uc790\", \"\\uc9c8\\ubcd1\", \"\\uc9c8\\ubcd1\", \"\\uc9d1\\uacc4\", \"\\uc9d1\\uacc4\", \"\\ucf54\\ub85c\\ub098\", \"\\ucf54\\ub85c\\ub098\", \"\\ucf64\\ubcf4\", \"\\ucf64\\ubcf4\", \"\\ud0dd\\uc2dc\", \"\\ud0dd\\uc2dc\", \"\\ud1b5\\ud55c\", \"\\ud1b5\\ud55c\", \"\\ud30c\\uc6cc\", \"\\ud30c\\uc6cc\", \"\\ud3c9\\uade0\", \"\\ud3c9\\uade0\", \"\\ud544\\uc694\\uc131\", \"\\ud544\\uc694\\uc131\", \"\\ud55c\\uad6d\", \"\\ud55c\\uad6d\", \"\\ud55c\\uc778\", \"\\ud55c\\uc778\", \"\\ud589\\uc815\\ubd80\", \"\\ud589\\uc815\\ubd80\", \"\\ud5c8\\uac00\", \"\\ud5c8\\uac00\", \"\\ud654\\uc774\\uc790\", \"\\ud654\\uc774\\uc790\", \"\\ud655\\uc778\", \"\\ud655\\uc778\", \"\\ud658\\uc790\", \"\\ud658\\uc790\", \"\\ud734\\ub300\\uc804\\ud654\", \"\\ud734\\ub300\\uc804\\ud654\"]}, \"R\": 30, \"lambda.step\": 0.01, \"plot.opts\": {\"xlab\": \"PC1\", \"ylab\": \"PC2\"}, \"topic.order\": [2, 1]};\n",
       "\n",
       "function LDAvis_load_lib(url, callback){\n",
       "  var s = document.createElement('script');\n",
       "  s.src = url;\n",
       "  s.async = true;\n",
       "  s.onreadystatechange = s.onload = callback;\n",
       "  s.onerror = function(){console.warn(\"failed to load library \" + url);};\n",
       "  document.getElementsByTagName(\"head\")[0].appendChild(s);\n",
       "}\n",
       "\n",
       "if(typeof(LDAvis) !== \"undefined\"){\n",
       "   // already loaded: just create the visualization\n",
       "   !function(LDAvis){\n",
       "       new LDAvis(\"#\" + \"ldavis_el2099617544894754084229948003\", ldavis_el2099617544894754084229948003_data);\n",
       "   }(LDAvis);\n",
       "}else if(typeof define === \"function\" && define.amd){\n",
       "   // require.js is available: use it to load d3/LDAvis\n",
       "   require.config({paths: {d3: \"https://d3js.org/d3.v5\"}});\n",
       "   require([\"d3\"], function(d3){\n",
       "      window.d3 = d3;\n",
       "      LDAvis_load_lib(\"https://cdn.jsdelivr.net/gh/bmabey/pyLDAvis@3.3.1/pyLDAvis/js/ldavis.v3.0.0.js\", function(){\n",
       "        new LDAvis(\"#\" + \"ldavis_el2099617544894754084229948003\", ldavis_el2099617544894754084229948003_data);\n",
       "      });\n",
       "    });\n",
       "}else{\n",
       "    // require.js not available: dynamically load d3 & LDAvis\n",
       "    LDAvis_load_lib(\"https://d3js.org/d3.v5.js\", function(){\n",
       "         LDAvis_load_lib(\"https://cdn.jsdelivr.net/gh/bmabey/pyLDAvis@3.3.1/pyLDAvis/js/ldavis.v3.0.0.js\", function(){\n",
       "                 new LDAvis(\"#\" + \"ldavis_el2099617544894754084229948003\", ldavis_el2099617544894754084229948003_data);\n",
       "            })\n",
       "         });\n",
       "}\n",
       "</script>"
      ],
      "text/plain": [
       "<IPython.core.display.HTML object>"
      ]
     },
     "execution_count": 41,
     "metadata": {},
     "output_type": "execute_result"
    }
   ],
   "source": [
    "pyLDAvis.display(lda_vis)"
   ]
  },
  {
   "cell_type": "code",
   "execution_count": 42,
   "id": "345b6401-0202-4b2e-93b3-98ac275fae78",
   "metadata": {},
   "outputs": [],
   "source": [
    "pyLDAvis.save_html(lda_vis, '코로나 토픽분석.html')"
   ]
  },
  {
   "cell_type": "code",
   "execution_count": null,
   "id": "a4635473-965c-4d38-ba1b-90a839355fcc",
   "metadata": {
    "jupyter": {
     "source_hidden": true
    },
    "tags": []
   },
   "outputs": [],
   "source": []
  },
  {
   "cell_type": "markdown",
   "id": "feb97d2f-57ab-45ae-bbcd-b9420dbb3c28",
   "metadata": {},
   "source": [
    "# 머신러닝 물고기 크기 분류"
   ]
  },
  {
   "cell_type": "code",
   "execution_count": 2,
   "id": "c33d79a6-5bfe-43a9-8f1b-135b91338e1d",
   "metadata": {},
   "outputs": [],
   "source": [
    "import pandas as pd\n",
    "import numpy as np\n",
    "import random as rd"
   ]
  },
  {
   "cell_type": "code",
   "execution_count": 5,
   "id": "ce9cd3d6-7f38-47ff-9151-9ce9184c0570",
   "metadata": {},
   "outputs": [],
   "source": [
    "rd.random()*16+25\n",
    "rd.random()*710+240\n",
    "bream_length, bream_weight = [], []\n",
    "for i in range(40):\n",
    "    bream_length.append(round(rd.random()*16+25, 1))\n",
    "    bream_weight.append(round(rd.random()*710+240, 1))"
   ]
  },
  {
   "cell_type": "code",
   "execution_count": 6,
   "id": "38050ab8-07c7-4053-8afe-67b79dacf6dc",
   "metadata": {},
   "outputs": [],
   "source": [
    "bream_length = sorted(bream_length)\n",
    "bream_weight = sorted(bream_weight)"
   ]
  },
  {
   "cell_type": "code",
   "execution_count": 7,
   "id": "9419e346-6c1a-470c-8bd9-1d9acf21abf7",
   "metadata": {},
   "outputs": [
    {
     "data": {
      "text/plain": [
       "([25.3, 25.4, 25.6, 26.0, 26.6], [240.2, 247.8, 249.3, 274.7, 275.3])"
      ]
     },
     "execution_count": 7,
     "metadata": {},
     "output_type": "execute_result"
    }
   ],
   "source": [
    "bream_length[:5], bream_weight[:5]"
   ]
  },
  {
   "cell_type": "code",
   "execution_count": 8,
   "id": "9dbd8e6c-be91-46f0-8134-2a195ee4d2e1",
   "metadata": {},
   "outputs": [
    {
     "data": {
      "text/plain": [
       "<matplotlib.collections.PathCollection at 0x24bc4cf37c0>"
      ]
     },
     "execution_count": 8,
     "metadata": {},
     "output_type": "execute_result"
    },
    {
     "data": {
      "image/png": "[encoded data removed]",
      "text/plain": [
       "<Figure size 640x480 with 1 Axes>"
      ]
     },
     "metadata": {},
     "output_type": "display_data"
    }
   ],
   "source": [
    "import matplotlib.pyplot as plt\n",
    "plt.scatter(bream_length, bream_weight)"
   ]
  },
  {
   "cell_type": "code",
   "execution_count": 9,
   "id": "a38704a6-67d5-4230-9be8-bf83722ae81f",
   "metadata": {},
   "outputs": [],
   "source": [
    "smelt_length, smelt_weight = [], []\n",
    "for i in range(40):\n",
    "    smelt_length.append(round(rd.random()*6+9, 1))\n",
    "    smelt_weight.append(round(rd.random()*14+6, 1))"
   ]
  },
  {
   "cell_type": "code",
   "execution_count": 10,
   "id": "6e72a275-8432-44a1-9bd3-a8370b1fd728",
   "metadata": {},
   "outputs": [],
   "source": [
    "smelt_length = sorted(smelt_length)\n",
    "smelt_weight = sorted(smelt_weight)"
   ]
  },
  {
   "cell_type": "code",
   "execution_count": 11,
   "id": "010b8530-a0b3-4a83-9a04-b19b998d0cbc",
   "metadata": {},
   "outputs": [
    {
     "data": {
      "text/plain": [
       "([9.1, 9.2, 9.4, 9.5, 9.7], [6.1, 6.3, 6.3, 6.3, 6.5])"
      ]
     },
     "execution_count": 11,
     "metadata": {},
     "output_type": "execute_result"
    }
   ],
   "source": [
    "smelt_length[:5], smelt_weight[:5]"
   ]
  },
  {
   "cell_type": "code",
   "execution_count": 23,
   "id": "888b4cc6-fc1e-4e6a-99be-55a0ac86803e",
   "metadata": {},
   "outputs": [
    {
     "data": {
      "text/plain": [
       "<matplotlib.legend.Legend at 0x24beb52aef0>"
      ]
     },
     "execution_count": 23,
     "metadata": {},
     "output_type": "execute_result"
    },
    {
     "data": {
      "image/png": "[encoded data removed]",
      "text/plain": [
       "<Figure size 640x480 with 1 Axes>"
      ]
     },
     "metadata": {},
     "output_type": "display_data"
    }
   ],
   "source": [
    "plt.scatter(bream_length, bream_weight, label=\"bream\")\n",
    "plt.scatter(smelt_length, smelt_weight, label=\"smelt\")\n",
    "plt.scatter(30, 600)\n",
    "plt.legend()"
   ]
  },
  {
   "cell_type": "code",
   "execution_count": 16,
   "id": "b2672519-fe31-45f2-b297-10106c367b5e",
   "metadata": {},
   "outputs": [],
   "source": [
    "length = bream_length + smelt_length\n",
    "weight = bream_weight + smelt_weight\n",
    "target = [1]*len(bream_length) + [0]*len(smelt_length)"
   ]
  },
  {
   "cell_type": "code",
   "execution_count": 18,
   "id": "496a23ca-a2b8-45cc-9d1f-ea22de76d4a7",
   "metadata": {},
   "outputs": [],
   "source": [
    "fish_df = pd.DataFrame({'length':length, 'weight':weight, 'target':target})"
   ]
  },
  {
   "cell_type": "code",
   "execution_count": 21,
   "id": "154ffc54-ceb4-42f0-ac82-ac28c56c56db",
   "metadata": {},
   "outputs": [
    {
     "data": {
      "text/plain": [
       "((80, 1), (80, 2))"
      ]
     },
     "execution_count": 21,
     "metadata": {},
     "output_type": "execute_result"
    }
   ],
   "source": [
    "fish_data = fish_df.drop(columns=['target'])\n",
    "fish_target = fish_df.drop(columns=['length', 'weight'])\n",
    "fish_target.shape, fish_data.shape"
   ]
  },
  {
   "cell_type": "code",
   "execution_count": 22,
   "id": "9b10fd78-e6b0-47a7-8542-06b6e2a4b097",
   "metadata": {},
   "outputs": [
    {
     "name": "stderr",
     "output_type": "stream",
     "text": [
      "C:\\Users\\user\\miniconda3\\envs\\py\\lib\\site-packages\\sklearn\\neighbors\\_classification.py:179: DataConversionWarning: A column-vector y was passed when a 1d array was expected. Please change the shape of y to (n_samples,), for example using ravel().\n",
      "  return self._fit(X, y)\n",
      "C:\\Users\\user\\miniconda3\\envs\\py\\lib\\site-packages\\sklearn\\neighbors\\_classification.py:211: FutureWarning: Unlike other reduction functions (e.g. `skew`, `kurtosis`), the default behavior of `mode` typically preserves the axis it acts along. In SciPy 1.11.0, this behavior will change: the default value of `keepdims` will become False, the `axis` over which the statistic is taken will be eliminated, and the value None will no longer be accepted. Set `keepdims` to True or False to avoid this warning.\n",
      "  mode, _ = stats.mode(_y[neigh_ind, k], axis=1)\n"
     ]
    },
    {
     "data": {
      "text/plain": [
       "1.0"
      ]
     },
     "execution_count": 22,
     "metadata": {},
     "output_type": "execute_result"
    }
   ],
   "source": [
    "from sklearn.neighbors import KNeighborsClassifier\n",
    "kn = KNeighborsClassifier()\n",
    "kn.fit(fish_data, fish_target)\n",
    "kn.score(fish_data, fish_target)"
   ]
  },
  {
   "cell_type": "code",
   "execution_count": 24,
   "id": "1b2195af-32a1-4cde-a4aa-fa435365022f",
   "metadata": {},
   "outputs": [
    {
     "name": "stdout",
     "output_type": "stream",
     "text": [
      "bream\n"
     ]
    },
    {
     "name": "stderr",
     "output_type": "stream",
     "text": [
      "C:\\Users\\user\\miniconda3\\envs\\py\\lib\\site-packages\\sklearn\\neighbors\\_classification.py:211: FutureWarning: Unlike other reduction functions (e.g. `skew`, `kurtosis`), the default behavior of `mode` typically preserves the axis it acts along. In SciPy 1.11.0, this behavior will change: the default value of `keepdims` will become False, the `axis` over which the statistic is taken will be eliminated, and the value None will no longer be accepted. Set `keepdims` to True or False to avoid this warning.\n",
      "  mode, _ = stats.mode(_y[neigh_ind, k], axis=1)\n"
     ]
    }
   ],
   "source": [
    "if kn.predict([[30, 600]])[0] == 1:\n",
    "    print('bream')\n",
    "else:\n",
    "    print('smelt')"
   ]
  },
  {
   "cell_type": "code",
   "execution_count": 27,
   "id": "05699dd8-3097-46f9-b6b6-cb47567fc19a",
   "metadata": {},
   "outputs": [
    {
     "name": "stderr",
     "output_type": "stream",
     "text": [
      "C:\\Users\\user\\miniconda3\\envs\\py\\lib\\site-packages\\sklearn\\neighbors\\_classification.py:179: DataConversionWarning: A column-vector y was passed when a 1d array was expected. Please change the shape of y to (n_samples,), for example using ravel().\n",
      "  return self._fit(X, y)\n",
      "C:\\Users\\user\\miniconda3\\envs\\py\\lib\\site-packages\\sklearn\\neighbors\\_classification.py:211: FutureWarning: Unlike other reduction functions (e.g. `skew`, `kurtosis`), the default behavior of `mode` typically preserves the axis it acts along. In SciPy 1.11.0, this behavior will change: the default value of `keepdims` will become False, the `axis` over which the statistic is taken will be eliminated, and the value None will no longer be accepted. Set `keepdims` to True or False to avoid this warning.\n",
      "  mode, _ = stats.mode(_y[neigh_ind, k], axis=1)\n"
     ]
    },
    {
     "data": {
      "text/plain": [
       "0.9125"
      ]
     },
     "execution_count": 27,
     "metadata": {},
     "output_type": "execute_result"
    }
   ],
   "source": [
    "kn49 = KNeighborsClassifier(n_neighbors=49)\n",
    "kn49.fit(fish_data, fish_target)\n",
    "kn49.score(fish_data, fish_target)"
   ]
  },
  {
   "cell_type": "markdown",
   "id": "896e3197-4fe7-4e16-9017-2c936ce7b2b5",
   "metadata": {},
   "source": [
    "### k 최근접 이웃알고리즘 - 거리기반의 분류 모델\n",
    "### n_neighbors의 개수는 판단하려는 데이터에서 가장 가까운 이웃들의 수\n",
    "### score: 정확도"
   ]
  }
 ],
 "metadata": {
  "kernelspec": {
   "display_name": "Python 3 (ipykernel)",
   "language": "python",
   "name": "python3"
  },
  "language_info": {
   "codemirror_mode": {
    "name": "ipython",
    "version": 3
   },
   "file_extension": ".py",
   "mimetype": "text/x-python",
   "name": "python",
   "nbconvert_exporter": "python",
   "pygments_lexer": "ipython3",
   "version": "3.10.8"
  }
 },
 "nbformat": 4,
 "nbformat_minor": 5
}
