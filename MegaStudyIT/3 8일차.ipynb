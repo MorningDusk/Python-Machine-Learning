{
 "cells": [
  {
   "cell_type": "code",
   "execution_count": 1,
   "id": "16848971-c434-4584-b59e-6f0d640480e4",
   "metadata": {},
   "outputs": [],
   "source": [
    "import numpy as np\n",
    "import pandas as pd"
   ]
  },
  {
   "cell_type": "code",
   "execution_count": 2,
   "id": "0485163c-f8f9-48f0-8c01-3584a52afb11",
   "metadata": {},
   "outputs": [],
   "source": [
    "x = np.array([\n",
    "    [1,2,3,4,5],\n",
    "    [10,20,30,40,50]\n",
    "])\n",
    "y = np.array([0,1])"
   ]
  },
  {
   "cell_type": "code",
   "execution_count": 3,
   "id": "e4d87fa3-bcfb-4ca6-847c-3f0f3c55043d",
   "metadata": {},
   "outputs": [
    {
     "name": "stdout",
     "output_type": "stream",
     "text": [
      "[1 2 3 4 5] 0\n",
      "[10 20 30 40 50] 1\n"
     ]
    }
   ],
   "source": [
    "for a,b in zip(x,y):\n",
    "    print(a,b)"
   ]
  },
  {
   "cell_type": "code",
   "execution_count": 5,
   "id": "5f07f233-c018-4567-9365-03644a6f5795",
   "metadata": {},
   "outputs": [],
   "source": [
    "rgen = np.random.RandomState(1)\n",
    "w = rgen.normal(loc=0.0, scale=0.01, size=1+5)"
   ]
  },
  {
   "cell_type": "code",
   "execution_count": 6,
   "id": "490db07d-104d-4582-be57-09b2a87d27b4",
   "metadata": {},
   "outputs": [
    {
     "data": {
      "text/plain": [
       "array([ 0.01624345, -0.00611756, -0.00528172, -0.01072969,  0.00865408,\n",
       "       -0.02301539])"
      ]
     },
     "execution_count": 6,
     "metadata": {},
     "output_type": "execute_result"
    }
   ],
   "source": [
    "w"
   ]
  },
  {
   "cell_type": "markdown",
   "id": "140b6d46-d39b-4b76-b909-cec8ccd24301",
   "metadata": {},
   "source": [
    "# 퍼셉트론 API"
   ]
  },
  {
   "cell_type": "code",
   "execution_count": 7,
   "id": "df86b731-67f3-4c79-acc5-ffd86b5bbfe3",
   "metadata": {},
   "outputs": [],
   "source": [
    "class Perceptron(object):\n",
    "    def __init__(self, eta=0.01, n_iter=50, random_state=1):\n",
    "        self.eta = eta\n",
    "        self.n_iter = n_iter\n",
    "        self.random_state = random_state\n",
    "    # 학습함수\n",
    "    def fit(self, X,y):\n",
    "        # 가중치 초기화를 위한 시드값 고정\n",
    "        rgen=np.random.RandomState(self.random_state)\n",
    "        # 가중치 초기화 생성\n",
    "        self.w_ = rgen.normal(loc=0.0, scale=0.01, size=1+X.shape[1])\n",
    "        self.errors_ = []\n",
    "        for _ in range(self.n_iter):\n",
    "            errors = 0\n",
    "            for xi, target in zip(X,y):\n",
    "                update = self.eta*(target-self.predict(xi))\n",
    "                self.w_[1:] += update*xi\n",
    "                self.w_[0] += update\n",
    "                errors += int(update != 0.0)\n",
    "            self.errors_.append(errors)\n",
    "        return self\n",
    "    def net_input(self, X):\n",
    "        return np.dot(X, self.w_[1:]) + self.w_[0]"
   ]
  },
  {
   "cell_type": "code",
   "execution_count": 8,
   "id": "30b4f746-86a7-4428-ad41-1042b2769b28",
   "metadata": {},
   "outputs": [],
   "source": [
    "p = Perceptron()"
   ]
  },
  {
   "cell_type": "code",
   "execution_count": 9,
   "id": "443694af-44c5-4d96-a391-8bbae62b1a33",
   "metadata": {},
   "outputs": [
    {
     "data": {
      "text/plain": [
       "0.01"
      ]
     },
     "execution_count": 9,
     "metadata": {},
     "output_type": "execute_result"
    }
   ],
   "source": [
    "p.eta"
   ]
  },
  {
   "cell_type": "code",
   "execution_count": null,
   "id": "122aaea3-4ac2-4277-86ea-3fac40c54213",
   "metadata": {},
   "outputs": [],
   "source": []
  }
 ],
 "metadata": {
  "kernelspec": {
   "display_name": "Python 3 (ipykernel)",
   "language": "python",
   "name": "python3"
  },
  "language_info": {
   "codemirror_mode": {
    "name": "ipython",
    "version": 3
   },
   "file_extension": ".py",
   "mimetype": "text/x-python",
   "name": "python",
   "nbconvert_exporter": "python",
   "pygments_lexer": "ipython3",
   "version": "3.10.8"
  }
 },
 "nbformat": 4,
 "nbformat_minor": 5
}
