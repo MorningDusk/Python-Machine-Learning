{
 "cells": [
  {
   "cell_type": "code",
   "execution_count": 3,
   "id": "ff013956-5d31-4225-bee0-159fc82183a1",
   "metadata": {},
   "outputs": [],
   "source": [
    "bream_length, bream_weight = [], []\n",
    "for i in range(40):\n",
    "    bream_length.append(round(rd.random()*16+25, 1))\n",
    "    bream_weight.append(round(rd.random()*710+240, 1))\n",
    "bream_length = sorted(bream_length)\n",
    "bream_weight = sorted(bream_weight)"
   ]
  },
  {
   "cell_type": "code",
   "execution_count": 4,
   "id": "c296b7e4-eb65-4b5d-bdf9-434e2554923f",
   "metadata": {},
   "outputs": [],
   "source": [
    "smelt_length, smelt_weight = [], []\n",
    "for i in range(40):\n",
    "    smelt_length.append(round(rd.random()*6+9, 1))\n",
    "    smelt_weight.append(round(rd.random()*14+6, 1))\n",
    "smelt_length = sorted(smelt_length)\n",
    "smelt_weight = sorted(smelt_weight)"
   ]
  },
  {
   "cell_type": "code",
   "execution_count": 5,
   "id": "abe5e1a7-2438-4443-97d6-061819518a4b",
   "metadata": {},
   "outputs": [],
   "source": [
    "length = bream_length + smelt_length\n",
    "weight = bream_weight + smelt_weight\n",
    "target = [1]*len(bream_length) + [0]*len(smelt_length)"
   ]
  },
  {
   "cell_type": "code",
   "execution_count": 2,
   "id": "b0bb75d3-17f3-4f71-bd71-194c33520db8",
   "metadata": {},
   "outputs": [],
   "source": [
    "import random as rd\n",
    "import pandas as pd\n",
    "import numpy as np"
   ]
  },
  {
   "cell_type": "code",
   "execution_count": 8,
   "id": "c94bd736-54bc-4ff1-bba0-31d41f31e272",
   "metadata": {},
   "outputs": [],
   "source": [
    "fish_df = pd.DataFrame({'length':length, 'weight':weight, 'target':target})\n",
    "fish_data = [[l,w] for l,w in zip(length, weight)]\n",
    "fish_target = [1]*len(bream_length) + [0]*len(smelt_length)"
   ]
  },
  {
   "cell_type": "code",
   "execution_count": 10,
   "id": "ca907d48-7bd2-4e3a-a857-c79b4ab658f2",
   "metadata": {},
   "outputs": [
    {
     "data": {
      "text/plain": [
       "KNeighborsClassifier()"
      ]
     },
     "execution_count": 10,
     "metadata": {},
     "output_type": "execute_result"
    }
   ],
   "source": [
    "from sklearn.neighbors import KNeighborsClassifier\n",
    "kn = KNeighborsClassifier()\n",
    "kn.fit(fish_data, fish_target)"
   ]
  },
  {
   "cell_type": "code",
   "execution_count": 11,
   "id": "d6c6c32d-8faf-4a34-915a-f80ecb4edac2",
   "metadata": {
    "collapsed": true,
    "jupyter": {
     "outputs_hidden": true
    },
    "tags": []
   },
   "outputs": [
    {
     "name": "stdout",
     "output_type": "stream",
     "text": [
      "24 0.9875\n"
     ]
    },
    {
     "name": "stderr",
     "output_type": "stream",
     "text": [
      "C:\\Users\\user\\miniconda3\\envs\\py\\lib\\site-packages\\sklearn\\neighbors\\_classification.py:211: FutureWarning: Unlike other reduction functions (e.g. `skew`, `kurtosis`), the default behavior of `mode` typically preserves the axis it acts along. In SciPy 1.11.0, this behavior will change: the default value of `keepdims` will become False, the `axis` over which the statistic is taken will be eliminated, and the value None will no longer be accepted. Set `keepdims` to True or False to avoid this warning.\n",
      "  mode, _ = stats.mode(_y[neigh_ind, k], axis=1)\n",
      "C:\\Users\\user\\miniconda3\\envs\\py\\lib\\site-packages\\sklearn\\neighbors\\_classification.py:211: FutureWarning: Unlike other reduction functions (e.g. `skew`, `kurtosis`), the default behavior of `mode` typically preserves the axis it acts along. In SciPy 1.11.0, this behavior will change: the default value of `keepdims` will become False, the `axis` over which the statistic is taken will be eliminated, and the value None will no longer be accepted. Set `keepdims` to True or False to avoid this warning.\n",
      "  mode, _ = stats.mode(_y[neigh_ind, k], axis=1)\n",
      "C:\\Users\\user\\miniconda3\\envs\\py\\lib\\site-packages\\sklearn\\neighbors\\_classification.py:211: FutureWarning: Unlike other reduction functions (e.g. `skew`, `kurtosis`), the default behavior of `mode` typically preserves the axis it acts along. In SciPy 1.11.0, this behavior will change: the default value of `keepdims` will become False, the `axis` over which the statistic is taken will be eliminated, and the value None will no longer be accepted. Set `keepdims` to True or False to avoid this warning.\n",
      "  mode, _ = stats.mode(_y[neigh_ind, k], axis=1)\n",
      "C:\\Users\\user\\miniconda3\\envs\\py\\lib\\site-packages\\sklearn\\neighbors\\_classification.py:211: FutureWarning: Unlike other reduction functions (e.g. `skew`, `kurtosis`), the default behavior of `mode` typically preserves the axis it acts along. In SciPy 1.11.0, this behavior will change: the default value of `keepdims` will become False, the `axis` over which the statistic is taken will be eliminated, and the value None will no longer be accepted. Set `keepdims` to True or False to avoid this warning.\n",
      "  mode, _ = stats.mode(_y[neigh_ind, k], axis=1)\n",
      "C:\\Users\\user\\miniconda3\\envs\\py\\lib\\site-packages\\sklearn\\neighbors\\_classification.py:211: FutureWarning: Unlike other reduction functions (e.g. `skew`, `kurtosis`), the default behavior of `mode` typically preserves the axis it acts along. In SciPy 1.11.0, this behavior will change: the default value of `keepdims` will become False, the `axis` over which the statistic is taken will be eliminated, and the value None will no longer be accepted. Set `keepdims` to True or False to avoid this warning.\n",
      "  mode, _ = stats.mode(_y[neigh_ind, k], axis=1)\n",
      "C:\\Users\\user\\miniconda3\\envs\\py\\lib\\site-packages\\sklearn\\neighbors\\_classification.py:211: FutureWarning: Unlike other reduction functions (e.g. `skew`, `kurtosis`), the default behavior of `mode` typically preserves the axis it acts along. In SciPy 1.11.0, this behavior will change: the default value of `keepdims` will become False, the `axis` over which the statistic is taken will be eliminated, and the value None will no longer be accepted. Set `keepdims` to True or False to avoid this warning.\n",
      "  mode, _ = stats.mode(_y[neigh_ind, k], axis=1)\n",
      "C:\\Users\\user\\miniconda3\\envs\\py\\lib\\site-packages\\sklearn\\neighbors\\_classification.py:211: FutureWarning: Unlike other reduction functions (e.g. `skew`, `kurtosis`), the default behavior of `mode` typically preserves the axis it acts along. In SciPy 1.11.0, this behavior will change: the default value of `keepdims` will become False, the `axis` over which the statistic is taken will be eliminated, and the value None will no longer be accepted. Set `keepdims` to True or False to avoid this warning.\n",
      "  mode, _ = stats.mode(_y[neigh_ind, k], axis=1)\n",
      "C:\\Users\\user\\miniconda3\\envs\\py\\lib\\site-packages\\sklearn\\neighbors\\_classification.py:211: FutureWarning: Unlike other reduction functions (e.g. `skew`, `kurtosis`), the default behavior of `mode` typically preserves the axis it acts along. In SciPy 1.11.0, this behavior will change: the default value of `keepdims` will become False, the `axis` over which the statistic is taken will be eliminated, and the value None will no longer be accepted. Set `keepdims` to True or False to avoid this warning.\n",
      "  mode, _ = stats.mode(_y[neigh_ind, k], axis=1)\n",
      "C:\\Users\\user\\miniconda3\\envs\\py\\lib\\site-packages\\sklearn\\neighbors\\_classification.py:211: FutureWarning: Unlike other reduction functions (e.g. `skew`, `kurtosis`), the default behavior of `mode` typically preserves the axis it acts along. In SciPy 1.11.0, this behavior will change: the default value of `keepdims` will become False, the `axis` over which the statistic is taken will be eliminated, and the value None will no longer be accepted. Set `keepdims` to True or False to avoid this warning.\n",
      "  mode, _ = stats.mode(_y[neigh_ind, k], axis=1)\n",
      "C:\\Users\\user\\miniconda3\\envs\\py\\lib\\site-packages\\sklearn\\neighbors\\_classification.py:211: FutureWarning: Unlike other reduction functions (e.g. `skew`, `kurtosis`), the default behavior of `mode` typically preserves the axis it acts along. In SciPy 1.11.0, this behavior will change: the default value of `keepdims` will become False, the `axis` over which the statistic is taken will be eliminated, and the value None will no longer be accepted. Set `keepdims` to True or False to avoid this warning.\n",
      "  mode, _ = stats.mode(_y[neigh_ind, k], axis=1)\n",
      "C:\\Users\\user\\miniconda3\\envs\\py\\lib\\site-packages\\sklearn\\neighbors\\_classification.py:211: FutureWarning: Unlike other reduction functions (e.g. `skew`, `kurtosis`), the default behavior of `mode` typically preserves the axis it acts along. In SciPy 1.11.0, this behavior will change: the default value of `keepdims` will become False, the `axis` over which the statistic is taken will be eliminated, and the value None will no longer be accepted. Set `keepdims` to True or False to avoid this warning.\n",
      "  mode, _ = stats.mode(_y[neigh_ind, k], axis=1)\n",
      "C:\\Users\\user\\miniconda3\\envs\\py\\lib\\site-packages\\sklearn\\neighbors\\_classification.py:211: FutureWarning: Unlike other reduction functions (e.g. `skew`, `kurtosis`), the default behavior of `mode` typically preserves the axis it acts along. In SciPy 1.11.0, this behavior will change: the default value of `keepdims` will become False, the `axis` over which the statistic is taken will be eliminated, and the value None will no longer be accepted. Set `keepdims` to True or False to avoid this warning.\n",
      "  mode, _ = stats.mode(_y[neigh_ind, k], axis=1)\n",
      "C:\\Users\\user\\miniconda3\\envs\\py\\lib\\site-packages\\sklearn\\neighbors\\_classification.py:211: FutureWarning: Unlike other reduction functions (e.g. `skew`, `kurtosis`), the default behavior of `mode` typically preserves the axis it acts along. In SciPy 1.11.0, this behavior will change: the default value of `keepdims` will become False, the `axis` over which the statistic is taken will be eliminated, and the value None will no longer be accepted. Set `keepdims` to True or False to avoid this warning.\n",
      "  mode, _ = stats.mode(_y[neigh_ind, k], axis=1)\n",
      "C:\\Users\\user\\miniconda3\\envs\\py\\lib\\site-packages\\sklearn\\neighbors\\_classification.py:211: FutureWarning: Unlike other reduction functions (e.g. `skew`, `kurtosis`), the default behavior of `mode` typically preserves the axis it acts along. In SciPy 1.11.0, this behavior will change: the default value of `keepdims` will become False, the `axis` over which the statistic is taken will be eliminated, and the value None will no longer be accepted. Set `keepdims` to True or False to avoid this warning.\n",
      "  mode, _ = stats.mode(_y[neigh_ind, k], axis=1)\n",
      "C:\\Users\\user\\miniconda3\\envs\\py\\lib\\site-packages\\sklearn\\neighbors\\_classification.py:211: FutureWarning: Unlike other reduction functions (e.g. `skew`, `kurtosis`), the default behavior of `mode` typically preserves the axis it acts along. In SciPy 1.11.0, this behavior will change: the default value of `keepdims` will become False, the `axis` over which the statistic is taken will be eliminated, and the value None will no longer be accepted. Set `keepdims` to True or False to avoid this warning.\n",
      "  mode, _ = stats.mode(_y[neigh_ind, k], axis=1)\n",
      "C:\\Users\\user\\miniconda3\\envs\\py\\lib\\site-packages\\sklearn\\neighbors\\_classification.py:211: FutureWarning: Unlike other reduction functions (e.g. `skew`, `kurtosis`), the default behavior of `mode` typically preserves the axis it acts along. In SciPy 1.11.0, this behavior will change: the default value of `keepdims` will become False, the `axis` over which the statistic is taken will be eliminated, and the value None will no longer be accepted. Set `keepdims` to True or False to avoid this warning.\n",
      "  mode, _ = stats.mode(_y[neigh_ind, k], axis=1)\n",
      "C:\\Users\\user\\miniconda3\\envs\\py\\lib\\site-packages\\sklearn\\neighbors\\_classification.py:211: FutureWarning: Unlike other reduction functions (e.g. `skew`, `kurtosis`), the default behavior of `mode` typically preserves the axis it acts along. In SciPy 1.11.0, this behavior will change: the default value of `keepdims` will become False, the `axis` over which the statistic is taken will be eliminated, and the value None will no longer be accepted. Set `keepdims` to True or False to avoid this warning.\n",
      "  mode, _ = stats.mode(_y[neigh_ind, k], axis=1)\n",
      "C:\\Users\\user\\miniconda3\\envs\\py\\lib\\site-packages\\sklearn\\neighbors\\_classification.py:211: FutureWarning: Unlike other reduction functions (e.g. `skew`, `kurtosis`), the default behavior of `mode` typically preserves the axis it acts along. In SciPy 1.11.0, this behavior will change: the default value of `keepdims` will become False, the `axis` over which the statistic is taken will be eliminated, and the value None will no longer be accepted. Set `keepdims` to True or False to avoid this warning.\n",
      "  mode, _ = stats.mode(_y[neigh_ind, k], axis=1)\n",
      "C:\\Users\\user\\miniconda3\\envs\\py\\lib\\site-packages\\sklearn\\neighbors\\_classification.py:211: FutureWarning: Unlike other reduction functions (e.g. `skew`, `kurtosis`), the default behavior of `mode` typically preserves the axis it acts along. In SciPy 1.11.0, this behavior will change: the default value of `keepdims` will become False, the `axis` over which the statistic is taken will be eliminated, and the value None will no longer be accepted. Set `keepdims` to True or False to avoid this warning.\n",
      "  mode, _ = stats.mode(_y[neigh_ind, k], axis=1)\n",
      "C:\\Users\\user\\miniconda3\\envs\\py\\lib\\site-packages\\sklearn\\neighbors\\_classification.py:211: FutureWarning: Unlike other reduction functions (e.g. `skew`, `kurtosis`), the default behavior of `mode` typically preserves the axis it acts along. In SciPy 1.11.0, this behavior will change: the default value of `keepdims` will become False, the `axis` over which the statistic is taken will be eliminated, and the value None will no longer be accepted. Set `keepdims` to True or False to avoid this warning.\n",
      "  mode, _ = stats.mode(_y[neigh_ind, k], axis=1)\n"
     ]
    }
   ],
   "source": [
    "for n in range(5,50):\n",
    "    kn.n_neighbors = n\n",
    "    score = kn.score(fish_data, fish_target)\n",
    "    if score < 1:\n",
    "        print(n, score)\n",
    "        break"
   ]
  },
  {
   "cell_type": "code",
   "execution_count": 15,
   "id": "0cc06216-524b-4a15-aba8-4f1b2701b5ee",
   "metadata": {},
   "outputs": [],
   "source": [
    "train_input = fish_data[:40]\n",
    "train_target = fish_target[:40]\n",
    "\n",
    "test_input = fish_data[40:]\n",
    "test_target = fish_target[40:]"
   ]
  },
  {
   "cell_type": "code",
   "execution_count": 16,
   "id": "b4a14d1b-bd99-44aa-8061-6cb1ae40044c",
   "metadata": {},
   "outputs": [
    {
     "name": "stderr",
     "output_type": "stream",
     "text": [
      "C:\\Users\\user\\miniconda3\\envs\\py\\lib\\site-packages\\sklearn\\neighbors\\_classification.py:211: FutureWarning: Unlike other reduction functions (e.g. `skew`, `kurtosis`), the default behavior of `mode` typically preserves the axis it acts along. In SciPy 1.11.0, this behavior will change: the default value of `keepdims` will become False, the `axis` over which the statistic is taken will be eliminated, and the value None will no longer be accepted. Set `keepdims` to True or False to avoid this warning.\n",
      "  mode, _ = stats.mode(_y[neigh_ind, k], axis=1)\n"
     ]
    },
    {
     "data": {
      "text/plain": [
       "0.0"
      ]
     },
     "execution_count": 16,
     "metadata": {},
     "output_type": "execute_result"
    }
   ],
   "source": [
    "kn.fit(train_input, train_target)\n",
    "kn.score(test_input, test_target)"
   ]
  },
  {
   "cell_type": "code",
   "execution_count": 17,
   "id": "fb4bf793-352e-4553-a678-080f60445495",
   "metadata": {
    "collapsed": true,
    "jupyter": {
     "outputs_hidden": true
    },
    "tags": []
   },
   "outputs": [
    {
     "name": "stdout",
     "output_type": "stream",
     "text": [
      "[[ 25.2 256.9]\n",
      " [ 25.6 287.3]\n",
      " [ 26.3 313.1]\n",
      " [ 26.4 316.9]\n",
      " [ 27.  335.9]\n",
      " [ 27.4 344.5]\n",
      " [ 27.6 348.4]\n",
      " [ 28.9 355.7]\n",
      " [ 29.1 372.4]\n",
      " [ 29.4 405.3]\n",
      " [ 29.4 475. ]\n",
      " [ 29.6 476.5]\n",
      " [ 30.  507.6]\n",
      " [ 30.2 537.4]\n",
      " [ 30.3 555.6]\n",
      " [ 30.5 558.9]\n",
      " [ 31.4 561.2]\n",
      " [ 31.6 582. ]\n",
      " [ 32.1 595.5]\n",
      " [ 33.8 635.4]\n",
      " [ 34.1 645.1]\n",
      " [ 34.4 652.1]\n",
      " [ 34.5 732.8]\n",
      " [ 34.7 737.4]\n",
      " [ 34.7 741.8]\n",
      " [ 35.3 756.4]\n",
      " [ 35.7 777.7]\n",
      " [ 36.  780.3]\n",
      " [ 36.2 784. ]\n",
      " [ 36.3 811. ]\n",
      " [ 37.2 843.7]\n",
      " [ 38.5 851.4]\n",
      " [ 38.6 862.2]\n",
      " [ 38.6 864.6]\n",
      " [ 38.8 877.2]\n",
      " [ 39.2 908.6]\n",
      " [ 39.3 913.9]\n",
      " [ 39.6 916.2]\n",
      " [ 40.3 935.6]\n",
      " [ 40.8 937.7]\n",
      " [  9.1   6.1]\n",
      " [  9.3   6.2]\n",
      " [  9.5   7. ]\n",
      " [  9.6   7.2]\n",
      " [  9.7   7.2]\n",
      " [  9.8   7.2]\n",
      " [ 10.    8.9]\n",
      " [ 10.    9.1]\n",
      " [ 10.2   9.2]\n",
      " [ 10.4   9.4]\n",
      " [ 10.6   9.5]\n",
      " [ 10.7  10.1]\n",
      " [ 10.8  10.9]\n",
      " [ 11.2  11.4]\n",
      " [ 11.3  11.5]\n",
      " [ 11.6  11.6]\n",
      " [ 11.7  11.8]\n",
      " [ 11.9  12. ]\n",
      " [ 12.4  12. ]\n",
      " [ 12.4  12.5]\n",
      " [ 12.5  12.6]\n",
      " [ 12.6  13.4]\n",
      " [ 12.7  14.9]\n",
      " [ 12.7  15.5]\n",
      " [ 12.7  15.9]\n",
      " [ 12.9  16. ]\n",
      " [ 13.   16.5]\n",
      " [ 13.1  16.7]\n",
      " [ 13.2  16.9]\n",
      " [ 13.5  16.9]\n",
      " [ 13.7  17.2]\n",
      " [ 13.7  17.5]\n",
      " [ 13.8  17.5]\n",
      " [ 13.8  18. ]\n",
      " [ 13.8  18.3]\n",
      " [ 14.2  18.4]\n",
      " [ 14.3  18.4]\n",
      " [ 14.3  18.4]\n",
      " [ 14.4  18.7]\n",
      " [ 14.5  19.4]]\n"
     ]
    }
   ],
   "source": [
    "input_arr = np.array(fish_data)\n",
    "target_arr = np.array(fish_target)\n",
    "print(input_arr)"
   ]
  },
  {
   "cell_type": "code",
   "execution_count": 19,
   "id": "1bc7c620-d94c-4bdd-b9cb-d5ce41994967",
   "metadata": {},
   "outputs": [],
   "source": [
    "np.random.seed(42)\n",
    "index = np.arange(49)\n",
    "np.random.shuffle(index)"
   ]
  },
  {
   "cell_type": "code",
   "execution_count": 22,
   "id": "df29d81c-888a-413b-b8cf-d9dd64310c21",
   "metadata": {},
   "outputs": [],
   "source": [
    "fish_data = np.array(fish_data)\n",
    "fish_target = np.array(fish_target)"
   ]
  },
  {
   "cell_type": "code",
   "execution_count": 24,
   "id": "8dfbea05-52dc-4229-a961-3f466b93cec6",
   "metadata": {},
   "outputs": [],
   "source": [
    "train_data = fish_data[index[:40]]\n",
    "train_target = fish_target[index[:40]]\n",
    "test_data = fish_data[index[40:]]\n",
    "test_target = fish_target[index[40:]]"
   ]
  },
  {
   "cell_type": "code",
   "execution_count": 25,
   "id": "397cc265-774b-4ed2-8925-dade583f1b6a",
   "metadata": {},
   "outputs": [
    {
     "data": {
      "text/plain": [
       "((40, 2), (40,))"
      ]
     },
     "execution_count": 25,
     "metadata": {},
     "output_type": "execute_result"
    }
   ],
   "source": [
    "train_data.shape, train_target.shape"
   ]
  },
  {
   "cell_type": "code",
   "execution_count": 26,
   "id": "515fb0aa-1ee2-49c4-bff5-ae72f02f9f09",
   "metadata": {},
   "outputs": [
    {
     "data": {
      "text/plain": [
       "((9, 2), (9,))"
      ]
     },
     "execution_count": 26,
     "metadata": {},
     "output_type": "execute_result"
    }
   ],
   "source": [
    "test_data.shape, test_target.shape"
   ]
  },
  {
   "cell_type": "code",
   "execution_count": 30,
   "id": "a1d99467-3ce2-4544-a238-4e205196a306",
   "metadata": {},
   "outputs": [
    {
     "data": {
      "image/png": "[encoded data removed]",
      "text/plain": [
       "<Figure size 640x480 with 1 Axes>"
      ]
     },
     "metadata": {},
     "output_type": "display_data"
    }
   ],
   "source": [
    "import matplotlib.pyplot as plt\n",
    "plt.scatter(train_data[:,0], train_data[:,1], label='bream')\n",
    "plt.scatter(test_data[:,0], test_data[:,1], label='smelt')\n",
    "plt.legend()\n",
    "plt.show()"
   ]
  },
  {
   "cell_type": "code",
   "execution_count": 31,
   "id": "535809fb-c835-44f7-be93-9f30dc32b419",
   "metadata": {},
   "outputs": [
    {
     "name": "stderr",
     "output_type": "stream",
     "text": [
      "C:\\Users\\user\\miniconda3\\envs\\py\\lib\\site-packages\\sklearn\\neighbors\\_classification.py:211: FutureWarning: Unlike other reduction functions (e.g. `skew`, `kurtosis`), the default behavior of `mode` typically preserves the axis it acts along. In SciPy 1.11.0, this behavior will change: the default value of `keepdims` will become False, the `axis` over which the statistic is taken will be eliminated, and the value None will no longer be accepted. Set `keepdims` to True or False to avoid this warning.\n",
      "  mode, _ = stats.mode(_y[neigh_ind, k], axis=1)\n"
     ]
    },
    {
     "data": {
      "text/plain": [
       "1.0"
      ]
     },
     "execution_count": 31,
     "metadata": {},
     "output_type": "execute_result"
    }
   ],
   "source": [
    "kn = KNeighborsClassifier()\n",
    "kn.fit(train_data, train_target)\n",
    "kn.score(test_data, test_target)"
   ]
  },
  {
   "cell_type": "code",
   "execution_count": 32,
   "id": "dda78b4f-2bc4-4a46-868c-d5b4c2ea18fd",
   "metadata": {},
   "outputs": [
    {
     "name": "stderr",
     "output_type": "stream",
     "text": [
      "C:\\Users\\user\\miniconda3\\envs\\py\\lib\\site-packages\\sklearn\\neighbors\\_classification.py:211: FutureWarning: Unlike other reduction functions (e.g. `skew`, `kurtosis`), the default behavior of `mode` typically preserves the axis it acts along. In SciPy 1.11.0, this behavior will change: the default value of `keepdims` will become False, the `axis` over which the statistic is taken will be eliminated, and the value None will no longer be accepted. Set `keepdims` to True or False to avoid this warning.\n",
      "  mode, _ = stats.mode(_y[neigh_ind, k], axis=1)\n"
     ]
    },
    {
     "data": {
      "text/plain": [
       "array([0])"
      ]
     },
     "execution_count": 32,
     "metadata": {},
     "output_type": "execute_result"
    }
   ],
   "source": [
    "kn.predict([[25, 150]])"
   ]
  },
  {
   "cell_type": "code",
   "execution_count": 33,
   "id": "853cb1cd-028d-45c6-8fab-16bf57757934",
   "metadata": {},
   "outputs": [],
   "source": [
    "from sklearn.model_selection import train_test_split"
   ]
  },
  {
   "cell_type": "code",
   "execution_count": 35,
   "id": "e46e9cea-4dfd-49c2-81ef-05578c2525ee",
   "metadata": {},
   "outputs": [],
   "source": [
    "x_train,x_test,y_train,y_test = train_test_split(fish_data, fish_target)"
   ]
  },
  {
   "cell_type": "code",
   "execution_count": 37,
   "id": "360462e9-a53d-47db-8914-d137049b3355",
   "metadata": {},
   "outputs": [
    {
     "name": "stdout",
     "output_type": "stream",
     "text": [
      "(60, 2) (60,)\n",
      "(20, 2) (20,)\n"
     ]
    }
   ],
   "source": [
    "print(x_train.shape, y_train.shape)\n",
    "print(x_test.shape, y_test.shape)"
   ]
  },
  {
   "cell_type": "code",
   "execution_count": 38,
   "id": "440959d4-7da8-4d32-9e19-54130a61e8b0",
   "metadata": {},
   "outputs": [],
   "source": [
    "distances, indexes = kn.kneighbors([[25, 150]]) "
   ]
  },
  {
   "cell_type": "code",
   "execution_count": 40,
   "id": "2edc08dc-3acd-45ec-aa86-2b14804ea59d",
   "metadata": {},
   "outputs": [
    {
     "data": {
      "image/png": "[encoded data removed]",
      "text/plain": [
       "<Figure size 640x480 with 1 Axes>"
      ]
     },
     "metadata": {},
     "output_type": "display_data"
    }
   ],
   "source": [
    "plt.scatter(fish_data[:,0], fish_data[:,1], label='original_fish')\n",
    "plt.scatter(fish_data[indexes,0], fish_data[indexes,1], label='neighbors_fish')\n",
    "plt.scatter(25, 150, label='predict_fish')\n",
    "plt.legend()\n",
    "plt.show()"
   ]
  },
  {
   "cell_type": "markdown",
   "id": "f4d4ffe0-5803-4734-8556-936d100e5542",
   "metadata": {},
   "source": [
    "# 데이터 표준화 시키기\n",
    "    각 데이터를 평균 / 표준편차"
   ]
  },
  {
   "cell_type": "code",
   "execution_count": 41,
   "id": "efadec2f-ec06-4487-9be3-9a816368e7d6",
   "metadata": {},
   "outputs": [],
   "source": [
    "mean = np.mean(fish_data)\n",
    "std = np.std(fish_data)"
   ]
  },
  {
   "cell_type": "code",
   "execution_count": 42,
   "id": "8931f109-2377-4b11-b1ae-8c525f7fa154",
   "metadata": {},
   "outputs": [],
   "source": [
    "fish_data_scaled = (fish_data - mean) / std"
   ]
  },
  {
   "cell_type": "code",
   "execution_count": 43,
   "id": "237f6d40-f453-409f-88f2-2354d306b7f9",
   "metadata": {},
   "outputs": [],
   "source": [
    "x_train, x_test, y_train, y_test = train_test_split(fish_data_scaled, fish_target)"
   ]
  },
  {
   "cell_type": "code",
   "execution_count": 44,
   "id": "36210873-9d5f-4c87-8348-92ae469fb38a",
   "metadata": {},
   "outputs": [
    {
     "data": {
      "text/plain": [
       "KNeighborsClassifier()"
      ]
     },
     "execution_count": 44,
     "metadata": {},
     "output_type": "execute_result"
    }
   ],
   "source": [
    "kn = KNeighborsClassifier()\n",
    "kn.fit(x_train, y_train)"
   ]
  },
  {
   "cell_type": "code",
   "execution_count": 45,
   "id": "59a62e6d-871f-4f02-8f2c-d0d717fa6c74",
   "metadata": {},
   "outputs": [
    {
     "name": "stderr",
     "output_type": "stream",
     "text": [
      "C:\\Users\\user\\miniconda3\\envs\\py\\lib\\site-packages\\sklearn\\neighbors\\_classification.py:211: FutureWarning: Unlike other reduction functions (e.g. `skew`, `kurtosis`), the default behavior of `mode` typically preserves the axis it acts along. In SciPy 1.11.0, this behavior will change: the default value of `keepdims` will become False, the `axis` over which the statistic is taken will be eliminated, and the value None will no longer be accepted. Set `keepdims` to True or False to avoid this warning.\n",
      "  mode, _ = stats.mode(_y[neigh_ind, k], axis=1)\n"
     ]
    },
    {
     "data": {
      "text/plain": [
       "array([1])"
      ]
     },
     "execution_count": 45,
     "metadata": {},
     "output_type": "execute_result"
    }
   ],
   "source": [
    "kn.predict([[25, 150]])"
   ]
  },
  {
   "cell_type": "code",
   "execution_count": 48,
   "id": "2c01b66e-8cf8-42c6-8cb9-0dffac81ded6",
   "metadata": {},
   "outputs": [
    {
     "name": "stdout",
     "output_type": "stream",
     "text": [
      "1.0\n",
      "[0]\n"
     ]
    },
    {
     "name": "stderr",
     "output_type": "stream",
     "text": [
      "C:\\Users\\user\\miniconda3\\envs\\py\\lib\\site-packages\\sklearn\\neighbors\\_classification.py:211: FutureWarning: Unlike other reduction functions (e.g. `skew`, `kurtosis`), the default behavior of `mode` typically preserves the axis it acts along. In SciPy 1.11.0, this behavior will change: the default value of `keepdims` will become False, the `axis` over which the statistic is taken will be eliminated, and the value None will no longer be accepted. Set `keepdims` to True or False to avoid this warning.\n",
      "  mode, _ = stats.mode(_y[neigh_ind, k], axis=1)\n",
      "C:\\Users\\user\\miniconda3\\envs\\py\\lib\\site-packages\\sklearn\\neighbors\\_classification.py:211: FutureWarning: Unlike other reduction functions (e.g. `skew`, `kurtosis`), the default behavior of `mode` typically preserves the axis it acts along. In SciPy 1.11.0, this behavior will change: the default value of `keepdims` will become False, the `axis` over which the statistic is taken will be eliminated, and the value None will no longer be accepted. Set `keepdims` to True or False to avoid this warning.\n",
      "  mode, _ = stats.mode(_y[neigh_ind, k], axis=1)\n"
     ]
    }
   ],
   "source": [
    "kn = KNeighborsClassifier()\n",
    "kn.fit(x_train,y_train)\n",
    "print(kn.score(x_test,y_test))\n",
    "predict_data_scaled = (np.array([[25,150]])-mean) / std\n",
    "print(kn.predict(predict_data_scaled))\n",
    "distance, index = kn.kneighbors(predict_data_scaled)"
   ]
  },
  {
   "cell_type": "code",
   "execution_count": 49,
   "id": "3b5d9e2c-4f8b-46b9-9137-e851d92906f4",
   "metadata": {},
   "outputs": [
    {
     "data": {
      "image/png": "[encoded data removed]",
      "text/plain": [
       "<Figure size 640x480 with 1 Axes>"
      ]
     },
     "metadata": {},
     "output_type": "display_data"
    }
   ],
   "source": [
    "plt.scatter(x_train[:,0],x_train[:,1],label = \"original_fish\")\n",
    "plt.scatter(predict_data_scaled[:,0],predict_data_scaled[:,1],label = \"predict_fish\")\n",
    "plt.scatter(x_train[index,0],x_train[index,1],label = \"predict_index\")\n",
    "\n",
    "plt.legend()\n",
    "plt.show()"
   ]
  },
  {
   "cell_type": "markdown",
   "id": "40854b16-25bb-4385-a964-f6c9df8179ce",
   "metadata": {},
   "source": [
    "### 1. 데이터를 전처리\n",
    "### 2. train_test_split을 이용해서 학습용 검증용 분리\n",
    "### 3. 예측할때는 데이터도 표준화를 해서 적용\n",
    "### 4. 모델 fit - predict/score\n",
    "### 회귀...무게 예측"
   ]
  },
  {
   "cell_type": "code",
   "execution_count": 52,
   "id": "df7c86d7-1be6-46eb-aa0e-7bde49c43ea9",
   "metadata": {},
   "outputs": [
    {
     "data": {
      "text/plain": [
       "<matplotlib.collections.PathCollection at 0x297a11b6620>"
      ]
     },
     "execution_count": 52,
     "metadata": {},
     "output_type": "execute_result"
    },
    {
     "data": {
      "image/png": "[encoded data removed]",
      "text/plain": [
       "<Figure size 640x480 with 1 Axes>"
      ]
     },
     "metadata": {},
     "output_type": "display_data"
    }
   ],
   "source": [
    "perch_length = np.array(\n",
    "    [8.4, 13.7, 15.0, 16.2, 17.4, 18.0, 18.7, 19.0, 19.6, 20.0, \n",
    "     21.0, 21.0, 21.0, 21.3, 22.0, 22.0, 22.0, 22.0, 22.0, 22.5, \n",
    "     22.5, 22.7, 23.0, 23.5, 24.0, 24.0, 24.6, 25.0, 25.6, 26.5, \n",
    "     27.3, 27.5, 27.5, 27.5, 28.0, 28.7, 30.0, 32.8, 34.5, 35.0, \n",
    "     36.5, 36.0, 37.0, 37.0, 39.0, 39.0, 39.0, 40.0, 40.0, 40.0, \n",
    "     40.0, 42.0, 43.0, 43.0, 43.5, 44.0]\n",
    "     )\n",
    "perch_weight = np.array(\n",
    "    [5.9, 32.0, 40.0, 51.5, 70.0, 100.0, 78.0, 80.0, 85.0, 85.0, \n",
    "     110.0, 115.0, 125.0, 130.0, 120.0, 120.0, 130.0, 135.0, 110.0, \n",
    "     130.0, 150.0, 145.0, 150.0, 170.0, 225.0, 145.0, 188.0, 180.0, \n",
    "     197.0, 218.0, 300.0, 260.0, 265.0, 250.0, 250.0, 300.0, 320.0, \n",
    "     514.0, 556.0, 840.0, 685.0, 700.0, 700.0, 690.0, 900.0, 650.0, \n",
    "     820.0, 850.0, 900.0, 1015.0, 820.0, 1100.0, 1000.0, 1100.0, \n",
    "     1000.0, 1000.0]\n",
    "     )\n",
    "plt.scatter(perch_length, perch_weight)"
   ]
  },
  {
   "cell_type": "code",
   "execution_count": 53,
   "id": "df53a354-0a55-477f-b176-29b9294c24ca",
   "metadata": {},
   "outputs": [],
   "source": [
    "train_input, test_input, train_target, test_target = train_test_split(perch_length, perch_weight, random_state=42)\n",
    "train_input = train_input.reshape(-1,1)\n",
    "test_input = test_input.reshape(-1,1)"
   ]
  },
  {
   "cell_type": "code",
   "execution_count": 55,
   "id": "8a48a3c5-92a6-4b8d-a6e1-57d4e5572e15",
   "metadata": {},
   "outputs": [
    {
     "data": {
      "text/plain": [
       "0.992809406101064"
      ]
     },
     "execution_count": 55,
     "metadata": {},
     "output_type": "execute_result"
    }
   ],
   "source": [
    "from sklearn.neighbors import KNeighborsRegressor\n",
    "knr = KNeighborsRegressor()\n",
    "knr.fit(train_input, train_target)\n",
    "knr.score(test_input, test_target)"
   ]
  },
  {
   "cell_type": "code",
   "execution_count": 56,
   "id": "75c6bd0a-e7b8-4f02-96ba-20472d33a950",
   "metadata": {},
   "outputs": [
    {
     "name": "stdout",
     "output_type": "stream",
     "text": [
      "19.157142857142862\n"
     ]
    }
   ],
   "source": [
    "from sklearn.metrics import mean_absolute_error\n",
    "test_prediction = knr.predict(test_input)\n",
    "mae = mean_absolute_error(test_target, test_prediction)\n",
    "print(mae)"
   ]
  },
  {
   "cell_type": "code",
   "execution_count": 57,
   "id": "c04d5be6-0ae1-4d16-9a3d-99c6c8db5545",
   "metadata": {},
   "outputs": [
    {
     "data": {
      "text/plain": [
       "19.157142857142862"
      ]
     },
     "execution_count": 57,
     "metadata": {},
     "output_type": "execute_result"
    }
   ],
   "source": [
    "test_input_predict = knr.predict(test_input)\n",
    "mae = mean_absolute_error(test_input_predict, test_target)\n",
    "mae"
   ]
  },
  {
   "cell_type": "code",
   "execution_count": 58,
   "id": "a39bc678-d9b8-4686-b92d-b04ba8919b47",
   "metadata": {},
   "outputs": [
    {
     "data": {
      "text/plain": [
       "0.9698823289099254"
      ]
     },
     "execution_count": 58,
     "metadata": {},
     "output_type": "execute_result"
    }
   ],
   "source": [
    "knr.score(train_input, train_target)"
   ]
  },
  {
   "cell_type": "code",
   "execution_count": 59,
   "id": "90a32999-a241-42bd-b760-98bc6e3e59b9",
   "metadata": {},
   "outputs": [
    {
     "data": {
      "text/plain": [
       "0.992809406101064"
      ]
     },
     "execution_count": 59,
     "metadata": {},
     "output_type": "execute_result"
    }
   ],
   "source": [
    "knr.score(test_input, test_target)"
   ]
  },
  {
   "cell_type": "code",
   "execution_count": 60,
   "id": "7adc9d4a-53e0-48db-80bb-cce666c5f918",
   "metadata": {},
   "outputs": [
    {
     "name": "stdout",
     "output_type": "stream",
     "text": [
      "0.9804899950518966\n",
      "0.9746459963987609\n"
     ]
    }
   ],
   "source": [
    "knr.n_neighbors = 3\n",
    "knr.fit(train_input, train_target)\n",
    "print(knr.score(train_input, train_target))\n",
    "print(knr.score(test_input, test_target))"
   ]
  }
 ],
 "metadata": {
  "kernelspec": {
   "display_name": "Python 3 (ipykernel)",
   "language": "python",
   "name": "python3"
  },
  "language_info": {
   "codemirror_mode": {
    "name": "ipython",
    "version": 3
   },
   "file_extension": ".py",
   "mimetype": "text/x-python",
   "name": "python",
   "nbconvert_exporter": "python",
   "pygments_lexer": "ipython3",
   "version": "3.10.8"
  }
 },
 "nbformat": 4,
 "nbformat_minor": 5
}
