{
 "cells": [
  {
   "cell_type": "markdown",
   "id": "851196e0-b6b0-4512-b9e6-37f00e42ad23",
   "metadata": {},
   "source": [
    "# 영화 리뷰 데이터로 감성 예측(긍정 부정)\n",
    "    1. 특성 벡터화\n",
    "    형태소 기반 토큰화 Okt()\n",
    "    TF-IDF 기반 벡터 생성: TdifVectorizer()\n",
    "    2. 감성분석 모델 구축\n",
    "    로지스틱회귀 모델\n",
    "    하이퍼 파라미터 튜닝: GridSearchCV()\n",
    "    3. accuracy_score(): 정확도\n",
    "    4. 새로운 텍스트에 대한 감성 예측"
   ]
  },
  {
   "cell_type": "markdown",
   "id": "7a94048e-29e0-48a4-8fb2-e96445bf76ff",
   "metadata": {},
   "source": [
    "# 텍스트 마이닝\n",
    "    비정형의 텍스트 데이터로부터 패턴을 찾아내서 의미있는 정보를 추출하는 분석 과정 또는 기법\n",
    "    프로세스\n",
    "        텍스트 전처리 -> 특성 벡터화 -> 머신러닝 구축학습 평가\n",
    "        전처리에는 토큰화, 불용어제거 표제어 추출, 형태소 분석등의 작업\n",
    "# 특성 벡터화와 특성 추출\n",
    "    텍스트를 구성하는 단어 기반의 특성 추출하고 이를 숫자형 값인 벡터로 표현\n",
    "    대표적인 방법 BoW, Word2ve\n",
    "    Bow: 모든 단어에 대해서 순서는 무시하고 빈도만 고려해서 단어가 얼마나 자주 등장하는지 -> 특성 벡터를 만드는 방법\n",
    "        카운트 기반 벡터, TF-IDF기반 벡터화 방식\n",
    "# 카운트 기반 벡터\n",
    "    문서의 단어 빈도를 정리해서 단어 행렬(DTM)을 구성 - 단어 출현 빈도가 높을수록 중요한 단어\n",
    "    문서 d의 등장한 단어 t의 횟수는 tf(t,d)으로 표현\n",
    "    CounterVectorizer 모듈에 제공"
   ]
  },
  {
   "cell_type": "markdown",
   "id": "9e328616-e8a2-42e6-b11c-a53f2220c615",
   "metadata": {},
   "source": [
    "# TF-IDF 기반 벡터화\n",
    "    특정 문서에 많이 나타나는 단어는 해당 문서의 단어 벡터에 가중치를 높임\n",
    "    모든 문서에 많이 나타나는 단어 범용적으로 사용하는 단어로 취급 -> 가중치를 낮추는 방식\n",
    "    - d에 등장하는 단어 t의 tf-idf tf-idf(t,d) = tf(t,d) x idf(t,d)\n",
    "    - idf(t,d): 문서 빈도\n",
    "    - df(d,t): 단어 t가 포함된 문서의 개수"
   ]
  },
  {
   "cell_type": "markdown",
   "id": "e19bd2a2-cd7a-4ae2-bce1-e2550ede8124",
   "metadata": {},
   "source": [
    "# 감성 분석\n",
    "    주관적인 의견이나 감성, 태도를 분석\n",
    "    감성을 나타내는 단어를 기반으로 긍정 또는 부정의 감정 결정\n",
    "# 토핑 모델링\n",
    "    키워드 기반으로 주제를 추출하고 그 주제를 기준으로 문서를 분류(클러스터링) 및 분석\n",
    "    토픽을 도출해서 동향을 파악하고 새로운 문서의 토픽을 예측하는 분석에 이용"
   ]
  },
  {
   "cell_type": "markdown",
   "id": "e4c95082-560e-4d0f-b845-cbc5d453f42e",
   "metadata": {},
   "source": [
    "# LDA\n",
    "    디리클레 분포를 이용, 문서에 잠재되어 있는 토픽을 추론하는 확률 모델 알고리즘\n",
    "    하나의 문서는 여러 토픽으로 구성, 토픽분포에 따라서 단어의 분포가 결정된다고 가정\n",
    "    토픽의 개수 K - 사용자가 지정하는 하이퍼 매개변수(파라메터)"
   ]
  },
  {
   "cell_type": "code",
   "execution_count": 2,
   "id": "7e9f05bc-2c8b-4c97-ae65-0ab0a1f91bf9",
   "metadata": {},
   "outputs": [],
   "source": [
    "import pandas as pd\n",
    "import numpy as np"
   ]
  },
  {
   "cell_type": "code",
   "execution_count": 3,
   "id": "3296caab-5f01-492e-a5c3-87e73368f5d0",
   "metadata": {},
   "outputs": [
    {
     "data": {
      "text/html": [
       "<div>\n",
       "<style scoped>\n",
       "    .dataframe tbody tr th:only-of-type {\n",
       "        vertical-align: middle;\n",
       "    }\n",
       "\n",
       "    .dataframe tbody tr th {\n",
       "        vertical-align: top;\n",
       "    }\n",
       "\n",
       "    .dataframe thead th {\n",
       "        text-align: right;\n",
       "    }\n",
       "</style>\n",
       "<table border=\"1\" class=\"dataframe\">\n",
       "  <thead>\n",
       "    <tr style=\"text-align: right;\">\n",
       "      <th></th>\n",
       "      <th>id</th>\n",
       "      <th>document</th>\n",
       "      <th>label</th>\n",
       "    </tr>\n",
       "  </thead>\n",
       "  <tbody>\n",
       "    <tr>\n",
       "      <th>0</th>\n",
       "      <td>9976970</td>\n",
       "      <td>아 더빙.. 진짜 짜증나네요 목소리</td>\n",
       "      <td>0</td>\n",
       "    </tr>\n",
       "    <tr>\n",
       "      <th>1</th>\n",
       "      <td>3819312</td>\n",
       "      <td>흠...포스터보고 초딩영화줄....오버연기조차 가볍지 않구나</td>\n",
       "      <td>1</td>\n",
       "    </tr>\n",
       "    <tr>\n",
       "      <th>2</th>\n",
       "      <td>10265843</td>\n",
       "      <td>너무재밓었다그래서보는것을추천한다</td>\n",
       "      <td>0</td>\n",
       "    </tr>\n",
       "    <tr>\n",
       "      <th>3</th>\n",
       "      <td>9045019</td>\n",
       "      <td>교도소 이야기구먼 ..솔직히 재미는 없다..평점 조정</td>\n",
       "      <td>0</td>\n",
       "    </tr>\n",
       "    <tr>\n",
       "      <th>4</th>\n",
       "      <td>6483659</td>\n",
       "      <td>사이몬페그의 익살스런 연기가 돋보였던 영화!스파이더맨에서 늙어보이기만 했던 커스틴 ...</td>\n",
       "      <td>1</td>\n",
       "    </tr>\n",
       "  </tbody>\n",
       "</table>\n",
       "</div>"
      ],
      "text/plain": [
       "         id                                           document  label\n",
       "0   9976970                                아 더빙.. 진짜 짜증나네요 목소리      0\n",
       "1   3819312                  흠...포스터보고 초딩영화줄....오버연기조차 가볍지 않구나      1\n",
       "2  10265843                                  너무재밓었다그래서보는것을추천한다      0\n",
       "3   9045019                      교도소 이야기구먼 ..솔직히 재미는 없다..평점 조정      0\n",
       "4   6483659  사이몬페그의 익살스런 연기가 돋보였던 영화!스파이더맨에서 늙어보이기만 했던 커스틴 ...      1"
      ]
     },
     "execution_count": 3,
     "metadata": {},
     "output_type": "execute_result"
    }
   ],
   "source": [
    "train_df = pd.read_csv('https://raw.githubusercontent.com/leekyuyoung20221226/python/main/data/ratings_train.txt', encoding='utf-8', sep='\\t')\n",
    "train_df.head()"
   ]
  },
  {
   "cell_type": "code",
   "execution_count": 4,
   "id": "cf428879-7256-4dcc-a15e-9ed4afe9d3de",
   "metadata": {},
   "outputs": [
    {
     "name": "stdout",
     "output_type": "stream",
     "text": [
      "<class 'pandas.core.frame.DataFrame'>\n",
      "RangeIndex: 150000 entries, 0 to 149999\n",
      "Data columns (total 3 columns):\n",
      " #   Column    Non-Null Count   Dtype \n",
      "---  ------    --------------   ----- \n",
      " 0   id        150000 non-null  int64 \n",
      " 1   document  149995 non-null  object\n",
      " 2   label     150000 non-null  int64 \n",
      "dtypes: int64(2), object(1)\n",
      "memory usage: 3.4+ MB\n"
     ]
    }
   ],
   "source": [
    "train_df.info()"
   ]
  },
  {
   "cell_type": "code",
   "execution_count": 5,
   "id": "04b3ed60-f90e-4d52-9fa7-cdf927c8373c",
   "metadata": {},
   "outputs": [],
   "source": [
    "# 결측치 제거\n",
    "train_df.dropna(subset=['document'],axis=0, inplace=True)"
   ]
  },
  {
   "cell_type": "code",
   "execution_count": 6,
   "id": "683a7e06-968d-4f21-be19-dfd002584c55",
   "metadata": {},
   "outputs": [],
   "source": [
    "train_df.reset_index(drop=True, inplace=True)"
   ]
  },
  {
   "cell_type": "code",
   "execution_count": 7,
   "id": "b2d4f419-e911-4254-a4c3-293803b12dc6",
   "metadata": {},
   "outputs": [
    {
     "data": {
      "text/plain": [
       "0    75170\n",
       "1    74825\n",
       "Name: label, dtype: int64"
      ]
     },
     "execution_count": 7,
     "metadata": {},
     "output_type": "execute_result"
    }
   ],
   "source": [
    "train_df['label'].value_counts()"
   ]
  },
  {
   "cell_type": "code",
   "execution_count": 8,
   "id": "b99ea865-fec9-4272-8cd4-6826dafc5915",
   "metadata": {},
   "outputs": [
    {
     "data": {
      "text/plain": [
       "'가나다라마바사'"
      ]
     },
     "execution_count": 8,
     "metadata": {},
     "output_type": "execute_result"
    }
   ],
   "source": [
    "import re\n",
    "temp = '가나다라마바사12457^^&*@#$%^'\n",
    "re.sub(r'[^ㄱ-ㅎ가-힣]+', \"\", temp)"
   ]
  },
  {
   "cell_type": "code",
   "execution_count": 9,
   "id": "5de47ed2-73f7-49dd-9c64-213984cfca04",
   "metadata": {},
   "outputs": [],
   "source": [
    "train_df['document'] = train_df['document'].apply(lambda x: re.sub(r'[^ㄱ-ㅎ가-힣]+', \" \", x))"
   ]
  },
  {
   "cell_type": "code",
   "execution_count": 10,
   "id": "23d08a33-f168-424e-b62b-cc0cf731205f",
   "metadata": {},
   "outputs": [
    {
     "data": {
      "text/html": [
       "<div>\n",
       "<style scoped>\n",
       "    .dataframe tbody tr th:only-of-type {\n",
       "        vertical-align: middle;\n",
       "    }\n",
       "\n",
       "    .dataframe tbody tr th {\n",
       "        vertical-align: top;\n",
       "    }\n",
       "\n",
       "    .dataframe thead th {\n",
       "        text-align: right;\n",
       "    }\n",
       "</style>\n",
       "<table border=\"1\" class=\"dataframe\">\n",
       "  <thead>\n",
       "    <tr style=\"text-align: right;\">\n",
       "      <th></th>\n",
       "      <th>id</th>\n",
       "      <th>document</th>\n",
       "      <th>label</th>\n",
       "    </tr>\n",
       "  </thead>\n",
       "  <tbody>\n",
       "    <tr>\n",
       "      <th>0</th>\n",
       "      <td>9976970</td>\n",
       "      <td>아 더빙 진짜 짜증나네요 목소리</td>\n",
       "      <td>0</td>\n",
       "    </tr>\n",
       "    <tr>\n",
       "      <th>1</th>\n",
       "      <td>3819312</td>\n",
       "      <td>흠 포스터보고 초딩영화줄 오버연기조차 가볍지 않구나</td>\n",
       "      <td>1</td>\n",
       "    </tr>\n",
       "    <tr>\n",
       "      <th>2</th>\n",
       "      <td>10265843</td>\n",
       "      <td>너무재밓었다그래서보는것을추천한다</td>\n",
       "      <td>0</td>\n",
       "    </tr>\n",
       "    <tr>\n",
       "      <th>3</th>\n",
       "      <td>9045019</td>\n",
       "      <td>교도소 이야기구먼 솔직히 재미는 없다 평점 조정</td>\n",
       "      <td>0</td>\n",
       "    </tr>\n",
       "    <tr>\n",
       "      <th>4</th>\n",
       "      <td>6483659</td>\n",
       "      <td>사이몬페그의 익살스런 연기가 돋보였던 영화 스파이더맨에서 늙어보이기만 했던 커스틴 ...</td>\n",
       "      <td>1</td>\n",
       "    </tr>\n",
       "  </tbody>\n",
       "</table>\n",
       "</div>"
      ],
      "text/plain": [
       "         id                                           document  label\n",
       "0   9976970                                  아 더빙 진짜 짜증나네요 목소리      0\n",
       "1   3819312                       흠 포스터보고 초딩영화줄 오버연기조차 가볍지 않구나      1\n",
       "2  10265843                                  너무재밓었다그래서보는것을추천한다      0\n",
       "3   9045019                         교도소 이야기구먼 솔직히 재미는 없다 평점 조정      0\n",
       "4   6483659  사이몬페그의 익살스런 연기가 돋보였던 영화 스파이더맨에서 늙어보이기만 했던 커스틴 ...      1"
      ]
     },
     "execution_count": 10,
     "metadata": {},
     "output_type": "execute_result"
    }
   ],
   "source": [
    "train_df.head()"
   ]
  },
  {
   "cell_type": "code",
   "execution_count": 11,
   "id": "d2fc6e93-6f49-4d28-9cc0-d8ad33986317",
   "metadata": {},
   "outputs": [],
   "source": [
    "# 평가형 데이터 로드\n",
    "test_df = pd.read_csv('https://raw.githubusercontent.com/leekyuyoung20221226/python/main/data/ratings_test.txt', encoding='utf-8', sep='\\t')"
   ]
  },
  {
   "cell_type": "code",
   "execution_count": 12,
   "id": "6a4fe6de-81ff-470f-bb3e-e42d0479a03b",
   "metadata": {},
   "outputs": [],
   "source": [
    "test_df.dropna(subset=['document'], axis=0, inplace=True)"
   ]
  },
  {
   "cell_type": "code",
   "execution_count": 13,
   "id": "60ed38a0-7fa2-41be-93fc-d58be07e87cf",
   "metadata": {},
   "outputs": [],
   "source": [
    "test_df.reset_index(drop=True, inplace=True)"
   ]
  },
  {
   "cell_type": "code",
   "execution_count": 14,
   "id": "1a636290-d48b-4579-bddb-9fd43b04dc15",
   "metadata": {},
   "outputs": [
    {
     "name": "stdout",
     "output_type": "stream",
     "text": [
      "<class 'pandas.core.frame.DataFrame'>\n",
      "RangeIndex: 49997 entries, 0 to 49996\n",
      "Data columns (total 3 columns):\n",
      " #   Column    Non-Null Count  Dtype \n",
      "---  ------    --------------  ----- \n",
      " 0   id        49997 non-null  int64 \n",
      " 1   document  49997 non-null  object\n",
      " 2   label     49997 non-null  int64 \n",
      "dtypes: int64(2), object(1)\n",
      "memory usage: 1.1+ MB\n"
     ]
    }
   ],
   "source": [
    "test_df.info()"
   ]
  },
  {
   "cell_type": "code",
   "execution_count": 15,
   "id": "c90ab8d4-556d-482c-a376-dfbee249c965",
   "metadata": {},
   "outputs": [],
   "source": [
    "test_df['document'] = test_df['document'].apply(lambda x: re.sub(r'[^ㄱ-ㅎ가-힣]+', \" \", x))"
   ]
  },
  {
   "cell_type": "code",
   "execution_count": 16,
   "id": "545b91c5-7dbb-4d55-ba53-5609006c1767",
   "metadata": {},
   "outputs": [
    {
     "data": {
      "text/html": [
       "<div>\n",
       "<style scoped>\n",
       "    .dataframe tbody tr th:only-of-type {\n",
       "        vertical-align: middle;\n",
       "    }\n",
       "\n",
       "    .dataframe tbody tr th {\n",
       "        vertical-align: top;\n",
       "    }\n",
       "\n",
       "    .dataframe thead th {\n",
       "        text-align: right;\n",
       "    }\n",
       "</style>\n",
       "<table border=\"1\" class=\"dataframe\">\n",
       "  <thead>\n",
       "    <tr style=\"text-align: right;\">\n",
       "      <th></th>\n",
       "      <th>id</th>\n",
       "      <th>document</th>\n",
       "      <th>label</th>\n",
       "    </tr>\n",
       "  </thead>\n",
       "  <tbody>\n",
       "    <tr>\n",
       "      <th>0</th>\n",
       "      <td>6270596</td>\n",
       "      <td>굳 ㅋ</td>\n",
       "      <td>1</td>\n",
       "    </tr>\n",
       "    <tr>\n",
       "      <th>1</th>\n",
       "      <td>9274899</td>\n",
       "      <td></td>\n",
       "      <td>0</td>\n",
       "    </tr>\n",
       "    <tr>\n",
       "      <th>2</th>\n",
       "      <td>8544678</td>\n",
       "      <td>뭐야 이 평점들은 나쁘진 않지만 점 짜리는 더더욱 아니잖아</td>\n",
       "      <td>0</td>\n",
       "    </tr>\n",
       "    <tr>\n",
       "      <th>3</th>\n",
       "      <td>6825595</td>\n",
       "      <td>지루하지는 않은데 완전 막장임 돈주고 보기에는</td>\n",
       "      <td>0</td>\n",
       "    </tr>\n",
       "    <tr>\n",
       "      <th>4</th>\n",
       "      <td>6723715</td>\n",
       "      <td>만 아니었어도 별 다섯 개 줬을텐데 왜 로 나와서 제 심기를 불편하게 하죠</td>\n",
       "      <td>0</td>\n",
       "    </tr>\n",
       "  </tbody>\n",
       "</table>\n",
       "</div>"
      ],
      "text/plain": [
       "        id                                     document  label\n",
       "0  6270596                                          굳 ㅋ      1\n",
       "1  9274899                                                   0\n",
       "2  8544678             뭐야 이 평점들은 나쁘진 않지만 점 짜리는 더더욱 아니잖아      0\n",
       "3  6825595                   지루하지는 않은데 완전 막장임 돈주고 보기에는       0\n",
       "4  6723715   만 아니었어도 별 다섯 개 줬을텐데 왜 로 나와서 제 심기를 불편하게 하죠       0"
      ]
     },
     "execution_count": 16,
     "metadata": {},
     "output_type": "execute_result"
    }
   ],
   "source": [
    "test_df.head()"
   ]
  },
  {
   "cell_type": "code",
   "execution_count": 17,
   "id": "0d823b4c-efab-4f8b-b2d0-05c5f0bfe24b",
   "metadata": {},
   "outputs": [],
   "source": [
    "test_df = test_df[test_df['document'] != ' ']"
   ]
  },
  {
   "cell_type": "code",
   "execution_count": 18,
   "id": "5925f233-2ad6-4c89-9d59-1ca7f5d173c7",
   "metadata": {},
   "outputs": [],
   "source": [
    "test_df.reset_index(drop=True, inplace=True)"
   ]
  },
  {
   "cell_type": "code",
   "execution_count": 19,
   "id": "6bf4cfb1-90df-4ab5-a15b-475b3a45bd60",
   "metadata": {},
   "outputs": [
    {
     "data": {
      "text/html": [
       "<div>\n",
       "<style scoped>\n",
       "    .dataframe tbody tr th:only-of-type {\n",
       "        vertical-align: middle;\n",
       "    }\n",
       "\n",
       "    .dataframe tbody tr th {\n",
       "        vertical-align: top;\n",
       "    }\n",
       "\n",
       "    .dataframe thead th {\n",
       "        text-align: right;\n",
       "    }\n",
       "</style>\n",
       "<table border=\"1\" class=\"dataframe\">\n",
       "  <thead>\n",
       "    <tr style=\"text-align: right;\">\n",
       "      <th></th>\n",
       "      <th>id</th>\n",
       "      <th>document</th>\n",
       "      <th>label</th>\n",
       "    </tr>\n",
       "  </thead>\n",
       "  <tbody>\n",
       "    <tr>\n",
       "      <th>0</th>\n",
       "      <td>6270596</td>\n",
       "      <td>굳 ㅋ</td>\n",
       "      <td>1</td>\n",
       "    </tr>\n",
       "    <tr>\n",
       "      <th>1</th>\n",
       "      <td>8544678</td>\n",
       "      <td>뭐야 이 평점들은 나쁘진 않지만 점 짜리는 더더욱 아니잖아</td>\n",
       "      <td>0</td>\n",
       "    </tr>\n",
       "    <tr>\n",
       "      <th>2</th>\n",
       "      <td>6825595</td>\n",
       "      <td>지루하지는 않은데 완전 막장임 돈주고 보기에는</td>\n",
       "      <td>0</td>\n",
       "    </tr>\n",
       "    <tr>\n",
       "      <th>3</th>\n",
       "      <td>6723715</td>\n",
       "      <td>만 아니었어도 별 다섯 개 줬을텐데 왜 로 나와서 제 심기를 불편하게 하죠</td>\n",
       "      <td>0</td>\n",
       "    </tr>\n",
       "    <tr>\n",
       "      <th>4</th>\n",
       "      <td>7898805</td>\n",
       "      <td>음악이 주가 된 최고의 음악영화</td>\n",
       "      <td>1</td>\n",
       "    </tr>\n",
       "  </tbody>\n",
       "</table>\n",
       "</div>"
      ],
      "text/plain": [
       "        id                                     document  label\n",
       "0  6270596                                          굳 ㅋ      1\n",
       "1  8544678             뭐야 이 평점들은 나쁘진 않지만 점 짜리는 더더욱 아니잖아      0\n",
       "2  6825595                   지루하지는 않은데 완전 막장임 돈주고 보기에는       0\n",
       "3  6723715   만 아니었어도 별 다섯 개 줬을텐데 왜 로 나와서 제 심기를 불편하게 하죠       0\n",
       "4  7898805                            음악이 주가 된 최고의 음악영화      1"
      ]
     },
     "execution_count": 19,
     "metadata": {},
     "output_type": "execute_result"
    }
   ],
   "source": [
    "test_df.head()"
   ]
  },
  {
   "cell_type": "markdown",
   "id": "3249bd6e-87f0-485b-ad1b-e95e9ec3690e",
   "metadata": {},
   "source": [
    "# 분석 모델 구축\n",
    "    형태소 단위로 토큰화한 한글 단어 -> tf-idf 방식을 적용 벡터화 작업을 수행"
   ]
  },
  {
   "cell_type": "code",
   "execution_count": 20,
   "id": "121c7cf2-d1ef-4f82-9011-1c48a421d182",
   "metadata": {},
   "outputs": [
    {
     "name": "stdout",
     "output_type": "stream",
     "text": [
      "Requirement already satisfied: konlpy in c:\\users\\user\\miniconda3\\envs\\py\\lib\\site-packages (0.6.0)\n",
      "Requirement already satisfied: JPype1>=0.7.0 in c:\\users\\user\\miniconda3\\envs\\py\\lib\\site-packages (from konlpy) (1.4.1)\n",
      "Requirement already satisfied: lxml>=4.1.0 in c:\\users\\user\\miniconda3\\envs\\py\\lib\\site-packages (from konlpy) (4.9.1)\n",
      "Requirement already satisfied: numpy>=1.6 in c:\\users\\user\\miniconda3\\envs\\py\\lib\\site-packages (from konlpy) (1.24.1)\n",
      "Requirement already satisfied: packaging in c:\\users\\user\\miniconda3\\envs\\py\\lib\\site-packages (from JPype1>=0.7.0->konlpy) (22.0)\n"
     ]
    }
   ],
   "source": [
    "!pip install konlpy"
   ]
  },
  {
   "cell_type": "code",
   "execution_count": 21,
   "id": "f872daf4-1c91-411f-8a75-c3fe8539f9d2",
   "metadata": {},
   "outputs": [],
   "source": [
    "from konlpy.tag import Okt\n",
    "okt = Okt()"
   ]
  },
  {
   "cell_type": "code",
   "execution_count": 22,
   "id": "98e538ed-977e-4bfa-a5f8-916e152d140c",
   "metadata": {},
   "outputs": [],
   "source": [
    "def okt_tokenizer(text):\n",
    "    tokens = okt.morphs(text)\n",
    "    return tokens"
   ]
  },
  {
   "cell_type": "code",
   "execution_count": 29,
   "id": "391c32f2-c33e-4dfd-9887-90cc00677fcf",
   "metadata": {},
   "outputs": [
    {
     "name": "stderr",
     "output_type": "stream",
     "text": [
      "C:\\Users\\user\\miniconda3\\envs\\py\\lib\\site-packages\\sklearn\\feature_extraction\\text.py:489: UserWarning: The parameter 'token_pattern' will not be used since 'tokenizer' is not None'\n",
      "  warnings.warn(\"The parameter 'token_pattern' will not be used\"\n"
     ]
    }
   ],
   "source": [
    "# tf-idf로 벡터화\n",
    "from sklearn.feature_extraction.text import TfidfVectorizer\n",
    "tfidf = TfidfVectorizer(tokenizer=okt_tokenizer, ngram_range=(1,2), min_df=3, max_df=0.9)\n",
    "tfidf.fit(train_df['document'])\n",
    "train_tfidf = tfidf.transform(train_df['document'])"
   ]
  },
  {
   "cell_type": "code",
   "execution_count": 46,
   "id": "ad68b6d4-25cd-407c-a3ab-6f1e80234241",
   "metadata": {},
   "outputs": [
    {
     "name": "stderr",
     "output_type": "stream",
     "text": [
      "C:\\Users\\user\\miniconda3\\envs\\py\\lib\\site-packages\\sklearn\\linear_model\\_logistic.py:763: ConvergenceWarning: lbfgs failed to converge (status=1):\n",
      "STOP: TOTAL NO. of ITERATIONS REACHED LIMIT.\n",
      "\n",
      "Increase the number of iterations (max_iter) or scale the data as shown in:\n",
      "    https://scikit-learn.org/stable/modules/preprocessing.html\n",
      "Please also refer to the documentation for alternative solver options:\n",
      "    https://scikit-learn.org/stable/modules/linear_model.html#logistic-regression\n",
      "  n_iter_i = _check_optimize_result(\n",
      "C:\\Users\\user\\miniconda3\\envs\\py\\lib\\site-packages\\sklearn\\linear_model\\_logistic.py:763: ConvergenceWarning: lbfgs failed to converge (status=1):\n",
      "STOP: TOTAL NO. of ITERATIONS REACHED LIMIT.\n",
      "\n",
      "Increase the number of iterations (max_iter) or scale the data as shown in:\n",
      "    https://scikit-learn.org/stable/modules/preprocessing.html\n",
      "Please also refer to the documentation for alternative solver options:\n",
      "    https://scikit-learn.org/stable/modules/linear_model.html#logistic-regression\n",
      "  n_iter_i = _check_optimize_result(\n",
      "C:\\Users\\user\\miniconda3\\envs\\py\\lib\\site-packages\\sklearn\\linear_model\\_logistic.py:763: ConvergenceWarning: lbfgs failed to converge (status=1):\n",
      "STOP: TOTAL NO. of ITERATIONS REACHED LIMIT.\n",
      "\n",
      "Increase the number of iterations (max_iter) or scale the data as shown in:\n",
      "    https://scikit-learn.org/stable/modules/preprocessing.html\n",
      "Please also refer to the documentation for alternative solver options:\n",
      "    https://scikit-learn.org/stable/modules/linear_model.html#logistic-regression\n",
      "  n_iter_i = _check_optimize_result(\n",
      "C:\\Users\\user\\miniconda3\\envs\\py\\lib\\site-packages\\sklearn\\linear_model\\_logistic.py:763: ConvergenceWarning: lbfgs failed to converge (status=1):\n",
      "STOP: TOTAL NO. of ITERATIONS REACHED LIMIT.\n",
      "\n",
      "Increase the number of iterations (max_iter) or scale the data as shown in:\n",
      "    https://scikit-learn.org/stable/modules/preprocessing.html\n",
      "Please also refer to the documentation for alternative solver options:\n",
      "    https://scikit-learn.org/stable/modules/linear_model.html#logistic-regression\n",
      "  n_iter_i = _check_optimize_result(\n"
     ]
    }
   ],
   "source": [
    "# 머신러닝 모델중에 로지스틱 회귀 모델을 이용\n",
    "from sklearn.linear_model import LogisticRegression\n",
    "result = []\n",
    "for c in range(1, 10):\n",
    "    lr = LogisticRegression(random_state=0, C=c, max_iter=200)\n",
    "    lr.fit(train_tfidf, train_df['label'])\n",
    "    result.append(lr.score(test_tfidf, test_df['label']))"
   ]
  },
  {
   "cell_type": "code",
   "execution_count": 25,
   "id": "9aa58e09-7e8c-43ee-81f8-f3f7046003ce",
   "metadata": {},
   "outputs": [
    {
     "data": {
      "text/plain": [
       "<149995x115039 sparse matrix of type '<class 'numpy.float64'>'\n",
       "\twith 2701286 stored elements in Compressed Sparse Row format>"
      ]
     },
     "execution_count": 25,
     "metadata": {},
     "output_type": "execute_result"
    }
   ],
   "source": [
    "train_tfidf"
   ]
  },
  {
   "cell_type": "code",
   "execution_count": 44,
   "id": "b41bfada-267b-4afd-a881-c273b6b602a2",
   "metadata": {},
   "outputs": [
    {
     "data": {
      "text/plain": [
       "LogisticRegression(max_iter=150, random_state=0)"
      ]
     },
     "execution_count": 44,
     "metadata": {},
     "output_type": "execute_result"
    }
   ],
   "source": [
    "lr.fit(train_tfidf, train_df['label'])"
   ]
  },
  {
   "cell_type": "code",
   "execution_count": 27,
   "id": "dbdc45ec-5351-4eaa-9aea-ee944e860efd",
   "metadata": {},
   "outputs": [],
   "source": [
    "# 평가용 데이터도 tf-idf로 변경하고 정확성 측정\n",
    "# sklearn은 정확성 평가하는 측정 라이브러리로 accuracy_score를 갖고 있는데, 모든 머신러닝은 score라는 평가용 함수가 있고 같은 뜻이다"
   ]
  },
  {
   "cell_type": "code",
   "execution_count": 30,
   "id": "500521c0-cae7-477d-a20c-692e610cd31f",
   "metadata": {},
   "outputs": [],
   "source": [
    "test_tfidf = tfidf.transform(test_df['document'])"
   ]
  },
  {
   "cell_type": "code",
   "execution_count": 31,
   "id": "a90454a1-8f12-468c-9398-50d162731e76",
   "metadata": {},
   "outputs": [],
   "source": [
    "from sklearn.metrics import accuracy_score\n",
    "test_predict = lr.predict(test_tfidf)"
   ]
  },
  {
   "cell_type": "code",
   "execution_count": 33,
   "id": "6249feea-6fe9-4e2a-a7f8-c919ef6e5458",
   "metadata": {},
   "outputs": [
    {
     "data": {
      "text/plain": [
       "((149995, 115039), (49555, 115039))"
      ]
     },
     "execution_count": 33,
     "metadata": {},
     "output_type": "execute_result"
    }
   ],
   "source": [
    "train_tfidf.shape, test_tfidf.shape"
   ]
  },
  {
   "cell_type": "code",
   "execution_count": 45,
   "id": "a41a295f-3a0b-41d3-b580-d19b2d7ed0b6",
   "metadata": {
    "tags": []
   },
   "outputs": [
    {
     "data": {
      "text/plain": [
       "0.8560589244274039"
      ]
     },
     "execution_count": 45,
     "metadata": {},
     "output_type": "execute_result"
    }
   ],
   "source": [
    "lr.score(test_tfidf, test_df['label'])"
   ]
  },
  {
   "cell_type": "code",
   "execution_count": 47,
   "id": "eef1d313-f833-4c7c-9f07-997e777de3f4",
   "metadata": {},
   "outputs": [
    {
     "data": {
      "text/plain": [
       "[0.8560589244274039,\n",
       " 0.8597719705377863,\n",
       " 0.8613661588134396,\n",
       " 0.8615679547976995,\n",
       " 0.8611441832307537,\n",
       " 0.8611643628291797,\n",
       " 0.8611240036323277,\n",
       " 0.8608213096559378,\n",
       " 0.86045807688427]"
      ]
     },
     "execution_count": 47,
     "metadata": {},
     "output_type": "execute_result"
    }
   ],
   "source": [
    "result"
   ]
  },
  {
   "cell_type": "code",
   "execution_count": 48,
   "id": "5523f0ce-24db-499f-8fd6-bc2146d237d3",
   "metadata": {},
   "outputs": [
    {
     "data": {
      "text/plain": [
       "LogisticRegression(C=4, max_iter=200, random_state=0)"
      ]
     },
     "execution_count": 48,
     "metadata": {},
     "output_type": "execute_result"
    }
   ],
   "source": [
    "lr = LogisticRegression(random_state=0, C=4, max_iter=200)\n",
    "lr.fit(train_tfidf, train_df['label'])"
   ]
  },
  {
   "cell_type": "code",
   "execution_count": 49,
   "id": "3e88bb5c-019f-431e-86fa-388b6ae1b0b6",
   "metadata": {},
   "outputs": [
    {
     "name": "stdin",
     "output_type": "stream",
     "text": [
      "평가 문장 아 이 영화는 너무너무 재미 없다\n"
     ]
    }
   ],
   "source": [
    "st = input('평가 문장')"
   ]
  },
  {
   "cell_type": "code",
   "execution_count": 50,
   "id": "40d81e76-42a2-4e3b-89d0-2d22b9d5b084",
   "metadata": {},
   "outputs": [],
   "source": [
    "rest = re.sub(r'[^ㄱ-ㅎ가-힣]+', \" \", st)"
   ]
  },
  {
   "cell_type": "code",
   "execution_count": 53,
   "id": "617f51ac-12e8-40e6-a1c2-ba5e8aa186ca",
   "metadata": {},
   "outputs": [
    {
     "data": {
      "text/plain": [
       "['아 이 영화는 너무너무 재미 없다']"
      ]
     },
     "execution_count": 53,
     "metadata": {},
     "output_type": "execute_result"
    }
   ],
   "source": [
    "rest = list(rest)\n",
    "rest = [\"\".join(rest)]\n",
    "rest"
   ]
  },
  {
   "cell_type": "code",
   "execution_count": 54,
   "id": "58563e0a-28bd-4857-aba5-1473510fe536",
   "metadata": {},
   "outputs": [],
   "source": [
    "# 입력 데이터에 대한 텍스트피처 벡터화\n",
    "rest_tfidf = tfidf.transform(rest)"
   ]
  },
  {
   "cell_type": "code",
   "execution_count": 55,
   "id": "9476e651-f33c-4468-a721-7148f55a9d82",
   "metadata": {},
   "outputs": [],
   "source": [
    "# 감성분석\n",
    "predict = lr.predict(rest_tfidf)"
   ]
  },
  {
   "cell_type": "code",
   "execution_count": 56,
   "id": "9b8ab9cd-21c5-459a-b30a-a776d942d6b7",
   "metadata": {},
   "outputs": [
    {
     "data": {
      "text/plain": [
       "array([0], dtype=int64)"
      ]
     },
     "execution_count": 56,
     "metadata": {},
     "output_type": "execute_result"
    }
   ],
   "source": [
    "predict"
   ]
  },
  {
   "cell_type": "code",
   "execution_count": null,
   "id": "322a8d89-ce7c-4dd2-bcd1-314b3a04ebf8",
   "metadata": {},
   "outputs": [],
   "source": []
  }
 ],
 "metadata": {
  "kernelspec": {
   "display_name": "Python 3 (ipykernel)",
   "language": "python",
   "name": "python3"
  },
  "language_info": {
   "codemirror_mode": {
    "name": "ipython",
    "version": 3
   },
   "file_extension": ".py",
   "mimetype": "text/x-python",
   "name": "python",
   "nbconvert_exporter": "python",
   "pygments_lexer": "ipython3",
   "version": "3.10.8"
  }
 },
 "nbformat": 4,
 "nbformat_minor": 5
}
