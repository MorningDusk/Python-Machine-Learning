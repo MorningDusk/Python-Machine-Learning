{
 "cells": [
  {
   "cell_type": "markdown",
   "id": "a968b0f1-6c26-4a20-9705-461fd48befaa",
   "metadata": {},
   "source": [
    "# 로지스틱 손실함수(이진 크로스엔트로피 손실 함수)"
   ]
  },
  {
   "cell_type": "code",
   "execution_count": 2,
   "id": "2fe99788-bcc2-4e01-b8aa-f89d61dec1ec",
   "metadata": {},
   "outputs": [
    {
     "data": {
      "text/html": [
       "<div>\n",
       "<style scoped>\n",
       "    .dataframe tbody tr th:only-of-type {\n",
       "        vertical-align: middle;\n",
       "    }\n",
       "\n",
       "    .dataframe tbody tr th {\n",
       "        vertical-align: top;\n",
       "    }\n",
       "\n",
       "    .dataframe thead th {\n",
       "        text-align: right;\n",
       "    }\n",
       "</style>\n",
       "<table border=\"1\" class=\"dataframe\">\n",
       "  <thead>\n",
       "    <tr style=\"text-align: right;\">\n",
       "      <th></th>\n",
       "      <th>Species</th>\n",
       "      <th>Weight</th>\n",
       "      <th>Length</th>\n",
       "      <th>Diagonal</th>\n",
       "      <th>Height</th>\n",
       "      <th>Width</th>\n",
       "    </tr>\n",
       "  </thead>\n",
       "  <tbody>\n",
       "    <tr>\n",
       "      <th>0</th>\n",
       "      <td>Bream</td>\n",
       "      <td>242.0</td>\n",
       "      <td>25.4</td>\n",
       "      <td>30.0</td>\n",
       "      <td>11.5200</td>\n",
       "      <td>4.0200</td>\n",
       "    </tr>\n",
       "    <tr>\n",
       "      <th>1</th>\n",
       "      <td>Bream</td>\n",
       "      <td>290.0</td>\n",
       "      <td>26.3</td>\n",
       "      <td>31.2</td>\n",
       "      <td>12.4800</td>\n",
       "      <td>4.3056</td>\n",
       "    </tr>\n",
       "    <tr>\n",
       "      <th>2</th>\n",
       "      <td>Bream</td>\n",
       "      <td>340.0</td>\n",
       "      <td>26.5</td>\n",
       "      <td>31.1</td>\n",
       "      <td>12.3778</td>\n",
       "      <td>4.6961</td>\n",
       "    </tr>\n",
       "    <tr>\n",
       "      <th>3</th>\n",
       "      <td>Bream</td>\n",
       "      <td>363.0</td>\n",
       "      <td>29.0</td>\n",
       "      <td>33.5</td>\n",
       "      <td>12.7300</td>\n",
       "      <td>4.4555</td>\n",
       "    </tr>\n",
       "    <tr>\n",
       "      <th>4</th>\n",
       "      <td>Bream</td>\n",
       "      <td>430.0</td>\n",
       "      <td>29.0</td>\n",
       "      <td>34.0</td>\n",
       "      <td>12.4440</td>\n",
       "      <td>5.1340</td>\n",
       "    </tr>\n",
       "  </tbody>\n",
       "</table>\n",
       "</div>"
      ],
      "text/plain": [
       "  Species  Weight  Length  Diagonal   Height   Width\n",
       "0   Bream   242.0    25.4      30.0  11.5200  4.0200\n",
       "1   Bream   290.0    26.3      31.2  12.4800  4.3056\n",
       "2   Bream   340.0    26.5      31.1  12.3778  4.6961\n",
       "3   Bream   363.0    29.0      33.5  12.7300  4.4555\n",
       "4   Bream   430.0    29.0      34.0  12.4440  5.1340"
      ]
     },
     "execution_count": 2,
     "metadata": {},
     "output_type": "execute_result"
    }
   ],
   "source": [
    "import pandas as pd\n",
    "df = pd.read_csv('http://bit.ly/fish_csv_data')\n",
    "df.head()"
   ]
  },
  {
   "cell_type": "code",
   "execution_count": 9,
   "id": "f7f85771-bd0a-48a6-80bb-97a144466fbb",
   "metadata": {},
   "outputs": [
    {
     "name": "stdout",
     "output_type": "stream",
     "text": [
      "<class 'numpy.ndarray'> <class 'numpy.ndarray'>\n",
      "0.7747747747747747\n",
      "0.6458333333333334\n"
     ]
    },
    {
     "name": "stderr",
     "output_type": "stream",
     "text": [
      "C:\\Users\\user\\miniconda3\\envs\\py\\lib\\site-packages\\sklearn\\linear_model\\_stochastic_gradient.py:574: ConvergenceWarning: Maximum number of iteration reached before convergence. Consider increasing max_iter to improve the fit.\n",
      "  warnings.warn(\"Maximum number of iteration reached before \"\n"
     ]
    }
   ],
   "source": [
    "# 정답과 분류\n",
    "X = df.iloc[:, 1:].to_numpy()\n",
    "Y = df.iloc[:, 0].to_numpy()\n",
    "print(type(X), type(Y))\n",
    "\n",
    "# 데이터 표준화\n",
    "from sklearn.preprocessing import StandardScaler\n",
    "X = StandardScaler().fit_transform(X)\n",
    "\n",
    "# 훈련 / 테스트(검증) 세트로 분리\n",
    "from sklearn.model_selection import train_test_split\n",
    "x_train,x_test,y_train,y_test = train_test_split(X,Y, test_size=0.3, random_state=0)\n",
    "\n",
    "# 선형모델중에 적합한 모델 선택\n",
    "# SGDClassifier: 확률적 경사하강법을 적용한 머신러닝\n",
    "# 확률적 경사하강법: 학습용 데이터가 매번 갱신되는 상황에서 전체데이터를 다 사용하지 않고 확보된 데이터만 가지고 학습이 가능\n",
    "from sklearn.linear_model import SGDClassifier\n",
    "# 손실함수로 log를 사용한다는 것은 각 클래스를 기준으로 이진분류를 각각 만들어서 합치는 것\n",
    "sc = SGDClassifier(loss=\"log\", max_iter=10, random_state=0)\n",
    "\n",
    "# 훈련\n",
    "sc.fit(x_train, y_train)\n",
    "\n",
    "# 학습용 / 검증용으로 성능을 출력 -> 과적합\n",
    "print(sc.score(x_train, y_train))\n",
    "print(sc.score(x_test, y_test))"
   ]
  },
  {
   "cell_type": "code",
   "execution_count": 10,
   "id": "689c82f8-c936-411b-a284-88568e164747",
   "metadata": {},
   "outputs": [
    {
     "data": {
      "text/plain": [
       "(0.8378378378378378, 0.7708333333333334)"
      ]
     },
     "execution_count": 10,
     "metadata": {},
     "output_type": "execute_result"
    }
   ],
   "source": [
    "sc.partial_fit(x_train, y_train)\n",
    "sc.score(x_train, y_train), sc.score(x_test, y_test)"
   ]
  },
  {
   "cell_type": "code",
   "execution_count": 11,
   "id": "d18d5978-5ced-49b8-8c1d-3d1643c4899d",
   "metadata": {},
   "outputs": [],
   "source": [
    "# 시각화를 통해 최적의 점진적 학습횟수... 성능을 과적합\n",
    "# 학습을 많이하고 모델이 복잡할수록 과적합 피할 수 없다\n",
    "sc = SGDClassifier(loss='log', max_iter=100, random_state=0)\n",
    "sc.fit(x_train, y_train)\n",
    "train_score, test_score = [], []\n",
    "for _ in range(300):\n",
    "    sc.partial_fit(x_train, y_train)\n",
    "    train_score.append(sc.score(x_train, y_train))\n",
    "    test_score.append(sc.score(x_test, y_test))"
   ]
  },
  {
   "cell_type": "code",
   "execution_count": 14,
   "id": "3a612857-7ddb-4ae5-bee9-154e06ff1c2f",
   "metadata": {},
   "outputs": [
    {
     "data": {
      "text/plain": [
       "<matplotlib.legend.Legend at 0x2066e89e320>"
      ]
     },
     "execution_count": 14,
     "metadata": {},
     "output_type": "execute_result"
    },
    {
     "data": {
      "image/png": "[encoded data removed]",
      "text/plain": [
       "<Figure size 640x480 with 1 Axes>"
      ]
     },
     "metadata": {},
     "output_type": "display_data"
    }
   ],
   "source": [
    "import matplotlib.pyplot as plt\n",
    "plt.plot(train_score, label='train')\n",
    "plt.plot(test_score, label='test')\n",
    "plt.xlim((0,40))\n",
    "plt.legend()"
   ]
  },
  {
   "cell_type": "code",
   "execution_count": 15,
   "id": "03e175c8-d45b-4e1d-a401-0aa64c087690",
   "metadata": {},
   "outputs": [
    {
     "data": {
      "text/plain": [
       "(0.8918918918918919, 0.8333333333333334)"
      ]
     },
     "execution_count": 15,
     "metadata": {},
     "output_type": "execute_result"
    }
   ],
   "source": [
    "sc = SGDClassifier(loss='log', max_iter=100, random_state=0)\n",
    "sc.fit(x_train, y_train)\n",
    "sc.score(x_train, y_train), sc.score(x_test, y_test)"
   ]
  },
  {
   "cell_type": "markdown",
   "id": "3a165bb2-2c4e-475e-85c7-c60a5c213bc1",
   "metadata": {},
   "source": [
    "#### 더 이상 성능향상이 없으면 자동으로 학습을 중지 - 조기종료"
   ]
  },
  {
   "cell_type": "markdown",
   "id": "407c9982-44fa-4934-9e6d-ad94d21c7b75",
   "metadata": {},
   "source": [
    "# 회귀\n",
    "    KNeighborsRegressor: 거리중심의 이웃한 데이터를 기준\n",
    "    LinearRegression: 직선의 방정식   y = ax + b\n",
    "# 분류\n",
    "    KNeighborsClassifier \n",
    "    SGDClassifier: 확률적 경사하강법 (랜덤하게 경사가 급한방향으로 내려간다)\n",
    "    LogisticRegression: 값을 예측하나 그 값을 확률로 사용, 로지스틱 함수(sigmoid 함수) 연속적인 값으로 0~1 사이를 표현해서 임계치인 0.5보다 크면 양성클래스, 작으면 음성클래스, 그래서 이진분류"
   ]
  },
  {
   "cell_type": "code",
   "execution_count": null,
   "id": "a85ee040-06a1-47f6-b2d7-ca8cfa316649",
   "metadata": {},
   "outputs": [],
   "source": []
  }
 ],
 "metadata": {
  "kernelspec": {
   "display_name": "Python 3 (ipykernel)",
   "language": "python",
   "name": "python3"
  },
  "language_info": {
   "codemirror_mode": {
    "name": "ipython",
    "version": 3
   },
   "file_extension": ".py",
   "mimetype": "text/x-python",
   "name": "python",
   "nbconvert_exporter": "python",
   "pygments_lexer": "ipython3",
   "version": "3.10.8"
  }
 },
 "nbformat": 4,
 "nbformat_minor": 5
}
