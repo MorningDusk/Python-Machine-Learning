{
 "cells": [
  {
   "cell_type": "markdown",
   "id": "4e3012fb-f738-42e8-8fd2-cf7faf0903b8",
   "metadata": {},
   "source": [
    "#### 함수 function"
   ]
  },
  {
   "cell_type": "markdown",
   "id": "26ffc965-56b5-46d0-8b69-9e2350acd3ef",
   "metadata": {},
   "source": [
    "### 코드의 재사용"
   ]
  },
  {
   "cell_type": "code",
   "execution_count": 1,
   "id": "d156db83-73fd-48fc-9c3b-966d39ab1ec1",
   "metadata": {},
   "outputs": [],
   "source": [
    "# 전달받은 값을 양수로 변환해서 반환하는 함수\n",
    "def abs(x):\n",
    "    if x < 0: x = -x\n",
    "    return x"
   ]
  },
  {
   "cell_type": "code",
   "execution_count": 2,
   "id": "126df4b5-d3db-4afa-be90-ca0b4b38653d",
   "metadata": {},
   "outputs": [
    {
     "name": "stdout",
     "output_type": "stream",
     "text": [
      "10\n"
     ]
    }
   ],
   "source": [
    "data = -10\n",
    "print(abs(data))"
   ]
  },
  {
   "cell_type": "code",
   "execution_count": 4,
   "id": "8cf389af-14ab-460c-9940-6fcb6891e66c",
   "metadata": {},
   "outputs": [],
   "source": [
    "# case 1 : 매개변수가 없고 리턴값이 없음\n",
    "def temp1():\n",
    "    print(\"temp\")\n",
    "# case 2 : 매개변수가 있고 리턴값이 없음\n",
    "def temp2(x):\n",
    "    print(f\"receive parameter is {x}\")\n",
    "# case 3 : 매개변수가 없고 리턴값이 있음\n",
    "def temp3():\n",
    "    return \"temp\"\n",
    "# case 4 : 매개변수가 있고 리턴값이 있음\n",
    "def temp4(x, y):\n",
    "    return x + y"
   ]
  },
  {
   "cell_type": "code",
   "execution_count": 8,
   "id": "6571e464-f2ed-499c-91eb-20dfc59f7467",
   "metadata": {},
   "outputs": [
    {
     "name": "stdout",
     "output_type": "stream",
     "text": [
      "temp\n",
      "receive parameter is 10\n",
      "temp\n"
     ]
    },
    {
     "data": {
      "text/plain": [
       "30"
      ]
     },
     "execution_count": 8,
     "metadata": {},
     "output_type": "execute_result"
    }
   ],
   "source": [
    "# 함수 사용 : 설계한 대로 사용\n",
    "temp1()\n",
    "temp2(10)\n",
    "print(temp3())\n",
    "temp4(10, 20)"
   ]
  },
  {
   "cell_type": "code",
   "execution_count": 10,
   "id": "075e3e4b-d9ea-4bbc-ac2b-7a2881ab99d2",
   "metadata": {},
   "outputs": [
    {
     "name": "stdout",
     "output_type": "stream",
     "text": [
      "사각형의 x의 길이 : 10\n",
      "사각형의 y의 길이 : 20\n",
      "사각형의 넓이: 200\n"
     ]
    }
   ],
   "source": [
    "# 가로 세로의 길이를 받아서 사각형의 면적을 계산하는 함수\n",
    "def calculate_rectangle_area(x, y):\n",
    "    return x * y\n",
    "x = 10\n",
    "y = 20\n",
    "print(f\"사각형의 x의 길이 : {x}\")\n",
    "print(f\"사각형의 y의 길이 : {y}\")\n",
    "print(f\"사각형의 넓이: {calculate_rectangle_area(x,y)}\")"
   ]
  },
  {
   "cell_type": "code",
   "execution_count": 12,
   "id": "2ff7426a-4582-4e56-8670-b03202dc9e5b",
   "metadata": {},
   "outputs": [
    {
     "data": {
      "text/plain": [
       "151"
      ]
     },
     "execution_count": 12,
     "metadata": {},
     "output_type": "execute_result"
    }
   ],
   "source": [
    "# f(x) = 2x + 7, g(x) = x의 제곱\n",
    "def f(x):\n",
    "    return 2*x + 7\n",
    "def g(x):\n",
    "    return x**2\n",
    "x = 2\n",
    "f(x) + g(x) + f(g(x)) + g(f(x))"
   ]
  },
  {
   "cell_type": "code",
   "execution_count": 14,
   "id": "def77cb2-f23c-430a-becb-721ca1da1b88",
   "metadata": {},
   "outputs": [],
   "source": [
    "# 함수의 호출방식\n",
    "# 함수의 매개변수를 넘길 때 함수가 수행되고 난후 원본이 변경되는지 여부에 따라서 아래와 같이 불린다\n",
    "# call by value : 함수의 매개변수로 넘어가는 데이터가 데이터인 경우\n",
    "# call by reference : 함수의 매개변수로 넘어가는 데이터가 주소값일 경우"
   ]
  },
  {
   "cell_type": "code",
   "execution_count": 15,
   "id": "618832be-8683-4380-9559-f23ea8ee2e13",
   "metadata": {},
   "outputs": [],
   "source": [
    "# 객체의 주소가 함수로 전달되는 뜻으로 객체호출(call by reference object)"
   ]
  },
  {
   "cell_type": "code",
   "execution_count": 20,
   "id": "ee06db1c-2d3e-4f3c-8b71-58c25d37d4bc",
   "metadata": {},
   "outputs": [],
   "source": [
    "def spam(eggs):\n",
    "    eggs = [2, 3]  # 새로운 객체를 할당\n",
    "    eggs.append(1)  # 기존객체에 1을 추가"
   ]
  },
  {
   "cell_type": "code",
   "execution_count": 21,
   "id": "a752517f-5381-4540-bd7b-8d01f0b7673b",
   "metadata": {},
   "outputs": [
    {
     "name": "stdout",
     "output_type": "stream",
     "text": [
      "[0]\n"
     ]
    }
   ],
   "source": [
    "ham = [0]\n",
    "spam(ham)\n",
    "print(ham)"
   ]
  },
  {
   "cell_type": "markdown",
   "id": "832312dd-e6c9-4e24-ab35-c1f7031a5158",
   "metadata": {},
   "source": [
    "### 변수의 범위"
   ]
  },
  {
   "cell_type": "code",
   "execution_count": 22,
   "id": "5ea040b5-ed72-43bd-8d15-eb17c095b99e",
   "metadata": {},
   "outputs": [],
   "source": [
    "def test(x):\n",
    "    print(x)\n",
    "    t = 20\n",
    "    print(f\"in function : t = {t}\")"
   ]
  },
  {
   "cell_type": "code",
   "execution_count": 23,
   "id": "c482065b-dd75-4bd8-9a17-0838283305d0",
   "metadata": {},
   "outputs": [
    {
     "name": "stdout",
     "output_type": "stream",
     "text": [
      "10\n",
      "in function : t = 20\n"
     ]
    }
   ],
   "source": [
    "test(10)"
   ]
  },
  {
   "cell_type": "code",
   "execution_count": 26,
   "id": "95d4d86e-2fb1-43ad-8295-8ad1dd38d84f",
   "metadata": {},
   "outputs": [
    {
     "name": "stdout",
     "output_type": "stream",
     "text": [
      "I love seoul\n"
     ]
    }
   ],
   "source": [
    "def f():\n",
    "    s = 'I love seoul'\n",
    "    print(s)\n",
    "    \n",
    "s = 'I love YoungIn'\n",
    "f()"
   ]
  },
  {
   "cell_type": "code",
   "execution_count": 29,
   "id": "29b821b0-dd3c-41cc-9862-aaf363792c06",
   "metadata": {},
   "outputs": [
    {
     "name": "stdout",
     "output_type": "stream",
     "text": [
      "I love seoul\n",
      "I love seoul\n"
     ]
    }
   ],
   "source": [
    "def f():\n",
    "    global s\n",
    "    s = 'I love seoul'\n",
    "    print(s)\n",
    "    \n",
    "s = 'I love YoungIn'\n",
    "f()\n",
    "print(s)"
   ]
  },
  {
   "cell_type": "code",
   "execution_count": 31,
   "id": "f7db62d1-7cfe-444b-aedc-ee2f5a848754",
   "metadata": {},
   "outputs": [
    {
     "name": "stdout",
     "output_type": "stream",
     "text": [
      "in program - 1\n",
      "a : 5, b : 7, a + b : 12\n",
      "in function\n",
      "a : 5, b : 7, a + b : 12, total : 12\n",
      "after calculation\n",
      "total : 0, sum : 12\n"
     ]
    }
   ],
   "source": [
    "def calculate(x, y):\n",
    "    total = x + y\n",
    "    print(\"in function\")\n",
    "    print(f\"a : {str(a)}, b : {str(b)}, a + b : {str(a+b)}, total : {str(total)}\")\n",
    "    return total\n",
    "\n",
    "a = 5\n",
    "b = 7\n",
    "total = 0\n",
    "print(\"in program - 1\")\n",
    "print(f\"a : {str(a)}, b : {str(b)}, a + b : {str(a+b)}\")\n",
    "    \n",
    "sum = calculate(a, b)\n",
    "print(\"after calculation\")\n",
    "print(f\"total : {str(total)}, sum : {str(sum)}\")"
   ]
  },
  {
   "cell_type": "code",
   "execution_count": 32,
   "id": "dff2ee10-3bfc-41ad-91e0-be1fa6e54dff",
   "metadata": {},
   "outputs": [],
   "source": [
    "def B():\n",
    "    print('b')\n",
    "    return \"finish\"\n",
    "\n",
    "def A():\n",
    "    print('call A')\n",
    "    return B()"
   ]
  },
  {
   "cell_type": "code",
   "execution_count": 33,
   "id": "64cf225f-bc42-4288-a55a-3b9b5e119b77",
   "metadata": {},
   "outputs": [
    {
     "name": "stdout",
     "output_type": "stream",
     "text": [
      "call A\n",
      "b\n"
     ]
    },
    {
     "data": {
      "text/plain": [
       "'finish'"
      ]
     },
     "execution_count": 33,
     "metadata": {},
     "output_type": "execute_result"
    }
   ],
   "source": [
    "A()"
   ]
  },
  {
   "cell_type": "code",
   "execution_count": 36,
   "id": "c1ca78f4-7f74-4b9f-9db8-d64ac5d3ad4c",
   "metadata": {},
   "outputs": [],
   "source": [
    "# 재귀함수 무한루프 즉 자신을 호출하는 로직을 두되 반드시 더 이상 재귀가 되지 않도록 예외처리를 한다\n",
    "def temp(n):\n",
    "    if n == 1:\n",
    "        return 1\n",
    "    return n * temp(n - 1)"
   ]
  },
  {
   "cell_type": "code",
   "execution_count": 35,
   "id": "ab0bd29d-d6d0-42e1-be24-31e88f430ff7",
   "metadata": {},
   "outputs": [
    {
     "data": {
      "text/plain": [
       "120"
      ]
     },
     "execution_count": 35,
     "metadata": {},
     "output_type": "execute_result"
    }
   ],
   "source": [
    "temp(5)"
   ]
  },
  {
   "cell_type": "code",
   "execution_count": 37,
   "id": "f5da964f-f8a1-4eba-8558-e93a16092b26",
   "metadata": {},
   "outputs": [],
   "source": [
    "# 재귀함수의 단점 : 리소스를 많이 차지한다 일반 for문보다 속도가 느리다"
   ]
  },
  {
   "cell_type": "markdown",
   "id": "d46446fc-7d5b-4a48-873b-5a9ccbf3ebfe",
   "metadata": {},
   "source": [
    "# 파이썬 함수의 매개변수"
   ]
  },
  {
   "cell_type": "code",
   "execution_count": 38,
   "id": "ef62c1af-4782-43c4-b66f-f8fd098bf579",
   "metadata": {},
   "outputs": [],
   "source": [
    "# 키워드 변수 : 지정된 변수명을 사용해서 함수의 인수를 호출하는 방법\n",
    "# 디폴트 변수 : 해당 인수에 값이 넘지 않을 때 기본값을 설정해서 사용\n",
    "# 가변 변수 : 인수의 개수를 따로 지정하지 않고 주는대로 받는 - 내부적으로 리스트로 처리\n",
    "# 키워드 가변 인수 : 매개변수의 이름을 따로 지정하지 않고 사용"
   ]
  },
  {
   "cell_type": "code",
   "execution_count": 39,
   "id": "5ba1b24c-3b16-49f7-ae7f-37a1a5cc9eaa",
   "metadata": {},
   "outputs": [],
   "source": [
    "def print_something(my_name, your_name):\n",
    "    print(f\"Hello {your_name}, my name is {my_name}\")\n",
    "          "
   ]
  },
  {
   "cell_type": "code",
   "execution_count": 40,
   "id": "51454f5d-050d-40bf-8fd3-9ec7620d4311",
   "metadata": {},
   "outputs": [
    {
     "name": "stdout",
     "output_type": "stream",
     "text": [
      "Hello hong-gil-dong, my name is leeky\n"
     ]
    }
   ],
   "source": [
    "print_something('leeky', 'hong-gil-dong')"
   ]
  },
  {
   "cell_type": "code",
   "execution_count": 41,
   "id": "d5b4da7d-31ae-4e4c-8698-d0b0beb25229",
   "metadata": {},
   "outputs": [
    {
     "name": "stdout",
     "output_type": "stream",
     "text": [
      "Hello hong-gil-dong, my name is leeky\n"
     ]
    }
   ],
   "source": [
    "print_something(your_name = 'hong-gil-dong', my_name = 'leeky')"
   ]
  },
  {
   "cell_type": "code",
   "execution_count": 42,
   "id": "cfe575c1-8619-4e87-83bb-c8c9d5c9d08e",
   "metadata": {},
   "outputs": [],
   "source": [
    "def print_something2(a, b, c, d, e, f):\n",
    "    print(f\"a: {a}, b: {b}, c: {c}, d: {d}, e: {e}, f: {f}\")"
   ]
  },
  {
   "cell_type": "code",
   "execution_count": 43,
   "id": "a217eb69-d041-41d6-b9bf-d9913d5d561b",
   "metadata": {},
   "outputs": [
    {
     "name": "stdout",
     "output_type": "stream",
     "text": [
      "a: 10, b: 20, c: 30, d: 20, e: 100, f: 20\n"
     ]
    }
   ],
   "source": [
    "print_something2(10, 20, f = 20, c = 30, d = 20, e = 100)"
   ]
  },
  {
   "cell_type": "code",
   "execution_count": 44,
   "id": "b7f652d5-b0fe-4302-8f02-a0f1c4848b00",
   "metadata": {},
   "outputs": [],
   "source": [
    "# 디폴트 인수 : 함수의 매개변수를 설계할 때 기본값을 셋팅 그래서 사용자가 전달하지 않으면 기본값을 사용\n",
    "def print_something(my_name, your_name='KOREA'):\n",
    "    print(f\"Hello {your_name}, my name is {my_name}\")"
   ]
  },
  {
   "cell_type": "code",
   "execution_count": 45,
   "id": "da1e8387-eda9-4fa2-90c5-63c78b537555",
   "metadata": {},
   "outputs": [
    {
     "name": "stdout",
     "output_type": "stream",
     "text": [
      "Hello hong-gil-dong, my name is leeky\n"
     ]
    }
   ],
   "source": [
    "print_something('leeky', 'hong-gil-dong')"
   ]
  },
  {
   "cell_type": "code",
   "execution_count": 46,
   "id": "ad420099-e769-4839-a741-54d290b6c440",
   "metadata": {},
   "outputs": [
    {
     "name": "stdout",
     "output_type": "stream",
     "text": [
      "Hello KOREA, my name is leeky\n"
     ]
    }
   ],
   "source": [
    "print_something('leeky')"
   ]
  },
  {
   "cell_type": "code",
   "execution_count": 51,
   "id": "dba5e50b-d4c0-4e52-a568-3a00f2bf2e2f",
   "metadata": {},
   "outputs": [],
   "source": [
    "# 디폴트 매개변수는 뒤에서부터 셋팅한다\n",
    "# 디폴트 매개변수는 한번 셋팅하면 그 뒤에 나오는 매개변수는 전부 디폴트로 셋팅\n",
    "def default_function(a, b = 0, c = 0):\n",
    "    print(f\"a:{a} b:{b} c:{c}\")"
   ]
  },
  {
   "cell_type": "code",
   "execution_count": 53,
   "id": "7b5f12a4-1140-4c71-927e-e24ac86bb79a",
   "metadata": {},
   "outputs": [
    {
     "name": "stdout",
     "output_type": "stream",
     "text": [
      "a:1 b:2 c:5\n"
     ]
    }
   ],
   "source": [
    "default_function(1,2,5)"
   ]
  },
  {
   "cell_type": "markdown",
   "id": "63b89f63-bbd6-440f-b901-0df6564fa7eb",
   "metadata": {},
   "source": [
    "# 가변인수"
   ]
  },
  {
   "cell_type": "code",
   "execution_count": 60,
   "id": "9b79c25e-f207-4712-af23-32fe06a3c616",
   "metadata": {},
   "outputs": [],
   "source": [
    "def asterisk_test(*args):\n",
    "    print(sum(args))"
   ]
  },
  {
   "cell_type": "code",
   "execution_count": 61,
   "id": "48b942a0-ca30-4b90-9218-37f51d95018a",
   "metadata": {},
   "outputs": [
    {
     "ename": "TypeError",
     "evalue": "'int' object is not callable",
     "output_type": "error",
     "traceback": [
      "\u001b[1;31m---------------------------------------------------------------------------\u001b[0m",
      "\u001b[1;31mTypeError\u001b[0m                                 Traceback (most recent call last)",
      "Cell \u001b[1;32mIn[61], line 1\u001b[0m\n\u001b[1;32m----> 1\u001b[0m \u001b[43masterisk_test\u001b[49m\u001b[43m(\u001b[49m\u001b[38;5;241;43m10\u001b[39;49m\u001b[43m,\u001b[49m\u001b[43m \u001b[49m\u001b[38;5;241;43m20\u001b[39;49m\u001b[43m,\u001b[49m\u001b[43m \u001b[49m\u001b[38;5;241;43m30\u001b[39;49m\u001b[43m,\u001b[49m\u001b[43m \u001b[49m\u001b[38;5;241;43m40\u001b[39;49m\u001b[43m,\u001b[49m\u001b[43m \u001b[49m\u001b[38;5;241;43m50\u001b[39;49m\u001b[43m)\u001b[49m\n",
      "Cell \u001b[1;32mIn[60], line 2\u001b[0m, in \u001b[0;36masterisk_test\u001b[1;34m(*args)\u001b[0m\n\u001b[0;32m      1\u001b[0m \u001b[38;5;28;01mdef\u001b[39;00m \u001b[38;5;21masterisk_test\u001b[39m(\u001b[38;5;241m*\u001b[39margs):\n\u001b[1;32m----> 2\u001b[0m     \u001b[38;5;28mprint\u001b[39m(\u001b[38;5;28;43msum\u001b[39;49m\u001b[43m(\u001b[49m\u001b[43margs\u001b[49m\u001b[43m)\u001b[49m)\n",
      "\u001b[1;31mTypeError\u001b[0m: 'int' object is not callable"
     ]
    }
   ],
   "source": [
    "asterisk_test(10, 20, 30, 40, 50)"
   ]
  },
  {
   "cell_type": "code",
   "execution_count": 59,
   "id": "9e44082a-b59d-4ba0-8e1e-c65350aa5117",
   "metadata": {},
   "outputs": [
    {
     "name": "stdout",
     "output_type": "stream",
     "text": [
      "a: 10 b: 5 arg: (20, 30, 40, 50)\n"
     ]
    }
   ],
   "source": [
    "def asterisk_test(a, *arg, b):\n",
    "    print(f\"a: {a} b: {b} arg: {arg}\")\n",
    "asterisk_test(10, 20, 30, 40, 50, b = 5)"
   ]
  },
  {
   "cell_type": "code",
   "execution_count": 62,
   "id": "610ddcb9-609b-42a4-8a52-2b553ab4e272",
   "metadata": {},
   "outputs": [],
   "source": [
    "def test():\n",
    "    return 10, 20, 30"
   ]
  },
  {
   "cell_type": "code",
   "execution_count": 63,
   "id": "706254b1-f8cd-4439-83b4-3c604355bbc5",
   "metadata": {},
   "outputs": [],
   "source": [
    "a, b, c = test()\n",
    "v1, v2, v3 = 100, 200, 300"
   ]
  },
  {
   "cell_type": "code",
   "execution_count": 68,
   "id": "30e72ce9-fdf1-43cc-a9b8-84fff114699a",
   "metadata": {},
   "outputs": [],
   "source": [
    "def asterisk_test2(*args):\n",
    "    if len(args) < 2:\n",
    "        print(\"argument must have size 2 over\")\n",
    "        return\n",
    "    x, y, *z = args\n",
    "    print(f\"x: {x} y: {y}\")\n",
    "    print(f\"z: {z}\")"
   ]
  },
  {
   "cell_type": "code",
   "execution_count": 73,
   "id": "cd77c7c9-598a-4177-ba5a-456129bcc3d8",
   "metadata": {},
   "outputs": [
    {
     "name": "stdout",
     "output_type": "stream",
     "text": [
      "x: 1 y: 2\n",
      "z: []\n"
     ]
    }
   ],
   "source": [
    "asterisk_test3(1, 2)"
   ]
  },
  {
   "cell_type": "code",
   "execution_count": 71,
   "id": "acb4db1f-5698-4f4a-aad7-c048de60040c",
   "metadata": {},
   "outputs": [],
   "source": [
    "def asterisk_test3(*args):\n",
    "    assert len(args) > 1\n",
    "    x, y, *z = args\n",
    "    print(f\"x: {x} y: {y}\")\n",
    "    print(f\"z: {z}\")"
   ]
  }
 ],
 "metadata": {
  "kernelspec": {
   "display_name": "Python 3 (ipykernel)",
   "language": "python",
   "name": "python3"
  },
  "language_info": {
   "codemirror_mode": {
    "name": "ipython",
    "version": 3
   },
   "file_extension": ".py",
   "mimetype": "text/x-python",
   "name": "python",
   "nbconvert_exporter": "python",
   "pygments_lexer": "ipython3",
   "version": "3.10.8"
  }
 },
 "nbformat": 4,
 "nbformat_minor": 5
}
