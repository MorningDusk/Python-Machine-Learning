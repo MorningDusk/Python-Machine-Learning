{
 "cells": [
  {
   "cell_type": "code",
   "execution_count": 1,
   "id": "1b8e4584-d172-417d-a2e5-0669e607a09a",
   "metadata": {},
   "outputs": [],
   "source": [
    "#두 변수 간의 복사\n",
    "number1 = 10\n",
    "number2 = number1"
   ]
  },
  {
   "cell_type": "code",
   "execution_count": 5,
   "id": "d7df8413-ef8d-4b90-8d43-6d4a61e92e2a",
   "metadata": {},
   "outputs": [
    {
     "data": {
      "text/plain": [
       "(100, 10)"
      ]
     },
     "execution_count": 5,
     "metadata": {},
     "output_type": "execute_result"
    }
   ],
   "source": [
    "number1 = 100\n",
    "number1, number2"
   ]
  },
  {
   "cell_type": "code",
   "execution_count": 8,
   "id": "0cb6f202-d5d2-4aa8-b430-3ea572069d58",
   "metadata": {},
   "outputs": [],
   "source": [
    "#얕은 복사\n",
    "number3 = [1, 2, 3, 4, 5]\n",
    "number4 = number3"
   ]
  },
  {
   "cell_type": "code",
   "execution_count": 7,
   "id": "3d99921f-1f23-4df9-998d-8b535e57f373",
   "metadata": {},
   "outputs": [
    {
     "data": {
      "text/plain": [
       "([100, 2, 3, 4, 5], [100, 2, 3, 4, 5])"
      ]
     },
     "execution_count": 7,
     "metadata": {},
     "output_type": "execute_result"
    }
   ],
   "source": [
    "#객체지향 언어의 특징\n",
    "#객체지향 언어에서 변수는 변수가 아니라 객체고 객체는 값을 저장하는데 그 값이 바로 사용하는 데이터가 아닌 데이터가 저장된 주소\n",
    "number3[0] = 100\n",
    "number3, number4"
   ]
  },
  {
   "cell_type": "code",
   "execution_count": 9,
   "id": "b2f03954-000f-4ac9-b28d-cb7a7fc198ca",
   "metadata": {},
   "outputs": [],
   "source": [
    "#깊은 복사\n",
    "#number3 변수 초기화\n",
    "number3 = [1, 2, 3, 4, 5]\n",
    "#number3와 동일한 값을 가지는 독립적인 객체 number4\n",
    "#라이브러리 사용\n",
    "import copy\n",
    "number4 = copy.deepcopy(number3)"
   ]
  },
  {
   "cell_type": "markdown",
   "id": "8040923c-740c-4a14-b749-2b4eb66f722d",
   "metadata": {},
   "source": [
    "number3[0] = 100\n",
    "number3, number4"
   ]
  },
  {
   "cell_type": "markdown",
   "id": "8525c3aa-5052-46d0-9fff-f8b4b2c838d0",
   "metadata": {
    "tags": []
   },
   "source": [
    "조건문과 반복문"
   ]
  },
  {
   "cell_type": "markdown",
   "id": "a49700b4-b975-4db0-b14d-4c2752de1612",
   "metadata": {},
   "source": [
    "조건문"
   ]
  },
  {
   "cell_type": "code",
   "execution_count": 11,
   "id": "715de450-b8d9-445f-974a-4f7f15f32324",
   "metadata": {},
   "outputs": [],
   "source": [
    "#성적이 다음과 같을 때 학점을 부여하는 프로그램을 만들어라\n",
    "# 38, 65, 89, 16 ..."
   ]
  },
  {
   "cell_type": "code",
   "execution_count": 12,
   "id": "210ad5a4-1e77-4237-b119-87e66433fe38",
   "metadata": {},
   "outputs": [],
   "source": [
    "# if else elif\n",
    "# 들여쓰기"
   ]
  },
  {
   "cell_type": "code",
   "execution_count": 15,
   "id": "d52e9de2-e3a8-4fa4-9127-13e498f6d8e1",
   "metadata": {},
   "outputs": [
    {
     "name": "stdout",
     "output_type": "stream",
     "text": [
      "미성년자입니다\n",
      "------------------------------\n"
     ]
    }
   ],
   "source": [
    "age = 5\n",
    "if age > 20:\n",
    "    print(\"성인이군요\")\n",
    "    print(\"책임감 있게 행동하세요\")\n",
    "else:\n",
    "    print(\"미성년자입니다\")\n",
    "print(\"------------------------------\")"
   ]
  },
  {
   "cell_type": "code",
   "execution_count": 16,
   "id": "74b44c47-3b55-4c45-b21b-90a83721162a",
   "metadata": {},
   "outputs": [
    {
     "name": "stdout",
     "output_type": "stream",
     "text": [
      "Enter your age\n"
     ]
    },
    {
     "name": "stdin",
     "output_type": "stream",
     "text": [
      " 30\n"
     ]
    },
    {
     "name": "stdout",
     "output_type": "stream",
     "text": [
      "You are not accepted\n"
     ]
    }
   ],
   "source": [
    "print(\"Enter your age\")\n",
    "myage = int(input())\n",
    "if myage < 30:\n",
    "    print(\"Welcome to the club\")\n",
    "else:\n",
    "    print(\"You are not accepted\")"
   ]
  },
  {
   "cell_type": "markdown",
   "id": "9f176754-c7b1-49a9-a41f-450968fffcb2",
   "metadata": {},
   "source": [
    "비교 연산자"
   ]
  },
  {
   "cell_type": "code",
   "execution_count": 17,
   "id": "eb42f2de-e903-4c13-9feb-6551aa9f22ce",
   "metadata": {},
   "outputs": [
    {
     "ename": "NameError",
     "evalue": "name 'x' is not defined",
     "output_type": "error",
     "traceback": [
      "\u001b[1;31m---------------------------------------------------------------------------\u001b[0m",
      "\u001b[1;31mNameError\u001b[0m                                 Traceback (most recent call last)",
      "Cell \u001b[1;32mIn[17], line 1\u001b[0m\n\u001b[1;32m----> 1\u001b[0m \u001b[43mx\u001b[49m \u001b[38;5;241m<\u001b[39m y\n\u001b[0;32m      2\u001b[0m x \u001b[38;5;241m>\u001b[39m y\n\u001b[0;32m      3\u001b[0m x \u001b[38;5;241m<\u001b[39m\u001b[38;5;241m=\u001b[39m y\n",
      "\u001b[1;31mNameError\u001b[0m: name 'x' is not defined"
     ]
    }
   ],
   "source": [
    "x < y\n",
    "x > y\n",
    "x <= y\n",
    "x >= y\n",
    "x = y\n",
    "x == y  #값이 같은지 검사\n",
    "x is y  #주소가 같은지 검사\n",
    "x != y\n",
    "x is not y"
   ]
  },
  {
   "cell_type": "code",
   "execution_count": 18,
   "id": "d365e654-b7aa-45c5-b28b-e1c4a2cb2057",
   "metadata": {},
   "outputs": [
    {
     "data": {
      "text/plain": [
       "True"
      ]
     },
     "execution_count": 18,
     "metadata": {},
     "output_type": "execute_result"
    }
   ],
   "source": [
    "7 == 7"
   ]
  },
  {
   "cell_type": "code",
   "execution_count": 20,
   "id": "236125c7-d843-41df-9c55-3a6549479b4a",
   "metadata": {},
   "outputs": [
    {
     "data": {
      "text/plain": [
       "(True, True)"
      ]
     },
     "execution_count": 20,
     "metadata": {},
     "output_type": "execute_result"
    }
   ],
   "source": [
    "a = 100\n",
    "b = 100\n",
    "a == b, a is b"
   ]
  },
  {
   "cell_type": "code",
   "execution_count": 21,
   "id": "ed86ba48-b497-46ca-891d-2eb23fe60703",
   "metadata": {},
   "outputs": [
    {
     "data": {
      "text/plain": [
       "(True, False)"
      ]
     },
     "execution_count": 21,
     "metadata": {},
     "output_type": "execute_result"
    }
   ],
   "source": [
    "a = 300\n",
    "b = 300\n",
    "a == b, a is b"
   ]
  },
  {
   "cell_type": "markdown",
   "id": "946e771a-0575-4711-8b69-12fbc5415f4e",
   "metadata": {},
   "source": [
    "파이썬 처음 인터프리터가 시작될 때 -5 ~ 256까지는 변하지 않는 정적 메모리 주소의 값을 할당"
   ]
  },
  {
   "cell_type": "code",
   "execution_count": 22,
   "id": "39bfe0b3-3d84-4817-978f-c36bba513530",
   "metadata": {},
   "outputs": [
    {
     "name": "stdout",
     "output_type": "stream",
     "text": [
      "True\n"
     ]
    }
   ],
   "source": [
    "# True 1 / False 0\n",
    "if 1:\n",
    "    print(\"True\")"
   ]
  },
  {
   "cell_type": "code",
   "execution_count": 23,
   "id": "bfacf213-f24d-4116-ae01-96594bc55ca9",
   "metadata": {},
   "outputs": [
    {
     "name": "stdout",
     "output_type": "stream",
     "text": [
      "False\n"
     ]
    }
   ],
   "source": [
    "if 0:\n",
    "    print(\"True\")\n",
    "else:\n",
    "    print(\"False\")"
   ]
  },
  {
   "cell_type": "markdown",
   "id": "6156fac1-c2b7-4f78-a5b7-2ffbb223239f",
   "metadata": {},
   "source": [
    "논리연산자"
   ]
  },
  {
   "cell_type": "markdown",
   "id": "1079bb03-9b12-4853-a89a-22d740c22444",
   "metadata": {},
   "source": [
    "and or not"
   ]
  },
  {
   "cell_type": "code",
   "execution_count": 24,
   "id": "45d85cbc-23cd-4378-b624-11cb4412598e",
   "metadata": {},
   "outputs": [
    {
     "data": {
      "text/plain": [
       "True"
      ]
     },
     "execution_count": 24,
     "metadata": {},
     "output_type": "execute_result"
    }
   ],
   "source": [
    "# 여러 조건을 합쳐서 하나의 논리결과를 표현\n",
    "(7 > 5) and (10 > 5)"
   ]
  },
  {
   "cell_type": "code",
   "execution_count": 25,
   "id": "e08621ca-1a8c-4d67-a6a3-0824e1c035b9",
   "metadata": {},
   "outputs": [
    {
     "data": {
      "text/plain": [
       "False"
      ]
     },
     "execution_count": 25,
     "metadata": {},
     "output_type": "execute_result"
    }
   ],
   "source": [
    "(7 > 5) and (10 < 5)"
   ]
  },
  {
   "cell_type": "code",
   "execution_count": 27,
   "id": "668e87d1-5c15-4a8f-b3cf-dfb029f4b798",
   "metadata": {},
   "outputs": [
    {
     "data": {
      "text/plain": [
       "(False, True, False)"
      ]
     },
     "execution_count": 27,
     "metadata": {},
     "output_type": "execute_result"
    }
   ],
   "source": [
    "# and: 두 값이 모두 참일 때 참 그 외에는 모두 거짓\n",
    "# or: 둘 중에 하나만 참이면 참이고 그 외에는 모두 거짓\n",
    "# not: 반대 not(7 < 5)\n",
    "(7 < 5), not(7 < 5), not(not(7 < 5))"
   ]
  },
  {
   "cell_type": "code",
   "execution_count": 29,
   "id": "fd8da264-9087-41d2-9e11-f1a26dfe8c33",
   "metadata": {},
   "outputs": [
    {
     "name": "stdout",
     "output_type": "stream",
     "text": [
      "점수를 입력하세요\n"
     ]
    },
    {
     "name": "stdin",
     "output_type": "stream",
     "text": [
      " 80\n"
     ]
    },
    {
     "name": "stdout",
     "output_type": "stream",
     "text": [
      "B\n"
     ]
    }
   ],
   "source": [
    "print(\"점수를 입력하세요\")\n",
    "score = int(input())\n",
    "if score >= 90:\n",
    "    print('A')\n",
    "else:\n",
    "    if score >= 80:\n",
    "        print('B')\n",
    "    else:\n",
    "        print('C, D, F')"
   ]
  },
  {
   "cell_type": "code",
   "execution_count": 30,
   "id": "c4d9751b-4fbd-41cd-adab-7125a6a4e723",
   "metadata": {},
   "outputs": [
    {
     "name": "stdout",
     "output_type": "stream",
     "text": [
      "점수를 입력하세요\n"
     ]
    },
    {
     "name": "stdin",
     "output_type": "stream",
     "text": [
      " 80\n"
     ]
    },
    {
     "name": "stdout",
     "output_type": "stream",
     "text": [
      "B\n"
     ]
    }
   ],
   "source": [
    "print(\"점수를 입력하세요\")\n",
    "score = int(input())\n",
    "if score >= 90:\n",
    "    print('A')\n",
    "elif score >= 80:\n",
    "    print('B')"
   ]
  },
  {
   "cell_type": "code",
   "execution_count": 31,
   "id": "dd8d1951-5a87-400d-8a3d-089b25c6bb99",
   "metadata": {},
   "outputs": [],
   "source": [
    "# 조건문을 이용해서 어떤 종류의 학생인지 알아맟혀라\n",
    "# 규칙\n",
    "# 1. 나이는 (2022 - 태어난 년도 +1)로 계산\n",
    "# 2. 26세 이하 20세 이상이면 대학생\n",
    "# 3. 20세 미만 17세 이상이면 고등학생\n",
    "# 4. 17세 미만 14세 이상이면 중학생\n",
    "# 5. 14세 미만 8세 이상이면 초등학생\n",
    "# 그 외는 학생이 아닙니다"
   ]
  },
  {
   "cell_type": "code",
   "execution_count": 33,
   "id": "1a38a64a-2a6c-4bfe-ba3b-efbee2442714",
   "metadata": {},
   "outputs": [
    {
     "name": "stdout",
     "output_type": "stream",
     "text": [
      "태어난 연도를 입력하세요\n"
     ]
    },
    {
     "name": "stdin",
     "output_type": "stream",
     "text": [
      " 2006\n"
     ]
    },
    {
     "name": "stdout",
     "output_type": "stream",
     "text": [
      "고등학생입니다\n"
     ]
    }
   ],
   "source": [
    "print(\"태어난 연도를 입력하세요\")\n",
    "year = int(input())\n",
    "stuage = 2022 - year + 1\n",
    "if stuage >= 20 and stuage <= 26:\n",
    "    print(\"대학생입니다\")\n",
    "elif stuage >= 17 and stuage < 20:\n",
    "    print(\"고등학생입니다\")\n",
    "elif stuage >= 14 and stuage < 17:\n",
    "    print(\"중학생입니다\")\n",
    "elif stuage >= 8 and stuage < 14:\n",
    "    print(\"초등학생입니다\")\n",
    "else:\n",
    "    print(\"학생이 아닙니다\")"
   ]
  },
  {
   "cell_type": "markdown",
   "id": "e42f487c-74ce-408a-8a54-74a1b24294c3",
   "metadata": {},
   "source": [
    "반복문"
   ]
  },
  {
   "cell_type": "code",
   "execution_count": 35,
   "id": "1ce3c2ac-261d-4359-92ef-ae9f90c8efe2",
   "metadata": {},
   "outputs": [],
   "source": [
    "#for, while\n",
    "#상황에 따라 쓰임새가 다르다"
   ]
  },
  {
   "cell_type": "code",
   "execution_count": 36,
   "id": "4efdae4a-37f2-4417-98cb-84fe58743888",
   "metadata": {},
   "outputs": [],
   "source": [
    "# for loop : 반복 범위를 지정해서 반복\n",
    "# 범위를 지정하는 방법에는 두가지가 있음"
   ]
  },
  {
   "cell_type": "code",
   "execution_count": 37,
   "id": "dd84667f-006d-429d-b0f1-946360ebe73d",
   "metadata": {},
   "outputs": [],
   "source": [
    "#1. 리스트를 사용하는 방법"
   ]
  },
  {
   "cell_type": "code",
   "execution_count": 38,
   "id": "4a52ab8e-d20d-4865-b191-50da6e73c16c",
   "metadata": {},
   "outputs": [
    {
     "data": {
      "text/plain": [
       "[1, 2, 3, 4, 5]"
      ]
     },
     "execution_count": 38,
     "metadata": {},
     "output_type": "execute_result"
    }
   ],
   "source": [
    "temp = [1, 2, 3, 4, 5]\n",
    "temp"
   ]
  },
  {
   "cell_type": "code",
   "execution_count": 39,
   "id": "61919f69-545d-43b1-a66b-2bc2bf49f7aa",
   "metadata": {},
   "outputs": [
    {
     "name": "stdout",
     "output_type": "stream",
     "text": [
      "1\n",
      "2\n",
      "3\n",
      "4\n",
      "5\n"
     ]
    }
   ],
   "source": [
    "# for 변수명 in 반복할 리스트나 또는 iterator 성격의 집합들\n",
    "for i in temp:\n",
    "    print(i)"
   ]
  },
  {
   "cell_type": "code",
   "execution_count": 40,
   "id": "eedc03b3-816f-4c76-b265-400edeebb76c",
   "metadata": {},
   "outputs": [
    {
     "name": "stdout",
     "output_type": "stream",
     "text": [
      "반복문\n",
      "반복문\n",
      "반복문\n",
      "반복문\n",
      "반복문\n"
     ]
    }
   ],
   "source": [
    "for i in [1, 2, 3, 4, 5]:\n",
    "    print(\"반복문\")"
   ]
  },
  {
   "cell_type": "code",
   "execution_count": 42,
   "id": "7a4cd783-04c5-4a2b-9352-e883f45832c0",
   "metadata": {},
   "outputs": [
    {
     "name": "stdout",
     "output_type": "stream",
     "text": [
      "반복문 0\n",
      "반복문 1\n",
      "반복문 2\n",
      "반복문 3\n",
      "반복문 4\n"
     ]
    }
   ],
   "source": [
    "for i in range(5):\n",
    "    print(\"반복문\", i)"
   ]
  },
  {
   "cell_type": "code",
   "execution_count": 43,
   "id": "fdf91ff0-ff6d-4a71-90cf-8f8772cff8f5",
   "metadata": {},
   "outputs": [],
   "source": [
    "greeting = \"good morning\""
   ]
  },
  {
   "cell_type": "code",
   "execution_count": 44,
   "id": "a3d94d28-de29-4a45-90a4-acdd5d7c48ca",
   "metadata": {},
   "outputs": [
    {
     "name": "stdout",
     "output_type": "stream",
     "text": [
      "반복\n",
      "반복\n",
      "반복\n",
      "반복\n",
      "반복\n",
      "반복\n",
      "반복\n",
      "반복\n",
      "반복\n",
      "반복\n",
      "반복\n",
      "반복\n"
     ]
    }
   ],
   "source": [
    "for i in greeting:\n",
    "    print(\"반복\")"
   ]
  },
  {
   "cell_type": "code",
   "execution_count": 46,
   "id": "77541997-cd3c-4cab-a792-e079a97745fe",
   "metadata": {},
   "outputs": [
    {
     "name": "stdout",
     "output_type": "stream",
     "text": [
      "어떤 커피? americano\n",
      "어떤 커피? latte\n",
      "l\n",
      "a\n",
      "t\n",
      "t\n",
      "e\n",
      "어떤 커피? frappuccino\n"
     ]
    }
   ],
   "source": [
    "for i in ['americano', 'latte', 'frappuccino']:\n",
    "    print(\"어떤 커피?\", i)\n",
    "    if i == 'latte':\n",
    "        for j in i:\n",
    "            print(j)"
   ]
  },
  {
   "cell_type": "code",
   "execution_count": 47,
   "id": "1fc9547e-7b5e-4038-8b96-094ecd4875a9",
   "metadata": {},
   "outputs": [
    {
     "data": {
      "text/plain": [
       "(range(0, 5), range(0, 5))"
      ]
     },
     "execution_count": 47,
     "metadata": {},
     "output_type": "execute_result"
    }
   ],
   "source": [
    "range(5), range(0, 5)"
   ]
  },
  {
   "cell_type": "code",
   "execution_count": 48,
   "id": "4a59e420-ad61-4b92-9cff-181903057c83",
   "metadata": {},
   "outputs": [
    {
     "data": {
      "text/plain": [
       "[0, 1, 2, 3, 4]"
      ]
     },
     "execution_count": 48,
     "metadata": {},
     "output_type": "execute_result"
    }
   ],
   "source": [
    "list(range(5))"
   ]
  },
  {
   "cell_type": "code",
   "execution_count": 49,
   "id": "78486747-e848-4565-8aad-946a1af1a063",
   "metadata": {},
   "outputs": [
    {
     "data": {
      "text/plain": [
       "[2, 3, 4]"
      ]
     },
     "execution_count": 49,
     "metadata": {},
     "output_type": "execute_result"
    }
   ],
   "source": [
    "list(range(2, 5))"
   ]
  },
  {
   "cell_type": "code",
   "execution_count": 50,
   "id": "b9038dc4-e252-4e7f-9981-480ed207b4bd",
   "metadata": {},
   "outputs": [
    {
     "data": {
      "text/plain": [
       "[2, 4, 6, 8]"
      ]
     },
     "execution_count": 50,
     "metadata": {},
     "output_type": "execute_result"
    }
   ],
   "source": [
    "list(range(2, 10, 2))"
   ]
  },
  {
   "cell_type": "code",
   "execution_count": 52,
   "id": "d2be060e-4f33-4bc6-8286-b10585cbdfc8",
   "metadata": {},
   "outputs": [
    {
     "data": {
      "text/plain": [
       "[10, 9, 8, 7, 6, 5, 4, 3, 2]"
      ]
     },
     "execution_count": 52,
     "metadata": {},
     "output_type": "execute_result"
    }
   ],
   "source": [
    "list(range(10, 1, -1))"
   ]
  },
  {
   "cell_type": "code",
   "execution_count": 53,
   "id": "fc0b4322-e716-4b09-9e96-2ce8b0b4544d",
   "metadata": {},
   "outputs": [],
   "source": [
    "from random import sample"
   ]
  },
  {
   "cell_type": "code",
   "execution_count": 54,
   "id": "e25f5571-989a-4cc9-b40b-3a4e3effea40",
   "metadata": {},
   "outputs": [
    {
     "data": {
      "text/plain": [
       "[2, 1]"
      ]
     },
     "execution_count": 54,
     "metadata": {},
     "output_type": "execute_result"
    }
   ],
   "source": [
    "sample([1, 2, 3, 4, 5], 2)"
   ]
  },
  {
   "cell_type": "code",
   "execution_count": 55,
   "id": "e5a27a32-21cb-4e41-b48e-d50585425963",
   "metadata": {},
   "outputs": [],
   "source": [
    "# 1 ~ 45 랜덤하게 6개를 추출\n",
    "# sample 함수를 이용"
   ]
  },
  {
   "cell_type": "code",
   "execution_count": 57,
   "id": "40f29ca4-e2f7-4296-a874-28c7b94e392e",
   "metadata": {},
   "outputs": [
    {
     "data": {
      "text/plain": [
       "[8, 32, 28, 33, 36, 20]"
      ]
     },
     "execution_count": 57,
     "metadata": {},
     "output_type": "execute_result"
    }
   ],
   "source": [
    "sample(range(1, 46), 6)"
   ]
  },
  {
   "cell_type": "code",
   "execution_count": 61,
   "id": "8c0acb9d-333e-4c3e-ac17-c9e0506b8bb4",
   "metadata": {},
   "outputs": [
    {
     "name": "stdout",
     "output_type": "stream",
     "text": [
      "[45, 5, 36, 38, 24, 35]\n",
      "[33, 15, 45, 25, 1, 27]\n",
      "[1, 37, 32, 42, 24, 2]\n",
      "[23, 33, 31, 15, 43, 27]\n",
      "[8, 18, 35, 10, 36, 45]\n"
     ]
    }
   ],
   "source": [
    "# 1 set : 5 game\n",
    "for _ in range(5):\n",
    "    # print(i, ' ', sample(range(1, 46), 6))\n",
    "    print(sample(range(1, 46), 6))"
   ]
  },
  {
   "cell_type": "code",
   "execution_count": 62,
   "id": "50061bd3-384f-4078-944f-3dd2d7aefd9c",
   "metadata": {},
   "outputs": [
    {
     "name": "stdout",
     "output_type": "stream",
     "text": [
      "while loop\n",
      "while loop\n",
      "while loop\n",
      "while loop\n",
      "while loop\n"
     ]
    }
   ],
   "source": [
    "i = 0\n",
    "while i < 5:\n",
    "    print(\"while loop\")\n",
    "    i += 1"
   ]
  },
  {
   "cell_type": "code",
   "execution_count": 63,
   "id": "4f1b565d-ec56-4f66-87eb-01f446acce09",
   "metadata": {},
   "outputs": [],
   "source": [
    "# for loop : 반복 횟수가 정해져 있음\n",
    "# while loop : 특정 조건을 만족할 때까지 반복\n",
    "# 순환문을 정해진 횟수를 채우기 전에 빠져나갈 수 있음\n",
    "# break로 탈출\n",
    "# 숫자가 0부터 100까지 임의로 구성되어 있는 집합\n",
    "# 그 중에 10개를 추출해서 가장 작은 값을 찾는다\n",
    "# 25, 20, 5, 8, 9, 45, 20, 55, 65, 22"
   ]
  },
  {
   "cell_type": "code",
   "execution_count": 65,
   "id": "fa09602a-e8c5-4811-b2dd-e46b7e6adaf5",
   "metadata": {},
   "outputs": [
    {
     "name": "stdout",
     "output_type": "stream",
     "text": [
      "0\n",
      "1\n",
      "2\n",
      "3\n",
      "4\n"
     ]
    }
   ],
   "source": [
    "for i in range(10):\n",
    "    if i == 5:\n",
    "        break\n",
    "    print(i)"
   ]
  },
  {
   "cell_type": "code",
   "execution_count": 72,
   "id": "47b2c8e9-bd97-4972-912f-6a2c3e316c75",
   "metadata": {},
   "outputs": [
    {
     "name": "stdout",
     "output_type": "stream",
     "text": [
      "i = 0\n",
      "   j = 0\n",
      "   j = 1\n",
      "i = 1\n",
      "   j = 0\n",
      "   j = 1\n",
      "i = 2\n",
      "   j = 0\n",
      "   j = 1\n"
     ]
    }
   ],
   "source": [
    "for i in range(3):\n",
    "    print(f\"i = {i}\")\n",
    "    for j in range(5):\n",
    "        if j == 2:\n",
    "            break\n",
    "        print(f\"   j = {j}\")"
   ]
  },
  {
   "cell_type": "code",
   "execution_count": 76,
   "id": "8de65f4a-90b1-47d3-bdb8-c922e47f7c3b",
   "metadata": {},
   "outputs": [
    {
     "data": {
      "text/plain": [
       "[40, 25, 100, 93, 82, 12, 35, 55, 64, 3]"
      ]
     },
     "execution_count": 76,
     "metadata": {},
     "output_type": "execute_result"
    }
   ],
   "source": [
    "samplelist = sample(range(101), 10)\n",
    "samplelist"
   ]
  },
  {
   "cell_type": "code",
   "execution_count": 77,
   "id": "7a262c5a-211c-405a-80f6-9d08be50b820",
   "metadata": {},
   "outputs": [
    {
     "data": {
      "text/plain": [
       "(3, 10)"
      ]
     },
     "execution_count": 77,
     "metadata": {},
     "output_type": "execute_result"
    }
   ],
   "source": [
    "minvalue = 100\n",
    "count = 0\n",
    "for i in samplelist:\n",
    "    count += 1\n",
    "    if minvalue > i:\n",
    "        minvalue = i\n",
    "    if minvalue == 0:\n",
    "        break\n",
    "minvalue, count"
   ]
  },
  {
   "cell_type": "code",
   "execution_count": 78,
   "id": "2e5b66d0-ee71-4cf6-91bc-375e17f7e8f3",
   "metadata": {},
   "outputs": [
    {
     "name": "stdout",
     "output_type": "stream",
     "text": [
      "0\n",
      "1\n",
      "2\n",
      "3\n",
      "4\n",
      "6\n",
      "7\n",
      "8\n",
      "9\n"
     ]
    }
   ],
   "source": [
    "# continue\n",
    "for i in range(10):\n",
    "    if i == 5:\n",
    "        continue\n",
    "    print(i)"
   ]
  },
  {
   "cell_type": "code",
   "execution_count": 80,
   "id": "d8a7aac9-51bf-4f6f-8398-d4cdf2fba688",
   "metadata": {},
   "outputs": [
    {
     "name": "stdout",
     "output_type": "stream",
     "text": [
      "0\n",
      "2\n",
      "4\n",
      "6\n",
      "8\n"
     ]
    }
   ],
   "source": [
    "# 짝수만 출력해라\n",
    "for i in range(10):\n",
    "    if i % 2 != 0:\n",
    "        continue\n",
    "    print(i)"
   ]
  },
  {
   "cell_type": "code",
   "execution_count": 81,
   "id": "c7de66ea-f23f-45b4-94b9-f915a55f760b",
   "metadata": {},
   "outputs": [
    {
     "name": "stdout",
     "output_type": "stream",
     "text": [
      "2 x 1 = 2\n"
     ]
    }
   ],
   "source": [
    "num1, num2 = 2, 1\n",
    "print(f\"{num1} x {num2} = {num1 * num2}\")"
   ]
  },
  {
   "cell_type": "code",
   "execution_count": 83,
   "id": "e6e88285-16d6-4026-8556-c243104ea6c8",
   "metadata": {},
   "outputs": [
    {
     "name": "stdout",
     "output_type": "stream",
     "text": [
      "출력하려는 구구단의 단수를 입력하세요\n"
     ]
    },
    {
     "name": "stdin",
     "output_type": "stream",
     "text": [
      " 2\n"
     ]
    },
    {
     "name": "stdout",
     "output_type": "stream",
     "text": [
      "2 x 1 = 2\n",
      "2 x 2 = 4\n",
      "2 x 3 = 6\n",
      "2 x 4 = 8\n",
      "2 x 5 = 10\n",
      "2 x 6 = 12\n",
      "2 x 7 = 14\n",
      "2 x 8 = 16\n",
      "2 x 9 = 18\n"
     ]
    }
   ],
   "source": [
    "print(\"출력하려는 구구단의 단수를 입력하세요\")\n",
    "num = int(input())\n",
    "for i in range(1, 10):\n",
    "    print(f\"{num} x {i} = {num * i}\")"
   ]
  },
  {
   "cell_type": "code",
   "execution_count": 84,
   "id": "519fde2b-233c-4c66-b12a-b69f27cf36f1",
   "metadata": {},
   "outputs": [
    {
     "name": "stdout",
     "output_type": "stream",
     "text": [
      "2 x 1 = 2\n",
      "2 x 2 = 4\n",
      "2 x 3 = 6\n",
      "2 x 4 = 8\n",
      "2 x 5 = 10\n",
      "2 x 6 = 12\n",
      "2 x 7 = 14\n",
      "2 x 8 = 16\n",
      "2 x 9 = 18\n",
      "\n",
      "3 x 1 = 3\n",
      "3 x 2 = 6\n",
      "3 x 3 = 9\n",
      "3 x 4 = 12\n",
      "3 x 5 = 15\n",
      "3 x 6 = 18\n",
      "3 x 7 = 21\n",
      "3 x 8 = 24\n",
      "3 x 9 = 27\n",
      "\n",
      "4 x 1 = 4\n",
      "4 x 2 = 8\n",
      "4 x 3 = 12\n",
      "4 x 4 = 16\n",
      "4 x 5 = 20\n",
      "4 x 6 = 24\n",
      "4 x 7 = 28\n",
      "4 x 8 = 32\n",
      "4 x 9 = 36\n",
      "\n",
      "5 x 1 = 5\n",
      "5 x 2 = 10\n",
      "5 x 3 = 15\n",
      "5 x 4 = 20\n",
      "5 x 5 = 25\n",
      "5 x 6 = 30\n",
      "5 x 7 = 35\n",
      "5 x 8 = 40\n",
      "5 x 9 = 45\n",
      "\n",
      "6 x 1 = 6\n",
      "6 x 2 = 12\n",
      "6 x 3 = 18\n",
      "6 x 4 = 24\n",
      "6 x 5 = 30\n",
      "6 x 6 = 36\n",
      "6 x 7 = 42\n",
      "6 x 8 = 48\n",
      "6 x 9 = 54\n",
      "\n",
      "7 x 1 = 7\n",
      "7 x 2 = 14\n",
      "7 x 3 = 21\n",
      "7 x 4 = 28\n",
      "7 x 5 = 35\n",
      "7 x 6 = 42\n",
      "7 x 7 = 49\n",
      "7 x 8 = 56\n",
      "7 x 9 = 63\n",
      "\n",
      "8 x 1 = 8\n",
      "8 x 2 = 16\n",
      "8 x 3 = 24\n",
      "8 x 4 = 32\n",
      "8 x 5 = 40\n",
      "8 x 6 = 48\n",
      "8 x 7 = 56\n",
      "8 x 8 = 64\n",
      "8 x 9 = 72\n",
      "\n",
      "9 x 1 = 9\n",
      "9 x 2 = 18\n",
      "9 x 3 = 27\n",
      "9 x 4 = 36\n",
      "9 x 5 = 45\n",
      "9 x 6 = 54\n",
      "9 x 7 = 63\n",
      "9 x 8 = 72\n",
      "9 x 9 = 81\n",
      "\n"
     ]
    }
   ],
   "source": [
    "for i in range(2, 10):\n",
    "    for j in range(1, 10):\n",
    "        print(f\"{i} x {j} = {i*j}\")\n",
    "    print()"
   ]
  }
 ],
 "metadata": {
  "kernelspec": {
   "display_name": "Python 3 (ipykernel)",
   "language": "python",
   "name": "python3"
  },
  "language_info": {
   "codemirror_mode": {
    "name": "ipython",
    "version": 3
   },
   "file_extension": ".py",
   "mimetype": "text/x-python",
   "name": "python",
   "nbconvert_exporter": "python",
   "pygments_lexer": "ipython3",
   "version": "3.10.8"
  }
 },
 "nbformat": 4,
 "nbformat_minor": 5
}
