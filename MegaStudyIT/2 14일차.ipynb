{
 "cells": [
  {
   "cell_type": "markdown",
   "id": "33cb09b0-e026-4f4a-982c-46c3cad11afa",
   "metadata": {},
   "source": [
    "# 선형회귀"
   ]
  },
  {
   "cell_type": "code",
   "execution_count": 1,
   "id": "9b151e46-eec4-4b2e-95d6-9ced48c150af",
   "metadata": {},
   "outputs": [],
   "source": [
    "import numpy as np\n",
    "import pandas as pd"
   ]
  },
  {
   "cell_type": "code",
   "execution_count": 2,
   "id": "26e79272-3f26-4ce2-b050-4ff0f0f8bfbd",
   "metadata": {},
   "outputs": [],
   "source": [
    "perch_length = np.array(\n",
    "    [8.4, 13.7, 15.0, 16.2, 17.4, 18.0, 18.7, 19.0, 19.6, 20.0, \n",
    "     21.0, 21.0, 21.0, 21.3, 22.0, 22.0, 22.0, 22.0, 22.0, 22.5, \n",
    "     22.5, 22.7, 23.0, 23.5, 24.0, 24.0, 24.6, 25.0, 25.6, 26.5, \n",
    "     27.3, 27.5, 27.5, 27.5, 28.0, 28.7, 30.0, 32.8, 34.5, 35.0, \n",
    "     36.5, 36.0, 37.0, 37.0, 39.0, 39.0, 39.0, 40.0, 40.0, 40.0, \n",
    "     40.0, 42.0, 43.0, 43.0, 43.5, 44.0]\n",
    "     )\n",
    "perch_weight = np.array(\n",
    "    [5.9, 32.0, 40.0, 51.5, 70.0, 100.0, 78.0, 80.0, 85.0, 85.0, \n",
    "     110.0, 115.0, 125.0, 130.0, 120.0, 120.0, 130.0, 135.0, 110.0, \n",
    "     130.0, 150.0, 145.0, 150.0, 170.0, 225.0, 145.0, 188.0, 180.0, \n",
    "     197.0, 218.0, 300.0, 260.0, 265.0, 250.0, 250.0, 300.0, 320.0, \n",
    "     514.0, 556.0, 840.0, 685.0, 700.0, 700.0, 690.0, 900.0, 650.0, \n",
    "     820.0, 850.0, 900.0, 1015.0, 820.0, 1100.0, 1000.0, 1100.0, \n",
    "     1000.0, 1000.0]\n",
    "     )"
   ]
  },
  {
   "cell_type": "code",
   "execution_count": 3,
   "id": "8b1da155-8d2d-4413-9bf2-9ddf745ac7d3",
   "metadata": {},
   "outputs": [],
   "source": [
    "from sklearn.neighbors import KNeighborsRegressor"
   ]
  },
  {
   "cell_type": "code",
   "execution_count": 9,
   "id": "a16e0a8c-3970-40a4-bdf1-63634ee4049d",
   "metadata": {},
   "outputs": [],
   "source": [
    "kn = KNeighborsRegressor(n_neighbors=3)"
   ]
  },
  {
   "cell_type": "code",
   "execution_count": 6,
   "id": "fb0dea53-d23b-498f-ac53-4db223ed82aa",
   "metadata": {
    "tags": []
   },
   "outputs": [],
   "source": [
    "train_data = perch_length.reshape(-1, 1)"
   ]
  },
  {
   "cell_type": "code",
   "execution_count": 10,
   "id": "9ca9d5b4-6a62-430e-a3f2-951befab3731",
   "metadata": {},
   "outputs": [
    {
     "data": {
      "text/plain": [
       "KNeighborsRegressor(n_neighbors=3)"
      ]
     },
     "execution_count": 10,
     "metadata": {},
     "output_type": "execute_result"
    }
   ],
   "source": [
    "kn.fit(train_data, perch_weight)"
   ]
  },
  {
   "cell_type": "code",
   "execution_count": 11,
   "id": "3137b9ec-91ab-4c5e-9233-5c559dbb81c3",
   "metadata": {},
   "outputs": [
    {
     "data": {
      "text/plain": [
       "0.9803460206994964"
      ]
     },
     "execution_count": 11,
     "metadata": {},
     "output_type": "execute_result"
    }
   ],
   "source": [
    "kn.score(train_data, perch_weight)"
   ]
  },
  {
   "cell_type": "code",
   "execution_count": 13,
   "id": "a02fe504-ab7d-493c-a4e5-c160100e58bb",
   "metadata": {},
   "outputs": [],
   "source": [
    "distance, indexes = kn.kneighbors([[50]])"
   ]
  },
  {
   "cell_type": "code",
   "execution_count": 14,
   "id": "d01d8267-8a7a-4d38-b2f8-bdb9e6f633be",
   "metadata": {},
   "outputs": [
    {
     "data": {
      "text/plain": [
       "array([[1000., 1000., 1000.]])"
      ]
     },
     "execution_count": 14,
     "metadata": {},
     "output_type": "execute_result"
    }
   ],
   "source": [
    "perch_weight[indexes]"
   ]
  },
  {
   "cell_type": "markdown",
   "id": "61534617-be6a-49d9-abc5-34468185dbbb",
   "metadata": {},
   "source": [
    "### 시각화를 통해 학습한 데이터와 실제 데이터"
   ]
  },
  {
   "cell_type": "code",
   "execution_count": 15,
   "id": "449959a5-c920-43ee-9c56-4d6f3b4d59f2",
   "metadata": {},
   "outputs": [],
   "source": [
    "import matplotlib.pyplot as plt"
   ]
  },
  {
   "cell_type": "code",
   "execution_count": 16,
   "id": "42ff7df2-84fe-45fc-8d5f-e70a516934fe",
   "metadata": {},
   "outputs": [
    {
     "data": {
      "text/plain": [
       "<matplotlib.legend.Legend at 0x24a52d30910>"
      ]
     },
     "execution_count": 16,
     "metadata": {},
     "output_type": "execute_result"
    },
    {
     "data": {
      "image/png": "[encoded data removed]",
      "text/plain": [
       "<Figure size 640x480 with 1 Axes>"
      ]
     },
     "metadata": {},
     "output_type": "display_data"
    }
   ],
   "source": [
    "plt.scatter(perch_length, perch_weight, label='train')\n",
    "plt.scatter(perch_length[indexes], perch_weight[indexes], label='neighbors_data')\n",
    "plt.scatter(50, 1000, label='predict_data')\n",
    "plt.legend()"
   ]
  },
  {
   "cell_type": "markdown",
   "id": "2b53fca0-6500-4650-8e25-76fa73af2279",
   "metadata": {},
   "source": [
    "### 길이가 100일때 무게"
   ]
  },
  {
   "cell_type": "code",
   "execution_count": 17,
   "id": "b0be3103-7b4c-4509-82c7-bcd0af203c4f",
   "metadata": {},
   "outputs": [
    {
     "name": "stdout",
     "output_type": "stream",
     "text": [
      "[3045.76003854]\n",
      "[36.93837597] -648.0775582457385\n"
     ]
    }
   ],
   "source": [
    "from sklearn.linear_model import LinearRegression\n",
    "lr = LinearRegression()\n",
    "lr.fit(train_data, perch_weight)\n",
    "print(lr.predict([[100]]))\n",
    "print(lr.coef_, lr.intercept_)"
   ]
  },
  {
   "cell_type": "markdown",
   "id": "1df71f89-c661-47ba-8cf6-fcb0551f896d",
   "metadata": {},
   "source": [
    "# 선형회귀\n",
    "    선형의 방정식을 구하는 알고리즘\n",
    "    실제값과 구한 직선의 방정식들의 오차가 최소가 되는 식을 구한다\n",
    "    y = ax + b"
   ]
  },
  {
   "cell_type": "code",
   "execution_count": 19,
   "id": "bae5c825-8bfd-46ac-b111-1e8ab7567a47",
   "metadata": {},
   "outputs": [
    {
     "data": {
      "text/plain": [
       "(array([-463.38567841]), array([1198.84124015]))"
      ]
     },
     "execution_count": 19,
     "metadata": {},
     "output_type": "execute_result"
    }
   ],
   "source": [
    "lr.predict([[5]]), lr.predict([[50]])"
   ]
  },
  {
   "cell_type": "code",
   "execution_count": 21,
   "id": "d956daa0-0ef8-48a1-a576-951106e55648",
   "metadata": {},
   "outputs": [
    {
     "data": {
      "text/plain": [
       "<matplotlib.legend.Legend at 0x24a557946a0>"
      ]
     },
     "execution_count": 21,
     "metadata": {},
     "output_type": "execute_result"
    },
    {
     "data": {
      "image/png": "[encoded data removed]",
      "text/plain": [
       "<Figure size 640x480 with 1 Axes>"
      ]
     },
     "metadata": {},
     "output_type": "display_data"
    }
   ],
   "source": [
    "plt.scatter(perch_length, perch_weight, label='train_data')\n",
    "plt.plot([5, 50], [-463.38567841, 1198.84124015])\n",
    "plt.legend()\n",
    "plt.legend()"
   ]
  },
  {
   "cell_type": "markdown",
   "id": "5d4c31e4-3589-4777-8354-ade478a4e5be",
   "metadata": {},
   "source": [
    "# 단항식 -> 다항식\n",
    "    y = ax^2 + bx + c\n",
    "    패턴이나 기타 다른 수학적 또는 알고리즘의 변경없이 다항식으로 변환"
   ]
  },
  {
   "cell_type": "code",
   "execution_count": 25,
   "id": "c73e4d4d-87ec-4a91-8c06-a394cfc9ef78",
   "metadata": {},
   "outputs": [],
   "source": [
    "train_poly = np.column_stack((train_data ** 2, train_data))"
   ]
  },
  {
   "cell_type": "code",
   "execution_count": 26,
   "id": "bddf168f-f3ba-4e43-939d-5c050bffb758",
   "metadata": {},
   "outputs": [
    {
     "data": {
      "text/plain": [
       "LinearRegression()"
      ]
     },
     "execution_count": 26,
     "metadata": {},
     "output_type": "execute_result"
    }
   ],
   "source": [
    "lr = LinearRegression()\n",
    "lr.fit(train_poly, perch_weight)"
   ]
  },
  {
   "cell_type": "code",
   "execution_count": 27,
   "id": "3f3786ec-ece9-4375-a115-25b8fb1a55d5",
   "metadata": {},
   "outputs": [
    {
     "data": {
      "text/plain": [
       "(array([  1.02094922, -22.4189282 ]), 131.6453196989595)"
      ]
     },
     "execution_count": 27,
     "metadata": {},
     "output_type": "execute_result"
    }
   ],
   "source": [
    "lr.coef_, lr.intercept_"
   ]
  },
  {
   "cell_type": "code",
   "execution_count": 28,
   "id": "c4a2e64d-3509-4a11-a4f1-ade0df90ca81",
   "metadata": {},
   "outputs": [
    {
     "data": {
      "text/plain": [
       "<matplotlib.legend.Legend at 0x24a55867670>"
      ]
     },
     "execution_count": 28,
     "metadata": {},
     "output_type": "execute_result"
    },
    {
     "data": {
      "image/png": "[encoded data removed]",
      "text/plain": [
       "<Figure size 640x480 with 1 Axes>"
      ]
     },
     "metadata": {},
     "output_type": "display_data"
    }
   ],
   "source": [
    "point = np.arange(5, 51)\n",
    "point_poly = np.column_stack((point**2, point))\n",
    "point_poly_predict = lr.predict(point_poly)\n",
    "plt.scatter(perch_length, perch_weight, label='train_data')\n",
    "plt.plot(point, point_poly_predict, label='predict_data')\n",
    "plt.legend()"
   ]
  },
  {
   "cell_type": "markdown",
   "id": "ec2a5cb7-1994-42d1-bbfa-ba7e7dc25cbe",
   "metadata": {},
   "source": [
    "# 과적합 확인\n",
    "    훈련용과 학습용 데이터 분리해서 다항식으로 만들어서 score를 확인 후 과적합 유무 판단"
   ]
  },
  {
   "cell_type": "markdown",
   "id": "98689a41-f646-41e2-8d14-7444925b19d1",
   "metadata": {},
   "source": [
    "# 데이터 분리\n",
    "# 1. 파이썬 문법 이용\n",
    "# 2. sklearn에서 제공하는 메소드 이용"
   ]
  },
  {
   "cell_type": "code",
   "execution_count": 29,
   "id": "aec878d0-1435-4578-aef5-de90677a5cc8",
   "metadata": {},
   "outputs": [],
   "source": [
    "from sklearn.model_selection import train_test_split"
   ]
  },
  {
   "cell_type": "code",
   "execution_count": 30,
   "id": "f7d65cd3-43e4-41b6-ae09-97978b79e6f8",
   "metadata": {},
   "outputs": [],
   "source": [
    "x_train, x_test, y_train, y_test = train_test_split(train_poly, perch_weight, train_size=0.3, random_state=0)"
   ]
  },
  {
   "cell_type": "code",
   "execution_count": 31,
   "id": "ece83dda-307f-49a4-a963-7734f8736cd0",
   "metadata": {},
   "outputs": [
    {
     "name": "stdout",
     "output_type": "stream",
     "text": [
      "0.9752964064164267\n",
      "0.9508937871530174\n"
     ]
    }
   ],
   "source": [
    "lr = LinearRegression()\n",
    "lr.fit(x_train, y_train)\n",
    "print(lr.score(x_train, y_train))\n",
    "print(lr.score(x_test, y_test))"
   ]
  },
  {
   "cell_type": "markdown",
   "id": "b3991366-d3b2-4f33-8161-7def0af39d46",
   "metadata": {},
   "source": [
    "# 다항회귀: 한개의 특성을 이용해 2차원으로 만든 선형회귀\n",
    "# 다중회귀: 여러개의 특성(컬럼)을 사용한 선형회귀\n",
    "    특성공학: 기존의 특성을 사용해서 새로운 특성을 뽑아내는 작업"
   ]
  },
  {
   "cell_type": "code",
   "execution_count": 32,
   "id": "eb771b80-bfad-4c96-adac-3ee0c873f8ca",
   "metadata": {},
   "outputs": [],
   "source": [
    "df = pd.read_csv('https://raw.githubusercontent.com/leekyuyoung20221226/python/main/data/perch.csv')"
   ]
  },
  {
   "cell_type": "code",
   "execution_count": 44,
   "id": "39a65554-6fc5-4f50-afa3-a2adc834e3ed",
   "metadata": {},
   "outputs": [],
   "source": [
    "x_train,x_test,y_train,y_test = train_test_split(df, perch_weight, test_size=0.3, random_state=42)"
   ]
  },
  {
   "cell_type": "code",
   "execution_count": 45,
   "id": "a7e14d49-4fce-454b-a932-81838ee6045f",
   "metadata": {},
   "outputs": [
    {
     "data": {
      "text/plain": [
       "(0.9537065271284176, 0.8863420836347778)"
      ]
     },
     "execution_count": 45,
     "metadata": {},
     "output_type": "execute_result"
    }
   ],
   "source": [
    "lr = LinearRegression()\n",
    "lr.fit(x_train, y_train)\n",
    "lr.score(x_train, y_train), lr.score(x_test, y_test)"
   ]
  },
  {
   "cell_type": "code",
   "execution_count": 46,
   "id": "6a828414-1b37-4b54-9807-1e375f9e9d04",
   "metadata": {},
   "outputs": [],
   "source": [
    "from sklearn.preprocessing import PolynomialFeatures"
   ]
  },
  {
   "cell_type": "code",
   "execution_count": 47,
   "id": "35b7d9fd-4929-4ad0-a8ef-bba564e3fb99",
   "metadata": {},
   "outputs": [
    {
     "data": {
      "text/plain": [
       "((39, 9), (17, 9))"
      ]
     },
     "execution_count": 47,
     "metadata": {},
     "output_type": "execute_result"
    }
   ],
   "source": [
    "poly = PolynomialFeatures(include_bias=False)\n",
    "poly.fit(x_train)\n",
    "train_poly = poly.transform(x_train)\n",
    "test_poly = poly.transform(x_test)\n",
    "train_poly.shape, test_poly.shape"
   ]
  },
  {
   "cell_type": "code",
   "execution_count": 48,
   "id": "eaaf6482-8b9a-4013-90d9-66066e8144b4",
   "metadata": {},
   "outputs": [
    {
     "data": {
      "text/plain": [
       "['x0', 'x1', 'x2', 'x0^2', 'x0 x1', 'x0 x2', 'x1^2', 'x1 x2', 'x2^2']"
      ]
     },
     "execution_count": 48,
     "metadata": {},
     "output_type": "execute_result"
    }
   ],
   "source": [
    "poly.get_feature_names()"
   ]
  },
  {
   "cell_type": "code",
   "execution_count": 49,
   "id": "f9e4cefc-348b-4d44-bc8e-9aca8ee7b0fb",
   "metadata": {},
   "outputs": [
    {
     "data": {
      "text/plain": [
       "LinearRegression()"
      ]
     },
     "execution_count": 49,
     "metadata": {},
     "output_type": "execute_result"
    }
   ],
   "source": [
    "lr = LinearRegression()\n",
    "lr.fit(train_poly, y_train)"
   ]
  },
  {
   "cell_type": "code",
   "execution_count": 50,
   "id": "64373c0e-5bd9-46f7-967a-1e6486bc745d",
   "metadata": {},
   "outputs": [
    {
     "data": {
      "text/plain": [
       "(0.9898271546307027, 0.9713771600629659)"
      ]
     },
     "execution_count": 50,
     "metadata": {},
     "output_type": "execute_result"
    }
   ],
   "source": [
    "lr.score(train_poly, y_train), lr.score(test_poly, y_test)"
   ]
  },
  {
   "cell_type": "markdown",
   "id": "38cc94b8-8c99-4e19-ad15-0f13088d03a8",
   "metadata": {},
   "source": [
    "# 다중회귀"
   ]
  },
  {
   "cell_type": "code",
   "execution_count": 51,
   "id": "e2ae70f9-d253-4529-aeef-beee5cdf51d5",
   "metadata": {},
   "outputs": [
    {
     "name": "stdout",
     "output_type": "stream",
     "text": [
      "(39, 55) (17, 55) 56\n",
      "0.9999999999999992 -20.19503857729437\n"
     ]
    }
   ],
   "source": [
    "poly = PolynomialFeatures(degree=5,include_bias=False)\n",
    "poly.fit(x_train)\n",
    "train_poly = poly.transform(x_train)\n",
    "test_poly = poly.transform(x_test)\n",
    "print(train_poly.shape, test_poly.shape, len(df))\n",
    "lr = LinearRegression()\n",
    "lr.fit(train_poly, y_train)\n",
    "print(lr.score(train_poly, y_train), lr.score(test_poly,y_test))"
   ]
  },
  {
   "cell_type": "code",
   "execution_count": 52,
   "id": "b627ecdf-e7cb-4de2-8bfb-7ac0758f8242",
   "metadata": {},
   "outputs": [],
   "source": [
    "from sklearn.preprocessing import StandardScaler\n",
    "ss = StandardScaler()\n",
    "ss.fit(train_poly)\n",
    "train_scaled = ss.transform(train_poly)\n",
    "test_scaled = ss.transform(test_poly)"
   ]
  },
  {
   "cell_type": "markdown",
   "id": "4e6f2746-1ac7-4162-9d77-d0bdbf89ed6a",
   "metadata": {},
   "source": [
    "# 규제적용전 표준화\n",
    "# 규제: 과도한 학습이 안되게 수치를 임의로 조정\n",
    "    릿지 vs 라쏘\n",
    "    릿지: 선형회귀에서 규제를 적용한 머신러닝 계수를 제곱한 값을 이용해서 규제\n",
    "    라쏘: 선형회귀에서 규제를 적용한 머신러닝 계수를 절대값을 이용해서 규제"
   ]
  },
  {
   "cell_type": "code",
   "execution_count": 54,
   "id": "13400b40-992f-47e4-b0fe-41cc383d0ac9",
   "metadata": {},
   "outputs": [
    {
     "name": "stdout",
     "output_type": "stream",
     "text": [
      "0.9889900259477936 0.9806943210368352\n"
     ]
    }
   ],
   "source": [
    "from sklearn.linear_model import Ridge\n",
    "ridge = Ridge()\n",
    "ridge.fit(train_scaled, y_train)\n",
    "print(ridge.score(train_scaled, y_train), ridge.score(test_scaled, y_test))"
   ]
  },
  {
   "cell_type": "markdown",
   "id": "2dcecf73-6134-40f2-8ddc-bb8308244d46",
   "metadata": {},
   "source": [
    "### 과적합이 발생하면 기존에는 모델을 더 복잡하게 하거나, 다른 방법 다중 -> 다항 특성 좀 더 찾는 행위\n",
    "### 규제 알고리즘을 적용해서 최종적으로 해결을 시도"
   ]
  }
 ],
 "metadata": {
  "kernelspec": {
   "display_name": "Python 3 (ipykernel)",
   "language": "python",
   "name": "python3"
  },
  "language_info": {
   "codemirror_mode": {
    "name": "ipython",
    "version": 3
   },
   "file_extension": ".py",
   "mimetype": "text/x-python",
   "name": "python",
   "nbconvert_exporter": "python",
   "pygments_lexer": "ipython3",
   "version": "3.10.8"
  }
 },
 "nbformat": 4,
 "nbformat_minor": 5
}
