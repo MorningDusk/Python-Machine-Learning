{
 "cells": [
  {
   "cell_type": "code",
   "execution_count": 4,
   "id": "32d49695-0306-40d5-995e-968101541818",
   "metadata": {},
   "outputs": [],
   "source": [
    "import numpy as np\n",
    "import pandas as pd\n",
    "import seaborn as sns"
   ]
  },
  {
   "cell_type": "code",
   "execution_count": 2,
   "id": "eb1b36cd-c185-42a0-83bb-62ec07c9b0c3",
   "metadata": {},
   "outputs": [],
   "source": [
    "url = 'https://raw.githubusercontent.com/leekyuyoung20221226/python/main/data/train.csv'\n",
    "df = pd.read_csv(url)"
   ]
  },
  {
   "cell_type": "code",
   "execution_count": 3,
   "id": "7e10ddd1-3fcd-4ea6-998a-0a2c83f13d86",
   "metadata": {},
   "outputs": [
    {
     "data": {
      "text/html": [
       "<div>\n",
       "<style scoped>\n",
       "    .dataframe tbody tr th:only-of-type {\n",
       "        vertical-align: middle;\n",
       "    }\n",
       "\n",
       "    .dataframe tbody tr th {\n",
       "        vertical-align: top;\n",
       "    }\n",
       "\n",
       "    .dataframe thead th {\n",
       "        text-align: right;\n",
       "    }\n",
       "</style>\n",
       "<table border=\"1\" class=\"dataframe\">\n",
       "  <thead>\n",
       "    <tr style=\"text-align: right;\">\n",
       "      <th></th>\n",
       "      <th>PassengerId</th>\n",
       "      <th>Survived</th>\n",
       "      <th>Pclass</th>\n",
       "      <th>Age</th>\n",
       "      <th>SibSp</th>\n",
       "      <th>Parch</th>\n",
       "      <th>Fare</th>\n",
       "    </tr>\n",
       "  </thead>\n",
       "  <tbody>\n",
       "    <tr>\n",
       "      <th>PassengerId</th>\n",
       "      <td>1.000000</td>\n",
       "      <td>-0.005007</td>\n",
       "      <td>-0.035144</td>\n",
       "      <td>0.036847</td>\n",
       "      <td>-0.057527</td>\n",
       "      <td>-0.001652</td>\n",
       "      <td>0.012658</td>\n",
       "    </tr>\n",
       "    <tr>\n",
       "      <th>Survived</th>\n",
       "      <td>-0.005007</td>\n",
       "      <td>1.000000</td>\n",
       "      <td>-0.338481</td>\n",
       "      <td>-0.077221</td>\n",
       "      <td>-0.035322</td>\n",
       "      <td>0.081629</td>\n",
       "      <td>0.257307</td>\n",
       "    </tr>\n",
       "    <tr>\n",
       "      <th>Pclass</th>\n",
       "      <td>-0.035144</td>\n",
       "      <td>-0.338481</td>\n",
       "      <td>1.000000</td>\n",
       "      <td>-0.369226</td>\n",
       "      <td>0.083081</td>\n",
       "      <td>0.018443</td>\n",
       "      <td>-0.549500</td>\n",
       "    </tr>\n",
       "    <tr>\n",
       "      <th>Age</th>\n",
       "      <td>0.036847</td>\n",
       "      <td>-0.077221</td>\n",
       "      <td>-0.369226</td>\n",
       "      <td>1.000000</td>\n",
       "      <td>-0.308247</td>\n",
       "      <td>-0.189119</td>\n",
       "      <td>0.096067</td>\n",
       "    </tr>\n",
       "    <tr>\n",
       "      <th>SibSp</th>\n",
       "      <td>-0.057527</td>\n",
       "      <td>-0.035322</td>\n",
       "      <td>0.083081</td>\n",
       "      <td>-0.308247</td>\n",
       "      <td>1.000000</td>\n",
       "      <td>0.414838</td>\n",
       "      <td>0.159651</td>\n",
       "    </tr>\n",
       "    <tr>\n",
       "      <th>Parch</th>\n",
       "      <td>-0.001652</td>\n",
       "      <td>0.081629</td>\n",
       "      <td>0.018443</td>\n",
       "      <td>-0.189119</td>\n",
       "      <td>0.414838</td>\n",
       "      <td>1.000000</td>\n",
       "      <td>0.216225</td>\n",
       "    </tr>\n",
       "    <tr>\n",
       "      <th>Fare</th>\n",
       "      <td>0.012658</td>\n",
       "      <td>0.257307</td>\n",
       "      <td>-0.549500</td>\n",
       "      <td>0.096067</td>\n",
       "      <td>0.159651</td>\n",
       "      <td>0.216225</td>\n",
       "      <td>1.000000</td>\n",
       "    </tr>\n",
       "  </tbody>\n",
       "</table>\n",
       "</div>"
      ],
      "text/plain": [
       "             PassengerId  Survived    Pclass       Age     SibSp     Parch  \\\n",
       "PassengerId     1.000000 -0.005007 -0.035144  0.036847 -0.057527 -0.001652   \n",
       "Survived       -0.005007  1.000000 -0.338481 -0.077221 -0.035322  0.081629   \n",
       "Pclass         -0.035144 -0.338481  1.000000 -0.369226  0.083081  0.018443   \n",
       "Age             0.036847 -0.077221 -0.369226  1.000000 -0.308247 -0.189119   \n",
       "SibSp          -0.057527 -0.035322  0.083081 -0.308247  1.000000  0.414838   \n",
       "Parch          -0.001652  0.081629  0.018443 -0.189119  0.414838  1.000000   \n",
       "Fare            0.012658  0.257307 -0.549500  0.096067  0.159651  0.216225   \n",
       "\n",
       "                 Fare  \n",
       "PassengerId  0.012658  \n",
       "Survived     0.257307  \n",
       "Pclass      -0.549500  \n",
       "Age          0.096067  \n",
       "SibSp        0.159651  \n",
       "Parch        0.216225  \n",
       "Fare         1.000000  "
      ]
     },
     "execution_count": 3,
     "metadata": {},
     "output_type": "execute_result"
    }
   ],
   "source": [
    "df = df.drop(columns=['Name', 'Sex', 'Ticket', 'Cabin', 'Embarked'], axis=1)\n",
    "df.corr()"
   ]
  },
  {
   "cell_type": "code",
   "execution_count": 6,
   "id": "388b7ddd-3a2c-4cf6-935e-91049122fddc",
   "metadata": {},
   "outputs": [
    {
     "data": {
      "text/plain": [
       "<AxesSubplot: >"
      ]
     },
     "execution_count": 6,
     "metadata": {},
     "output_type": "execute_result"
    },
    {
     "data": {
      "image/png": "[encoded data removed]",
      "text/plain": [
       "<Figure size 640x480 with 2 Axes>"
      ]
     },
     "metadata": {},
     "output_type": "display_data"
    }
   ],
   "source": [
    "sns.heatmap(df.corr(), annot=True)"
   ]
  },
  {
   "cell_type": "code",
   "execution_count": 7,
   "id": "9f82dce9-e120-42d6-8e53-000af85866c2",
   "metadata": {},
   "outputs": [],
   "source": [
    "from tensorflow.keras.datasets import mnist"
   ]
  },
  {
   "cell_type": "code",
   "execution_count": 8,
   "id": "a05d937d-d58d-4a29-b32e-2b5f33e1bde5",
   "metadata": {},
   "outputs": [
    {
     "name": "stdout",
     "output_type": "stream",
     "text": [
      "Downloading data from https://storage.googleapis.com/tensorflow/tf-keras-datasets/mnist.npz\n",
      "11490434/11490434 [==============================] - 1s 0us/step\n"
     ]
    },
    {
     "data": {
      "text/plain": [
       "((60000, 28, 28), (60000,), (10000, 28, 28), (10000,))"
      ]
     },
     "execution_count": 8,
     "metadata": {},
     "output_type": "execute_result"
    }
   ],
   "source": [
    "(x_train, y_train),(x_test, y_test) = mnist.load_data()\n",
    "x_train.shape, y_train.shape, x_test.shape, y_test.shape"
   ]
  },
  {
   "cell_type": "code",
   "execution_count": 10,
   "id": "a4a73603-dbcf-40b4-9861-3e4f9a0b2a51",
   "metadata": {},
   "outputs": [],
   "source": [
    "import matplotlib.pyplot as plt"
   ]
  },
  {
   "cell_type": "code",
   "execution_count": 11,
   "id": "2c89b3ef-f42a-4de6-a18d-b92c7aac096e",
   "metadata": {},
   "outputs": [
    {
     "data": {
      "text/plain": [
       "<matplotlib.image.AxesImage at 0x2a1a2bd2ec0>"
      ]
     },
     "execution_count": 11,
     "metadata": {},
     "output_type": "execute_result"
    },
    {
     "data": {
      "image/png": "[encoded data removed]",
      "text/plain": [
       "<Figure size 640x480 with 1 Axes>"
      ]
     },
     "metadata": {},
     "output_type": "display_data"
    }
   ],
   "source": [
    "plt.imshow(x_train[0], cmap='gray_r')"
   ]
  },
  {
   "cell_type": "code",
   "execution_count": 13,
   "id": "eafbc44e-3b8c-429f-afaf-badd492b740d",
   "metadata": {},
   "outputs": [
    {
     "data": {
      "image/png": "[encoded data removed]",
      "text/plain": [
       "<Figure size 640x480 with 10 Axes>"
      ]
     },
     "metadata": {},
     "output_type": "display_data"
    }
   ],
   "source": [
    "for i in range(10):\n",
    "    plt.subplot(1,10,i+1)\n",
    "    plt.imshow(x_train[i], cmap='gray_r')\n",
    "    plt.axis('off')"
   ]
  },
  {
   "cell_type": "markdown",
   "id": "c3f2bfbd-a8fa-4196-a934-e55a007de234",
   "metadata": {},
   "source": [
    "# 머신러닝"
   ]
  },
  {
   "cell_type": "code",
   "execution_count": 14,
   "id": "99ec3b96-a290-4f72-ad98-e13551ece347",
   "metadata": {},
   "outputs": [],
   "source": [
    "from xgboost import XGBClassifier"
   ]
  },
  {
   "cell_type": "code",
   "execution_count": 15,
   "id": "45b24c31-e362-4ed7-94b0-0c6462f1fcb6",
   "metadata": {},
   "outputs": [],
   "source": [
    "xgb = XGBClassifier(n_estimators=100, max_depth=3)"
   ]
  },
  {
   "cell_type": "code",
   "execution_count": 17,
   "id": "f6fd79ac-e697-48c7-bf6b-98766a792994",
   "metadata": {},
   "outputs": [],
   "source": [
    "x_train = x_train.reshape(60000, 28*28)"
   ]
  },
  {
   "cell_type": "code",
   "execution_count": 18,
   "id": "c863d06f-d369-47ad-ae35-006e6a84461c",
   "metadata": {},
   "outputs": [
    {
     "data": {
      "text/html": [
       "<style>#sk-container-id-1 {color: black;background-color: white;}#sk-container-id-1 pre{padding: 0;}#sk-container-id-1 div.sk-toggleable {background-color: white;}#sk-container-id-1 label.sk-toggleable__label {cursor: pointer;display: block;width: 100%;margin-bottom: 0;padding: 0.3em;box-sizing: border-box;text-align: center;}#sk-container-id-1 label.sk-toggleable__label-arrow:before {content: \"▸\";float: left;margin-right: 0.25em;color: #696969;}#sk-container-id-1 label.sk-toggleable__label-arrow:hover:before {color: black;}#sk-container-id-1 div.sk-estimator:hover label.sk-toggleable__label-arrow:before {color: black;}#sk-container-id-1 div.sk-toggleable__content {max-height: 0;max-width: 0;overflow: hidden;text-align: left;background-color: #f0f8ff;}#sk-container-id-1 div.sk-toggleable__content pre {margin: 0.2em;color: black;border-radius: 0.25em;background-color: #f0f8ff;}#sk-container-id-1 input.sk-toggleable__control:checked~div.sk-toggleable__content {max-height: 200px;max-width: 100%;overflow: auto;}#sk-container-id-1 input.sk-toggleable__control:checked~label.sk-toggleable__label-arrow:before {content: \"▾\";}#sk-container-id-1 div.sk-estimator input.sk-toggleable__control:checked~label.sk-toggleable__label {background-color: #d4ebff;}#sk-container-id-1 div.sk-label input.sk-toggleable__control:checked~label.sk-toggleable__label {background-color: #d4ebff;}#sk-container-id-1 input.sk-hidden--visually {border: 0;clip: rect(1px 1px 1px 1px);clip: rect(1px, 1px, 1px, 1px);height: 1px;margin: -1px;overflow: hidden;padding: 0;position: absolute;width: 1px;}#sk-container-id-1 div.sk-estimator {font-family: monospace;background-color: #f0f8ff;border: 1px dotted black;border-radius: 0.25em;box-sizing: border-box;margin-bottom: 0.5em;}#sk-container-id-1 div.sk-estimator:hover {background-color: #d4ebff;}#sk-container-id-1 div.sk-parallel-item::after {content: \"\";width: 100%;border-bottom: 1px solid gray;flex-grow: 1;}#sk-container-id-1 div.sk-label:hover label.sk-toggleable__label {background-color: #d4ebff;}#sk-container-id-1 div.sk-serial::before {content: \"\";position: absolute;border-left: 1px solid gray;box-sizing: border-box;top: 0;bottom: 0;left: 50%;z-index: 0;}#sk-container-id-1 div.sk-serial {display: flex;flex-direction: column;align-items: center;background-color: white;padding-right: 0.2em;padding-left: 0.2em;position: relative;}#sk-container-id-1 div.sk-item {position: relative;z-index: 1;}#sk-container-id-1 div.sk-parallel {display: flex;align-items: stretch;justify-content: center;background-color: white;position: relative;}#sk-container-id-1 div.sk-item::before, #sk-container-id-1 div.sk-parallel-item::before {content: \"\";position: absolute;border-left: 1px solid gray;box-sizing: border-box;top: 0;bottom: 0;left: 50%;z-index: -1;}#sk-container-id-1 div.sk-parallel-item {display: flex;flex-direction: column;z-index: 1;position: relative;background-color: white;}#sk-container-id-1 div.sk-parallel-item:first-child::after {align-self: flex-end;width: 50%;}#sk-container-id-1 div.sk-parallel-item:last-child::after {align-self: flex-start;width: 50%;}#sk-container-id-1 div.sk-parallel-item:only-child::after {width: 0;}#sk-container-id-1 div.sk-dashed-wrapped {border: 1px dashed gray;margin: 0 0.4em 0.5em 0.4em;box-sizing: border-box;padding-bottom: 0.4em;background-color: white;}#sk-container-id-1 div.sk-label label {font-family: monospace;font-weight: bold;display: inline-block;line-height: 1.2em;}#sk-container-id-1 div.sk-label-container {text-align: center;}#sk-container-id-1 div.sk-container {/* jupyter's `normalize.less` sets `[hidden] { display: none; }` but bootstrap.min.css set `[hidden] { display: none !important; }` so we also need the `!important` here to be able to override the default hidden behavior on the sphinx rendered scikit-learn.org. See: https://github.com/scikit-learn/scikit-learn/issues/21755 */display: inline-block !important;position: relative;}#sk-container-id-1 div.sk-text-repr-fallback {display: none;}</style><div id=\"sk-container-id-1\" class=\"sk-top-container\"><div class=\"sk-text-repr-fallback\"><pre>XGBClassifier(base_score=None, booster=None, callbacks=None,\n",
       "              colsample_bylevel=None, colsample_bynode=None,\n",
       "              colsample_bytree=None, early_stopping_rounds=None,\n",
       "              enable_categorical=False, eval_metric=None, feature_types=None,\n",
       "              gamma=None, gpu_id=None, grow_policy=None, importance_type=None,\n",
       "              interaction_constraints=None, learning_rate=None, max_bin=None,\n",
       "              max_cat_threshold=None, max_cat_to_onehot=None,\n",
       "              max_delta_step=None, max_depth=3, max_leaves=None,\n",
       "              min_child_weight=None, missing=nan, monotone_constraints=None,\n",
       "              n_estimators=100, n_jobs=None, num_parallel_tree=None,\n",
       "              objective=&#x27;multi:softprob&#x27;, predictor=None, ...)</pre><b>In a Jupyter environment, please rerun this cell to show the HTML representation or trust the notebook. <br />On GitHub, the HTML representation is unable to render, please try loading this page with nbviewer.org.</b></div><div class=\"sk-container\" hidden><div class=\"sk-item\"><div class=\"sk-estimator sk-toggleable\"><input class=\"sk-toggleable__control sk-hidden--visually\" id=\"sk-estimator-id-1\" type=\"checkbox\" checked><label for=\"sk-estimator-id-1\" class=\"sk-toggleable__label sk-toggleable__label-arrow\">XGBClassifier</label><div class=\"sk-toggleable__content\"><pre>XGBClassifier(base_score=None, booster=None, callbacks=None,\n",
       "              colsample_bylevel=None, colsample_bynode=None,\n",
       "              colsample_bytree=None, early_stopping_rounds=None,\n",
       "              enable_categorical=False, eval_metric=None, feature_types=None,\n",
       "              gamma=None, gpu_id=None, grow_policy=None, importance_type=None,\n",
       "              interaction_constraints=None, learning_rate=None, max_bin=None,\n",
       "              max_cat_threshold=None, max_cat_to_onehot=None,\n",
       "              max_delta_step=None, max_depth=3, max_leaves=None,\n",
       "              min_child_weight=None, missing=nan, monotone_constraints=None,\n",
       "              n_estimators=100, n_jobs=None, num_parallel_tree=None,\n",
       "              objective=&#x27;multi:softprob&#x27;, predictor=None, ...)</pre></div></div></div></div></div>"
      ],
      "text/plain": [
       "XGBClassifier(base_score=None, booster=None, callbacks=None,\n",
       "              colsample_bylevel=None, colsample_bynode=None,\n",
       "              colsample_bytree=None, early_stopping_rounds=None,\n",
       "              enable_categorical=False, eval_metric=None, feature_types=None,\n",
       "              gamma=None, gpu_id=None, grow_policy=None, importance_type=None,\n",
       "              interaction_constraints=None, learning_rate=None, max_bin=None,\n",
       "              max_cat_threshold=None, max_cat_to_onehot=None,\n",
       "              max_delta_step=None, max_depth=3, max_leaves=None,\n",
       "              min_child_weight=None, missing=nan, monotone_constraints=None,\n",
       "              n_estimators=100, n_jobs=None, num_parallel_tree=None,\n",
       "              objective='multi:softprob', predictor=None, ...)"
      ]
     },
     "execution_count": 18,
     "metadata": {},
     "output_type": "execute_result"
    }
   ],
   "source": [
    "xgb.fit(x_train, y_train)"
   ]
  },
  {
   "cell_type": "code",
   "execution_count": 20,
   "id": "9a8c6f93-483c-4741-8ac4-4625437d9ac7",
   "metadata": {},
   "outputs": [
    {
     "data": {
      "text/plain": [
       "0.9817166666666667"
      ]
     },
     "execution_count": 20,
     "metadata": {},
     "output_type": "execute_result"
    }
   ],
   "source": [
    "xgb.score(x_train, y_train)"
   ]
  },
  {
   "cell_type": "code",
   "execution_count": 19,
   "id": "b86647b4-0e06-4274-9701-7ef87406f196",
   "metadata": {},
   "outputs": [
    {
     "data": {
      "text/plain": [
       "0.9637"
      ]
     },
     "execution_count": 19,
     "metadata": {},
     "output_type": "execute_result"
    }
   ],
   "source": [
    "x_test = x_test.reshape(-1,28*28)\n",
    "xgb.score(x_test, y_test)"
   ]
  },
  {
   "cell_type": "code",
   "execution_count": 21,
   "id": "0a1c5fcd-9d9e-4cdc-84c1-51dc3f2f5745",
   "metadata": {},
   "outputs": [],
   "source": [
    "from sklearn.model_selection import cross_validate"
   ]
  },
  {
   "cell_type": "code",
   "execution_count": 23,
   "id": "21133586-ac24-45c0-9548-b9e1ad3cc899",
   "metadata": {},
   "outputs": [],
   "source": [
    "xgb = XGBClassifier(n_estimators=100, max_depth=3)\n",
    "scores = cross_validate(xgb,x_train,y_train, return_train_score=True)"
   ]
  },
  {
   "cell_type": "markdown",
   "id": "c4964e5c-9c7f-46cc-aba5-6d1ad71df6dd",
   "metadata": {},
   "source": [
    "### 신경망 - 신경망 연결(모델) - 모델 컴파일 - 학습"
   ]
  },
  {
   "cell_type": "code",
   "execution_count": 24,
   "id": "f8dc7a9e-02b3-4791-98c8-77d568a60943",
   "metadata": {},
   "outputs": [],
   "source": [
    "import tensorflow as tf"
   ]
  },
  {
   "cell_type": "code",
   "execution_count": 26,
   "id": "d3d9e860-2f79-470d-9ce6-cae2bc3ed6cc",
   "metadata": {},
   "outputs": [],
   "source": [
    "dense = tf.keras.layers.Dense(10, activation='softmax', input_shape=(784,))\n",
    "model = tf.keras.Sequential(dense)\n",
    "model.compile(loss=tf.keras.losses.sparse_categorical_crossentropy, metrics='acc')"
   ]
  },
  {
   "cell_type": "code",
   "execution_count": 28,
   "id": "9338ec38-e79c-4951-b785-17ae2f3c240e",
   "metadata": {
    "collapsed": true,
    "jupyter": {
     "outputs_hidden": true
    },
    "tags": []
   },
   "outputs": [
    {
     "name": "stdout",
     "output_type": "stream",
     "text": [
      "Epoch 1/100\n",
      "1875/1875 [==============================] - 2s 1ms/step - loss: 0.5554 - acc: 0.8481\n",
      "Epoch 2/100\n",
      "1875/1875 [==============================] - 2s 1ms/step - loss: 0.2971 - acc: 0.9145\n",
      "Epoch 3/100\n",
      "1875/1875 [==============================] - 2s 1ms/step - loss: 0.2847 - acc: 0.9201\n",
      "Epoch 4/100\n",
      "1875/1875 [==============================] - 2s 1ms/step - loss: 0.2792 - acc: 0.9226\n",
      "Epoch 5/100\n",
      "1875/1875 [==============================] - 2s 1ms/step - loss: 0.2754 - acc: 0.9245\n",
      "Epoch 6/100\n",
      "1875/1875 [==============================] - 2s 1ms/step - loss: 0.2732 - acc: 0.9264\n",
      "Epoch 7/100\n",
      "1875/1875 [==============================] - 2s 1ms/step - loss: 0.2712 - acc: 0.9271\n",
      "Epoch 8/100\n",
      "1875/1875 [==============================] - 2s 1ms/step - loss: 0.2698 - acc: 0.9269\n",
      "Epoch 9/100\n",
      "1875/1875 [==============================] - 2s 1ms/step - loss: 0.2687 - acc: 0.9287\n",
      "Epoch 10/100\n",
      "1875/1875 [==============================] - 2s 1ms/step - loss: 0.2683 - acc: 0.9291\n",
      "Epoch 11/100\n",
      "1875/1875 [==============================] - 2s 1ms/step - loss: 0.2677 - acc: 0.9293\n",
      "Epoch 12/100\n",
      "1875/1875 [==============================] - 2s 1ms/step - loss: 0.2667 - acc: 0.9294\n",
      "Epoch 13/100\n",
      "1875/1875 [==============================] - 2s 1ms/step - loss: 0.2660 - acc: 0.9298\n",
      "Epoch 14/100\n",
      "1875/1875 [==============================] - 2s 1ms/step - loss: 0.2658 - acc: 0.9302\n",
      "Epoch 15/100\n",
      "1875/1875 [==============================] - 2s 1ms/step - loss: 0.2656 - acc: 0.9304\n",
      "Epoch 16/100\n",
      "1875/1875 [==============================] - 2s 1ms/step - loss: 0.2648 - acc: 0.9308\n",
      "Epoch 17/100\n",
      "1875/1875 [==============================] - 2s 1ms/step - loss: 0.2642 - acc: 0.9312\n",
      "Epoch 18/100\n",
      "1875/1875 [==============================] - 2s 1ms/step - loss: 0.2637 - acc: 0.9318\n",
      "Epoch 19/100\n",
      "1875/1875 [==============================] - 2s 1ms/step - loss: 0.2638 - acc: 0.9312\n",
      "Epoch 20/100\n",
      "1875/1875 [==============================] - 2s 1ms/step - loss: 0.2634 - acc: 0.9323\n",
      "Epoch 21/100\n",
      "1875/1875 [==============================] - 2s 1ms/step - loss: 0.2632 - acc: 0.9321\n",
      "Epoch 22/100\n",
      "1875/1875 [==============================] - 2s 1ms/step - loss: 0.2631 - acc: 0.9319\n",
      "Epoch 23/100\n",
      "1875/1875 [==============================] - 2s 1ms/step - loss: 0.2631 - acc: 0.9324\n",
      "Epoch 24/100\n",
      "1875/1875 [==============================] - 2s 1ms/step - loss: 0.2627 - acc: 0.9324\n",
      "Epoch 25/100\n",
      "1875/1875 [==============================] - 2s 1ms/step - loss: 0.2621 - acc: 0.9324\n",
      "Epoch 26/100\n",
      "1875/1875 [==============================] - 2s 1ms/step - loss: 0.2623 - acc: 0.9327\n",
      "Epoch 27/100\n",
      "1875/1875 [==============================] - 2s 1ms/step - loss: 0.2620 - acc: 0.9328\n",
      "Epoch 28/100\n",
      "1875/1875 [==============================] - 2s 1ms/step - loss: 0.2621 - acc: 0.9327\n",
      "Epoch 29/100\n",
      "1875/1875 [==============================] - 2s 1ms/step - loss: 0.2616 - acc: 0.9334\n",
      "Epoch 30/100\n",
      "1875/1875 [==============================] - 2s 1ms/step - loss: 0.2616 - acc: 0.9329\n",
      "Epoch 31/100\n",
      "1875/1875 [==============================] - 2s 1ms/step - loss: 0.2616 - acc: 0.9333\n",
      "Epoch 32/100\n",
      "1875/1875 [==============================] - 2s 1ms/step - loss: 0.2616 - acc: 0.9326\n",
      "Epoch 33/100\n",
      "1875/1875 [==============================] - 2s 1ms/step - loss: 0.2616 - acc: 0.9333\n",
      "Epoch 34/100\n",
      "1875/1875 [==============================] - 2s 1ms/step - loss: 0.2614 - acc: 0.9333\n",
      "Epoch 35/100\n",
      "1875/1875 [==============================] - 2s 1ms/step - loss: 0.2607 - acc: 0.9338\n",
      "Epoch 36/100\n",
      "1875/1875 [==============================] - 2s 1ms/step - loss: 0.2612 - acc: 0.9336\n",
      "Epoch 37/100\n",
      "1875/1875 [==============================] - 2s 1ms/step - loss: 0.2607 - acc: 0.9341\n",
      "Epoch 38/100\n",
      "1875/1875 [==============================] - 2s 1ms/step - loss: 0.2607 - acc: 0.9336\n",
      "Epoch 39/100\n",
      "1875/1875 [==============================] - 2s 1ms/step - loss: 0.2610 - acc: 0.9341\n",
      "Epoch 40/100\n",
      "1875/1875 [==============================] - 2s 1ms/step - loss: 0.2609 - acc: 0.9342\n",
      "Epoch 41/100\n",
      "1875/1875 [==============================] - 2s 1ms/step - loss: 0.2605 - acc: 0.9340\n",
      "Epoch 42/100\n",
      "1875/1875 [==============================] - 3s 2ms/step - loss: 0.2605 - acc: 0.9342\n",
      "Epoch 43/100\n",
      "1875/1875 [==============================] - 2s 1ms/step - loss: 0.2603 - acc: 0.9348\n",
      "Epoch 44/100\n",
      "1875/1875 [==============================] - 2s 1ms/step - loss: 0.2602 - acc: 0.9343\n",
      "Epoch 45/100\n",
      "1875/1875 [==============================] - 2s 1ms/step - loss: 0.2605 - acc: 0.9347\n",
      "Epoch 46/100\n",
      "1875/1875 [==============================] - 2s 1ms/step - loss: 0.2599 - acc: 0.9345\n",
      "Epoch 47/100\n",
      "1875/1875 [==============================] - 2s 1ms/step - loss: 0.2602 - acc: 0.9345\n",
      "Epoch 48/100\n",
      "1875/1875 [==============================] - 2s 1ms/step - loss: 0.2598 - acc: 0.9348\n",
      "Epoch 49/100\n",
      "1875/1875 [==============================] - 2s 1ms/step - loss: 0.2607 - acc: 0.9343\n",
      "Epoch 50/100\n",
      "1875/1875 [==============================] - 2s 1ms/step - loss: 0.2605 - acc: 0.9347\n",
      "Epoch 51/100\n",
      "1875/1875 [==============================] - 2s 1ms/step - loss: 0.2601 - acc: 0.9353\n",
      "Epoch 52/100\n",
      "1875/1875 [==============================] - 2s 1ms/step - loss: 0.2604 - acc: 0.9356\n",
      "Epoch 53/100\n",
      "1875/1875 [==============================] - 2s 1ms/step - loss: 0.2598 - acc: 0.9353\n",
      "Epoch 54/100\n",
      "1875/1875 [==============================] - 2s 1ms/step - loss: 0.2601 - acc: 0.9348\n",
      "Epoch 55/100\n",
      "1875/1875 [==============================] - 2s 1ms/step - loss: 0.2603 - acc: 0.9345\n",
      "Epoch 56/100\n",
      "1875/1875 [==============================] - 2s 1ms/step - loss: 0.2598 - acc: 0.9357\n",
      "Epoch 57/100\n",
      "1875/1875 [==============================] - 3s 1ms/step - loss: 0.2597 - acc: 0.9353\n",
      "Epoch 58/100\n",
      "1875/1875 [==============================] - 3s 2ms/step - loss: 0.2601 - acc: 0.9348\n",
      "Epoch 59/100\n",
      "1875/1875 [==============================] - 3s 1ms/step - loss: 0.2601 - acc: 0.9350\n",
      "Epoch 60/100\n",
      "1875/1875 [==============================] - 2s 1ms/step - loss: 0.2597 - acc: 0.9345\n",
      "Epoch 61/100\n",
      "1875/1875 [==============================] - 2s 1ms/step - loss: 0.2599 - acc: 0.9354\n",
      "Epoch 62/100\n",
      "1875/1875 [==============================] - 2s 1ms/step - loss: 0.2600 - acc: 0.9356\n",
      "Epoch 63/100\n",
      "1875/1875 [==============================] - 2s 1ms/step - loss: 0.2600 - acc: 0.9351\n",
      "Epoch 64/100\n",
      "1875/1875 [==============================] - 2s 1ms/step - loss: 0.2601 - acc: 0.9354\n",
      "Epoch 65/100\n",
      "1875/1875 [==============================] - 2s 1ms/step - loss: 0.2599 - acc: 0.9358\n",
      "Epoch 66/100\n",
      "1875/1875 [==============================] - 2s 1ms/step - loss: 0.2601 - acc: 0.9356\n",
      "Epoch 67/100\n",
      "1875/1875 [==============================] - 2s 1ms/step - loss: 0.2603 - acc: 0.9355\n",
      "Epoch 68/100\n",
      "1875/1875 [==============================] - 2s 1ms/step - loss: 0.2604 - acc: 0.9356\n",
      "Epoch 69/100\n",
      "1875/1875 [==============================] - 2s 1ms/step - loss: 0.2597 - acc: 0.9357\n",
      "Epoch 70/100\n",
      "1875/1875 [==============================] - 2s 1ms/step - loss: 0.2600 - acc: 0.9357\n",
      "Epoch 71/100\n",
      "1875/1875 [==============================] - 2s 1ms/step - loss: 0.2601 - acc: 0.9355\n",
      "Epoch 72/100\n",
      "1875/1875 [==============================] - 2s 1ms/step - loss: 0.2598 - acc: 0.9358\n",
      "Epoch 73/100\n",
      "1875/1875 [==============================] - 2s 1ms/step - loss: 0.2595 - acc: 0.9360\n",
      "Epoch 74/100\n",
      "1875/1875 [==============================] - 2s 1ms/step - loss: 0.2597 - acc: 0.9354\n",
      "Epoch 75/100\n",
      "1875/1875 [==============================] - 2s 1ms/step - loss: 0.2596 - acc: 0.9358\n",
      "Epoch 76/100\n",
      "1875/1875 [==============================] - 2s 1ms/step - loss: 0.2598 - acc: 0.9354\n",
      "Epoch 77/100\n",
      "1875/1875 [==============================] - 2s 1ms/step - loss: 0.2599 - acc: 0.9356\n",
      "Epoch 78/100\n",
      "1875/1875 [==============================] - 2s 1ms/step - loss: 0.2598 - acc: 0.9360\n",
      "Epoch 79/100\n",
      "1875/1875 [==============================] - 2s 1ms/step - loss: 0.2599 - acc: 0.9357\n",
      "Epoch 80/100\n",
      "1875/1875 [==============================] - 2s 1ms/step - loss: 0.2600 - acc: 0.9361\n",
      "Epoch 81/100\n",
      "1875/1875 [==============================] - 2s 1ms/step - loss: 0.2603 - acc: 0.9359\n",
      "Epoch 82/100\n",
      "1875/1875 [==============================] - 2s 1ms/step - loss: 0.2596 - acc: 0.9366\n",
      "Epoch 83/100\n",
      "1875/1875 [==============================] - 2s 1ms/step - loss: 0.2601 - acc: 0.9361\n",
      "Epoch 84/100\n",
      "1875/1875 [==============================] - 2s 1ms/step - loss: 0.2598 - acc: 0.9359\n",
      "Epoch 85/100\n",
      "1875/1875 [==============================] - 2s 1ms/step - loss: 0.2599 - acc: 0.9359\n",
      "Epoch 86/100\n",
      "1875/1875 [==============================] - 2s 1ms/step - loss: 0.2598 - acc: 0.9359\n",
      "Epoch 87/100\n",
      "1875/1875 [==============================] - 3s 1ms/step - loss: 0.2599 - acc: 0.9360\n",
      "Epoch 88/100\n",
      "1875/1875 [==============================] - 3s 2ms/step - loss: 0.2603 - acc: 0.9354\n",
      "Epoch 89/100\n",
      "1875/1875 [==============================] - 3s 2ms/step - loss: 0.2599 - acc: 0.9363\n",
      "Epoch 90/100\n",
      "1875/1875 [==============================] - 3s 1ms/step - loss: 0.2594 - acc: 0.9360\n",
      "Epoch 91/100\n",
      "1875/1875 [==============================] - 2s 1ms/step - loss: 0.2597 - acc: 0.9360\n",
      "Epoch 92/100\n",
      "1875/1875 [==============================] - 2s 1ms/step - loss: 0.2595 - acc: 0.9366\n",
      "Epoch 93/100\n",
      "1875/1875 [==============================] - 2s 1ms/step - loss: 0.2603 - acc: 0.9357\n",
      "Epoch 94/100\n",
      "1875/1875 [==============================] - 2s 1ms/step - loss: 0.2600 - acc: 0.9362\n",
      "Epoch 95/100\n",
      "1875/1875 [==============================] - 2s 1ms/step - loss: 0.2595 - acc: 0.9361\n",
      "Epoch 96/100\n",
      "1875/1875 [==============================] - 2s 1ms/step - loss: 0.2604 - acc: 0.9361\n",
      "Epoch 97/100\n",
      "1875/1875 [==============================] - 2s 1ms/step - loss: 0.2593 - acc: 0.9361\n",
      "Epoch 98/100\n",
      "1875/1875 [==============================] - 2s 1ms/step - loss: 0.2592 - acc: 0.9358\n",
      "Epoch 99/100\n",
      "1875/1875 [==============================] - 2s 1ms/step - loss: 0.2598 - acc: 0.9366\n",
      "Epoch 100/100\n",
      "1875/1875 [==============================] - 2s 1ms/step - loss: 0.2597 - acc: 0.9360\n"
     ]
    }
   ],
   "source": [
    "x_train = x_train/255.0\n",
    "scores=model.fit(x_train, y_train, epochs=100)"
   ]
  },
  {
   "cell_type": "code",
   "execution_count": 30,
   "id": "c48c5b55-90c5-4da0-ba42-0bd140135cd5",
   "metadata": {},
   "outputs": [
    {
     "data": {
      "text/plain": [
       "<matplotlib.legend.Legend at 0x2a1b565aec0>"
      ]
     },
     "execution_count": 30,
     "metadata": {},
     "output_type": "execute_result"
    },
    {
     "data": {
      "image/png": "[encoded data removed]",
      "text/plain": [
       "<Figure size 640x480 with 1 Axes>"
      ]
     },
     "metadata": {},
     "output_type": "display_data"
    }
   ],
   "source": [
    "plt.plot(scores.history['loss'],label='loss')\n",
    "plt.plot(scores.history['acc'], label='accuracy')\n",
    "plt.legend()"
   ]
  },
  {
   "cell_type": "code",
   "execution_count": 31,
   "id": "d597b841-ae53-4177-a0bb-dd9c8ca2540d",
   "metadata": {},
   "outputs": [
    {
     "name": "stdout",
     "output_type": "stream",
     "text": [
      "1875/1875 [==============================] - 2s 1ms/step - loss: 0.2558 - acc: 0.9366\n"
     ]
    },
    {
     "data": {
      "text/plain": [
       "[0.25580328702926636, 0.9366333484649658]"
      ]
     },
     "execution_count": 31,
     "metadata": {},
     "output_type": "execute_result"
    }
   ],
   "source": [
    "model.evaluate(x_train, y_train)"
   ]
  },
  {
   "cell_type": "code",
   "execution_count": 29,
   "id": "d5d8107b-9372-4f2f-832e-706b39cff88b",
   "metadata": {},
   "outputs": [],
   "source": [
    "from sklearn.linear_model import SGDClassifier"
   ]
  },
  {
   "cell_type": "code",
   "execution_count": 32,
   "id": "ac8fe7ac-613b-4ab9-8578-7ddbf8e0228b",
   "metadata": {},
   "outputs": [
    {
     "data": {
      "text/plain": [
       "(SGDClassifier(), 0.8108)"
      ]
     },
     "execution_count": 32,
     "metadata": {},
     "output_type": "execute_result"
    }
   ],
   "source": [
    "sgd = SGDClassifier()\n",
    "sgd.fit(x_train, y_train), sgd.score(x_test, y_test)"
   ]
  },
  {
   "cell_type": "code",
   "execution_count": 33,
   "id": "6133775a-1b1c-4c65-8634-bab6c68ccc6d",
   "metadata": {},
   "outputs": [
    {
     "data": {
      "text/html": [
       "<div>\n",
       "<style scoped>\n",
       "    .dataframe tbody tr th:only-of-type {\n",
       "        vertical-align: middle;\n",
       "    }\n",
       "\n",
       "    .dataframe tbody tr th {\n",
       "        vertical-align: top;\n",
       "    }\n",
       "\n",
       "    .dataframe thead th {\n",
       "        text-align: right;\n",
       "    }\n",
       "</style>\n",
       "<table border=\"1\" class=\"dataframe\">\n",
       "  <thead>\n",
       "    <tr style=\"text-align: right;\">\n",
       "      <th></th>\n",
       "      <th>0</th>\n",
       "      <th>1</th>\n",
       "      <th>2</th>\n",
       "      <th>3</th>\n",
       "      <th>4</th>\n",
       "    </tr>\n",
       "  </thead>\n",
       "  <tbody>\n",
       "    <tr>\n",
       "      <th>0</th>\n",
       "      <td>5.1</td>\n",
       "      <td>3.5</td>\n",
       "      <td>1.4</td>\n",
       "      <td>0.2</td>\n",
       "      <td>Iris-setosa</td>\n",
       "    </tr>\n",
       "    <tr>\n",
       "      <th>1</th>\n",
       "      <td>4.9</td>\n",
       "      <td>3.0</td>\n",
       "      <td>1.4</td>\n",
       "      <td>0.2</td>\n",
       "      <td>Iris-setosa</td>\n",
       "    </tr>\n",
       "    <tr>\n",
       "      <th>2</th>\n",
       "      <td>4.7</td>\n",
       "      <td>3.2</td>\n",
       "      <td>1.3</td>\n",
       "      <td>0.2</td>\n",
       "      <td>Iris-setosa</td>\n",
       "    </tr>\n",
       "    <tr>\n",
       "      <th>3</th>\n",
       "      <td>4.6</td>\n",
       "      <td>3.1</td>\n",
       "      <td>1.5</td>\n",
       "      <td>0.2</td>\n",
       "      <td>Iris-setosa</td>\n",
       "    </tr>\n",
       "    <tr>\n",
       "      <th>4</th>\n",
       "      <td>5.0</td>\n",
       "      <td>3.6</td>\n",
       "      <td>1.4</td>\n",
       "      <td>0.2</td>\n",
       "      <td>Iris-setosa</td>\n",
       "    </tr>\n",
       "  </tbody>\n",
       "</table>\n",
       "</div>"
      ],
      "text/plain": [
       "     0    1    2    3            4\n",
       "0  5.1  3.5  1.4  0.2  Iris-setosa\n",
       "1  4.9  3.0  1.4  0.2  Iris-setosa\n",
       "2  4.7  3.2  1.3  0.2  Iris-setosa\n",
       "3  4.6  3.1  1.5  0.2  Iris-setosa\n",
       "4  5.0  3.6  1.4  0.2  Iris-setosa"
      ]
     },
     "execution_count": 33,
     "metadata": {},
     "output_type": "execute_result"
    }
   ],
   "source": [
    "iris = pd.read_csv('https://raw.githubusercontent.com/leekyuyoung20221226/python/main/data/iris.data', header=None)\n",
    "iris.head()"
   ]
  },
  {
   "cell_type": "code",
   "execution_count": 34,
   "id": "88025be2-ddeb-42bc-86d6-6cf80df296b7",
   "metadata": {},
   "outputs": [
    {
     "data": {
      "text/html": [
       "<div>\n",
       "<style scoped>\n",
       "    .dataframe tbody tr th:only-of-type {\n",
       "        vertical-align: middle;\n",
       "    }\n",
       "\n",
       "    .dataframe tbody tr th {\n",
       "        vertical-align: top;\n",
       "    }\n",
       "\n",
       "    .dataframe thead th {\n",
       "        text-align: right;\n",
       "    }\n",
       "</style>\n",
       "<table border=\"1\" class=\"dataframe\">\n",
       "  <thead>\n",
       "    <tr style=\"text-align: right;\">\n",
       "      <th></th>\n",
       "      <th>sepal_length</th>\n",
       "      <th>sepal_width</th>\n",
       "      <th>petal_length</th>\n",
       "      <th>petal_width</th>\n",
       "      <th>target</th>\n",
       "    </tr>\n",
       "  </thead>\n",
       "  <tbody>\n",
       "    <tr>\n",
       "      <th>0</th>\n",
       "      <td>5.1</td>\n",
       "      <td>3.5</td>\n",
       "      <td>1.4</td>\n",
       "      <td>0.2</td>\n",
       "      <td>Iris-setosa</td>\n",
       "    </tr>\n",
       "    <tr>\n",
       "      <th>1</th>\n",
       "      <td>4.9</td>\n",
       "      <td>3.0</td>\n",
       "      <td>1.4</td>\n",
       "      <td>0.2</td>\n",
       "      <td>Iris-setosa</td>\n",
       "    </tr>\n",
       "    <tr>\n",
       "      <th>2</th>\n",
       "      <td>4.7</td>\n",
       "      <td>3.2</td>\n",
       "      <td>1.3</td>\n",
       "      <td>0.2</td>\n",
       "      <td>Iris-setosa</td>\n",
       "    </tr>\n",
       "    <tr>\n",
       "      <th>3</th>\n",
       "      <td>4.6</td>\n",
       "      <td>3.1</td>\n",
       "      <td>1.5</td>\n",
       "      <td>0.2</td>\n",
       "      <td>Iris-setosa</td>\n",
       "    </tr>\n",
       "    <tr>\n",
       "      <th>4</th>\n",
       "      <td>5.0</td>\n",
       "      <td>3.6</td>\n",
       "      <td>1.4</td>\n",
       "      <td>0.2</td>\n",
       "      <td>Iris-setosa</td>\n",
       "    </tr>\n",
       "  </tbody>\n",
       "</table>\n",
       "</div>"
      ],
      "text/plain": [
       "   sepal_length  sepal_width  petal_length  petal_width       target\n",
       "0           5.1          3.5           1.4          0.2  Iris-setosa\n",
       "1           4.9          3.0           1.4          0.2  Iris-setosa\n",
       "2           4.7          3.2           1.3          0.2  Iris-setosa\n",
       "3           4.6          3.1           1.5          0.2  Iris-setosa\n",
       "4           5.0          3.6           1.4          0.2  Iris-setosa"
      ]
     },
     "execution_count": 34,
     "metadata": {},
     "output_type": "execute_result"
    }
   ],
   "source": [
    "iris.columns = ['sepal_length', 'sepal_width', 'petal_length', 'petal_width', 'target']\n",
    "iris.head()"
   ]
  },
  {
   "cell_type": "code",
   "execution_count": 35,
   "id": "add63b9e-f514-48fe-8999-f479610321ae",
   "metadata": {},
   "outputs": [
    {
     "name": "stdout",
     "output_type": "stream",
     "text": [
      "<class 'pandas.core.frame.DataFrame'>\n",
      "RangeIndex: 150 entries, 0 to 149\n",
      "Data columns (total 5 columns):\n",
      " #   Column        Non-Null Count  Dtype  \n",
      "---  ------        --------------  -----  \n",
      " 0   sepal_length  150 non-null    float64\n",
      " 1   sepal_width   150 non-null    float64\n",
      " 2   petal_length  150 non-null    float64\n",
      " 3   petal_width   150 non-null    float64\n",
      " 4   target        150 non-null    object \n",
      "dtypes: float64(4), object(1)\n",
      "memory usage: 6.0+ KB\n"
     ]
    }
   ],
   "source": [
    "iris.info()"
   ]
  },
  {
   "cell_type": "code",
   "execution_count": 36,
   "id": "d6beadab-c062-4c36-adde-d10541de4b21",
   "metadata": {},
   "outputs": [
    {
     "data": {
      "text/plain": [
       "sepal_length    35\n",
       "sepal_width     23\n",
       "petal_length    43\n",
       "petal_width     22\n",
       "target           3\n",
       "dtype: int64"
      ]
     },
     "execution_count": 36,
     "metadata": {},
     "output_type": "execute_result"
    }
   ],
   "source": [
    "iris.nunique()"
   ]
  },
  {
   "cell_type": "code",
   "execution_count": 37,
   "id": "3abe0dab-c187-4804-bd6e-ae470f9d3425",
   "metadata": {},
   "outputs": [],
   "source": [
    "import seaborn as sns"
   ]
  },
  {
   "cell_type": "code",
   "execution_count": 38,
   "id": "dc544784-5762-4b51-abff-a50140112460",
   "metadata": {},
   "outputs": [
    {
     "data": {
      "text/plain": [
       "<AxesSubplot: xlabel='sepal_length', ylabel='count'>"
      ]
     },
     "execution_count": 38,
     "metadata": {},
     "output_type": "execute_result"
    },
    {
     "data": {
      "image/png": "[encoded data removed]",
      "text/plain": [
       "<Figure size 640x480 with 1 Axes>"
      ]
     },
     "metadata": {},
     "output_type": "display_data"
    }
   ],
   "source": [
    "sns.countplot(data=iris, x='sepal_length')"
   ]
  },
  {
   "cell_type": "code",
   "execution_count": 41,
   "id": "eb972029-dd19-4776-9827-9504d60d6685",
   "metadata": {},
   "outputs": [
    {
     "data": {
      "text/plain": [
       "<AxesSubplot: xlabel='sepal_length', ylabel='sepal_width'>"
      ]
     },
     "execution_count": 41,
     "metadata": {},
     "output_type": "execute_result"
    },
    {
     "data": {
      "image/png": "[encoded data removed]",
      "text/plain": [
       "<Figure size 640x480 with 1 Axes>"
      ]
     },
     "metadata": {},
     "output_type": "display_data"
    }
   ],
   "source": [
    "sns.scatterplot(data=iris, x='sepal_length', y='sepal_width', hue='target')"
   ]
  },
  {
   "cell_type": "code",
   "execution_count": 42,
   "id": "783f1621-e455-44f7-8a2a-181aeb1cb25a",
   "metadata": {},
   "outputs": [
    {
     "data": {
      "text/plain": [
       "array(['Iris-setosa', 'Iris-versicolor', 'Iris-virginica'], dtype=object)"
      ]
     },
     "execution_count": 42,
     "metadata": {},
     "output_type": "execute_result"
    }
   ],
   "source": [
    "np.unique(iris.target)"
   ]
  },
  {
   "cell_type": "code",
   "execution_count": 43,
   "id": "a37b641f-5213-423a-b123-250bcb33f6fa",
   "metadata": {},
   "outputs": [
    {
     "data": {
      "text/html": [
       "<div>\n",
       "<style scoped>\n",
       "    .dataframe tbody tr th:only-of-type {\n",
       "        vertical-align: middle;\n",
       "    }\n",
       "\n",
       "    .dataframe tbody tr th {\n",
       "        vertical-align: top;\n",
       "    }\n",
       "\n",
       "    .dataframe thead th {\n",
       "        text-align: right;\n",
       "    }\n",
       "</style>\n",
       "<table border=\"1\" class=\"dataframe\">\n",
       "  <thead>\n",
       "    <tr style=\"text-align: right;\">\n",
       "      <th></th>\n",
       "      <th>Iris-setosa</th>\n",
       "      <th>Iris-versicolor</th>\n",
       "      <th>Iris-virginica</th>\n",
       "    </tr>\n",
       "  </thead>\n",
       "  <tbody>\n",
       "    <tr>\n",
       "      <th>0</th>\n",
       "      <td>1</td>\n",
       "      <td>0</td>\n",
       "      <td>0</td>\n",
       "    </tr>\n",
       "    <tr>\n",
       "      <th>1</th>\n",
       "      <td>1</td>\n",
       "      <td>0</td>\n",
       "      <td>0</td>\n",
       "    </tr>\n",
       "    <tr>\n",
       "      <th>2</th>\n",
       "      <td>1</td>\n",
       "      <td>0</td>\n",
       "      <td>0</td>\n",
       "    </tr>\n",
       "    <tr>\n",
       "      <th>3</th>\n",
       "      <td>1</td>\n",
       "      <td>0</td>\n",
       "      <td>0</td>\n",
       "    </tr>\n",
       "    <tr>\n",
       "      <th>4</th>\n",
       "      <td>1</td>\n",
       "      <td>0</td>\n",
       "      <td>0</td>\n",
       "    </tr>\n",
       "    <tr>\n",
       "      <th>...</th>\n",
       "      <td>...</td>\n",
       "      <td>...</td>\n",
       "      <td>...</td>\n",
       "    </tr>\n",
       "    <tr>\n",
       "      <th>145</th>\n",
       "      <td>0</td>\n",
       "      <td>0</td>\n",
       "      <td>1</td>\n",
       "    </tr>\n",
       "    <tr>\n",
       "      <th>146</th>\n",
       "      <td>0</td>\n",
       "      <td>0</td>\n",
       "      <td>1</td>\n",
       "    </tr>\n",
       "    <tr>\n",
       "      <th>147</th>\n",
       "      <td>0</td>\n",
       "      <td>0</td>\n",
       "      <td>1</td>\n",
       "    </tr>\n",
       "    <tr>\n",
       "      <th>148</th>\n",
       "      <td>0</td>\n",
       "      <td>0</td>\n",
       "      <td>1</td>\n",
       "    </tr>\n",
       "    <tr>\n",
       "      <th>149</th>\n",
       "      <td>0</td>\n",
       "      <td>0</td>\n",
       "      <td>1</td>\n",
       "    </tr>\n",
       "  </tbody>\n",
       "</table>\n",
       "<p>150 rows × 3 columns</p>\n",
       "</div>"
      ],
      "text/plain": [
       "     Iris-setosa  Iris-versicolor  Iris-virginica\n",
       "0              1                0               0\n",
       "1              1                0               0\n",
       "2              1                0               0\n",
       "3              1                0               0\n",
       "4              1                0               0\n",
       "..           ...              ...             ...\n",
       "145            0                0               1\n",
       "146            0                0               1\n",
       "147            0                0               1\n",
       "148            0                0               1\n",
       "149            0                0               1\n",
       "\n",
       "[150 rows x 3 columns]"
      ]
     },
     "execution_count": 43,
     "metadata": {},
     "output_type": "execute_result"
    }
   ],
   "source": [
    "pd.get_dummies(iris.target)"
   ]
  },
  {
   "cell_type": "code",
   "execution_count": 46,
   "id": "d7c234a7-16e4-469f-b2fe-5930cc673608",
   "metadata": {},
   "outputs": [],
   "source": [
    "Y = one_hot_target = pd.get_dummies(iris.target)"
   ]
  },
  {
   "cell_type": "code",
   "execution_count": 45,
   "id": "6b16831e-fd59-43c6-99bf-34dea3731afb",
   "metadata": {},
   "outputs": [
    {
     "data": {
      "text/plain": [
       "array(['Iris-setosa', 'Iris-versicolor', 'Iris-virginica'], dtype=object)"
      ]
     },
     "execution_count": 45,
     "metadata": {},
     "output_type": "execute_result"
    }
   ],
   "source": [
    "np.unique(iris.target)"
   ]
  },
  {
   "cell_type": "code",
   "execution_count": 47,
   "id": "26f10958-db60-4be2-bbc8-9ff65587fc22",
   "metadata": {},
   "outputs": [],
   "source": [
    "X = iris.iloc[:,:-1]"
   ]
  },
  {
   "cell_type": "code",
   "execution_count": 48,
   "id": "e4df205a-937d-40e5-909c-ff301dcbda08",
   "metadata": {},
   "outputs": [
    {
     "data": {
      "text/plain": [
       "((150, 4), (150, 3))"
      ]
     },
     "execution_count": 48,
     "metadata": {},
     "output_type": "execute_result"
    }
   ],
   "source": [
    "X.shape, Y.shape"
   ]
  },
  {
   "cell_type": "code",
   "execution_count": 49,
   "id": "ccf1d775-dc1f-460c-a5d1-43773510a16f",
   "metadata": {},
   "outputs": [],
   "source": [
    "from sklearn.preprocessing import OneHotEncoder, LabelEncoder"
   ]
  },
  {
   "cell_type": "code",
   "execution_count": 53,
   "id": "431e4aac-fc89-4000-904a-ab5703039ade",
   "metadata": {},
   "outputs": [],
   "source": [
    "le = LabelEncoder()\n",
    "Y = le.fit_transform(iris.iloc[:,-1])"
   ]
  },
  {
   "cell_type": "code",
   "execution_count": 51,
   "id": "c08421cd-d166-4fc7-8f20-968c114f191c",
   "metadata": {},
   "outputs": [
    {
     "data": {
      "text/plain": [
       "<150x3 sparse matrix of type '<class 'numpy.float64'>'\n",
       "\twith 150 stored elements in Compressed Sparse Row format>"
      ]
     },
     "execution_count": 51,
     "metadata": {},
     "output_type": "execute_result"
    }
   ],
   "source": [
    "onehot = OneHotEncoder()\n",
    "onehot.fit_transform(iris.iloc[:,-1].to_numpy().reshape(-1,1))"
   ]
  },
  {
   "cell_type": "code",
   "execution_count": 52,
   "id": "363d25e8-7ca6-4457-921a-3084999c0373",
   "metadata": {},
   "outputs": [],
   "source": [
    "from sklearn.model_selection import train_test_split"
   ]
  },
  {
   "cell_type": "code",
   "execution_count": 55,
   "id": "c79ff676-ec68-4d0c-8697-79d877ae126d",
   "metadata": {},
   "outputs": [],
   "source": [
    "x_train, x_test, y_train, y_test = train_test_split(X,Y,test_size=0.2,random_state=0)"
   ]
  },
  {
   "cell_type": "code",
   "execution_count": 56,
   "id": "bdbc1b52-5441-45cb-9eaa-e457a9364c82",
   "metadata": {},
   "outputs": [
    {
     "data": {
      "text/plain": [
       "(120, 4)"
      ]
     },
     "execution_count": 56,
     "metadata": {},
     "output_type": "execute_result"
    }
   ],
   "source": [
    "x_train.shape"
   ]
  },
  {
   "cell_type": "code",
   "execution_count": 57,
   "id": "c6c8295f-fd9b-4a77-87f2-232e4758b572",
   "metadata": {},
   "outputs": [],
   "source": [
    "dense = tf.keras.layers.Dense(3, activation='softmax', input_shape=(4,))\n",
    "model = tf.keras.Sequential(dense)\n",
    "model.compile(loss=tf.keras.losses.sparse_categorical_crossentropy, metrics='acc')"
   ]
  },
  {
   "cell_type": "code",
   "execution_count": 58,
   "id": "ea104e71-ea04-40a2-9eff-95533da24ba0",
   "metadata": {},
   "outputs": [
    {
     "name": "stdout",
     "output_type": "stream",
     "text": [
      "Epoch 1/10\n",
      "4/4 [==============================] - 1s 4ms/step - loss: 5.3544 - acc: 0.3667\n",
      "Epoch 2/10\n",
      "4/4 [==============================] - 0s 4ms/step - loss: 5.2344 - acc: 0.3667\n",
      "Epoch 3/10\n",
      "4/4 [==============================] - 0s 5ms/step - loss: 5.1464 - acc: 0.3667\n",
      "Epoch 4/10\n",
      "4/4 [==============================] - 0s 5ms/step - loss: 5.0687 - acc: 0.3667\n",
      "Epoch 5/10\n",
      "4/4 [==============================] - 0s 4ms/step - loss: 4.9969 - acc: 0.3667\n",
      "Epoch 6/10\n",
      "4/4 [==============================] - 0s 4ms/step - loss: 4.9275 - acc: 0.3667\n",
      "Epoch 7/10\n",
      "4/4 [==============================] - 0s 4ms/step - loss: 4.8602 - acc: 0.3667\n",
      "Epoch 8/10\n",
      "4/4 [==============================] - 0s 4ms/step - loss: 4.7935 - acc: 0.3667\n",
      "Epoch 9/10\n",
      "4/4 [==============================] - 0s 5ms/step - loss: 4.7275 - acc: 0.3667\n",
      "Epoch 10/10\n",
      "4/4 [==============================] - 0s 5ms/step - loss: 4.6609 - acc: 0.3667\n"
     ]
    },
    {
     "data": {
      "text/plain": [
       "<keras.callbacks.History at 0x2a1a5fe15d0>"
      ]
     },
     "execution_count": 58,
     "metadata": {},
     "output_type": "execute_result"
    }
   ],
   "source": [
    "model.fit(x_train, y_train, epochs=10)"
   ]
  },
  {
   "cell_type": "code",
   "execution_count": null,
   "id": "81d40177-1498-4a7b-972c-eee2786e4e9e",
   "metadata": {},
   "outputs": [],
   "source": []
  }
 ],
 "metadata": {
  "kernelspec": {
   "display_name": "Python 3 (ipykernel)",
   "language": "python",
   "name": "python3"
  },
  "language_info": {
   "codemirror_mode": {
    "name": "ipython",
    "version": 3
   },
   "file_extension": ".py",
   "mimetype": "text/x-python",
   "name": "python",
   "nbconvert_exporter": "python",
   "pygments_lexer": "ipython3",
   "version": "3.10.8"
  }
 },
 "nbformat": 4,
 "nbformat_minor": 5
}
