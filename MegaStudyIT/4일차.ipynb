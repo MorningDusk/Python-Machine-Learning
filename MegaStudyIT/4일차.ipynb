{
 "cells": [
  {
   "cell_type": "markdown",
   "id": "a7e80b4a-034e-4e4d-ae5c-00ffd720c233",
   "metadata": {},
   "source": [
    "# 키워드 가변 변수"
   ]
  },
  {
   "cell_type": "markdown",
   "id": "44f541f5-5d8f-4bd5-b777-7129a730000b",
   "metadata": {},
   "source": [
    "### 입력된 값은 딕셔너리형 자료형으로 사용\n",
    "### 반드시 모든 매개변수의 맨 마지막에 선언된다"
   ]
  },
  {
   "cell_type": "code",
   "execution_count": 6,
   "id": "52c99078-0e27-4cdb-bba4-88259bc5089e",
   "metadata": {},
   "outputs": [
    {
     "name": "stdout",
     "output_type": "stream",
     "text": [
      "first value is 1\n",
      "second value is 2\n",
      "third value is 3\n"
     ]
    }
   ],
   "source": [
    "def kwargs_test1(first, second, third):\n",
    "    print(f\"first value is {first}\")\n",
    "    print(f\"second value is {second}\")\n",
    "    print(f\"third value is {third}\")\n",
    "kwargs_test1(first=1, second=2, third=3)"
   ]
  },
  {
   "cell_type": "code",
   "execution_count": 8,
   "id": "fcb344b1-3755-467a-972f-11aefb18e44e",
   "metadata": {},
   "outputs": [
    {
     "name": "stdout",
     "output_type": "stream",
     "text": [
      "{'first': 1, 'second': 2, 'third': 3}\n",
      "first value is  1\n",
      "second value is  2\n",
      "third value is  3\n"
     ]
    }
   ],
   "source": [
    "def kwargs_test2(**args):\n",
    "    print(args)\n",
    "    print(\"first value is \", args['first'])\n",
    "    print(\"second value is \", args['second'])\n",
    "    print(\"third value is \", args['third'])\n",
    "kwargs_test2(first = 1, second = 2, third = 3)"
   ]
  },
  {
   "cell_type": "code",
   "execution_count": 10,
   "id": "f3fefdd2-d174-4aa8-ab43-071b707946e1",
   "metadata": {},
   "outputs": [
    {
     "name": "stdout",
     "output_type": "stream",
     "text": [
      "42\n",
      "1\n",
      "2\n",
      "3\n"
     ]
    }
   ],
   "source": [
    "def kwargs_test3(one, two, *args, **kwargs):\n",
    "    print(one + two + sum(args))\n",
    "    for key, value in kwargs.items():\n",
    "        print(value)\n",
    "kwargs_test3(3,4,5,6,7,8,9,a=1,b=2,c=3)"
   ]
  },
  {
   "cell_type": "markdown",
   "id": "454b7157-719f-4623-8dca-4ae498388659",
   "metadata": {},
   "source": [
    "# 좋은 코드를 작성하는 방법"
   ]
  },
  {
   "cell_type": "markdown",
   "id": "b655f8e5-6424-4996-9692-aba24a4292c3",
   "metadata": {},
   "source": [
    "#### 들여쓰기\n",
    "#### 라인을 적당히 분할 한 라인에 최대 79자 정도만(즉 스크롤이 생기면 안됨)\n",
    "#### 함수의 역할을 명확히 구분할 수 있도록 네이밍\n",
    "#### 함수의 내용은 유사한 기능들 즉 단위기능"
   ]
  },
  {
   "cell_type": "code",
   "execution_count": null,
   "id": "381fd774-6111-4175-a719-735dcce48060",
   "metadata": {},
   "outputs": [],
   "source": [
    "# good\n",
    "def add_variable(x,y):\n",
    "    return x+y\n",
    "\n",
    "# bad\n",
    "def add_variable(x, y):\n",
    "    print(x,y)\n",
    "    return x+y"
   ]
  },
  {
   "cell_type": "code",
   "execution_count": 11,
   "id": "4c0e9947-0067-4144-ad52-6445c8290aa9",
   "metadata": {},
   "outputs": [
    {
     "name": "stdout",
     "output_type": "stream",
     "text": [
      "hello world\n",
      "good morning\n"
     ]
    }
   ],
   "source": [
    "a=5\n",
    "if a > 3:\n",
    "    print('hello world')\n",
    "    print('good morning')\n",
    "if a < 0:\n",
    "    print('hello world')\n",
    "    print('good morning')\n",
    "if a > 0 and a < 3:\n",
    "    print('hello world')\n",
    "    print('good morning')"
   ]
  },
  {
   "cell_type": "code",
   "execution_count": 13,
   "id": "2763be00-54fa-4ada-8679-f9e41c3f5bad",
   "metadata": {},
   "outputs": [
    {
     "name": "stdout",
     "output_type": "stream",
     "text": [
      "hello world\n",
      "good morning\n"
     ]
    }
   ],
   "source": [
    "# 반복되는 코드는 함수로 만들어서 재사용한다\n",
    "def hello():\n",
    "    print('hello world')\n",
    "    print('good morning')\n",
    "a = 5\n",
    "if a > 3: hello()\n",
    "if a < 0: hello()\n",
    "if a > 0 and a < 3: hello()"
   ]
  },
  {
   "cell_type": "markdown",
   "id": "8c30f815-ef85-425e-ab83-2cdc7b5032fb",
   "metadata": {},
   "source": [
    "### 사용자로부터 구구단의 단수를 입력받는다\n",
    "### 받은 단수로 해당 구구단의 단을 출력한다\n",
    "### 이와 별개로 전체 구구단을 출력한다"
   ]
  },
  {
   "cell_type": "code",
   "execution_count": 18,
   "id": "58bedf75-a8e6-4b9a-ac85-ccc27d156b08",
   "metadata": {},
   "outputs": [
    {
     "name": "stdout",
     "output_type": "stream",
     "text": [
      "구구단 단수 입력하세요\n"
     ]
    },
    {
     "name": "stdin",
     "output_type": "stream",
     "text": [
      " 2\n"
     ]
    },
    {
     "name": "stdout",
     "output_type": "stream",
     "text": [
      "2 x 1 = 2\n",
      "2 x 2 = 4\n",
      "2 x 3 = 6\n",
      "2 x 4 = 8\n",
      "2 x 5 = 10\n",
      "2 x 6 = 12\n",
      "2 x 7 = 14\n",
      "2 x 8 = 16\n",
      "2 x 9 = 18\n"
     ]
    }
   ],
   "source": [
    "def mul_sub(dan):\n",
    "    for i in range(1,10):\n",
    "        print(f\"{dan} x {i} = {dan*i}\")\n",
    "\n",
    "print('구구단 단수 입력하세요')\n",
    "dan = int(input())\n",
    "mul_sub(dan)"
   ]
  },
  {
   "cell_type": "code",
   "execution_count": 17,
   "id": "0abc00ac-db05-481d-9635-03fd28a483e3",
   "metadata": {
    "collapsed": true,
    "jupyter": {
     "outputs_hidden": true
    },
    "tags": []
   },
   "outputs": [
    {
     "name": "stdout",
     "output_type": "stream",
     "text": [
      "2 x 1 = 2\n",
      "2 x 2 = 4\n",
      "2 x 3 = 6\n",
      "2 x 4 = 8\n",
      "2 x 5 = 10\n",
      "2 x 6 = 12\n",
      "2 x 7 = 14\n",
      "2 x 8 = 16\n",
      "2 x 9 = 18\n",
      "\n",
      "3 x 1 = 3\n",
      "3 x 2 = 6\n",
      "3 x 3 = 9\n",
      "3 x 4 = 12\n",
      "3 x 5 = 15\n",
      "3 x 6 = 18\n",
      "3 x 7 = 21\n",
      "3 x 8 = 24\n",
      "3 x 9 = 27\n",
      "\n",
      "4 x 1 = 4\n",
      "4 x 2 = 8\n",
      "4 x 3 = 12\n",
      "4 x 4 = 16\n",
      "4 x 5 = 20\n",
      "4 x 6 = 24\n",
      "4 x 7 = 28\n",
      "4 x 8 = 32\n",
      "4 x 9 = 36\n",
      "\n",
      "5 x 1 = 5\n",
      "5 x 2 = 10\n",
      "5 x 3 = 15\n",
      "5 x 4 = 20\n",
      "5 x 5 = 25\n",
      "5 x 6 = 30\n",
      "5 x 7 = 35\n",
      "5 x 8 = 40\n",
      "5 x 9 = 45\n",
      "\n",
      "6 x 1 = 6\n",
      "6 x 2 = 12\n",
      "6 x 3 = 18\n",
      "6 x 4 = 24\n",
      "6 x 5 = 30\n",
      "6 x 6 = 36\n",
      "6 x 7 = 42\n",
      "6 x 8 = 48\n",
      "6 x 9 = 54\n",
      "\n",
      "7 x 1 = 7\n",
      "7 x 2 = 14\n",
      "7 x 3 = 21\n",
      "7 x 4 = 28\n",
      "7 x 5 = 35\n",
      "7 x 6 = 42\n",
      "7 x 7 = 49\n",
      "7 x 8 = 56\n",
      "7 x 9 = 63\n",
      "\n",
      "8 x 1 = 8\n",
      "8 x 2 = 16\n",
      "8 x 3 = 24\n",
      "8 x 4 = 32\n",
      "8 x 5 = 40\n",
      "8 x 6 = 48\n",
      "8 x 7 = 56\n",
      "8 x 8 = 64\n",
      "8 x 9 = 72\n",
      "\n",
      "9 x 1 = 9\n",
      "9 x 2 = 18\n",
      "9 x 3 = 27\n",
      "9 x 4 = 36\n",
      "9 x 5 = 45\n",
      "9 x 6 = 54\n",
      "9 x 7 = 63\n",
      "9 x 8 = 72\n",
      "9 x 9 = 81\n",
      "\n"
     ]
    }
   ],
   "source": [
    "# 전체 구구단 출력\n",
    "for i in range(2, 10):\n",
    "    for j in range(1, 10):\n",
    "        print(f\"{i} x {j} = {i*j}\")\n",
    "    print()"
   ]
  },
  {
   "cell_type": "code",
   "execution_count": 20,
   "id": "2b5a6fdf-ac4f-4d23-b62e-7d51f7b75716",
   "metadata": {},
   "outputs": [],
   "source": [
    "# 복잡한 로직을 단순화할 때 사용\n",
    "import math\n",
    "a, b, c = 1, -2, 1\n",
    "result = (-b + math.sqrt(b**2 - (4 * a * c))) / (2 * a)"
   ]
  },
  {
   "cell_type": "code",
   "execution_count": 21,
   "id": "576ff7aa-1926-4110-963b-72a0e828ab7c",
   "metadata": {},
   "outputs": [],
   "source": [
    "def get_result_quadratic_equation(a, b, c):\n",
    "    return (-b + math.sqrt(b**2 - (4 * a * c))) / (2 * a)"
   ]
  },
  {
   "cell_type": "markdown",
   "id": "515b29bb-8953-450a-b82b-093ae9f8b7a2",
   "metadata": {},
   "source": [
    "# 문자열"
   ]
  },
  {
   "cell_type": "markdown",
   "id": "b050f3f5-018b-4886-97b0-f70aece57257",
   "metadata": {},
   "source": [
    "시퀀스 자료형"
   ]
  },
  {
   "cell_type": "code",
   "execution_count": 22,
   "id": "e5c46ed1-b5e2-4734-9060-fe17d4de2a5c",
   "metadata": {},
   "outputs": [],
   "source": [
    "a = \"abcdef\"  # 각 단어들로 이루어진 집합"
   ]
  },
  {
   "cell_type": "code",
   "execution_count": 24,
   "id": "020a50ae-dbbc-4213-a865-2e91b02bef93",
   "metadata": {},
   "outputs": [
    {
     "data": {
      "text/plain": [
       "(50, 51, 52)"
      ]
     },
     "execution_count": 24,
     "metadata": {},
     "output_type": "execute_result"
    }
   ],
   "source": [
    "import sys\n",
    "sys.getsizeof(\"a\"), sys.getsizeof(\"ab\"), sys.getsizeof(\"abc\")"
   ]
  },
  {
   "cell_type": "markdown",
   "id": "c8e3ecbe-6c24-4be1-92df-02384fbd7c87",
   "metadata": {},
   "source": [
    "### 문자열을 처리하기 위한 이진수로 변환되는 표준 규칙 ... 인코딩 ASCII, CP949, MS949, UTF-8"
   ]
  },
  {
   "cell_type": "code",
   "execution_count": 25,
   "id": "fdd0b9d6-22e2-445d-8c44-3d81d727808b",
   "metadata": {},
   "outputs": [
    {
     "name": "stdout",
     "output_type": "stream",
     "text": [
      "abcdef\n",
      "a\n",
      "f\n",
      "abcde\n",
      "def\n"
     ]
    }
   ],
   "source": [
    "print(a)\n",
    "print(a[0])\n",
    "print(a[-1])\n",
    "print(a[:5])\n",
    "print(a[-3:])"
   ]
  },
  {
   "cell_type": "code",
   "execution_count": 26,
   "id": "0a34355c-3e57-4b6e-a8d3-af13cce1e5f7",
   "metadata": {},
   "outputs": [
    {
     "name": "stdout",
     "output_type": "stream",
     "text": [
      "fed\n"
     ]
    }
   ],
   "source": [
    "print(a[-1:-4:-1])"
   ]
  },
  {
   "cell_type": "code",
   "execution_count": 28,
   "id": "789371db-562a-48b9-8d9d-ce59c96d0ba4",
   "metadata": {},
   "outputs": [
    {
     "name": "stdout",
     "output_type": "stream",
     "text": [
      "abclmn\n"
     ]
    }
   ],
   "source": [
    "a = 'abcdefghijklmn'\n",
    "# abclmn\n",
    "print(a[:3] + a[-3:])"
   ]
  },
  {
   "cell_type": "code",
   "execution_count": 31,
   "id": "045ef366-a6e4-44f5-bc04-4402dc562bdb",
   "metadata": {},
   "outputs": [
    {
     "name": "stdout",
     "output_type": "stream",
     "text": [
      "find\n"
     ]
    }
   ],
   "source": [
    "# 해당 문자열에 i가 포함되어 있는지 확인\n",
    "if 'a' in a:\n",
    "    print(\"find\")\n",
    "else:\n",
    "    print(\"not find\")"
   ]
  },
  {
   "cell_type": "markdown",
   "id": "8b86360d-c53c-4323-9b32-3de577a9dc31",
   "metadata": {},
   "source": [
    "### 1. 변수 a가 가지고 있는 문자열 중에 e, f 둘 중에 하나라도 들어 있으면 success를 출력\n",
    "### 2. 변수 a가 가지고 있는 문자열 중에 e, f 둘다 들어 있으면 success를 출력"
   ]
  },
  {
   "cell_type": "code",
   "execution_count": 32,
   "id": "3d50ec56-fe34-4df7-bc7e-e94e749afb80",
   "metadata": {},
   "outputs": [
    {
     "name": "stdout",
     "output_type": "stream",
     "text": [
      "success\n"
     ]
    }
   ],
   "source": [
    "if 'a' or 'f' in a:\n",
    "    print('success')\n",
    "else:\n",
    "    print('unsuccess')"
   ]
  },
  {
   "cell_type": "code",
   "execution_count": 33,
   "id": "ceb96fcd-5504-4616-ba19-066101d78961",
   "metadata": {},
   "outputs": [
    {
     "name": "stdout",
     "output_type": "stream",
     "text": [
      "success\n"
     ]
    }
   ],
   "source": [
    "if 'a' and 'f' in a:\n",
    "    print('success')\n",
    "else:\n",
    "    print('unsuccess')"
   ]
  },
  {
   "cell_type": "code",
   "execution_count": 36,
   "id": "0b2fb2ba-11cc-4fec-918b-ac9597558238",
   "metadata": {},
   "outputs": [
    {
     "name": "stdout",
     "output_type": "stream",
     "text": [
      "success\n"
     ]
    },
    {
     "data": {
      "text/plain": [
       "5"
      ]
     },
     "execution_count": 36,
     "metadata": {},
     "output_type": "execute_result"
    }
   ],
   "source": [
    "#1\n",
    "count = 0\n",
    "for i in a:\n",
    "    count += 1\n",
    "    if i in ['e', 'f']:\n",
    "        print('success')\n",
    "        break\n",
    "count"
   ]
  },
  {
   "cell_type": "code",
   "execution_count": 38,
   "id": "e916a6d5-2130-4f44-b52a-fa23ab9196be",
   "metadata": {},
   "outputs": [
    {
     "name": "stdout",
     "output_type": "stream",
     "text": [
      "success\n"
     ]
    }
   ],
   "source": [
    "#2\n",
    "count = 0\n",
    "for i in a:\n",
    "    if i == 'e':\n",
    "        count += 1\n",
    "    elif i == 'f':\n",
    "        count += 1\n",
    "if count >= 2:\n",
    "    print('success')"
   ]
  },
  {
   "cell_type": "code",
   "execution_count": 40,
   "id": "9afd1230-8b36-48d6-b8ed-48455a2893ad",
   "metadata": {},
   "outputs": [
    {
     "data": {
      "text/plain": [
       "'abc abc defk'"
      ]
     },
     "execution_count": 40,
     "metadata": {},
     "output_type": "execute_result"
    }
   ],
   "source": [
    "# upper() / lower()\n",
    "title = \"ABC abc DEFK\"\n",
    "title.upper()\n",
    "title.lower()"
   ]
  },
  {
   "cell_type": "code",
   "execution_count": 44,
   "id": "9b09a1a6-6fb1-4a27-8b3d-8497303790ef",
   "metadata": {},
   "outputs": [
    {
     "data": {
      "text/plain": [
       "('Abc Def Ahij', 'Abc def ahij')"
      ]
     },
     "execution_count": 44,
     "metadata": {},
     "output_type": "execute_result"
    }
   ],
   "source": [
    "# 각 단어의 첫 글자만 대문자로 변환\n",
    "title2 = 'abc def ahij'\n",
    "title2.title(), title2.capitalize()"
   ]
  },
  {
   "cell_type": "code",
   "execution_count": 45,
   "id": "4419c553-76b8-45ba-97fe-ab5b3a473381",
   "metadata": {},
   "outputs": [
    {
     "data": {
      "text/plain": [
       "2"
      ]
     },
     "execution_count": 45,
     "metadata": {},
     "output_type": "execute_result"
    }
   ],
   "source": [
    "title2.count('a')"
   ]
  },
  {
   "cell_type": "code",
   "execution_count": 46,
   "id": "44e807da-5bc5-46f4-8d1c-dbaa42a96cd8",
   "metadata": {},
   "outputs": [
    {
     "data": {
      "text/plain": [
       "False"
      ]
     },
     "execution_count": 46,
     "metadata": {},
     "output_type": "execute_result"
    }
   ],
   "source": [
    "title2.isdigit()"
   ]
  },
  {
   "cell_type": "code",
   "execution_count": 48,
   "id": "a3337c27-83ea-4f98-a63d-a7c2ed488a35",
   "metadata": {},
   "outputs": [
    {
     "data": {
      "text/plain": [
       "True"
      ]
     },
     "execution_count": 48,
     "metadata": {},
     "output_type": "execute_result"
    }
   ],
   "source": [
    "title2 = 'a123'\n",
    "title2.startswith('a')"
   ]
  },
  {
   "cell_type": "code",
   "execution_count": 56,
   "id": "dce0a272-77d7-431c-939f-167011a1b180",
   "metadata": {},
   "outputs": [
    {
     "name": "stdout",
     "output_type": "stream",
     "text": [
      "찾고자 하는 단어를 입력하세요\n"
     ]
    },
    {
     "name": "stdin",
     "output_type": "stream",
     "text": [
      " pie\n"
     ]
    },
    {
     "name": "stdout",
     "output_type": "stream",
     "text": [
      "찾은 단어의 개수: 7\n"
     ]
    }
   ],
   "source": [
    "# 단어 카운팅\n",
    "# 메모장에 뉴스를 하나 저장해서\n",
    "print('찾고자 하는 단어를 입력하세요')\n",
    "find_word = input()\n",
    "with open('news.txt', 'r', encoding = 'utf-8') as f:\n",
    "    news_doc = f.readlines()\n",
    "    for word in news_doc:\n",
    "        word_count += word.count(find_word)\n",
    "    print(f\"찾은 단어의 개수: {word_count}\")"
   ]
  },
  {
   "cell_type": "code",
   "execution_count": 57,
   "id": "144745cf-31e3-4172-8147-1dc7def9ed97",
   "metadata": {},
   "outputs": [
    {
     "name": "stdout",
     "output_type": "stream",
     "text": [
      "1 2 3\n"
     ]
    }
   ],
   "source": [
    "print(1,2,3)"
   ]
  },
  {
   "cell_type": "code",
   "execution_count": 58,
   "id": "4841a401-c379-49ef-a70f-8f81155fb52f",
   "metadata": {},
   "outputs": [
    {
     "name": "stdout",
     "output_type": "stream",
     "text": [
      "a b\n"
     ]
    }
   ],
   "source": [
    "print('a' + ' ' + 'b')"
   ]
  },
  {
   "cell_type": "code",
   "execution_count": 59,
   "id": "8841d9a1-76b9-45e0-b66b-3b9c27cc5fde",
   "metadata": {},
   "outputs": [
    {
     "name": "stdout",
     "output_type": "stream",
     "text": [
      "1 2 3\n"
     ]
    }
   ],
   "source": [
    "print('%d %d %d' %(1,2,3))"
   ]
  },
  {
   "cell_type": "code",
   "execution_count": 60,
   "id": "fe84121f-4a9b-4b84-a3ac-aaf4a27a8053",
   "metadata": {},
   "outputs": [
    {
     "name": "stdout",
     "output_type": "stream",
     "text": [
      "a 2 3\n"
     ]
    }
   ],
   "source": [
    "print(\"{} {} {}\".format('a', 2,3))"
   ]
  },
  {
   "cell_type": "code",
   "execution_count": 61,
   "id": "b6bd05df-ce26-4113-b550-2004fabd3a0a",
   "metadata": {},
   "outputs": [
    {
     "name": "stdout",
     "output_type": "stream",
     "text": [
      "10 20 30\n"
     ]
    }
   ],
   "source": [
    "print(f\"{10} {20} {30}\")"
   ]
  },
  {
   "cell_type": "code",
   "execution_count": 63,
   "id": "afd74da8-e6c2-43b3-b92a-f96c9685eb2a",
   "metadata": {},
   "outputs": [
    {
     "name": "stdout",
     "output_type": "stream",
     "text": [
      "12.56489을 소수 2자리에서 반올림하면 12.56\n"
     ]
    }
   ],
   "source": [
    "print(f\"12.56489을 소수 2자리에서 반올림하면 {12.56489:.2f}\")"
   ]
  },
  {
   "cell_type": "markdown",
   "id": "cd631fd4-c2da-4af0-8cb0-29b505a06512",
   "metadata": {},
   "source": [
    "# 자료구조\n",
    "### 스택\n",
    "### 큐\n",
    "### 튜플\n",
    "### 세트\n",
    "### 딕셔너리\n",
    "### collection 모듈"
   ]
  },
  {
   "cell_type": "markdown",
   "id": "e6e9c847-2797-4b0c-89b1-73b16c3dcab9",
   "metadata": {},
   "source": [
    "### 스택 : first in last out FILO\n",
    "### 파이썬에서는 리스트를 사용해서 스택을 구현"
   ]
  },
  {
   "cell_type": "code",
   "execution_count": 64,
   "id": "a48262c2-aa73-4842-9e37-19d93c445e56",
   "metadata": {},
   "outputs": [
    {
     "data": {
      "text/plain": [
       "[1, 2, 3, 4, 5, 10]"
      ]
     },
     "execution_count": 64,
     "metadata": {},
     "output_type": "execute_result"
    }
   ],
   "source": [
    "temp = [1, 2, 3, 4, 5]\n",
    "temp.append(10)\n",
    "temp"
   ]
  },
  {
   "cell_type": "code",
   "execution_count": 65,
   "id": "02f0c776-cc5d-4506-85c4-aa2fe2eac584",
   "metadata": {},
   "outputs": [
    {
     "data": {
      "text/plain": [
       "[1, 2, 3, 4, 5, 10, 20]"
      ]
     },
     "execution_count": 65,
     "metadata": {},
     "output_type": "execute_result"
    }
   ],
   "source": [
    "temp.append(20)\n",
    "temp"
   ]
  },
  {
   "cell_type": "markdown",
   "id": "4dc02142-08a0-45ed-bfd5-2e19321cc03f",
   "metadata": {
    "tags": []
   },
   "source": [
    "### 영문 단어를 입력받아서 거꾸로 출력 - 스택을 이용해서 구현"
   ]
  },
  {
   "cell_type": "code",
   "execution_count": 72,
   "id": "8d61d809-8b33-4eb7-972c-416e081d9022",
   "metadata": {},
   "outputs": [
    {
     "name": "stdin",
     "output_type": "stream",
     "text": [
      "영문단어를 입력하세요 hello\n"
     ]
    },
    {
     "name": "stdout",
     "output_type": "stream",
     "text": [
      "o\n",
      "l\n",
      "l\n",
      "e\n",
      "h\n"
     ]
    }
   ],
   "source": [
    "user_str = input(\"영문단어를 입력하세요\")\n",
    "user_str = list(user_str)\n",
    "# print(user_str[::-1])\n",
    "for i in range(len(user_str)):\n",
    "    print(user_str.pop())"
   ]
  },
  {
   "cell_type": "code",
   "execution_count": 73,
   "id": "41363be1-7ca5-41e4-8dac-7706516feca7",
   "metadata": {},
   "outputs": [
    {
     "name": "stdin",
     "output_type": "stream",
     "text": [
      "영문단어를 입력하세요 hello\n"
     ]
    },
    {
     "name": "stdout",
     "output_type": "stream",
     "text": [
      "olleh\n"
     ]
    }
   ],
   "source": [
    "user_str = input(\"영문단어를 입력하세요\")\n",
    "user_str = list(user_str)\n",
    "# print(user_str[::-1])\n",
    "result = \"\"\n",
    "for i in range(len(user_str)):\n",
    "    result += user_str.pop()\n",
    "print(result)"
   ]
  },
  {
   "cell_type": "code",
   "execution_count": 74,
   "id": "096233c1-2d1f-4216-a998-167f48c4d6d8",
   "metadata": {},
   "outputs": [
    {
     "data": {
      "text/plain": [
       "[1, 2, 3, 4, 5, 10, 20]"
      ]
     },
     "execution_count": 74,
     "metadata": {},
     "output_type": "execute_result"
    }
   ],
   "source": [
    "temp = [1,2,3,4,5]\n",
    "temp.append(10)\n",
    "temp.append(20)\n",
    "temp"
   ]
  },
  {
   "cell_type": "code",
   "execution_count": 75,
   "id": "568f84f7-1ce0-4924-879d-a8ea11c7cd82",
   "metadata": {},
   "outputs": [
    {
     "data": {
      "text/plain": [
       "2"
      ]
     },
     "execution_count": 75,
     "metadata": {},
     "output_type": "execute_result"
    }
   ],
   "source": [
    "temp.pop(0)\n",
    "temp.pop(0)"
   ]
  },
  {
   "cell_type": "code",
   "execution_count": 76,
   "id": "6dfc65d7-72f8-4395-a5f9-1125b3187ccb",
   "metadata": {},
   "outputs": [
    {
     "data": {
      "text/plain": [
       "[3, 4, 5, 10, 20]"
      ]
     },
     "execution_count": 76,
     "metadata": {},
     "output_type": "execute_result"
    }
   ],
   "source": [
    "temp"
   ]
  },
  {
   "cell_type": "markdown",
   "id": "230967da-c726-4666-b43b-f4dc9b31a3e1",
   "metadata": {},
   "source": [
    "# 튜플"
   ]
  },
  {
   "cell_type": "code",
   "execution_count": 77,
   "id": "5a2d95ad-597f-4b8c-b892-e8f1141d4365",
   "metadata": {},
   "outputs": [],
   "source": [
    "list_1 = [1,2,3]\n",
    "tuple_1 = (1,2,3)"
   ]
  },
  {
   "cell_type": "code",
   "execution_count": 78,
   "id": "d2e0ee3b-3374-4932-8018-581a7b5264cf",
   "metadata": {},
   "outputs": [
    {
     "data": {
      "text/plain": [
       "(1, 2, 3)"
      ]
     },
     "execution_count": 78,
     "metadata": {},
     "output_type": "execute_result"
    }
   ],
   "source": [
    "list_1\n",
    "tuple_1"
   ]
  },
  {
   "cell_type": "code",
   "execution_count": 79,
   "id": "a412ce82-378e-4d89-9ace-05ea81c49eca",
   "metadata": {},
   "outputs": [
    {
     "data": {
      "text/plain": [
       "[1, 2, 3, 1, 2, 3]"
      ]
     },
     "execution_count": 79,
     "metadata": {},
     "output_type": "execute_result"
    }
   ],
   "source": [
    "list_1 + list_1"
   ]
  },
  {
   "cell_type": "code",
   "execution_count": 80,
   "id": "709c1d7b-155d-49c3-9d32-54c7454f95d0",
   "metadata": {},
   "outputs": [
    {
     "data": {
      "text/plain": [
       "(1, 2, 3, 1, 2, 3)"
      ]
     },
     "execution_count": 80,
     "metadata": {},
     "output_type": "execute_result"
    }
   ],
   "source": [
    "tuple_1 + tuple_1"
   ]
  },
  {
   "cell_type": "code",
   "execution_count": 81,
   "id": "c5e9a91c-220d-4558-9419-751bad4f0453",
   "metadata": {},
   "outputs": [],
   "source": [
    "def constDataSet():\n",
    "    a = [1,2,3]\n",
    "    b = [10, 20, 30]\n",
    "    return (a,b)"
   ]
  },
  {
   "cell_type": "code",
   "execution_count": 83,
   "id": "02bfae67-ec51-460b-b6b7-5666c58ddcee",
   "metadata": {},
   "outputs": [
    {
     "data": {
      "text/plain": [
       "([1, 2, 3], [10, 20, 30])"
      ]
     },
     "execution_count": 83,
     "metadata": {},
     "output_type": "execute_result"
    }
   ],
   "source": [
    "result = constDataSet()\n",
    "result"
   ]
  },
  {
   "cell_type": "markdown",
   "id": "7dcee3e5-a893-49ee-949a-8258d83f0022",
   "metadata": {},
   "source": [
    "# Set"
   ]
  },
  {
   "cell_type": "markdown",
   "id": "68db0320-e6ad-4cf3-a28c-e7f51653190e",
   "metadata": {},
   "source": [
    "### 중복을 허용하지 않는다\n",
    "### 내부에 중복데이터를 찾아서 제거하는 로직\n",
    "### set에 입력한 데이터는 순서가 보장되지 않는다"
   ]
  },
  {
   "cell_type": "code",
   "execution_count": 86,
   "id": "4abcc5dd-630f-4633-b615-0377787bdb79",
   "metadata": {},
   "outputs": [
    {
     "data": {
      "text/plain": [
       "{1, 2, 3, 4, 5, 6, 7, 8, 9}"
      ]
     },
     "execution_count": 86,
     "metadata": {},
     "output_type": "execute_result"
    }
   ],
   "source": [
    "s = set([1,5,1,4,5,6,7,5,6,4,2,3,1,5,9,8,5,1,3,6])\n",
    "s"
   ]
  },
  {
   "cell_type": "code",
   "execution_count": 90,
   "id": "822c1016-f804-440c-a70f-693d8db987f9",
   "metadata": {},
   "outputs": [
    {
     "data": {
      "text/plain": [
       "{1, 2, 3, 4, 5, 6, 7, 8, 9}"
      ]
     },
     "execution_count": 90,
     "metadata": {},
     "output_type": "execute_result"
    }
   ],
   "source": [
    "s.add(1)\n",
    "s.remove(1)\n",
    "s.update([1,4,5,6,7])\n",
    "s"
   ]
  },
  {
   "cell_type": "code",
   "execution_count": 91,
   "id": "ae85c07e-24d1-4826-91ec-59ebca2ec967",
   "metadata": {},
   "outputs": [
    {
     "data": {
      "text/plain": [
       "set()"
      ]
     },
     "execution_count": 91,
     "metadata": {},
     "output_type": "execute_result"
    }
   ],
   "source": [
    "s.clear()\n",
    "s"
   ]
  },
  {
   "cell_type": "markdown",
   "id": "6d9c5818-e687-4d76-a857-87365e844e39",
   "metadata": {},
   "source": [
    "# 교집합 / 합집합 / 차집합 구현 - SET"
   ]
  }
 ],
 "metadata": {
  "kernelspec": {
   "display_name": "Python 3 (ipykernel)",
   "language": "python",
   "name": "python3"
  },
  "language_info": {
   "codemirror_mode": {
    "name": "ipython",
    "version": 3
   },
   "file_extension": ".py",
   "mimetype": "text/x-python",
   "name": "python",
   "nbconvert_exporter": "python",
   "pygments_lexer": "ipython3",
   "version": "3.10.8"
  }
 },
 "nbformat": 4,
 "nbformat_minor": 5
}
