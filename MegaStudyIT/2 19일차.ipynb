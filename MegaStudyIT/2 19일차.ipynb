{
 "cells": [
  {
   "cell_type": "markdown",
   "id": "7a4d41da-ecac-45e3-9dd1-e03e0f4aa442",
   "metadata": {},
   "source": [
    "### 정형데이터: 우리가 지금까지 다른 데이터 숫자로 되어 있는 계산할 수 있는 데이터\n",
    "### 비정형데이터: 이미지, 사운드, 텍스트\n",
    "### 정형데이터를 가지고 가장 뛰어난 성능을 내는 머신러닝 알고리즘: 앙상블\n",
    "### 랜덤 포레스트: 앙상블의 대표주자\n",
    "### tree: random data\n",
    "### 부트스트랩 샘플: 데이터세트에서 한개식 랜덤하게 선택해서 훈련데이터셋을 만드는데 중복이 될 수 있고 훈련세트는 데이터세트와 같게 만든다"
   ]
  },
  {
   "cell_type": "code",
   "execution_count": 2,
   "id": "8643d894-afc2-4791-8a1b-932694d2a029",
   "metadata": {},
   "outputs": [],
   "source": [
    "import numpy as np\n",
    "import pandas as pd\n",
    "from sklearn.model_selection import train_test_split"
   ]
  },
  {
   "cell_type": "code",
   "execution_count": 3,
   "id": "92e2f4c5-4821-4be2-aeda-b4b056dc879c",
   "metadata": {},
   "outputs": [
    {
     "data": {
      "text/html": [
       "<div>\n",
       "<style scoped>\n",
       "    .dataframe tbody tr th:only-of-type {\n",
       "        vertical-align: middle;\n",
       "    }\n",
       "\n",
       "    .dataframe tbody tr th {\n",
       "        vertical-align: top;\n",
       "    }\n",
       "\n",
       "    .dataframe thead th {\n",
       "        text-align: right;\n",
       "    }\n",
       "</style>\n",
       "<table border=\"1\" class=\"dataframe\">\n",
       "  <thead>\n",
       "    <tr style=\"text-align: right;\">\n",
       "      <th></th>\n",
       "      <th>alcohol</th>\n",
       "      <th>sugar</th>\n",
       "      <th>pH</th>\n",
       "      <th>class</th>\n",
       "    </tr>\n",
       "  </thead>\n",
       "  <tbody>\n",
       "    <tr>\n",
       "      <th>0</th>\n",
       "      <td>9.4</td>\n",
       "      <td>1.9</td>\n",
       "      <td>3.51</td>\n",
       "      <td>0.0</td>\n",
       "    </tr>\n",
       "    <tr>\n",
       "      <th>1</th>\n",
       "      <td>9.8</td>\n",
       "      <td>2.6</td>\n",
       "      <td>3.20</td>\n",
       "      <td>0.0</td>\n",
       "    </tr>\n",
       "    <tr>\n",
       "      <th>2</th>\n",
       "      <td>9.8</td>\n",
       "      <td>2.3</td>\n",
       "      <td>3.26</td>\n",
       "      <td>0.0</td>\n",
       "    </tr>\n",
       "    <tr>\n",
       "      <th>3</th>\n",
       "      <td>9.8</td>\n",
       "      <td>1.9</td>\n",
       "      <td>3.16</td>\n",
       "      <td>0.0</td>\n",
       "    </tr>\n",
       "    <tr>\n",
       "      <th>4</th>\n",
       "      <td>9.4</td>\n",
       "      <td>1.9</td>\n",
       "      <td>3.51</td>\n",
       "      <td>0.0</td>\n",
       "    </tr>\n",
       "  </tbody>\n",
       "</table>\n",
       "</div>"
      ],
      "text/plain": [
       "   alcohol  sugar    pH  class\n",
       "0      9.4    1.9  3.51    0.0\n",
       "1      9.8    2.6  3.20    0.0\n",
       "2      9.8    2.3  3.26    0.0\n",
       "3      9.8    1.9  3.16    0.0\n",
       "4      9.4    1.9  3.51    0.0"
      ]
     },
     "execution_count": 3,
     "metadata": {},
     "output_type": "execute_result"
    }
   ],
   "source": [
    "url = 'https://raw.githubusercontent.com/leekyuyoung20221226/python/main/data/wine_data'\n",
    "wine = pd.read_csv(url)\n",
    "wine.head()"
   ]
  },
  {
   "cell_type": "code",
   "execution_count": 4,
   "id": "35c7f81f-489a-4c47-a435-4f9ebee99b08",
   "metadata": {},
   "outputs": [],
   "source": [
    "X = wine.iloc[:, :-1].to_numpy()\n",
    "Y = wine.iloc[:, -1].to_numpy()"
   ]
  },
  {
   "cell_type": "code",
   "execution_count": 5,
   "id": "47b0a1f7-eb1a-47d6-b9b4-ab9d68b49776",
   "metadata": {},
   "outputs": [
    {
     "data": {
      "text/plain": [
       "((6497, 3), (6497,))"
      ]
     },
     "execution_count": 5,
     "metadata": {},
     "output_type": "execute_result"
    }
   ],
   "source": [
    "X.shape, Y.shape"
   ]
  },
  {
   "cell_type": "code",
   "execution_count": 6,
   "id": "0e9b3a32-4af8-4cd0-bb2f-6dd0fa60188f",
   "metadata": {},
   "outputs": [],
   "source": [
    "x_train, x_test, y_train, y_test = train_test_split(X,Y, test_size=0.2, random_state=0)"
   ]
  },
  {
   "cell_type": "code",
   "execution_count": 7,
   "id": "2260d7c5-9a09-4148-a151-5eb346c44e78",
   "metadata": {},
   "outputs": [],
   "source": [
    "from sklearn.model_selection import cross_validate\n",
    "from sklearn.ensemble import RandomForestClassifier\n",
    "rf = RandomForestClassifier(n_jobs=-1, random_state=0)"
   ]
  },
  {
   "cell_type": "code",
   "execution_count": 8,
   "id": "61593273-402e-4041-a967-68c22f5ae5d7",
   "metadata": {},
   "outputs": [],
   "source": [
    "scores = cross_validate(rf,x_train,y_train, return_train_score=True)"
   ]
  },
  {
   "cell_type": "code",
   "execution_count": 9,
   "id": "950fb8a0-4af3-4a34-b3ec-5d47699a6216",
   "metadata": {},
   "outputs": [
    {
     "data": {
      "text/plain": [
       "{'fit_time': array([6.17598319, 0.13730788, 0.1356461 , 0.14278889, 0.15642095]),\n",
       " 'score_time': array([0.03966546, 0.03094363, 0.02910733, 0.0291357 , 0.03311038]),\n",
       " 'test_score': array([0.88269231, 0.86826923, 0.88739172, 0.89027911, 0.88931665]),\n",
       " 'train_score': array([0.99807554, 0.99831609, 0.9973545 , 0.9973545 , 0.9978355 ])}"
      ]
     },
     "execution_count": 9,
     "metadata": {},
     "output_type": "execute_result"
    }
   ],
   "source": [
    "scores"
   ]
  },
  {
   "cell_type": "code",
   "execution_count": 10,
   "id": "ba486748-90ef-40a6-af5c-5b640a3cf7e6",
   "metadata": {},
   "outputs": [
    {
     "data": {
      "text/plain": [
       "(0.9977872242245589, 0.883589805286148)"
      ]
     },
     "execution_count": 10,
     "metadata": {},
     "output_type": "execute_result"
    }
   ],
   "source": [
    "np.mean(scores['train_score']), np.mean(scores['test_score'])"
   ]
  },
  {
   "cell_type": "code",
   "execution_count": 11,
   "id": "630d12ea-1f7b-4dc4-b004-370a9588dd94",
   "metadata": {},
   "outputs": [
    {
     "data": {
      "text/plain": [
       "(array([0.23029487, 0.5028204 , 0.26688473]),\n",
       " Index(['alcohol', 'sugar', 'pH'], dtype='object'))"
      ]
     },
     "execution_count": 11,
     "metadata": {},
     "output_type": "execute_result"
    }
   ],
   "source": [
    "# 특성 중요도\n",
    "rf.fit(x_train, y_train)\n",
    "rf.feature_importances_, wine.columns[:-1]"
   ]
  },
  {
   "cell_type": "code",
   "execution_count": 12,
   "id": "8fdac012-27f1-403e-8f38-d1f00fba8017",
   "metadata": {},
   "outputs": [
    {
     "data": {
      "text/plain": [
       "0.8926303636713488"
      ]
     },
     "execution_count": 12,
     "metadata": {},
     "output_type": "execute_result"
    }
   ],
   "source": [
    "# 랜덤포레스트 vs 디시전 트리\n",
    "# 랜덤하게 피처(특성, 컬럼)를 선택하기때문에 한쪽에 쏠리는 현상을 방지한다 좀더 많은 특성에 기회를 부여\n",
    "# 자체적으로 모델을 평가하는 기능, 중복을 허용해서 부트스트랩 샘플을 만들면 \n",
    "rf = RandomForestClassifier(n_jobs=-1, random_state=0, oob_score=True)\n",
    "rf.fit(x_train, y_train)\n",
    "rf.oob_score_"
   ]
  },
  {
   "cell_type": "markdown",
   "id": "c6979ec9-a0b2-4c36-a95c-85c1343ee71e",
   "metadata": {},
   "source": [
    "# 엑스트라 트리\n",
    "    100개의 트리를 훈련\n",
    "    전체특징중에 일부를 랜덤하게 선택해서 노드를 분할하는데 사용\n",
    "    부트스트랩 샘플을 사용하지 않는다 - 전체 데이터를 사용, 노드분할을 할때 무작위(최적의 노드를 찾는 것이 아니다)\n",
    "    특성을 무작위로 분할, 성능은 낮아지지만 과적합을 예방할 수 있음"
   ]
  },
  {
   "cell_type": "code",
   "execution_count": 13,
   "id": "d8e5200d-72a2-4069-a378-748671d4cac0",
   "metadata": {},
   "outputs": [
    {
     "data": {
      "text/plain": [
       "(0.9978834474624707, 0.880317428000296)"
      ]
     },
     "execution_count": 13,
     "metadata": {},
     "output_type": "execute_result"
    }
   ],
   "source": [
    "from sklearn.ensemble import ExtraTreesClassifier\n",
    "et = ExtraTreesClassifier(n_jobs=-1, random_state=0)\n",
    "scores = cross_validate(et, x_train, y_train, return_train_score=True)\n",
    "np.mean(scores['train_score']), np.mean(scores['test_score'])"
   ]
  },
  {
   "cell_type": "code",
   "execution_count": 14,
   "id": "cbf13b62-d340-40d9-bfc5-f2fdb97a89fd",
   "metadata": {},
   "outputs": [
    {
     "data": {
      "text/plain": [
       "array([0.20298962, 0.51938012, 0.27763026])"
      ]
     },
     "execution_count": 14,
     "metadata": {},
     "output_type": "execute_result"
    }
   ],
   "source": [
    "# 수행속도가 빠르다\n",
    "et.fit(x_train, y_train)\n",
    "et.feature_importances_"
   ]
  },
  {
   "cell_type": "markdown",
   "id": "762328ce-7d48-48ad-baf3-3fff80743f69",
   "metadata": {},
   "source": [
    "# 그레이던트 부스팅\n",
    "    숲을 이루는 결정트리를 만들때, 깉이가 얕은 트리를 사용\n",
    "    기본이 깊이가 3인 트리 100개를 사용\n",
    "    과적합에 강하다\n",
    "    경사하강법 사용\n",
    "    분류: 로지스틱 손실 함수\n",
    "    회귀: 평균 제곱 오차"
   ]
  },
  {
   "cell_type": "code",
   "execution_count": 15,
   "id": "18f548f8-f18f-4fe8-8d13-5d10c10fc6a8",
   "metadata": {},
   "outputs": [
    {
     "data": {
      "text/plain": [
       "(0.9978834474624707, 0.880317428000296)"
      ]
     },
     "execution_count": 15,
     "metadata": {},
     "output_type": "execute_result"
    }
   ],
   "source": [
    "from sklearn.ensemble import GradientBoostingClassifier\n",
    "gbc = GradientBoostingClassifier()\n",
    "cross_validate(gbc, x_train, y_train, return_train_score=True, n_jobs=-1)\n",
    "np.mean(scores['train_score']), np.mean(scores['test_score'])"
   ]
  },
  {
   "cell_type": "code",
   "execution_count": 16,
   "id": "eaa6f56f-fba0-49c4-aed4-39b8b84d5629",
   "metadata": {},
   "outputs": [
    {
     "data": {
      "text/plain": [
       "(0.9978834474624707, 0.880317428000296)"
      ]
     },
     "execution_count": 16,
     "metadata": {},
     "output_type": "execute_result"
    }
   ],
   "source": [
    "gbc = GradientBoostingClassifier(n_estimators=500, learning_rate=0.2, random_state=0)\n",
    "cross_validate(gbc, x_train, y_train, return_train_score=True, n_jobs=-1)\n",
    "np.mean(scores['train_score']), np.mean(scores['test_score'])"
   ]
  },
  {
   "cell_type": "code",
   "execution_count": 17,
   "id": "7a9b31b9-e600-476d-a594-628212849157",
   "metadata": {},
   "outputs": [
    {
     "data": {
      "text/plain": [
       "array([0.1550395 , 0.68721774, 0.15774276])"
      ]
     },
     "execution_count": 17,
     "metadata": {},
     "output_type": "execute_result"
    }
   ],
   "source": [
    "gbc.fit(x_train, y_train)\n",
    "gbc.feature_importances_"
   ]
  },
  {
   "cell_type": "markdown",
   "id": "a996baf4-910f-4482-af2b-ea65b8d65849",
   "metadata": {},
   "source": [
    "### 지금까지 숲을 구성할 때 사용한 트리는 원래 훈련 데이터 전부 사용\n",
    "### subsample = 1.0 전체 데이터 사용\n",
    "### 이 값을 1.0보다 작게 만들면 일부 데이터만 사용 - 일부 셈플만 랜덤하게 선택\n",
    "### 확률적 경사하강법 or 미니배치 경사 하강법과 비슷하게 된다\n",
    "### 랜점포레스트보다 느리다"
   ]
  },
  {
   "cell_type": "markdown",
   "id": "84f0a5d1-2945-4743-9460-52f8a1b98d4b",
   "metadata": {},
   "source": [
    "# 히스토그램 기반 그레이디언트 부스팅\n",
    "    그레이디언트 부스팅의 속도와 성능을 개선한 알고리즘"
   ]
  },
  {
   "cell_type": "code",
   "execution_count": 18,
   "id": "6d137ed5-fe67-4f1c-8213-9847e1dcca37",
   "metadata": {},
   "outputs": [
    {
     "name": "stderr",
     "output_type": "stream",
     "text": [
      "C:\\Users\\user\\miniconda3\\envs\\py\\lib\\site-packages\\sklearn\\experimental\\enable_hist_gradient_boosting.py:16: UserWarning: Since version 1.0, it is not needed to import enable_hist_gradient_boosting anymore. HistGradientBoostingClassifier and HistGradientBoostingRegressor are now stable and can be normally imported from sklearn.ensemble.\n",
      "  warnings.warn(\n"
     ]
    },
    {
     "data": {
      "text/plain": [
       "(0.9284684595245096, 0.8737748944991486)"
      ]
     },
     "execution_count": 18,
     "metadata": {},
     "output_type": "execute_result"
    }
   ],
   "source": [
    "from sklearn.experimental import enable_hist_gradient_boosting\n",
    "from sklearn.ensemble import HistGradientBoostingClassifier\n",
    "hbc = HistGradientBoostingClassifier(random_state=0)\n",
    "scores=cross_validate(hbc,x_train,y_train,return_train_score=True)\n",
    "np.mean(scores['train_score']), np.mean(scores['test_score'])"
   ]
  },
  {
   "cell_type": "code",
   "execution_count": 20,
   "id": "c3e40c26-ec2e-4d30-83de-9f837676913e",
   "metadata": {},
   "outputs": [
    {
     "data": {
      "text/plain": [
       "array([0.09184145, 0.24083125, 0.08324033])"
      ]
     },
     "execution_count": 20,
     "metadata": {},
     "output_type": "execute_result"
    }
   ],
   "source": [
    "# 중요도\n",
    "from sklearn.inspection import permutation_importance\n",
    "hbc.fit(x_train, y_train)\n",
    "result = permutation_importance(hbc, x_train, y_train, n_repeats=10, random_state=0, n_jobs=-1)\n",
    "result['importances_mean']"
   ]
  },
  {
   "cell_type": "code",
   "execution_count": 1,
   "id": "0a7b3a6d-5dda-4b4d-be91-e448720bce2c",
   "metadata": {},
   "outputs": [
    {
     "name": "stdout",
     "output_type": "stream",
     "text": [
      "1.2.1\n"
     ]
    }
   ],
   "source": [
    "import sklearn\n",
    "print(sklearn.__version__)"
   ]
  },
  {
   "cell_type": "code",
   "execution_count": 28,
   "id": "cd69ef22-73c4-441d-9a83-97fdd01deb2b",
   "metadata": {},
   "outputs": [
    {
     "data": {
      "text/plain": [
       "(0.9517029349360356, 0.875314466572888)"
      ]
     },
     "execution_count": 28,
     "metadata": {},
     "output_type": "execute_result"
    }
   ],
   "source": [
    "# XGBoost 그레이디언트 부스팅 알고리즘을 사용한 모델(sklearn이 아니다)\n",
    "from xgboost import XGBClassifier\n",
    "xgb = XGBClassifier(random_state=0)\n",
    "scores = cross_validate(xgb, x_train, y_train, return_train_score=True)\n",
    "np.mean(scores['train_score']), np.mean(scores['test_score'])"
   ]
  },
  {
   "cell_type": "code",
   "execution_count": 29,
   "id": "8075c392-fa62-405c-92b0-67f6e6c71696",
   "metadata": {},
   "outputs": [
    {
     "data": {
      "text/plain": [
       "(0.9320281523553113, 0.876660250240616)"
      ]
     },
     "execution_count": 29,
     "metadata": {},
     "output_type": "execute_result"
    }
   ],
   "source": [
    "from lightgbm import LGBMClassifier\n",
    "lgb= LGBMClassifier(random_state=0)\n",
    "scores = cross_validate(lgb, x_train, y_train, return_train_score=True)\n",
    "np.mean(scores['train_score']), np.mean(scores['test_score'])"
   ]
  },
  {
   "cell_type": "markdown",
   "id": "bfbed82a-ea2a-4ff0-839e-1f37f3931813",
   "metadata": {},
   "source": [
    "# 자전거 대여량 예측"
   ]
  },
  {
   "cell_type": "markdown",
   "id": "23d2866f-9742-446a-8796-83da285f974f",
   "metadata": {},
   "source": [
    "## 1. 데이터 확보"
   ]
  },
  {
   "cell_type": "code",
   "execution_count": 30,
   "id": "c1393201-33db-4275-9efa-d1a8fb79af6b",
   "metadata": {},
   "outputs": [],
   "source": [
    "url = 'https://raw.githubusercontent.com/leekyuyoung20221226/python/main/data/bike.csv'"
   ]
  },
  {
   "cell_type": "code",
   "execution_count": 32,
   "id": "b9866698-f927-401b-a188-1e9b6a91e3fe",
   "metadata": {},
   "outputs": [
    {
     "data": {
      "text/html": [
       "<div>\n",
       "<style scoped>\n",
       "    .dataframe tbody tr th:only-of-type {\n",
       "        vertical-align: middle;\n",
       "    }\n",
       "\n",
       "    .dataframe tbody tr th {\n",
       "        vertical-align: top;\n",
       "    }\n",
       "\n",
       "    .dataframe thead th {\n",
       "        text-align: right;\n",
       "    }\n",
       "</style>\n",
       "<table border=\"1\" class=\"dataframe\">\n",
       "  <thead>\n",
       "    <tr style=\"text-align: right;\">\n",
       "      <th></th>\n",
       "      <th>instant</th>\n",
       "      <th>dteday</th>\n",
       "      <th>season</th>\n",
       "      <th>yr</th>\n",
       "      <th>mnth</th>\n",
       "      <th>holiday</th>\n",
       "      <th>weekday</th>\n",
       "      <th>workingday</th>\n",
       "      <th>weathersit</th>\n",
       "      <th>temp</th>\n",
       "      <th>atemp</th>\n",
       "      <th>hum</th>\n",
       "      <th>windspeed</th>\n",
       "      <th>casual</th>\n",
       "      <th>registered</th>\n",
       "      <th>cnt</th>\n",
       "    </tr>\n",
       "  </thead>\n",
       "  <tbody>\n",
       "    <tr>\n",
       "      <th>0</th>\n",
       "      <td>1</td>\n",
       "      <td>2011-01-01</td>\n",
       "      <td>1.0</td>\n",
       "      <td>0.0</td>\n",
       "      <td>1.0</td>\n",
       "      <td>0.0</td>\n",
       "      <td>6.0</td>\n",
       "      <td>0.0</td>\n",
       "      <td>2</td>\n",
       "      <td>0.344167</td>\n",
       "      <td>0.363625</td>\n",
       "      <td>0.805833</td>\n",
       "      <td>0.160446</td>\n",
       "      <td>331</td>\n",
       "      <td>654</td>\n",
       "      <td>985</td>\n",
       "    </tr>\n",
       "    <tr>\n",
       "      <th>1</th>\n",
       "      <td>2</td>\n",
       "      <td>2011-01-02</td>\n",
       "      <td>1.0</td>\n",
       "      <td>0.0</td>\n",
       "      <td>1.0</td>\n",
       "      <td>0.0</td>\n",
       "      <td>0.0</td>\n",
       "      <td>0.0</td>\n",
       "      <td>2</td>\n",
       "      <td>0.363478</td>\n",
       "      <td>0.353739</td>\n",
       "      <td>0.696087</td>\n",
       "      <td>0.248539</td>\n",
       "      <td>131</td>\n",
       "      <td>670</td>\n",
       "      <td>801</td>\n",
       "    </tr>\n",
       "    <tr>\n",
       "      <th>2</th>\n",
       "      <td>3</td>\n",
       "      <td>2011-01-03</td>\n",
       "      <td>1.0</td>\n",
       "      <td>0.0</td>\n",
       "      <td>1.0</td>\n",
       "      <td>0.0</td>\n",
       "      <td>1.0</td>\n",
       "      <td>1.0</td>\n",
       "      <td>1</td>\n",
       "      <td>0.196364</td>\n",
       "      <td>0.189405</td>\n",
       "      <td>0.437273</td>\n",
       "      <td>0.248309</td>\n",
       "      <td>120</td>\n",
       "      <td>1229</td>\n",
       "      <td>1349</td>\n",
       "    </tr>\n",
       "    <tr>\n",
       "      <th>3</th>\n",
       "      <td>4</td>\n",
       "      <td>2011-01-04</td>\n",
       "      <td>1.0</td>\n",
       "      <td>0.0</td>\n",
       "      <td>1.0</td>\n",
       "      <td>0.0</td>\n",
       "      <td>2.0</td>\n",
       "      <td>1.0</td>\n",
       "      <td>1</td>\n",
       "      <td>0.200000</td>\n",
       "      <td>0.212122</td>\n",
       "      <td>0.590435</td>\n",
       "      <td>0.160296</td>\n",
       "      <td>108</td>\n",
       "      <td>1454</td>\n",
       "      <td>1562</td>\n",
       "    </tr>\n",
       "    <tr>\n",
       "      <th>4</th>\n",
       "      <td>5</td>\n",
       "      <td>2011-01-05</td>\n",
       "      <td>1.0</td>\n",
       "      <td>0.0</td>\n",
       "      <td>1.0</td>\n",
       "      <td>0.0</td>\n",
       "      <td>3.0</td>\n",
       "      <td>1.0</td>\n",
       "      <td>1</td>\n",
       "      <td>0.226957</td>\n",
       "      <td>0.229270</td>\n",
       "      <td>0.436957</td>\n",
       "      <td>0.186900</td>\n",
       "      <td>82</td>\n",
       "      <td>1518</td>\n",
       "      <td>1600</td>\n",
       "    </tr>\n",
       "  </tbody>\n",
       "</table>\n",
       "</div>"
      ],
      "text/plain": [
       "   instant      dteday  season   yr  mnth  holiday  weekday  workingday  \\\n",
       "0        1  2011-01-01     1.0  0.0   1.0      0.0      6.0         0.0   \n",
       "1        2  2011-01-02     1.0  0.0   1.0      0.0      0.0         0.0   \n",
       "2        3  2011-01-03     1.0  0.0   1.0      0.0      1.0         1.0   \n",
       "3        4  2011-01-04     1.0  0.0   1.0      0.0      2.0         1.0   \n",
       "4        5  2011-01-05     1.0  0.0   1.0      0.0      3.0         1.0   \n",
       "\n",
       "   weathersit      temp     atemp       hum  windspeed  casual  registered  \\\n",
       "0           2  0.344167  0.363625  0.805833   0.160446     331         654   \n",
       "1           2  0.363478  0.353739  0.696087   0.248539     131         670   \n",
       "2           1  0.196364  0.189405  0.437273   0.248309     120        1229   \n",
       "3           1  0.200000  0.212122  0.590435   0.160296     108        1454   \n",
       "4           1  0.226957  0.229270  0.436957   0.186900      82        1518   \n",
       "\n",
       "    cnt  \n",
       "0   985  \n",
       "1   801  \n",
       "2  1349  \n",
       "3  1562  \n",
       "4  1600  "
      ]
     },
     "execution_count": 32,
     "metadata": {},
     "output_type": "execute_result"
    }
   ],
   "source": [
    "bike = pd.read_csv(url)\n",
    "bike.head()"
   ]
  },
  {
   "cell_type": "markdown",
   "id": "914c13ef-8b2c-4627-b4ab-1999fe4e247a",
   "metadata": {},
   "source": [
    "## 2. 데이터 전처리\n",
    "    결측치 확인 - 중간값이나 평균으로 대처"
   ]
  },
  {
   "cell_type": "code",
   "execution_count": 34,
   "id": "6f583c0f-bfdd-462f-a6db-7729561e5e90",
   "metadata": {},
   "outputs": [
    {
     "data": {
      "text/plain": [
       "instant       0\n",
       "dteday        0\n",
       "season        0\n",
       "yr            1\n",
       "mnth          1\n",
       "holiday       0\n",
       "weekday       0\n",
       "workingday    0\n",
       "weathersit    0\n",
       "temp          1\n",
       "atemp         1\n",
       "hum           3\n",
       "windspeed     5\n",
       "casual        0\n",
       "registered    0\n",
       "cnt           0\n",
       "dtype: int64"
      ]
     },
     "execution_count": 34,
     "metadata": {},
     "output_type": "execute_result"
    }
   ],
   "source": [
    "bike.isnull().sum()"
   ]
  },
  {
   "cell_type": "code",
   "execution_count": 45,
   "id": "303311d6-e3f1-4756-ae3a-a7c58610a9ea",
   "metadata": {},
   "outputs": [
    {
     "data": {
      "text/html": [
       "<div>\n",
       "<style scoped>\n",
       "    .dataframe tbody tr th:only-of-type {\n",
       "        vertical-align: middle;\n",
       "    }\n",
       "\n",
       "    .dataframe tbody tr th {\n",
       "        vertical-align: top;\n",
       "    }\n",
       "\n",
       "    .dataframe thead th {\n",
       "        text-align: right;\n",
       "    }\n",
       "</style>\n",
       "<table border=\"1\" class=\"dataframe\">\n",
       "  <thead>\n",
       "    <tr style=\"text-align: right;\">\n",
       "      <th></th>\n",
       "      <th>instant</th>\n",
       "      <th>dteday</th>\n",
       "      <th>season</th>\n",
       "      <th>yr</th>\n",
       "      <th>mnth</th>\n",
       "      <th>holiday</th>\n",
       "      <th>weekday</th>\n",
       "      <th>workingday</th>\n",
       "      <th>weathersit</th>\n",
       "      <th>temp</th>\n",
       "      <th>atemp</th>\n",
       "      <th>hum</th>\n",
       "      <th>windspeed</th>\n",
       "      <th>casual</th>\n",
       "      <th>registered</th>\n",
       "      <th>cnt</th>\n",
       "      <th>month</th>\n",
       "    </tr>\n",
       "  </thead>\n",
       "  <tbody>\n",
       "    <tr>\n",
       "      <th>0</th>\n",
       "      <td>1</td>\n",
       "      <td>2011-01-01</td>\n",
       "      <td>1.0</td>\n",
       "      <td>0.0</td>\n",
       "      <td>1.0</td>\n",
       "      <td>0.0</td>\n",
       "      <td>6.0</td>\n",
       "      <td>0.0</td>\n",
       "      <td>2</td>\n",
       "      <td>0.344167</td>\n",
       "      <td>0.363625</td>\n",
       "      <td>0.805833</td>\n",
       "      <td>0.160446</td>\n",
       "      <td>331</td>\n",
       "      <td>654</td>\n",
       "      <td>985</td>\n",
       "      <td>NaN</td>\n",
       "    </tr>\n",
       "    <tr>\n",
       "      <th>1</th>\n",
       "      <td>2</td>\n",
       "      <td>2011-01-02</td>\n",
       "      <td>1.0</td>\n",
       "      <td>0.0</td>\n",
       "      <td>1.0</td>\n",
       "      <td>0.0</td>\n",
       "      <td>0.0</td>\n",
       "      <td>0.0</td>\n",
       "      <td>2</td>\n",
       "      <td>0.363478</td>\n",
       "      <td>0.353739</td>\n",
       "      <td>0.696087</td>\n",
       "      <td>0.248539</td>\n",
       "      <td>131</td>\n",
       "      <td>670</td>\n",
       "      <td>801</td>\n",
       "      <td>NaN</td>\n",
       "    </tr>\n",
       "    <tr>\n",
       "      <th>2</th>\n",
       "      <td>3</td>\n",
       "      <td>2011-01-03</td>\n",
       "      <td>1.0</td>\n",
       "      <td>0.0</td>\n",
       "      <td>1.0</td>\n",
       "      <td>0.0</td>\n",
       "      <td>1.0</td>\n",
       "      <td>1.0</td>\n",
       "      <td>1</td>\n",
       "      <td>0.196364</td>\n",
       "      <td>0.189405</td>\n",
       "      <td>0.437273</td>\n",
       "      <td>0.248309</td>\n",
       "      <td>120</td>\n",
       "      <td>1229</td>\n",
       "      <td>1349</td>\n",
       "      <td>NaN</td>\n",
       "    </tr>\n",
       "    <tr>\n",
       "      <th>3</th>\n",
       "      <td>4</td>\n",
       "      <td>2011-01-04</td>\n",
       "      <td>1.0</td>\n",
       "      <td>0.0</td>\n",
       "      <td>1.0</td>\n",
       "      <td>0.0</td>\n",
       "      <td>2.0</td>\n",
       "      <td>1.0</td>\n",
       "      <td>1</td>\n",
       "      <td>0.200000</td>\n",
       "      <td>0.212122</td>\n",
       "      <td>0.590435</td>\n",
       "      <td>0.160296</td>\n",
       "      <td>108</td>\n",
       "      <td>1454</td>\n",
       "      <td>1562</td>\n",
       "      <td>NaN</td>\n",
       "    </tr>\n",
       "    <tr>\n",
       "      <th>4</th>\n",
       "      <td>5</td>\n",
       "      <td>2011-01-05</td>\n",
       "      <td>1.0</td>\n",
       "      <td>0.0</td>\n",
       "      <td>1.0</td>\n",
       "      <td>0.0</td>\n",
       "      <td>3.0</td>\n",
       "      <td>1.0</td>\n",
       "      <td>1</td>\n",
       "      <td>0.226957</td>\n",
       "      <td>0.229270</td>\n",
       "      <td>0.436957</td>\n",
       "      <td>0.186900</td>\n",
       "      <td>82</td>\n",
       "      <td>1518</td>\n",
       "      <td>1600</td>\n",
       "      <td>NaN</td>\n",
       "    </tr>\n",
       "    <tr>\n",
       "      <th>...</th>\n",
       "      <td>...</td>\n",
       "      <td>...</td>\n",
       "      <td>...</td>\n",
       "      <td>...</td>\n",
       "      <td>...</td>\n",
       "      <td>...</td>\n",
       "      <td>...</td>\n",
       "      <td>...</td>\n",
       "      <td>...</td>\n",
       "      <td>...</td>\n",
       "      <td>...</td>\n",
       "      <td>...</td>\n",
       "      <td>...</td>\n",
       "      <td>...</td>\n",
       "      <td>...</td>\n",
       "      <td>...</td>\n",
       "      <td>...</td>\n",
       "    </tr>\n",
       "    <tr>\n",
       "      <th>725</th>\n",
       "      <td>726</td>\n",
       "      <td>2012-12-26</td>\n",
       "      <td>1.0</td>\n",
       "      <td>1.0</td>\n",
       "      <td>12.0</td>\n",
       "      <td>0.0</td>\n",
       "      <td>3.0</td>\n",
       "      <td>1.0</td>\n",
       "      <td>3</td>\n",
       "      <td>0.243333</td>\n",
       "      <td>0.220333</td>\n",
       "      <td>0.823333</td>\n",
       "      <td>0.316546</td>\n",
       "      <td>9</td>\n",
       "      <td>432</td>\n",
       "      <td>441</td>\n",
       "      <td>NaN</td>\n",
       "    </tr>\n",
       "    <tr>\n",
       "      <th>726</th>\n",
       "      <td>727</td>\n",
       "      <td>2012-12-27</td>\n",
       "      <td>1.0</td>\n",
       "      <td>1.0</td>\n",
       "      <td>12.0</td>\n",
       "      <td>0.0</td>\n",
       "      <td>4.0</td>\n",
       "      <td>1.0</td>\n",
       "      <td>2</td>\n",
       "      <td>0.254167</td>\n",
       "      <td>0.226642</td>\n",
       "      <td>0.652917</td>\n",
       "      <td>0.350133</td>\n",
       "      <td>247</td>\n",
       "      <td>1867</td>\n",
       "      <td>2114</td>\n",
       "      <td>NaN</td>\n",
       "    </tr>\n",
       "    <tr>\n",
       "      <th>727</th>\n",
       "      <td>728</td>\n",
       "      <td>2012-12-28</td>\n",
       "      <td>1.0</td>\n",
       "      <td>1.0</td>\n",
       "      <td>12.0</td>\n",
       "      <td>0.0</td>\n",
       "      <td>5.0</td>\n",
       "      <td>1.0</td>\n",
       "      <td>2</td>\n",
       "      <td>0.253333</td>\n",
       "      <td>0.255046</td>\n",
       "      <td>0.590000</td>\n",
       "      <td>0.155471</td>\n",
       "      <td>644</td>\n",
       "      <td>2451</td>\n",
       "      <td>3095</td>\n",
       "      <td>NaN</td>\n",
       "    </tr>\n",
       "    <tr>\n",
       "      <th>728</th>\n",
       "      <td>729</td>\n",
       "      <td>2012-12-29</td>\n",
       "      <td>1.0</td>\n",
       "      <td>1.0</td>\n",
       "      <td>12.0</td>\n",
       "      <td>0.0</td>\n",
       "      <td>6.0</td>\n",
       "      <td>0.0</td>\n",
       "      <td>2</td>\n",
       "      <td>0.253333</td>\n",
       "      <td>0.242400</td>\n",
       "      <td>0.752917</td>\n",
       "      <td>0.124383</td>\n",
       "      <td>159</td>\n",
       "      <td>1182</td>\n",
       "      <td>1341</td>\n",
       "      <td>NaN</td>\n",
       "    </tr>\n",
       "    <tr>\n",
       "      <th>729</th>\n",
       "      <td>730</td>\n",
       "      <td>2012-12-30</td>\n",
       "      <td>1.0</td>\n",
       "      <td>1.0</td>\n",
       "      <td>12.0</td>\n",
       "      <td>0.0</td>\n",
       "      <td>0.0</td>\n",
       "      <td>0.0</td>\n",
       "      <td>1</td>\n",
       "      <td>0.255833</td>\n",
       "      <td>0.231700</td>\n",
       "      <td>0.483333</td>\n",
       "      <td>0.350754</td>\n",
       "      <td>364</td>\n",
       "      <td>1432</td>\n",
       "      <td>1796</td>\n",
       "      <td>NaN</td>\n",
       "    </tr>\n",
       "  </tbody>\n",
       "</table>\n",
       "<p>730 rows × 17 columns</p>\n",
       "</div>"
      ],
      "text/plain": [
       "     instant      dteday  season   yr  mnth  holiday  weekday  workingday  \\\n",
       "0          1  2011-01-01     1.0  0.0   1.0      0.0      6.0         0.0   \n",
       "1          2  2011-01-02     1.0  0.0   1.0      0.0      0.0         0.0   \n",
       "2          3  2011-01-03     1.0  0.0   1.0      0.0      1.0         1.0   \n",
       "3          4  2011-01-04     1.0  0.0   1.0      0.0      2.0         1.0   \n",
       "4          5  2011-01-05     1.0  0.0   1.0      0.0      3.0         1.0   \n",
       "..       ...         ...     ...  ...   ...      ...      ...         ...   \n",
       "725      726  2012-12-26     1.0  1.0  12.0      0.0      3.0         1.0   \n",
       "726      727  2012-12-27     1.0  1.0  12.0      0.0      4.0         1.0   \n",
       "727      728  2012-12-28     1.0  1.0  12.0      0.0      5.0         1.0   \n",
       "728      729  2012-12-29     1.0  1.0  12.0      0.0      6.0         0.0   \n",
       "729      730  2012-12-30     1.0  1.0  12.0      0.0      0.0         0.0   \n",
       "\n",
       "     weathersit      temp     atemp       hum  windspeed  casual  registered  \\\n",
       "0             2  0.344167  0.363625  0.805833   0.160446     331         654   \n",
       "1             2  0.363478  0.353739  0.696087   0.248539     131         670   \n",
       "2             1  0.196364  0.189405  0.437273   0.248309     120        1229   \n",
       "3             1  0.200000  0.212122  0.590435   0.160296     108        1454   \n",
       "4             1  0.226957  0.229270  0.436957   0.186900      82        1518   \n",
       "..          ...       ...       ...       ...        ...     ...         ...   \n",
       "725           3  0.243333  0.220333  0.823333   0.316546       9         432   \n",
       "726           2  0.254167  0.226642  0.652917   0.350133     247        1867   \n",
       "727           2  0.253333  0.255046  0.590000   0.155471     644        2451   \n",
       "728           2  0.253333  0.242400  0.752917   0.124383     159        1182   \n",
       "729           1  0.255833  0.231700  0.483333   0.350754     364        1432   \n",
       "\n",
       "      cnt  month  \n",
       "0     985    NaN  \n",
       "1     801    NaN  \n",
       "2    1349    NaN  \n",
       "3    1562    NaN  \n",
       "4    1600    NaN  \n",
       "..    ...    ...  \n",
       "725   441    NaN  \n",
       "726  2114    NaN  \n",
       "727  3095    NaN  \n",
       "728  1341    NaN  \n",
       "729  1796    NaN  \n",
       "\n",
       "[730 rows x 17 columns]"
      ]
     },
     "execution_count": 45,
     "metadata": {},
     "output_type": "execute_result"
    }
   ],
   "source": [
    "bike[bike.isnull().any(axis=1)]"
   ]
  },
  {
   "cell_type": "code",
   "execution_count": 39,
   "id": "3fe44229-5282-44dd-863e-66e0a3dae7e3",
   "metadata": {},
   "outputs": [],
   "source": [
    "# 중간값으로 채우기\n",
    "bike['windspeed'].fillna(bike['windspeed'].median(),inplace=True)"
   ]
  },
  {
   "cell_type": "code",
   "execution_count": 42,
   "id": "2fec79f8-e70b-4826-8e3d-46d8fa4ce2de",
   "metadata": {},
   "outputs": [],
   "source": [
    "bike.loc[730,'yr'] = 1.0\n",
    "bike.loc[730, 'mnth'] = 12.0"
   ]
  },
  {
   "cell_type": "code",
   "execution_count": 44,
   "id": "bb509e83-dfa1-4e62-9955-9b94714448e3",
   "metadata": {},
   "outputs": [],
   "source": [
    "bike['temp'].fillna( bike['temp'].median(), inplace=True)\n",
    "bike['atemp'].fillna( bike['atemp'].median(), inplace=True)\n",
    "bike['hum'].fillna( bike['hum'].median(), inplace=True)"
   ]
  },
  {
   "cell_type": "code",
   "execution_count": 46,
   "id": "e0759e9d-bf02-4b00-85ec-e3157563164b",
   "metadata": {},
   "outputs": [],
   "source": [
    "bike.drop(columns=['dteday'],inplace=True)"
   ]
  },
  {
   "cell_type": "code",
   "execution_count": 47,
   "id": "58d6c8a0-d4ec-4c3e-ad6e-6d3fb28daa8d",
   "metadata": {},
   "outputs": [
    {
     "data": {
      "text/html": [
       "<div>\n",
       "<style scoped>\n",
       "    .dataframe tbody tr th:only-of-type {\n",
       "        vertical-align: middle;\n",
       "    }\n",
       "\n",
       "    .dataframe tbody tr th {\n",
       "        vertical-align: top;\n",
       "    }\n",
       "\n",
       "    .dataframe thead th {\n",
       "        text-align: right;\n",
       "    }\n",
       "</style>\n",
       "<table border=\"1\" class=\"dataframe\">\n",
       "  <thead>\n",
       "    <tr style=\"text-align: right;\">\n",
       "      <th></th>\n",
       "      <th>instant</th>\n",
       "      <th>season</th>\n",
       "      <th>yr</th>\n",
       "      <th>mnth</th>\n",
       "      <th>holiday</th>\n",
       "      <th>weekday</th>\n",
       "      <th>workingday</th>\n",
       "      <th>weathersit</th>\n",
       "      <th>temp</th>\n",
       "      <th>atemp</th>\n",
       "      <th>hum</th>\n",
       "      <th>windspeed</th>\n",
       "      <th>casual</th>\n",
       "      <th>registered</th>\n",
       "      <th>cnt</th>\n",
       "      <th>month</th>\n",
       "    </tr>\n",
       "  </thead>\n",
       "  <tbody>\n",
       "    <tr>\n",
       "      <th>0</th>\n",
       "      <td>1</td>\n",
       "      <td>1.0</td>\n",
       "      <td>0.0</td>\n",
       "      <td>1.0</td>\n",
       "      <td>0.0</td>\n",
       "      <td>6.0</td>\n",
       "      <td>0.0</td>\n",
       "      <td>2</td>\n",
       "      <td>0.344167</td>\n",
       "      <td>0.363625</td>\n",
       "      <td>0.805833</td>\n",
       "      <td>0.160446</td>\n",
       "      <td>331</td>\n",
       "      <td>654</td>\n",
       "      <td>985</td>\n",
       "      <td>NaN</td>\n",
       "    </tr>\n",
       "    <tr>\n",
       "      <th>1</th>\n",
       "      <td>2</td>\n",
       "      <td>1.0</td>\n",
       "      <td>0.0</td>\n",
       "      <td>1.0</td>\n",
       "      <td>0.0</td>\n",
       "      <td>0.0</td>\n",
       "      <td>0.0</td>\n",
       "      <td>2</td>\n",
       "      <td>0.363478</td>\n",
       "      <td>0.353739</td>\n",
       "      <td>0.696087</td>\n",
       "      <td>0.248539</td>\n",
       "      <td>131</td>\n",
       "      <td>670</td>\n",
       "      <td>801</td>\n",
       "      <td>NaN</td>\n",
       "    </tr>\n",
       "    <tr>\n",
       "      <th>2</th>\n",
       "      <td>3</td>\n",
       "      <td>1.0</td>\n",
       "      <td>0.0</td>\n",
       "      <td>1.0</td>\n",
       "      <td>0.0</td>\n",
       "      <td>1.0</td>\n",
       "      <td>1.0</td>\n",
       "      <td>1</td>\n",
       "      <td>0.196364</td>\n",
       "      <td>0.189405</td>\n",
       "      <td>0.437273</td>\n",
       "      <td>0.248309</td>\n",
       "      <td>120</td>\n",
       "      <td>1229</td>\n",
       "      <td>1349</td>\n",
       "      <td>NaN</td>\n",
       "    </tr>\n",
       "    <tr>\n",
       "      <th>3</th>\n",
       "      <td>4</td>\n",
       "      <td>1.0</td>\n",
       "      <td>0.0</td>\n",
       "      <td>1.0</td>\n",
       "      <td>0.0</td>\n",
       "      <td>2.0</td>\n",
       "      <td>1.0</td>\n",
       "      <td>1</td>\n",
       "      <td>0.200000</td>\n",
       "      <td>0.212122</td>\n",
       "      <td>0.590435</td>\n",
       "      <td>0.160296</td>\n",
       "      <td>108</td>\n",
       "      <td>1454</td>\n",
       "      <td>1562</td>\n",
       "      <td>NaN</td>\n",
       "    </tr>\n",
       "    <tr>\n",
       "      <th>4</th>\n",
       "      <td>5</td>\n",
       "      <td>1.0</td>\n",
       "      <td>0.0</td>\n",
       "      <td>1.0</td>\n",
       "      <td>0.0</td>\n",
       "      <td>3.0</td>\n",
       "      <td>1.0</td>\n",
       "      <td>1</td>\n",
       "      <td>0.226957</td>\n",
       "      <td>0.229270</td>\n",
       "      <td>0.436957</td>\n",
       "      <td>0.186900</td>\n",
       "      <td>82</td>\n",
       "      <td>1518</td>\n",
       "      <td>1600</td>\n",
       "      <td>NaN</td>\n",
       "    </tr>\n",
       "  </tbody>\n",
       "</table>\n",
       "</div>"
      ],
      "text/plain": [
       "   instant  season   yr  mnth  holiday  weekday  workingday  weathersit  \\\n",
       "0        1     1.0  0.0   1.0      0.0      6.0         0.0           2   \n",
       "1        2     1.0  0.0   1.0      0.0      0.0         0.0           2   \n",
       "2        3     1.0  0.0   1.0      0.0      1.0         1.0           1   \n",
       "3        4     1.0  0.0   1.0      0.0      2.0         1.0           1   \n",
       "4        5     1.0  0.0   1.0      0.0      3.0         1.0           1   \n",
       "\n",
       "       temp     atemp       hum  windspeed  casual  registered   cnt  month  \n",
       "0  0.344167  0.363625  0.805833   0.160446     331         654   985    NaN  \n",
       "1  0.363478  0.353739  0.696087   0.248539     131         670   801    NaN  \n",
       "2  0.196364  0.189405  0.437273   0.248309     120        1229  1349    NaN  \n",
       "3  0.200000  0.212122  0.590435   0.160296     108        1454  1562    NaN  \n",
       "4  0.226957  0.229270  0.436957   0.186900      82        1518  1600    NaN  "
      ]
     },
     "execution_count": 47,
     "metadata": {},
     "output_type": "execute_result"
    }
   ],
   "source": [
    "bike.head()"
   ]
  }
 ],
 "metadata": {
  "kernelspec": {
   "display_name": "Python 3 (ipykernel)",
   "language": "python",
   "name": "python3"
  },
  "language_info": {
   "codemirror_mode": {
    "name": "ipython",
    "version": 3
   },
   "file_extension": ".py",
   "mimetype": "text/x-python",
   "name": "python",
   "nbconvert_exporter": "python",
   "pygments_lexer": "ipython3",
   "version": "3.10.8"
  }
 },
 "nbformat": 4,
 "nbformat_minor": 5
}
