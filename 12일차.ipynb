{
 "cells": [
  {
   "cell_type": "markdown",
   "id": "9c87023f-4ac9-42e2-95bc-b64601da85a1",
   "metadata": {},
   "source": [
    "# 배열간 비교연산"
   ]
  },
  {
   "cell_type": "code",
   "execution_count": 2,
   "id": "a5cda0bc-caf7-438f-ab12-6e94bbc83716",
   "metadata": {},
   "outputs": [],
   "source": [
    "import numpy as np\n",
    "from numpy.random import choice"
   ]
  },
  {
   "cell_type": "code",
   "execution_count": 4,
   "id": "fb35112a-26a0-465a-9b33-1bce965caa0b",
   "metadata": {},
   "outputs": [],
   "source": [
    "matrix_1 = choice(range(100),9).reshape(3,3)\n",
    "matrix_2 = choice(range(100),9).reshape(3,3)"
   ]
  },
  {
   "cell_type": "code",
   "execution_count": 5,
   "id": "9f424897-2bf0-4a8c-b4f6-5acc3431c340",
   "metadata": {},
   "outputs": [
    {
     "data": {
      "text/plain": [
       "(array([[95, 63, 73],\n",
       "        [95, 51,  7],\n",
       "        [79, 54, 30]]),\n",
       " array([[48, 33,  3],\n",
       "        [74, 64, 58],\n",
       "        [27, 50, 59]]))"
      ]
     },
     "execution_count": 5,
     "metadata": {},
     "output_type": "execute_result"
    }
   ],
   "source": [
    "matrix_1, matrix_2"
   ]
  },
  {
   "cell_type": "code",
   "execution_count": 7,
   "id": "6d96c75d-887a-4cc9-8784-936c1cbe4d5d",
   "metadata": {},
   "outputs": [
    {
     "name": "stdout",
     "output_type": "stream",
     "text": [
      "[[ True  True  True]\n",
      " [ True False False]\n",
      " [ True  True False]]\n",
      "[[ True  True  True]\n",
      " [ True False False]\n",
      " [ True  True False]]\n",
      "[[False False False]\n",
      " [False False False]\n",
      " [False False False]]\n",
      "[[ True  True  True]\n",
      " [ True  True  True]\n",
      " [ True  True  True]]\n",
      "[[False False False]\n",
      " [False  True  True]\n",
      " [False False  True]]\n",
      "[[False False False]\n",
      " [False  True  True]\n",
      " [False False  True]]\n"
     ]
    }
   ],
   "source": [
    "print(matrix_1 > matrix_2)\n",
    "print(matrix_1 >= matrix_2)\n",
    "print(matrix_1 == matrix_2)\n",
    "print(matrix_1 != matrix_2)\n",
    "print(matrix_1 <= matrix_2)\n",
    "print(matrix_1 < matrix_2)"
   ]
  },
  {
   "cell_type": "code",
   "execution_count": 8,
   "id": "5168ed32-c486-4301-a127-0ad0a99ccc8c",
   "metadata": {},
   "outputs": [],
   "source": [
    "# true false를 배열의 인덱스로 사용해서 true에 해당하는 데이터만 추출"
   ]
  },
  {
   "cell_type": "code",
   "execution_count": 9,
   "id": "a87d6df1-01d6-44f2-9112-0f3cad1b4555",
   "metadata": {},
   "outputs": [
    {
     "data": {
      "text/plain": [
       "array([95, 63, 73, 95, 79, 54])"
      ]
     },
     "execution_count": 9,
     "metadata": {},
     "output_type": "execute_result"
    }
   ],
   "source": [
    "matrix_1[matrix_1 > matrix_2]"
   ]
  },
  {
   "cell_type": "code",
   "execution_count": 10,
   "id": "2af34e76-7cdd-447b-ba2b-799107cb9512",
   "metadata": {},
   "outputs": [
    {
     "name": "stdout",
     "output_type": "stream",
     "text": [
      "[95 63 73 95 79 54]\n",
      "[95 63 73 95 79 54]\n",
      "[]\n",
      "[95 63 73 95 51  7 79 54 30]\n",
      "[51  7 30]\n",
      "[51  7 30]\n"
     ]
    }
   ],
   "source": [
    "print(matrix_1[matrix_1 > matrix_2])\n",
    "print(matrix_1[matrix_1 >= matrix_2])\n",
    "print(matrix_1[matrix_1 == matrix_2])\n",
    "print(matrix_1[matrix_1 != matrix_2])\n",
    "print(matrix_1[matrix_1 <= matrix_2])\n",
    "print(matrix_1[matrix_1 < matrix_2])"
   ]
  },
  {
   "cell_type": "code",
   "execution_count": 11,
   "id": "e5b8718c-de2c-46ff-9fe0-af5f2e4e4403",
   "metadata": {},
   "outputs": [
    {
     "data": {
      "text/plain": [
       "array([65, 83, 67, 94, 84, 80, 93, 97, 65])"
      ]
     },
     "execution_count": 11,
     "metadata": {},
     "output_type": "execute_result"
    }
   ],
   "source": [
    "student_score = choice(range(60, 100), 9)\n",
    "student_score"
   ]
  },
  {
   "cell_type": "code",
   "execution_count": 21,
   "id": "3b7d4e2b-05d4-4353-8b5f-55e4a26033c5",
   "metadata": {},
   "outputs": [
    {
     "data": {
      "text/plain": [
       "array(['a', 'b', 'c', 'd', 'e', 'f', 'g', 'h', 'i'], dtype='<U1')"
      ]
     },
     "execution_count": 21,
     "metadata": {},
     "output_type": "execute_result"
    }
   ],
   "source": [
    "student_names = np.array(['a','b','c','d','e','f','g','h','i'])\n",
    "student_names"
   ]
  },
  {
   "cell_type": "code",
   "execution_count": 13,
   "id": "4913e4b5-7c44-4737-b3c2-b3cd02b22f8d",
   "metadata": {},
   "outputs": [],
   "source": [
    "# 정수가 70이상인 학생들을 출력"
   ]
  },
  {
   "cell_type": "code",
   "execution_count": 22,
   "id": "e7e3a96e-b532-49a9-91c3-c7ed9423044c",
   "metadata": {},
   "outputs": [
    {
     "data": {
      "text/plain": [
       "array(['b', 'd', 'e', 'f', 'g', 'h'], dtype='<U1')"
      ]
     },
     "execution_count": 22,
     "metadata": {},
     "output_type": "execute_result"
    }
   ],
   "source": [
    "student_names[student_score >= 70]"
   ]
  },
  {
   "cell_type": "code",
   "execution_count": 19,
   "id": "3deb016a-001d-41a7-8411-2b90e159149b",
   "metadata": {},
   "outputs": [
    {
     "data": {
      "text/plain": [
       "array([83, 94, 84, 80, 93, 97])"
      ]
     },
     "execution_count": 19,
     "metadata": {},
     "output_type": "execute_result"
    }
   ],
   "source": [
    "student_score[student_score >= 70]"
   ]
  },
  {
   "cell_type": "markdown",
   "id": "ebe37eb4-b167-4684-8a40-7a2572e50f1c",
   "metadata": {},
   "source": [
    "# 판다스 pandas\n",
    "    데이터분석에 자주 사용되는 프레임웍"
   ]
  },
  {
   "cell_type": "markdown",
   "id": "7f2fd968-36e1-4f9c-93a7-caec71b87ab5",
   "metadata": {},
   "source": [
    "## 시리즈"
   ]
  },
  {
   "cell_type": "code",
   "execution_count": 24,
   "id": "bfb0d86d-4a3f-401e-981a-0322da2424bf",
   "metadata": {},
   "outputs": [
    {
     "name": "stdout",
     "output_type": "stream",
     "text": [
      "Collecting pandas\n",
      "  Downloading pandas-1.5.2-cp310-cp310-win_amd64.whl (10.4 MB)\n",
      "     --------------------------------------- 10.4/10.4 MB 11.5 MB/s eta 0:00:00\n",
      "Requirement already satisfied: python-dateutil>=2.8.1 in c:\\users\\user\\miniconda3\\envs\\py\\lib\\site-packages (from pandas) (2.8.2)\n",
      "Requirement already satisfied: numpy>=1.21.0 in c:\\users\\user\\miniconda3\\envs\\py\\lib\\site-packages (from pandas) (1.24.1)\n",
      "Requirement already satisfied: pytz>=2020.1 in c:\\users\\user\\miniconda3\\envs\\py\\lib\\site-packages (from pandas) (2022.7)\n",
      "Requirement already satisfied: six>=1.5 in c:\\users\\user\\miniconda3\\envs\\py\\lib\\site-packages (from python-dateutil>=2.8.1->pandas) (1.16.0)\n",
      "Installing collected packages: pandas\n",
      "Successfully installed pandas-1.5.2\n"
     ]
    }
   ],
   "source": [
    "!pip install pandas"
   ]
  },
  {
   "cell_type": "code",
   "execution_count": 25,
   "id": "667ed40d-92b8-40bd-90d7-1151d5b4e126",
   "metadata": {},
   "outputs": [],
   "source": [
    "import pandas as pd"
   ]
  },
  {
   "cell_type": "code",
   "execution_count": 28,
   "id": "c89f7add-a265-4be4-893a-57391de8f129",
   "metadata": {},
   "outputs": [
    {
     "name": "stdout",
     "output_type": "stream",
     "text": [
      "0    1\n",
      "1    2\n",
      "2    3\n",
      "3    4\n",
      "4    5\n",
      "dtype: int64\n",
      "RangeIndex(start=0, stop=5, step=1)\n",
      "[1 2 3 4 5]\n"
     ]
    }
   ],
   "source": [
    "series_list_1 = pd.Series([1,2,3,4,5])\n",
    "print(series_list_1)\n",
    "print(series_list_1.index)\n",
    "print(series_list_1.values)"
   ]
  },
  {
   "cell_type": "code",
   "execution_count": 29,
   "id": "2c224050-9495-4506-9136-7542ea3cad85",
   "metadata": {},
   "outputs": [
    {
     "name": "stdout",
     "output_type": "stream",
     "text": [
      "10    1\n",
      "20    2\n",
      "30    3\n",
      "40    4\n",
      "50    5\n",
      "dtype: int64\n",
      "Int64Index([10, 20, 30, 40, 50], dtype='int64')\n",
      "[1 2 3 4 5]\n"
     ]
    }
   ],
   "source": [
    "series_list_1 = pd.Series([1,2,3,4,5], index = [10,20,30,40,50])\n",
    "print(series_list_1)\n",
    "print(series_list_1.index)\n",
    "print(series_list_1.values)"
   ]
  },
  {
   "cell_type": "code",
   "execution_count": 30,
   "id": "1db6691d-506e-49df-834c-9fd529a3d4af",
   "metadata": {},
   "outputs": [
    {
     "name": "stdout",
     "output_type": "stream",
     "text": [
      "a    1\n",
      "b    2\n",
      "c    3\n",
      "d    4\n",
      "e    5\n",
      "dtype: int64\n",
      "Index(['a', 'b', 'c', 'd', 'e'], dtype='object')\n",
      "[1 2 3 4 5]\n"
     ]
    }
   ],
   "source": [
    "series_list_1 = pd.Series([1,2,3,4,5], index = ['a', 'b', 'c', 'd', 'e'])\n",
    "print(series_list_1)\n",
    "print(series_list_1.index)\n",
    "print(series_list_1.values)"
   ]
  },
  {
   "cell_type": "code",
   "execution_count": 31,
   "id": "d74a5859-1c79-49c0-9164-5d524a53dcb8",
   "metadata": {},
   "outputs": [
    {
     "name": "stdout",
     "output_type": "stream",
     "text": [
      "1    1\n",
      "2    2\n",
      "3    3\n",
      "4    4\n",
      "5    5\n",
      "dtype: int64\n",
      "Int64Index([1, 2, 3, 4, 5], dtype='int64')\n",
      "[1 2 3 4 5]\n"
     ]
    }
   ],
   "source": [
    "series_list_1 = pd.Series([1,2,3,4,5],[1,2,3,4,5])\n",
    "print(series_list_1)\n",
    "print(series_list_1.index)\n",
    "print(series_list_1.values)"
   ]
  },
  {
   "cell_type": "markdown",
   "id": "fde287c5-cb5a-48db-bcda-b783268c1ca3",
   "metadata": {},
   "source": [
    "# 딕셔너리로 시리즈 생성하기"
   ]
  },
  {
   "cell_type": "code",
   "execution_count": 32,
   "id": "ea9da1d6-b4c8-48a1-b6be-08a6e36f7cab",
   "metadata": {},
   "outputs": [
    {
     "data": {
      "text/plain": [
       "치킨     32000\n",
       "피자     25000\n",
       "햄버거     7000\n",
       "dtype: int64"
      ]
     },
     "execution_count": 32,
     "metadata": {},
     "output_type": "execute_result"
    }
   ],
   "source": [
    "dic_data = {'치킨' :32000, '피자' : 25000, '햄버거' : 7000}\n",
    "series_list_a = pd.Series(dic_data)\n",
    "series_list_a"
   ]
  },
  {
   "cell_type": "code",
   "execution_count": 35,
   "id": "d6a5beb3-f80d-438d-bf34-62b69332caae",
   "metadata": {},
   "outputs": [
    {
     "data": {
      "text/plain": [
       "치킨     32000.0\n",
       "피자     25000.0\n",
       "햄버거     7000.0\n",
       "짜장면        NaN\n",
       "dtype: float64"
      ]
     },
     "execution_count": 35,
     "metadata": {},
     "output_type": "execute_result"
    }
   ],
   "source": [
    "delivery_food = ['치킨', '피자', '햄버거', '짜장면']\n",
    "dic_data = {'치킨' :32000, '피자' : 25000, '햄버거' : 7000}\n",
    "\n",
    "series_list_a = pd.Series(dic_data, index = delivery_food)\n",
    "series_list_a"
   ]
  },
  {
   "cell_type": "code",
   "execution_count": 34,
   "id": "b4f31135-1223-4558-a073-a7b26908d38c",
   "metadata": {},
   "outputs": [
    {
     "data": {
      "text/plain": [
       "치킨     1\n",
       "피자     2\n",
       "탕수육    3\n",
       "짜장면    4\n",
       "dtype: int64"
      ]
     },
     "execution_count": 34,
     "metadata": {},
     "output_type": "execute_result"
    }
   ],
   "source": [
    "series_list_a = pd.Series([1,2,3,4], index = delivery_food)\n",
    "series_list_a"
   ]
  },
  {
   "cell_type": "markdown",
   "id": "471a26d6-d6b1-47a4-ab26-b2a731ca8f1a",
   "metadata": {},
   "source": [
    "### NaN: Not a Number --> 결측치"
   ]
  },
  {
   "cell_type": "code",
   "execution_count": 36,
   "id": "ceafea25-b239-44de-8397-81c58ab09e9c",
   "metadata": {},
   "outputs": [
    {
     "name": "stdout",
     "output_type": "stream",
     "text": [
      "32000.0\n",
      "치킨    32000.0\n",
      "피자    25000.0\n",
      "dtype: float64\n"
     ]
    }
   ],
   "source": [
    "# 시리즈에서 값을 찾을 때\n",
    "print(series_list_a['치킨'])\n",
    "# 여러개를 찾을 때\n",
    "print(series_list_a[['치킨', '피자']])"
   ]
  },
  {
   "cell_type": "code",
   "execution_count": 37,
   "id": "f35b017c-0c0f-436d-b207-ce18008ecac7",
   "metadata": {},
   "outputs": [
    {
     "data": {
      "text/plain": [
       "치킨      True\n",
       "피자      True\n",
       "햄버거    False\n",
       "짜장면    False\n",
       "dtype: bool"
      ]
     },
     "execution_count": 37,
     "metadata": {},
     "output_type": "execute_result"
    }
   ],
   "source": [
    "# 조건에 해당하는 값을 찾을 때\n",
    "series_list_a > 20000"
   ]
  },
  {
   "cell_type": "code",
   "execution_count": 38,
   "id": "8dd9fbcb-6df9-411e-9891-18bef288e589",
   "metadata": {},
   "outputs": [
    {
     "name": "stdout",
     "output_type": "stream",
     "text": [
      "True\n"
     ]
    }
   ],
   "source": [
    "# 인덱스가 있는지 확인할 때\n",
    "print('치킨' in series_list_a)"
   ]
  },
  {
   "cell_type": "code",
   "execution_count": 39,
   "id": "8f74e7a8-4d5b-472b-93b3-939f77a66be7",
   "metadata": {},
   "outputs": [
    {
     "name": "stdout",
     "output_type": "stream",
     "text": [
      "True\n"
     ]
    }
   ],
   "source": [
    "print('치킨' in series_list_a.index)"
   ]
  },
  {
   "cell_type": "code",
   "execution_count": 40,
   "id": "536431ff-4031-49cc-8d0a-d11d55d188b7",
   "metadata": {},
   "outputs": [
    {
     "data": {
      "text/plain": [
       "array([ True,  True, False, False])"
      ]
     },
     "execution_count": 40,
     "metadata": {},
     "output_type": "execute_result"
    }
   ],
   "source": [
    "series_list_a.values > 20000"
   ]
  },
  {
   "cell_type": "markdown",
   "id": "3a58c3a2-75d2-4085-94af-dc60de840f49",
   "metadata": {},
   "source": [
    "# 데이터 프레임: 시리즈들의 집합\n",
    "    row, col / 행, 열 / index, columns"
   ]
  },
  {
   "cell_type": "code",
   "execution_count": 41,
   "id": "a7325825-1d10-4f98-96ec-84fd8966c9f5",
   "metadata": {},
   "outputs": [],
   "source": [
    "# 데이터 프레임 만들기\n",
    "df = pd.DataFrame()"
   ]
  },
  {
   "cell_type": "code",
   "execution_count": 42,
   "id": "81ef29a4-cfee-4b65-aeda-645730b44388",
   "metadata": {},
   "outputs": [],
   "source": [
    "df['sex'] = ['M', 'M', 'W', 'W']"
   ]
  },
  {
   "cell_type": "code",
   "execution_count": 44,
   "id": "6e99d55f-e1e2-4c43-9656-fa4dff03fbd8",
   "metadata": {},
   "outputs": [],
   "source": [
    "df['Age'] = [21, 25, 23, 20]"
   ]
  },
  {
   "cell_type": "code",
   "execution_count": 46,
   "id": "39243a3c-781f-4c11-96ae-2f9decc3112a",
   "metadata": {},
   "outputs": [],
   "source": [
    "df['Name'] = ['Jihyun', 'Kyoungrok', 'Mina', 'Minseon']"
   ]
  },
  {
   "cell_type": "code",
   "execution_count": 47,
   "id": "8db4b4d5-759d-4140-bc25-10cda5273e4a",
   "metadata": {},
   "outputs": [
    {
     "data": {
      "text/html": [
       "<div>\n",
       "<style scoped>\n",
       "    .dataframe tbody tr th:only-of-type {\n",
       "        vertical-align: middle;\n",
       "    }\n",
       "\n",
       "    .dataframe tbody tr th {\n",
       "        vertical-align: top;\n",
       "    }\n",
       "\n",
       "    .dataframe thead th {\n",
       "        text-align: right;\n",
       "    }\n",
       "</style>\n",
       "<table border=\"1\" class=\"dataframe\">\n",
       "  <thead>\n",
       "    <tr style=\"text-align: right;\">\n",
       "      <th></th>\n",
       "      <th>sex</th>\n",
       "      <th>Age</th>\n",
       "      <th>Name</th>\n",
       "    </tr>\n",
       "  </thead>\n",
       "  <tbody>\n",
       "    <tr>\n",
       "      <th>0</th>\n",
       "      <td>M</td>\n",
       "      <td>21</td>\n",
       "      <td>Jihyun</td>\n",
       "    </tr>\n",
       "    <tr>\n",
       "      <th>1</th>\n",
       "      <td>M</td>\n",
       "      <td>25</td>\n",
       "      <td>Kyoungrok</td>\n",
       "    </tr>\n",
       "    <tr>\n",
       "      <th>2</th>\n",
       "      <td>W</td>\n",
       "      <td>23</td>\n",
       "      <td>Mina</td>\n",
       "    </tr>\n",
       "    <tr>\n",
       "      <th>3</th>\n",
       "      <td>W</td>\n",
       "      <td>20</td>\n",
       "      <td>Minseon</td>\n",
       "    </tr>\n",
       "  </tbody>\n",
       "</table>\n",
       "</div>"
      ],
      "text/plain": [
       "  sex  Age       Name\n",
       "0   M   21     Jihyun\n",
       "1   M   25  Kyoungrok\n",
       "2   W   23       Mina\n",
       "3   W   20    Minseon"
      ]
     },
     "execution_count": 47,
     "metadata": {},
     "output_type": "execute_result"
    }
   ],
   "source": [
    "df"
   ]
  },
  {
   "cell_type": "markdown",
   "id": "deb95bab-8fcd-46f0-a6a8-bbf6e81ec03f",
   "metadata": {},
   "source": [
    "### 데이터 프레임 만들기"
   ]
  },
  {
   "cell_type": "code",
   "execution_count": 50,
   "id": "dd67104c-e1f6-40b6-8c9d-0f34cbb56e08",
   "metadata": {},
   "outputs": [],
   "source": [
    "# 컬럼을 지정 - 리스트\n",
    "list_col = ['gender', 'age', 'name']\n",
    "list_row = [\n",
    "    ['M', 21, 'Jihyun'],\n",
    "    ['M', 25, 'Kyoungrok'],\n",
    "    ['W', 23, 'Mina'],\n",
    "    ['W', 20, 'Minseon']\n",
    "]"
   ]
  },
  {
   "cell_type": "code",
   "execution_count": 51,
   "id": "cd72d3c0-3f07-413b-81ff-fb13080d18e6",
   "metadata": {},
   "outputs": [
    {
     "data": {
      "text/html": [
       "<div>\n",
       "<style scoped>\n",
       "    .dataframe tbody tr th:only-of-type {\n",
       "        vertical-align: middle;\n",
       "    }\n",
       "\n",
       "    .dataframe tbody tr th {\n",
       "        vertical-align: top;\n",
       "    }\n",
       "\n",
       "    .dataframe thead th {\n",
       "        text-align: right;\n",
       "    }\n",
       "</style>\n",
       "<table border=\"1\" class=\"dataframe\">\n",
       "  <thead>\n",
       "    <tr style=\"text-align: right;\">\n",
       "      <th></th>\n",
       "      <th>gender</th>\n",
       "      <th>age</th>\n",
       "      <th>name</th>\n",
       "    </tr>\n",
       "  </thead>\n",
       "  <tbody>\n",
       "    <tr>\n",
       "      <th>0</th>\n",
       "      <td>M</td>\n",
       "      <td>21</td>\n",
       "      <td>Jihyun</td>\n",
       "    </tr>\n",
       "    <tr>\n",
       "      <th>1</th>\n",
       "      <td>M</td>\n",
       "      <td>25</td>\n",
       "      <td>Kyoungrok</td>\n",
       "    </tr>\n",
       "    <tr>\n",
       "      <th>2</th>\n",
       "      <td>W</td>\n",
       "      <td>23</td>\n",
       "      <td>Mina</td>\n",
       "    </tr>\n",
       "    <tr>\n",
       "      <th>3</th>\n",
       "      <td>W</td>\n",
       "      <td>20</td>\n",
       "      <td>Minseon</td>\n",
       "    </tr>\n",
       "  </tbody>\n",
       "</table>\n",
       "</div>"
      ],
      "text/plain": [
       "  gender  age       name\n",
       "0      M   21     Jihyun\n",
       "1      M   25  Kyoungrok\n",
       "2      W   23       Mina\n",
       "3      W   20    Minseon"
      ]
     },
     "execution_count": 51,
     "metadata": {},
     "output_type": "execute_result"
    }
   ],
   "source": [
    "df = pd.DataFrame(list_row, columns=list_col)\n",
    "df"
   ]
  },
  {
   "cell_type": "code",
   "execution_count": 53,
   "id": "87dd996d-07c8-4f64-a85e-1af65cd6f56d",
   "metadata": {},
   "outputs": [
    {
     "data": {
      "text/html": [
       "<div>\n",
       "<style scoped>\n",
       "    .dataframe tbody tr th:only-of-type {\n",
       "        vertical-align: middle;\n",
       "    }\n",
       "\n",
       "    .dataframe tbody tr th {\n",
       "        vertical-align: top;\n",
       "    }\n",
       "\n",
       "    .dataframe thead th {\n",
       "        text-align: right;\n",
       "    }\n",
       "</style>\n",
       "<table border=\"1\" class=\"dataframe\">\n",
       "  <thead>\n",
       "    <tr style=\"text-align: right;\">\n",
       "      <th></th>\n",
       "      <th>gender</th>\n",
       "      <th>age</th>\n",
       "      <th>name</th>\n",
       "    </tr>\n",
       "  </thead>\n",
       "  <tbody>\n",
       "    <tr>\n",
       "      <th>0</th>\n",
       "      <td>M</td>\n",
       "      <td>21</td>\n",
       "      <td>Jihyun</td>\n",
       "    </tr>\n",
       "    <tr>\n",
       "      <th>1</th>\n",
       "      <td>M</td>\n",
       "      <td>25</td>\n",
       "      <td>Kyoungrok</td>\n",
       "    </tr>\n",
       "    <tr>\n",
       "      <th>2</th>\n",
       "      <td>W</td>\n",
       "      <td>23</td>\n",
       "      <td>Mina</td>\n",
       "    </tr>\n",
       "    <tr>\n",
       "      <th>3</th>\n",
       "      <td>W</td>\n",
       "      <td>20</td>\n",
       "      <td>Minseon</td>\n",
       "    </tr>\n",
       "  </tbody>\n",
       "</table>\n",
       "</div>"
      ],
      "text/plain": [
       "  gender age       name\n",
       "0      M  21     Jihyun\n",
       "1      M  25  Kyoungrok\n",
       "2      W  23       Mina\n",
       "3      W  20    Minseon"
      ]
     },
     "execution_count": 53,
     "metadata": {},
     "output_type": "execute_result"
    }
   ],
   "source": [
    "# ndarray로 Dataframe\n",
    "df = pd.DataFrame(np.array(list_row), columns=list_col)\n",
    "df"
   ]
  },
  {
   "cell_type": "code",
   "execution_count": 55,
   "id": "07e1cced-3690-4488-98e2-39b4a33543e8",
   "metadata": {},
   "outputs": [
    {
     "data": {
      "text/plain": [
       "(4, 3)"
      ]
     },
     "execution_count": 55,
     "metadata": {},
     "output_type": "execute_result"
    }
   ],
   "source": [
    "df.shape"
   ]
  },
  {
   "cell_type": "code",
   "execution_count": 56,
   "id": "e666d007-4d4d-48f0-9992-a51e5c331daa",
   "metadata": {},
   "outputs": [
    {
     "data": {
      "text/html": [
       "<div>\n",
       "<style scoped>\n",
       "    .dataframe tbody tr th:only-of-type {\n",
       "        vertical-align: middle;\n",
       "    }\n",
       "\n",
       "    .dataframe tbody tr th {\n",
       "        vertical-align: top;\n",
       "    }\n",
       "\n",
       "    .dataframe thead th {\n",
       "        text-align: right;\n",
       "    }\n",
       "</style>\n",
       "<table border=\"1\" class=\"dataframe\">\n",
       "  <thead>\n",
       "    <tr style=\"text-align: right;\">\n",
       "      <th></th>\n",
       "      <th>category</th>\n",
       "      <th>price</th>\n",
       "      <th>size</th>\n",
       "    </tr>\n",
       "  </thead>\n",
       "  <tbody>\n",
       "    <tr>\n",
       "      <th>0</th>\n",
       "      <td>치킨</td>\n",
       "      <td>1000</td>\n",
       "      <td>10</td>\n",
       "    </tr>\n",
       "    <tr>\n",
       "      <th>1</th>\n",
       "      <td>피자</td>\n",
       "      <td>2000</td>\n",
       "      <td>8</td>\n",
       "    </tr>\n",
       "    <tr>\n",
       "      <th>2</th>\n",
       "      <td>햄버거</td>\n",
       "      <td>3000</td>\n",
       "      <td>8</td>\n",
       "    </tr>\n",
       "  </tbody>\n",
       "</table>\n",
       "</div>"
      ],
      "text/plain": [
       "  category  price  size\n",
       "0       치킨   1000    10\n",
       "1       피자   2000     8\n",
       "2      햄버거   3000     8"
      ]
     },
     "execution_count": 56,
     "metadata": {},
     "output_type": "execute_result"
    }
   ],
   "source": [
    "# 딕셔너리로 만들기\n",
    "data_dic = {\n",
    " 'category' : ['치킨', '피자', '햄버거'],\n",
    "    'price' : [1000,2000,3000],\n",
    "    'size' : [10,8,8]\n",
    "}\n",
    "pd.DataFrame(data_dic)"
   ]
  },
  {
   "cell_type": "code",
   "execution_count": 57,
   "id": "9b7762d3-6ffd-4954-ba73-540b6241d18a",
   "metadata": {},
   "outputs": [
    {
     "data": {
      "text/plain": [
       "[['M', '21', 'Jihyun'],\n",
       " ['M', '25', 'Kyoungrok'],\n",
       " ['W', '23', 'Mina'],\n",
       " ['W', '20', 'Minseon']]"
      ]
     },
     "execution_count": 57,
     "metadata": {},
     "output_type": "execute_result"
    }
   ],
   "source": [
    "# 리스트, 넘파이배열, 딕셔너리 <--> 데이터 프레임\n",
    "# 1. 데이터프레임 -> 리스트\n",
    "df.values.tolist()"
   ]
  },
  {
   "cell_type": "code",
   "execution_count": 59,
   "id": "e0351f19-be09-4c9d-a4fe-28ec48ac5d30",
   "metadata": {},
   "outputs": [
    {
     "data": {
      "text/plain": [
       "array([['M', '21', 'Jihyun'],\n",
       "       ['M', '25', 'Kyoungrok'],\n",
       "       ['W', '23', 'Mina'],\n",
       "       ['W', '20', 'Minseon']], dtype=object)"
      ]
     },
     "execution_count": 59,
     "metadata": {},
     "output_type": "execute_result"
    }
   ],
   "source": [
    "# 2. 데이터프레임 -> 넘파이\n",
    "df.values"
   ]
  },
  {
   "cell_type": "code",
   "execution_count": 60,
   "id": "3256c2fb-5ffd-4a56-b5af-ce86021b7da8",
   "metadata": {},
   "outputs": [
    {
     "data": {
      "text/plain": [
       "{'gender': {0: 'M', 1: 'M', 2: 'W', 3: 'W'},\n",
       " 'age': {0: '21', 1: '25', 2: '23', 3: '20'},\n",
       " 'name': {0: 'Jihyun', 1: 'Kyoungrok', 2: 'Mina', 3: 'Minseon'}}"
      ]
     },
     "execution_count": 60,
     "metadata": {},
     "output_type": "execute_result"
    }
   ],
   "source": [
    "# 3. 데이터프레임 -> 딕셔너리\n",
    "df.to_dict()"
   ]
  },
  {
   "cell_type": "code",
   "execution_count": 61,
   "id": "329196c3-be18-451d-993e-172f653396f7",
   "metadata": {},
   "outputs": [
    {
     "data": {
      "text/plain": [
       "{'gender': ['M', 'M', 'W', 'W'],\n",
       " 'age': ['21', '25', '23', '20'],\n",
       " 'name': ['Jihyun', 'Kyoungrok', 'Mina', 'Minseon']}"
      ]
     },
     "execution_count": 61,
     "metadata": {},
     "output_type": "execute_result"
    }
   ],
   "source": [
    "df.to_dict('list')"
   ]
  },
  {
   "cell_type": "markdown",
   "id": "dedfa5be-9348-4e18-89a7-2f2e3b20225c",
   "metadata": {},
   "source": [
    "### 행과 열 삭제"
   ]
  },
  {
   "cell_type": "code",
   "execution_count": 63,
   "id": "e201d476-e32f-4ee9-8228-6f824c9f3114",
   "metadata": {},
   "outputs": [
    {
     "data": {
      "text/html": [
       "<div>\n",
       "<style scoped>\n",
       "    .dataframe tbody tr th:only-of-type {\n",
       "        vertical-align: middle;\n",
       "    }\n",
       "\n",
       "    .dataframe tbody tr th {\n",
       "        vertical-align: top;\n",
       "    }\n",
       "\n",
       "    .dataframe thead th {\n",
       "        text-align: right;\n",
       "    }\n",
       "</style>\n",
       "<table border=\"1\" class=\"dataframe\">\n",
       "  <thead>\n",
       "    <tr style=\"text-align: right;\">\n",
       "      <th></th>\n",
       "      <th>0</th>\n",
       "      <th>1</th>\n",
       "      <th>2</th>\n",
       "      <th>3</th>\n",
       "    </tr>\n",
       "  </thead>\n",
       "  <tbody>\n",
       "    <tr>\n",
       "      <th>0</th>\n",
       "      <td>70</td>\n",
       "      <td>80</td>\n",
       "      <td>81</td>\n",
       "      <td>66</td>\n",
       "    </tr>\n",
       "    <tr>\n",
       "      <th>1</th>\n",
       "      <td>97</td>\n",
       "      <td>76</td>\n",
       "      <td>91</td>\n",
       "      <td>88</td>\n",
       "    </tr>\n",
       "    <tr>\n",
       "      <th>2</th>\n",
       "      <td>78</td>\n",
       "      <td>86</td>\n",
       "      <td>72</td>\n",
       "      <td>63</td>\n",
       "    </tr>\n",
       "  </tbody>\n",
       "</table>\n",
       "</div>"
      ],
      "text/plain": [
       "    0   1   2   3\n",
       "0  70  80  81  66\n",
       "1  97  76  91  88\n",
       "2  78  86  72  63"
      ]
     },
     "execution_count": 63,
     "metadata": {},
     "output_type": "execute_result"
    }
   ],
   "source": [
    "data = [\n",
    "    choice(range(60, 100), 4),\n",
    "    choice(range(60, 100), 4),\n",
    "    choice(range(60, 100), 4)\n",
    "]\n",
    "df = pd.DataFrame(data)\n",
    "df"
   ]
  },
  {
   "cell_type": "code",
   "execution_count": 65,
   "id": "3498007c-e53c-4f5a-be1e-58f457801990",
   "metadata": {},
   "outputs": [
    {
     "data": {
      "text/html": [
       "<div>\n",
       "<style scoped>\n",
       "    .dataframe tbody tr th:only-of-type {\n",
       "        vertical-align: middle;\n",
       "    }\n",
       "\n",
       "    .dataframe tbody tr th {\n",
       "        vertical-align: top;\n",
       "    }\n",
       "\n",
       "    .dataframe thead th {\n",
       "        text-align: right;\n",
       "    }\n",
       "</style>\n",
       "<table border=\"1\" class=\"dataframe\">\n",
       "  <thead>\n",
       "    <tr style=\"text-align: right;\">\n",
       "      <th></th>\n",
       "      <th>국어</th>\n",
       "      <th>영어</th>\n",
       "      <th>수학</th>\n",
       "      <th>과학</th>\n",
       "    </tr>\n",
       "  </thead>\n",
       "  <tbody>\n",
       "    <tr>\n",
       "      <th>0</th>\n",
       "      <td>70</td>\n",
       "      <td>80</td>\n",
       "      <td>81</td>\n",
       "      <td>66</td>\n",
       "    </tr>\n",
       "    <tr>\n",
       "      <th>1</th>\n",
       "      <td>97</td>\n",
       "      <td>76</td>\n",
       "      <td>91</td>\n",
       "      <td>88</td>\n",
       "    </tr>\n",
       "    <tr>\n",
       "      <th>2</th>\n",
       "      <td>78</td>\n",
       "      <td>86</td>\n",
       "      <td>72</td>\n",
       "      <td>63</td>\n",
       "    </tr>\n",
       "  </tbody>\n",
       "</table>\n",
       "</div>"
      ],
      "text/plain": [
       "   국어  영어  수학  과학\n",
       "0  70  80  81  66\n",
       "1  97  76  91  88\n",
       "2  78  86  72  63"
      ]
     },
     "execution_count": 65,
     "metadata": {},
     "output_type": "execute_result"
    }
   ],
   "source": [
    "df.columns = ['국어', '영어', '수학', '과학']\n",
    "df"
   ]
  },
  {
   "cell_type": "code",
   "execution_count": 66,
   "id": "14dbff64-99c8-44a9-a91d-035ea69c49b2",
   "metadata": {},
   "outputs": [
    {
     "data": {
      "text/html": [
       "<div>\n",
       "<style scoped>\n",
       "    .dataframe tbody tr th:only-of-type {\n",
       "        vertical-align: middle;\n",
       "    }\n",
       "\n",
       "    .dataframe tbody tr th {\n",
       "        vertical-align: top;\n",
       "    }\n",
       "\n",
       "    .dataframe thead th {\n",
       "        text-align: right;\n",
       "    }\n",
       "</style>\n",
       "<table border=\"1\" class=\"dataframe\">\n",
       "  <thead>\n",
       "    <tr style=\"text-align: right;\">\n",
       "      <th></th>\n",
       "      <th>국어</th>\n",
       "      <th>영어</th>\n",
       "      <th>수학</th>\n",
       "      <th>과학</th>\n",
       "    </tr>\n",
       "  </thead>\n",
       "  <tbody>\n",
       "    <tr>\n",
       "      <th>철이</th>\n",
       "      <td>70</td>\n",
       "      <td>80</td>\n",
       "      <td>81</td>\n",
       "      <td>66</td>\n",
       "    </tr>\n",
       "    <tr>\n",
       "      <th>미애</th>\n",
       "      <td>97</td>\n",
       "      <td>76</td>\n",
       "      <td>91</td>\n",
       "      <td>88</td>\n",
       "    </tr>\n",
       "    <tr>\n",
       "      <th>영희</th>\n",
       "      <td>78</td>\n",
       "      <td>86</td>\n",
       "      <td>72</td>\n",
       "      <td>63</td>\n",
       "    </tr>\n",
       "  </tbody>\n",
       "</table>\n",
       "</div>"
      ],
      "text/plain": [
       "    국어  영어  수학  과학\n",
       "철이  70  80  81  66\n",
       "미애  97  76  91  88\n",
       "영희  78  86  72  63"
      ]
     },
     "execution_count": 66,
     "metadata": {},
     "output_type": "execute_result"
    }
   ],
   "source": [
    "df.index = ['철이', '미애', '영희']\n",
    "df"
   ]
  },
  {
   "cell_type": "code",
   "execution_count": 68,
   "id": "e9ffa7c7-0537-46f1-8108-065a4bf92fe9",
   "metadata": {},
   "outputs": [
    {
     "data": {
      "text/html": [
       "<div>\n",
       "<style scoped>\n",
       "    .dataframe tbody tr th:only-of-type {\n",
       "        vertical-align: middle;\n",
       "    }\n",
       "\n",
       "    .dataframe tbody tr th {\n",
       "        vertical-align: top;\n",
       "    }\n",
       "\n",
       "    .dataframe thead th {\n",
       "        text-align: right;\n",
       "    }\n",
       "</style>\n",
       "<table border=\"1\" class=\"dataframe\">\n",
       "  <thead>\n",
       "    <tr style=\"text-align: right;\">\n",
       "      <th></th>\n",
       "      <th>국어</th>\n",
       "      <th>영어</th>\n",
       "      <th>수학</th>\n",
       "      <th>과학</th>\n",
       "    </tr>\n",
       "  </thead>\n",
       "  <tbody>\n",
       "    <tr>\n",
       "      <th>영희</th>\n",
       "      <td>78</td>\n",
       "      <td>86</td>\n",
       "      <td>72</td>\n",
       "      <td>63</td>\n",
       "    </tr>\n",
       "  </tbody>\n",
       "</table>\n",
       "</div>"
      ],
      "text/plain": [
       "    국어  영어  수학  과학\n",
       "영희  78  86  72  63"
      ]
     },
     "execution_count": 68,
     "metadata": {},
     "output_type": "execute_result"
    }
   ],
   "source": [
    "# 데이터 프레임 복사\n",
    "df2 = df[ : ]\n",
    "df2.drop(['철이', '미애'])"
   ]
  },
  {
   "cell_type": "code",
   "execution_count": 70,
   "id": "ca3d8418-08ec-4bba-8a87-bd089a978876",
   "metadata": {},
   "outputs": [],
   "source": [
    "dic_data = {'a':1, 'b':2, 'c':3}\n",
    "se = pd.Series(dic_data)"
   ]
  },
  {
   "cell_type": "code",
   "execution_count": 71,
   "id": "e3c0e3b5-985b-4331-827f-7ee5b19ff02a",
   "metadata": {},
   "outputs": [
    {
     "data": {
      "text/plain": [
       "(Index(['a', 'b', 'c'], dtype='object'), array([1, 2, 3], dtype=int64))"
      ]
     },
     "execution_count": 71,
     "metadata": {},
     "output_type": "execute_result"
    }
   ],
   "source": [
    "se.index, se.values"
   ]
  },
  {
   "cell_type": "code",
   "execution_count": 72,
   "id": "70c0c869-ebb9-40ae-ad2e-95d067697ae4",
   "metadata": {},
   "outputs": [
    {
     "data": {
      "text/plain": [
       "이름              철이\n",
       "생년월일    2000-01-01\n",
       "성별               남\n",
       "학생여부          True\n",
       "dtype: object"
      ]
     },
     "execution_count": 72,
     "metadata": {},
     "output_type": "execute_result"
    }
   ],
   "source": [
    "dic_data = {\n",
    "    '이름' : '철이',\n",
    "    '생년월일':'2000-01-01',\n",
    "    '성별':'남',\n",
    "    '학생여부':True\n",
    "}\n",
    "sr = pd.Series(dic_data)\n",
    "sr"
   ]
  },
  {
   "cell_type": "code",
   "execution_count": 73,
   "id": "a26d70b4-8600-440a-bf6d-2a5c9046760d",
   "metadata": {},
   "outputs": [
    {
     "data": {
      "text/plain": [
       "('철이', '철이')"
      ]
     },
     "execution_count": 73,
     "metadata": {},
     "output_type": "execute_result"
    }
   ],
   "source": [
    "sr[0], sr['이름']"
   ]
  },
  {
   "cell_type": "code",
   "execution_count": 74,
   "id": "22b03758-4d38-4a64-82d1-83e7414e81de",
   "metadata": {},
   "outputs": [
    {
     "data": {
      "text/plain": [
       "생년월일    2000-01-01\n",
       "성별               남\n",
       "dtype: object"
      ]
     },
     "execution_count": 74,
     "metadata": {},
     "output_type": "execute_result"
    }
   ],
   "source": [
    "sr[[1,2]]"
   ]
  },
  {
   "cell_type": "code",
   "execution_count": 76,
   "id": "6f1a50c6-533b-4dd6-a386-008f671940c8",
   "metadata": {},
   "outputs": [
    {
     "data": {
      "text/plain": [
       "생년월일    2000-01-01\n",
       "성별               남\n",
       "dtype: object"
      ]
     },
     "execution_count": 76,
     "metadata": {},
     "output_type": "execute_result"
    }
   ],
   "source": [
    "sr[['생년월일','성별']]"
   ]
  },
  {
   "cell_type": "code",
   "execution_count": 77,
   "id": "f8764237-b4a4-46cf-bb5d-1bde019ed3fe",
   "metadata": {},
   "outputs": [
    {
     "data": {
      "text/plain": [
       "생년월일    2000-01-01\n",
       "dtype: object"
      ]
     },
     "execution_count": 77,
     "metadata": {},
     "output_type": "execute_result"
    }
   ],
   "source": [
    "sr[1:2]"
   ]
  },
  {
   "cell_type": "code",
   "execution_count": 78,
   "id": "0095bb51-1954-4d33-80c0-40cd40e99c8a",
   "metadata": {},
   "outputs": [
    {
     "data": {
      "text/plain": [
       "생년월일    2000-01-01\n",
       "성별               남\n",
       "dtype: object"
      ]
     },
     "execution_count": 78,
     "metadata": {},
     "output_type": "execute_result"
    }
   ],
   "source": [
    "sr['생년월일':'성별']"
   ]
  },
  {
   "cell_type": "code",
   "execution_count": 80,
   "id": "e93dd3fb-1e2a-4f97-89a0-66c465ba2248",
   "metadata": {},
   "outputs": [
    {
     "data": {
      "text/html": [
       "<div>\n",
       "<style scoped>\n",
       "    .dataframe tbody tr th:only-of-type {\n",
       "        vertical-align: middle;\n",
       "    }\n",
       "\n",
       "    .dataframe tbody tr th {\n",
       "        vertical-align: top;\n",
       "    }\n",
       "\n",
       "    .dataframe thead th {\n",
       "        text-align: right;\n",
       "    }\n",
       "</style>\n",
       "<table border=\"1\" class=\"dataframe\">\n",
       "  <thead>\n",
       "    <tr style=\"text-align: right;\">\n",
       "      <th></th>\n",
       "      <th>0</th>\n",
       "      <th>1</th>\n",
       "      <th>2</th>\n",
       "    </tr>\n",
       "  </thead>\n",
       "  <tbody>\n",
       "    <tr>\n",
       "      <th>0</th>\n",
       "      <td>1</td>\n",
       "      <td>4</td>\n",
       "      <td>0</td>\n",
       "    </tr>\n",
       "    <tr>\n",
       "      <th>1</th>\n",
       "      <td>5</td>\n",
       "      <td>1</td>\n",
       "      <td>1</td>\n",
       "    </tr>\n",
       "    <tr>\n",
       "      <th>2</th>\n",
       "      <td>9</td>\n",
       "      <td>2</td>\n",
       "      <td>7</td>\n",
       "    </tr>\n",
       "    <tr>\n",
       "      <th>3</th>\n",
       "      <td>3</td>\n",
       "      <td>7</td>\n",
       "      <td>0</td>\n",
       "    </tr>\n",
       "    <tr>\n",
       "      <th>4</th>\n",
       "      <td>9</td>\n",
       "      <td>2</td>\n",
       "      <td>3</td>\n",
       "    </tr>\n",
       "  </tbody>\n",
       "</table>\n",
       "</div>"
      ],
      "text/plain": [
       "   0  1  2\n",
       "0  1  4  0\n",
       "1  5  1  1\n",
       "2  9  2  7\n",
       "3  3  7  0\n",
       "4  9  2  3"
      ]
     },
     "execution_count": 80,
     "metadata": {},
     "output_type": "execute_result"
    }
   ],
   "source": [
    "dic_data = [\n",
    "    choice(range(10), 3),\n",
    "    choice(range(10), 3),\n",
    "    choice(range(10), 3),\n",
    "    choice(range(10), 3),\n",
    "    choice(range(10), 3)\n",
    "]\n",
    "df = pd.DataFrame(dic_data)\n",
    "df"
   ]
  },
  {
   "cell_type": "code",
   "execution_count": 81,
   "id": "e8bdfacd-d6f5-44f7-a7a9-e0d8c7a9fc33",
   "metadata": {},
   "outputs": [
    {
     "data": {
      "text/html": [
       "<div>\n",
       "<style scoped>\n",
       "    .dataframe tbody tr th:only-of-type {\n",
       "        vertical-align: middle;\n",
       "    }\n",
       "\n",
       "    .dataframe tbody tr th {\n",
       "        vertical-align: top;\n",
       "    }\n",
       "\n",
       "    .dataframe thead th {\n",
       "        text-align: right;\n",
       "    }\n",
       "</style>\n",
       "<table border=\"1\" class=\"dataframe\">\n",
       "  <thead>\n",
       "    <tr style=\"text-align: right;\">\n",
       "      <th></th>\n",
       "      <th>a</th>\n",
       "      <th>b</th>\n",
       "      <th>c</th>\n",
       "      <th>d</th>\n",
       "      <th>e</th>\n",
       "    </tr>\n",
       "  </thead>\n",
       "  <tbody>\n",
       "    <tr>\n",
       "      <th>0</th>\n",
       "      <td>4</td>\n",
       "      <td>4</td>\n",
       "      <td>1</td>\n",
       "      <td>6</td>\n",
       "      <td>4</td>\n",
       "    </tr>\n",
       "    <tr>\n",
       "      <th>1</th>\n",
       "      <td>2</td>\n",
       "      <td>6</td>\n",
       "      <td>2</td>\n",
       "      <td>2</td>\n",
       "      <td>3</td>\n",
       "    </tr>\n",
       "    <tr>\n",
       "      <th>2</th>\n",
       "      <td>1</td>\n",
       "      <td>7</td>\n",
       "      <td>8</td>\n",
       "      <td>4</td>\n",
       "      <td>4</td>\n",
       "    </tr>\n",
       "  </tbody>\n",
       "</table>\n",
       "</div>"
      ],
      "text/plain": [
       "   a  b  c  d  e\n",
       "0  4  4  1  6  4\n",
       "1  2  6  2  2  3\n",
       "2  1  7  8  4  4"
      ]
     },
     "execution_count": 81,
     "metadata": {},
     "output_type": "execute_result"
    }
   ],
   "source": [
    "dic_data = {\n",
    "    'a':choice(range(10), 3),\n",
    "    'b':choice(range(10), 3),\n",
    "    'c':choice(range(10), 3),\n",
    "    'd':choice(range(10), 3),\n",
    "    'e':choice(range(10), 3)\n",
    "}\n",
    "df = pd.DataFrame(dic_data)\n",
    "df"
   ]
  },
  {
   "cell_type": "code",
   "execution_count": 84,
   "id": "d390e9c8-2e7b-48aa-bd6e-6b1afba848c5",
   "metadata": {},
   "outputs": [
    {
     "data": {
      "text/plain": [
       "0    4\n",
       "1    2\n",
       "2    1\n",
       "Name: a, dtype: int32"
      ]
     },
     "execution_count": 84,
     "metadata": {},
     "output_type": "execute_result"
    }
   ],
   "source": [
    "df['a'] # 결과가 시리즈"
   ]
  },
  {
   "cell_type": "code",
   "execution_count": 83,
   "id": "56a71554-bddc-4e3b-838f-744168432bdc",
   "metadata": {},
   "outputs": [
    {
     "data": {
      "text/html": [
       "<div>\n",
       "<style scoped>\n",
       "    .dataframe tbody tr th:only-of-type {\n",
       "        vertical-align: middle;\n",
       "    }\n",
       "\n",
       "    .dataframe tbody tr th {\n",
       "        vertical-align: top;\n",
       "    }\n",
       "\n",
       "    .dataframe thead th {\n",
       "        text-align: right;\n",
       "    }\n",
       "</style>\n",
       "<table border=\"1\" class=\"dataframe\">\n",
       "  <thead>\n",
       "    <tr style=\"text-align: right;\">\n",
       "      <th></th>\n",
       "      <th>a</th>\n",
       "      <th>b</th>\n",
       "      <th>c</th>\n",
       "      <th>d</th>\n",
       "      <th>e</th>\n",
       "    </tr>\n",
       "  </thead>\n",
       "  <tbody>\n",
       "    <tr>\n",
       "      <th>0</th>\n",
       "      <td>4</td>\n",
       "      <td>4</td>\n",
       "      <td>1</td>\n",
       "      <td>6</td>\n",
       "      <td>4</td>\n",
       "    </tr>\n",
       "    <tr>\n",
       "      <th>1</th>\n",
       "      <td>2</td>\n",
       "      <td>6</td>\n",
       "      <td>2</td>\n",
       "      <td>2</td>\n",
       "      <td>3</td>\n",
       "    </tr>\n",
       "  </tbody>\n",
       "</table>\n",
       "</div>"
      ],
      "text/plain": [
       "   a  b  c  d  e\n",
       "0  4  4  1  6  4\n",
       "1  2  6  2  2  3"
      ]
     },
     "execution_count": 83,
     "metadata": {},
     "output_type": "execute_result"
    }
   ],
   "source": [
    "df[:2]"
   ]
  },
  {
   "cell_type": "code",
   "execution_count": 85,
   "id": "28d4d0ff-8cbd-4e4a-a1f2-a94fa76c5620",
   "metadata": {},
   "outputs": [
    {
     "data": {
      "text/html": [
       "<div>\n",
       "<style scoped>\n",
       "    .dataframe tbody tr th:only-of-type {\n",
       "        vertical-align: middle;\n",
       "    }\n",
       "\n",
       "    .dataframe tbody tr th {\n",
       "        vertical-align: top;\n",
       "    }\n",
       "\n",
       "    .dataframe thead th {\n",
       "        text-align: right;\n",
       "    }\n",
       "</style>\n",
       "<table border=\"1\" class=\"dataframe\">\n",
       "  <thead>\n",
       "    <tr style=\"text-align: right;\">\n",
       "      <th></th>\n",
       "      <th>a</th>\n",
       "    </tr>\n",
       "  </thead>\n",
       "  <tbody>\n",
       "    <tr>\n",
       "      <th>0</th>\n",
       "      <td>4</td>\n",
       "    </tr>\n",
       "    <tr>\n",
       "      <th>1</th>\n",
       "      <td>2</td>\n",
       "    </tr>\n",
       "    <tr>\n",
       "      <th>2</th>\n",
       "      <td>1</td>\n",
       "    </tr>\n",
       "  </tbody>\n",
       "</table>\n",
       "</div>"
      ],
      "text/plain": [
       "   a\n",
       "0  4\n",
       "1  2\n",
       "2  1"
      ]
     },
     "execution_count": 85,
     "metadata": {},
     "output_type": "execute_result"
    }
   ],
   "source": [
    "df[['a']] # 결과가 데이터 프레임"
   ]
  },
  {
   "cell_type": "code",
   "execution_count": 87,
   "id": "6a899cbf-c4d5-4c5e-8deb-3016d244ca37",
   "metadata": {},
   "outputs": [
    {
     "data": {
      "text/html": [
       "<div>\n",
       "<style scoped>\n",
       "    .dataframe tbody tr th:only-of-type {\n",
       "        vertical-align: middle;\n",
       "    }\n",
       "\n",
       "    .dataframe tbody tr th {\n",
       "        vertical-align: top;\n",
       "    }\n",
       "\n",
       "    .dataframe thead th {\n",
       "        text-align: right;\n",
       "    }\n",
       "</style>\n",
       "<table border=\"1\" class=\"dataframe\">\n",
       "  <thead>\n",
       "    <tr style=\"text-align: right;\">\n",
       "      <th></th>\n",
       "      <th>a</th>\n",
       "      <th>b</th>\n",
       "      <th>c</th>\n",
       "      <th>d</th>\n",
       "      <th>e</th>\n",
       "    </tr>\n",
       "  </thead>\n",
       "  <tbody>\n",
       "    <tr>\n",
       "      <th>2</th>\n",
       "      <td>1</td>\n",
       "      <td>7</td>\n",
       "      <td>8</td>\n",
       "      <td>4</td>\n",
       "      <td>4</td>\n",
       "    </tr>\n",
       "  </tbody>\n",
       "</table>\n",
       "</div>"
      ],
      "text/plain": [
       "   a  b  c  d  e\n",
       "2  1  7  8  4  4"
      ]
     },
     "execution_count": 87,
     "metadata": {},
     "output_type": "execute_result"
    }
   ],
   "source": [
    "df.drop([0,1], axis=0)"
   ]
  },
  {
   "cell_type": "code",
   "execution_count": 88,
   "id": "480badc8-b679-436c-81b3-be079d1cdab7",
   "metadata": {},
   "outputs": [
    {
     "data": {
      "text/html": [
       "<div>\n",
       "<style scoped>\n",
       "    .dataframe tbody tr th:only-of-type {\n",
       "        vertical-align: middle;\n",
       "    }\n",
       "\n",
       "    .dataframe tbody tr th {\n",
       "        vertical-align: top;\n",
       "    }\n",
       "\n",
       "    .dataframe thead th {\n",
       "        text-align: right;\n",
       "    }\n",
       "</style>\n",
       "<table border=\"1\" class=\"dataframe\">\n",
       "  <thead>\n",
       "    <tr style=\"text-align: right;\">\n",
       "      <th></th>\n",
       "      <th>c</th>\n",
       "      <th>d</th>\n",
       "      <th>e</th>\n",
       "    </tr>\n",
       "  </thead>\n",
       "  <tbody>\n",
       "    <tr>\n",
       "      <th>0</th>\n",
       "      <td>1</td>\n",
       "      <td>6</td>\n",
       "      <td>4</td>\n",
       "    </tr>\n",
       "    <tr>\n",
       "      <th>1</th>\n",
       "      <td>2</td>\n",
       "      <td>2</td>\n",
       "      <td>3</td>\n",
       "    </tr>\n",
       "    <tr>\n",
       "      <th>2</th>\n",
       "      <td>8</td>\n",
       "      <td>4</td>\n",
       "      <td>4</td>\n",
       "    </tr>\n",
       "  </tbody>\n",
       "</table>\n",
       "</div>"
      ],
      "text/plain": [
       "   c  d  e\n",
       "0  1  6  4\n",
       "1  2  2  3\n",
       "2  8  4  4"
      ]
     },
     "execution_count": 88,
     "metadata": {},
     "output_type": "execute_result"
    }
   ],
   "source": [
    "df.drop(['a', 'b'], axis=1)"
   ]
  },
  {
   "cell_type": "markdown",
   "id": "f204a162-1d8a-411d-999e-09f68502e7a5",
   "metadata": {},
   "source": [
    "# 행 선택"
   ]
  },
  {
   "cell_type": "code",
   "execution_count": 90,
   "id": "cb772e6a-0212-4394-add2-f54d79b0e0f4",
   "metadata": {},
   "outputs": [
    {
     "data": {
      "text/html": [
       "<div>\n",
       "<style scoped>\n",
       "    .dataframe tbody tr th:only-of-type {\n",
       "        vertical-align: middle;\n",
       "    }\n",
       "\n",
       "    .dataframe tbody tr th {\n",
       "        vertical-align: top;\n",
       "    }\n",
       "\n",
       "    .dataframe thead th {\n",
       "        text-align: right;\n",
       "    }\n",
       "</style>\n",
       "<table border=\"1\" class=\"dataframe\">\n",
       "  <thead>\n",
       "    <tr style=\"text-align: right;\">\n",
       "      <th></th>\n",
       "      <th>0</th>\n",
       "      <th>1</th>\n",
       "      <th>2</th>\n",
       "      <th>3</th>\n",
       "      <th>4</th>\n",
       "    </tr>\n",
       "  </thead>\n",
       "  <tbody>\n",
       "    <tr>\n",
       "      <th>0</th>\n",
       "      <td>56</td>\n",
       "      <td>97</td>\n",
       "      <td>95</td>\n",
       "      <td>97</td>\n",
       "      <td>32</td>\n",
       "    </tr>\n",
       "    <tr>\n",
       "      <th>1</th>\n",
       "      <td>4</td>\n",
       "      <td>70</td>\n",
       "      <td>80</td>\n",
       "      <td>57</td>\n",
       "      <td>35</td>\n",
       "    </tr>\n",
       "    <tr>\n",
       "      <th>2</th>\n",
       "      <td>39</td>\n",
       "      <td>1</td>\n",
       "      <td>72</td>\n",
       "      <td>72</td>\n",
       "      <td>49</td>\n",
       "    </tr>\n",
       "    <tr>\n",
       "      <th>3</th>\n",
       "      <td>47</td>\n",
       "      <td>25</td>\n",
       "      <td>24</td>\n",
       "      <td>32</td>\n",
       "      <td>48</td>\n",
       "    </tr>\n",
       "    <tr>\n",
       "      <th>4</th>\n",
       "      <td>67</td>\n",
       "      <td>96</td>\n",
       "      <td>8</td>\n",
       "      <td>0</td>\n",
       "      <td>65</td>\n",
       "    </tr>\n",
       "  </tbody>\n",
       "</table>\n",
       "</div>"
      ],
      "text/plain": [
       "    0   1   2   3   4\n",
       "0  56  97  95  97  32\n",
       "1   4  70  80  57  35\n",
       "2  39   1  72  72  49\n",
       "3  47  25  24  32  48\n",
       "4  67  96   8   0  65"
      ]
     },
     "execution_count": 90,
     "metadata": {},
     "output_type": "execute_result"
    }
   ],
   "source": [
    "data = [\n",
    "    choice(range(100), 5),\n",
    "    choice(range(100), 5),\n",
    "    choice(range(100), 5),\n",
    "    choice(range(100), 5),\n",
    "    choice(range(100), 5)\n",
    "]\n",
    "df = pd.DataFrame(data)\n",
    "df"
   ]
  },
  {
   "cell_type": "code",
   "execution_count": 91,
   "id": "368be5cc-9615-489a-8b00-9379f833af92",
   "metadata": {},
   "outputs": [
    {
     "data": {
      "text/plain": [
       "0    56\n",
       "1     4\n",
       "2    39\n",
       "3    47\n",
       "4    67\n",
       "Name: 0, dtype: int32"
      ]
     },
     "execution_count": 91,
     "metadata": {},
     "output_type": "execute_result"
    }
   ],
   "source": [
    "df[0]"
   ]
  },
  {
   "cell_type": "code",
   "execution_count": 93,
   "id": "45baa52b-2856-4e62-bec2-41d98edae1ab",
   "metadata": {},
   "outputs": [
    {
     "data": {
      "text/html": [
       "<div>\n",
       "<style scoped>\n",
       "    .dataframe tbody tr th:only-of-type {\n",
       "        vertical-align: middle;\n",
       "    }\n",
       "\n",
       "    .dataframe tbody tr th {\n",
       "        vertical-align: top;\n",
       "    }\n",
       "\n",
       "    .dataframe thead th {\n",
       "        text-align: right;\n",
       "    }\n",
       "</style>\n",
       "<table border=\"1\" class=\"dataframe\">\n",
       "  <thead>\n",
       "    <tr style=\"text-align: right;\">\n",
       "      <th></th>\n",
       "      <th>0</th>\n",
       "      <th>2</th>\n",
       "    </tr>\n",
       "  </thead>\n",
       "  <tbody>\n",
       "    <tr>\n",
       "      <th>0</th>\n",
       "      <td>56</td>\n",
       "      <td>95</td>\n",
       "    </tr>\n",
       "    <tr>\n",
       "      <th>1</th>\n",
       "      <td>4</td>\n",
       "      <td>80</td>\n",
       "    </tr>\n",
       "    <tr>\n",
       "      <th>2</th>\n",
       "      <td>39</td>\n",
       "      <td>72</td>\n",
       "    </tr>\n",
       "    <tr>\n",
       "      <th>3</th>\n",
       "      <td>47</td>\n",
       "      <td>24</td>\n",
       "    </tr>\n",
       "    <tr>\n",
       "      <th>4</th>\n",
       "      <td>67</td>\n",
       "      <td>8</td>\n",
       "    </tr>\n",
       "  </tbody>\n",
       "</table>\n",
       "</div>"
      ],
      "text/plain": [
       "    0   2\n",
       "0  56  95\n",
       "1   4  80\n",
       "2  39  72\n",
       "3  47  24\n",
       "4  67   8"
      ]
     },
     "execution_count": 93,
     "metadata": {},
     "output_type": "execute_result"
    }
   ],
   "source": [
    "# df[원소한개] 원소 한개: 스칼라, 벡터 --> 컬럼 데이터\n",
    "# df[:] : 슬라이싱 --> 로우 데이터\n",
    "df[[0,2]]"
   ]
  },
  {
   "cell_type": "markdown",
   "id": "c3e288dd-c83a-4860-ade3-8a9ea06329f9",
   "metadata": {},
   "source": [
    "# loc / iloc\n",
    "### 인덱스 기준\n",
    "### loc 인덱스 이름 그대로\n",
    "### iloc 인덱스이름과 상관없이 배열의 인덱스로 취급"
   ]
  },
  {
   "cell_type": "code",
   "execution_count": 94,
   "id": "b9e84cbb-0250-4706-9c51-e82c6bcd015b",
   "metadata": {},
   "outputs": [
    {
     "data": {
      "text/html": [
       "<div>\n",
       "<style scoped>\n",
       "    .dataframe tbody tr th:only-of-type {\n",
       "        vertical-align: middle;\n",
       "    }\n",
       "\n",
       "    .dataframe tbody tr th {\n",
       "        vertical-align: top;\n",
       "    }\n",
       "\n",
       "    .dataframe thead th {\n",
       "        text-align: right;\n",
       "    }\n",
       "</style>\n",
       "<table border=\"1\" class=\"dataframe\">\n",
       "  <thead>\n",
       "    <tr style=\"text-align: right;\">\n",
       "      <th></th>\n",
       "      <th>0</th>\n",
       "      <th>1</th>\n",
       "      <th>2</th>\n",
       "      <th>3</th>\n",
       "      <th>4</th>\n",
       "    </tr>\n",
       "  </thead>\n",
       "  <tbody>\n",
       "    <tr>\n",
       "      <th>1</th>\n",
       "      <td>4</td>\n",
       "      <td>70</td>\n",
       "      <td>80</td>\n",
       "      <td>57</td>\n",
       "      <td>35</td>\n",
       "    </tr>\n",
       "    <tr>\n",
       "      <th>0</th>\n",
       "      <td>56</td>\n",
       "      <td>97</td>\n",
       "      <td>95</td>\n",
       "      <td>97</td>\n",
       "      <td>32</td>\n",
       "    </tr>\n",
       "  </tbody>\n",
       "</table>\n",
       "</div>"
      ],
      "text/plain": [
       "    0   1   2   3   4\n",
       "1   4  70  80  57  35\n",
       "0  56  97  95  97  32"
      ]
     },
     "execution_count": 94,
     "metadata": {},
     "output_type": "execute_result"
    }
   ],
   "source": [
    "df.loc[[1,0]]"
   ]
  },
  {
   "cell_type": "code",
   "execution_count": 95,
   "id": "b6d6487c-433a-4f76-b560-870d7e0729e6",
   "metadata": {},
   "outputs": [
    {
     "data": {
      "text/html": [
       "<div>\n",
       "<style scoped>\n",
       "    .dataframe tbody tr th:only-of-type {\n",
       "        vertical-align: middle;\n",
       "    }\n",
       "\n",
       "    .dataframe tbody tr th {\n",
       "        vertical-align: top;\n",
       "    }\n",
       "\n",
       "    .dataframe thead th {\n",
       "        text-align: right;\n",
       "    }\n",
       "</style>\n",
       "<table border=\"1\" class=\"dataframe\">\n",
       "  <thead>\n",
       "    <tr style=\"text-align: right;\">\n",
       "      <th></th>\n",
       "      <th>0</th>\n",
       "      <th>1</th>\n",
       "      <th>2</th>\n",
       "    </tr>\n",
       "  </thead>\n",
       "  <tbody>\n",
       "    <tr>\n",
       "      <th>0</th>\n",
       "      <td>56</td>\n",
       "      <td>97</td>\n",
       "      <td>95</td>\n",
       "    </tr>\n",
       "    <tr>\n",
       "      <th>1</th>\n",
       "      <td>4</td>\n",
       "      <td>70</td>\n",
       "      <td>80</td>\n",
       "    </tr>\n",
       "    <tr>\n",
       "      <th>2</th>\n",
       "      <td>39</td>\n",
       "      <td>1</td>\n",
       "      <td>72</td>\n",
       "    </tr>\n",
       "    <tr>\n",
       "      <th>3</th>\n",
       "      <td>47</td>\n",
       "      <td>25</td>\n",
       "      <td>24</td>\n",
       "    </tr>\n",
       "  </tbody>\n",
       "</table>\n",
       "</div>"
      ],
      "text/plain": [
       "    0   1   2\n",
       "0  56  97  95\n",
       "1   4  70  80\n",
       "2  39   1  72\n",
       "3  47  25  24"
      ]
     },
     "execution_count": 95,
     "metadata": {},
     "output_type": "execute_result"
    }
   ],
   "source": [
    "df.loc[:3,:2]"
   ]
  },
  {
   "cell_type": "code",
   "execution_count": 96,
   "id": "89401884-94a5-4eb7-9821-1f6a791a87bf",
   "metadata": {},
   "outputs": [
    {
     "data": {
      "text/html": [
       "<div>\n",
       "<style scoped>\n",
       "    .dataframe tbody tr th:only-of-type {\n",
       "        vertical-align: middle;\n",
       "    }\n",
       "\n",
       "    .dataframe tbody tr th {\n",
       "        vertical-align: top;\n",
       "    }\n",
       "\n",
       "    .dataframe thead th {\n",
       "        text-align: right;\n",
       "    }\n",
       "</style>\n",
       "<table border=\"1\" class=\"dataframe\">\n",
       "  <thead>\n",
       "    <tr style=\"text-align: right;\">\n",
       "      <th></th>\n",
       "      <th>0</th>\n",
       "      <th>1</th>\n",
       "    </tr>\n",
       "  </thead>\n",
       "  <tbody>\n",
       "    <tr>\n",
       "      <th>0</th>\n",
       "      <td>56</td>\n",
       "      <td>97</td>\n",
       "    </tr>\n",
       "    <tr>\n",
       "      <th>1</th>\n",
       "      <td>4</td>\n",
       "      <td>70</td>\n",
       "    </tr>\n",
       "    <tr>\n",
       "      <th>2</th>\n",
       "      <td>39</td>\n",
       "      <td>1</td>\n",
       "    </tr>\n",
       "  </tbody>\n",
       "</table>\n",
       "</div>"
      ],
      "text/plain": [
       "    0   1\n",
       "0  56  97\n",
       "1   4  70\n",
       "2  39   1"
      ]
     },
     "execution_count": 96,
     "metadata": {},
     "output_type": "execute_result"
    }
   ],
   "source": [
    "df.iloc[:3,:2]"
   ]
  },
  {
   "cell_type": "code",
   "execution_count": null,
   "id": "abea8ce0-4bd3-4012-8dde-d527da86570e",
   "metadata": {},
   "outputs": [],
   "source": [
    "df.columns['a', 'b', 'c', 'd', 'e']\n",
    "df.index = ['i0', 'i1', 'i2', 'i3', 'i4']"
   ]
  },
  {
   "cell_type": "code",
   "execution_count": 97,
   "id": "cbcf17d7-8392-4d0e-9ff4-2befa332d7c7",
   "metadata": {},
   "outputs": [
    {
     "data": {
      "text/html": [
       "<div>\n",
       "<style scoped>\n",
       "    .dataframe tbody tr th:only-of-type {\n",
       "        vertical-align: middle;\n",
       "    }\n",
       "\n",
       "    .dataframe tbody tr th {\n",
       "        vertical-align: top;\n",
       "    }\n",
       "\n",
       "    .dataframe thead th {\n",
       "        text-align: right;\n",
       "    }\n",
       "</style>\n",
       "<table border=\"1\" class=\"dataframe\">\n",
       "  <thead>\n",
       "    <tr style=\"text-align: right;\">\n",
       "      <th></th>\n",
       "      <th>0</th>\n",
       "      <th>1</th>\n",
       "      <th>2</th>\n",
       "      <th>3</th>\n",
       "      <th>4</th>\n",
       "    </tr>\n",
       "  </thead>\n",
       "  <tbody>\n",
       "    <tr>\n",
       "      <th>0</th>\n",
       "      <td>56</td>\n",
       "      <td>97</td>\n",
       "      <td>95</td>\n",
       "      <td>97</td>\n",
       "      <td>32</td>\n",
       "    </tr>\n",
       "    <tr>\n",
       "      <th>1</th>\n",
       "      <td>4</td>\n",
       "      <td>70</td>\n",
       "      <td>80</td>\n",
       "      <td>57</td>\n",
       "      <td>35</td>\n",
       "    </tr>\n",
       "    <tr>\n",
       "      <th>2</th>\n",
       "      <td>39</td>\n",
       "      <td>1</td>\n",
       "      <td>72</td>\n",
       "      <td>72</td>\n",
       "      <td>49</td>\n",
       "    </tr>\n",
       "    <tr>\n",
       "      <th>3</th>\n",
       "      <td>47</td>\n",
       "      <td>25</td>\n",
       "      <td>24</td>\n",
       "      <td>32</td>\n",
       "      <td>48</td>\n",
       "    </tr>\n",
       "  </tbody>\n",
       "</table>\n",
       "</div>"
      ],
      "text/plain": [
       "    0   1   2   3   4\n",
       "0  56  97  95  97  32\n",
       "1   4  70  80  57  35\n",
       "2  39   1  72  72  49\n",
       "3  47  25  24  32  48"
      ]
     },
     "execution_count": 97,
     "metadata": {},
     "output_type": "execute_result"
    }
   ],
   "source": [
    "df.iloc[0:4]"
   ]
  },
  {
   "cell_type": "code",
   "execution_count": 98,
   "id": "b7b2ab34-49b1-44db-bf87-55fd68baa0c0",
   "metadata": {},
   "outputs": [
    {
     "data": {
      "text/html": [
       "<div>\n",
       "<style scoped>\n",
       "    .dataframe tbody tr th:only-of-type {\n",
       "        vertical-align: middle;\n",
       "    }\n",
       "\n",
       "    .dataframe tbody tr th {\n",
       "        vertical-align: top;\n",
       "    }\n",
       "\n",
       "    .dataframe thead th {\n",
       "        text-align: right;\n",
       "    }\n",
       "</style>\n",
       "<table border=\"1\" class=\"dataframe\">\n",
       "  <thead>\n",
       "    <tr style=\"text-align: right;\">\n",
       "      <th></th>\n",
       "      <th>0</th>\n",
       "      <th>1</th>\n",
       "      <th>2</th>\n",
       "      <th>3</th>\n",
       "      <th>4</th>\n",
       "      <th>g</th>\n",
       "    </tr>\n",
       "  </thead>\n",
       "  <tbody>\n",
       "    <tr>\n",
       "      <th>0</th>\n",
       "      <td>56</td>\n",
       "      <td>97</td>\n",
       "      <td>95</td>\n",
       "      <td>97</td>\n",
       "      <td>32</td>\n",
       "      <td>0</td>\n",
       "    </tr>\n",
       "    <tr>\n",
       "      <th>1</th>\n",
       "      <td>4</td>\n",
       "      <td>70</td>\n",
       "      <td>80</td>\n",
       "      <td>57</td>\n",
       "      <td>35</td>\n",
       "      <td>0</td>\n",
       "    </tr>\n",
       "    <tr>\n",
       "      <th>2</th>\n",
       "      <td>39</td>\n",
       "      <td>1</td>\n",
       "      <td>72</td>\n",
       "      <td>72</td>\n",
       "      <td>49</td>\n",
       "      <td>0</td>\n",
       "    </tr>\n",
       "    <tr>\n",
       "      <th>3</th>\n",
       "      <td>47</td>\n",
       "      <td>25</td>\n",
       "      <td>24</td>\n",
       "      <td>32</td>\n",
       "      <td>48</td>\n",
       "      <td>0</td>\n",
       "    </tr>\n",
       "    <tr>\n",
       "      <th>4</th>\n",
       "      <td>67</td>\n",
       "      <td>96</td>\n",
       "      <td>8</td>\n",
       "      <td>0</td>\n",
       "      <td>65</td>\n",
       "      <td>0</td>\n",
       "    </tr>\n",
       "  </tbody>\n",
       "</table>\n",
       "</div>"
      ],
      "text/plain": [
       "    0   1   2   3   4  g\n",
       "0  56  97  95  97  32  0\n",
       "1   4  70  80  57  35  0\n",
       "2  39   1  72  72  49  0\n",
       "3  47  25  24  32  48  0\n",
       "4  67  96   8   0  65  0"
      ]
     },
     "execution_count": 98,
     "metadata": {},
     "output_type": "execute_result"
    }
   ],
   "source": [
    "df['g'] = [0,0,0,0,0]\n",
    "df"
   ]
  },
  {
   "cell_type": "markdown",
   "id": "988a588d-f27a-4d2e-9840-bdc6f86fb830",
   "metadata": {},
   "source": [
    "### iloc는 데이터를 추가할 수 없다"
   ]
  },
  {
   "cell_type": "code",
   "execution_count": 99,
   "id": "a373e888-891b-4d1a-9dbc-bb0ce0029350",
   "metadata": {},
   "outputs": [
    {
     "data": {
      "text/html": [
       "<div>\n",
       "<style scoped>\n",
       "    .dataframe tbody tr th:only-of-type {\n",
       "        vertical-align: middle;\n",
       "    }\n",
       "\n",
       "    .dataframe tbody tr th {\n",
       "        vertical-align: top;\n",
       "    }\n",
       "\n",
       "    .dataframe thead th {\n",
       "        text-align: right;\n",
       "    }\n",
       "</style>\n",
       "<table border=\"1\" class=\"dataframe\">\n",
       "  <thead>\n",
       "    <tr style=\"text-align: right;\">\n",
       "      <th></th>\n",
       "      <th>0</th>\n",
       "      <th>1</th>\n",
       "      <th>2</th>\n",
       "      <th>3</th>\n",
       "      <th>4</th>\n",
       "      <th>g</th>\n",
       "    </tr>\n",
       "  </thead>\n",
       "  <tbody>\n",
       "    <tr>\n",
       "      <th>0</th>\n",
       "      <td>56.0</td>\n",
       "      <td>97.0</td>\n",
       "      <td>95.0</td>\n",
       "      <td>97.0</td>\n",
       "      <td>32.0</td>\n",
       "      <td>0.0</td>\n",
       "    </tr>\n",
       "    <tr>\n",
       "      <th>1</th>\n",
       "      <td>4.0</td>\n",
       "      <td>70.0</td>\n",
       "      <td>80.0</td>\n",
       "      <td>57.0</td>\n",
       "      <td>35.0</td>\n",
       "      <td>0.0</td>\n",
       "    </tr>\n",
       "    <tr>\n",
       "      <th>2</th>\n",
       "      <td>39.0</td>\n",
       "      <td>1.0</td>\n",
       "      <td>72.0</td>\n",
       "      <td>72.0</td>\n",
       "      <td>49.0</td>\n",
       "      <td>0.0</td>\n",
       "    </tr>\n",
       "    <tr>\n",
       "      <th>3</th>\n",
       "      <td>47.0</td>\n",
       "      <td>25.0</td>\n",
       "      <td>24.0</td>\n",
       "      <td>32.0</td>\n",
       "      <td>48.0</td>\n",
       "      <td>0.0</td>\n",
       "    </tr>\n",
       "    <tr>\n",
       "      <th>4</th>\n",
       "      <td>67.0</td>\n",
       "      <td>96.0</td>\n",
       "      <td>8.0</td>\n",
       "      <td>0.0</td>\n",
       "      <td>65.0</td>\n",
       "      <td>0.0</td>\n",
       "    </tr>\n",
       "    <tr>\n",
       "      <th>i2</th>\n",
       "      <td>NaN</td>\n",
       "      <td>NaN</td>\n",
       "      <td>NaN</td>\n",
       "      <td>NaN</td>\n",
       "      <td>NaN</td>\n",
       "      <td>10.0</td>\n",
       "    </tr>\n",
       "  </tbody>\n",
       "</table>\n",
       "</div>"
      ],
      "text/plain": [
       "       0     1     2     3     4     g\n",
       "0   56.0  97.0  95.0  97.0  32.0   0.0\n",
       "1    4.0  70.0  80.0  57.0  35.0   0.0\n",
       "2   39.0   1.0  72.0  72.0  49.0   0.0\n",
       "3   47.0  25.0  24.0  32.0  48.0   0.0\n",
       "4   67.0  96.0   8.0   0.0  65.0   0.0\n",
       "i2   NaN   NaN   NaN   NaN   NaN  10.0"
      ]
     },
     "execution_count": 99,
     "metadata": {},
     "output_type": "execute_result"
    }
   ],
   "source": [
    "df.loc['i2', 'g'] = 10\n",
    "df"
   ]
  },
  {
   "cell_type": "code",
   "execution_count": 102,
   "id": "8fcad88e-099e-45c6-83fc-210a2043d861",
   "metadata": {},
   "outputs": [
    {
     "data": {
      "text/plain": [
       "Index([0, 1, 2, 3, 4, 'g'], dtype='object')"
      ]
     },
     "execution_count": 102,
     "metadata": {},
     "output_type": "execute_result"
    }
   ],
   "source": [
    "df.columns"
   ]
  },
  {
   "cell_type": "code",
   "execution_count": 103,
   "id": "ef4d92f7-070e-4d71-aecd-b5285050025e",
   "metadata": {},
   "outputs": [
    {
     "data": {
      "text/html": [
       "<div>\n",
       "<style scoped>\n",
       "    .dataframe tbody tr th:only-of-type {\n",
       "        vertical-align: middle;\n",
       "    }\n",
       "\n",
       "    .dataframe tbody tr th {\n",
       "        vertical-align: top;\n",
       "    }\n",
       "\n",
       "    .dataframe thead th {\n",
       "        text-align: right;\n",
       "    }\n",
       "</style>\n",
       "<table border=\"1\" class=\"dataframe\">\n",
       "  <thead>\n",
       "    <tr style=\"text-align: right;\">\n",
       "      <th></th>\n",
       "      <th>국어</th>\n",
       "      <th>영어</th>\n",
       "      <th>수학</th>\n",
       "      <th>과학</th>\n",
       "    </tr>\n",
       "  </thead>\n",
       "  <tbody>\n",
       "    <tr>\n",
       "      <th>0</th>\n",
       "      <td>70</td>\n",
       "      <td>80</td>\n",
       "      <td>81</td>\n",
       "      <td>66</td>\n",
       "    </tr>\n",
       "    <tr>\n",
       "      <th>1</th>\n",
       "      <td>97</td>\n",
       "      <td>76</td>\n",
       "      <td>91</td>\n",
       "      <td>88</td>\n",
       "    </tr>\n",
       "    <tr>\n",
       "      <th>2</th>\n",
       "      <td>78</td>\n",
       "      <td>86</td>\n",
       "      <td>72</td>\n",
       "      <td>63</td>\n",
       "    </tr>\n",
       "  </tbody>\n",
       "</table>\n",
       "</div>"
      ],
      "text/plain": [
       "   국어  영어  수학  과학\n",
       "0  70  80  81  66\n",
       "1  97  76  91  88\n",
       "2  78  86  72  63"
      ]
     },
     "execution_count": 103,
     "metadata": {},
     "output_type": "execute_result"
    }
   ],
   "source": [
    "df2.reset_index(drop=True)"
   ]
  }
 ],
 "metadata": {
  "kernelspec": {
   "display_name": "Python 3 (ipykernel)",
   "language": "python",
   "name": "python3"
  },
  "language_info": {
   "codemirror_mode": {
    "name": "ipython",
    "version": 3
   },
   "file_extension": ".py",
   "mimetype": "text/x-python",
   "name": "python",
   "nbconvert_exporter": "python",
   "pygments_lexer": "ipython3",
   "version": "3.10.8"
  }
 },
 "nbformat": 4,
 "nbformat_minor": 5
}
