{
 "cells": [
  {
   "cell_type": "code",
   "execution_count": 4,
   "id": "fbb8398c-c82e-4f47-adc8-595135fdbe59",
   "metadata": {},
   "outputs": [
    {
     "name": "stdout",
     "output_type": "stream",
     "text": [
      "0\n",
      "1\n",
      "2\n",
      "3\n",
      "4\n"
     ]
    }
   ],
   "source": [
    "for i, value in enumerate([10, 15, 20, 25, 30]):\n",
    "    print(i)"
   ]
  },
  {
   "cell_type": "code",
   "execution_count": null,
   "id": "cbe1990f-5e56-4eb2-aab9-b4af2cd45ce9",
   "metadata": {},
   "outputs": [],
   "source": []
  },
  {
   "cell_type": "code",
   "execution_count": 5,
   "id": "4a0252de-cd56-4485-8931-e314f72debe9",
   "metadata": {},
   "outputs": [
    {
     "data": {
      "text/plain": [
       "{0: '동해물과', 1: '백두산이', 2: '마르고', 3: '닳도록'}"
      ]
     },
     "execution_count": 5,
     "metadata": {},
     "output_type": "execute_result"
    }
   ],
   "source": [
    "{i:value for i, value in enumerate('동해물과 백두산이 마르고 닳도록'.split())}"
   ]
  },
  {
   "cell_type": "markdown",
   "id": "0e243054-a3fa-495d-a6f4-5adbd1fcd2ed",
   "metadata": {},
   "source": [
    "### zip 함수 : 두개의 리스트를 한개의 쌍으로 묶어주는 기능"
   ]
  },
  {
   "cell_type": "code",
   "execution_count": 8,
   "id": "d0bfb4fb-3028-486a-a84f-7eb43d504ae1",
   "metadata": {},
   "outputs": [
    {
     "name": "stdout",
     "output_type": "stream",
     "text": [
      "a1 b1\n",
      "a2 b2\n",
      "a3 b3\n"
     ]
    }
   ],
   "source": [
    "list_1 = ['a1', 'a2', 'a3']\n",
    "list_2 = ['b1', 'b2', 'b3']\n",
    "for a, b in zip(list_1, list_2):\n",
    "    print(a,b)"
   ]
  },
  {
   "cell_type": "code",
   "execution_count": 10,
   "id": "fc56ca27-bd4f-421f-b29e-5df8f9a7fed0",
   "metadata": {},
   "outputs": [
    {
     "name": "stdout",
     "output_type": "stream",
     "text": [
      "0 a1 b1\n",
      "1 a2 b2\n",
      "2 a3 b3\n"
     ]
    }
   ],
   "source": [
    "for i, (a,b) in enumerate(zip(list_1, list_2)):\n",
    "    print(i, a, b)"
   ]
  },
  {
   "cell_type": "code",
   "execution_count": 11,
   "id": "30edec32-e2e3-47c9-a643-046a1ba92608",
   "metadata": {},
   "outputs": [
    {
     "data": {
      "text/plain": [
       "30"
      ]
     },
     "execution_count": 11,
     "metadata": {},
     "output_type": "execute_result"
    }
   ],
   "source": [
    "# 람다 함수: 함수를 이름없이 사용하는 익명함수\n",
    "# 함수 ... def 함수명()\n",
    "def addF(x, y):\n",
    "    return x + y\n",
    "addF(10, 20)"
   ]
  },
  {
   "cell_type": "code",
   "execution_count": 12,
   "id": "481fae88-eda3-427e-b499-a72613bc58cb",
   "metadata": {},
   "outputs": [
    {
     "data": {
      "text/plain": [
       "30"
      ]
     },
     "execution_count": 12,
     "metadata": {},
     "output_type": "execute_result"
    }
   ],
   "source": [
    "f = lambda x,y : x + y\n",
    "f(10, 20)"
   ]
  },
  {
   "cell_type": "code",
   "execution_count": 14,
   "id": "8f942a48-f6c2-4bdc-bfad-824b8d77754c",
   "metadata": {},
   "outputs": [
    {
     "data": {
      "text/plain": [
       "21"
      ]
     },
     "execution_count": 14,
     "metadata": {},
     "output_type": "execute_result"
    }
   ],
   "source": [
    "f = (lambda x: x+1)\n",
    "f(20)\n",
    "(lambda x: x+1)(20)"
   ]
  },
  {
   "cell_type": "code",
   "execution_count": 18,
   "id": "74791041-6216-4cdf-9472-6dc68e0cd7b4",
   "metadata": {},
   "outputs": [],
   "source": [
    "def testA(f, a,b):\n",
    "    print('람다에서 함수를 매개변수로 받아서 사용')\n",
    "    return f(a,b)"
   ]
  },
  {
   "cell_type": "code",
   "execution_count": 16,
   "id": "3541738b-5131-491d-8449-35011ab0a4a3",
   "metadata": {},
   "outputs": [],
   "source": [
    "def testB(x,y):\n",
    "    return x+y"
   ]
  },
  {
   "cell_type": "code",
   "execution_count": 17,
   "id": "2a709393-3978-46c5-bffb-2858cf703987",
   "metadata": {},
   "outputs": [
    {
     "name": "stdout",
     "output_type": "stream",
     "text": [
      "람다에서 함수를 매개변수로 받아서 사용\n"
     ]
    },
    {
     "data": {
      "text/plain": [
       "30"
      ]
     },
     "execution_count": 19,
     "metadata": {},
     "output_type": "execute_result"
    }
   ],
   "source": [
    "testA(testB, 10, 20)"
   ]
  },
  {
   "cell_type": "code",
   "execution_count": 20,
   "id": "b5c07c51-088c-4c39-a7bf-bd5acecc5251",
   "metadata": {},
   "outputs": [],
   "source": [
    "def calculate(f, a,b):\n",
    "    return f(a,b)"
   ]
  },
  {
   "cell_type": "code",
   "execution_count": 22,
   "id": "4b6e6623-c0a4-40ca-b943-89f7c2b180e2",
   "metadata": {},
   "outputs": [
    {
     "data": {
      "text/plain": [
       "30"
      ]
     },
     "execution_count": 22,
     "metadata": {},
     "output_type": "execute_result"
    }
   ],
   "source": [
    "calculate(addF, 10, 20)"
   ]
  },
  {
   "cell_type": "code",
   "execution_count": 23,
   "id": "be6d52b2-d150-41db-85a5-4cb6b5af3d52",
   "metadata": {},
   "outputs": [
    {
     "data": {
      "text/plain": [
       "-10"
      ]
     },
     "execution_count": 23,
     "metadata": {},
     "output_type": "execute_result"
    }
   ],
   "source": [
    "calculate(lambda x,y: x-y, 10, 20)"
   ]
  },
  {
   "cell_type": "code",
   "execution_count": 24,
   "id": "bd9296f2-f87a-49fa-ace1-0fc76f446389",
   "metadata": {},
   "outputs": [
    {
     "data": {
      "text/plain": [
       "200"
      ]
     },
     "execution_count": 24,
     "metadata": {},
     "output_type": "execute_result"
    }
   ],
   "source": [
    "calculate(lambda x,y: x*y, 10, 20)"
   ]
  },
  {
   "cell_type": "markdown",
   "id": "6db69f1b-c9ed-4467-99bc-915f6caec79a",
   "metadata": {},
   "source": [
    "# 맵리듀스: 빅데이터를 처리하기 위한 기본 알고리즘\n",
    "    map()  reduce()"
   ]
  },
  {
   "cell_type": "markdown",
   "id": "0d99017c-0c17-48b2-929e-a0abd525e979",
   "metadata": {},
   "source": [
    "### map() : 연속된 데이터의 각 요소에 같은 기능을 적용할 때 사용"
   ]
  },
  {
   "cell_type": "code",
   "execution_count": 25,
   "id": "518ca562-cc2a-410b-aaa4-2b1ff6db8517",
   "metadata": {},
   "outputs": [
    {
     "data": {
      "text/plain": [
       "[1, 2, 3, 4, 5]"
      ]
     },
     "execution_count": 25,
     "metadata": {},
     "output_type": "execute_result"
    }
   ],
   "source": [
    "ex = [1,2,3,4,5]\n",
    "ex"
   ]
  },
  {
   "cell_type": "markdown",
   "id": "f5c0b5a6-26ec-4a5f-924e-e96543c348fb",
   "metadata": {},
   "source": [
    "### 각 요소의 값에 제곱을 한 값을 요소로 갖는 리스트\n",
    "### [1,4,9,16,25]"
   ]
  },
  {
   "cell_type": "markdown",
   "id": "0ec384e1-a99c-42ba-8697-18cf0d57d28c",
   "metadata": {},
   "source": [
    "### 시퀀스형 : 리스트나 튜플과 같은 집합\n",
    "### map(적용할 함수, 적용할 시퀀스형데이터)"
   ]
  },
  {
   "cell_type": "code",
   "execution_count": 27,
   "id": "50db7bf9-3b8f-49e0-9ea1-7ae6f35c9b42",
   "metadata": {},
   "outputs": [],
   "source": [
    "def tempf(x):\n",
    "    return x**2"
   ]
  },
  {
   "cell_type": "code",
   "execution_count": 29,
   "id": "d3537f80-f105-46c5-ab6c-0d6b63364b68",
   "metadata": {},
   "outputs": [
    {
     "data": {
      "text/plain": [
       "[1, 4, 9, 16, 25]"
      ]
     },
     "execution_count": 29,
     "metadata": {},
     "output_type": "execute_result"
    }
   ],
   "source": [
    "list(map( tempf, ex))"
   ]
  },
  {
   "cell_type": "code",
   "execution_count": 31,
   "id": "004c98b8-82a3-428f-839e-96f8c581d5c7",
   "metadata": {},
   "outputs": [
    {
     "data": {
      "text/plain": [
       "[1, 4, 9, 16, 25, 36, 49, 64, 81]"
      ]
     },
     "execution_count": 31,
     "metadata": {},
     "output_type": "execute_result"
    }
   ],
   "source": [
    "list(map(lambda x: x**2, [1,2,3,4,5,6,7,8,9]))"
   ]
  },
  {
   "cell_type": "markdown",
   "id": "1fc69d74-3d0d-46bc-a6a7-ef0a2757acce",
   "metadata": {},
   "source": [
    "# map()함수 vs 리스트 컴프리핸션"
   ]
  },
  {
   "cell_type": "code",
   "execution_count": 33,
   "id": "22f03126-c963-467d-8069-5bddec63a933",
   "metadata": {},
   "outputs": [
    {
     "name": "stdout",
     "output_type": "stream",
     "text": [
      "[1, 4, 9, 16, 25]\n",
      "[1, 4, 9, 16, 25]\n"
     ]
    }
   ],
   "source": [
    "ex = [1,2,3,4,5]\n",
    "print([i**2 for i in ex])\n",
    "print(list(map(lambda x: x**2, ex)))"
   ]
  },
  {
   "cell_type": "markdown",
   "id": "363f00b8-54f4-400c-986a-cdcd1f0e289f",
   "metadata": {},
   "source": [
    "### 한개의 시퀀스\n",
    "### 최근 트랜드는 람다나 맵함수를 사용을 자재하고 리스트컴프리핸션으로 대체 가능하면 사용하도록 권장"
   ]
  },
  {
   "cell_type": "markdown",
   "id": "5c65f743-0b54-4948-9179-06292c6e88ce",
   "metadata": {},
   "source": [
    "### 두개의 시퀀스"
   ]
  },
  {
   "cell_type": "code",
   "execution_count": 39,
   "id": "f4aff52e-7b3a-476f-9ca1-cd027401c1d0",
   "metadata": {},
   "outputs": [
    {
     "name": "stdout",
     "output_type": "stream",
     "text": [
      "[2, 4, 6, 8, 10]\n",
      "[2, 4, 6, 8, 10]\n"
     ]
    }
   ],
   "source": [
    "print(list(map(lambda x,y : x+y, ex, ex)))\n",
    "print(list([x+y for x,y in zip(ex, ex)]))"
   ]
  },
  {
   "cell_type": "code",
   "execution_count": 41,
   "id": "3ad4b732-7572-4b0a-8ed5-3982a1d4c2e0",
   "metadata": {},
   "outputs": [
    {
     "name": "stdout",
     "output_type": "stream",
     "text": [
      "2\n",
      "4\n",
      "6\n",
      "8\n",
      "10\n"
     ]
    }
   ],
   "source": [
    "# map()함수를 필터링 기능을 적용\n",
    "ex = [1,2,3,4,5,6,7,8,9,10]\n",
    "for i in ex:\n",
    "    if i%2==0:\n",
    "        print(i)"
   ]
  },
  {
   "cell_type": "code",
   "execution_count": 44,
   "id": "567cf093-1f6a-4e6c-8561-b65e33763f69",
   "metadata": {},
   "outputs": [
    {
     "data": {
      "text/plain": [
       "[2, 4, 6, 8, 10]"
      ]
     },
     "execution_count": 44,
     "metadata": {},
     "output_type": "execute_result"
    }
   ],
   "source": [
    "[i for i in ex if i%2==0]"
   ]
  },
  {
   "cell_type": "code",
   "execution_count": 48,
   "id": "c25df929-8af1-49d3-9e77-0eed53e9d004",
   "metadata": {},
   "outputs": [
    {
     "data": {
      "text/plain": [
       "[1, 4, 3, 16, 5, 36, 7, 64, 9, 100]"
      ]
     },
     "execution_count": 48,
     "metadata": {},
     "output_type": "execute_result"
    }
   ],
   "source": [
    "# map 함수를 필터처럼 사용하려면 if ~ else 구문이 존재해야 한다\n",
    "# 짝수면 제곱을 하고 홀수면 그대로 출력\n",
    "list(map(lambda x: x**2 if x%2==0 else x, ex))"
   ]
  },
  {
   "cell_type": "code",
   "execution_count": 49,
   "id": "8349dc8b-21f7-457f-85ef-f8d74cf608d9",
   "metadata": {},
   "outputs": [
    {
     "data": {
      "text/plain": [
       "[1, 4, 3, 16, 5, 36, 7, 64, 9, 100]"
      ]
     },
     "execution_count": 49,
     "metadata": {},
     "output_type": "execute_result"
    }
   ],
   "source": [
    "# 리스트 컴프리핸션\n",
    "[i**2 if i%2==0 else i for i in ex]"
   ]
  },
  {
   "cell_type": "code",
   "execution_count": 50,
   "id": "71807237-e6ce-4e3e-9231-cf389fba6b15",
   "metadata": {},
   "outputs": [
    {
     "data": {
      "text/plain": [
       "[2, 4, 6, 8, 10]"
      ]
     },
     "execution_count": 50,
     "metadata": {},
     "output_type": "execute_result"
    }
   ],
   "source": [
    "list(filter(lambda x : x%2==0, ex))"
   ]
  },
  {
   "cell_type": "code",
   "execution_count": 51,
   "id": "a08be0b8-a32c-4ddc-9454-353197b99577",
   "metadata": {},
   "outputs": [
    {
     "data": {
      "text/plain": [
       "[2, 4, 6, 8, 10]"
      ]
     },
     "execution_count": 51,
     "metadata": {},
     "output_type": "execute_result"
    }
   ],
   "source": [
    "[x for x in ex if x%2==0]"
   ]
  },
  {
   "cell_type": "markdown",
   "id": "78f4788a-e6e8-474b-a863-1d9cce771521",
   "metadata": {},
   "source": [
    "# reduce 함수"
   ]
  },
  {
   "cell_type": "code",
   "execution_count": 53,
   "id": "8bfaabfb-3495-40f3-89dc-d5a97ba17ed3",
   "metadata": {},
   "outputs": [
    {
     "data": {
      "text/plain": [
       "[2, 4, 6, 8, 10]"
      ]
     },
     "execution_count": 53,
     "metadata": {},
     "output_type": "execute_result"
    }
   ],
   "source": [
    "ex = [1,2,3,4,5]\n",
    "list(map(lambda x, y : x+y, ex,ex))"
   ]
  },
  {
   "cell_type": "code",
   "execution_count": 55,
   "id": "1735da79-df00-4e88-ab93-06600d12fd40",
   "metadata": {},
   "outputs": [
    {
     "data": {
      "text/plain": [
       "15"
      ]
     },
     "execution_count": 55,
     "metadata": {},
     "output_type": "execute_result"
    }
   ],
   "source": [
    "from functools import reduce\n",
    "reduce(lambda x,y : x+y, ex)"
   ]
  },
  {
   "cell_type": "markdown",
   "id": "7f8b5308-c7d6-435a-9c4d-a5e361a94f31",
   "metadata": {},
   "source": [
    "## 선형대수학\n",
    "### 벡터: 크기와 방향을 모두 가지고 있음\n",
    "### 스칼라: 크기만 가지고 있음"
   ]
  },
  {
   "cell_type": "markdown",
   "id": "000e601a-361c-43b8-9634-f1c8f6bd3dff",
   "metadata": {},
   "source": [
    "#### 벡터\n",
    "#### 스칼라\n",
    "#### 행렬 (matrix)"
   ]
  },
  {
   "cell_type": "code",
   "execution_count": 56,
   "id": "5d224312-01da-45d2-a051-7b333adce091",
   "metadata": {},
   "outputs": [],
   "source": [
    "a = [2,2]\n",
    "b = [2,3]\n",
    "c = [3,5]\n",
    "result = []"
   ]
  },
  {
   "cell_type": "code",
   "execution_count": 57,
   "id": "ecc7ca54-b54e-4151-9015-d62cf93a6852",
   "metadata": {},
   "outputs": [
    {
     "data": {
      "text/plain": [
       "[2, 2, 2, 3, 3, 5]"
      ]
     },
     "execution_count": 57,
     "metadata": {},
     "output_type": "execute_result"
    }
   ],
   "source": [
    "a + b + c"
   ]
  },
  {
   "cell_type": "code",
   "execution_count": 60,
   "id": "49047355-dfbc-4242-b44e-461b927fb44e",
   "metadata": {},
   "outputs": [
    {
     "data": {
      "text/plain": [
       "[7, 10]"
      ]
     },
     "execution_count": 60,
     "metadata": {},
     "output_type": "execute_result"
    }
   ],
   "source": [
    "for i in range(len(a)):\n",
    "    result.append(a[i]+b[i]+c[i])\n",
    "result"
   ]
  },
  {
   "cell_type": "code",
   "execution_count": 63,
   "id": "e3521216-bc13-4630-9411-6fe96cc84d28",
   "metadata": {},
   "outputs": [
    {
     "data": {
      "text/plain": [
       "[7, 10]"
      ]
     },
     "execution_count": 63,
     "metadata": {},
     "output_type": "execute_result"
    }
   ],
   "source": [
    "result = [sum(i) for i in zip(a,b,c)]\n",
    "result"
   ]
  },
  {
   "cell_type": "code",
   "execution_count": 64,
   "id": "f2a35395-d3f1-4bcc-8901-23f211f525f3",
   "metadata": {},
   "outputs": [],
   "source": [
    "from random import sample\n",
    "a, b, c, d, e, f = sample(range(100), 3), sample(range(100), 3), sample(range(100), 3), sample(range(100), 3), sample(range(100), 3), sample(range(100), 3)"
   ]
  },
  {
   "cell_type": "code",
   "execution_count": 65,
   "id": "291489fd-7ccc-4612-9679-6976bed9324d",
   "metadata": {},
   "outputs": [
    {
     "data": {
      "text/plain": [
       "([85, 32, 72],\n",
       " [55, 51, 61],\n",
       " [89, 61, 96],\n",
       " [15, 90, 14],\n",
       " [39, 22, 91],\n",
       " [32, 50, 74])"
      ]
     },
     "execution_count": 65,
     "metadata": {},
     "output_type": "execute_result"
    }
   ],
   "source": [
    "a, b, c, d, e, f"
   ]
  },
  {
   "cell_type": "code",
   "execution_count": 66,
   "id": "a406b71f-e089-4d32-bec2-4ab02f058e4d",
   "metadata": {},
   "outputs": [
    {
     "data": {
      "text/plain": [
       "[283, 256, 334]"
      ]
     },
     "execution_count": 66,
     "metadata": {},
     "output_type": "execute_result"
    }
   ],
   "source": [
    "[sum(i) for i in zip(a, b, c, d, e)]"
   ]
  },
  {
   "cell_type": "code",
   "execution_count": 67,
   "id": "98e49680-def3-462d-83d6-d9ae880d2283",
   "metadata": {},
   "outputs": [
    {
     "data": {
      "text/plain": [
       "[283, 256, 334]"
      ]
     },
     "execution_count": 67,
     "metadata": {},
     "output_type": "execute_result"
    }
   ],
   "source": [
    "def vector_add(*args):\n",
    "    return [sum(i) for i in zip(*args)]\n",
    "vector_add(a,b,c,d,e)"
   ]
  },
  {
   "cell_type": "code",
   "execution_count": 68,
   "id": "493cbcf0-a237-4798-92de-8027a48b37b4",
   "metadata": {},
   "outputs": [],
   "source": [
    "a = [1,2,3]\n",
    "b = [4,4,4]\n",
    "scalar = 2"
   ]
  },
  {
   "cell_type": "code",
   "execution_count": 69,
   "id": "dde1cc46-e7f4-4e01-9e14-af9cea185d65",
   "metadata": {},
   "outputs": [
    {
     "data": {
      "text/plain": [
       "[10, 12, 14]"
      ]
     },
     "execution_count": 69,
     "metadata": {},
     "output_type": "execute_result"
    }
   ],
   "source": [
    "[2*sum(i) for i in zip(a,b)]"
   ]
  },
  {
   "cell_type": "code",
   "execution_count": 71,
   "id": "fa485f73-e317-4913-942e-7fee99d0730a",
   "metadata": {},
   "outputs": [],
   "source": [
    "# 행렬의 연산\n",
    "matrix_a = [\n",
    "    [3,6],\n",
    "    [4,5]\n",
    "]\n",
    "matrix_b = [\n",
    "    [5,8],\n",
    "    [6,7]\n",
    "]\n"
   ]
  },
  {
   "cell_type": "code",
   "execution_count": 72,
   "id": "f410cbb7-10a3-4a0b-b175-29e73c6538c3",
   "metadata": {},
   "outputs": [
    {
     "data": {
      "text/plain": [
       "([[3, 6], [4, 5]], [[5, 8], [6, 7]])"
      ]
     },
     "execution_count": 72,
     "metadata": {},
     "output_type": "execute_result"
    }
   ],
   "source": [
    "matrix_a, matrix_b"
   ]
  },
  {
   "cell_type": "code",
   "execution_count": 74,
   "id": "e959399d-6f26-4d62-bb48-b7a90a2e12c7",
   "metadata": {},
   "outputs": [
    {
     "data": {
      "text/plain": [
       "[([3, 6], [5, 8]), ([4, 5], [6, 7])]"
      ]
     },
     "execution_count": 74,
     "metadata": {},
     "output_type": "execute_result"
    }
   ],
   "source": [
    "[t for t in zip(matrix_a, matrix_b)]"
   ]
  },
  {
   "cell_type": "code",
   "execution_count": 75,
   "id": "8f979f83-2142-430d-a331-ac6db8d26571",
   "metadata": {},
   "outputs": [
    {
     "data": {
      "text/plain": [
       "[[8, 14], [10, 12]]"
      ]
     },
     "execution_count": 75,
     "metadata": {},
     "output_type": "execute_result"
    }
   ],
   "source": [
    "[ [sum(row) for row in zip(*t)] for t in zip(matrix_a, matrix_b) ]"
   ]
  },
  {
   "cell_type": "code",
   "execution_count": 76,
   "id": "ebc05dd1-91e9-43e4-913c-0e77808b593b",
   "metadata": {},
   "outputs": [
    {
     "data": {
      "text/plain": [
       "(False, True)"
      ]
     },
     "execution_count": 76,
     "metadata": {},
     "output_type": "execute_result"
    }
   ],
   "source": [
    "# 행렬의 동치: 두개의 행렬이 같은지 판단\n",
    "temp = [True, False, True, False]\n",
    "all(temp), any(temp)\n",
    "# all(temp) and\n",
    "# any(temp) or"
   ]
  },
  {
   "cell_type": "code",
   "execution_count": 79,
   "id": "e2db34dd-acdd-4cef-b24a-e41f823781ac",
   "metadata": {},
   "outputs": [],
   "source": [
    "matrix_a = [[1,2],[3,4]]\n",
    "matrix_b = [[10,20],[30,40]]"
   ]
  },
  {
   "cell_type": "code",
   "execution_count": 80,
   "id": "153c7465-4835-4776-87f4-f8b8b524be85",
   "metadata": {},
   "outputs": [
    {
     "data": {
      "text/plain": [
       "[([1, 2], [10, 20]), ([3, 4], [30, 40])]"
      ]
     },
     "execution_count": 80,
     "metadata": {},
     "output_type": "execute_result"
    }
   ],
   "source": [
    "[t for t in zip(matrix_a, matrix_b)]"
   ]
  },
  {
   "cell_type": "code",
   "execution_count": 81,
   "id": "9ae9d363-e008-4b7e-b5a9-d6c145160986",
   "metadata": {},
   "outputs": [
    {
     "data": {
      "text/plain": [
       "[[(1, 10), (2, 20)], [(3, 30), (4, 40)]]"
      ]
     },
     "execution_count": 81,
     "metadata": {},
     "output_type": "execute_result"
    }
   ],
   "source": [
    "[ [i for i in zip(*t)] for t in zip(matrix_a, matrix_b)]"
   ]
  }
 ],
 "metadata": {
  "kernelspec": {
   "display_name": "Python 3 (ipykernel)",
   "language": "python",
   "name": "python3"
  },
  "language_info": {
   "codemirror_mode": {
    "name": "ipython",
    "version": 3
   },
   "file_extension": ".py",
   "mimetype": "text/x-python",
   "name": "python",
   "nbconvert_exporter": "python",
   "pygments_lexer": "ipython3",
   "version": "3.10.8"
  }
 },
 "nbformat": 4,
 "nbformat_minor": 5
}
