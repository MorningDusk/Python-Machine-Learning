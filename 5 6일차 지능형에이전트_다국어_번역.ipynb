{
 "cells": [
  {
   "cell_type": "code",
   "execution_count": 1,
   "id": "6989c1d3-5890-404b-bcc3-1b65efd39cbc",
   "metadata": {},
   "outputs": [],
   "source": [
    "import numpy as np\n",
    "import tensorflow as tf\n",
    "from tensorflow.keras.datasets import cifar10\n",
    "from tensorflow.keras.models import Sequential\n",
    "from tensorflow.keras.layers import Conv2D,MaxPooling2D,Flatten,Dense,Dropout\n",
    "from tensorflow.keras.optimizers import Adam"
   ]
  },
  {
   "cell_type": "code",
   "execution_count": 2,
   "id": "3f90e867-2ae9-4cbb-aac9-2f000ee5709a",
   "metadata": {},
   "outputs": [],
   "source": [
    "# cifar10 데이터 로드하고 신경망에 입력형태로 변환\n",
    "(x_train,y_train),(x_test,y_test) = cifar10.load_data()\n",
    "x_train = x_train.astype(np.float32) / 255.0\n",
    "x_test = x_test.astype(np.float32) / 255.0"
   ]
  },
  {
   "cell_type": "code",
   "execution_count": 3,
   "id": "ec09e7d6-320b-416d-bdae-6683e1b24cd9",
   "metadata": {},
   "outputs": [],
   "source": [
    "# 정답데이터를 데이터 타입을 변경 - one hot\n",
    "y_train = tf.keras.utils.to_categorical(y_train,10)\n",
    "y_test = tf.keras.utils.to_categorical(y_test,10)"
   ]
  },
  {
   "cell_type": "code",
   "execution_count": 4,
   "id": "ea2e276d-76b0-4497-a5a6-0547eb46bed2",
   "metadata": {},
   "outputs": [
    {
     "data": {
      "text/plain": [
       "((50000, 32, 32, 3), (32, 32, 3))"
      ]
     },
     "execution_count": 4,
     "metadata": {},
     "output_type": "execute_result"
    }
   ],
   "source": [
    "x_train.shape, x_train.shape[1:]"
   ]
  },
  {
   "cell_type": "code",
   "execution_count": 5,
   "id": "a527f36d-96eb-4ca2-acdc-b8641afdf933",
   "metadata": {},
   "outputs": [],
   "source": [
    "# 신경망 모델 설계  c-c-p-d\n",
    "cnn = Sequential([\n",
    "    Conv2D(32,3,activation ='relu',input_shape = (32,32,3)),\n",
    "    Conv2D(32,3,activation='relu'),\n",
    "    MaxPooling2D(),\n",
    "    Dropout(0.25),\n",
    "    Conv2D(64,3,activation ='relu'),\n",
    "    Conv2D(64,3,activation='relu'),\n",
    "    MaxPooling2D(),\n",
    "    Dropout(0.25),\n",
    "    Flatten(),\n",
    "    Dense(512,activation='relu'),\n",
    "    Dropout(0.5),\n",
    "    Dense(10,activation='softmax')\n",
    "])"
   ]
  },
  {
   "cell_type": "code",
   "execution_count": 6,
   "id": "00f0ef74-7f97-42ac-9e33-e3e9dfee6558",
   "metadata": {
    "collapsed": true,
    "jupyter": {
     "outputs_hidden": true
    },
    "tags": []
   },
   "outputs": [
    {
     "name": "stdout",
     "output_type": "stream",
     "text": [
      "Epoch 1/30\n",
      "391/391 [==============================] - 68s 171ms/step - loss: 1.6074 - accuracy: 0.4111 - val_loss: 1.3074 - val_accuracy: 0.5257\n",
      "Epoch 2/30\n",
      "391/391 [==============================] - 70s 179ms/step - loss: 1.2580 - accuracy: 0.5521 - val_loss: 1.1178 - val_accuracy: 0.6012\n",
      "Epoch 3/30\n",
      "391/391 [==============================] - 87s 223ms/step - loss: 1.0993 - accuracy: 0.6101 - val_loss: 1.0111 - val_accuracy: 0.6411\n",
      "Epoch 4/30\n",
      "391/391 [==============================] - 79s 202ms/step - loss: 0.9917 - accuracy: 0.6494 - val_loss: 0.9062 - val_accuracy: 0.6853\n",
      "Epoch 5/30\n",
      "391/391 [==============================] - 83s 213ms/step - loss: 0.9075 - accuracy: 0.6797 - val_loss: 0.8220 - val_accuracy: 0.7101\n",
      "Epoch 6/30\n",
      "391/391 [==============================] - 80s 205ms/step - loss: 0.8449 - accuracy: 0.7023 - val_loss: 0.7734 - val_accuracy: 0.7311\n",
      "Epoch 7/30\n",
      "391/391 [==============================] - 79s 203ms/step - loss: 0.7948 - accuracy: 0.7214 - val_loss: 0.7609 - val_accuracy: 0.7310\n",
      "Epoch 8/30\n",
      "391/391 [==============================] - 80s 204ms/step - loss: 0.7545 - accuracy: 0.7362 - val_loss: 0.7167 - val_accuracy: 0.7550\n",
      "Epoch 9/30\n",
      "391/391 [==============================] - 79s 202ms/step - loss: 0.7166 - accuracy: 0.7483 - val_loss: 0.7092 - val_accuracy: 0.7552\n",
      "Epoch 10/30\n",
      "391/391 [==============================] - 79s 201ms/step - loss: 0.6848 - accuracy: 0.7605 - val_loss: 0.6785 - val_accuracy: 0.7655\n",
      "Epoch 11/30\n",
      "391/391 [==============================] - 82s 209ms/step - loss: 0.6604 - accuracy: 0.7684 - val_loss: 0.7262 - val_accuracy: 0.7534\n",
      "Epoch 12/30\n",
      "391/391 [==============================] - 80s 205ms/step - loss: 0.6321 - accuracy: 0.7769 - val_loss: 0.6999 - val_accuracy: 0.7590\n",
      "Epoch 13/30\n",
      "391/391 [==============================] - 79s 202ms/step - loss: 0.6094 - accuracy: 0.7842 - val_loss: 0.6474 - val_accuracy: 0.7811\n",
      "Epoch 14/30\n",
      "391/391 [==============================] - 79s 202ms/step - loss: 0.5896 - accuracy: 0.7931 - val_loss: 0.6407 - val_accuracy: 0.7805\n",
      "Epoch 15/30\n",
      "391/391 [==============================] - 79s 202ms/step - loss: 0.5679 - accuracy: 0.7999 - val_loss: 0.6459 - val_accuracy: 0.7830\n",
      "Epoch 16/30\n",
      "391/391 [==============================] - 77s 198ms/step - loss: 0.5465 - accuracy: 0.8068 - val_loss: 0.6365 - val_accuracy: 0.7834\n",
      "Epoch 17/30\n",
      "391/391 [==============================] - 74s 191ms/step - loss: 0.5379 - accuracy: 0.8100 - val_loss: 0.6412 - val_accuracy: 0.7841\n",
      "Epoch 18/30\n",
      "391/391 [==============================] - 69s 177ms/step - loss: 0.5129 - accuracy: 0.8173 - val_loss: 0.6141 - val_accuracy: 0.7883\n",
      "Epoch 19/30\n",
      "391/391 [==============================] - 68s 174ms/step - loss: 0.5030 - accuracy: 0.8219 - val_loss: 0.6471 - val_accuracy: 0.7781\n",
      "Epoch 20/30\n",
      "391/391 [==============================] - 72s 184ms/step - loss: 0.4867 - accuracy: 0.8281 - val_loss: 0.6331 - val_accuracy: 0.7841\n",
      "Epoch 21/30\n",
      "391/391 [==============================] - 67s 172ms/step - loss: 0.4792 - accuracy: 0.8279 - val_loss: 0.6259 - val_accuracy: 0.7920\n",
      "Epoch 22/30\n",
      "391/391 [==============================] - 66s 169ms/step - loss: 0.4674 - accuracy: 0.8336 - val_loss: 0.6286 - val_accuracy: 0.7889\n",
      "Epoch 23/30\n",
      "391/391 [==============================] - 64s 164ms/step - loss: 0.4550 - accuracy: 0.8388 - val_loss: 0.6230 - val_accuracy: 0.7930\n",
      "Epoch 24/30\n",
      "391/391 [==============================] - 63s 162ms/step - loss: 0.4429 - accuracy: 0.8428 - val_loss: 0.6109 - val_accuracy: 0.7935\n",
      "Epoch 25/30\n",
      "391/391 [==============================] - 67s 170ms/step - loss: 0.4369 - accuracy: 0.8458 - val_loss: 0.6319 - val_accuracy: 0.7925\n",
      "Epoch 26/30\n",
      "391/391 [==============================] - 75s 191ms/step - loss: 0.4264 - accuracy: 0.8487 - val_loss: 0.6316 - val_accuracy: 0.7890\n",
      "Epoch 27/30\n",
      "391/391 [==============================] - 70s 179ms/step - loss: 0.4217 - accuracy: 0.8507 - val_loss: 0.6252 - val_accuracy: 0.7957\n",
      "Epoch 28/30\n",
      "391/391 [==============================] - 70s 180ms/step - loss: 0.4088 - accuracy: 0.8545 - val_loss: 0.6200 - val_accuracy: 0.7955\n",
      "Epoch 29/30\n",
      "391/391 [==============================] - 62s 159ms/step - loss: 0.4081 - accuracy: 0.8538 - val_loss: 0.6490 - val_accuracy: 0.7899\n",
      "Epoch 30/30\n",
      "391/391 [==============================] - 62s 159ms/step - loss: 0.3993 - accuracy: 0.8579 - val_loss: 0.6086 - val_accuracy: 0.8007\n"
     ]
    }
   ],
   "source": [
    "# 신경망 모델 학습\n",
    "cnn.compile(loss = tf.keras.losses.categorical_crossentropy,optimizer=Adam(),metrics=['accuracy'])\n",
    "hist = cnn.fit(x_train,y_train,batch_size=128, epochs=30,validation_data=(x_test,y_test))"
   ]
  },
  {
   "cell_type": "code",
   "execution_count": 7,
   "id": "7b7490e8-cf27-49ff-8bf2-ed5e56578560",
   "metadata": {},
   "outputs": [],
   "source": [
    "# 신경망의 구조 정보와 가중치를 저장\n",
    "cnn.save('cifar10_cnn.h5')"
   ]
  },
  {
   "cell_type": "code",
   "execution_count": 7,
   "id": "506bbba9-5325-4968-801d-1c27c60f7f29",
   "metadata": {},
   "outputs": [],
   "source": [
    "model = tf.keras.models.load_model('C:/Users/user/python_machine_learning/cifar10_cnn.h5')"
   ]
  },
  {
   "cell_type": "code",
   "execution_count": 8,
   "id": "748c45a6-2475-406c-9b30-9dd6d32b90fd",
   "metadata": {},
   "outputs": [
    {
     "name": "stdout",
     "output_type": "stream",
     "text": [
      "Collecting gtts\n",
      "  Downloading gTTS-2.4.0-py3-none-any.whl (29 kB)\n",
      "Requirement already satisfied: requests<3,>=2.27 in c:\\users\\user\\miniconda3\\envs\\py\\lib\\site-packages (from gtts) (2.28.2)\n",
      "Requirement already satisfied: click<8.2,>=7.1 in c:\\users\\user\\miniconda3\\envs\\py\\lib\\site-packages (from gtts) (8.1.3)\n",
      "Requirement already satisfied: colorama in c:\\users\\user\\miniconda3\\envs\\py\\lib\\site-packages (from click<8.2,>=7.1->gtts) (0.4.6)\n",
      "Requirement already satisfied: idna<4,>=2.5 in c:\\users\\user\\miniconda3\\envs\\py\\lib\\site-packages (from requests<3,>=2.27->gtts) (3.4)\n",
      "Requirement already satisfied: charset-normalizer<4,>=2 in c:\\users\\user\\miniconda3\\envs\\py\\lib\\site-packages (from requests<3,>=2.27->gtts) (2.0.4)\n",
      "Requirement already satisfied: certifi>=2017.4.17 in c:\\users\\user\\miniconda3\\envs\\py\\lib\\site-packages (from requests<3,>=2.27->gtts) (2022.12.7)\n",
      "Requirement already satisfied: urllib3<1.27,>=1.21.1 in c:\\users\\user\\miniconda3\\envs\\py\\lib\\site-packages (from requests<3,>=2.27->gtts) (1.26.13)\n",
      "Installing collected packages: gtts\n",
      "Successfully installed gtts-2.4.0\n"
     ]
    },
    {
     "name": "stderr",
     "output_type": "stream",
     "text": [
      "WARNING: Ignoring invalid distribution -rotobuf (c:\\users\\user\\miniconda3\\envs\\py\\lib\\site-packages)\n",
      "WARNING: Ignoring invalid distribution - (c:\\users\\user\\miniconda3\\envs\\py\\lib\\site-packages)\n",
      "WARNING: Ignoring invalid distribution -ensorflow-intel (c:\\users\\user\\miniconda3\\envs\\py\\lib\\site-packages)\n",
      "WARNING: Ignoring invalid distribution -rotobuf (c:\\users\\user\\miniconda3\\envs\\py\\lib\\site-packages)\n",
      "WARNING: Ignoring invalid distribution - (c:\\users\\user\\miniconda3\\envs\\py\\lib\\site-packages)\n",
      "WARNING: Ignoring invalid distribution -ensorflow-intel (c:\\users\\user\\miniconda3\\envs\\py\\lib\\site-packages)\n",
      "WARNING: Ignoring invalid distribution -rotobuf (c:\\users\\user\\miniconda3\\envs\\py\\lib\\site-packages)\n",
      "WARNING: Ignoring invalid distribution - (c:\\users\\user\\miniconda3\\envs\\py\\lib\\site-packages)\n",
      "WARNING: Ignoring invalid distribution -ensorflow-intel (c:\\users\\user\\miniconda3\\envs\\py\\lib\\site-packages)\n",
      "WARNING: Ignoring invalid distribution -rotobuf (c:\\users\\user\\miniconda3\\envs\\py\\lib\\site-packages)\n",
      "WARNING: Ignoring invalid distribution - (c:\\users\\user\\miniconda3\\envs\\py\\lib\\site-packages)\n",
      "WARNING: Ignoring invalid distribution -ensorflow-intel (c:\\users\\user\\miniconda3\\envs\\py\\lib\\site-packages)\n",
      "WARNING: Ignoring invalid distribution -rotobuf (c:\\users\\user\\miniconda3\\envs\\py\\lib\\site-packages)\n",
      "WARNING: Ignoring invalid distribution - (c:\\users\\user\\miniconda3\\envs\\py\\lib\\site-packages)\n",
      "WARNING: Ignoring invalid distribution -ensorflow-intel (c:\\users\\user\\miniconda3\\envs\\py\\lib\\site-packages)\n",
      "WARNING: Ignoring invalid distribution -rotobuf (c:\\users\\user\\miniconda3\\envs\\py\\lib\\site-packages)\n",
      "WARNING: Ignoring invalid distribution - (c:\\users\\user\\miniconda3\\envs\\py\\lib\\site-packages)\n",
      "WARNING: Ignoring invalid distribution -ensorflow-intel (c:\\users\\user\\miniconda3\\envs\\py\\lib\\site-packages)\n",
      "WARNING: Ignoring invalid distribution -rotobuf (c:\\users\\user\\miniconda3\\envs\\py\\lib\\site-packages)\n",
      "WARNING: Ignoring invalid distribution - (c:\\users\\user\\miniconda3\\envs\\py\\lib\\site-packages)\n",
      "WARNING: Ignoring invalid distribution -ensorflow-intel (c:\\users\\user\\miniconda3\\envs\\py\\lib\\site-packages)\n"
     ]
    }
   ],
   "source": [
    "!pip install gtts"
   ]
  },
  {
   "cell_type": "code",
   "execution_count": 9,
   "id": "ffa6b196-afb9-4749-9154-4e4915388367",
   "metadata": {},
   "outputs": [
    {
     "name": "stdout",
     "output_type": "stream",
     "text": [
      "Collecting playsound\n",
      "  Downloading playsound-1.3.0.tar.gz (7.7 kB)\n",
      "  Preparing metadata (setup.py): started\n",
      "  Preparing metadata (setup.py): finished with status 'done'\n",
      "Building wheels for collected packages: playsound\n",
      "  Building wheel for playsound (setup.py): started\n",
      "  Building wheel for playsound (setup.py): finished with status 'done'\n",
      "  Created wheel for playsound: filename=playsound-1.3.0-py3-none-any.whl size=7035 sha256=dbcf123eac0f46fdb84770d458cc13659eeca220c9af6bccc02a54989745eee7\n",
      "  Stored in directory: c:\\users\\user\\appdata\\local\\pip\\cache\\wheels\\24\\f9\\b3\\2ed63b5d2a91bbf7da060acdc294c1335db338ec81f0c76e1b\n",
      "Successfully built playsound\n",
      "Installing collected packages: playsound\n",
      "Successfully installed playsound-1.3.0\n"
     ]
    },
    {
     "name": "stderr",
     "output_type": "stream",
     "text": [
      "WARNING: Ignoring invalid distribution -rotobuf (c:\\users\\user\\miniconda3\\envs\\py\\lib\\site-packages)\n",
      "WARNING: Ignoring invalid distribution - (c:\\users\\user\\miniconda3\\envs\\py\\lib\\site-packages)\n",
      "WARNING: Ignoring invalid distribution -ensorflow-intel (c:\\users\\user\\miniconda3\\envs\\py\\lib\\site-packages)\n",
      "WARNING: Ignoring invalid distribution -rotobuf (c:\\users\\user\\miniconda3\\envs\\py\\lib\\site-packages)\n",
      "WARNING: Ignoring invalid distribution - (c:\\users\\user\\miniconda3\\envs\\py\\lib\\site-packages)\n",
      "WARNING: Ignoring invalid distribution -ensorflow-intel (c:\\users\\user\\miniconda3\\envs\\py\\lib\\site-packages)\n",
      "WARNING: Ignoring invalid distribution -rotobuf (c:\\users\\user\\miniconda3\\envs\\py\\lib\\site-packages)\n",
      "WARNING: Ignoring invalid distribution - (c:\\users\\user\\miniconda3\\envs\\py\\lib\\site-packages)\n",
      "WARNING: Ignoring invalid distribution -ensorflow-intel (c:\\users\\user\\miniconda3\\envs\\py\\lib\\site-packages)\n",
      "WARNING: Ignoring invalid distribution -rotobuf (c:\\users\\user\\miniconda3\\envs\\py\\lib\\site-packages)\n",
      "WARNING: Ignoring invalid distribution - (c:\\users\\user\\miniconda3\\envs\\py\\lib\\site-packages)\n",
      "WARNING: Ignoring invalid distribution -ensorflow-intel (c:\\users\\user\\miniconda3\\envs\\py\\lib\\site-packages)\n",
      "WARNING: Ignoring invalid distribution -rotobuf (c:\\users\\user\\miniconda3\\envs\\py\\lib\\site-packages)\n",
      "WARNING: Ignoring invalid distribution - (c:\\users\\user\\miniconda3\\envs\\py\\lib\\site-packages)\n",
      "WARNING: Ignoring invalid distribution -ensorflow-intel (c:\\users\\user\\miniconda3\\envs\\py\\lib\\site-packages)\n",
      "WARNING: Ignoring invalid distribution -rotobuf (c:\\users\\user\\miniconda3\\envs\\py\\lib\\site-packages)\n",
      "WARNING: Ignoring invalid distribution - (c:\\users\\user\\miniconda3\\envs\\py\\lib\\site-packages)\n",
      "WARNING: Ignoring invalid distribution -ensorflow-intel (c:\\users\\user\\miniconda3\\envs\\py\\lib\\site-packages)\n",
      "WARNING: Ignoring invalid distribution -rotobuf (c:\\users\\user\\miniconda3\\envs\\py\\lib\\site-packages)\n",
      "WARNING: Ignoring invalid distribution - (c:\\users\\user\\miniconda3\\envs\\py\\lib\\site-packages)\n",
      "WARNING: Ignoring invalid distribution -ensorflow-intel (c:\\users\\user\\miniconda3\\envs\\py\\lib\\site-packages)\n"
     ]
    }
   ],
   "source": [
    "!pip install playsound"
   ]
  },
  {
   "cell_type": "code",
   "execution_count": 10,
   "id": "5c574c2c-17de-4ed2-a4ed-82f03e58ee68",
   "metadata": {},
   "outputs": [],
   "source": [
    "from tkinter import filedialog\n",
    "from PIL import Image, ImageTk\n",
    "import winsound\n",
    "from gtts import gTTS\n",
    "import playsound"
   ]
  },
  {
   "cell_type": "code",
   "execution_count": 11,
   "id": "156c886f-447d-45f0-a614-0933cbf42751",
   "metadata": {},
   "outputs": [],
   "source": [
    "# 압축 해제\n",
    "import zipfile\n",
    "with zipfile.ZipFile('C:/Users/user/python_machine_learning/영상자동분류용_test_images.zip','r') as zip_file:\n",
    "    zip_file.extractall(\"./images/\")"
   ]
  },
  {
   "cell_type": "code",
   "execution_count": 12,
   "id": "0d42fef7-9ca2-421d-9a1e-318fde6e5a3a",
   "metadata": {},
   "outputs": [],
   "source": [
    "# 클래스명 \n",
    "class_names_en = ['airplane','automobile','bird','cat','deer','dog','frog','horse','ship','truck']\n",
    "class_names_fr=['avion','voiture','oiseau','chatte','biche','chienne','grenouille','jument','navire','un camion']\n",
    "class_names_de=['Flugzeug','Automobil','Vogel','Katze','Hirsch','Hund','Frosch','Pferd','Schiff','LKW']\n",
    "class_names_ko=['비행기','자동차','새','고양이','사슴','개','개구리','말','배','트럭']\n",
    "class_names_ja = ['비행기']"
   ]
  },
  {
   "cell_type": "code",
   "execution_count": 13,
   "id": "d420eb9d-3f41-410e-87d9-88e1de6e47e0",
   "metadata": {},
   "outputs": [
    {
     "name": "stdout",
     "output_type": "stream",
     "text": [
      "Collecting canvas\n",
      "  Downloading canvas-0.3.tar.gz (3.4 kB)\n",
      "  Preparing metadata (setup.py): started\n",
      "  Preparing metadata (setup.py): finished with status 'done'\n",
      "Building wheels for collected packages: canvas\n",
      "  Building wheel for canvas (setup.py): started\n",
      "  Building wheel for canvas (setup.py): finished with status 'done'\n",
      "  Created wheel for canvas: filename=canvas-0.3-py3-none-any.whl size=2239 sha256=9a7bbc3461687bdc651492af61107118b8100cc74d7eb2908c6ca7deeec6ad11\n",
      "  Stored in directory: c:\\users\\user\\appdata\\local\\pip\\cache\\wheels\\23\\50\\98\\60e94a80e4d0602e89dfad674e0d9ee6fcf070516aa2355e03\n",
      "Successfully built canvas\n",
      "Installing collected packages: canvas\n",
      "Successfully installed canvas-0.3\n"
     ]
    },
    {
     "name": "stderr",
     "output_type": "stream",
     "text": [
      "WARNING: Ignoring invalid distribution -rotobuf (c:\\users\\user\\miniconda3\\envs\\py\\lib\\site-packages)\n",
      "WARNING: Ignoring invalid distribution - (c:\\users\\user\\miniconda3\\envs\\py\\lib\\site-packages)\n",
      "WARNING: Ignoring invalid distribution -ensorflow-intel (c:\\users\\user\\miniconda3\\envs\\py\\lib\\site-packages)\n",
      "WARNING: Ignoring invalid distribution -rotobuf (c:\\users\\user\\miniconda3\\envs\\py\\lib\\site-packages)\n",
      "WARNING: Ignoring invalid distribution - (c:\\users\\user\\miniconda3\\envs\\py\\lib\\site-packages)\n",
      "WARNING: Ignoring invalid distribution -ensorflow-intel (c:\\users\\user\\miniconda3\\envs\\py\\lib\\site-packages)\n",
      "WARNING: Ignoring invalid distribution -rotobuf (c:\\users\\user\\miniconda3\\envs\\py\\lib\\site-packages)\n",
      "WARNING: Ignoring invalid distribution - (c:\\users\\user\\miniconda3\\envs\\py\\lib\\site-packages)\n",
      "WARNING: Ignoring invalid distribution -ensorflow-intel (c:\\users\\user\\miniconda3\\envs\\py\\lib\\site-packages)\n",
      "WARNING: Ignoring invalid distribution -rotobuf (c:\\users\\user\\miniconda3\\envs\\py\\lib\\site-packages)\n",
      "WARNING: Ignoring invalid distribution - (c:\\users\\user\\miniconda3\\envs\\py\\lib\\site-packages)\n",
      "WARNING: Ignoring invalid distribution -ensorflow-intel (c:\\users\\user\\miniconda3\\envs\\py\\lib\\site-packages)\n",
      "WARNING: Ignoring invalid distribution -rotobuf (c:\\users\\user\\miniconda3\\envs\\py\\lib\\site-packages)\n",
      "WARNING: Ignoring invalid distribution - (c:\\users\\user\\miniconda3\\envs\\py\\lib\\site-packages)\n",
      "WARNING: Ignoring invalid distribution -ensorflow-intel (c:\\users\\user\\miniconda3\\envs\\py\\lib\\site-packages)\n",
      "WARNING: Ignoring invalid distribution -rotobuf (c:\\users\\user\\miniconda3\\envs\\py\\lib\\site-packages)\n",
      "WARNING: Ignoring invalid distribution - (c:\\users\\user\\miniconda3\\envs\\py\\lib\\site-packages)\n",
      "WARNING: Ignoring invalid distribution -ensorflow-intel (c:\\users\\user\\miniconda3\\envs\\py\\lib\\site-packages)\n",
      "WARNING: Ignoring invalid distribution -rotobuf (c:\\users\\user\\miniconda3\\envs\\py\\lib\\site-packages)\n",
      "WARNING: Ignoring invalid distribution - (c:\\users\\user\\miniconda3\\envs\\py\\lib\\site-packages)\n",
      "WARNING: Ignoring invalid distribution -ensorflow-intel (c:\\users\\user\\miniconda3\\envs\\py\\lib\\site-packages)\n"
     ]
    }
   ],
   "source": [
    "!pip install canvas"
   ]
  },
  {
   "cell_type": "code",
   "execution_count": 14,
   "id": "332a7508-7919-4009-885f-9e898e52f925",
   "metadata": {},
   "outputs": [],
   "source": [
    "import os\n",
    "class_id = 0;\n",
    "tk_img = ''\n",
    "# 영상버튼을 눌렀을때 실행되는 콜벡함수\n",
    "def process_image():\n",
    "    global class_id,tk_img\n",
    "    fname = filedialog.askopenfilename()\n",
    "    img = Image.open(fname)\n",
    "    tk_img = img.resize([128,128])\n",
    "    tk_img = ImageTk.PhotoImage(tk_img)\n",
    "    canvas.create_image( (canvas.winfo_width()/2, canvas.winfo_height()/2),\n",
    "                        image = tk_img, anchor = 'center')\n",
    "    x_test = []\n",
    "    x = np.asanyarray(img.resize([32,32]))/255.0\n",
    "    x_test.append(x)\n",
    "    x_test = np.asanyarray(x_test)\n",
    "    res = model.predict(x_test)\n",
    "    class_id = np.argmax(res)    \n",
    "    label_en['text'] = '영어'+class_names_en[class_id] # 위젯\n",
    "    label_fr['text'] = '프랑스어'+class_names_fr[class_id] # 위젯\n",
    "    label_de['text'] = '독일어'+class_names_de[class_id] # 위젯\n",
    "    label_ko['text'] = '한국어'+class_names_ko[class_id] # 위젯\n",
    "    label_ja['text'] = '일본어'+class_names_ja[class_id] # 위젯\n",
    "    winsound.Beep(frequency=500,duration=250)\n",
    "def quit_program():\n",
    "    win.destroy()\n",
    "    \n",
    "def tts_english():\n",
    "    tts = gTTS(text=class_names_en[class_id],lang='en')\n",
    "    if os.path.isfile('word.mp3'): os.remove('word.mp3')\n",
    "    tts.save('word.mp3')\n",
    "    playsound.playsound('word.mp3',True)\n",
    "def tts_french():\n",
    "    tts = gTTS(text=class_names_fr[class_id],lang='fr')\n",
    "    if os.path.isfile('word.mp3'): os.remove('word.mp3')\n",
    "    tts.save('word.mp3')\n",
    "    playsound.playsound('word.mp3',True)\n",
    "def tts_deutsch():\n",
    "    tts = gTTS(text=class_names_de[class_id],lang='de')\n",
    "    if os.path.isfile('word.mp3'): os.remove('word.mp3')\n",
    "    tts.save('word.mp3')\n",
    "    playsound.playsound('word.mp3',True)\n",
    "def tts_korean():\n",
    "    tts = gTTS(text=class_names_ko[class_id],lang='ko')\n",
    "    if os.path.isfile('word.mp3'): os.remove('word.mp3')\n",
    "    tts.save('word.mp3')\n",
    "    playsound.playsound('word.mp3',True)\n",
    "def tts_japaness():\n",
    "    tts = gTTS(text=class_names_ja[class_id],lang='ja')\n",
    "    if os.path.isfile('word.mp3'): os.remove('word.mp3')\n",
    "    tts.save('word.mp3')\n",
    "    playsound.playsound('word.mp3',True)    "
   ]
  },
  {
   "cell_type": "code",
   "execution_count": 15,
   "id": "ed75ae61-45ad-4bc4-9997-cab75855610d",
   "metadata": {},
   "outputs": [],
   "source": [
    "import tkinter as tk"
   ]
  },
  {
   "cell_type": "code",
   "execution_count": 16,
   "id": "a923222e-c63b-40a0-9e0e-8f7412189b90",
   "metadata": {},
   "outputs": [
    {
     "name": "stderr",
     "output_type": "stream",
     "text": [
      "\n",
      "    Error 263 for command:\n",
      "        open word.mp3\n",
      "    지정한 장치가 열려 있지 않거나 MCI에서 인식되지 않습니다.\n",
      "\n",
      "    Error 263 for command:\n",
      "        close word.mp3\n",
      "    지정한 장치가 열려 있지 않거나 MCI에서 인식되지 않습니다.\n",
      "Failed to close the file: word.mp3\n",
      "Exception in Tkinter callback\n",
      "Traceback (most recent call last):\n",
      "  File \"C:\\Users\\user\\miniconda3\\envs\\py\\lib\\tkinter\\__init__.py\", line 1921, in __call__\n",
      "    return self.func(*args)\n",
      "  File \"C:\\Temp\\ipykernel_48204\\4104588559.py\", line 32, in tts_english\n",
      "    playsound.playsound('word.mp3',True)\n",
      "  File \"C:\\Users\\user\\miniconda3\\envs\\py\\lib\\site-packages\\playsound.py\", line 72, in _playsoundWin\n",
      "    winCommand(u'open {}'.format(sound))\n",
      "  File \"C:\\Users\\user\\miniconda3\\envs\\py\\lib\\site-packages\\playsound.py\", line 64, in winCommand\n",
      "    raise PlaysoundException(exceptionMessage)\n",
      "playsound.PlaysoundException: \n",
      "    Error 263 for command:\n",
      "        open word.mp3\n",
      "    지정한 장치가 열려 있지 않거나 MCI에서 인식되지 않습니다.\n",
      "Exception in Tkinter callback\n",
      "Traceback (most recent call last):\n",
      "  File \"C:\\Users\\user\\miniconda3\\envs\\py\\lib\\site-packages\\PIL\\Image.py\", line 3231, in open\n",
      "    fp.seek(0)\n",
      "AttributeError: 'str' object has no attribute 'seek'\n",
      "\n",
      "During handling of the above exception, another exception occurred:\n",
      "\n",
      "Traceback (most recent call last):\n",
      "  File \"C:\\Users\\user\\miniconda3\\envs\\py\\lib\\tkinter\\__init__.py\", line 1921, in __call__\n",
      "    return self.func(*args)\n",
      "  File \"C:\\Temp\\ipykernel_48204\\4104588559.py\", line 8, in process_image\n",
      "    img = Image.open(fname)\n",
      "  File \"C:\\Users\\user\\miniconda3\\envs\\py\\lib\\site-packages\\PIL\\Image.py\", line 3233, in open\n",
      "    fp = io.BytesIO(fp.read())\n",
      "AttributeError: 'str' object has no attribute 'read'\n"
     ]
    },
    {
     "name": "stdout",
     "output_type": "stream",
     "text": [
      "1/1 [==============================] - 0s 128ms/step\n"
     ]
    },
    {
     "name": "stderr",
     "output_type": "stream",
     "text": [
      "\n",
      "    Error 259 for command:\n",
      "        play word.mp3 wait\n",
      "    지정한 명령 매개 변수를 드라이버가 인식할 수 없습니다.\n",
      "Exception in Tkinter callback\n",
      "Traceback (most recent call last):\n",
      "  File \"C:\\Users\\user\\miniconda3\\envs\\py\\lib\\tkinter\\__init__.py\", line 1921, in __call__\n",
      "    return self.func(*args)\n",
      "  File \"C:\\Temp\\ipykernel_48204\\4104588559.py\", line 37, in tts_french\n",
      "    playsound.playsound('word.mp3',True)\n",
      "  File \"C:\\Users\\user\\miniconda3\\envs\\py\\lib\\site-packages\\playsound.py\", line 73, in _playsoundWin\n",
      "    winCommand(u'play {}{}'.format(sound, ' wait' if block else ''))\n",
      "  File \"C:\\Users\\user\\miniconda3\\envs\\py\\lib\\site-packages\\playsound.py\", line 64, in winCommand\n",
      "    raise PlaysoundException(exceptionMessage)\n",
      "playsound.PlaysoundException: \n",
      "    Error 259 for command:\n",
      "        play word.mp3 wait\n",
      "    지정한 명령 매개 변수를 드라이버가 인식할 수 없습니다.\n",
      "\n",
      "    Error 259 for command:\n",
      "        play word.mp3 wait\n",
      "    지정한 명령 매개 변수를 드라이버가 인식할 수 없습니다.\n",
      "Exception in Tkinter callback\n",
      "Traceback (most recent call last):\n",
      "  File \"C:\\Users\\user\\miniconda3\\envs\\py\\lib\\tkinter\\__init__.py\", line 1921, in __call__\n",
      "    return self.func(*args)\n",
      "  File \"C:\\Temp\\ipykernel_48204\\4104588559.py\", line 37, in tts_french\n",
      "    playsound.playsound('word.mp3',True)\n",
      "  File \"C:\\Users\\user\\miniconda3\\envs\\py\\lib\\site-packages\\playsound.py\", line 73, in _playsoundWin\n",
      "    winCommand(u'play {}{}'.format(sound, ' wait' if block else ''))\n",
      "  File \"C:\\Users\\user\\miniconda3\\envs\\py\\lib\\site-packages\\playsound.py\", line 64, in winCommand\n",
      "    raise PlaysoundException(exceptionMessage)\n",
      "playsound.PlaysoundException: \n",
      "    Error 259 for command:\n",
      "        play word.mp3 wait\n",
      "    지정한 명령 매개 변수를 드라이버가 인식할 수 없습니다.\n",
      "\n",
      "    Error 263 for command:\n",
      "        open word.mp3\n",
      "    지정한 장치가 열려 있지 않거나 MCI에서 인식되지 않습니다.\n",
      "\n",
      "    Error 263 for command:\n",
      "        close word.mp3\n",
      "    지정한 장치가 열려 있지 않거나 MCI에서 인식되지 않습니다.\n",
      "Failed to close the file: word.mp3\n",
      "Exception in Tkinter callback\n",
      "Traceback (most recent call last):\n",
      "  File \"C:\\Users\\user\\miniconda3\\envs\\py\\lib\\tkinter\\__init__.py\", line 1921, in __call__\n",
      "    return self.func(*args)\n",
      "  File \"C:\\Temp\\ipykernel_48204\\4104588559.py\", line 47, in tts_korean\n",
      "    playsound.playsound('word.mp3',True)\n",
      "  File \"C:\\Users\\user\\miniconda3\\envs\\py\\lib\\site-packages\\playsound.py\", line 72, in _playsoundWin\n",
      "    winCommand(u'open {}'.format(sound))\n",
      "  File \"C:\\Users\\user\\miniconda3\\envs\\py\\lib\\site-packages\\playsound.py\", line 64, in winCommand\n",
      "    raise PlaysoundException(exceptionMessage)\n",
      "playsound.PlaysoundException: \n",
      "    Error 263 for command:\n",
      "        open word.mp3\n",
      "    지정한 장치가 열려 있지 않거나 MCI에서 인식되지 않습니다.\n"
     ]
    }
   ],
   "source": [
    "win = tk.Tk()\n",
    "win.title(\"다국어 단어\")\n",
    "win.geometry('512x500')\n",
    "\n",
    "process_button = tk.Button(win,text='영상선택',command = process_image) # 위젯 생성\n",
    "quit_button = tk.Button(win,text='끝내기',command = quit_program) # 위젯 생성\n",
    "canvas = tk.Canvas(win,width=256,height=256,bg='cyan',bd=4)\n",
    "label_en = tk.Label(win,width=16,height=1,bg='yellow',bd=4,text='영어',anchor='w')\n",
    "label_fr = tk.Label(win,width=16,height=1,bg='yellow',bd=4,text='프랑스어',anchor='w')\n",
    "label_de = tk.Label(win,width=16,height=1,bg='yellow',bd=4,text='독일어',anchor='w')\n",
    "label_ko = tk.Label(win,width=16,height=1,bg='yellow',bd=4,text='한국어',anchor='w')\n",
    "label_ja = tk.Label(win,width=16,height=1,bg='yellow',bd=4,text='일본어',anchor='w')\n",
    "tts_en = tk.Button(win,text='듣기',command=tts_english)\n",
    "tts_fr = tk.Button(win,text='듣기',command=tts_french)\n",
    "tts_de = tk.Button(win,text='듣기',command=tts_deutsch)\n",
    "tts_ko = tk.Button(win,text='듣기',command=tts_korean)\n",
    "tts_ja = tk.Button(win,text='듣기',command=tts_japaness)\n",
    "\n",
    "\n",
    "process_button.grid(row=0,column=0) # 위젯 배치\n",
    "quit_button.grid(row=1,column=0)\n",
    "canvas.grid(row=0,column=1)\n",
    "label_en.grid(row=1,column=1); tts_en.grid(row=1,column=2)\n",
    "label_fr.grid(row=2,column=1); tts_fr.grid(row=2,column=2)\n",
    "label_de.grid(row=3,column=1); tts_de.grid(row=3,column=2)\n",
    "label_ko.grid(row=4,column=1); tts_ko.grid(row=4,column=2)\n",
    "label_ja.grid(row=5,column=1); tts_ja.grid(row=5,column=2)\n",
    "\n",
    "# 실행은 \n",
    "win.mainloop()"
   ]
  }
 ],
 "metadata": {
  "kernelspec": {
   "display_name": "Python 3 (ipykernel)",
   "language": "python",
   "name": "python3"
  },
  "language_info": {
   "codemirror_mode": {
    "name": "ipython",
    "version": 3
   },
   "file_extension": ".py",
   "mimetype": "text/x-python",
   "name": "python",
   "nbconvert_exporter": "python",
   "pygments_lexer": "ipython3",
   "version": "3.10.8"
  }
 },
 "nbformat": 4,
 "nbformat_minor": 5
}
