{
 "cells": [
  {
   "cell_type": "code",
   "execution_count": 1,
   "id": "6d7b350f-4381-41b1-b26d-30fd643f6ccb",
   "metadata": {},
   "outputs": [
    {
     "name": "stdout",
     "output_type": "stream",
     "text": [
      "e_hidden: [0.42 0.88]\n",
      "e_input: [0.362 0.938]\n"
     ]
    }
   ],
   "source": [
    "import numpy as np\n",
    "\n",
    "w_input = np.array([[3.0, 1.0],\n",
    "                    [2.0, 7.0]])\n",
    "w_output = np.array([[2.0, 1.0],\n",
    "                     [3.0, 4.0]])\n",
    "e = np.array([0.8, 0.5])\n",
    "\n",
    "w_input = np.array([[3.0/(3.0+2.0), 1.0/(1.0+7.0)],\n",
    "                   [2.0/(2.0+3.0), 7.0/(7.0+1.0)]])\n",
    "w_output = np.array([[2.0/(2.0+3.0), 1.0/(1.0+4.0)],\n",
    "                    [3.0/(3.0+2.0), 4.0/(4.0+1.0)]])\n",
    "\n",
    "e_hidden = np.dot(w_output, e)\n",
    "print('e_hidden:', e_hidden)\n",
    "e_input = np.dot(w_input, e_hidden)\n",
    "print('e_input:', e_input)"
   ]
  },
  {
   "cell_type": "code",
   "execution_count": 2,
   "id": "ee4bc658-cd95-4467-9083-f82caae97347",
   "metadata": {},
   "outputs": [
    {
     "name": "stdout",
     "output_type": "stream",
     "text": [
      "error at hidden node 1: 0.42\n",
      "error at hidden node 2: 0.88\n"
     ]
    }
   ],
   "source": [
    "w11 = 2.0\n",
    "w12 = 1.0\n",
    "w21 = 3.0\n",
    "w22 = 4.0\n",
    "\n",
    "e1 = 0.8\n",
    "e2 = 0.5\n",
    "\n",
    "w1 = w11 / (w11+w21)\n",
    "w2 = w12 / (w12+w22)\n",
    "w3 = w21 / (w21+w11)\n",
    "w4 = w22 / (w22+w12)\n",
    "\n",
    "n1 = np.array([[w1, w2], [w3, w4]])\n",
    "n2 = np.array([e1, e2])\n",
    "\n",
    "e_1 = np.dot(n1, n2)\n",
    "\n",
    "float_digit = 3\n",
    "\n",
    "print('error at hidden node 1:', round(e_1[0], float_digit))\n",
    "print('error at hidden node 2:', round(e_1[1], float_digit))"
   ]
  }
 ],
 "metadata": {
  "kernelspec": {
   "display_name": "Python 3 (ipykernel)",
   "language": "python",
   "name": "python3"
  },
  "language_info": {
   "codemirror_mode": {
    "name": "ipython",
    "version": 3
   },
   "file_extension": ".py",
   "mimetype": "text/x-python",
   "name": "python",
   "nbconvert_exporter": "python",
   "pygments_lexer": "ipython3",
   "version": "3.10.8"
  }
 },
 "nbformat": 4,
 "nbformat_minor": 5
}
