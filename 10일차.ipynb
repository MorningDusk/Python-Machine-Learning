{
 "cells": [
  {
   "cell_type": "code",
   "execution_count": 21,
   "id": "733e1237-ac19-46ce-80bc-2bbab4619185",
   "metadata": {},
   "outputs": [],
   "source": [
    "f = open('./test.txt', 'r')"
   ]
  },
  {
   "cell_type": "code",
   "execution_count": 22,
   "id": "58b4bab1-0667-4a64-aaa8-21cbd147aade",
   "metadata": {},
   "outputs": [],
   "source": [
    "contents = f.read()"
   ]
  },
  {
   "cell_type": "code",
   "execution_count": 6,
   "id": "9c569ded-1054-4427-8c71-74bb9c5454ab",
   "metadata": {},
   "outputs": [
    {
     "data": {
      "text/plain": [
       "'The House has adjourned for the third day without electing a new speaker after Kevin McCarthy continued to suffer a string of defeats in multiple rounds of voting on Thursday. As the fight for the gavel drags on, it has now become the longest speaker contest in 164 years.\\nEach failed vote only increases pressure on McCarthy to end the impasse, but it is unclear whether he will be able to pull it off as the situation grows increasingly dire for his future political prospects.'"
      ]
     },
     "execution_count": 6,
     "metadata": {},
     "output_type": "execute_result"
    }
   ],
   "source": [
    "contents"
   ]
  },
  {
   "cell_type": "code",
   "execution_count": 7,
   "id": "6092fa43-6a97-44c9-887d-28041ae43404",
   "metadata": {},
   "outputs": [],
   "source": [
    "f.close()"
   ]
  },
  {
   "cell_type": "code",
   "execution_count": 23,
   "id": "64a42659-5d4a-4d71-9374-c9c4122f0769",
   "metadata": {},
   "outputs": [
    {
     "name": "stdout",
     "output_type": "stream",
     "text": [
      "['The House has adjourned for the third day without electing a new speaker after Kevin McCarthy continued to suffer a string of defeats in multiple rounds of voting on Thursday. As the fight for the gavel drags on, it has now become the longest speaker contest in 164 years.\\n', 'Each failed vote only increases pressure on McCarthy to end the impasse, but it is unclear whether he will be able to pull it off as the situation grows increasingly dire for his future political prospects.']\n"
     ]
    }
   ],
   "source": [
    "with open('test.txt', 'r') as f:\n",
    "    content = f.readlines()\n",
    "    print(content)"
   ]
  },
  {
   "cell_type": "code",
   "execution_count": 25,
   "id": "3aa1b4dd-b493-4cc9-b08f-2a00e48e34dd",
   "metadata": {},
   "outputs": [
    {
     "name": "stdout",
     "output_type": "stream",
     "text": [
      "The House has adjourned for the third day without electing a new speaker after Kevin McCarthy continued to suffer a string of defeats in multiple rounds of voting on Thursday. As the fight for the gavel drags on, it has now become the longest speaker contest in 164 years.\n",
      "Each failed vote only increases pressure on McCarthy to end the impasse, but it is unclear whether he will be able to pull it off as the situation grows increasingly dire for his future political prospects.\n"
     ]
    }
   ],
   "source": [
    "# 라인단위로 읽는 경우\n",
    "with open('./test.txt', 'r') as f:\n",
    "    #f.readline()으로 읽어서 값이 없을때까지 f.readline()\n",
    "    while True:\n",
    "        content = f.readline()\n",
    "        if not content: break\n",
    "        content = content.replace('\\n', '')\n",
    "        print(content)"
   ]
  },
  {
   "cell_type": "markdown",
   "id": "31cb0335-e09e-4e08-b33e-aa6c21c71608",
   "metadata": {},
   "source": [
    "### 알파벳수 count\n",
    "### 공백을 기준으로 분리한 문자들의 count\n",
    "### 라인수 count"
   ]
  },
  {
   "cell_type": "code",
   "execution_count": 36,
   "id": "46472cf8-a847-4168-93c3-d995755abaf1",
   "metadata": {},
   "outputs": [
    {
     "name": "stdout",
     "output_type": "stream",
     "text": [
      "라인 수: 2, 단어 수: 85, 글자 수: 478\n"
     ]
    }
   ],
   "source": [
    "with open('./test.txt', 'r') as f:\n",
    "    content_list = f.readlines()\n",
    "    lines_count = len(content_list)\n",
    "    word_count = sum([len(line.split()) for line in content_list])\n",
    "    word_list = [line.split() for line in content_list]\n",
    "    spell_count = sum([len(j) for j in [i.replace('\\n','') for i in content_list]])\n",
    "    print(f\"라인 수: {lines_count}, 단어 수: {word_count}, 글자 수: {spell_count}\")"
   ]
  },
  {
   "cell_type": "code",
   "execution_count": 30,
   "id": "4daa1482-09ad-4172-80c4-e3c03e2ef2d1",
   "metadata": {},
   "outputs": [
    {
     "data": {
      "text/plain": [
       "[['The',\n",
       "  'House',\n",
       "  'has',\n",
       "  'adjourned',\n",
       "  'for',\n",
       "  'the',\n",
       "  'third',\n",
       "  'day',\n",
       "  'without',\n",
       "  'electing',\n",
       "  'a',\n",
       "  'new',\n",
       "  'speaker',\n",
       "  'after',\n",
       "  'Kevin',\n",
       "  'McCarthy',\n",
       "  'continued',\n",
       "  'to',\n",
       "  'suffer',\n",
       "  'a',\n",
       "  'string',\n",
       "  'of',\n",
       "  'defeats',\n",
       "  'in',\n",
       "  'multiple',\n",
       "  'rounds',\n",
       "  'of',\n",
       "  'voting',\n",
       "  'on',\n",
       "  'Thursday.',\n",
       "  'As',\n",
       "  'the',\n",
       "  'fight',\n",
       "  'for',\n",
       "  'the',\n",
       "  'gavel',\n",
       "  'drags',\n",
       "  'on,',\n",
       "  'it',\n",
       "  'has',\n",
       "  'now',\n",
       "  'become',\n",
       "  'the',\n",
       "  'longest',\n",
       "  'speaker',\n",
       "  'contest',\n",
       "  'in',\n",
       "  '164',\n",
       "  'years.'],\n",
       " ['Each',\n",
       "  'failed',\n",
       "  'vote',\n",
       "  'only',\n",
       "  'increases',\n",
       "  'pressure',\n",
       "  'on',\n",
       "  'McCarthy',\n",
       "  'to',\n",
       "  'end',\n",
       "  'the',\n",
       "  'impasse,',\n",
       "  'but',\n",
       "  'it',\n",
       "  'is',\n",
       "  'unclear',\n",
       "  'whether',\n",
       "  'he',\n",
       "  'will',\n",
       "  'be',\n",
       "  'able',\n",
       "  'to',\n",
       "  'pull',\n",
       "  'it',\n",
       "  'off',\n",
       "  'as',\n",
       "  'the',\n",
       "  'situation',\n",
       "  'grows',\n",
       "  'increasingly',\n",
       "  'dire',\n",
       "  'for',\n",
       "  'his',\n",
       "  'future',\n",
       "  'political',\n",
       "  'prospects.']]"
      ]
     },
     "execution_count": 30,
     "metadata": {},
     "output_type": "execute_result"
    }
   ],
   "source": [
    "word_list"
   ]
  },
  {
   "cell_type": "code",
   "execution_count": 32,
   "id": "f5d6ce66-b856-420d-8fc6-8d2b3ebcd432",
   "metadata": {},
   "outputs": [
    {
     "data": {
      "text/plain": [
       "['The House has adjourned for the third day without electing a new speaker after Kevin McCarthy continued to suffer a string of defeats in multiple rounds of voting on Thursday. As the fight for the gavel drags on, it has now become the longest speaker contest in 164 years.',\n",
       " 'Each failed vote only increases pressure on McCarthy to end the impasse, but it is unclear whether he will be able to pull it off as the situation grows increasingly dire for his future political prospects.']"
      ]
     },
     "execution_count": 32,
     "metadata": {},
     "output_type": "execute_result"
    }
   ],
   "source": [
    "[i.replace('\\n', '') for i in content_list]"
   ]
  },
  {
   "cell_type": "code",
   "execution_count": 37,
   "id": "7fab43e6-8e1d-4bd0-bfdf-1fbe758463a7",
   "metadata": {},
   "outputs": [],
   "source": [
    "temp_list = ['the', 'abc', 'a', 'the', 'b', 'c']"
   ]
  },
  {
   "cell_type": "code",
   "execution_count": 38,
   "id": "721dab12-b8ff-4e36-a0ef-2f5441382336",
   "metadata": {},
   "outputs": [],
   "source": [
    "word_count = {}\n",
    "word_count['the'] = 1"
   ]
  },
  {
   "cell_type": "code",
   "execution_count": 39,
   "id": "08b50b4a-6c9f-44c6-a50f-43684382f35d",
   "metadata": {},
   "outputs": [],
   "source": [
    "word_count['the'] += 1"
   ]
  },
  {
   "cell_type": "code",
   "execution_count": 40,
   "id": "67ed42f2-492b-4488-9d1a-f14b5eada28c",
   "metadata": {},
   "outputs": [
    {
     "data": {
      "text/plain": [
       "{'the': 2}"
      ]
     },
     "execution_count": 40,
     "metadata": {},
     "output_type": "execute_result"
    }
   ],
   "source": [
    "word_count"
   ]
  },
  {
   "cell_type": "code",
   "execution_count": 41,
   "id": "a7393ed4-972f-4545-9dd8-0d3849302e00",
   "metadata": {},
   "outputs": [
    {
     "data": {
      "text/plain": [
       "{'the': 2, 'abc': 1, 'a': 1, 'b': 1, 'c': 1}"
      ]
     },
     "execution_count": 41,
     "metadata": {},
     "output_type": "execute_result"
    }
   ],
   "source": [
    "word_count = {}\n",
    "for word in temp_list:\n",
    "    if word not in word_count.keys():\n",
    "        word_count[word] = 1\n",
    "    else:\n",
    "        word_count[word] += 1\n",
    "word_count"
   ]
  },
  {
   "cell_type": "code",
   "execution_count": 50,
   "id": "e4dd4222-7934-47a3-8464-ca545f944bc4",
   "metadata": {},
   "outputs": [],
   "source": [
    "with open('./hangeul.txt', 'r', encoding = 'utf-8') as f:\n",
    "    temp = f.read().split()\n",
    "    result = makeWordCount(temp)"
   ]
  },
  {
   "cell_type": "code",
   "execution_count": 49,
   "id": "df101f9b-046e-4260-b3d1-9754fca664ec",
   "metadata": {},
   "outputs": [],
   "source": [
    "def makeWordCount(temp_list):\n",
    "    word_count = {}\n",
    "    for word in temp_list:\n",
    "        if word not in word_count.keys():\n",
    "            word_count[word] = 1\n",
    "        else:\n",
    "            word_count[word] += 1\n",
    "    return word_count"
   ]
  },
  {
   "cell_type": "code",
   "execution_count": 47,
   "id": "c30d0fa8-ffc4-41af-a6a2-b947c3d6dea1",
   "metadata": {},
   "outputs": [
    {
     "data": {
      "text/plain": [
       "['본',\n",
       " '수업을',\n",
       " '통하여',\n",
       " '머신러닝의',\n",
       " '기초',\n",
       " '알고리즘을',\n",
       " '이해하고',\n",
       " '구현해봄으로써',\n",
       " '기초를',\n",
       " '습득하고,',\n",
       " '더',\n",
       " '나아가',\n",
       " '이번',\n",
       " '실습에',\n",
       " '사용되지',\n",
       " '않은',\n",
       " '다른',\n",
       " '머신러닝',\n",
       " '알고리즘도',\n",
       " '스스로',\n",
       " '이해할',\n",
       " '수',\n",
       " '있는',\n",
       " '개발자로',\n",
       " '성장할',\n",
       " '수',\n",
       " '있는',\n",
       " '계기를',\n",
       " '만드는',\n",
       " '데',\n",
       " '있습니다.']"
      ]
     },
     "execution_count": 47,
     "metadata": {},
     "output_type": "execute_result"
    }
   ],
   "source": [
    "a = [i.split() for i in content_list]\n",
    "temp = []\n",
    "for i in a:\n",
    "    temp += i\n",
    "temp"
   ]
  },
  {
   "cell_type": "markdown",
   "id": "4343bac1-b658-4175-a9d4-cee67301e365",
   "metadata": {},
   "source": [
    "# 넘파이"
   ]
  },
  {
   "cell_type": "code",
   "execution_count": 53,
   "id": "57bfcb0e-43ca-4b25-854c-a4d5de39a94b",
   "metadata": {},
   "outputs": [
    {
     "name": "stdout",
     "output_type": "stream",
     "text": [
      "Collecting numpy\n",
      "  Downloading numpy-1.24.1-cp310-cp310-win_amd64.whl (14.8 MB)\n",
      "     --------------------------------------- 14.8/14.8 MB 12.6 MB/s eta 0:00:00\n",
      "Installing collected packages: numpy\n",
      "Successfully installed numpy-1.24.1\n",
      "Note: you may need to restart the kernel to use updated packages.\n"
     ]
    }
   ],
   "source": [
    "pip install numpy"
   ]
  },
  {
   "cell_type": "code",
   "execution_count": 54,
   "id": "e1b8fbb7-2c7b-4228-8008-8914d3934273",
   "metadata": {},
   "outputs": [],
   "source": [
    "import numpy as np"
   ]
  },
  {
   "cell_type": "code",
   "execution_count": 55,
   "id": "6cbf479b-415c-448c-9666-df538fbc5171",
   "metadata": {},
   "outputs": [
    {
     "data": {
      "text/plain": [
       "[1, 2, 3, 4, 5]"
      ]
     },
     "execution_count": 55,
     "metadata": {},
     "output_type": "execute_result"
    }
   ],
   "source": [
    "data_1 = [1,2,3,4,5]\n",
    "data_1"
   ]
  },
  {
   "cell_type": "code",
   "execution_count": 57,
   "id": "43e04493-cb7c-4d5d-bdcf-c1e90622e42c",
   "metadata": {},
   "outputs": [
    {
     "data": {
      "text/plain": [
       "[[1, 2, 3], [4, 5, 6]]"
      ]
     },
     "execution_count": 57,
     "metadata": {},
     "output_type": "execute_result"
    }
   ],
   "source": [
    "data_2 = [\n",
    "    [1,2,3],\n",
    "    [4,5,6]\n",
    "]\n",
    "data_2"
   ]
  },
  {
   "cell_type": "code",
   "execution_count": 59,
   "id": "a0fdb146-046f-465c-97c2-88bfc660f312",
   "metadata": {},
   "outputs": [
    {
     "data": {
      "text/plain": [
       "[[[1, 2, 3], [4, 5, 6]], [[7, 8, 9], [10, 11, 12]]]"
      ]
     },
     "execution_count": 59,
     "metadata": {},
     "output_type": "execute_result"
    }
   ],
   "source": [
    "data_3 = [\n",
    "    [\n",
    "        [1,2,3],\n",
    "        [4,5,6]\n",
    "    ],\n",
    "    [\n",
    "        [7,8,9],\n",
    "        [10,11,12]\n",
    "    ]\n",
    "]\n",
    "data_3"
   ]
  },
  {
   "cell_type": "code",
   "execution_count": 58,
   "id": "5eaf01d3-b0df-4712-a005-f727a120a486",
   "metadata": {},
   "outputs": [
    {
     "data": {
      "text/plain": [
       "array([1, 2, 3, 4, 5])"
      ]
     },
     "execution_count": 58,
     "metadata": {},
     "output_type": "execute_result"
    }
   ],
   "source": [
    "vector_1 = np.array(data_1)\n",
    "vector_1"
   ]
  },
  {
   "cell_type": "code",
   "execution_count": 60,
   "id": "78effc9d-e13f-46b3-bb0e-fd88854f02df",
   "metadata": {},
   "outputs": [],
   "source": [
    "matrix_1 = np.array(data_2)\n",
    "matrix_2 = np.array(data_3)"
   ]
  },
  {
   "cell_type": "code",
   "execution_count": 61,
   "id": "ee56ec5a-a793-43e9-bbe6-15ce72d30cb9",
   "metadata": {},
   "outputs": [
    {
     "data": {
      "text/plain": [
       "(array([[1, 2, 3],\n",
       "        [4, 5, 6]]),\n",
       " array([[[ 1,  2,  3],\n",
       "         [ 4,  5,  6]],\n",
       " \n",
       "        [[ 7,  8,  9],\n",
       "         [10, 11, 12]]]))"
      ]
     },
     "execution_count": 61,
     "metadata": {},
     "output_type": "execute_result"
    }
   ],
   "source": [
    "matrix_1, matrix_2"
   ]
  },
  {
   "cell_type": "code",
   "execution_count": 62,
   "id": "d6a18ca9-72d3-4f7c-abe4-15bf0f2ed008",
   "metadata": {},
   "outputs": [
    {
     "data": {
      "text/plain": [
       "array([0., 0., 0., 0., 0.])"
      ]
     },
     "execution_count": 62,
     "metadata": {},
     "output_type": "execute_result"
    }
   ],
   "source": [
    "np.zeros(5)"
   ]
  },
  {
   "cell_type": "code",
   "execution_count": 63,
   "id": "a92dca26-96af-4ec2-b642-8ad1571d53a4",
   "metadata": {},
   "outputs": [
    {
     "data": {
      "text/plain": [
       "array([[[1., 1.],\n",
       "        [1., 1.]],\n",
       "\n",
       "       [[1., 1.],\n",
       "        [1., 1.]]])"
      ]
     },
     "execution_count": 63,
     "metadata": {},
     "output_type": "execute_result"
    }
   ],
   "source": [
    "np.ones((2,2,2))"
   ]
  },
  {
   "cell_type": "code",
   "execution_count": 64,
   "id": "8538a622-c512-4107-bb86-85d5ece1c140",
   "metadata": {},
   "outputs": [
    {
     "data": {
      "text/plain": [
       "array([1.17041373e-311, 1.77863633e-322, 0.00000000e+000, 0.00000000e+000,\n",
       "       0.00000000e+000, 2.03891917e+160, 5.92935067e-038, 6.81855440e-091,\n",
       "       2.36003737e+180, 4.16142136e-315])"
      ]
     },
     "execution_count": 64,
     "metadata": {},
     "output_type": "execute_result"
    }
   ],
   "source": [
    "np.empty(10)"
   ]
  },
  {
   "cell_type": "code",
   "execution_count": 65,
   "id": "7167aacb-6c03-40d7-a2fd-2b0df36ec943",
   "metadata": {},
   "outputs": [
    {
     "data": {
      "text/plain": [
       "array([[2.12199579e-314, 1.16921968e-311],\n",
       "       [6.77858066e-321, 1.16921968e-311]])"
      ]
     },
     "execution_count": 65,
     "metadata": {},
     "output_type": "execute_result"
    }
   ],
   "source": [
    "np.empty((2,2))"
   ]
  },
  {
   "cell_type": "code",
   "execution_count": 66,
   "id": "433272ad-a04b-4cad-8382-2a81d6aa552d",
   "metadata": {},
   "outputs": [
    {
     "data": {
      "text/plain": [
       "array(5)"
      ]
     },
     "execution_count": 66,
     "metadata": {},
     "output_type": "execute_result"
    }
   ],
   "source": [
    "np.array(5)"
   ]
  },
  {
   "cell_type": "code",
   "execution_count": 67,
   "id": "41a967d1-bb5e-44e9-b914-d4390e373b65",
   "metadata": {},
   "outputs": [
    {
     "data": {
      "text/plain": [
       "array([3, 3, 3, 3, 3])"
      ]
     },
     "execution_count": 67,
     "metadata": {},
     "output_type": "execute_result"
    }
   ],
   "source": [
    "np.full(5,3)"
   ]
  },
  {
   "cell_type": "code",
   "execution_count": 68,
   "id": "c749dbd2-2fb0-4d59-a8f3-b85c46b23b3a",
   "metadata": {},
   "outputs": [
    {
     "data": {
      "text/plain": [
       "array([[10, 10],\n",
       "       [10, 10]])"
      ]
     },
     "execution_count": 68,
     "metadata": {},
     "output_type": "execute_result"
    }
   ],
   "source": [
    "np.full((2,2),10)"
   ]
  },
  {
   "cell_type": "code",
   "execution_count": 69,
   "id": "4ce9f217-fa5a-4d13-b8fb-c9a1c0b8aa17",
   "metadata": {},
   "outputs": [
    {
     "data": {
      "text/plain": [
       "numpy.ndarray"
      ]
     },
     "execution_count": 69,
     "metadata": {},
     "output_type": "execute_result"
    }
   ],
   "source": [
    "type(vector_1)"
   ]
  },
  {
   "cell_type": "code",
   "execution_count": 72,
   "id": "e1c545fa-27b2-4a57-a238-416757a65766",
   "metadata": {},
   "outputs": [
    {
     "data": {
      "text/plain": [
       "dtype('int32')"
      ]
     },
     "execution_count": 72,
     "metadata": {},
     "output_type": "execute_result"
    }
   ],
   "source": [
    "# dtype: 자료형 안에 들어있는 데이터의 타입\n",
    "vector_1.dtype"
   ]
  },
  {
   "cell_type": "code",
   "execution_count": 73,
   "id": "6009f774-aad4-4a15-85c4-d1fa7b90601d",
   "metadata": {},
   "outputs": [
    {
     "data": {
      "text/plain": [
       "1"
      ]
     },
     "execution_count": 73,
     "metadata": {},
     "output_type": "execute_result"
    }
   ],
   "source": [
    "# 자료형의 차수\n",
    "vector_1.ndim"
   ]
  },
  {
   "cell_type": "code",
   "execution_count": 74,
   "id": "e1e47d66-355e-43e6-adbd-e8545517b7de",
   "metadata": {},
   "outputs": [
    {
     "data": {
      "text/plain": [
       "(2, 3)"
      ]
     },
     "execution_count": 74,
     "metadata": {},
     "output_type": "execute_result"
    }
   ],
   "source": [
    "matrix_1.ndim, matrix_2.ndim"
   ]
  },
  {
   "cell_type": "code",
   "execution_count": 75,
   "id": "20a41574-5d05-4788-90d3-9c7aace05ad1",
   "metadata": {},
   "outputs": [
    {
     "data": {
      "text/plain": [
       "(5,)"
      ]
     },
     "execution_count": 75,
     "metadata": {},
     "output_type": "execute_result"
    }
   ],
   "source": [
    "vector_1.shape"
   ]
  },
  {
   "cell_type": "code",
   "execution_count": 77,
   "id": "d31f3fc9-485c-44f8-8635-e48f33870731",
   "metadata": {},
   "outputs": [
    {
     "data": {
      "text/plain": [
       "(2, 3)"
      ]
     },
     "execution_count": 77,
     "metadata": {},
     "output_type": "execute_result"
    }
   ],
   "source": [
    "# 행렬의 크기를 알려준다\n",
    "# 1차원이면 갯수\n",
    "matrix_1.shape"
   ]
  },
  {
   "cell_type": "code",
   "execution_count": 78,
   "id": "fbbfbc49-53a8-4a8b-ad31-42d0c5f64f19",
   "metadata": {},
   "outputs": [
    {
     "data": {
      "text/plain": [
       "(2, 2, 3)"
      ]
     },
     "execution_count": 78,
     "metadata": {},
     "output_type": "execute_result"
    }
   ],
   "source": [
    "matrix_2.shape"
   ]
  },
  {
   "cell_type": "code",
   "execution_count": 79,
   "id": "e6251ac3-6027-49ac-8c33-cd1be54a64fe",
   "metadata": {},
   "outputs": [
    {
     "data": {
      "text/plain": [
       "5"
      ]
     },
     "execution_count": 79,
     "metadata": {},
     "output_type": "execute_result"
    }
   ],
   "source": [
    "vector_1.size"
   ]
  },
  {
   "cell_type": "code",
   "execution_count": 80,
   "id": "56f83ae4-fb8e-45a6-a7fc-425cfa24715f",
   "metadata": {},
   "outputs": [
    {
     "data": {
      "text/plain": [
       "6"
      ]
     },
     "execution_count": 80,
     "metadata": {},
     "output_type": "execute_result"
    }
   ],
   "source": [
    "matrix_1.size"
   ]
  },
  {
   "cell_type": "markdown",
   "id": "6b77a031-b2c5-4e8c-ba0c-337cada69c4a",
   "metadata": {},
   "source": [
    "### dtype\n",
    "### 다차원 배열을 생성할 때 데이터 값을 지정할 수 있다"
   ]
  },
  {
   "cell_type": "code",
   "execution_count": 82,
   "id": "baaf0173-ea95-4f7b-a0a2-01bbbefc242a",
   "metadata": {},
   "outputs": [],
   "source": [
    "vec_dtype = np.array([1,2,3,4,5], dtype = np.int64)\n",
    "matrix_dtype = np.array(\n",
    "    [\n",
    "        [1,2,3],\n",
    "        [4,5,6]\n",
    "    ],\n",
    "    dtype = np.float64\n",
    ")"
   ]
  },
  {
   "cell_type": "code",
   "execution_count": 83,
   "id": "97575628-27bd-403a-a0b2-365f81f02692",
   "metadata": {},
   "outputs": [
    {
     "data": {
      "text/plain": [
       "(dtype('int64'), 1, (5,))"
      ]
     },
     "execution_count": 83,
     "metadata": {},
     "output_type": "execute_result"
    }
   ],
   "source": [
    "# 데이터 타입, 차수, 셰이프\n",
    "vec_dtype.dtype, vec_dtype.ndim, vec_dtype.shape"
   ]
  },
  {
   "cell_type": "code",
   "execution_count": 84,
   "id": "72a978ca-e208-4fb6-b91a-cccd8431557e",
   "metadata": {},
   "outputs": [
    {
     "data": {
      "text/plain": [
       "(dtype('float64'), 2, (2, 3))"
      ]
     },
     "execution_count": 84,
     "metadata": {},
     "output_type": "execute_result"
    }
   ],
   "source": [
    "matrix_dtype.dtype, matrix_dtype.ndim, matrix_dtype.shape"
   ]
  },
  {
   "cell_type": "markdown",
   "id": "b4737ec1-b755-4925-899d-8c339ad4a1db",
   "metadata": {},
   "source": [
    "### astype\n",
    "### 자료형을 변경"
   ]
  },
  {
   "cell_type": "code",
   "execution_count": 86,
   "id": "82fa54d8-5e0f-41ed-b106-80edbe4484e2",
   "metadata": {},
   "outputs": [
    {
     "data": {
      "text/plain": [
       "dtype('float64')"
      ]
     },
     "execution_count": 86,
     "metadata": {},
     "output_type": "execute_result"
    }
   ],
   "source": [
    "arr_float1 = np.array([1.5, 1.3, 1.2], dtype = np.float64)\n",
    "arr_float1.dtype"
   ]
  },
  {
   "cell_type": "code",
   "execution_count": 87,
   "id": "dde7f1c3-f742-4415-a459-2af49ce80086",
   "metadata": {},
   "outputs": [
    {
     "data": {
      "text/plain": [
       "(dtype('int64'), array([1, 1, 1], dtype=int64))"
      ]
     },
     "execution_count": 87,
     "metadata": {},
     "output_type": "execute_result"
    }
   ],
   "source": [
    "arr_int = arr_float1.astype(np.int64)\n",
    "arr_int.dtype, arr_int"
   ]
  },
  {
   "cell_type": "markdown",
   "id": "3c1a1010-2721-42f6-999f-4a1191bcdfd1",
   "metadata": {},
   "source": [
    "### 문자열 to 부동소수점"
   ]
  },
  {
   "cell_type": "code",
   "execution_count": 88,
   "id": "cac2c36f-5aab-450f-8c63-9ba664386879",
   "metadata": {},
   "outputs": [
    {
     "data": {
      "text/plain": [
       "(dtype('S4'), array([b'-2.5', b'12.2', b'1.9'], dtype='|S4'))"
      ]
     },
     "execution_count": 88,
     "metadata": {},
     "output_type": "execute_result"
    }
   ],
   "source": [
    "arr_str = np.array(['-2.5','12.2','1.9'], dtype=np.string_)\n",
    "arr_str.dtype, arr_str"
   ]
  },
  {
   "cell_type": "code",
   "execution_count": 89,
   "id": "f6ab4b29-5c29-4bee-8d6d-8149ae13dbd1",
   "metadata": {},
   "outputs": [
    {
     "data": {
      "text/plain": [
       "(dtype('float64'), array([-2.5, 12.2,  1.9]))"
      ]
     },
     "execution_count": 89,
     "metadata": {},
     "output_type": "execute_result"
    }
   ],
   "source": [
    "arr_float = arr_str.astype(np.float64)\n",
    "arr_float.dtype, arr_float"
   ]
  },
  {
   "cell_type": "code",
   "execution_count": null,
   "id": "506bbc3b-39f5-427a-b32b-315bb2893bd0",
   "metadata": {},
   "outputs": [],
   "source": [
    "vector_1 = np.array([1,2,3,4,5])\n",
    "matrix_2 = np.array(\n",
    "    [\n",
    "        [1,2,3,4,5],\n",
    "        [6,7,8,9,10],\n",
    "        [11,12,13,14,15]\n",
    "    ]\n",
    ")"
   ]
  },
  {
   "cell_type": "code",
   "execution_count": 91,
   "id": "b9ea2619-4ad1-4dc8-ab81-a27b9cf175e3",
   "metadata": {},
   "outputs": [
    {
     "data": {
      "text/plain": [
       "(3, 5)"
      ]
     },
     "execution_count": 91,
     "metadata": {},
     "output_type": "execute_result"
    }
   ],
   "source": [
    "matrix_2.shape"
   ]
  },
  {
   "cell_type": "markdown",
   "id": "39d86d2f-34af-4fbe-b1cf-96c42efa9f54",
   "metadata": {},
   "source": [
    "# 인덱싱"
   ]
  },
  {
   "cell_type": "markdown",
   "id": "8a56f4c8-5685-4965-bd36-825ea6722335",
   "metadata": {},
   "source": [
    "### vector_1에서 값 3을 출력\n",
    "### vector_1에서 마지막 값 출력\n",
    "### matrix_2에서 9를 출력\n",
    "### matrix_2에서 마지막 row의 마지막 값을 출력"
   ]
  },
  {
   "cell_type": "code",
   "execution_count": 96,
   "id": "9f7f3848-572e-459b-87e8-67f8395fa15a",
   "metadata": {},
   "outputs": [
    {
     "data": {
      "text/plain": [
       "(3, 5, 9, 15)"
      ]
     },
     "execution_count": 96,
     "metadata": {},
     "output_type": "execute_result"
    }
   ],
   "source": [
    "vector_1[2], vector_1[-1], matrix_2[1][3], matrix_2[-1][-1]"
   ]
  },
  {
   "cell_type": "code",
   "execution_count": 97,
   "id": "ddbedf97-2bf3-4f60-b516-3f3563e6e7fb",
   "metadata": {},
   "outputs": [
    {
     "name": "stdout",
     "output_type": "stream",
     "text": [
      "[1 2 3 4 5]\n",
      "[1 2 3 4]\n",
      "[2 3]\n",
      "[3 4 5]\n",
      "[3 4]\n"
     ]
    }
   ],
   "source": [
    "vector_1 = np.array([1,2,3,4,5], dtype = np.int32)\n",
    "print(vector_1[:])\n",
    "print(vector_1[:4])\n",
    "print(vector_1[1:3])\n",
    "print(vector_1[2:])\n",
    "print(vector_1[2:-1])"
   ]
  },
  {
   "cell_type": "code",
   "execution_count": 99,
   "id": "a1c15987-4eee-41de-b68c-953ab673cc40",
   "metadata": {},
   "outputs": [],
   "source": [
    "matrix_2 = np.array([\n",
    "    [\n",
    "        [0,1,2,3,4],[5,6,7,8,9],[10,11,12,13,14],[15,16,17,18,19],[20,21,22,23,24]\n",
    "    ]\n",
    "]\n",
    "    ,np.int32\n",
    ")"
   ]
  },
  {
   "cell_type": "code",
   "execution_count": 100,
   "id": "eac8e7de-da67-4a82-8cc3-2990b2120f5d",
   "metadata": {},
   "outputs": [
    {
     "data": {
      "text/plain": [
       "array([[[ 0,  1,  2,  3,  4],\n",
       "        [ 5,  6,  7,  8,  9],\n",
       "        [10, 11, 12, 13, 14],\n",
       "        [15, 16, 17, 18, 19],\n",
       "        [20, 21, 22, 23, 24]]])"
      ]
     },
     "execution_count": 100,
     "metadata": {},
     "output_type": "execute_result"
    }
   ],
   "source": [
    "matrix_2"
   ]
  },
  {
   "cell_type": "code",
   "execution_count": 101,
   "id": "a815e8c7-838b-46ab-a8a0-0a825d44db9a",
   "metadata": {},
   "outputs": [
    {
     "name": "stdout",
     "output_type": "stream",
     "text": [
      "[[[15 16 17 18 19]\n",
      "  [20 21 22 23 24]]]\n"
     ]
    },
    {
     "ename": "IndexError",
     "evalue": "index 4 is out of bounds for axis 0 with size 1",
     "output_type": "error",
     "traceback": [
      "\u001b[1;31m---------------------------------------------------------------------------\u001b[0m",
      "\u001b[1;31mIndexError\u001b[0m                                Traceback (most recent call last)",
      "Cell \u001b[1;32mIn[101], line 2\u001b[0m\n\u001b[0;32m      1\u001b[0m \u001b[38;5;28mprint\u001b[39m(matrix_2[:\u001b[38;5;241m2\u001b[39m, \u001b[38;5;241m3\u001b[39m:])\n\u001b[1;32m----> 2\u001b[0m \u001b[38;5;28mprint\u001b[39m(\u001b[43mmatrix_2\u001b[49m\u001b[43m[\u001b[49m\u001b[38;5;241;43m4\u001b[39;49m\u001b[43m]\u001b[49m, matrix_2[\u001b[38;5;241m4\u001b[39m,\u001b[38;5;241m3\u001b[39m], matrix_2[\u001b[38;5;241m4\u001b[39m,\u001b[38;5;241m4\u001b[39m])\n",
      "\u001b[1;31mIndexError\u001b[0m: index 4 is out of bounds for axis 0 with size 1"
     ]
    }
   ],
   "source": [
    "print(matrix_2[:2, 3:])\n",
    "print(matrix_2[4], matrix_2[4,3], matrix_2[4,4])"
   ]
  }
 ],
 "metadata": {
  "kernelspec": {
   "display_name": "Python 3 (ipykernel)",
   "language": "python",
   "name": "python3"
  },
  "language_info": {
   "codemirror_mode": {
    "name": "ipython",
    "version": 3
   },
   "file_extension": ".py",
   "mimetype": "text/x-python",
   "name": "python",
   "nbconvert_exporter": "python",
   "pygments_lexer": "ipython3",
   "version": "3.10.8"
  }
 },
 "nbformat": 4,
 "nbformat_minor": 5
}
