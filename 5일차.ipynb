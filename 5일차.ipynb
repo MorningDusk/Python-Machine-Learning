{
 "cells": [
  {
   "cell_type": "markdown",
   "id": "0d480ebd-8260-43f9-8b4f-cf8e9903c7d6",
   "metadata": {},
   "source": [
    "# 교집합 합집합 차집합"
   ]
  },
  {
   "cell_type": "markdown",
   "id": "a8103948-4e65-4f24-89b8-6de8d0e221b0",
   "metadata": {},
   "source": [
    "### set\n",
    "### add() : 원소를 추가\n",
    "### remove() / discard() : 원소 하나를 제거\n",
    "### update() : 새로운 리스트를 그대로 추가\n",
    "### clear() : 모든 변수를 지우기"
   ]
  },
  {
   "cell_type": "code",
   "execution_count": 1,
   "id": "7b0512b5-eb78-4064-89ca-4879f5a63905",
   "metadata": {},
   "outputs": [],
   "source": [
    "s1 = set([1,2,3,4,5])\n",
    "s2 = set([3,4,5,6,7])"
   ]
  },
  {
   "cell_type": "code",
   "execution_count": 2,
   "id": "d88c9deb-616d-4e10-8491-ad8dc069ba2d",
   "metadata": {},
   "outputs": [
    {
     "data": {
      "text/plain": [
       "{1, 2, 3, 4, 5, 6, 7}"
      ]
     },
     "execution_count": 2,
     "metadata": {},
     "output_type": "execute_result"
    }
   ],
   "source": [
    "s1.union(s2)"
   ]
  },
  {
   "cell_type": "code",
   "execution_count": 3,
   "id": "a37e3c55-ee5b-403e-aada-aefdd2f006b6",
   "metadata": {},
   "outputs": [
    {
     "data": {
      "text/plain": [
       "{1, 2, 3, 4, 5, 6, 7}"
      ]
     },
     "execution_count": 3,
     "metadata": {},
     "output_type": "execute_result"
    }
   ],
   "source": [
    "s1 | s2"
   ]
  },
  {
   "cell_type": "code",
   "execution_count": 4,
   "id": "e4262dea-d7df-4552-8add-4d7b12a914da",
   "metadata": {},
   "outputs": [
    {
     "data": {
      "text/plain": [
       "{3, 4, 5}"
      ]
     },
     "execution_count": 4,
     "metadata": {},
     "output_type": "execute_result"
    }
   ],
   "source": [
    "s1.intersection(s2)"
   ]
  },
  {
   "cell_type": "code",
   "execution_count": 5,
   "id": "a31b715d-ff77-4e7f-a438-f09406b62ff4",
   "metadata": {},
   "outputs": [
    {
     "data": {
      "text/plain": [
       "{3, 4, 5}"
      ]
     },
     "execution_count": 5,
     "metadata": {},
     "output_type": "execute_result"
    }
   ],
   "source": [
    "s1 & s2"
   ]
  },
  {
   "cell_type": "code",
   "execution_count": 6,
   "id": "1ef3c545-fb95-4749-ac91-55778896ad10",
   "metadata": {},
   "outputs": [
    {
     "data": {
      "text/plain": [
       "{1, 2}"
      ]
     },
     "execution_count": 6,
     "metadata": {},
     "output_type": "execute_result"
    }
   ],
   "source": [
    "s1 - s2"
   ]
  },
  {
   "cell_type": "markdown",
   "id": "1f06aa6e-caf6-4285-86f7-d9f1f5800301",
   "metadata": {},
   "source": [
    "### union() |\n",
    "### intersection &\n",
    "### difference -"
   ]
  },
  {
   "cell_type": "code",
   "execution_count": 7,
   "id": "502ab7ed-3ff7-4fd7-9e90-dfb1840e5644",
   "metadata": {},
   "outputs": [],
   "source": [
    "from random import sample"
   ]
  },
  {
   "cell_type": "code",
   "execution_count": 10,
   "id": "6ba6e7fa-edba-4b64-94f2-ab2718b3be83",
   "metadata": {},
   "outputs": [],
   "source": [
    "random_list1 = sample(range(100), 10)\n",
    "random_list2 = sample(range(100), 10)"
   ]
  },
  {
   "cell_type": "code",
   "execution_count": 11,
   "id": "eab5938b-7f73-4a7b-a5ba-45e553f3437e",
   "metadata": {},
   "outputs": [
    {
     "data": {
      "text/plain": [
       "([57, 10, 78, 68, 66, 27, 35, 61, 32, 62],\n",
       " [73, 9, 5, 55, 90, 68, 37, 89, 71, 87])"
      ]
     },
     "execution_count": 11,
     "metadata": {},
     "output_type": "execute_result"
    }
   ],
   "source": [
    "random_list1, random_list2"
   ]
  },
  {
   "cell_type": "code",
   "execution_count": 12,
   "id": "a5ea6484-f815-40b1-90a4-fea0745eecb7",
   "metadata": {},
   "outputs": [
    {
     "data": {
      "text/plain": [
       "[57, 10, 78, 68, 66, 27, 35, 61, 32, 62, 73, 9, 5, 55, 90, 68, 37, 89, 71, 87]"
      ]
     },
     "execution_count": 12,
     "metadata": {},
     "output_type": "execute_result"
    }
   ],
   "source": [
    "random_list1 + random_list2"
   ]
  },
  {
   "cell_type": "code",
   "execution_count": 13,
   "id": "25370632-42b5-4ef9-bb80-15ba922b4838",
   "metadata": {},
   "outputs": [],
   "source": [
    "# list <--> set\n",
    "set1 = set(random_list1)\n",
    "set2 = set(random_list2)"
   ]
  },
  {
   "cell_type": "code",
   "execution_count": 15,
   "id": "b50baa42-444e-4da3-bab3-c14a586e2cbe",
   "metadata": {},
   "outputs": [
    {
     "data": {
      "text/plain": [
       "[66, 68, 5, 71, 73, 10, 9, 78, 87, 89, 90, 27, 32, 35, 37, 55, 57, 61, 62]"
      ]
     },
     "execution_count": 15,
     "metadata": {},
     "output_type": "execute_result"
    }
   ],
   "source": [
    "list(set1 | set2)"
   ]
  },
  {
   "cell_type": "code",
   "execution_count": 16,
   "id": "777c394e-55f9-4b0c-9608-1093dd23ec36",
   "metadata": {},
   "outputs": [
    {
     "data": {
      "text/plain": [
       "[32, 66, 35, 10, 78, 57, 27, 61, 62]"
      ]
     },
     "execution_count": 16,
     "metadata": {},
     "output_type": "execute_result"
    }
   ],
   "source": [
    "list(set1-set2)"
   ]
  },
  {
   "cell_type": "code",
   "execution_count": 18,
   "id": "2c71922f-1255-40c8-befa-17e5000e7d00",
   "metadata": {},
   "outputs": [
    {
     "data": {
      "text/plain": [
       "[68]"
      ]
     },
     "execution_count": 18,
     "metadata": {},
     "output_type": "execute_result"
    }
   ],
   "source": [
    "list(set1 & set2)"
   ]
  },
  {
   "cell_type": "markdown",
   "id": "c7bc7919-b8b6-45bb-82c6-9ae001ed6ba9",
   "metadata": {},
   "source": [
    "# dictionary"
   ]
  },
  {
   "cell_type": "markdown",
   "id": "bdd91d1f-02ba-49c4-93c0-711d3a43b23c",
   "metadata": {},
   "source": [
    "### 딕셔너리 변수 = {키1 : 값1, 키2 : 값1, 키3 : 값2}"
   ]
  },
  {
   "cell_type": "code",
   "execution_count": 20,
   "id": "e30c8dc1-d1a2-4722-8124-0f0361c9219e",
   "metadata": {},
   "outputs": [
    {
     "data": {
      "text/plain": [
       "{20220101: '홍길동', 20220102: '이순신', 20220103: '유관순'}"
      ]
     },
     "execution_count": 20,
     "metadata": {},
     "output_type": "execute_result"
    }
   ],
   "source": [
    "student_info = {20220101 : \"홍길동\", 20220102 : \"이순신\", 20220103 : \"유관순\"}\n",
    "student_info"
   ]
  },
  {
   "cell_type": "code",
   "execution_count": 22,
   "id": "d5fbf26d-6106-4f3e-ad28-8d97ec6971aa",
   "metadata": {},
   "outputs": [],
   "source": [
    "student_info[20220102] = '무명장군'"
   ]
  },
  {
   "cell_type": "code",
   "execution_count": 23,
   "id": "e9489e0d-2869-4cee-9f9b-c12215182b27",
   "metadata": {},
   "outputs": [
    {
     "data": {
      "text/plain": [
       "'무명장군'"
      ]
     },
     "execution_count": 23,
     "metadata": {},
     "output_type": "execute_result"
    }
   ],
   "source": [
    "student_info[20220102]"
   ]
  },
  {
   "cell_type": "code",
   "execution_count": 24,
   "id": "22b56554-e8bc-4e6d-b77b-e838ab9623b6",
   "metadata": {},
   "outputs": [],
   "source": [
    "current_code = {}\n",
    "current_code['korea'] = 82"
   ]
  },
  {
   "cell_type": "code",
   "execution_count": 25,
   "id": "bd816cad-08e3-495c-9107-7ff05ebfe18e",
   "metadata": {},
   "outputs": [
    {
     "data": {
      "text/plain": [
       "{'korea': 82}"
      ]
     },
     "execution_count": 25,
     "metadata": {},
     "output_type": "execute_result"
    }
   ],
   "source": [
    "current_code"
   ]
  },
  {
   "cell_type": "markdown",
   "id": "d0601ffc-76f2-4d06-b485-f18e4cbceeda",
   "metadata": {},
   "source": [
    "### dictionary : 키값을 입력하면 해당 value가 나오지만 없는 키를 입력하고 값을 대입하면 \n",
    "### 해당 키:값으로 추가된다"
   ]
  },
  {
   "cell_type": "code",
   "execution_count": 27,
   "id": "d8532477-d0f0-437e-9dc5-12f1d126863b",
   "metadata": {},
   "outputs": [],
   "source": [
    "current_code['America'] = 1\n",
    "current_code['China'] = 86\n",
    "current_code['Japan'] = 81"
   ]
  },
  {
   "cell_type": "code",
   "execution_count": 28,
   "id": "e4aa60b2-dc86-4729-8139-96b2841692cc",
   "metadata": {},
   "outputs": [
    {
     "data": {
      "text/plain": [
       "{'korea': 82, 'America': 1, 'China': 86, 'Japan': 81}"
      ]
     },
     "execution_count": 28,
     "metadata": {},
     "output_type": "execute_result"
    }
   ],
   "source": [
    "current_code"
   ]
  },
  {
   "cell_type": "code",
   "execution_count": 29,
   "id": "a583e0f5-48e5-4343-9113-5cdbb88855b1",
   "metadata": {},
   "outputs": [
    {
     "name": "stdout",
     "output_type": "stream",
     "text": [
      "korea\n",
      "America\n",
      "China\n",
      "Japan\n"
     ]
    }
   ],
   "source": [
    "for i in current_code:\n",
    "    print(i)"
   ]
  },
  {
   "cell_type": "code",
   "execution_count": 30,
   "id": "a360d55b-729f-4eb5-8435-a387b167589d",
   "metadata": {},
   "outputs": [
    {
     "data": {
      "text/plain": [
       "dict_values([82, 1, 86, 81])"
      ]
     },
     "execution_count": 30,
     "metadata": {},
     "output_type": "execute_result"
    }
   ],
   "source": [
    "current_code.values() #value를 리스트형태로 출력"
   ]
  },
  {
   "cell_type": "code",
   "execution_count": 31,
   "id": "671b4bf5-05c2-4be0-95d7-3f80899d814c",
   "metadata": {},
   "outputs": [
    {
     "data": {
      "text/plain": [
       "dict_keys(['korea', 'America', 'China', 'Japan'])"
      ]
     },
     "execution_count": 31,
     "metadata": {},
     "output_type": "execute_result"
    }
   ],
   "source": [
    "current_code.keys() #key를 리스트형태로 출력"
   ]
  },
  {
   "cell_type": "code",
   "execution_count": 32,
   "id": "41a02150-224a-4e3b-8f9d-ce5efc4a9b8b",
   "metadata": {},
   "outputs": [
    {
     "data": {
      "text/plain": [
       "dict_items([('korea', 82), ('America', 1), ('China', 86), ('Japan', 81)])"
      ]
     },
     "execution_count": 32,
     "metadata": {},
     "output_type": "execute_result"
    }
   ],
   "source": [
    "current_code.items() #key, value를 튜플형태로 출력"
   ]
  },
  {
   "cell_type": "code",
   "execution_count": 33,
   "id": "cf2f1afc-fdd1-426d-8539-953f34863081",
   "metadata": {},
   "outputs": [
    {
     "name": "stdout",
     "output_type": "stream",
     "text": [
      "korea   82\n",
      "America   1\n",
      "China   86\n",
      "Japan   81\n"
     ]
    }
   ],
   "source": [
    "for i in current_code.items():\n",
    "    key,value = i\n",
    "for key, value in current_code.items():\n",
    "    print(key, ' ', value)"
   ]
  },
  {
   "cell_type": "code",
   "execution_count": 35,
   "id": "b27dd428-c32e-4df5-a590-c7628b652897",
   "metadata": {},
   "outputs": [
    {
     "data": {
      "text/plain": [
       "True"
      ]
     },
     "execution_count": 35,
     "metadata": {},
     "output_type": "execute_result"
    }
   ],
   "source": [
    "'korea' in current_code.keys()"
   ]
  },
  {
   "cell_type": "code",
   "execution_count": 36,
   "id": "b1258acf-7d4d-40cd-a03a-040e946e488d",
   "metadata": {},
   "outputs": [
    {
     "data": {
      "text/plain": [
       "True"
      ]
     },
     "execution_count": 36,
     "metadata": {},
     "output_type": "execute_result"
    }
   ],
   "source": [
    "82 in current_code.values()"
   ]
  },
  {
   "cell_type": "markdown",
   "id": "eafea6ef-e2dc-4f90-b7a3-be9786a5102b",
   "metadata": {},
   "source": [
    "# collection"
   ]
  },
  {
   "cell_type": "code",
   "execution_count": 37,
   "id": "b7a3352b-20ec-4e3e-a5b0-d351d2d5955f",
   "metadata": {},
   "outputs": [],
   "source": [
    "from collections import deque"
   ]
  },
  {
   "cell_type": "markdown",
   "id": "ac69a53e-ac81-46ec-8cf0-00a5ee205710",
   "metadata": {},
   "source": [
    "### deque 스택과 큐를 지원하는 모듈\n",
    "### 1. 리스트처럼 데이터를 저장"
   ]
  },
  {
   "cell_type": "code",
   "execution_count": 38,
   "id": "04e2b78d-23b6-4d8b-9584-a8e52c770e80",
   "metadata": {},
   "outputs": [
    {
     "data": {
      "text/plain": [
       "deque([0, 1, 2, 3, 4])"
      ]
     },
     "execution_count": 38,
     "metadata": {},
     "output_type": "execute_result"
    }
   ],
   "source": [
    "deque_list = deque()\n",
    "for i in range(5):\n",
    "    deque_list.append(i)\n",
    "deque_list"
   ]
  },
  {
   "cell_type": "code",
   "execution_count": 39,
   "id": "f87c7959-2898-4670-8750-31949b1b3f82",
   "metadata": {},
   "outputs": [
    {
     "data": {
      "text/plain": [
       "4"
      ]
     },
     "execution_count": 39,
     "metadata": {},
     "output_type": "execute_result"
    }
   ],
   "source": [
    "deque_list.pop()"
   ]
  },
  {
   "cell_type": "code",
   "execution_count": 40,
   "id": "7f985735-606e-49e3-ae74-33aca1e6f673",
   "metadata": {},
   "outputs": [
    {
     "data": {
      "text/plain": [
       "(3, 2)"
      ]
     },
     "execution_count": 40,
     "metadata": {},
     "output_type": "execute_result"
    }
   ],
   "source": [
    "deque_list.pop(), deque_list.pop()"
   ]
  },
  {
   "cell_type": "code",
   "execution_count": 41,
   "id": "609979da-3d19-479c-8cf7-459b093cfe48",
   "metadata": {},
   "outputs": [
    {
     "data": {
      "text/plain": [
       "deque([4, 3, 2, 1, 0])"
      ]
     },
     "execution_count": 41,
     "metadata": {},
     "output_type": "execute_result"
    }
   ],
   "source": [
    "deque_list = deque()\n",
    "for i in range(5):\n",
    "    deque_list.appendleft(i)\n",
    "deque_list"
   ]
  },
  {
   "cell_type": "code",
   "execution_count": 42,
   "id": "02d10b45-1d2d-4319-845d-d2f77d28b0ec",
   "metadata": {},
   "outputs": [],
   "source": [
    "deque_list.rotate(2)"
   ]
  },
  {
   "cell_type": "code",
   "execution_count": 43,
   "id": "9425a2c5-6a4a-480a-ae9b-ecf552110851",
   "metadata": {},
   "outputs": [
    {
     "data": {
      "text/plain": [
       "deque([1, 0, 4, 3, 2])"
      ]
     },
     "execution_count": 43,
     "metadata": {},
     "output_type": "execute_result"
    }
   ],
   "source": [
    "deque_list"
   ]
  },
  {
   "cell_type": "code",
   "execution_count": 51,
   "id": "428a91c0-7a22-4657-8c24-7c82deb25a21",
   "metadata": {
    "collapsed": true,
    "jupyter": {
     "outputs_hidden": true
    },
    "tags": []
   },
   "outputs": [
    {
     "data": {
      "text/plain": [
       "['I',\n",
       " ' ',\n",
       " 't',\n",
       " 'r',\n",
       " 'i',\n",
       " 'e',\n",
       " 'd',\n",
       " ' ',\n",
       " 'r',\n",
       " 'e',\n",
       " 'c',\n",
       " 'r',\n",
       " 'e',\n",
       " 'a',\n",
       " 't',\n",
       " 'i',\n",
       " 'n',\n",
       " 'g',\n",
       " ' ',\n",
       " 'M',\n",
       " 'i',\n",
       " 'k',\n",
       " 'a',\n",
       " ' ',\n",
       " 'P',\n",
       " 'i',\n",
       " 'k',\n",
       " 'a',\n",
       " 'z',\n",
       " 'o',\n",
       " 's',\n",
       " ' ',\n",
       " 'v',\n",
       " 'i',\n",
       " 'b',\n",
       " 'r',\n",
       " 'a',\n",
       " 'n',\n",
       " 't',\n",
       " ' ',\n",
       " 'i',\n",
       " 'l',\n",
       " 'l',\n",
       " 'u',\n",
       " 's',\n",
       " 't',\n",
       " 'r',\n",
       " 'a',\n",
       " 't',\n",
       " 'i',\n",
       " 'o',\n",
       " 'n',\n",
       " ' ',\n",
       " 'i',\n",
       " 'n',\n",
       " ' ',\n",
       " 'o',\n",
       " 'r',\n",
       " 'd',\n",
       " 'e',\n",
       " 'r',\n",
       " ' ',\n",
       " 't',\n",
       " 'o',\n",
       " ' ',\n",
       " 'l',\n",
       " 'e',\n",
       " 'a',\n",
       " 'r',\n",
       " 'n',\n",
       " ' ',\n",
       " 't',\n",
       " 'h',\n",
       " 'e',\n",
       " ' ',\n",
       " 'h',\n",
       " 'i',\n",
       " 'd',\n",
       " 'd',\n",
       " 'e',\n",
       " 'n',\n",
       " ' ',\n",
       " 's',\n",
       " 't',\n",
       " 'y',\n",
       " 'l',\n",
       " 'i',\n",
       " 'z',\n",
       " 'a',\n",
       " 't',\n",
       " 'i',\n",
       " 'o',\n",
       " 'n',\n",
       " ' ',\n",
       " 't',\n",
       " 'e',\n",
       " 'c',\n",
       " 'h',\n",
       " 'n',\n",
       " 'i',\n",
       " 'q',\n",
       " 'u',\n",
       " 'e',\n",
       " 's',\n",
       " ' ',\n",
       " 'f',\n",
       " 'o',\n",
       " 'r',\n",
       " ' ',\n",
       " 'g',\n",
       " 'i',\n",
       " 'v',\n",
       " 'i',\n",
       " 'n',\n",
       " 'g',\n",
       " ' ',\n",
       " 'y',\n",
       " 'o',\n",
       " 'u',\n",
       " 'r',\n",
       " ' ',\n",
       " 'i',\n",
       " 'l',\n",
       " 'l',\n",
       " 'u',\n",
       " 's',\n",
       " 't',\n",
       " 'r',\n",
       " 'a',\n",
       " 't',\n",
       " 'i',\n",
       " 'o',\n",
       " 'n',\n",
       " ' ',\n",
       " 'a',\n",
       " ' ',\n",
       " 'p',\n",
       " 'o',\n",
       " 'p',\n",
       " ' ',\n",
       " 'g',\n",
       " 'r',\n",
       " 'a',\n",
       " 'p',\n",
       " 'h',\n",
       " 'i',\n",
       " 'c',\n",
       " ' ',\n",
       " 'l',\n",
       " 'o',\n",
       " 'o',\n",
       " 'k',\n",
       " '.',\n",
       " ' ',\n",
       " 'M',\n",
       " 'y',\n",
       " ' ',\n",
       " 'm',\n",
       " 'a',\n",
       " 'i',\n",
       " 'n',\n",
       " ' ',\n",
       " 't',\n",
       " 'a',\n",
       " 'k',\n",
       " 'e',\n",
       " 'a',\n",
       " 'w',\n",
       " 'a',\n",
       " 'y',\n",
       " ' ',\n",
       " 'f',\n",
       " 'r',\n",
       " 'o',\n",
       " 'm',\n",
       " ' ',\n",
       " 't',\n",
       " 'h',\n",
       " 'i',\n",
       " 's',\n",
       " ' ',\n",
       " 's',\n",
       " 't',\n",
       " 'u',\n",
       " 'd',\n",
       " 'y',\n",
       " ' ',\n",
       " 'w',\n",
       " 'a',\n",
       " 's',\n",
       " ' ',\n",
       " 'h',\n",
       " 'a',\n",
       " 'l',\n",
       " 'f',\n",
       " 't',\n",
       " 'o',\n",
       " 'n',\n",
       " 'e',\n",
       " ',',\n",
       " ' ',\n",
       " 'a',\n",
       " 'n',\n",
       " 'd',\n",
       " ' ',\n",
       " 'i',\n",
       " 'n',\n",
       " ' ',\n",
       " 't',\n",
       " 'h',\n",
       " 'i',\n",
       " 's',\n",
       " ' ',\n",
       " 'v',\n",
       " 'i',\n",
       " 'd',\n",
       " 'e',\n",
       " 'o',\n",
       " ' ',\n",
       " 'I',\n",
       " ' ',\n",
       " 'e',\n",
       " 'x',\n",
       " 'p',\n",
       " 'l',\n",
       " 'o',\n",
       " 'r',\n",
       " 'e',\n",
       " 'd',\n",
       " ' ',\n",
       " 'u',\n",
       " 's',\n",
       " 'i',\n",
       " 'n',\n",
       " 'g',\n",
       " ' ',\n",
       " 'P',\n",
       " 'h',\n",
       " 'o',\n",
       " 't',\n",
       " 'o',\n",
       " 's',\n",
       " 'h',\n",
       " 'o',\n",
       " 'p',\n",
       " ',',\n",
       " ' ',\n",
       " 'C',\n",
       " 'l',\n",
       " 'i',\n",
       " 'p',\n",
       " ' ',\n",
       " 'S',\n",
       " 't',\n",
       " 'u',\n",
       " 'd',\n",
       " 'i',\n",
       " 'o',\n",
       " ' ',\n",
       " 'a',\n",
       " 'n',\n",
       " 'd',\n",
       " ' ',\n",
       " 'o',\n",
       " 't',\n",
       " 'h',\n",
       " 'e',\n",
       " 'r',\n",
       " ' ',\n",
       " 'w',\n",
       " 'a',\n",
       " 'y',\n",
       " 's',\n",
       " ' ',\n",
       " 'o',\n",
       " 'f',\n",
       " ' ',\n",
       " 'a',\n",
       " 'p',\n",
       " 'p',\n",
       " 'l',\n",
       " 'y',\n",
       " 'i',\n",
       " 'n',\n",
       " 'g',\n",
       " ' ',\n",
       " 'h',\n",
       " 'a',\n",
       " 'l',\n",
       " 'f',\n",
       " 't',\n",
       " 'o',\n",
       " 'n',\n",
       " 'e',\n",
       " 's',\n",
       " '.']"
      ]
     },
     "execution_count": 51,
     "metadata": {},
     "output_type": "execute_result"
    }
   ],
   "source": [
    "from collections import Counter\n",
    "text = list('I tried recreating Mika Pikazos vibrant illustration in order to learn the hidden stylization techniques for giving your illustration a pop graphic look. My main takeaway from this study was halftone, and in this video I explored using Photoshop, Clip Studio and other ways of applying halftones.')\n",
    "text"
   ]
  },
  {
   "cell_type": "code",
   "execution_count": 52,
   "id": "e4137a97-ddfc-422b-9d34-c30f70e1f013",
   "metadata": {
    "collapsed": true,
    "jupyter": {
     "outputs_hidden": true
    },
    "tags": []
   },
   "outputs": [
    {
     "data": {
      "text/plain": [
       "Counter({'I': 2,\n",
       "         ' ': 46,\n",
       "         't': 21,\n",
       "         'r': 15,\n",
       "         'i': 26,\n",
       "         'e': 16,\n",
       "         'd': 10,\n",
       "         'c': 3,\n",
       "         'a': 21,\n",
       "         'n': 18,\n",
       "         'g': 6,\n",
       "         'M': 2,\n",
       "         'k': 4,\n",
       "         'P': 2,\n",
       "         'z': 2,\n",
       "         'o': 22,\n",
       "         's': 13,\n",
       "         'v': 3,\n",
       "         'b': 1,\n",
       "         'l': 12,\n",
       "         'u': 7,\n",
       "         'h': 11,\n",
       "         'y': 7,\n",
       "         'q': 1,\n",
       "         'f': 5,\n",
       "         'p': 8,\n",
       "         '.': 2,\n",
       "         'm': 2,\n",
       "         'w': 3,\n",
       "         ',': 2,\n",
       "         'x': 1,\n",
       "         'C': 1,\n",
       "         'S': 1})"
      ]
     },
     "execution_count": 52,
     "metadata": {},
     "output_type": "execute_result"
    }
   ],
   "source": [
    "Counter(text)"
   ]
  },
  {
   "cell_type": "code",
   "execution_count": 55,
   "id": "bd4c5181-a823-4b41-963a-8e2d2c333235",
   "metadata": {},
   "outputs": [
    {
     "ename": "AttributeError",
     "evalue": "'list' object has no attribute 'split'",
     "output_type": "error",
     "traceback": [
      "\u001b[1;31m---------------------------------------------------------------------------\u001b[0m",
      "\u001b[1;31mAttributeError\u001b[0m                            Traceback (most recent call last)",
      "Cell \u001b[1;32mIn[55], line 1\u001b[0m\n\u001b[1;32m----> 1\u001b[0m \u001b[43mtext\u001b[49m\u001b[38;5;241;43m.\u001b[39;49m\u001b[43msplit\u001b[49m()\n",
      "\u001b[1;31mAttributeError\u001b[0m: 'list' object has no attribute 'split'"
     ]
    }
   ],
   "source": [
    "text.split()"
   ]
  },
  {
   "cell_type": "code",
   "execution_count": 56,
   "id": "8829dc0b-3e5a-490e-8b39-d48c69731d6c",
   "metadata": {},
   "outputs": [],
   "source": [
    "c = Counter({\n",
    "    'red' : 4,\n",
    "    'blue' : 2\n",
    "})"
   ]
  },
  {
   "cell_type": "code",
   "execution_count": 57,
   "id": "b7c64747-3e95-41c8-9f01-24efc237df44",
   "metadata": {},
   "outputs": [
    {
     "data": {
      "text/plain": [
       "Counter({'red': 4, 'blue': 2})"
      ]
     },
     "execution_count": 57,
     "metadata": {},
     "output_type": "execute_result"
    }
   ],
   "source": [
    "c"
   ]
  },
  {
   "cell_type": "code",
   "execution_count": 59,
   "id": "14b828be-1439-49eb-b6b4-833de79e6970",
   "metadata": {},
   "outputs": [],
   "source": [
    "temp = list(c.elements())"
   ]
  },
  {
   "cell_type": "code",
   "execution_count": 60,
   "id": "0ad8a4de-23f8-4914-8601-bbae560213de",
   "metadata": {},
   "outputs": [
    {
     "data": {
      "text/plain": [
       "Counter({'red': 4, 'blue': 2})"
      ]
     },
     "execution_count": 60,
     "metadata": {},
     "output_type": "execute_result"
    }
   ],
   "source": [
    "Counter(temp)"
   ]
  },
  {
   "cell_type": "code",
   "execution_count": 61,
   "id": "b680afe4-d14a-4ce2-adfe-5247249c4197",
   "metadata": {},
   "outputs": [
    {
     "data": {
      "text/plain": [
       "['cat', 'cat', 'cat', 'cat', 'cat', 'dog', 'dog', 'dog']"
      ]
     },
     "execution_count": 61,
     "metadata": {},
     "output_type": "execute_result"
    }
   ],
   "source": [
    "['cat', 'cat', 'cat', 'cat', 'cat', 'dog', 'dog', 'dog']"
   ]
  },
  {
   "cell_type": "code",
   "execution_count": 62,
   "id": "229cb27f-c1c0-472c-a6e2-1683f52b9c77",
   "metadata": {},
   "outputs": [
    {
     "data": {
      "text/plain": [
       "Counter({'cat': 5, 'dog': 3})"
      ]
     },
     "execution_count": 62,
     "metadata": {},
     "output_type": "execute_result"
    }
   ],
   "source": [
    "Counter({'cat' : 5, 'dog' : 3})"
   ]
  },
  {
   "cell_type": "code",
   "execution_count": 63,
   "id": "b3e770e9-e136-414f-96fa-aa3587175f3e",
   "metadata": {},
   "outputs": [
    {
     "data": {
      "text/plain": [
       "['cat', 'cat', 'cat', 'cat', 'cat', 'dog', 'dog', 'dog']"
      ]
     },
     "execution_count": 63,
     "metadata": {},
     "output_type": "execute_result"
    }
   ],
   "source": [
    "list(Counter({'cat' : 5, 'dog' : 3}).elements())"
   ]
  },
  {
   "cell_type": "code",
   "execution_count": 66,
   "id": "96e92b7b-52c5-4aa4-aaf7-1d0a1083be5e",
   "metadata": {},
   "outputs": [
    {
     "data": {
      "text/plain": [
       "Counter({'a': 5, 'b': 3, 'c': 3, 'd': 2})"
      ]
     },
     "execution_count": 66,
     "metadata": {},
     "output_type": "execute_result"
    }
   ],
   "source": [
    "c = Counter(a=4, b=2, c=0, d=-2)\n",
    "d = Counter(a=1, b=1, c=3, d=4)\n",
    "c + d"
   ]
  },
  {
   "cell_type": "code",
   "execution_count": 65,
   "id": "e34cb0b0-dc84-4ffc-9a12-757eafe637d0",
   "metadata": {},
   "outputs": [
    {
     "data": {
      "text/plain": [
       "['a', 'a', 'a', 'b']"
      ]
     },
     "execution_count": 65,
     "metadata": {},
     "output_type": "execute_result"
    }
   ],
   "source": [
    "list(c.elements())"
   ]
  },
  {
   "cell_type": "code",
   "execution_count": 67,
   "id": "a11634ef-ea4f-4930-8231-3d336e0f6bd9",
   "metadata": {},
   "outputs": [
    {
     "data": {
      "text/plain": [
       "Counter({'a': 1, 'b': 1})"
      ]
     },
     "execution_count": 67,
     "metadata": {},
     "output_type": "execute_result"
    }
   ],
   "source": [
    "c & d # 교집합"
   ]
  },
  {
   "cell_type": "code",
   "execution_count": 68,
   "id": "4428ebc3-92a9-4c38-9204-3a67821fe91f",
   "metadata": {},
   "outputs": [
    {
     "data": {
      "text/plain": [
       "(Counter({'a': 4, 'b': 2, 'c': 0, 'd': -2}),\n",
       " Counter({'a': 1, 'b': 1, 'c': 3, 'd': 4}))"
      ]
     },
     "execution_count": 68,
     "metadata": {},
     "output_type": "execute_result"
    }
   ],
   "source": [
    "c,d"
   ]
  },
  {
   "cell_type": "code",
   "execution_count": 69,
   "id": "16325849-b3f8-422c-835e-ef1c488e1d3b",
   "metadata": {},
   "outputs": [
    {
     "data": {
      "text/plain": [
       "Counter({'a': 4, 'b': 2, 'c': 3, 'd': 4})"
      ]
     },
     "execution_count": 69,
     "metadata": {},
     "output_type": "execute_result"
    }
   ],
   "source": [
    "c | d"
   ]
  },
  {
   "cell_type": "markdown",
   "id": "55c9fa4b-e60d-472c-b34f-d1039e3530a6",
   "metadata": {},
   "source": [
    "### 임의의 문장들을 받아서 text 변수에 넣어서 각 단어형태가 각각 몇 번 나오는지 횟수를 출력"
   ]
  },
  {
   "cell_type": "code",
   "execution_count": 70,
   "id": "637f317e-32b7-4da6-98bc-bef6af161894",
   "metadata": {},
   "outputs": [],
   "source": [
    "text = 'Dont know if you can understand English, but your process really helps when drawing the humanoid body shape, so I wanted to thank you for the lesson, it really helped'"
   ]
  },
  {
   "cell_type": "code",
   "execution_count": 73,
   "id": "4751985c-7b35-41e7-864a-545eb98d320b",
   "metadata": {},
   "outputs": [
    {
     "data": {
      "text/plain": [
       "Counter({'Dont': 1,\n",
       "         'know': 1,\n",
       "         'if': 1,\n",
       "         'you': 2,\n",
       "         'can': 1,\n",
       "         'understand': 1,\n",
       "         'English,': 1,\n",
       "         'but': 1,\n",
       "         'your': 1,\n",
       "         'process': 1,\n",
       "         'really': 2,\n",
       "         'helps': 1,\n",
       "         'when': 1,\n",
       "         'drawing': 1,\n",
       "         'the': 2,\n",
       "         'humanoid': 1,\n",
       "         'body': 1,\n",
       "         'shape,': 1,\n",
       "         'so': 1,\n",
       "         'I': 1,\n",
       "         'wanted': 1,\n",
       "         'to': 1,\n",
       "         'thank': 1,\n",
       "         'for': 1,\n",
       "         'lesson,': 1,\n",
       "         'it': 1,\n",
       "         'helped': 1})"
      ]
     },
     "execution_count": 73,
     "metadata": {},
     "output_type": "execute_result"
    }
   ],
   "source": [
    "Counter(text.split())"
   ]
  },
  {
   "cell_type": "markdown",
   "id": "628bc36c-c42f-4e32-8395-88bbe8bda8f4",
   "metadata": {},
   "source": [
    "# 파이썬 코딩 스타일"
   ]
  },
  {
   "cell_type": "code",
   "execution_count": 75,
   "id": "5047345c-4f4d-4b87-833b-16f6136c5fde",
   "metadata": {},
   "outputs": [
    {
     "data": {
      "text/plain": [
       "['red', 'blue', 'green', 'yellow']"
      ]
     },
     "execution_count": 75,
     "metadata": {},
     "output_type": "execute_result"
    }
   ],
   "source": [
    "colors = ['red', 'blue', 'green', 'yellow']\n",
    "colors"
   ]
  },
  {
   "cell_type": "code",
   "execution_count": 76,
   "id": "7f2ac176-961d-47aa-8c7d-89079607d713",
   "metadata": {},
   "outputs": [
    {
     "data": {
      "text/plain": [
       "'redbluegreenyellow'"
      ]
     },
     "execution_count": 76,
     "metadata": {},
     "output_type": "execute_result"
    }
   ],
   "source": [
    "result = ''\n",
    "for s in colors:\n",
    "    result += s\n",
    "result"
   ]
  },
  {
   "cell_type": "code",
   "execution_count": 77,
   "id": "2553d26e-5ffd-489f-a0d8-d05d96d622ea",
   "metadata": {},
   "outputs": [
    {
     "data": {
      "text/plain": [
       "'redbluegreenyellow'"
      ]
     },
     "execution_count": 77,
     "metadata": {},
     "output_type": "execute_result"
    }
   ],
   "source": [
    "''.join(colors)"
   ]
  },
  {
   "cell_type": "markdown",
   "id": "a6378311-b052-467b-a3a8-919643e3f0d5",
   "metadata": {},
   "source": [
    "### 문자열 분리 split()"
   ]
  },
  {
   "cell_type": "code",
   "execution_count": 80,
   "id": "616ea39b-bc13-4a33-8905-84249188d34e",
   "metadata": {},
   "outputs": [
    {
     "data": {
      "text/plain": [
       "['zero', 'one', 'two', 'three']"
      ]
     },
     "execution_count": 80,
     "metadata": {},
     "output_type": "execute_result"
    }
   ],
   "source": [
    "items = 'zero,one,two,three'.split(',')\n",
    "items"
   ]
  },
  {
   "cell_type": "markdown",
   "id": "b3732a92-0d26-4707-bb2f-e592c838a531",
   "metadata": {},
   "source": [
    "### 리스트 컴프리핸션 list comprehension"
   ]
  },
  {
   "cell_type": "code",
   "execution_count": 81,
   "id": "dfef7f5c-cb19-43ef-bc37-79c4d0b88bae",
   "metadata": {},
   "outputs": [
    {
     "data": {
      "text/plain": [
       "[0, 1, 2, 3, 4, 5, 6, 7, 8, 9]"
      ]
     },
     "execution_count": 81,
     "metadata": {},
     "output_type": "execute_result"
    }
   ],
   "source": [
    "result = []\n",
    "for i in range(10):\n",
    "    result.append(i)\n",
    "result"
   ]
  },
  {
   "cell_type": "code",
   "execution_count": 84,
   "id": "927770bf-7906-4699-a740-f1020c404914",
   "metadata": {},
   "outputs": [],
   "source": [
    "result = [i for i in range(10)]"
   ]
  },
  {
   "cell_type": "code",
   "execution_count": 85,
   "id": "ff478f64-7469-4521-bf3b-305058c1e736",
   "metadata": {},
   "outputs": [
    {
     "data": {
      "text/plain": [
       "[0, 1, 2, 3, 4, 5, 6, 7, 8, 9]"
      ]
     },
     "execution_count": 85,
     "metadata": {},
     "output_type": "execute_result"
    }
   ],
   "source": [
    "result"
   ]
  },
  {
   "cell_type": "code",
   "execution_count": 88,
   "id": "7b0f07c2-4a77-4cf6-a502-4f472c9a5084",
   "metadata": {},
   "outputs": [
    {
     "data": {
      "text/plain": [
       "[0, 2, 4, 6, 8]"
      ]
     },
     "execution_count": 88,
     "metadata": {},
     "output_type": "execute_result"
    }
   ],
   "source": [
    "result = []\n",
    "for i in range(10):\n",
    "    if i % 2 == 0:\n",
    "        result.append(i)\n",
    "result"
   ]
  },
  {
   "cell_type": "code",
   "execution_count": 89,
   "id": "c89a924c-98f2-4292-8ca7-3c89d9283f09",
   "metadata": {},
   "outputs": [
    {
     "data": {
      "text/plain": [
       "[0, 2, 4, 6, 8]"
      ]
     },
     "execution_count": 89,
     "metadata": {},
     "output_type": "execute_result"
    }
   ],
   "source": [
    "[i for i in range(10) if i % 2 == 0]"
   ]
  },
  {
   "cell_type": "code",
   "execution_count": 90,
   "id": "91723232-3c6c-451b-bfe2-571ed023df08",
   "metadata": {},
   "outputs": [
    {
     "data": {
      "text/plain": [
       "[1, 3, 5, 7, 9]"
      ]
     },
     "execution_count": 90,
     "metadata": {},
     "output_type": "execute_result"
    }
   ],
   "source": [
    "[i for i in range(10) if i % 2 != 0]"
   ]
  },
  {
   "cell_type": "code",
   "execution_count": 91,
   "id": "5e6864fb-a342-4746-8f7b-64e7a3b00c61",
   "metadata": {},
   "outputs": [
    {
     "data": {
      "text/plain": [
       "[0, -1, 2, -1, 4, -1, 6, -1, 8, -1]"
      ]
     },
     "execution_count": 91,
     "metadata": {},
     "output_type": "execute_result"
    }
   ],
   "source": [
    "result = []\n",
    "for i in range(10):\n",
    "    if i % 2 == 0:\n",
    "        result.append(i)\n",
    "    else:\n",
    "        result.append(-1)\n",
    "result"
   ]
  },
  {
   "cell_type": "code",
   "execution_count": 93,
   "id": "6f77d533-4311-40ab-88cd-b30c1893e4a7",
   "metadata": {},
   "outputs": [
    {
     "data": {
      "text/plain": [
       "[0, -1, 2, -1, 4, -1, 6, -1, 8, -1]"
      ]
     },
     "execution_count": 93,
     "metadata": {},
     "output_type": "execute_result"
    }
   ],
   "source": [
    "[i if i % 2 == 0 else -1 for i in range(10)]"
   ]
  },
  {
   "cell_type": "markdown",
   "id": "623855dc-5478-4ac4-b640-14d6f90973de",
   "metadata": {},
   "source": [
    "### 리스트 컴프리핸션 중첩 반복문"
   ]
  },
  {
   "cell_type": "code",
   "execution_count": 98,
   "id": "343c4f64-f085-4d03-846b-50248c3d86a7",
   "metadata": {},
   "outputs": [
    {
     "data": {
      "text/plain": [
       "['HW',\n",
       " 'Ho',\n",
       " 'Hr',\n",
       " 'Hl',\n",
       " 'Hd',\n",
       " 'eW',\n",
       " 'eo',\n",
       " 'er',\n",
       " 'el',\n",
       " 'ed',\n",
       " 'lW',\n",
       " 'lo',\n",
       " 'lr',\n",
       " 'll',\n",
       " 'ld',\n",
       " 'lW',\n",
       " 'lo',\n",
       " 'lr',\n",
       " 'll',\n",
       " 'ld',\n",
       " 'oW',\n",
       " 'oo',\n",
       " 'or',\n",
       " 'ol',\n",
       " 'od']"
      ]
     },
     "execution_count": 98,
     "metadata": {},
     "output_type": "execute_result"
    }
   ],
   "source": [
    "world1 = 'Hello'\n",
    "world2 = 'World'\n",
    "result = []\n",
    "for i in world1:\n",
    "    for j in world2:\n",
    "        result.append(i+j)\n",
    "result"
   ]
  },
  {
   "cell_type": "code",
   "execution_count": 99,
   "id": "55672fa6-73fc-4fe0-b9a8-6bedd0b88ea0",
   "metadata": {},
   "outputs": [
    {
     "data": {
      "text/plain": [
       "['HW',\n",
       " 'eW',\n",
       " 'lW',\n",
       " 'lW',\n",
       " 'oW',\n",
       " 'Ho',\n",
       " 'eo',\n",
       " 'lo',\n",
       " 'lo',\n",
       " 'oo',\n",
       " 'Hr',\n",
       " 'er',\n",
       " 'lr',\n",
       " 'lr',\n",
       " 'or',\n",
       " 'Hl',\n",
       " 'el',\n",
       " 'll',\n",
       " 'll',\n",
       " 'ol',\n",
       " 'Hd',\n",
       " 'ed',\n",
       " 'ld',\n",
       " 'ld',\n",
       " 'od']"
      ]
     },
     "execution_count": 99,
     "metadata": {},
     "output_type": "execute_result"
    }
   ],
   "source": [
    "[i+j for j in world2 for i in world1]"
   ]
  },
  {
   "cell_type": "markdown",
   "id": "6ed27f22-dc25-4cdf-96f2-7c0c6433adbe",
   "metadata": {},
   "source": [
    "# 리스트 컴프리핸션 2차원 리스트"
   ]
  },
  {
   "cell_type": "code",
   "execution_count": 101,
   "id": "cb6fc5c0-ad81-471b-a2fb-abcd8631482b",
   "metadata": {},
   "outputs": [
    {
     "data": {
      "text/plain": [
       "[[0, 2, 4, 6, 8], [1, 3, 5, 7, 9]]"
      ]
     },
     "execution_count": 101,
     "metadata": {},
     "output_type": "execute_result"
    }
   ],
   "source": [
    "# 0 ~ 9사이의 데이터 중에서 짝수와 홀수로 이루어진 이차원 리스트\n",
    "[\n",
    "    [0,2,4,6,8],\n",
    "    [1,3,5,7,9]\n",
    "]"
   ]
  },
  {
   "cell_type": "code",
   "execution_count": 104,
   "id": "3393437d-ca44-41ec-b064-5e670794f0cf",
   "metadata": {},
   "outputs": [
    {
     "data": {
      "text/plain": [
       "[[0, 2, 4, 6, 8], [1, 3, 5, 7, 9]]"
      ]
     },
     "execution_count": 104,
     "metadata": {},
     "output_type": "execute_result"
    }
   ],
   "source": [
    "result = [[],[]]\n",
    "for i in range(10):\n",
    "    if i % 2 == 0:\n",
    "        result[0].append(i)\n",
    "    else:\n",
    "        result[1].append(i)\n",
    "result"
   ]
  },
  {
   "cell_type": "code",
   "execution_count": 107,
   "id": "b8dc66da-2006-46c8-940d-2c55c4da7849",
   "metadata": {},
   "outputs": [
    {
     "data": {
      "text/plain": [
       "([0, 2, 4, 6, 8], [1, 3, 5, 7, 9])"
      ]
     },
     "execution_count": 107,
     "metadata": {},
     "output_type": "execute_result"
    }
   ],
   "source": [
    "[i for i in range(10) if i%2==0], [i for i in range(10) if i%2!=0]"
   ]
  },
  {
   "cell_type": "code",
   "execution_count": 108,
   "id": "6a8c6178-b370-45ec-8e75-2f879d310c2b",
   "metadata": {},
   "outputs": [
    {
     "data": {
      "text/plain": [
       "['i', 'love', 'you']"
      ]
     },
     "execution_count": 108,
     "metadata": {},
     "output_type": "execute_result"
    }
   ],
   "source": [
    "text = 'i love you'.split()\n",
    "text"
   ]
  },
  {
   "cell_type": "code",
   "execution_count": 110,
   "id": "dbc69788-aff3-4119-a981-0b849438cf97",
   "metadata": {},
   "outputs": [
    {
     "data": {
      "text/plain": [
       "[['I', 'i', 1], ['LOVE', 'love', 4], ['YOU', 'you', 3]]"
      ]
     },
     "execution_count": 110,
     "metadata": {},
     "output_type": "execute_result"
    }
   ],
   "source": [
    "[[i.upper(), i.lower(), len(i)] for i in text]"
   ]
  },
  {
   "cell_type": "code",
   "execution_count": 111,
   "id": "872ee66c-b75d-4a6d-b23e-25dd985d3a4e",
   "metadata": {},
   "outputs": [],
   "source": [
    "case1 = ['A', 'B', 'C']\n",
    "case2 = ['D', 'E', 'F']"
   ]
  },
  {
   "cell_type": "code",
   "execution_count": 114,
   "id": "83f45e83-b628-436b-9d3d-b8f4df1e0cb2",
   "metadata": {},
   "outputs": [
    {
     "data": {
      "text/plain": [
       "['AD', 'AE', 'AF', 'BD', 'BE', 'BF', 'CD', 'CE', 'CF']"
      ]
     },
     "execution_count": 114,
     "metadata": {},
     "output_type": "execute_result"
    }
   ],
   "source": [
    "result = []\n",
    "for i in case1:\n",
    "    for j in case2:\n",
    "        result.append(i+j)\n",
    "result"
   ]
  },
  {
   "cell_type": "code",
   "execution_count": 116,
   "id": "4a081dd9-e023-4fff-8078-f47c44613557",
   "metadata": {},
   "outputs": [
    {
     "data": {
      "text/plain": [
       "['AD', 'BD', 'CD', 'AE', 'BE', 'CE', 'AF', 'BF', 'CF']"
      ]
     },
     "execution_count": 116,
     "metadata": {},
     "output_type": "execute_result"
    }
   ],
   "source": [
    "result = [i+j for j in case2 for i in case1]\n",
    "result"
   ]
  },
  {
   "cell_type": "code",
   "execution_count": 118,
   "id": "a25a9ab0-2b9b-4198-bb83-97a1a62ffcc9",
   "metadata": {},
   "outputs": [
    {
     "data": {
      "text/plain": [
       "[['AD', 'AE', 'AF'], ['BD', 'BE', 'BF'], ['CD', 'CE', 'CF']]"
      ]
     },
     "execution_count": 118,
     "metadata": {},
     "output_type": "execute_result"
    }
   ],
   "source": [
    "result = [ [i+j for j in case2] for i in case1]\n",
    "result"
   ]
  },
  {
   "cell_type": "code",
   "execution_count": 4,
   "id": "7bf870d7-9ecb-453d-a007-a87bc79f3193",
   "metadata": {},
   "outputs": [],
   "source": [
    "import time\n",
    "scalar = 2\n",
    "iteration_max = 100\n",
    "vector = list(range(iteration_max))\n",
    "result = []"
   ]
  },
  {
   "cell_type": "code",
   "execution_count": 2,
   "id": "aef8e6ff-e1f5-43af-a132-fc4c3f9cb502",
   "metadata": {},
   "outputs": [
    {
     "data": {
      "text/plain": [
       "0.0009999275207519531"
      ]
     },
     "execution_count": 2,
     "metadata": {},
     "output_type": "execute_result"
    }
   ],
   "source": [
    "s = time.time()\n",
    "for _ in range(iteration_max):\n",
    "    for i in range(iteration_max):\n",
    "        result.append(scalar * i)\n",
    "e = time.time()\n",
    "e - s"
   ]
  },
  {
   "cell_type": "code",
   "execution_count": 5,
   "id": "0597c20a-98c0-43d4-8b5d-6d419c7e7f11",
   "metadata": {},
   "outputs": [
    {
     "data": {
      "text/plain": [
       "0.001009225845336914"
      ]
     },
     "execution_count": 5,
     "metadata": {},
     "output_type": "execute_result"
    }
   ],
   "source": [
    "s = time.time()\n",
    "for _ in range(iteration_max):\n",
    "    result = [scalar*i for i in range(iteration_max)]\n",
    "e = time.time()\n",
    "e - s"
   ]
  },
  {
   "cell_type": "code",
   "execution_count": 6,
   "id": "0553b71c-b345-4a6a-83a5-07a70d36a681",
   "metadata": {},
   "outputs": [],
   "source": [
    "from random import sample"
   ]
  },
  {
   "cell_type": "code",
   "execution_count": 9,
   "id": "9424adcc-8b17-4d2f-a994-cbd50e35f8c2",
   "metadata": {},
   "outputs": [],
   "source": [
    "temp = sample(range(100), 10)"
   ]
  },
  {
   "cell_type": "code",
   "execution_count": 13,
   "id": "70905b08-dd01-4ed1-ba4c-3c3aa6579eab",
   "metadata": {},
   "outputs": [
    {
     "name": "stdout",
     "output_type": "stream",
     "text": [
      "[93, 0, 17, 42, 73, 60, 4, 21, 70, 65]\n",
      "93\n",
      "17\n",
      "73\n",
      "4\n",
      "70\n"
     ]
    }
   ],
   "source": [
    "print(temp)\n",
    "count = 0\n",
    "for i in temp:\n",
    "    if count % 2 == 0:\n",
    "        print(i)\n",
    "    count += 1\n",
    "    "
   ]
  },
  {
   "cell_type": "code",
   "execution_count": 14,
   "id": "93484add-b6c1-443e-b55a-b9abf900c711",
   "metadata": {},
   "outputs": [
    {
     "data": {
      "text/plain": [
       "[(0, 93),\n",
       " (1, 0),\n",
       " (2, 17),\n",
       " (3, 42),\n",
       " (4, 73),\n",
       " (5, 60),\n",
       " (6, 4),\n",
       " (7, 21),\n",
       " (8, 70),\n",
       " (9, 65)]"
      ]
     },
     "execution_count": 14,
     "metadata": {},
     "output_type": "execute_result"
    }
   ],
   "source": [
    "list(enumerate(temp))"
   ]
  },
  {
   "cell_type": "code",
   "execution_count": 15,
   "id": "9ca11c5c-e84c-42e8-b9d0-ffd40c0a9935",
   "metadata": {},
   "outputs": [
    {
     "name": "stdout",
     "output_type": "stream",
     "text": [
      "93\n",
      "17\n",
      "73\n",
      "4\n",
      "70\n"
     ]
    }
   ],
   "source": [
    "for i, value in enumerate(temp):\n",
    "    if i % 2 == 0:\n",
    "        print(value)"
   ]
  },
  {
   "cell_type": "code",
   "execution_count": 17,
   "id": "3d5630c0-6ede-4125-8246-917b06ac3c3b",
   "metadata": {},
   "outputs": [
    {
     "data": {
      "text/plain": [
       "[0, 2, 4, 6, 8]"
      ]
     },
     "execution_count": 17,
     "metadata": {},
     "output_type": "execute_result"
    }
   ],
   "source": [
    "result = []\n",
    "for i in range(10):\n",
    "    if i % 2 == 0:\n",
    "        result.append(i)\n",
    "result"
   ]
  }
 ],
 "metadata": {
  "kernelspec": {
   "display_name": "Python 3 (ipykernel)",
   "language": "python",
   "name": "python3"
  },
  "language_info": {
   "codemirror_mode": {
    "name": "ipython",
    "version": 3
   },
   "file_extension": ".py",
   "mimetype": "text/x-python",
   "name": "python",
   "nbconvert_exporter": "python",
   "pygments_lexer": "ipython3",
   "version": "3.10.8"
  }
 },
 "nbformat": 4,
 "nbformat_minor": 5
}
