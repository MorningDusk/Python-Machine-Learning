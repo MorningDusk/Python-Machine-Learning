{
 "cells": [
  {
   "cell_type": "markdown",
   "id": "79e509c2-9237-47f1-a767-28a24f870396",
   "metadata": {},
   "source": [
    "# 예외(Exception) : 특정 상황에서만 에러처럼 프로그램을 멈춘다\n",
    "# 에러(Error) : 논리적으로 잘못되서 항상 발생하는 사건\n",
    "# 버그(Bug) : 동작에 이상이 없지만 논리적으로 잘못된 것"
   ]
  },
  {
   "cell_type": "code",
   "execution_count": 1,
   "id": "8b435a8a-c29e-4e5b-abbe-c665dc1ba107",
   "metadata": {},
   "outputs": [
    {
     "ename": "ZeroDivisionError",
     "evalue": "division by zero",
     "output_type": "error",
     "traceback": [
      "\u001b[1;31m---------------------------------------------------------------------------\u001b[0m",
      "\u001b[1;31mZeroDivisionError\u001b[0m                         Traceback (most recent call last)",
      "Cell \u001b[1;32mIn[1], line 1\u001b[0m\n\u001b[1;32m----> 1\u001b[0m \u001b[38;5;28mprint\u001b[39m(\u001b[38;5;241;43m10\u001b[39;49m\u001b[38;5;241;43m/\u001b[39;49m\u001b[38;5;241;43m0\u001b[39;49m)\n",
      "\u001b[1;31mZeroDivisionError\u001b[0m: division by zero"
     ]
    }
   ],
   "source": [
    "print(10/0)"
   ]
  },
  {
   "cell_type": "code",
   "execution_count": 2,
   "id": "0cad85fa-650a-4509-9dc6-ddf5ce271999",
   "metadata": {},
   "outputs": [
    {
     "ename": "IndexError",
     "evalue": "list index out of range",
     "output_type": "error",
     "traceback": [
      "\u001b[1;31m---------------------------------------------------------------------------\u001b[0m",
      "\u001b[1;31mIndexError\u001b[0m                                Traceback (most recent call last)",
      "Cell \u001b[1;32mIn[2], line 2\u001b[0m\n\u001b[0;32m      1\u001b[0m list_a \u001b[38;5;241m=\u001b[39m [\u001b[38;5;241m1\u001b[39m,\u001b[38;5;241m2\u001b[39m,\u001b[38;5;241m3\u001b[39m]\n\u001b[1;32m----> 2\u001b[0m \u001b[43mlist_a\u001b[49m\u001b[43m[\u001b[49m\u001b[38;5;241;43m3\u001b[39;49m\u001b[43m]\u001b[49m\n",
      "\u001b[1;31mIndexError\u001b[0m: list index out of range"
     ]
    }
   ],
   "source": [
    "list_a = [1,2,3]\n",
    "list_a[3]"
   ]
  },
  {
   "cell_type": "code",
   "execution_count": 4,
   "id": "2aca2ed3-2536-48f3-a82d-266166a09bd5",
   "metadata": {},
   "outputs": [
    {
     "name": "stdout",
     "output_type": "stream",
     "text": [
      "0으로 나눌 수 없습니다\n",
      "10.0\n",
      "5.0\n",
      "3.3333333333333335\n",
      "2.5\n",
      "2.0\n",
      "1.6666666666666667\n",
      "1.4285714285714286\n",
      "1.25\n",
      "1.1111111111111112\n"
     ]
    }
   ],
   "source": [
    "for i in range(10):\n",
    "    if i != 0:\n",
    "        print(10/i)  # 비지니스 로직\n",
    "    else:\n",
    "        print('0으로 나눌 수 없습니다')"
   ]
  },
  {
   "cell_type": "code",
   "execution_count": 5,
   "id": "a2d938b9-a7d1-40a2-aab8-54aeacc90279",
   "metadata": {},
   "outputs": [
    {
     "name": "stdout",
     "output_type": "stream",
     "text": [
      "예외발생\n",
      "10.0\n",
      "5.0\n",
      "3.3333333333333335\n",
      "2.5\n",
      "2.0\n",
      "1.6666666666666667\n",
      "1.4285714285714286\n",
      "1.25\n",
      "1.1111111111111112\n"
     ]
    }
   ],
   "source": [
    "for i in range(10):\n",
    "    try:\n",
    "        print(10/i)\n",
    "    except:\n",
    "        print(\"예외발생\")"
   ]
  },
  {
   "cell_type": "code",
   "execution_count": 7,
   "id": "4ec92da3-199b-425a-b471-4a8ae2f9c5b1",
   "metadata": {},
   "outputs": [
    {
     "name": "stdout",
     "output_type": "stream",
     "text": [
      "예외발생: division by zero\n",
      "10.0\n",
      "5.0\n",
      "3.3333333333333335\n",
      "2.5\n",
      "2.0\n",
      "1.6666666666666667\n",
      "1.4285714285714286\n",
      "1.25\n",
      "1.1111111111111112\n"
     ]
    }
   ],
   "source": [
    "for i in range(10):\n",
    "    try:\n",
    "        print(10/i)\n",
    "    except ZeroDivisionError as e:\n",
    "        print(f\"예외발생: {e}\")"
   ]
  },
  {
   "cell_type": "code",
   "execution_count": 8,
   "id": "1bcb520d-5c4f-4f74-8d59-ee8e31939669",
   "metadata": {},
   "outputs": [
    {
     "name": "stdout",
     "output_type": "stream",
     "text": [
      "예외 발생 전\n",
      "예외 발생\n",
      "try 구문 끝\n"
     ]
    }
   ],
   "source": [
    "try:\n",
    "    print(\"예외 발생 전\")\n",
    "    print(10/0)\n",
    "    print(\"예외 발생 후\")\n",
    "except:\n",
    "    print(\"예외 발생\")\n",
    "print(\"try 구문 끝\")"
   ]
  },
  {
   "cell_type": "code",
   "execution_count": 9,
   "id": "5bcb267d-82c8-411a-8ab1-0e0a35be9589",
   "metadata": {},
   "outputs": [
    {
     "name": "stdout",
     "output_type": "stream",
     "text": [
      "예외발생: division by zero\n",
      "10.0\n",
      "5.0\n",
      "3.3333333333333335\n",
      "2.5\n",
      "2.0\n",
      "1.6666666666666667\n",
      "1.4285714285714286\n",
      "1.25\n",
      "1.1111111111111112\n"
     ]
    }
   ],
   "source": [
    "for i in range(10):\n",
    "    try:\n",
    "        10/i\n",
    "    except ZeroDivisionError as e:\n",
    "        print(f\"예외발생: {e}\")\n",
    "    else:\n",
    "        print(10/i)"
   ]
  },
  {
   "cell_type": "code",
   "execution_count": 11,
   "id": "41d95175-1627-4a3a-9160-60d2a596e953",
   "metadata": {},
   "outputs": [
    {
     "name": "stdout",
     "output_type": "stream",
     "text": [
      "10\n",
      "5\n",
      "3\n",
      "2\n",
      "2\n",
      "1\n",
      "1\n",
      "1\n",
      "1\n",
      "try 구문의 마지막\n"
     ]
    }
   ],
   "source": [
    "try:\n",
    "    for i in range(1,10):\n",
    "        print(10 // i)\n",
    "except:\n",
    "    print('에러 발생')\n",
    "finally:\n",
    "    print('try 구문의 마지막')\n",
    "    "
   ]
  },
  {
   "cell_type": "code",
   "execution_count": 12,
   "id": "ca13df08-41ab-4482-b603-c669bdadaeaa",
   "metadata": {},
   "outputs": [
    {
     "name": "stdin",
     "output_type": "stream",
     "text": [
      "정수를 입력하세요 10\n",
      "정수를 입력하세요 20\n"
     ]
    },
    {
     "name": "stdout",
     "output_type": "stream",
     "text": [
      "10 + 20 = 1020\n"
     ]
    }
   ],
   "source": [
    "# 사용자로부터 두 개의 숫자를 입력받아서 덧셈 프로그램을 만들어보세요\n",
    "num1 = input('정수를 입력하세요')\n",
    "num2 = input('정수를 입력하세요')\n",
    "print(f\"{num1} + {num2} = {num1+num2}\")"
   ]
  },
  {
   "cell_type": "code",
   "execution_count": 15,
   "id": "aa19def2-1a70-45e3-9d5f-723a19fe8ee4",
   "metadata": {},
   "outputs": [
    {
     "name": "stdin",
     "output_type": "stream",
     "text": [
      "정수를 입력하세요 d\n",
      "정수를 입력하세요 d\n"
     ]
    },
    {
     "name": "stdout",
     "output_type": "stream",
     "text": [
      "입력값 중에 숫자가 아닌 값이 있습니다\n"
     ]
    },
    {
     "name": "stdin",
     "output_type": "stream",
     "text": [
      "정수를 입력하세요 10\n",
      "정수를 입력하세요 20\n"
     ]
    },
    {
     "name": "stdout",
     "output_type": "stream",
     "text": [
      "10 + 20 = 30\n"
     ]
    }
   ],
   "source": [
    "# 10 + 20 = 30이 되도록 수정\n",
    "num1 = input('정수를 입력하세요')\n",
    "num2 = input('정수를 입력하세요')\n",
    "try:\n",
    "    num1 = int(num1)\n",
    "    num2 = int(num2)\n",
    "except:\n",
    "    print(\"입력값 중에 숫자가 아닌 값이 있습니다\")\n",
    "    num1 = input('정수를 입력하세요')\n",
    "    num2 = input('정수를 입력하세요')\n",
    "print(f\"{num1} + {num2} = {int(num1)+int(num2)}\")"
   ]
  },
  {
   "cell_type": "code",
   "execution_count": 16,
   "id": "ac1ac243-c360-47cf-8e2c-417e2e4cfbbe",
   "metadata": {},
   "outputs": [],
   "source": [
    "def input_add():\n",
    "    num1 = input('정수를 입력하세요')\n",
    "    num2 = input('정수를 입력하세요')\n",
    "    print(f\"{num1} + {num2} = {int(num1)+int(num2)}\")"
   ]
  },
  {
   "cell_type": "code",
   "execution_count": 17,
   "id": "b3adfd2c-21a6-4126-9ffb-84fffc679440",
   "metadata": {},
   "outputs": [
    {
     "name": "stdin",
     "output_type": "stream",
     "text": [
      "정수를 입력하세요 10\n",
      "정수를 입력하세요 20\n"
     ]
    },
    {
     "name": "stdout",
     "output_type": "stream",
     "text": [
      "10 + 20 = 30\n"
     ]
    }
   ],
   "source": [
    "try:\n",
    "    input_add()\n",
    "except:\n",
    "    print(\"입력값 중에 숫자가 아닌 값이 있습니다\")\n",
    "    input_add()"
   ]
  },
  {
   "cell_type": "code",
   "execution_count": 22,
   "id": "75e59ed4-eb24-463f-8e61-fe028f995554",
   "metadata": {},
   "outputs": [
    {
     "name": "stdin",
     "output_type": "stream",
     "text": [
      "정수를 입력하세요 10\n",
      "정수를 입력하세요 0\n"
     ]
    },
    {
     "name": "stdout",
     "output_type": "stream",
     "text": [
      "예외 발생 - 0이 아닌 숫자로 나눠야 합니다\n"
     ]
    }
   ],
   "source": [
    "numbers = []\n",
    "try:\n",
    "    for _ in range(2):\n",
    "        numbers.append(int(input('정수를 입력하세요')))\n",
    "    result = numbers[0] / numbers[1]\n",
    "except ValueError:\n",
    "    print(\"예외 발생 - 올바른 숫자로 입력하세요\")\n",
    "except ZeroDivisionError:\n",
    "    print(\"예외 발생 - 0이 아닌 숫자로 나눠야 합니다\")\n",
    "except:\n",
    "    print(\"알 수 없는 에러\")\n",
    "else:\n",
    "    print(f\"{numbers[0]} / {numbers[1]} = {result}\")"
   ]
  },
  {
   "cell_type": "code",
   "execution_count": 23,
   "id": "05b79d34-71fa-4d20-84f9-c9d17eccc061",
   "metadata": {},
   "outputs": [
    {
     "name": "stdin",
     "output_type": "stream",
     "text": [
      "정수를 입력하세요 10\n",
      "정수를 입력하세요 20\n"
     ]
    },
    {
     "name": "stdout",
     "output_type": "stream",
     "text": [
      "알 수 없는 에러\n"
     ]
    }
   ],
   "source": [
    "numbers = []\n",
    "try:\n",
    "    for _ in range(2):\n",
    "        numbers.append(int(input('정수를 입력하세요')))\n",
    "    result = numbers[0] / numbers[1]\n",
    "    numbers[2]\n",
    "except (ValueError, ZeroDivisionError):\n",
    "    print(\"예외 발생 - 올바른 숫자로 입력하세요\")\n",
    "except:\n",
    "    print(\"알 수 없는 에러\")\n",
    "else:\n",
    "    print(f\"{numbers[0]} / {numbers[1]} = {result}\")"
   ]
  },
  {
   "cell_type": "code",
   "execution_count": 24,
   "id": "3b43f256-d886-4703-a27d-03b06f6d0fe2",
   "metadata": {},
   "outputs": [
    {
     "data": {
      "text/plain": [
       "[123, '백이십삼', 11, 25, 14, '한글', 55, 25.3, 12.5, 23.5]"
      ]
     },
     "execution_count": 24,
     "metadata": {},
     "output_type": "execute_result"
    }
   ],
   "source": [
    "temp_list = [123, '백이십삼', 11, 25, 14, '한글', 55, 25.3, 12.5, 23.5]\n",
    "temp_list"
   ]
  },
  {
   "cell_type": "code",
   "execution_count": 27,
   "id": "f9e82242-992a-40c9-9a43-311f8df99a8e",
   "metadata": {},
   "outputs": [],
   "source": [
    "new_list = []\n",
    "for data in temp_list:\n",
    "    try:\n",
    "        temp = int(data)\n",
    "        if data-temp != 0:\n",
    "            new_list.append(int(data))\n",
    "    except:\n",
    "        pass"
   ]
  },
  {
   "cell_type": "code",
   "execution_count": 28,
   "id": "f2d107d0-d592-49c1-baf9-2b0b9c42a884",
   "metadata": {},
   "outputs": [
    {
     "data": {
      "text/plain": [
       "[25, 12, 23]"
      ]
     },
     "execution_count": 28,
     "metadata": {},
     "output_type": "execute_result"
    }
   ],
   "source": [
    "new_list"
   ]
  },
  {
   "cell_type": "markdown",
   "id": "1f7182fa-b2c8-46ce-8442-654a1e810510",
   "metadata": {},
   "source": [
    "# 예외 발생 raise\n",
    "    정해진 예외가 아니라 중요한 상황을 예외처럼 만들어서 관리\n",
    "    raise 예외 타입(예외 정보)"
   ]
  },
  {
   "cell_type": "code",
   "execution_count": 29,
   "id": "ec0fc680-840e-42e5-8f2d-9993f46c4fd2",
   "metadata": {},
   "outputs": [
    {
     "ename": "ValueError",
     "evalue": "",
     "output_type": "error",
     "traceback": [
      "\u001b[1;31m---------------------------------------------------------------------------\u001b[0m",
      "\u001b[1;31mValueError\u001b[0m                                Traceback (most recent call last)",
      "Cell \u001b[1;32mIn[29], line 1\u001b[0m\n\u001b[1;32m----> 1\u001b[0m \u001b[38;5;28;01mraise\u001b[39;00m \u001b[38;5;167;01mValueError\u001b[39;00m()\n",
      "\u001b[1;31mValueError\u001b[0m: "
     ]
    }
   ],
   "source": [
    "raise ValueError()"
   ]
  },
  {
   "cell_type": "code",
   "execution_count": 30,
   "id": "8d6f2524-be13-41ee-b71f-6012cad6e559",
   "metadata": {},
   "outputs": [
    {
     "ename": "Exception",
     "evalue": "예외가 발생",
     "output_type": "error",
     "traceback": [
      "\u001b[1;31m---------------------------------------------------------------------------\u001b[0m",
      "\u001b[1;31mException\u001b[0m                                 Traceback (most recent call last)",
      "Cell \u001b[1;32mIn[30], line 1\u001b[0m\n\u001b[1;32m----> 1\u001b[0m \u001b[38;5;28;01mraise\u001b[39;00m \u001b[38;5;167;01mException\u001b[39;00m(\u001b[38;5;124m\"\u001b[39m\u001b[38;5;124m예외가 발생\u001b[39m\u001b[38;5;124m\"\u001b[39m)\n",
      "\u001b[1;31mException\u001b[0m: 예외가 발생"
     ]
    }
   ],
   "source": [
    "raise Exception(\"예외가 발생\")"
   ]
  },
  {
   "cell_type": "code",
   "execution_count": 31,
   "id": "f9f6c2c1-36b6-496e-ae95-0f1833a5b293",
   "metadata": {},
   "outputs": [],
   "source": [
    "class DangerValue(Exception):\n",
    "    def __init__(self, except_name):\n",
    "        super().__init__(except_name)"
   ]
  },
  {
   "cell_type": "code",
   "execution_count": 33,
   "id": "c36a6c43-4a77-430c-be3f-e64c82954066",
   "metadata": {},
   "outputs": [
    {
     "ename": "DangerValue",
     "evalue": "except",
     "output_type": "error",
     "traceback": [
      "\u001b[1;31m---------------------------------------------------------------------------\u001b[0m",
      "\u001b[1;31mDangerValue\u001b[0m                               Traceback (most recent call last)",
      "Cell \u001b[1;32mIn[33], line 1\u001b[0m\n\u001b[1;32m----> 1\u001b[0m \u001b[38;5;28;01mraise\u001b[39;00m DangerValue(\u001b[38;5;124m\"\u001b[39m\u001b[38;5;124mexcept\u001b[39m\u001b[38;5;124m\"\u001b[39m)\n",
      "\u001b[1;31mDangerValue\u001b[0m: except"
     ]
    }
   ],
   "source": [
    "raise DangerValue(\"except\")"
   ]
  },
  {
   "cell_type": "code",
   "execution_count": 36,
   "id": "42e97114-bea1-4423-b334-f6b2b2dff3de",
   "metadata": {},
   "outputs": [
    {
     "name": "stdin",
     "output_type": "stream",
     "text": [
      " 50\n"
     ]
    },
    {
     "name": "stdout",
     "output_type": "stream",
     "text": [
      "40도 넘어갔습니다. 주의하세요\n"
     ]
    }
   ],
   "source": [
    "try:\n",
    "    number = int(input())\n",
    "    if number > 40:\n",
    "        raise DangerValue(\"40도 넘어갔습니다. 주의하세요\")\n",
    "except ValueError:\n",
    "    print(\"올바른 정수를 입력하세요\")\n",
    "except DangerValue as e:\n",
    "    print(e)"
   ]
  },
  {
   "cell_type": "code",
   "execution_count": 39,
   "id": "49a54938-e61d-4b5a-9897-59e061d5726d",
   "metadata": {},
   "outputs": [
    {
     "name": "stdin",
     "output_type": "stream",
     "text": [
      "정수입력 '\n"
     ]
    },
    {
     "ename": "ValueError",
     "evalue": "숫자를 입력하세요",
     "output_type": "error",
     "traceback": [
      "\u001b[1;31m---------------------------------------------------------------------------\u001b[0m",
      "\u001b[1;31mValueError\u001b[0m                                Traceback (most recent call last)",
      "Cell \u001b[1;32mIn[39], line 4\u001b[0m\n\u001b[0;32m      2\u001b[0m \u001b[38;5;28;01mfor\u001b[39;00m digit \u001b[38;5;129;01min\u001b[39;00m number:\n\u001b[0;32m      3\u001b[0m     \u001b[38;5;28;01mif\u001b[39;00m digit \u001b[38;5;129;01mnot\u001b[39;00m \u001b[38;5;129;01min\u001b[39;00m \u001b[38;5;124m\"\u001b[39m\u001b[38;5;124m0123456789\u001b[39m\u001b[38;5;124m\"\u001b[39m:\n\u001b[1;32m----> 4\u001b[0m         \u001b[38;5;28;01mraise\u001b[39;00m \u001b[38;5;167;01mValueError\u001b[39;00m(\u001b[38;5;124m\"\u001b[39m\u001b[38;5;124m숫자를 입력하세요\u001b[39m\u001b[38;5;124m\"\u001b[39m)\n",
      "\u001b[1;31mValueError\u001b[0m: 숫자를 입력하세요"
     ]
    }
   ],
   "source": [
    "number = input('정수입력')\n",
    "for digit in number:\n",
    "    if digit not in \"0123456789\":\n",
    "        raise ValueError(\"숫자를 입력하세요\")\n",
    "    "
   ]
  },
  {
   "cell_type": "markdown",
   "id": "928bc483-f27c-4aad-a894-b5caac85ff0f",
   "metadata": {},
   "source": [
    "# assert 문\n",
    "    조건이 맞으면 아무것도 경고를 안하지만 조건이 안맞으면 AssertionError를 발생한다"
   ]
  },
  {
   "cell_type": "code",
   "execution_count": 41,
   "id": "17343cb7-26df-4217-a75a-1e4603a729d3",
   "metadata": {},
   "outputs": [
    {
     "ename": "AssertionError",
     "evalue": "",
     "output_type": "error",
     "traceback": [
      "\u001b[1;31m---------------------------------------------------------------------------\u001b[0m",
      "\u001b[1;31mAssertionError\u001b[0m                            Traceback (most recent call last)",
      "Cell \u001b[1;32mIn[41], line 2\u001b[0m\n\u001b[0;32m      1\u001b[0m number \u001b[38;5;241m=\u001b[39m \u001b[38;5;241m11\u001b[39m\n\u001b[1;32m----> 2\u001b[0m \u001b[38;5;28;01massert\u001b[39;00m number \u001b[38;5;241m==\u001b[39m \u001b[38;5;241m10\u001b[39m\n",
      "\u001b[1;31mAssertionError\u001b[0m: "
     ]
    }
   ],
   "source": [
    "number = 11\n",
    "assert number == 10"
   ]
  },
  {
   "cell_type": "code",
   "execution_count": 42,
   "id": "46d81fda-d9fc-4718-b7cb-4ab5d6fef258",
   "metadata": {},
   "outputs": [
    {
     "name": "stdin",
     "output_type": "stream",
     "text": [
      "정수를 입력하세요 7\n"
     ]
    },
    {
     "ename": "AssertionError",
     "evalue": "",
     "output_type": "error",
     "traceback": [
      "\u001b[1;31m---------------------------------------------------------------------------\u001b[0m",
      "\u001b[1;31mAssertionError\u001b[0m                            Traceback (most recent call last)",
      "Cell \u001b[1;32mIn[42], line 2\u001b[0m\n\u001b[0;32m      1\u001b[0m number \u001b[38;5;241m=\u001b[39m \u001b[38;5;28mint\u001b[39m(\u001b[38;5;28minput\u001b[39m(\u001b[38;5;124m'\u001b[39m\u001b[38;5;124m정수를 입력하세요\u001b[39m\u001b[38;5;124m'\u001b[39m))\n\u001b[1;32m----> 2\u001b[0m \u001b[38;5;28;01massert\u001b[39;00m number \u001b[38;5;241m%\u001b[39m \u001b[38;5;241m2\u001b[39m \u001b[38;5;241m==\u001b[39m \u001b[38;5;241m0\u001b[39m\n",
      "\u001b[1;31mAssertionError\u001b[0m: "
     ]
    }
   ],
   "source": [
    "number = int(input('정수를 입력하세요'))\n",
    "assert number % 2 == 0"
   ]
  },
  {
   "cell_type": "code",
   "execution_count": 44,
   "id": "462f69e9-bb99-45df-8607-7aa8292e8dbb",
   "metadata": {},
   "outputs": [
    {
     "name": "stdin",
     "output_type": "stream",
     "text": [
      "정수를 입력하세요 l\n"
     ]
    },
    {
     "ename": "ValueError",
     "evalue": "invalid literal for int() with base 10: 'l'",
     "output_type": "error",
     "traceback": [
      "\u001b[1;31m---------------------------------------------------------------------------\u001b[0m",
      "\u001b[1;31mValueError\u001b[0m                                Traceback (most recent call last)",
      "Cell \u001b[1;32mIn[44], line 3\u001b[0m\n\u001b[0;32m      1\u001b[0m \u001b[38;5;66;03m# isinstance: 값이 어느 인스턴스인지 구분\u001b[39;00m\n\u001b[0;32m      2\u001b[0m \u001b[38;5;66;03m# isinstance(검사할 값, 비교할 인스턴스 타입)\u001b[39;00m\n\u001b[1;32m----> 3\u001b[0m number \u001b[38;5;241m=\u001b[39m \u001b[38;5;28;43mint\u001b[39;49m\u001b[43m(\u001b[49m\u001b[38;5;28;43minput\u001b[39;49m\u001b[43m(\u001b[49m\u001b[38;5;124;43m'\u001b[39;49m\u001b[38;5;124;43m정수를 입력하세요\u001b[39;49m\u001b[38;5;124;43m'\u001b[39;49m\u001b[43m)\u001b[49m\u001b[43m)\u001b[49m\n\u001b[0;32m      4\u001b[0m \u001b[38;5;28;01massert\u001b[39;00m \u001b[38;5;28misinstance\u001b[39m(number, \u001b[38;5;28mint\u001b[39m)\n",
      "\u001b[1;31mValueError\u001b[0m: invalid literal for int() with base 10: 'l'"
     ]
    }
   ],
   "source": [
    "# isinstance: 값이 어느 인스턴스인지 구분\n",
    "# isinstance(검사할 값, 비교할 인스턴스 타입)\n",
    "number = int(input('정수를 입력하세요'))\n",
    "assert isinstance(number, int)"
   ]
  },
  {
   "cell_type": "code",
   "execution_count": 45,
   "id": "4d156bdb-a00a-41cd-a5da-26d2a2a0895f",
   "metadata": {},
   "outputs": [],
   "source": [
    "import random as rd"
   ]
  },
  {
   "cell_type": "code",
   "execution_count": 49,
   "id": "1d0620e6-476b-47fa-a916-552c7b7c5372",
   "metadata": {},
   "outputs": [
    {
     "name": "stdin",
     "output_type": "stream",
     "text": [
      "1~100사이의 정수 50\n"
     ]
    },
    {
     "name": "stdout",
     "output_type": "stream",
     "text": [
      "작다\n"
     ]
    },
    {
     "name": "stdin",
     "output_type": "stream",
     "text": [
      "1~100사이의 정수 75\n"
     ]
    },
    {
     "name": "stdout",
     "output_type": "stream",
     "text": [
      "작다\n"
     ]
    },
    {
     "name": "stdin",
     "output_type": "stream",
     "text": [
      "1~100사이의 정수 80\n"
     ]
    },
    {
     "name": "stdout",
     "output_type": "stream",
     "text": [
      "크다\n"
     ]
    },
    {
     "name": "stdin",
     "output_type": "stream",
     "text": [
      "1~100사이의 정수 90\n"
     ]
    },
    {
     "name": "stdout",
     "output_type": "stream",
     "text": [
      "크다\n"
     ]
    },
    {
     "name": "stdin",
     "output_type": "stream",
     "text": [
      "1~100사이의 정수 100\n"
     ]
    },
    {
     "name": "stdout",
     "output_type": "stream",
     "text": [
      "크다\n"
     ]
    },
    {
     "name": "stdin",
     "output_type": "stream",
     "text": [
      "1~100사이의 정수 76\n"
     ]
    },
    {
     "name": "stdout",
     "output_type": "stream",
     "text": [
      "작다\n"
     ]
    },
    {
     "name": "stdin",
     "output_type": "stream",
     "text": [
      "1~100사이의 정수 77\n"
     ]
    },
    {
     "name": "stdout",
     "output_type": "stream",
     "text": [
      "작다\n"
     ]
    },
    {
     "name": "stdin",
     "output_type": "stream",
     "text": [
      "1~100사이의 정수 \n"
     ]
    },
    {
     "name": "stdout",
     "output_type": "stream",
     "text": [
      "정수를 입력하세요\n"
     ]
    },
    {
     "name": "stdin",
     "output_type": "stream",
     "text": [
      "1~100사이의 정수 78\n"
     ]
    },
    {
     "name": "stdout",
     "output_type": "stream",
     "text": [
      "작다\n"
     ]
    },
    {
     "name": "stdin",
     "output_type": "stream",
     "text": [
      "1~100사이의 정수 79\n"
     ]
    },
    {
     "name": "stdout",
     "output_type": "stream",
     "text": [
      "정답\n",
      "게임 끝\n"
     ]
    }
   ],
   "source": [
    "com_number = rd.randint(1,101)\n",
    "for _ in range(10):\n",
    "    try:\n",
    "        human_number = int(input(\"1~100사이의 정수\"))\n",
    "        # if not (1 <= human_number <= 100):\n",
    "            # raise ValueError(\"1과 100 사이의 숫자를 입력하세요\")\n",
    "        assert 1 <= human_number <= 100\n",
    "    except ValueError:\n",
    "        print(\"정수를 입력하세요\")\n",
    "    else:\n",
    "        if human_number > com_number:\n",
    "            print(\"크다\")\n",
    "        elif human_number < com_number:\n",
    "            print(\"작다\")\n",
    "        else:\n",
    "            print(\"정답\")\n",
    "            break\n",
    "print(\"게임 끝\")"
   ]
  }
 ],
 "metadata": {
  "kernelspec": {
   "display_name": "Python 3 (ipykernel)",
   "language": "python",
   "name": "python3"
  },
  "language_info": {
   "codemirror_mode": {
    "name": "ipython",
    "version": 3
   },
   "file_extension": ".py",
   "mimetype": "text/x-python",
   "name": "python",
   "nbconvert_exporter": "python",
   "pygments_lexer": "ipython3",
   "version": "3.10.8"
  }
 },
 "nbformat": 4,
 "nbformat_minor": 5
}
