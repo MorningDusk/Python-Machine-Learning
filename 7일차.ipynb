{
 "cells": [
  {
   "cell_type": "markdown",
   "id": "91c3fb80-af1f-41ba-af66-12cae446f382",
   "metadata": {},
   "source": [
    "### 객체지향(Object Oriented Programming, OOP)\n",
    "### 객체, 클래스\n",
    "### 객체 : Object, 클래스를 인스턴스화한 것\n",
    "### 객체 외 인스턴스 같은 의미로 해석\n",
    "\n",
    "### 객체(인스턴스) --> 클래스로 만드는 변수\n",
    "### list_a = [1,2,3,4,5]"
   ]
  },
  {
   "cell_type": "code",
   "execution_count": 3,
   "id": "2d310f74-3e23-4ca6-a090-21b608516cda",
   "metadata": {},
   "outputs": [],
   "source": [
    "# 클래스 : 함수와 변수 (상태, method)\n",
    "# function vs method -> 기능과 생성방식은 동일\n",
    "# 단독으로 사용(비 클래스) vs 클래스에서 정의된 함수\n",
    "# 만드는 방법\n",
    "class MyClass(object):\n",
    "    pass\n",
    "\n",
    "def myFunction():\n",
    "    pass"
   ]
  },
  {
   "cell_type": "code",
   "execution_count": 5,
   "id": "7b6acef4-f5d4-4d75-ac70-bf55f726ae84",
   "metadata": {},
   "outputs": [],
   "source": [
    "# 특정사건(이벤트)이 발생했을 때 호출되는 함수를 callback함수\n",
    "# 클래스는 멤버를 갖는데\n",
    "# 멤버는 메소드와 변수\n",
    "class SoccerPlayer(object):\n",
    "    def __init__(self, name, position, back_number):  # 생성자 객체생성시 자동으로 호출 -> 객체생성\n",
    "        self.name = name\n",
    "        self.position = position\n",
    "        self.back_number = back_number\n",
    "    def change_back_number(self, new_number):\n",
    "        self.back_number = new_number\n",
    "    def __str__(self):  # 객체자체를 출력할때 호출된다\n",
    "        print('___str__  호출')\n",
    "        return ''"
   ]
  },
  {
   "cell_type": "code",
   "execution_count": 7,
   "id": "d68dcc29-fa69-4ca0-9f80-fb98a32a5f81",
   "metadata": {},
   "outputs": [],
   "source": [
    "sp = SoccerPlayer('손흥민', '윙어', '7')"
   ]
  },
  {
   "cell_type": "code",
   "execution_count": 9,
   "id": "9031af9a-2957-42ca-8b7e-a81ce90c5141",
   "metadata": {},
   "outputs": [
    {
     "data": {
      "text/plain": [
       "'황희찬'"
      ]
     },
     "execution_count": 9,
     "metadata": {},
     "output_type": "execute_result"
    }
   ],
   "source": [
    "sp.name = '황희찬'\n",
    "sp.name"
   ]
  },
  {
   "cell_type": "code",
   "execution_count": 10,
   "id": "b2f7ae0e-a52e-4640-8a1e-52ca275c8969",
   "metadata": {},
   "outputs": [],
   "source": [
    "sp = SoccerPlayer('abc', '공격수', '1')"
   ]
  },
  {
   "cell_type": "code",
   "execution_count": 11,
   "id": "cc2a233f-f349-402d-90c8-47c8af46484b",
   "metadata": {},
   "outputs": [
    {
     "data": {
      "text/plain": [
       "'abc'"
      ]
     },
     "execution_count": 11,
     "metadata": {},
     "output_type": "execute_result"
    }
   ],
   "source": [
    "sp.name"
   ]
  },
  {
   "cell_type": "code",
   "execution_count": 13,
   "id": "759d3472-9037-4882-acf8-3cbc8ca5c35f",
   "metadata": {},
   "outputs": [
    {
     "name": "stdout",
     "output_type": "stream",
     "text": [
      "<__main__.SoccerPlayer object at 0x0000021890A2DB70>\n"
     ]
    }
   ],
   "source": [
    "print(sp)"
   ]
  },
  {
   "cell_type": "markdown",
   "id": "2049e680-cd4d-49c3-bb2d-2b46f18b6e19",
   "metadata": {},
   "source": [
    "### 클래스 설계\n",
    "### 생성자에 대한 이해 (__init__)\n",
    "### 내장메소드에 대한 이해 (__str__)"
   ]
  },
  {
   "cell_type": "code",
   "execution_count": 49,
   "id": "e269623b-8365-49da-8e56-3a0ed816d42e",
   "metadata": {},
   "outputs": [],
   "source": [
    "class Person():\n",
    "    def __init__(self, name='', age='', address=''):\n",
    "        self.name = name\n",
    "        self.age = age\n",
    "        self.address = address\n",
    "    def getAge(self):\n",
    "        year = datetime.today().year - int(self.age[:4])\n",
    "        month = int(self.age[-2:])\n",
    "        if datetime.today().month > month:\n",
    "            return year\n",
    "        else:\n",
    "            return year - 1\n",
    "    def __str__(self):\n",
    "        return f'name[{self.name}] age[{self.age}] address[{self.address}]'"
   ]
  },
  {
   "cell_type": "code",
   "execution_count": 28,
   "id": "df162c3e-9d4d-4a84-8ae6-c4503cfeb86b",
   "metadata": {},
   "outputs": [],
   "source": [
    "# 객체 생성\n",
    "p1 = Person()"
   ]
  },
  {
   "cell_type": "code",
   "execution_count": 17,
   "id": "31568812-cb2e-4f60-921a-ac864f929d4d",
   "metadata": {},
   "outputs": [],
   "source": [
    "p2 = Person()"
   ]
  },
  {
   "cell_type": "code",
   "execution_count": 23,
   "id": "eadd1244-65de-4007-8cde-7b25ae65b779",
   "metadata": {},
   "outputs": [
    {
     "data": {
      "text/plain": [
       "'손흥민'"
      ]
     },
     "execution_count": 23,
     "metadata": {},
     "output_type": "execute_result"
    }
   ],
   "source": [
    "p1.name = '손흥민'\n",
    "p1.name"
   ]
  },
  {
   "cell_type": "code",
   "execution_count": 29,
   "id": "7592cb1d-11b0-4c78-ac17-5f20357a7a7a",
   "metadata": {},
   "outputs": [
    {
     "data": {
      "text/plain": [
       "22"
      ]
     },
     "execution_count": 29,
     "metadata": {},
     "output_type": "execute_result"
    }
   ],
   "source": [
    "p1.calcAge(2000)"
   ]
  },
  {
   "cell_type": "code",
   "execution_count": 51,
   "id": "37bd862a-d0ea-42f0-a9bf-99f736bb4806",
   "metadata": {},
   "outputs": [
    {
     "data": {
      "text/plain": [
       "22"
      ]
     },
     "execution_count": 51,
     "metadata": {},
     "output_type": "execute_result"
    }
   ],
   "source": [
    "p = Person('손흥민','2000-10','서울')\n",
    "p.getAge()"
   ]
  },
  {
   "cell_type": "markdown",
   "id": "2ad6077b-ff61-40a7-9286-119f7eaa7ebc",
   "metadata": {},
   "source": [
    "사람나이 계산을 올해 - 태어난 해, 생일이 안 지났으면 -1 지났으면"
   ]
  },
  {
   "cell_type": "code",
   "execution_count": 45,
   "id": "aca026b3-e826-4546-b84b-e7a4fca31d18",
   "metadata": {},
   "outputs": [
    {
     "data": {
      "text/plain": [
       "datetime.datetime(2023, 1, 3, 20, 20, 53, 630179)"
      ]
     },
     "execution_count": 45,
     "metadata": {},
     "output_type": "execute_result"
    }
   ],
   "source": [
    "from datetime import datetime\n",
    "datetime.today()"
   ]
  },
  {
   "cell_type": "code",
   "execution_count": 46,
   "id": "138adcd0-6c92-4e71-872f-dc9f0b7783b5",
   "metadata": {},
   "outputs": [
    {
     "data": {
      "text/plain": [
       "2023"
      ]
     },
     "execution_count": 46,
     "metadata": {},
     "output_type": "execute_result"
    }
   ],
   "source": [
    "datetime.today().year"
   ]
  },
  {
   "cell_type": "code",
   "execution_count": 52,
   "id": "d6fc96de-f9b1-45cc-84a9-23f9ffd6c0cc",
   "metadata": {},
   "outputs": [],
   "source": [
    "names = ['홍길동', '철이', '미애']\n",
    "position = ['MF', 'DF', 'GK']\n",
    "numbers = [10, 5, 4]"
   ]
  },
  {
   "cell_type": "code",
   "execution_count": 54,
   "id": "4370b939-31c0-4d82-b859-f35ec16e2c8f",
   "metadata": {},
   "outputs": [],
   "source": [
    "players = list(zip(names, position, numbers))"
   ]
  },
  {
   "cell_type": "code",
   "execution_count": 58,
   "id": "9045b26d-6676-4bca-be13-d43e4ad23abd",
   "metadata": {},
   "outputs": [],
   "source": [
    "class Rectangle:\n",
    "    def __init__(self, width, height):\n",
    "        self.width = width\n",
    "        self.height = height\n",
    "    def getArea(self):\n",
    "        return self.width * self.height\n",
    "    def getSize(self):\n",
    "        return 2 * self.width + 2 * self.height\n",
    "    def __str__(self):\n",
    "        return f\"width : {self.width}, height : {self.height}\""
   ]
  },
  {
   "cell_type": "code",
   "execution_count": 60,
   "id": "7601673d-6196-454f-a551-d55b930af4c8",
   "metadata": {},
   "outputs": [
    {
     "name": "stdout",
     "output_type": "stream",
     "text": [
      "width : 5, height : 4\n"
     ]
    }
   ],
   "source": [
    "r = Rectangle(5, 4)\n",
    "print(r)"
   ]
  },
  {
   "cell_type": "code",
   "execution_count": 61,
   "id": "0f8d4920-a374-45bd-b00f-68018141b997",
   "metadata": {},
   "outputs": [],
   "source": [
    "class Note:\n",
    "    def __init__(self, content=None):\n",
    "        self.content = content\n",
    "    def write_content(self, content):\n",
    "        self.content = content\n",
    "    def remove_all(self):\n",
    "        self.content = None"
   ]
  },
  {
   "cell_type": "code",
   "execution_count": 71,
   "id": "445eb02a-3910-4c47-b203-1dfd491be68a",
   "metadata": {},
   "outputs": [],
   "source": [
    "class NoteBook:\n",
    "    def __init__(self, title=''):\n",
    "        self.title = title\n",
    "        self.page_number = 1\n",
    "        self.note = {}\n",
    "    def add_note(self, note):\n",
    "        if len(self.note) > 300:\n",
    "            print(\"더 이상 기록할 노트가 없습니다\")\n",
    "            return\n",
    "        self.note[self.page_number] = note\n",
    "        self.page_number += 1\n",
    "    def remove_note(self, page_number):\n",
    "        if page_number in self.note.keys():\n",
    "            self.note.pop(self.page_number)\n",
    "            self.page_number -= 1\n",
    "        else:\n",
    "            print(\"해당 페이지가 존재하지 않습니다\")\n",
    "    def searchEmptyPageNumber(self):\n",
    "        pass"
   ]
  },
  {
   "cell_type": "code",
   "execution_count": 63,
   "id": "d1a80ec1-06f7-4935-97fb-a7e1a695f69b",
   "metadata": {},
   "outputs": [],
   "source": [
    "test_dic = {}\n",
    "test_dic[1] = 10\n",
    "test_dic[2] = 20"
   ]
  },
  {
   "cell_type": "code",
   "execution_count": 64,
   "id": "f9e70ead-d234-413b-ab68-168d1b163978",
   "metadata": {},
   "outputs": [
    {
     "data": {
      "text/plain": [
       "{1: 10, 2: 20}"
      ]
     },
     "execution_count": 64,
     "metadata": {},
     "output_type": "execute_result"
    }
   ],
   "source": [
    "test_dic"
   ]
  },
  {
   "cell_type": "code",
   "execution_count": 68,
   "id": "e87d2d17-72c6-4bfd-9214-c02fc08c2e6f",
   "metadata": {},
   "outputs": [
    {
     "data": {
      "text/plain": [
       "2"
      ]
     },
     "execution_count": 68,
     "metadata": {},
     "output_type": "execute_result"
    }
   ],
   "source": [
    "len(test_dic)"
   ]
  },
  {
   "cell_type": "code",
   "execution_count": 72,
   "id": "4b90fc8d-d224-48f9-91c4-92e7441d3ae6",
   "metadata": {},
   "outputs": [],
   "source": [
    "notebook = NoteBook('연습용 노트북')"
   ]
  },
  {
   "cell_type": "code",
   "execution_count": 73,
   "id": "db926241-2632-438b-b848-ab3418507696",
   "metadata": {},
   "outputs": [],
   "source": [
    "note = Note(\"오늘은 인공지능을 배웠어요\")"
   ]
  },
  {
   "cell_type": "code",
   "execution_count": 74,
   "id": "ffb4c563-87d1-4f27-aa68-fc2a3e70859f",
   "metadata": {},
   "outputs": [],
   "source": [
    "notebook.add_note(note)"
   ]
  },
  {
   "cell_type": "code",
   "execution_count": 78,
   "id": "e8885009-2d4e-4a39-8b08-8256e963118e",
   "metadata": {},
   "outputs": [
    {
     "data": {
      "text/plain": [
       "'오늘은 인공지능을 배웠어요'"
      ]
     },
     "execution_count": 78,
     "metadata": {},
     "output_type": "execute_result"
    }
   ],
   "source": [
    "notebook.note[1].content"
   ]
  },
  {
   "cell_type": "code",
   "execution_count": 79,
   "id": "e3101ee2-0fd4-43d6-b1f7-a750deeab3e1",
   "metadata": {},
   "outputs": [],
   "source": [
    "for _ in range(10):\n",
    "    notebook.add_note(note)"
   ]
  },
  {
   "cell_type": "code",
   "execution_count": 80,
   "id": "0e46a43b-818c-4f09-833f-8b2fdfe88198",
   "metadata": {},
   "outputs": [
    {
     "data": {
      "text/plain": [
       "{1: <__main__.Note at 0x21890a2d360>,\n",
       " 2: <__main__.Note at 0x21890a2d360>,\n",
       " 3: <__main__.Note at 0x21890a2d360>,\n",
       " 4: <__main__.Note at 0x21890a2d360>,\n",
       " 5: <__main__.Note at 0x21890a2d360>,\n",
       " 6: <__main__.Note at 0x21890a2d360>,\n",
       " 7: <__main__.Note at 0x21890a2d360>,\n",
       " 8: <__main__.Note at 0x21890a2d360>,\n",
       " 9: <__main__.Note at 0x21890a2d360>,\n",
       " 10: <__main__.Note at 0x21890a2d360>,\n",
       " 11: <__main__.Note at 0x21890a2d360>}"
      ]
     },
     "execution_count": 80,
     "metadata": {},
     "output_type": "execute_result"
    }
   ],
   "source": [
    "notebook.note"
   ]
  },
  {
   "cell_type": "code",
   "execution_count": 82,
   "id": "a0cdb2e3-7e7d-419a-bef1-34b7ffa0a7a0",
   "metadata": {},
   "outputs": [
    {
     "name": "stdout",
     "output_type": "stream",
     "text": [
      "오늘은 인공지능을 배웠어요\n",
      "오늘은 인공지능을 배웠어요\n",
      "오늘은 인공지능을 배웠어요\n",
      "오늘은 인공지능을 배웠어요\n",
      "오늘은 인공지능을 배웠어요\n",
      "오늘은 인공지능을 배웠어요\n",
      "오늘은 인공지능을 배웠어요\n",
      "오늘은 인공지능을 배웠어요\n",
      "오늘은 인공지능을 배웠어요\n",
      "오늘은 인공지능을 배웠어요\n",
      "오늘은 인공지능을 배웠어요\n"
     ]
    }
   ],
   "source": [
    "for key, value in notebook.note.items():\n",
    "    print(value.content)"
   ]
  },
  {
   "cell_type": "code",
   "execution_count": 83,
   "id": "a7cb7ece-c9b2-49f6-a9c3-0bf1edec9645",
   "metadata": {},
   "outputs": [],
   "source": [
    "notebook.note[1].content = 'abc'"
   ]
  },
  {
   "cell_type": "code",
   "execution_count": 84,
   "id": "5901b8f8-3f62-4511-8c04-64bb264024e3",
   "metadata": {},
   "outputs": [
    {
     "data": {
      "text/plain": [
       "'abc'"
      ]
     },
     "execution_count": 84,
     "metadata": {},
     "output_type": "execute_result"
    }
   ],
   "source": [
    "notebook.note[2].content"
   ]
  },
  {
   "cell_type": "code",
   "execution_count": null,
   "id": "ac099d53-d8c9-4f2f-b0de-c20eb9f71cb4",
   "metadata": {},
   "outputs": [],
   "source": []
  }
 ],
 "metadata": {
  "kernelspec": {
   "display_name": "Python 3 (ipykernel)",
   "language": "python",
   "name": "python3"
  },
  "language_info": {
   "codemirror_mode": {
    "name": "ipython",
    "version": 3
   },
   "file_extension": ".py",
   "mimetype": "text/x-python",
   "name": "python",
   "nbconvert_exporter": "python",
   "pygments_lexer": "ipython3",
   "version": "3.10.8"
  }
 },
 "nbformat": 4,
 "nbformat_minor": 5
}
