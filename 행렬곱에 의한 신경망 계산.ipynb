{
 "cells": [
  {
   "cell_type": "code",
   "execution_count": 4,
   "id": "100a1cbe-edd8-42d9-aa4c-d283f19e0111",
   "metadata": {},
   "outputs": [
    {
     "name": "stdout",
     "output_type": "stream",
     "text": [
      "x_hidden: [1.16 0.42 0.62]\n",
      "output: [0.72630335 0.70859807 0.77809706]\n"
     ]
    }
   ],
   "source": [
    "import numpy as np\n",
    "\n",
    "def sigmoid(x):\n",
    "    return 1 / (1 + np.exp(-x))\n",
    "\n",
    "input_data = np.array([0.9, 0.1, 0.8])\n",
    "\n",
    "weights_input_hidden = np.array([[0.9, 0.3, 0.4],\n",
    "                                 [0.2, 0.8, 0.2],\n",
    "                                 [0.1, 0.5, 0.6]])\n",
    "\n",
    "weights_output_hidden = np.array([[0.3, 0.7, 0.5],\n",
    "                                  [0.6, 0.5, 0.2],\n",
    "                                  [0.8, 0.1, 0.9]])\n",
    "\n",
    "x_hidden = np.dot(weights_input_hidden, input_data)\n",
    "print('x_hidden:', x_hidden)\n",
    "\n",
    "output_hidden = sigmoid(x_hidden)\n",
    "\n",
    "x_output = np.dot(weights_output_hidden, output_hidden)\n",
    "\n",
    "output = sigmoid(x_output)\n",
    "print('output:', output)"
   ]
  }
 ],
 "metadata": {
  "kernelspec": {
   "display_name": "Python 3 (ipykernel)",
   "language": "python",
   "name": "python3"
  },
  "language_info": {
   "codemirror_mode": {
    "name": "ipython",
    "version": 3
   },
   "file_extension": ".py",
   "mimetype": "text/x-python",
   "name": "python",
   "nbconvert_exporter": "python",
   "pygments_lexer": "ipython3",
   "version": "3.10.8"
  }
 },
 "nbformat": 4,
 "nbformat_minor": 5
}
