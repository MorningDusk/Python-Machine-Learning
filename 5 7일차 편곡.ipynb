{
 "cells": [
  {
   "cell_type": "code",
   "execution_count": 3,
   "id": "7bd24fcf-43d1-4e9c-ad28-4cc301312d32",
   "metadata": {},
   "outputs": [
    {
     "data": {
      "text/html": [
       "\n",
       "        <div id=\"midiPlayerDiv689\"></div>\n",
       "        <link rel=\"stylesheet\" href=\"https://cuthbertLab.github.io/music21j/css/m21.css\">\n",
       "        \n",
       "        <script\n",
       "        src=\"https://cdnjs.cloudflare.com/ajax/libs/require.js/2.3.6/require.min.js\"\n",
       "        ></script>\n",
       "    \n",
       "        <script>\n",
       "        function midiPlayerDiv689_play() {\n",
       "            const rq = require.config({\n",
       "                paths: {\n",
       "                    'music21': 'https://cuthbertLab.github.io/music21j/releases/music21.debug',\n",
       "                }\n",
       "            });\n",
       "            rq(['music21'], function(music21) {\n",
       "                mp = new music21.miditools.MidiPlayer();\n",
       "                mp.addPlayer(\"#midiPlayerDiv689\");\n",
       "                mp.base64Load(\"data:audio/midi;base64,TVRoZAAAAAYAAQACJ2BNVHJrAAAAFAD/UQMHoSAA/1gEBAIYCM5g/y8ATVRyawAAAY4A/wMAAOAAQM5gkDxazmCAPAAAkDxazmCAPAAAkENazmCAQwAAkENazmCAQwAAkEVazmCARQAAkEVazmCARQAAkENagZ1AgEMAAJBBWs5ggEEAAJBBWs5ggEEAAJBAWs5ggEAAAJBAWs5ggEAAAJA+Ws5ggD4AAJA+Ws5ggD4AAJA8WoGdQIA8AACQQ1rOYIBDAACQQ1rOYIBDAACQQVrOYIBBAACQQVrOYIBBAACQQFrOYIBAAACQQFrOYIBAAACQPlqBnUCAPgAAkENazmCAQwAAkENazmCAQwAAkEFazmCAQQAAkEFazmCAQQAAkEBazmCAQAAAkEBazmCAQAAAkD5agZ1AgD4AAJA8Ws5ggDwAAJA8Ws5ggDwAAJBDWs5ggEMAAJBDWs5ggEMAAJBFWs5ggEUAAJBFWs5ggEUAAJBDWoGdQIBDAACQQVrOYIBBAACQQVrOYIBBAACQQFrOYIBAAACQQFrOYIBAAACQPlrOYIA+AACQPlrOYIA+AACQPFqBnUCAPADOYP8vAA==\");\n",
       "            });\n",
       "        }\n",
       "        if (typeof require === 'undefined') {\n",
       "            setTimeout(midiPlayerDiv689_play, 2000);\n",
       "        } else {\n",
       "            midiPlayerDiv689_play();\n",
       "        }\n",
       "        </script>"
      ],
      "text/plain": [
       "<IPython.core.display.HTML object>"
      ]
     },
     "metadata": {},
     "output_type": "display_data"
    }
   ],
   "source": [
    "import music21\n",
    "little_star=\"tinynotation: 4/4 c4 c4 g4 g4 a4 a4 g2 f4 f4 e4 e4 d4 d4 c2 g4 g4 f4 f4 e4 e4 d2 g4 g4 f4 f4 e4 e4 d2 c4 c4 g4 g4 a4 a4 g2 f4 f4 e4 e4 d4 d4 c2\"\n",
    "music21.converter.parse(little_star).show('midi')"
   ]
  },
  {
   "cell_type": "code",
   "execution_count": 4,
   "id": "b43325ec-1394-4a9a-bd43-87d926178508",
   "metadata": {},
   "outputs": [],
   "source": [
    "import numpy as np"
   ]
  },
  {
   "cell_type": "code",
   "execution_count": 5,
   "id": "577d8bdf-1b04-4d59-9f1f-6c977f428338",
   "metadata": {},
   "outputs": [
    {
     "data": {
      "text/plain": [
       "({'c': 1, 'd': 2, 'e': 3, 'f': 4, 'g': 5, 'a': 6, 'b': 7},\n",
       " {1: 'c', 2: 'd', 3: 'e', 4: 'f', 5: 'g', 6: 'a', 7: 'b'})"
      ]
     },
     "execution_count": 5,
     "metadata": {},
     "output_type": "execute_result"
    }
   ],
   "source": [
    "temp = ['c','d','e','f','g','a','b']\n",
    "note2num = dict(zip(temp,np.arange(1,8)))\n",
    "num2note =  { value:key for key,value in note2num.items()  }\n",
    "note2num, num2note"
   ]
  },
  {
   "cell_type": "code",
   "execution_count": 6,
   "id": "6199cda7-9d62-4348-9e2e-88ae3e08849b",
   "metadata": {},
   "outputs": [
    {
     "data": {
      "text/plain": [
       "[[1, 4], [1, 4], [5, 4], [5, 4], [6, 4]]"
      ]
     },
     "execution_count": 6,
     "metadata": {},
     "output_type": "execute_result"
    }
   ],
   "source": [
    "# 시계열 데이터 만들기\n",
    "def abc2timeseries(s):\n",
    "    return [ [note2num[i[0]], int(i[1]) ] for i in s.split()[2:] ]\n",
    "temp = abc2timeseries(little_star)\n",
    "temp[:5]"
   ]
  },
  {
   "cell_type": "code",
   "execution_count": 7,
   "id": "b7ac3376-03a9-44cb-8415-b94186e00818",
   "metadata": {},
   "outputs": [
    {
     "data": {
      "text/plain": [
       "'tinynotation: 4/4 c4 c4 g4 g4 a4 a4 g2 f4 f4 e4 e4 d4 d4 c2 g4 g4 f4 f4 e4 e4 d2 g4 g4 f4 f4 e4 e4 d2 c4 c4 g4 g4 a4 a4 g2 f4 f4 e4 e4 d4 d4 c2'"
      ]
     },
     "execution_count": 7,
     "metadata": {},
     "output_type": "execute_result"
    }
   ],
   "source": [
    "def timeseries2abc(t):\n",
    "    return \"tinynotation: 4/4 \"+\" \".join([num2note[i]+str(j) for i,j in t])\n",
    "timeseries2abc(temp) "
   ]
  },
  {
   "cell_type": "code",
   "execution_count": 8,
   "id": "0d51de48-4ee4-491f-8267-5112bd38177d",
   "metadata": {},
   "outputs": [],
   "source": [
    "# 원핫 코드로 변환하는 표\n",
    "#[  [1,2],[2,2],..[7,2], ]\n",
    "onehot = [[i,2] for i in range(1,8)] + [[i,4] for i in range(1,8)] + [[i,8] for i in range(1,8)]"
   ]
  },
  {
   "cell_type": "code",
   "execution_count": 9,
   "id": "325ea16d-49e2-44a1-84df-314c6ab6d3dc",
   "metadata": {},
   "outputs": [
    {
     "data": {
      "text/plain": [
       "[[1, 4], [1, 4], [5, 4], [5, 4], [6, 4]]"
      ]
     },
     "execution_count": 9,
     "metadata": {},
     "output_type": "execute_result"
    }
   ],
   "source": [
    "seq = abc2timeseries(little_star)\n",
    "seq[:5]"
   ]
  },
  {
   "cell_type": "code",
   "execution_count": 10,
   "id": "f1416a4e-c400-42da-8c97-8965417f783f",
   "metadata": {},
   "outputs": [],
   "source": [
    "# 시계열 데이터 만들기\n",
    "w = 8  # 윈도우 크기\n",
    "h = 1  # 수평 계수\n",
    "def seq2dadtaset(seq,w,h):\n",
    "    x,y = [],[]\n",
    "    for i in range(len(seq)-(w+h)+1):        \n",
    "        x.append(seq[i:(i+w)])\n",
    "        y.append(seq[i+w+h-1])\n",
    "    return np.array(x), np.array(y)"
   ]
  },
  {
   "cell_type": "code",
   "execution_count": 11,
   "id": "6236709b-a7c8-4791-a880-d0bed267dd38",
   "metadata": {},
   "outputs": [
    {
     "name": "stdout",
     "output_type": "stream",
     "text": [
      "(34, 8, 2) (34, 2)\n",
      "[[1 4]\n",
      " [1 4]\n",
      " [5 4]\n",
      " [5 4]\n",
      " [6 4]\n",
      " [6 4]\n",
      " [5 2]\n",
      " [4 4]] [4 4]\n"
     ]
    }
   ],
   "source": [
    "X,Y = seq2dadtaset(seq,w,h)\n",
    "print(X.shape, Y.shape)\n",
    "print(X[0], Y[0])"
   ]
  },
  {
   "cell_type": "code",
   "execution_count": 12,
   "id": "44848347-dc68-4beb-89e5-ada549eca8d4",
   "metadata": {},
   "outputs": [],
   "source": [
    "from tensorflow.keras.models import Sequential\n",
    "from tensorflow.keras.layers import Dense,LSTM\n",
    "import tensorflow as tf"
   ]
  },
  {
   "cell_type": "code",
   "execution_count": 13,
   "id": "e3b6e92c-9e68-4967-b3df-faa6206ea88b",
   "metadata": {},
   "outputs": [],
   "source": [
    "# 훈련데이터\n",
    "split = int(len(X)*1.0)  # 100% 훈련집합으로 사용\n",
    "x_train = X[:split]; y_train = Y[:split]"
   ]
  },
  {
   "cell_type": "code",
   "execution_count": 14,
   "id": "d0c84e54-2787-4d7a-a808-b0b87a602b17",
   "metadata": {},
   "outputs": [],
   "source": [
    "def to_onehot(y):\n",
    "    t = []\n",
    "    for i in range(len(y)):\n",
    "        a = np.zeros(len(onehot))\n",
    "        a[onehot.index(list(y[i])  )] = 1.0    # 예측이 목적이 아니라 생성이 목적이기 때문에 전체를 훈련집합으로\n",
    "        t.append(a)\n",
    "    return np.array(t)"
   ]
  },
  {
   "cell_type": "code",
   "execution_count": 15,
   "id": "8a417451-3626-4fb5-b14a-499a911a6a89",
   "metadata": {},
   "outputs": [
    {
     "data": {
      "text/plain": [
       "array([[0., 0., 0., 0., 0., 0., 0., 0., 0., 0., 1., 0., 0., 0., 0., 0.,\n",
       "        0., 0., 0., 0., 0.],\n",
       "       [0., 0., 0., 0., 0., 0., 0., 0., 0., 1., 0., 0., 0., 0., 0., 0.,\n",
       "        0., 0., 0., 0., 0.],\n",
       "       [0., 0., 0., 0., 0., 0., 0., 0., 0., 1., 0., 0., 0., 0., 0., 0.,\n",
       "        0., 0., 0., 0., 0.],\n",
       "       [0., 0., 0., 0., 0., 0., 0., 0., 1., 0., 0., 0., 0., 0., 0., 0.,\n",
       "        0., 0., 0., 0., 0.],\n",
       "       [0., 0., 0., 0., 0., 0., 0., 0., 1., 0., 0., 0., 0., 0., 0., 0.,\n",
       "        0., 0., 0., 0., 0.],\n",
       "       [1., 0., 0., 0., 0., 0., 0., 0., 0., 0., 0., 0., 0., 0., 0., 0.,\n",
       "        0., 0., 0., 0., 0.],\n",
       "       [0., 0., 0., 0., 0., 0., 0., 0., 0., 0., 0., 1., 0., 0., 0., 0.,\n",
       "        0., 0., 0., 0., 0.],\n",
       "       [0., 0., 0., 0., 0., 0., 0., 0., 0., 0., 0., 1., 0., 0., 0., 0.,\n",
       "        0., 0., 0., 0., 0.],\n",
       "       [0., 0., 0., 0., 0., 0., 0., 0., 0., 0., 1., 0., 0., 0., 0., 0.,\n",
       "        0., 0., 0., 0., 0.],\n",
       "       [0., 0., 0., 0., 0., 0., 0., 0., 0., 0., 1., 0., 0., 0., 0., 0.,\n",
       "        0., 0., 0., 0., 0.],\n",
       "       [0., 0., 0., 0., 0., 0., 0., 0., 0., 1., 0., 0., 0., 0., 0., 0.,\n",
       "        0., 0., 0., 0., 0.],\n",
       "       [0., 0., 0., 0., 0., 0., 0., 0., 0., 1., 0., 0., 0., 0., 0., 0.,\n",
       "        0., 0., 0., 0., 0.],\n",
       "       [0., 1., 0., 0., 0., 0., 0., 0., 0., 0., 0., 0., 0., 0., 0., 0.,\n",
       "        0., 0., 0., 0., 0.],\n",
       "       [0., 0., 0., 0., 0., 0., 0., 0., 0., 0., 0., 1., 0., 0., 0., 0.,\n",
       "        0., 0., 0., 0., 0.],\n",
       "       [0., 0., 0., 0., 0., 0., 0., 0., 0., 0., 0., 1., 0., 0., 0., 0.,\n",
       "        0., 0., 0., 0., 0.],\n",
       "       [0., 0., 0., 0., 0., 0., 0., 0., 0., 0., 1., 0., 0., 0., 0., 0.,\n",
       "        0., 0., 0., 0., 0.],\n",
       "       [0., 0., 0., 0., 0., 0., 0., 0., 0., 0., 1., 0., 0., 0., 0., 0.,\n",
       "        0., 0., 0., 0., 0.],\n",
       "       [0., 0., 0., 0., 0., 0., 0., 0., 0., 1., 0., 0., 0., 0., 0., 0.,\n",
       "        0., 0., 0., 0., 0.],\n",
       "       [0., 0., 0., 0., 0., 0., 0., 0., 0., 1., 0., 0., 0., 0., 0., 0.,\n",
       "        0., 0., 0., 0., 0.],\n",
       "       [0., 1., 0., 0., 0., 0., 0., 0., 0., 0., 0., 0., 0., 0., 0., 0.,\n",
       "        0., 0., 0., 0., 0.],\n",
       "       [0., 0., 0., 0., 0., 0., 0., 1., 0., 0., 0., 0., 0., 0., 0., 0.,\n",
       "        0., 0., 0., 0., 0.],\n",
       "       [0., 0., 0., 0., 0., 0., 0., 1., 0., 0., 0., 0., 0., 0., 0., 0.,\n",
       "        0., 0., 0., 0., 0.],\n",
       "       [0., 0., 0., 0., 0., 0., 0., 0., 0., 0., 0., 1., 0., 0., 0., 0.,\n",
       "        0., 0., 0., 0., 0.],\n",
       "       [0., 0., 0., 0., 0., 0., 0., 0., 0., 0., 0., 1., 0., 0., 0., 0.,\n",
       "        0., 0., 0., 0., 0.],\n",
       "       [0., 0., 0., 0., 0., 0., 0., 0., 0., 0., 0., 0., 1., 0., 0., 0.,\n",
       "        0., 0., 0., 0., 0.],\n",
       "       [0., 0., 0., 0., 0., 0., 0., 0., 0., 0., 0., 0., 1., 0., 0., 0.,\n",
       "        0., 0., 0., 0., 0.],\n",
       "       [0., 0., 0., 0., 1., 0., 0., 0., 0., 0., 0., 0., 0., 0., 0., 0.,\n",
       "        0., 0., 0., 0., 0.],\n",
       "       [0., 0., 0., 0., 0., 0., 0., 0., 0., 0., 1., 0., 0., 0., 0., 0.,\n",
       "        0., 0., 0., 0., 0.],\n",
       "       [0., 0., 0., 0., 0., 0., 0., 0., 0., 0., 1., 0., 0., 0., 0., 0.,\n",
       "        0., 0., 0., 0., 0.],\n",
       "       [0., 0., 0., 0., 0., 0., 0., 0., 0., 1., 0., 0., 0., 0., 0., 0.,\n",
       "        0., 0., 0., 0., 0.],\n",
       "       [0., 0., 0., 0., 0., 0., 0., 0., 0., 1., 0., 0., 0., 0., 0., 0.,\n",
       "        0., 0., 0., 0., 0.],\n",
       "       [0., 0., 0., 0., 0., 0., 0., 0., 1., 0., 0., 0., 0., 0., 0., 0.,\n",
       "        0., 0., 0., 0., 0.],\n",
       "       [0., 0., 0., 0., 0., 0., 0., 0., 1., 0., 0., 0., 0., 0., 0., 0.,\n",
       "        0., 0., 0., 0., 0.],\n",
       "       [1., 0., 0., 0., 0., 0., 0., 0., 0., 0., 0., 0., 0., 0., 0., 0.,\n",
       "        0., 0., 0., 0., 0.]])"
      ]
     },
     "execution_count": 15,
     "metadata": {},
     "output_type": "execute_result"
    }
   ],
   "source": [
    "y_train = to_onehot(y_train)\n",
    "y_train"
   ]
  },
  {
   "cell_type": "code",
   "execution_count": 16,
   "id": "a6b18a12-f18f-4948-966a-5a9545e16365",
   "metadata": {},
   "outputs": [
    {
     "data": {
      "text/plain": [
       "((34, 8, 2), (34, 21), (8, 2))"
      ]
     },
     "execution_count": 16,
     "metadata": {},
     "output_type": "execute_result"
    }
   ],
   "source": [
    "x_train.shape,y_train.shape,x_train[0].shape"
   ]
  },
  {
   "cell_type": "code",
   "execution_count": 17,
   "id": "2e6a0a8b-59f1-4716-832f-4d6f9282b454",
   "metadata": {},
   "outputs": [],
   "source": [
    "# 모델 학습\n",
    "model = Sequential([\n",
    "    LSTM(units=128,activation='relu',input_shape = x_train[0].shape),  # (8,2)\n",
    "    Dense(y_train.shape[1],activation='softmax'),  # 출력은 y의 원핫코드의 길이 21    \n",
    "])"
   ]
  },
  {
   "cell_type": "code",
   "execution_count": 18,
   "id": "69cc00d0-be5d-4bdc-8090-10ffc15572b1",
   "metadata": {},
   "outputs": [],
   "source": [
    "model.compile(loss = tf.keras.losses.categorical_crossentropy,optimizer='Adam',metrics=['acc'])"
   ]
  },
  {
   "cell_type": "code",
   "execution_count": 19,
   "id": "cd346cbc-1b26-42e4-9bcc-2d6789d03d73",
   "metadata": {},
   "outputs": [
    {
     "name": "stdout",
     "output_type": "stream",
     "text": [
      "Epoch 1/10\n",
      "34/34 [==============================] - 1s 3ms/step - loss: 2.7097 - acc: 0.2059\n",
      "Epoch 2/10\n",
      "34/34 [==============================] - 0s 3ms/step - loss: 2.2178 - acc: 0.2353\n",
      "Epoch 3/10\n",
      "34/34 [==============================] - 0s 4ms/step - loss: 2.0883 - acc: 0.2059\n",
      "Epoch 4/10\n",
      "34/34 [==============================] - 0s 3ms/step - loss: 1.9918 - acc: 0.2059\n",
      "Epoch 5/10\n",
      "34/34 [==============================] - 0s 3ms/step - loss: 1.9343 - acc: 0.2647\n",
      "Epoch 6/10\n",
      "34/34 [==============================] - 0s 3ms/step - loss: 1.8268 - acc: 0.3235\n",
      "Epoch 7/10\n",
      "34/34 [==============================] - 0s 3ms/step - loss: 1.8264 - acc: 0.2647\n",
      "Epoch 8/10\n",
      "34/34 [==============================] - 0s 3ms/step - loss: 1.7709 - acc: 0.3824\n",
      "Epoch 9/10\n",
      "34/34 [==============================] - 0s 3ms/step - loss: 1.5916 - acc: 0.4118\n",
      "Epoch 10/10\n",
      "34/34 [==============================] - 0s 3ms/step - loss: 1.5297 - acc: 0.3824\n"
     ]
    },
    {
     "data": {
      "text/plain": [
       "<keras.callbacks.History at 0x24992bd8490>"
      ]
     },
     "execution_count": 19,
     "metadata": {},
     "output_type": "execute_result"
    }
   ],
   "source": [
    "model.fit(x_train,y_train,epochs=10,batch_size=1)"
   ]
  },
  {
   "cell_type": "code",
   "execution_count": 20,
   "id": "91f03c6a-1783-445f-9cdc-2b33f28db6ce",
   "metadata": {},
   "outputs": [
    {
     "data": {
      "text/html": [
       "\n",
       "        <div id=\"midiPlayerDiv1494\"></div>\n",
       "        <link rel=\"stylesheet\" href=\"https://cuthbertLab.github.io/music21j/css/m21.css\">\n",
       "        \n",
       "        <script\n",
       "        src=\"https://cdnjs.cloudflare.com/ajax/libs/require.js/2.3.6/require.min.js\"\n",
       "        ></script>\n",
       "    \n",
       "        <script>\n",
       "        function midiPlayerDiv1494_play() {\n",
       "            const rq = require.config({\n",
       "                paths: {\n",
       "                    'music21': 'https://cuthbertLab.github.io/music21j/releases/music21.debug',\n",
       "                }\n",
       "            });\n",
       "            rq(['music21'], function(music21) {\n",
       "                mp = new music21.miditools.MidiPlayer();\n",
       "                mp.addPlayer(\"#midiPlayerDiv1494\");\n",
       "                mp.base64Load(\"data:audio/midi;base64,TVRoZAAAAAYAAQACJ2BNVHJrAAAAFAD/UQMHoSAA/1gEBAIYCM5g/y8ATVRyawAAAdIA/wMAAOAAQM5gkEFazmCAQQAAkEFazmCAQQAAkENazmCAQwAAkENazmCAQwAAkEFazmCAQQAAkEBazmCAQAAAkENazmCAQwAAkD5azmCAPgAAkENazmCAQwAAkENazmCAQwAAkENazmCAQwAAkDxagZ1AgDwAAJBDWs5ggEMAAJA+Ws5ggD4AAJBDWs5ggEMAAJBDWs5ggEMAAJA+Ws5ggD4AAJBAWs5ggEAAAJA+Ws5ggD4AAJBDWs5ggEMAAJBDWs5ggEMAAJBDWs5ggEMAAJBDWs5ggEMAAJBAWs5ggEAAAJBBWs5ggEEAAJBAWs5ggEAAAJBDWs5ggEMAAJBDWs5ggEMAAJA+Ws5ggD4AAJBDWs5ggEMAAJBAWs5ggEAAAJBBWs5ggEEAAJBDWs5ggEMAAJBDWs5ggEMAAJBAWs5ggEAAAJBAWs5ggEAAAJBAWs5ggEAAAJBDWs5ggEMAAJBDWs5ggEMAAJBDWs5ggEMAAJBAWs5ggEAAAJBDWs5ggEMAAJBDWs5ggEMAAJBAWs5ggEAAAJA+Ws5ggD4AAJA8WoGdQIA8AACQQFrOYIBAAACQPlrOYIA+AACQPlrOYIA+AACQQ1rOYIBDAM5g/y8A\");\n",
       "            });\n",
       "        }\n",
       "        if (typeof require === 'undefined') {\n",
       "            setTimeout(midiPlayerDiv1494_play, 2000);\n",
       "        } else {\n",
       "            midiPlayerDiv1494_play();\n",
       "        }\n",
       "        </script>"
      ],
      "text/plain": [
       "<IPython.core.display.HTML object>"
      ]
     },
     "metadata": {},
     "output_type": "display_data"
    }
   ],
   "source": [
    "new_song = []\n",
    "for i in range(50):\n",
    "    idx = np.random.randint( len(x_train))  # 랜덤하게 x_train범위에서 인덱스 설정\n",
    "    p = model.predict(np.expand_dims(x_train[idx],axis=0),verbose=0)\n",
    "    new_song.append( onehot[np.argmax(p)])\n",
    "timeseries2abc(new_song)\n",
    "music21.converter.parse(timeseries2abc(new_song)).show('midi')"
   ]
  },
  {
   "cell_type": "code",
   "execution_count": 21,
   "id": "62ae97b5-4eae-4ec3-9f42-5b06ebc3362a",
   "metadata": {},
   "outputs": [
    {
     "data": {
      "text/plain": [
       "'tinynotation: 4/4 f4 f4 g4 g4 f4 e4 g4 d4 g4 g4 g4 c2 g4 d4 g4 g4 d4 e4 d4 g4 g4 g4 g4 e4 f4 e4 g4 g4 d4 g4 e4 f4 g4 g4 e4 e4 e4 g4 g4 g4 e4 g4 g4 e4 d4 c2 e4 d4 d4 g4'"
      ]
     },
     "execution_count": 21,
     "metadata": {},
     "output_type": "execute_result"
    }
   ],
   "source": [
    "timeseries2abc(new_song)"
   ]
  },
  {
   "cell_type": "code",
   "execution_count": 22,
   "id": "6f963db4-7477-40b7-a12b-a72e60c6b61b",
   "metadata": {},
   "outputs": [],
   "source": [
    "# 악보그리기\n",
    "# https://musescore.org/en/download  다운로드 및 설치\n",
    "from music21 import converter,environment\n",
    "score = converter.parse(timeseries2abc(new_song))\n",
    "environment.set('musescoreDirectPNGPath','C:/Program Files/MuseScore 4/bin/MuseScore4.exe')\n",
    "score.show('musicxml.png')"
   ]
  },
  {
   "cell_type": "code",
   "execution_count": 23,
   "id": "c264681c-9906-4a79-a096-0970b69329ad",
   "metadata": {},
   "outputs": [],
   "source": [
    "# 여러곡 편곡\n",
    "\n",
    "# 봄나들이\n",
    "spring_picnic=\"tinynotation: 4/8 g8 e8 g8 e8 g8 a8 g4 e8 g8 e8 c8 d8 e8 c4 g8 e8 g8 e8 g8 a8 g4 b8 a8 g8 e8 d8 e8 c4\"\n",
    "# 나비야 나비야\n",
    "butterfly=\"tinynotation: 2/4 g8 e8 e4 f8 d8 d4 c8 d8 e8 f8 g8 g8 g4 g8 e8 e8 e8 f8 d8 d4 c8 e8 g8 g8 e8 e8 e4 d8 d8 d8 d8 d8 e8 f4 e8 e8 e8 e8 e8 f8 g4 g8 e8 e4 f8\""
   ]
  },
  {
   "cell_type": "code",
   "execution_count": 24,
   "id": "0bf2bb85-5dbf-4192-b7e4-2b8c0e944bb9",
   "metadata": {},
   "outputs": [
    {
     "data": {
      "text/html": [
       "\n",
       "        <div id=\"midiPlayerDiv2771\"></div>\n",
       "        <link rel=\"stylesheet\" href=\"https://cuthbertLab.github.io/music21j/css/m21.css\">\n",
       "        \n",
       "        <script\n",
       "        src=\"https://cdnjs.cloudflare.com/ajax/libs/require.js/2.3.6/require.min.js\"\n",
       "        ></script>\n",
       "    \n",
       "        <script>\n",
       "        function midiPlayerDiv2771_play() {\n",
       "            const rq = require.config({\n",
       "                paths: {\n",
       "                    'music21': 'https://cuthbertLab.github.io/music21j/releases/music21.debug',\n",
       "                }\n",
       "            });\n",
       "            rq(['music21'], function(music21) {\n",
       "                mp = new music21.miditools.MidiPlayer();\n",
       "                mp.addPlayer(\"#midiPlayerDiv2771\");\n",
       "                mp.base64Load(\"data:audio/midi;base64,TVRoZAAAAAYAAQACJ2BNVHJrAAAAFAD/UQMHoSAA/1gEAgIYCM5g/y8ATVRyawAAAaMA/wMAAOAAQM5gkENapzCAQwAAkEBapzCAQAAAkEBazmCAQAAAkEFapzCAQQAAkD5apzCAPgAAkD5azmCAPgAAkDxapzCAPAAAkD5apzCAPgAAkEBapzCAQAAAkEFapzCAQQAAkENapzCAQwAAkENapzCAQwAAkENazmCAQwAAkENapzCAQwAAkEBapzCAQAAAkEBapzCAQAAAkEBapzCAQAAAkEFapzCAQQAAkD5apzCAPgAAkD5azmCAPgAAkDxapzCAPAAAkEBapzCAQAAAkENapzCAQwAAkENapzCAQwAAkEBapzCAQAAAkEBapzCAQAAAkEBazmCAQAAAkD5apzCAPgAAkD5apzCAPgAAkD5apzCAPgAAkD5apzCAPgAAkD5apzCAPgAAkEBapzCAQAAAkEFazmCAQQAAkEBapzCAQAAAkEBapzCAQAAAkEBapzCAQAAAkEBapzCAQAAAkEBapzCAQAAAkEFapzCAQQAAkENazmCAQwAAkENapzCAQwAAkEBapzCAQAAAkEBazmCAQAAAkEFapzCAQQDOYP8vAA==\");\n",
       "            });\n",
       "        }\n",
       "        if (typeof require === 'undefined') {\n",
       "            setTimeout(midiPlayerDiv2771_play, 2000);\n",
       "        } else {\n",
       "            midiPlayerDiv2771_play();\n",
       "        }\n",
       "        </script>"
      ],
      "text/plain": [
       "<IPython.core.display.HTML object>"
      ]
     },
     "metadata": {},
     "output_type": "display_data"
    }
   ],
   "source": [
    "music21.converter.parse(butterfly).show('midi')"
   ]
  },
  {
   "cell_type": "code",
   "execution_count": 25,
   "id": "ec08bcac-87de-49db-ae75-cdfd61cc953b",
   "metadata": {},
   "outputs": [
    {
     "data": {
      "text/plain": [
       "([[1, 4], [1, 4], [5, 4], [5, 4], [6, 4]], (115, 2))"
      ]
     },
     "execution_count": 25,
     "metadata": {},
     "output_type": "execute_result"
    }
   ],
   "source": [
    "# 세 곡을 시계열로 변환하고 결합\n",
    "list_data = []\n",
    "for i in [little_star,spring_picnic,butterfly]:\n",
    "    list_data += abc2timeseries(i)\n",
    "list_data[:5], np.array(list_data).shape   "
   ]
  },
  {
   "cell_type": "code",
   "execution_count": 26,
   "id": "b2c1075b-cd80-478b-aa3d-90d975a4a347",
   "metadata": {},
   "outputs": [
    {
     "name": "stdout",
     "output_type": "stream",
     "text": [
      "(107, 8, 2) (107, 2)\n",
      "107\n",
      "(107, 8, 2) (107, 2)\n",
      "(107, 8, 2) (107, 21)\n",
      "Epoch 1/10\n",
      "107/107 [==============================] - 1s 3ms/step - loss: 2.7258 - acc: 0.2056\n",
      "Epoch 2/10\n",
      "107/107 [==============================] - 0s 3ms/step - loss: 2.3368 - acc: 0.2804\n",
      "Epoch 3/10\n",
      "107/107 [==============================] - 0s 3ms/step - loss: 2.3042 - acc: 0.2804\n",
      "Epoch 4/10\n",
      "107/107 [==============================] - 0s 3ms/step - loss: 2.2118 - acc: 0.2804\n",
      "Epoch 5/10\n",
      "107/107 [==============================] - 0s 3ms/step - loss: 2.1459 - acc: 0.2617\n",
      "Epoch 6/10\n",
      "107/107 [==============================] - 0s 3ms/step - loss: 2.1188 - acc: 0.2991\n",
      "Epoch 7/10\n",
      "107/107 [==============================] - 0s 3ms/step - loss: 2.0593 - acc: 0.3084\n",
      "Epoch 8/10\n",
      "107/107 [==============================] - 0s 3ms/step - loss: 2.0362 - acc: 0.3271\n",
      "Epoch 9/10\n",
      "107/107 [==============================] - 0s 3ms/step - loss: 2.0129 - acc: 0.3364\n",
      "Epoch 10/10\n",
      "107/107 [==============================] - 0s 2ms/step - loss: 1.9426 - acc: 0.3364\n"
     ]
    },
    {
     "data": {
      "text/plain": [
       "<keras.callbacks.History at 0x24994ff9d50>"
      ]
     },
     "execution_count": 26,
     "metadata": {},
     "output_type": "execute_result"
    }
   ],
   "source": [
    "X,Y = seq2dadtaset(list_data,w,h)\n",
    "print(X.shape, Y.shape)\n",
    "# 훈련데이터\n",
    "split = int(len(X)*1.0)  # 100% 훈련집합으로 사용\n",
    "print(split)\n",
    "x_train = X[:split]; y_train = Y[:split]\n",
    "print(x_train.shape, y_train.shape)\n",
    "y_train = to_onehot(y_train)\n",
    "print(x_train.shape, y_train.shape)\n",
    "# 모델 설계는 이전형태 그대로 사용하고 학습만 새로운 데이터로 학습\n",
    "# 모델 학습\n",
    "model = Sequential([\n",
    "    LSTM(units=128,activation='relu',input_shape = x_train[0].shape),  # (8,2)\n",
    "    Dense(y_train.shape[1],activation='softmax'),  # 출력은 y의 원핫코드의 길이 21    \n",
    "])\n",
    "model.compile(loss = tf.keras.losses.categorical_crossentropy,optimizer='Adam',metrics=['acc'])\n",
    "model.fit(x_train,y_train,epochs=10,batch_size=1)"
   ]
  },
  {
   "cell_type": "code",
   "execution_count": 27,
   "id": "1bca08b5-804b-4fb8-8b04-067f37f87f19",
   "metadata": {},
   "outputs": [
    {
     "name": "stdout",
     "output_type": "stream",
     "text": [
      "tinynotation: 4/4 f4 e8 d4 e8 f4 e8 g8 e8 e8 g8 e8 e8 g8 e8 g8 f4 f4 e8 c4 e8 e8 e8 e8 e8 e8 e8 e8 e8 e8 g4 g8 e8 e8 e8 g8 e8 e8 e8 c4 e8 f4 g8 g4 f4 e8 g8 g4 e8 f4 e8\n"
     ]
    },
    {
     "data": {
      "text/html": [
       "\n",
       "        <div id=\"midiPlayerDiv3529\"></div>\n",
       "        <link rel=\"stylesheet\" href=\"https://cuthbertLab.github.io/music21j/css/m21.css\">\n",
       "        \n",
       "        <script\n",
       "        src=\"https://cdnjs.cloudflare.com/ajax/libs/require.js/2.3.6/require.min.js\"\n",
       "        ></script>\n",
       "    \n",
       "        <script>\n",
       "        function midiPlayerDiv3529_play() {\n",
       "            const rq = require.config({\n",
       "                paths: {\n",
       "                    'music21': 'https://cuthbertLab.github.io/music21j/releases/music21.debug',\n",
       "                }\n",
       "            });\n",
       "            rq(['music21'], function(music21) {\n",
       "                mp = new music21.miditools.MidiPlayer();\n",
       "                mp.addPlayer(\"#midiPlayerDiv3529\");\n",
       "                mp.base64Load(\"data:audio/midi;base64,TVRoZAAAAAYAAQACJ2BNVHJrAAAAFAD/UQMHoSAA/1gEBAIYCM5g/y8ATVRyawAAAdAA/wMAAOAAQM5gkEFazmCAQQAAkEBapzCAQAAAkD5azmCAPgAAkEBapzCAQAAAkEFazmCAQQAAkEBapzCAQAAAkENapzCAQwAAkEBapzCAQAAAkEBapzCAQAAAkENapzCAQwAAkEBapzCAQAAAkEBapzCAQAAAkENapzCAQwAAkEBapzCAQAAAkENapzCAQwAAkEFazmCAQQAAkEFazmCAQQAAkEBapzCAQAAAkDxazmCAPAAAkEBapzCAQAAAkEBapzCAQAAAkEBapzCAQAAAkEBapzCAQAAAkEBapzCAQAAAkEBapzCAQAAAkEBapzCAQAAAkEBapzCAQAAAkEBapzCAQAAAkEBapzCAQAAAkENazmCAQwAAkENapzCAQwAAkEBapzCAQAAAkEBapzCAQAAAkEBapzCAQAAAkENapzCAQwAAkEBapzCAQAAAkEBapzCAQAAAkEBapzCAQAAAkDxazmCAPAAAkEBapzCAQAAAkEFazmCAQQAAkENapzCAQwAAkENazmCAQwAAkEFazmCAQQAAkEBapzCAQAAAkENapzCAQwAAkENazmCAQwAAkEBapzCAQAAAkEFazmCAQQAAkEBapzCAQADOYP8vAA==\");\n",
       "            });\n",
       "        }\n",
       "        if (typeof require === 'undefined') {\n",
       "            setTimeout(midiPlayerDiv3529_play, 2000);\n",
       "        } else {\n",
       "            midiPlayerDiv3529_play();\n",
       "        }\n",
       "        </script>"
      ],
      "text/plain": [
       "<IPython.core.display.HTML object>"
      ]
     },
     "metadata": {},
     "output_type": "display_data"
    }
   ],
   "source": [
    "new_song = []\n",
    "for i in range(50):\n",
    "    idx = np.random.randint( len(x_train))  # 랜덤하게 x_train범위에서 인덱스 설정\n",
    "    p = model.predict(np.expand_dims(x_train[idx],axis=0),verbose=0)\n",
    "    new_song.append( onehot[np.argmax(p)])\n",
    "print(timeseries2abc(new_song))\n",
    "music21.converter.parse(timeseries2abc(new_song)).show('midi')"
   ]
  },
  {
   "cell_type": "code",
   "execution_count": 28,
   "id": "588b2808-4e7e-4e77-a66e-a5bf00d642ae",
   "metadata": {},
   "outputs": [],
   "source": [
    "# 악보그리기\n",
    "# https://musescore.org/en/download  다운로드 및 설치\n",
    "from music21 import converter,environment\n",
    "score = converter.parse(timeseries2abc(new_song))\n",
    "environment.set('musescoreDirectPNGPath','C:/Program Files/MuseScore 4/bin/MuseScore4.exe')\n",
    "score.show('musicxml.png')"
   ]
  },
  {
   "cell_type": "code",
   "execution_count": 29,
   "id": "bb0cfa30-fafd-4b93-9d7d-94b6b0735d84",
   "metadata": {},
   "outputs": [
    {
     "name": "stdout",
     "output_type": "stream",
     "text": [
      "tinynotation: 4/4 f4 e8 d4 e8 f4 e8 g8 e8 e8 g8 e8 e8 g8 e8 g8 f4 f4 e8 c4 e8 e8 e8 e8 e8 e8 e8 e8 e8 e8 g4 g8 e8 e8 e8 g8 e8 e8 e8 c4 e8 f4 g8 g4 f4 e8 g8 g4 e8 f4 e8\n"
     ]
    }
   ],
   "source": [
    "print(timeseries2abc(new_song))"
   ]
  },
  {
   "cell_type": "code",
   "execution_count": 30,
   "id": "90752fde-a21e-419d-80ab-2ab1c3dde7be",
   "metadata": {},
   "outputs": [],
   "source": [
    "# 기타 악보\n",
    "from music21 import instrument"
   ]
  },
  {
   "cell_type": "code",
   "execution_count": 31,
   "id": "8d79b9c9-ed91-438b-985b-d47726ea85eb",
   "metadata": {},
   "outputs": [
    {
     "data": {
      "text/plain": [
       "'guitar_score.mid'"
      ]
     },
     "execution_count": 31,
     "metadata": {},
     "output_type": "execute_result"
    }
   ],
   "source": [
    "guitar = instrument.Guitar()\n",
    "score.insert(0,guitar)\n",
    "score.write('midi','guitar_score.mid')"
   ]
  },
  {
   "cell_type": "code",
   "execution_count": 32,
   "id": "277f2eb5-2efd-4330-8298-40f87929a3dd",
   "metadata": {},
   "outputs": [
    {
     "data": {
      "image/png": "[encoded data removed]",
      "text/plain": [
       "<IPython.core.display.Image object>"
      ]
     },
     "metadata": {
      "image/png": {
       "height": 1169,
       "width": 827
      }
     },
     "output_type": "display_data"
    }
   ],
   "source": [
    "score.show()"
   ]
  }
 ],
 "metadata": {
  "kernelspec": {
   "display_name": "Python 3 (ipykernel)",
   "language": "python",
   "name": "python3"
  },
  "language_info": {
   "codemirror_mode": {
    "name": "ipython",
    "version": 3
   },
   "file_extension": ".py",
   "mimetype": "text/x-python",
   "name": "python",
   "nbconvert_exporter": "python",
   "pygments_lexer": "ipython3",
   "version": "3.10.8"
  }
 },
 "nbformat": 4,
 "nbformat_minor": 5
}
