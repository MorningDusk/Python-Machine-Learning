{
 "cells": [
  {
   "cell_type": "markdown",
   "id": "7ca5bca2-f4af-47d2-9226-6a4c6bedd221",
   "metadata": {},
   "source": [
    "3. 본문의 프로그램에서 완전 연결 신경망을 순환 신경망으로 변환하여 보자. 정확도는 얼마나 향상되는가?"
   ]
  },
  {
   "cell_type": "code",
   "execution_count": 1,
   "id": "7be7e9c3-251a-41b9-87a2-3fad434de749",
   "metadata": {},
   "outputs": [],
   "source": [
    "import numpy as np\n",
    "import tensorflow as tf\n",
    "from tensorflow import keras\n",
    "import matplotlib.pyplot as plt"
   ]
  },
  {
   "cell_type": "code",
   "execution_count": 2,
   "id": "5915c746-d112-4487-8606-f0b954e58d7a",
   "metadata": {},
   "outputs": [],
   "source": [
    "imdb = keras.datasets.imdb\n",
    "(x_train, y_train), (x_test, y_test) = imdb.load_data(num_words=10000)"
   ]
  },
  {
   "cell_type": "code",
   "execution_count": 3,
   "id": "9a6d5224-6eb3-4406-a770-3a28699e61bf",
   "metadata": {},
   "outputs": [],
   "source": [
    "word_to_index = imdb.get_word_index()\n",
    "\n",
    "word_to_index = {k:(v+3) for k,v in word_to_index.items()}\n",
    "word_to_index[\"<PAD>\"] = 0\n",
    "word_to_index[\"<START>\"] = 1\n",
    "word_to_index[\"<UNK>\"] = 2\n",
    "word_to_index[\"<UNUSED>\"] = 3\n",
    "\n",
    "index_to_word = dict([(value, key) for (key, value) in word_to_index.items()])"
   ]
  },
  {
   "cell_type": "code",
   "execution_count": 4,
   "id": "e7557520-929c-4f67-a6ce-f0be0664bc11",
   "metadata": {},
   "outputs": [
    {
     "name": "stdout",
     "output_type": "stream",
     "text": [
      "<START> this film was just brilliant casting location scenery story direction everyone's really suited the part they played and you could just imagine being there robert <UNK> is an amazing actor and now the same being director <UNK> father came from the same scottish island as myself so i loved the fact there was a real connection with this film the witty remarks throughout the film were great it was just brilliant so much that i bought the film as soon as it was released for <UNK> and would recommend it to everyone to watch and the fly fishing was amazing really cried at the end it was so sad and you know what they say if you cry at a film it must have been good and this definitely was also <UNK> to the two little boy's that played the <UNK> of norman and paul they were just brilliant children are often left out of the <UNK> list i think because the stars that play them all grown up are such a big profile for the whole film but these children are amazing and should be praised for what they have done don't you think the whole story was so lovely because it was true and was someone's life after all that was shared with us all\n"
     ]
    }
   ],
   "source": [
    "print(' '.join([index_to_word[index] for index in x_train[0]]))"
   ]
  },
  {
   "cell_type": "code",
   "execution_count": 5,
   "id": "c62d9d0d-d868-4e39-814b-af6671aa91de",
   "metadata": {},
   "outputs": [],
   "source": [
    "from tensorflow.keras.preprocessing.sequence import pad_sequences\n",
    "from keras.models import Sequential\n",
    "from keras.layers import *"
   ]
  },
  {
   "cell_type": "code",
   "execution_count": 6,
   "id": "f16ff884-b6e0-43d7-87e3-5174c907926a",
   "metadata": {},
   "outputs": [],
   "source": [
    "x_train = pad_sequences(x_train, maxlen=100)\n",
    "x_test = pad_sequences(x_test, maxlen=100)"
   ]
  },
  {
   "cell_type": "code",
   "execution_count": 7,
   "id": "398721c4-6b8b-45cb-a1a0-279abeef78d1",
   "metadata": {},
   "outputs": [],
   "source": [
    "vocab_size = 10000\n",
    "\n",
    "model = Sequential()\n",
    "model.add(Embedding(vocab_size, 64, input_length=100))\n",
    "model.add(SimpleRNN(64))\n",
    "# model.add(Flatten())\n",
    "model.add(Dense(64, activation='relu'))\n",
    "model.add(Dropout(0.5))\n",
    "model.add(Dense(1, activation='sigmoid'))"
   ]
  },
  {
   "cell_type": "code",
   "execution_count": 8,
   "id": "0f895761-cfcb-4f4c-8f69-5627f8d806c9",
   "metadata": {},
   "outputs": [
    {
     "name": "stdout",
     "output_type": "stream",
     "text": [
      "Model: \"sequential\"\n",
      "_________________________________________________________________\n",
      " Layer (type)                Output Shape              Param #   \n",
      "=================================================================\n",
      " embedding (Embedding)       (None, 100, 64)           640000    \n",
      "                                                                 \n",
      " simple_rnn (SimpleRNN)      (None, 64)                8256      \n",
      "                                                                 \n",
      " dense (Dense)               (None, 64)                4160      \n",
      "                                                                 \n",
      " dropout (Dropout)           (None, 64)                0         \n",
      "                                                                 \n",
      " dense_1 (Dense)             (None, 1)                 65        \n",
      "                                                                 \n",
      "=================================================================\n",
      "Total params: 652,481\n",
      "Trainable params: 652,481\n",
      "Non-trainable params: 0\n",
      "_________________________________________________________________\n"
     ]
    }
   ],
   "source": [
    "model.summary()"
   ]
  },
  {
   "cell_type": "code",
   "execution_count": 9,
   "id": "55022264-fe28-48f0-ae7c-484030a29145",
   "metadata": {},
   "outputs": [
    {
     "name": "stdout",
     "output_type": "stream",
     "text": [
      "Epoch 1/20\n",
      "391/391 [==============================] - 12s 29ms/step - loss: 0.6588 - accuracy: 0.5839 - val_loss: 0.5109 - val_accuracy: 0.7524\n",
      "Epoch 2/20\n",
      "391/391 [==============================] - 11s 28ms/step - loss: 0.4008 - accuracy: 0.8242 - val_loss: 0.3894 - val_accuracy: 0.8319\n",
      "Epoch 3/20\n",
      "391/391 [==============================] - 12s 31ms/step - loss: 0.2168 - accuracy: 0.9174 - val_loss: 0.4883 - val_accuracy: 0.8123\n",
      "Epoch 4/20\n",
      "391/391 [==============================] - 12s 30ms/step - loss: 0.0872 - accuracy: 0.9711 - val_loss: 0.7113 - val_accuracy: 0.7615\n",
      "Epoch 5/20\n",
      "391/391 [==============================] - 11s 29ms/step - loss: 0.0472 - accuracy: 0.9835 - val_loss: 0.8187 - val_accuracy: 0.8113\n",
      "Epoch 6/20\n",
      "391/391 [==============================] - 11s 28ms/step - loss: 0.0317 - accuracy: 0.9896 - val_loss: 0.9274 - val_accuracy: 0.7800\n",
      "Epoch 7/20\n",
      "391/391 [==============================] - 11s 27ms/step - loss: 0.0382 - accuracy: 0.9880 - val_loss: 1.0161 - val_accuracy: 0.7744\n",
      "Epoch 8/20\n",
      "391/391 [==============================] - 11s 28ms/step - loss: 0.0322 - accuracy: 0.9891 - val_loss: 0.9778 - val_accuracy: 0.7940\n",
      "Epoch 9/20\n",
      "391/391 [==============================] - 11s 28ms/step - loss: 0.0185 - accuracy: 0.9939 - val_loss: 1.1875 - val_accuracy: 0.7716\n",
      "Epoch 10/20\n",
      "391/391 [==============================] - 11s 28ms/step - loss: 0.0126 - accuracy: 0.9962 - val_loss: 1.2657 - val_accuracy: 0.7730\n",
      "Epoch 11/20\n",
      "391/391 [==============================] - 11s 27ms/step - loss: 0.0244 - accuracy: 0.9921 - val_loss: 1.1297 - val_accuracy: 0.7936\n",
      "Epoch 12/20\n",
      "391/391 [==============================] - 11s 27ms/step - loss: 0.0162 - accuracy: 0.9949 - val_loss: 1.1932 - val_accuracy: 0.7972\n",
      "Epoch 13/20\n",
      "391/391 [==============================] - 11s 28ms/step - loss: 0.0342 - accuracy: 0.9877 - val_loss: 1.1617 - val_accuracy: 0.7951\n",
      "Epoch 14/20\n",
      "391/391 [==============================] - 11s 28ms/step - loss: 0.0138 - accuracy: 0.9955 - val_loss: 1.2804 - val_accuracy: 0.7898\n",
      "Epoch 15/20\n",
      "391/391 [==============================] - 11s 28ms/step - loss: 0.0213 - accuracy: 0.9927 - val_loss: 1.2315 - val_accuracy: 0.7955\n",
      "Epoch 16/20\n",
      "391/391 [==============================] - 11s 28ms/step - loss: 0.0096 - accuracy: 0.9967 - val_loss: 1.6296 - val_accuracy: 0.7150\n",
      "Epoch 17/20\n",
      "391/391 [==============================] - 11s 28ms/step - loss: 0.0181 - accuracy: 0.9937 - val_loss: 1.3258 - val_accuracy: 0.7652\n",
      "Epoch 18/20\n",
      "391/391 [==============================] - 11s 28ms/step - loss: 0.0102 - accuracy: 0.9966 - val_loss: 1.4354 - val_accuracy: 0.7893\n",
      "Epoch 19/20\n",
      "391/391 [==============================] - 11s 28ms/step - loss: 0.0279 - accuracy: 0.9909 - val_loss: 1.1432 - val_accuracy: 0.7820\n",
      "Epoch 20/20\n",
      "391/391 [==============================] - 11s 28ms/step - loss: 0.0200 - accuracy: 0.9933 - val_loss: 1.2062 - val_accuracy: 0.7815\n"
     ]
    }
   ],
   "source": [
    "model.compile(loss='binary_crossentropy', optimizer='adam', metrics=['accuracy'])\n",
    "history = model.fit(x_train, y_train, batch_size=64, epochs=20, verbose=1, validation_data=(x_test, y_test))"
   ]
  },
  {
   "cell_type": "code",
   "execution_count": 10,
   "id": "ce9c68e4-10c9-4dfe-88a3-43d4e334ee9a",
   "metadata": {},
   "outputs": [
    {
     "name": "stdout",
     "output_type": "stream",
     "text": [
      "782/782 - 3s - loss: 1.2062 - accuracy: 0.7815 - 3s/epoch - 4ms/step\n",
      "[1.2061830759048462, 0.7815200090408325]\n"
     ]
    }
   ],
   "source": [
    "results = model.evaluate(x_test, y_test, verbose=2)\n",
    "print(results)"
   ]
  }
 ],
 "metadata": {
  "kernelspec": {
   "display_name": "Python 3 (ipykernel)",
   "language": "python",
   "name": "python3"
  },
  "language_info": {
   "codemirror_mode": {
    "name": "ipython",
    "version": 3
   },
   "file_extension": ".py",
   "mimetype": "text/x-python",
   "name": "python",
   "nbconvert_exporter": "python",
   "pygments_lexer": "ipython3",
   "version": "3.10.8"
  }
 },
 "nbformat": 4,
 "nbformat_minor": 5
}
