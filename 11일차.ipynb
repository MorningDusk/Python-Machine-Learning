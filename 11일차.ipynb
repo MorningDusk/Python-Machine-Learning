{
 "cells": [
  {
   "cell_type": "code",
   "execution_count": 1,
   "id": "3b8423e6-4fe4-4aab-a39b-515519b5af25",
   "metadata": {},
   "outputs": [],
   "source": [
    "import numpy as np"
   ]
  },
  {
   "cell_type": "code",
   "execution_count": 2,
   "id": "ca228481-59c6-419b-83d3-9aa8b0d775bb",
   "metadata": {},
   "outputs": [],
   "source": [
    "matrix = np.array(\n",
    "    [\n",
    "    [1,2,3],\n",
    "    [4,5,6],\n",
    "    [7,8,9]\n",
    "    ]\n",
    ")"
   ]
  },
  {
   "cell_type": "code",
   "execution_count": 3,
   "id": "967225cb-5672-44b6-827c-17033ec7ed22",
   "metadata": {},
   "outputs": [
    {
     "data": {
      "text/plain": [
       "(3, 3)"
      ]
     },
     "execution_count": 3,
     "metadata": {},
     "output_type": "execute_result"
    }
   ],
   "source": [
    "matrix.shape"
   ]
  },
  {
   "cell_type": "code",
   "execution_count": 5,
   "id": "5033c9ed-a3ef-4f3f-9ebf-7bcd7770b5e1",
   "metadata": {},
   "outputs": [
    {
     "name": "stdout",
     "output_type": "stream",
     "text": [
      "합: 45\n",
      "합: 45\n",
      "평균: 5.0\n",
      "평균: 5.0\n",
      "표준편차: 2.581988897471611\n",
      "표준편차: 2.581988897471611\n",
      "분산: 6.666666666666667\n",
      "분산: 6.666666666666667\n"
     ]
    }
   ],
   "source": [
    "print(f\"합: {np.sum(matrix)}\")\n",
    "print(f\"합: {matrix.sum()}\")\n",
    "\n",
    "print(f\"평균: {np.mean(matrix)}\")\n",
    "print(f\"평균: {matrix.mean()}\")\n",
    "\n",
    "print(f\"표준편차: {np.std(matrix)}\")\n",
    "print(f\"표준편차: {matrix.std()}\")\n",
    "\n",
    "print(f\"분산: {np.var(matrix)}\")\n",
    "print(f\"분산: {matrix.var()}\")"
   ]
  },
  {
   "cell_type": "code",
   "execution_count": 9,
   "id": "46fc0a82-a4d5-42d8-9826-6c0aeda38d9b",
   "metadata": {},
   "outputs": [
    {
     "name": "stdout",
     "output_type": "stream",
     "text": [
      "전체 데이터의 최대값: 9\n",
      "열에서 최대값: [7 8 9]\n",
      "열에서 최소값: [1 2 3]\n",
      "열에서 평균값: [4. 5. 6.]\n",
      "행에서 최대값: [3 6 9]\n",
      "행에서 최소값: [1 4 7]\n",
      "행에서 평균값: [2. 5. 8.]\n"
     ]
    }
   ],
   "source": [
    "print(f\"전체 데이터의 최대값: {np.max(matrix)}\")\n",
    "print(f\"열에서 최대값: {np.max(matrix, axis=0)}\")\n",
    "print(f\"열에서 최소값: {np.min(matrix, axis=0)}\")\n",
    "print(f\"열에서 평균값: {np.mean(matrix, axis=0)}\")\n",
    "print(f\"행에서 최대값: {np.max(matrix, axis=1)}\")\n",
    "print(f\"행에서 최소값: {np.min(matrix, axis=1)}\")\n",
    "print(f\"행에서 평균값: {np.mean(matrix, axis=1)}\")"
   ]
  },
  {
   "cell_type": "markdown",
   "id": "a9f93ed4-3099-4e97-b645-2f134f39a5c6",
   "metadata": {},
   "source": [
    "# 난수생성"
   ]
  },
  {
   "cell_type": "markdown",
   "id": "acac0cb0-2526-432b-95d1-3ebe45e927c2",
   "metadata": {},
   "source": [
    "    seed: 씨앗\n",
    "    rand: 균등 분포한 난수를 생성\n",
    "    random: 실수형 난수를 생성\n",
    "    randint: 지정한 최소 최대 범위안에서 난수 생성\n",
    "    randn: 정규분포\n",
    "    uniform: 임의의 분포에서 표본추출\n",
    "    random_sample: 0.0 ~ 1.0 사이에서 실수\n",
    "    standard_normal: 정규분포\n",
    "    choice: 랜덤하게 샘플을 선택\n",
    "    shuffle: 순서를 뒤섞는다"
   ]
  },
  {
   "cell_type": "code",
   "execution_count": 10,
   "id": "317c348b-03d1-4c4a-8ca1-57150b2ab994",
   "metadata": {},
   "outputs": [],
   "source": [
    "# 난수를 생성(seed 값 고정)\n",
    "np.random.seed(0)"
   ]
  },
  {
   "cell_type": "code",
   "execution_count": 15,
   "id": "e2327732-5eed-4538-b5e4-16d13d1945bf",
   "metadata": {},
   "outputs": [],
   "source": [
    "import numpy.random as rd"
   ]
  },
  {
   "cell_type": "code",
   "execution_count": 20,
   "id": "cc21758e-f607-4510-a166-9aef5890ee98",
   "metadata": {},
   "outputs": [
    {
     "name": "stdout",
     "output_type": "stream",
     "text": [
      "0과 1사이의 실수 난수: [0.16494046 0.36980809 0.14644176 0.56961841 0.70373728 0.28847644\n",
      " 0.43328806 0.75610669 0.39609828 0.89603839]\n",
      "0과 45사이의 6개 정수를 생성: [ 3 44 14 32  4  3]\n",
      "평균이 0.0이고 표준편차가 1.0인 정규분포에서 5개: [-2.15367459 -1.07075262  1.05445173 -0.40317695  1.22244507]\n",
      "[0.20827498 0.97663904 0.3563664 ]\n"
     ]
    }
   ],
   "source": [
    "print(f\"0과 1사이의 실수 난수: {rd.random(10)}\")\n",
    "print(f\"0과 45사이의 6개 정수를 생성: {rd.randint(0,46,6)}\")\n",
    "print(f\"평균이 0.0이고 표준편차가 1.0인 정규분포에서 5개: {rd.normal(0.0,1.0,5)}\")\n",
    "print(f\"{rd.standard_normal(3)}\")"
   ]
  },
  {
   "cell_type": "code",
   "execution_count": 21,
   "id": "f38e50b6-05c9-49d6-985a-a06bf8d33cc4",
   "metadata": {},
   "outputs": [
    {
     "data": {
      "text/plain": [
       "array([7, 6, 4])"
      ]
     },
     "execution_count": 21,
     "metadata": {},
     "output_type": "execute_result"
    }
   ],
   "source": [
    "vector = [1,2,3,4,5,6,7,8,9]\n",
    "rd.choice(vector,3)"
   ]
  },
  {
   "cell_type": "code",
   "execution_count": 22,
   "id": "d8489d44-dbd6-48ac-bfa3-0f82479fdcd8",
   "metadata": {},
   "outputs": [],
   "source": [
    "rd.shuffle(vector)"
   ]
  },
  {
   "cell_type": "code",
   "execution_count": 23,
   "id": "5223e32e-c387-4277-a66c-4809baff9f1b",
   "metadata": {},
   "outputs": [
    {
     "data": {
      "text/plain": [
       "[3, 7, 9, 6, 4, 5, 8, 1, 2]"
      ]
     },
     "execution_count": 23,
     "metadata": {},
     "output_type": "execute_result"
    }
   ],
   "source": [
    "vector"
   ]
  },
  {
   "cell_type": "markdown",
   "id": "c1ce6505-a711-4d00-9f39-8d76a91b1932",
   "metadata": {},
   "source": [
    "# sort"
   ]
  },
  {
   "cell_type": "code",
   "execution_count": 24,
   "id": "e3263f5a-027e-4deb-aa86-759c1f77b2ab",
   "metadata": {},
   "outputs": [
    {
     "data": {
      "text/plain": [
       "array([ 0.70657317,  1.03081595, -1.27698899,  0.83771977, -1.49011141])"
      ]
     },
     "execution_count": 24,
     "metadata": {},
     "output_type": "execute_result"
    }
   ],
   "source": [
    "# 평균이 0이고 표준편차가 1인 정규분포 형태의 데이터 5개\n",
    "vector = np.random.randn(5)\n",
    "vector"
   ]
  },
  {
   "cell_type": "code",
   "execution_count": 25,
   "id": "5aba70ad-daee-4ef1-8c0d-e964b29b44ed",
   "metadata": {},
   "outputs": [
    {
     "name": "stdout",
     "output_type": "stream",
     "text": [
      "1차원 배열 sort() 정렬 전: [ 0.70657317  1.03081595 -1.27698899  0.83771977 -1.49011141]\n",
      "1차원 배열 sort() 정렬 후: [-1.49011141 -1.27698899  0.70657317  0.83771977  1.03081595]\n"
     ]
    }
   ],
   "source": [
    "print(f\"1차원 배열 sort() 정렬 전: {vector}\")\n",
    "vector.sort()\n",
    "print(f\"1차원 배열 sort() 정렬 후: {vector}\")"
   ]
  },
  {
   "cell_type": "code",
   "execution_count": 29,
   "id": "c66f9728-a404-4626-af6e-f24c276df002",
   "metadata": {},
   "outputs": [
    {
     "data": {
      "text/plain": [
       "array([[2.30742335, 7.64911699, 9.44123519],\n",
       "       [7.49999249, 3.39403819, 4.89548937],\n",
       "       [3.38985117, 1.79490261, 1.70986599]])"
      ]
     },
     "execution_count": 29,
     "metadata": {},
     "output_type": "execute_result"
    }
   ],
   "source": [
    "# 2차원 데이터 정렬\n",
    "matrix_1 = np.random.random((3,3))*10\n",
    "matrix_1"
   ]
  },
  {
   "cell_type": "code",
   "execution_count": 30,
   "id": "b485d716-19f3-4fef-a669-8c40b6b29b18",
   "metadata": {},
   "outputs": [
    {
     "name": "stdout",
     "output_type": "stream",
     "text": [
      "2차원 배열 sort() 정렬 전: [[2.30742335 7.64911699 9.44123519]\n",
      " [7.49999249 3.39403819 4.89548937]\n",
      " [3.38985117 1.79490261 1.70986599]]\n",
      "2차원 배열 sort() 정렬 후: [[2.30742335 7.64911699 9.44123519]\n",
      " [3.39403819 4.89548937 7.49999249]\n",
      " [1.70986599 1.79490261 3.38985117]]\n"
     ]
    }
   ],
   "source": [
    "print(f\"2차원 배열 sort() 정렬 전: {matrix_1}\")\n",
    "matrix_1.sort()\n",
    "print(f\"2차원 배열 sort() 정렬 후: {matrix_1}\")"
   ]
  },
  {
   "cell_type": "code",
   "execution_count": 31,
   "id": "b890ee3d-529d-4384-ae9b-09d57ca4d9ab",
   "metadata": {},
   "outputs": [],
   "source": [
    "import copy"
   ]
  },
  {
   "cell_type": "code",
   "execution_count": 32,
   "id": "c125161b-b70a-4003-9b0c-2b7dc8cfec18",
   "metadata": {},
   "outputs": [],
   "source": [
    "matrix_1 = np.random.random((3,3))*10\n",
    "matrix_2 = copy.deepcopy(matrix_1)"
   ]
  },
  {
   "cell_type": "code",
   "execution_count": 33,
   "id": "57e8e324-2a58-451b-a442-4ff4cc2a4b21",
   "metadata": {},
   "outputs": [
    {
     "data": {
      "text/plain": [
       "(array([[4.63450977, 8.74572958, 9.44119751],\n",
       "        [6.08252866, 5.96655406, 7.83644245],\n",
       "        [5.00026298, 0.50370057, 6.99098075]]),\n",
       " array([[4.63450977, 8.74572958, 9.44119751],\n",
       "        [6.08252866, 5.96655406, 7.83644245],\n",
       "        [5.00026298, 0.50370057, 6.99098075]]))"
      ]
     },
     "execution_count": 33,
     "metadata": {},
     "output_type": "execute_result"
    }
   ],
   "source": [
    "matrix_1, matrix_2"
   ]
  },
  {
   "cell_type": "code",
   "execution_count": 34,
   "id": "6097b020-8b2a-4bac-be72-1b6d7bc9fb0d",
   "metadata": {},
   "outputs": [
    {
     "data": {
      "text/plain": [
       "array([[4.63450977, 8.74572958, 9.44119751],\n",
       "       [5.96655406, 6.08252866, 7.83644245],\n",
       "       [0.50370057, 5.00026298, 6.99098075]])"
      ]
     },
     "execution_count": 34,
     "metadata": {},
     "output_type": "execute_result"
    }
   ],
   "source": [
    "matrix_1.sort()\n",
    "matrix_1"
   ]
  },
  {
   "cell_type": "code",
   "execution_count": 35,
   "id": "70493497-347a-472a-a443-fcf920e03ce1",
   "metadata": {},
   "outputs": [
    {
     "data": {
      "text/plain": [
       "array([[4.63450977, 8.74572958, 9.44119751],\n",
       "       [5.96655406, 6.08252866, 7.83644245],\n",
       "       [0.50370057, 5.00026298, 6.99098075]])"
      ]
     },
     "execution_count": 35,
     "metadata": {},
     "output_type": "execute_result"
    }
   ],
   "source": [
    "matrix_2.sort(axis=1)\n",
    "matrix_2"
   ]
  },
  {
   "cell_type": "code",
   "execution_count": 36,
   "id": "17a9230e-0f11-48e3-a595-d0c38138648c",
   "metadata": {},
   "outputs": [
    {
     "data": {
      "text/plain": [
       "array([[0.50370057, 5.00026298, 6.99098075],\n",
       "       [4.63450977, 6.08252866, 7.83644245],\n",
       "       [5.96655406, 8.74572958, 9.44119751]])"
      ]
     },
     "execution_count": 36,
     "metadata": {},
     "output_type": "execute_result"
    }
   ],
   "source": [
    "matrix_2.sort(axis=0)\n",
    "matrix_2"
   ]
  },
  {
   "cell_type": "code",
   "execution_count": 37,
   "id": "b64aa45a-7d07-46a1-b34d-b2ce58c9606b",
   "metadata": {},
   "outputs": [
    {
     "name": "stdout",
     "output_type": "stream",
     "text": [
      "2차원 배열의 첫 번째 행만 정렬 전: [[4.63450977 8.74572958 9.44119751]\n",
      " [5.96655406 6.08252866 7.83644245]\n",
      " [0.50370057 5.00026298 6.99098075]]\n",
      "2차원 배열의 첫 번째 행만 정렬 후: [[4.63450977 8.74572958 9.44119751]\n",
      " [5.96655406 6.08252866 7.83644245]\n",
      " [0.50370057 5.00026298 6.99098075]]\n"
     ]
    }
   ],
   "source": [
    "# 첫 번째 행만 정렬\n",
    "print(f\"2차원 배열의 첫 번째 행만 정렬 전: {matrix_1}\")\n",
    "matrix_1.sort()\n",
    "print(f\"2차원 배열의 첫 번째 행만 정렬 후: {matrix_1}\")"
   ]
  },
  {
   "cell_type": "code",
   "execution_count": 38,
   "id": "0c029e14-9ee1-40e8-a577-de338ffb923e",
   "metadata": {},
   "outputs": [
    {
     "data": {
      "text/plain": [
       "array([4.63450977, 8.74572958, 9.44119751])"
      ]
     },
     "execution_count": 38,
     "metadata": {},
     "output_type": "execute_result"
    }
   ],
   "source": [
    "# 슬라이스를 이용해서 첫 번째 행만 가져오기\n",
    "matrix_1[0,:]"
   ]
  },
  {
   "cell_type": "code",
   "execution_count": 40,
   "id": "0e156a30-2fbf-4dab-9362-cb5ae7f60e64",
   "metadata": {},
   "outputs": [
    {
     "name": "stdout",
     "output_type": "stream",
     "text": [
      "랜덤으로 생성된 2차원 배열 [[6.07045061e-01 7.14696936e-01 4.69497183e-01 4.56014623e-01\n",
      "  9.06418087e-01]\n",
      " [1.37220420e-01 2.29219323e-01 8.81585399e-01 9.04424976e-01\n",
      "  6.45784599e-01]\n",
      " [3.24682972e-01 5.19711194e-01 5.53568650e-05 3.11860221e-01\n",
      "  4.25451538e-01]\n",
      " [8.85337660e-01 6.79879456e-01 4.56129772e-01 4.83408617e-01\n",
      "  7.88739428e-01]\n",
      " [2.29441834e-01 8.80297603e-01 3.13692393e-01 9.57450856e-01\n",
      "  4.71751571e-01]]\n"
     ]
    }
   ],
   "source": [
    "# argsort: key를 기준으로 데이터를 정렬\n",
    "matrix_1 = np.random.rand(5,5)\n",
    "print(\"랜덤으로 생성된 2차원 배열\", matrix_1)"
   ]
  },
  {
   "cell_type": "code",
   "execution_count": 41,
   "id": "8f99f91b-c995-4db7-8df1-ba9ca89223db",
   "metadata": {},
   "outputs": [],
   "source": [
    "# key가 되는 1차원 배열 생성\n",
    "vector = np.array([5,3,1,2,4])"
   ]
  },
  {
   "cell_type": "code",
   "execution_count": 44,
   "id": "5e0a194e-e56a-4f84-90f9-4314ccb697b4",
   "metadata": {},
   "outputs": [
    {
     "name": "stdout",
     "output_type": "stream",
     "text": [
      "matrix 배열의 첫 번째 열에 vector 배열의 요소값을 대입:  [[5.00000000e+00 3.00000000e+00 1.00000000e+00 2.00000000e+00\n",
      "  4.00000000e+00]\n",
      " [1.37220420e-01 2.29219323e-01 8.81585399e-01 9.04424976e-01\n",
      "  6.45784599e-01]\n",
      " [3.24682972e-01 5.19711194e-01 5.53568650e-05 3.11860221e-01\n",
      "  4.25451538e-01]\n",
      " [8.85337660e-01 6.79879456e-01 4.56129772e-01 4.83408617e-01\n",
      "  7.88739428e-01]\n",
      " [2.29441834e-01 8.80297603e-01 3.13692393e-01 9.57450856e-01\n",
      "  4.71751571e-01]]\n"
     ]
    }
   ],
   "source": [
    "matrix_1[0] = vector\n",
    "print(\"matrix 배열의 첫 번째 열에 vector 배열의 요소값을 대입: \", matrix_1)"
   ]
  },
  {
   "cell_type": "code",
   "execution_count": 48,
   "id": "7fbf4d78-3f76-4fb2-a488-ab077b65244e",
   "metadata": {},
   "outputs": [
    {
     "name": "stdout",
     "output_type": "stream",
     "text": [
      "argsort()로 정렬된 배열: [[1.00000000e+00 2.00000000e+00 3.00000000e+00 4.00000000e+00\n",
      "  5.00000000e+00]\n",
      " [8.81585399e-01 9.04424976e-01 2.29219323e-01 6.45784599e-01\n",
      "  1.37220420e-01]\n",
      " [5.53568650e-05 3.11860221e-01 5.19711194e-01 4.25451538e-01\n",
      "  3.24682972e-01]\n",
      " [4.56129772e-01 4.83408617e-01 6.79879456e-01 7.88739428e-01\n",
      "  8.85337660e-01]\n",
      " [3.13692393e-01 9.57450856e-01 8.80297603e-01 4.71751571e-01\n",
      "  2.29441834e-01]]\n"
     ]
    }
   ],
   "source": [
    "# 주어진 하나 이상의 숫자(key)를 기준으로 데이터를 정렬할 때 argsort() 사용\n",
    "print(f\"argsort()로 정렬된 배열: {matrix_1[ :, matrix_1[0].argsort()]}\")"
   ]
  },
  {
   "cell_type": "code",
   "execution_count": 49,
   "id": "1d2d89f1-8fc2-41ec-baa1-ccf71c2ac79d",
   "metadata": {},
   "outputs": [
    {
     "data": {
      "text/plain": [
       "array([[1.00000000e+00, 2.00000000e+00, 3.00000000e+00, 4.00000000e+00,\n",
       "        5.00000000e+00],\n",
       "       [8.81585399e-01, 9.04424976e-01, 2.29219323e-01, 6.45784599e-01,\n",
       "        1.37220420e-01],\n",
       "       [5.53568650e-05, 3.11860221e-01, 5.19711194e-01, 4.25451538e-01,\n",
       "        3.24682972e-01],\n",
       "       [4.56129772e-01, 4.83408617e-01, 6.79879456e-01, 7.88739428e-01,\n",
       "        8.85337660e-01],\n",
       "       [3.13692393e-01, 9.57450856e-01, 8.80297603e-01, 4.71751571e-01,\n",
       "        2.29441834e-01]])"
      ]
     },
     "execution_count": 49,
     "metadata": {},
     "output_type": "execute_result"
    }
   ],
   "source": [
    "matrix_1[ :,[2,3,1,4,0]]"
   ]
  },
  {
   "cell_type": "code",
   "execution_count": 59,
   "id": "12175a1e-bc30-4308-a621-80b929ea909a",
   "metadata": {},
   "outputs": [
    {
     "data": {
      "text/plain": [
       "array([[6.99098075],\n",
       "       [7.83644245],\n",
       "       [9.44119751]])"
      ]
     },
     "execution_count": 59,
     "metadata": {},
     "output_type": "execute_result"
    }
   ],
   "source": [
    "matrix_2[ :,2:3]"
   ]
  },
  {
   "cell_type": "code",
   "execution_count": 51,
   "id": "d83ffe3b-dda8-4105-98e6-f1c1144c1f6d",
   "metadata": {},
   "outputs": [
    {
     "data": {
      "text/plain": [
       "array([[-0.77963481,  0.47633669,  0.83388012],\n",
       "       [ 1.31379269, -0.6017086 , -0.5471638 ],\n",
       "       [ 0.60965079,  0.75893216, -1.18591918]])"
      ]
     },
     "execution_count": 51,
     "metadata": {},
     "output_type": "execute_result"
    }
   ],
   "source": [
    "# 행렬 즉 매트릭스를 만들고 from ~ to 형태로 데이터 가져오는거 연습\n",
    "temp = np.random.randn(3,3)\n",
    "temp"
   ]
  },
  {
   "cell_type": "code",
   "execution_count": 52,
   "id": "a34da6a4-0fab-4a3a-afb3-0a58af809474",
   "metadata": {},
   "outputs": [
    {
     "data": {
      "text/plain": [
       "-0.7796348081534819"
      ]
     },
     "execution_count": 52,
     "metadata": {},
     "output_type": "execute_result"
    }
   ],
   "source": [
    "temp[0,0]"
   ]
  },
  {
   "cell_type": "code",
   "execution_count": 56,
   "id": "d0add3a3-d550-48b6-b06a-40ce6940e64d",
   "metadata": {},
   "outputs": [
    {
     "data": {
      "text/plain": [
       "(array([-0.77963481,  0.47633669,  0.83388012]),\n",
       " array([-0.77963481,  0.47633669,  0.83388012]),\n",
       " array([-0.77963481,  0.47633669,  0.83388012]))"
      ]
     },
     "execution_count": 56,
     "metadata": {},
     "output_type": "execute_result"
    }
   ],
   "source": [
    "temp[0,(0,1,2)], temp[0, 0:3], temp[0, :3]"
   ]
  },
  {
   "cell_type": "code",
   "execution_count": 57,
   "id": "f3a5bb93-5565-4bc9-87b1-963090abecbc",
   "metadata": {},
   "outputs": [
    {
     "data": {
      "text/plain": [
       "(array([-0.77963481,  1.31379269,  0.60965079]),\n",
       " array([-0.77963481,  1.31379269,  0.60965079]),\n",
       " array([-0.77963481,  1.31379269,  0.60965079]),\n",
       " array([-0.77963481,  1.31379269,  0.60965079]))"
      ]
     },
     "execution_count": 57,
     "metadata": {},
     "output_type": "execute_result"
    }
   ],
   "source": [
    "temp[(0,1,2), 0], temp[0:3, 0], temp[:3, 0], temp[:, 0]"
   ]
  },
  {
   "cell_type": "markdown",
   "id": "493a93cc-bf95-4404-9912-2c77796a8bc5",
   "metadata": {},
   "source": [
    "# 배열의 크기 바꾸기"
   ]
  },
  {
   "cell_type": "code",
   "execution_count": 60,
   "id": "007e1595-afc9-4f66-b622-76f0a0a5d5ee",
   "metadata": {},
   "outputs": [],
   "source": [
    "# 배열의 크기가 (5,4) 행렬 즉 matrix 데이터는 1 ~ 20까지\n",
    "data = [\n",
    "    [1,2,3,4],\n",
    "    [5,6,7,8],\n",
    "    [9,10,11,12],\n",
    "    [13,14,15,16],\n",
    "    [17,18,19,20]\n",
    "]"
   ]
  },
  {
   "cell_type": "code",
   "execution_count": 61,
   "id": "aea2ea76-68a2-4ac7-b3b7-f353e53c14c3",
   "metadata": {},
   "outputs": [
    {
     "data": {
      "text/plain": [
       "array([[ 1.,  2.,  3.,  4.],\n",
       "       [ 5.,  6.,  7.,  8.],\n",
       "       [ 9., 10., 11., 12.],\n",
       "       [13., 14., 15., 16.],\n",
       "       [17., 18., 19., 20.]])"
      ]
     },
     "execution_count": 61,
     "metadata": {},
     "output_type": "execute_result"
    }
   ],
   "source": [
    "data = np.zeros((5,4))\n",
    "count = 1\n",
    "for i in range(5):\n",
    "    for j in range(4):\n",
    "        data[i,j] = count\n",
    "        count += 1\n",
    "data"
   ]
  },
  {
   "cell_type": "code",
   "execution_count": 62,
   "id": "33b390f7-4b32-4752-bea5-2042f6366998",
   "metadata": {},
   "outputs": [
    {
     "data": {
      "text/plain": [
       "array([[ 1.,  2.,  3.,  4.,  5.,  6.,  7.,  8.,  9., 10.],\n",
       "       [11., 12., 13., 14., 15., 16., 17., 18., 19., 20.]])"
      ]
     },
     "execution_count": 62,
     "metadata": {},
     "output_type": "execute_result"
    }
   ],
   "source": [
    "# (4,5) (2,10)\n",
    "data.reshape(2,10)"
   ]
  },
  {
   "cell_type": "code",
   "execution_count": 63,
   "id": "83ab9199-c8c5-4a27-9440-3bb3157235e1",
   "metadata": {},
   "outputs": [
    {
     "data": {
      "text/plain": [
       "array([[ 1.,  2.,  3.,  4.],\n",
       "       [ 5.,  6.,  7.,  8.],\n",
       "       [ 9., 10., 11., 12.],\n",
       "       [13., 14., 15., 16.],\n",
       "       [17., 18., 19., 20.]])"
      ]
     },
     "execution_count": 63,
     "metadata": {},
     "output_type": "execute_result"
    }
   ],
   "source": [
    "data.reshape(5,4)"
   ]
  },
  {
   "cell_type": "code",
   "execution_count": 65,
   "id": "e62b75b0-9887-4d42-8519-654ca169737b",
   "metadata": {},
   "outputs": [
    {
     "name": "stdout",
     "output_type": "stream",
     "text": [
      "matrix size: 20\n",
      "matrix shape: (5, 4)\n"
     ]
    }
   ],
   "source": [
    "# 주의사항: 배열의 크기를 변경할 때는 행과 열의 수가 같아야 한다\n",
    "# 따라서 함수 또는 shape를 사용해서 크기를 먼저 알아야 한다\n",
    "print(f\"matrix size: {data.size}\")\n",
    "print(f\"matrix shape: {data.shape}\")"
   ]
  },
  {
   "cell_type": "code",
   "execution_count": 68,
   "id": "b1f21804-e350-4c64-8e79-4a126fc1daff",
   "metadata": {},
   "outputs": [
    {
     "name": "stdout",
     "output_type": "stream",
     "text": [
      "reshape(1, -1): [[ 1.  2.  3.  4.  5.  6.  7.  8.  9. 10. 11. 12. 13. 14. 15. 16. 17. 18.\n",
      "  19. 20.]]\n",
      "reshape(1, 20): [[ 1.  2.  3.  4.  5.  6.  7.  8.  9. 10. 11. 12. 13. 14. 15. 16. 17. 18.\n",
      "  19. 20.]]\n",
      "reshape(-1, 20): [[ 1.  2.  3.  4.  5.  6.  7.  8.  9. 10. 11. 12. 13. 14. 15. 16. 17. 18.\n",
      "  19. 20.]]\n"
     ]
    }
   ],
   "source": [
    "print(f\"reshape(1, -1): {data.reshape(1,-1)}\")\n",
    "print(f\"reshape(1, 20): {data.reshape(1,20)}\")\n",
    "print(f\"reshape(-1, 20): {data.reshape(-1,20)}\")"
   ]
  },
  {
   "cell_type": "code",
   "execution_count": 69,
   "id": "bf516e43-6803-4fa9-b0e3-d26b4754d36a",
   "metadata": {},
   "outputs": [
    {
     "data": {
      "text/plain": [
       "array([[ 1.,  2.,  3.,  4.,  5.],\n",
       "       [ 6.,  7.,  8.,  9., 10.],\n",
       "       [11., 12., 13., 14., 15.],\n",
       "       [16., 17., 18., 19., 20.]])"
      ]
     },
     "execution_count": 69,
     "metadata": {},
     "output_type": "execute_result"
    }
   ],
   "source": [
    "# row 2\n",
    "data.reshape(-1, 5)"
   ]
  },
  {
   "cell_type": "markdown",
   "id": "781cd7cf-b70c-4c59-9396-bd7a20ef0406",
   "metadata": {},
   "source": [
    "# 전치"
   ]
  },
  {
   "cell_type": "code",
   "execution_count": 70,
   "id": "ebddcfbc-65a1-41e6-99ef-614c98f4731b",
   "metadata": {},
   "outputs": [
    {
     "data": {
      "text/plain": [
       "array([[ 1.,  5.,  9., 13., 17.],\n",
       "       [ 2.,  6., 10., 14., 18.],\n",
       "       [ 3.,  7., 11., 15., 19.],\n",
       "       [ 4.,  8., 12., 16., 20.]])"
      ]
     },
     "execution_count": 70,
     "metadata": {},
     "output_type": "execute_result"
    }
   ],
   "source": [
    "data.T"
   ]
  },
  {
   "cell_type": "code",
   "execution_count": 71,
   "id": "1b72b466-3cde-4899-9cd2-509854669395",
   "metadata": {},
   "outputs": [
    {
     "data": {
      "text/plain": [
       "array([[ 1.,  5.,  9., 13., 17.],\n",
       "       [ 2.,  6., 10., 14., 18.],\n",
       "       [ 3.,  7., 11., 15., 19.],\n",
       "       [ 4.,  8., 12., 16., 20.]])"
      ]
     },
     "execution_count": 71,
     "metadata": {},
     "output_type": "execute_result"
    }
   ],
   "source": [
    "data.transpose()"
   ]
  },
  {
   "cell_type": "code",
   "execution_count": 73,
   "id": "c785ae33-0a0d-4066-bc9e-b4edec5e633f",
   "metadata": {},
   "outputs": [
    {
     "data": {
      "text/plain": [
       "array([[ 1.,  5.,  9., 13., 17.],\n",
       "       [ 2.,  6., 10., 14., 18.],\n",
       "       [ 3.,  7., 11., 15., 19.],\n",
       "       [ 4.,  8., 12., 16., 20.]])"
      ]
     },
     "execution_count": 73,
     "metadata": {},
     "output_type": "execute_result"
    }
   ],
   "source": [
    "data.swapaxes(0,1)"
   ]
  },
  {
   "cell_type": "code",
   "execution_count": 74,
   "id": "1f0ad453-af21-466f-84a7-3ae60cdb391c",
   "metadata": {},
   "outputs": [
    {
     "data": {
      "text/plain": [
       "array([[ 1.,  2.,  3.,  4.],\n",
       "       [ 5.,  6.,  7.,  8.],\n",
       "       [ 9., 10., 11., 12.],\n",
       "       [13., 14., 15., 16.],\n",
       "       [17., 18., 19., 20.]])"
      ]
     },
     "execution_count": 74,
     "metadata": {},
     "output_type": "execute_result"
    }
   ],
   "source": [
    "data"
   ]
  },
  {
   "cell_type": "code",
   "execution_count": 75,
   "id": "296f52db-39e3-48f7-9f6e-3a5fa6db28ea",
   "metadata": {},
   "outputs": [
    {
     "data": {
      "text/plain": [
       "array([[ 1.,  2.,  3.,  4.,  5.,  6.,  7.,  8.,  9., 10., 11., 12., 13.,\n",
       "        14., 15., 16., 17., 18., 19., 20.]])"
      ]
     },
     "execution_count": 75,
     "metadata": {},
     "output_type": "execute_result"
    }
   ],
   "source": [
    "data.reshape(1,-1)"
   ]
  },
  {
   "cell_type": "code",
   "execution_count": 76,
   "id": "73dece93-4b0a-4feb-8a5e-407a4f6becf2",
   "metadata": {},
   "outputs": [
    {
     "data": {
      "text/plain": [
       "[1.0,\n",
       " 2.0,\n",
       " 3.0,\n",
       " 4.0,\n",
       " 5.0,\n",
       " 6.0,\n",
       " 7.0,\n",
       " 8.0,\n",
       " 9.0,\n",
       " 10.0,\n",
       " 11.0,\n",
       " 12.0,\n",
       " 13.0,\n",
       " 14.0,\n",
       " 15.0,\n",
       " 16.0,\n",
       " 17.0,\n",
       " 18.0,\n",
       " 19.0,\n",
       " 20.0]"
      ]
     },
     "execution_count": 76,
     "metadata": {},
     "output_type": "execute_result"
    }
   ],
   "source": [
    "list(data.reshape(1,-1)[0])"
   ]
  },
  {
   "cell_type": "code",
   "execution_count": 77,
   "id": "3a7d2d10-d8fb-4614-a313-1faf7fdb9ef2",
   "metadata": {},
   "outputs": [
    {
     "data": {
      "text/plain": [
       "array([ 1.,  2.,  3.,  4.,  5.,  6.,  7.,  8.,  9., 10., 11., 12., 13.,\n",
       "       14., 15., 16., 17., 18., 19., 20.])"
      ]
     },
     "execution_count": 77,
     "metadata": {},
     "output_type": "execute_result"
    }
   ],
   "source": [
    "data.flatten()"
   ]
  },
  {
   "cell_type": "code",
   "execution_count": 79,
   "id": "2d207653-85cd-4e74-b643-cd7c03154968",
   "metadata": {},
   "outputs": [
    {
     "data": {
      "text/plain": [
       "array([0., 0., 0., 0., 0., 0.])"
      ]
     },
     "execution_count": 79,
     "metadata": {},
     "output_type": "execute_result"
    }
   ],
   "source": [
    "# flatten() 함수는 데이터를 1차원 데이터로 손쉽게 만들어 준다\n",
    "np.zeros((1,2,3)).flatten()"
   ]
  },
  {
   "cell_type": "code",
   "execution_count": 81,
   "id": "ed468e83-e43e-4630-b57b-9f9a0bbfc5c7",
   "metadata": {},
   "outputs": [],
   "source": [
    "from random import sample"
   ]
  },
  {
   "cell_type": "code",
   "execution_count": 82,
   "id": "5f18e888-c950-4c60-908b-873ed03e28f4",
   "metadata": {},
   "outputs": [
    {
     "data": {
      "text/plain": [
       "[2, 4, 1]"
      ]
     },
     "execution_count": 82,
     "metadata": {},
     "output_type": "execute_result"
    }
   ],
   "source": [
    "sample([1,2,3,4,5,6,7],3)"
   ]
  },
  {
   "cell_type": "code",
   "execution_count": 83,
   "id": "f4b5ebec-6ba2-40fd-a9b8-d82bb032f1d2",
   "metadata": {},
   "outputs": [
    {
     "data": {
      "text/plain": [
       "array([7, 2, 4])"
      ]
     },
     "execution_count": 83,
     "metadata": {},
     "output_type": "execute_result"
    }
   ],
   "source": [
    "np.random.choice([1,2,3,4,5,6,7],3)"
   ]
  },
  {
   "cell_type": "markdown",
   "id": "156e6d47-fb5f-40e8-b9bb-aba2ecc9e8fd",
   "metadata": {},
   "source": [
    "# numpy 산술 연산과 선형대수"
   ]
  },
  {
   "cell_type": "code",
   "execution_count": 87,
   "id": "99f1e7b8-c741-485f-ac42-456d180fbdca",
   "metadata": {},
   "outputs": [
    {
     "data": {
      "text/plain": [
       "((3, 3), (3, 3))"
      ]
     },
     "execution_count": 87,
     "metadata": {},
     "output_type": "execute_result"
    }
   ],
   "source": [
    "# 2차원 배열 2개 각각 (3,3) (3,3)\n",
    "# 0 ~ 10 사이에 임의로\n",
    "m1 = np.array([\n",
    "    [1,2,3],[4,5,6],[7,8,9]\n",
    "])\n",
    "m2 = np.array(sample(range(20),9))\n",
    "m2 = m2.reshape(3,3)\n",
    "\n",
    "m1.shape, m2.shape"
   ]
  },
  {
   "cell_type": "code",
   "execution_count": 88,
   "id": "d4cc47b7-b3b3-4c9a-94e1-27d188ea8a33",
   "metadata": {},
   "outputs": [
    {
     "data": {
      "text/plain": [
       "(array([[1, 2, 3],\n",
       "        [4, 5, 6],\n",
       "        [7, 8, 9]]),\n",
       " array([[17, 14, 13],\n",
       "        [ 4,  2, 10],\n",
       "        [ 8, 11,  5]]))"
      ]
     },
     "execution_count": 88,
     "metadata": {},
     "output_type": "execute_result"
    }
   ],
   "source": [
    "m1, m2"
   ]
  },
  {
   "cell_type": "code",
   "execution_count": 89,
   "id": "a694e3e2-1141-4445-9baf-4be554cb5e28",
   "metadata": {},
   "outputs": [
    {
     "data": {
      "text/plain": [
       "(array([[1, 2, 3],\n",
       "        [4, 5, 6],\n",
       "        [7, 8, 9]]),\n",
       " array([[ 3,  4,  5],\n",
       "        [ 6,  7,  8],\n",
       "        [ 9, 10, 11]]))"
      ]
     },
     "execution_count": 89,
     "metadata": {},
     "output_type": "execute_result"
    }
   ],
   "source": [
    "m1, m1+2"
   ]
  },
  {
   "cell_type": "code",
   "execution_count": 90,
   "id": "4c2bfa10-d346-411a-a6d2-1f020f8feefa",
   "metadata": {},
   "outputs": [
    {
     "data": {
      "text/plain": [
       "(array([[1, 2, 3],\n",
       "        [4, 5, 6],\n",
       "        [7, 8, 9]]),\n",
       " array([[17, 14, 13],\n",
       "        [ 4,  2, 10],\n",
       "        [ 8, 11,  5]]),\n",
       " array([[18, 16, 16],\n",
       "        [ 8,  7, 16],\n",
       "        [15, 19, 14]]))"
      ]
     },
     "execution_count": 90,
     "metadata": {},
     "output_type": "execute_result"
    }
   ],
   "source": [
    "m1, m2, m1+m2"
   ]
  },
  {
   "cell_type": "code",
   "execution_count": 91,
   "id": "c72be2b2-8427-46c0-9ee9-9875c49139fe",
   "metadata": {},
   "outputs": [
    {
     "data": {
      "text/plain": [
       "array([[11, 12, 13],\n",
       "       [14, 15, 16],\n",
       "       [17, 18, 19]])"
      ]
     },
     "execution_count": 91,
     "metadata": {},
     "output_type": "execute_result"
    }
   ],
   "source": [
    "m1 + [10, 10, 10]"
   ]
  },
  {
   "cell_type": "code",
   "execution_count": 92,
   "id": "e484028a-568b-48c1-bddb-bb77c7d74035",
   "metadata": {},
   "outputs": [
    {
     "data": {
      "text/plain": [
       "array([[ 2,  3,  4],\n",
       "       [ 5,  6,  7],\n",
       "       [ 8,  9, 10]])"
      ]
     },
     "execution_count": 92,
     "metadata": {},
     "output_type": "execute_result"
    }
   ],
   "source": [
    "m1 + [[1],[1],[1]]"
   ]
  },
  {
   "cell_type": "markdown",
   "id": "0da2f13c-b9e4-4a74-934e-547a5e2afaad",
   "metadata": {},
   "source": [
    "# 행렬 내적 dot"
   ]
  },
  {
   "cell_type": "code",
   "execution_count": 94,
   "id": "484bb3aa-d680-4208-ab58-434dbcbdc421",
   "metadata": {},
   "outputs": [
    {
     "data": {
      "text/plain": [
       "(array([[ 49,  51,  48],\n",
       "        [136, 132, 132],\n",
       "        [223, 213, 216]]),\n",
       " array([[ 49,  51,  48],\n",
       "        [136, 132, 132],\n",
       "        [223, 213, 216]]),\n",
       " array([[ 49,  51,  48],\n",
       "        [136, 132, 132],\n",
       "        [223, 213, 216]]))"
      ]
     },
     "execution_count": 94,
     "metadata": {},
     "output_type": "execute_result"
    }
   ],
   "source": [
    "np.dot(m1,m2), np.matmul(m1,m2), m1@m2"
   ]
  },
  {
   "cell_type": "code",
   "execution_count": 95,
   "id": "a19ae71b-fb30-4165-a709-237f7e702c12",
   "metadata": {},
   "outputs": [
    {
     "data": {
      "text/plain": [
       "array([[ 49,  51,  48],\n",
       "       [136, 132, 132],\n",
       "       [223, 213, 216]])"
      ]
     },
     "execution_count": 95,
     "metadata": {},
     "output_type": "execute_result"
    }
   ],
   "source": [
    "m1@m2"
   ]
  },
  {
   "cell_type": "code",
   "execution_count": null,
   "id": "1f02b128-ca8f-4b00-aa40-b4380afc21b1",
   "metadata": {},
   "outputs": [],
   "source": []
  }
 ],
 "metadata": {
  "kernelspec": {
   "display_name": "Python 3 (ipykernel)",
   "language": "python",
   "name": "python3"
  },
  "language_info": {
   "codemirror_mode": {
    "name": "ipython",
    "version": 3
   },
   "file_extension": ".py",
   "mimetype": "text/x-python",
   "name": "python",
   "nbconvert_exporter": "python",
   "pygments_lexer": "ipython3",
   "version": "3.10.8"
  }
 },
 "nbformat": 4,
 "nbformat_minor": 5
}
