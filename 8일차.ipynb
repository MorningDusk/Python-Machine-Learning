{
 "cells": [
  {
   "cell_type": "markdown",
   "id": "8e09ea9c-95a4-4544-88f6-f6e90a974403",
   "metadata": {},
   "source": [
    "# 클래스 생성"
   ]
  },
  {
   "cell_type": "markdown",
   "id": "4ce78eac-54ab-4708-8e6f-0bf8d9154eab",
   "metadata": {},
   "source": [
    "### 객체\n",
    "### 클래스\n",
    "### 비지니스 로직 : 적합한 메소드(함수)와 그 메소드에서 사용하는 변수"
   ]
  },
  {
   "cell_type": "markdown",
   "id": "fa7f51fa-4373-4214-8c19-7dc64e1c6280",
   "metadata": {},
   "source": [
    "### 동물 클래스\n",
    "### 타입 : 개, 고양이,...\n",
    "### 나이\n",
    "### 예방접종 여부"
   ]
  },
  {
   "cell_type": "code",
   "execution_count": 9,
   "id": "4bc83da4-7d40-4834-aefe-388d79bd7a43",
   "metadata": {},
   "outputs": [],
   "source": [
    "class Animal():\n",
    "    def __init__(self, type_, age, isPrevent):\n",
    "        self.type_ = type_\n",
    "        self.age = age\n",
    "        self.isPrevent = isPrevent\n",
    "    def __str__(self):\n",
    "        return f\"type: {self.type_}, age: {self.age}, isPrevent: {self.isPrevent}\""
   ]
  },
  {
   "cell_type": "code",
   "execution_count": 10,
   "id": "c36748aa-e2ee-4ba6-99e4-eab6531a3394",
   "metadata": {},
   "outputs": [],
   "source": [
    "animal1 = Animal('고양이', 1, True)"
   ]
  },
  {
   "cell_type": "code",
   "execution_count": 11,
   "id": "a8c7c58a-0d2e-4d8a-86c8-a00f8e22bc8c",
   "metadata": {},
   "outputs": [
    {
     "data": {
      "text/plain": [
       "'고양이'"
      ]
     },
     "execution_count": 11,
     "metadata": {},
     "output_type": "execute_result"
    }
   ],
   "source": [
    "animal1.type_"
   ]
  },
  {
   "cell_type": "code",
   "execution_count": 12,
   "id": "8f4cbac9-c9f4-4cee-8e61-e5880dd417c3",
   "metadata": {},
   "outputs": [
    {
     "name": "stdout",
     "output_type": "stream",
     "text": [
      "type: 고양이, age: 1, isPrevent: True\n"
     ]
    }
   ],
   "source": [
    "print(animal1)"
   ]
  },
  {
   "cell_type": "markdown",
   "id": "f1aa8482-e215-4524-8d4f-b33d90647094",
   "metadata": {},
   "source": [
    "# 상속"
   ]
  },
  {
   "cell_type": "code",
   "execution_count": 13,
   "id": "b7754faf-fa15-473f-aab7-b4aef586250f",
   "metadata": {},
   "outputs": [
    {
     "data": {
      "text/plain": [
       "str"
      ]
     },
     "execution_count": 13,
     "metadata": {},
     "output_type": "execute_result"
    }
   ],
   "source": [
    "class Person(object):\n",
    "    pass\n",
    "# object : 가장 기본이 되는 객체\n",
    "a = 'abc'\n",
    "type(a)"
   ]
  },
  {
   "cell_type": "code",
   "execution_count": 14,
   "id": "811b6a87-c996-4169-92e1-64055e496452",
   "metadata": {},
   "outputs": [],
   "source": [
    "class Person(object):\n",
    "    def __init__(self, name, age):\n",
    "        self.name = name\n",
    "        self.age = age"
   ]
  },
  {
   "cell_type": "code",
   "execution_count": 24,
   "id": "da6c95bf-7a2a-4f6f-9eaa-3aafaba08398",
   "metadata": {},
   "outputs": [],
   "source": [
    "class Korean(Person):\n",
    "    def __init__(self, name, age):\n",
    "        super().__init__(name, age)\n",
    "    pass"
   ]
  },
  {
   "cell_type": "code",
   "execution_count": 21,
   "id": "4a40757f-75d0-4d93-9f7a-1107fd23b7b7",
   "metadata": {},
   "outputs": [],
   "source": [
    "korean1 = Korean('홍길동', 100)"
   ]
  },
  {
   "cell_type": "code",
   "execution_count": 34,
   "id": "cde3c5ab-107b-4545-a1b5-c386dedba7b7",
   "metadata": {},
   "outputs": [],
   "source": [
    "class Person():\n",
    "    def __init__(self):\n",
    "        self.name = ''\n",
    "        self.age = 0\n",
    "class Employee(Person):\n",
    "    def __init__(self):\n",
    "        super().__init__()\n",
    "        self.id = ''\n",
    "    pass\n",
    "class Manager(Employee):\n",
    "    pass\n",
    "class Staff(Employee):\n",
    "    pass\n",
    "class Hourly(Employee):\n",
    "    pass"
   ]
  },
  {
   "cell_type": "code",
   "execution_count": 35,
   "id": "484bffbc-a69d-4e8f-bc8e-a2cf95809aa0",
   "metadata": {},
   "outputs": [],
   "source": [
    "staff = Staff()\n",
    "employee = Employee()"
   ]
  },
  {
   "cell_type": "code",
   "execution_count": 36,
   "id": "f2884943-7bd3-482a-b47d-c136d574d8c2",
   "metadata": {},
   "outputs": [
    {
     "data": {
      "text/plain": [
       "''"
      ]
     },
     "execution_count": 36,
     "metadata": {},
     "output_type": "execute_result"
    }
   ],
   "source": [
    "staff.name"
   ]
  },
  {
   "cell_type": "markdown",
   "id": "a6989b16-ad41-44e2-bfbc-3a015b97a116",
   "metadata": {},
   "source": [
    "### 상속은 클래스명(상속받을 클래스) 작성\n",
    "### 기본적으로(생성자 안건드렸을때) 부모의 기능 및 변수를 자식 클래스가 사용 가능\n",
    "### 만약 생성자를 만들었는데 부모 생성자를 호출 안하면 부모 생성자에서 생성한 변수는 사용 못한다\n",
    "### 하지만 메소드(함수)는 생성자 호출여부와 관계없이 사용 가능"
   ]
  },
  {
   "cell_type": "code",
   "execution_count": 37,
   "id": "bcd146c3-2af1-49b0-98fa-53c97cea74f2",
   "metadata": {},
   "outputs": [],
   "source": [
    "class Person():\n",
    "    def __init__(self, name):\n",
    "        self.name = name\n",
    "class Korean(Person):\n",
    "    pass"
   ]
  },
  {
   "cell_type": "code",
   "execution_count": 41,
   "id": "04c52a24-c156-40ae-8f71-37b2eb762728",
   "metadata": {},
   "outputs": [
    {
     "data": {
      "text/plain": [
       "'abc'"
      ]
     },
     "execution_count": 41,
     "metadata": {},
     "output_type": "execute_result"
    }
   ],
   "source": [
    "k = Korean('abc')\n",
    "k.name"
   ]
  },
  {
   "cell_type": "code",
   "execution_count": 42,
   "id": "d9943adf-8d1b-4cd9-ae35-447e43c6e438",
   "metadata": {},
   "outputs": [],
   "source": [
    "class Person(object):\n",
    "    def __init__(self, name, age, gender):\n",
    "        self.name = name\n",
    "        self.age = age\n",
    "        self.gender = gender\n",
    "    def about_me(self):\n",
    "        print(f\"이름은 {self.name}이고 나이는 {self.age}살입니다.\")"
   ]
  },
  {
   "cell_type": "code",
   "execution_count": 43,
   "id": "d62c9d83-6d19-4489-afc0-8547224c42c2",
   "metadata": {},
   "outputs": [],
   "source": [
    "class Employee(Person):\n",
    "    def __init__(self, name, age, gender, salary, hire_date):\n",
    "        super().__init__(name, age, gender)\n",
    "        self.salary = salary\n",
    "        self.hire_date = hire_date\n",
    "    def do_work(self):\n",
    "        print(\"열심히\")\n",
    "    def about_me(self):\n",
    "        super().about_me()\n",
    "        print(f\"급여는 {self.salary}이고 입사일은 {self.hire_date}입니다\")"
   ]
  },
  {
   "cell_type": "code",
   "execution_count": 47,
   "id": "912371fb-f331-4068-acde-e9b9b6f25787",
   "metadata": {},
   "outputs": [
    {
     "name": "stdout",
     "output_type": "stream",
     "text": [
      "이름은 홍길동이고 나이는 30살입니다.\n"
     ]
    }
   ],
   "source": [
    "p = Person('홍길동', 30, '남성')\n",
    "p.about_me()"
   ]
  },
  {
   "cell_type": "code",
   "execution_count": 45,
   "id": "ae9b6a4a-c200-46db-a7fb-bda52fb420c1",
   "metadata": {},
   "outputs": [
    {
     "name": "stdout",
     "output_type": "stream",
     "text": [
      "열심히\n",
      "이름은 홍길동이고 나이는 30살입니다.\n",
      "급여는 1000이고 입사일은 1월 1일입니다\n"
     ]
    }
   ],
   "source": [
    "e = Employee('홍길동', 30, '남성', '1000', '1월 1일')\n",
    "e.do_work()\n",
    "e.about_me()"
   ]
  },
  {
   "cell_type": "markdown",
   "id": "eabca01c-6ace-4ad1-b233-96d74570c1c3",
   "metadata": {},
   "source": [
    "# 다형성"
   ]
  },
  {
   "cell_type": "code",
   "execution_count": 55,
   "id": "e3543a2f-9579-403a-aef0-afdfd8876f3f",
   "metadata": {},
   "outputs": [],
   "source": [
    "class Animal():\n",
    "    def __init__(self, name):\n",
    "        self.name = name\n",
    "    def talk(self):\n",
    "        pass\n",
    "class Cat(Animal):\n",
    "    def talk(self):\n",
    "        return \"야옹\"\n",
    "class Dog(Animal):\n",
    "    def talk(self):\n",
    "        return \"멍멍\"\n",
    "class Cow(Animal):\n",
    "    def talk(self):\n",
    "        return \"음메\"\n",
    "animals = [Cat('야옹이'), Dog('바둑이'), Cow('소')]"
   ]
  },
  {
   "cell_type": "code",
   "execution_count": 56,
   "id": "018e96e5-7ffb-4e19-87ad-1138ab795e25",
   "metadata": {},
   "outputs": [
    {
     "name": "stdout",
     "output_type": "stream",
     "text": [
      "야옹이: 야옹\n",
      "바둑이: 멍멍\n",
      "소: 음메\n"
     ]
    }
   ],
   "source": [
    "for animal in animals:\n",
    "    print(f\"{animal.name}: {animal.talk()}\")"
   ]
  },
  {
   "cell_type": "code",
   "execution_count": 57,
   "id": "10f64f05-c4d5-4443-8f24-acb217da7fb9",
   "metadata": {},
   "outputs": [],
   "source": [
    "c1 = Cat('야옹이')\n",
    "c2 = c1"
   ]
  },
  {
   "cell_type": "code",
   "execution_count": 59,
   "id": "6e9c9e10-dd45-41be-987b-32c843fb0f0c",
   "metadata": {},
   "outputs": [
    {
     "data": {
      "text/plain": [
       "('야옹이', '야옹이')"
      ]
     },
     "execution_count": 59,
     "metadata": {},
     "output_type": "execute_result"
    }
   ],
   "source": [
    "c1.name, c2.name"
   ]
  },
  {
   "cell_type": "markdown",
   "id": "74a87700-7e1f-4640-9fb3-f5f7d9f76feb",
   "metadata": {},
   "source": [
    "# 모듈과 패키지"
   ]
  },
  {
   "cell_type": "code",
   "execution_count": 60,
   "id": "666910ff-bcb9-4038-9eda-e79447e823aa",
   "metadata": {},
   "outputs": [
    {
     "data": {
      "text/plain": [
       "7"
      ]
     },
     "execution_count": 60,
     "metadata": {},
     "output_type": "execute_result"
    }
   ],
   "source": [
    "import random\n",
    "random.randint(1, 10)"
   ]
  },
  {
   "cell_type": "code",
   "execution_count": 63,
   "id": "0892b2fd-0562-4e44-a933-13f513bd04c2",
   "metadata": {},
   "outputs": [],
   "source": [
    "import my_util"
   ]
  },
  {
   "cell_type": "code",
   "execution_count": 64,
   "id": "9408a585-fb7c-44a1-b36f-34338d06c980",
   "metadata": {},
   "outputs": [
    {
     "name": "stdin",
     "output_type": "stream",
     "text": [
      "숫자를 입력하세요 11\n"
     ]
    }
   ],
   "source": [
    "str_number = input('숫자를 입력하세요')"
   ]
  },
  {
   "cell_type": "code",
   "execution_count": 65,
   "id": "2e426a4d-2f9e-42b5-af63-3a67a8675559",
   "metadata": {},
   "outputs": [
    {
     "data": {
      "text/plain": [
       "str"
      ]
     },
     "execution_count": 65,
     "metadata": {},
     "output_type": "execute_result"
    }
   ],
   "source": [
    "type(str_number)"
   ]
  },
  {
   "cell_type": "code",
   "execution_count": 66,
   "id": "4413a5ae-a76b-48a6-ab24-1999f180e43b",
   "metadata": {},
   "outputs": [
    {
     "data": {
      "text/plain": [
       "11"
      ]
     },
     "execution_count": 66,
     "metadata": {},
     "output_type": "execute_result"
    }
   ],
   "source": [
    "my_util.conver_str_int('11')"
   ]
  },
  {
   "cell_type": "code",
   "execution_count": 68,
   "id": "950300bc-b5bf-40b5-93ce-0be64d4f6747",
   "metadata": {},
   "outputs": [],
   "source": [
    "import my_util as mu"
   ]
  },
  {
   "cell_type": "code",
   "execution_count": 69,
   "id": "20db1361-388d-45d8-9bfa-f4fdb278c895",
   "metadata": {},
   "outputs": [],
   "source": [
    "from my_util import conver_str_int"
   ]
  },
  {
   "cell_type": "code",
   "execution_count": 72,
   "id": "fc2bc74f-dde3-4518-a67f-306d017bc9cd",
   "metadata": {},
   "outputs": [
    {
     "data": {
      "text/plain": [
       "11"
      ]
     },
     "execution_count": 72,
     "metadata": {},
     "output_type": "execute_result"
    }
   ],
   "source": [
    "conver_str_int(str_number)"
   ]
  },
  {
   "cell_type": "code",
   "execution_count": 71,
   "id": "f5f8f492-453f-4e88-bb72-ec84ab151e14",
   "metadata": {},
   "outputs": [],
   "source": [
    "from my_util import *"
   ]
  },
  {
   "cell_type": "code",
   "execution_count": 76,
   "id": "0dcce0d4-6925-428b-905e-d538fef53e9e",
   "metadata": {},
   "outputs": [],
   "source": [
    "# 내장 모듈\n",
    "from random import *"
   ]
  },
  {
   "cell_type": "code",
   "execution_count": 77,
   "id": "8681549d-6bc8-43c2-abf7-93c7266b98f6",
   "metadata": {},
   "outputs": [
    {
     "data": {
      "text/plain": [
       "16"
      ]
     },
     "execution_count": 77,
     "metadata": {},
     "output_type": "execute_result"
    }
   ],
   "source": [
    "randint(0, 100)"
   ]
  },
  {
   "cell_type": "code",
   "execution_count": 84,
   "id": "57f8c78f-9203-4bde-b9b6-babe5b4a70d5",
   "metadata": {},
   "outputs": [],
   "source": [
    "import time"
   ]
  },
  {
   "cell_type": "code",
   "execution_count": 79,
   "id": "4b604ef5-c20b-41a5-b0dd-fe32cdbedc90",
   "metadata": {},
   "outputs": [
    {
     "data": {
      "text/plain": [
       "time.struct_time(tm_year=2023, tm_mon=1, tm_mday=4, tm_hour=21, tm_min=38, tm_sec=58, tm_wday=2, tm_yday=4, tm_isdst=0)"
      ]
     },
     "execution_count": 79,
     "metadata": {},
     "output_type": "execute_result"
    }
   ],
   "source": [
    "time.localtime()"
   ]
  },
  {
   "cell_type": "code",
   "execution_count": 80,
   "id": "c6f49e6b-37ad-449a-869b-d99ea8947a1e",
   "metadata": {},
   "outputs": [
    {
     "data": {
      "text/plain": [
       "2023"
      ]
     },
     "execution_count": 80,
     "metadata": {},
     "output_type": "execute_result"
    }
   ],
   "source": [
    "time.localtime().tm_year"
   ]
  },
  {
   "cell_type": "code",
   "execution_count": 85,
   "id": "8890ed22-4a56-467d-abb7-cd5471cdfc7a",
   "metadata": {},
   "outputs": [],
   "source": [
    "year, month, day = time.localtime().tm_year, time.localtime().tm_mon, time.localtime().tm_mday"
   ]
  },
  {
   "cell_type": "code",
   "execution_count": 86,
   "id": "a76d6984-5f65-4cb0-aa79-34f84827e816",
   "metadata": {},
   "outputs": [],
   "source": [
    "hour, minute, sec = time.localtime().tm_hour, time.localtime().tm_min, time.localtime().tm_sec"
   ]
  },
  {
   "cell_type": "code",
   "execution_count": 87,
   "id": "b9b9bdc0-0c2e-4ac3-894c-658feca82ece",
   "metadata": {},
   "outputs": [],
   "source": [
    "def convert(data):\n",
    "    if data < 10:\n",
    "        return '0' + str(data)\n",
    "    else:\n",
    "        return str(data)"
   ]
  },
  {
   "cell_type": "code",
   "execution_count": 90,
   "id": "4043f2ea-d74b-446e-9c86-aa110cdcf926",
   "metadata": {},
   "outputs": [],
   "source": [
    "time1 = '-'.join([str(year), convert(month), convert(day)])"
   ]
  },
  {
   "cell_type": "code",
   "execution_count": 91,
   "id": "d763bb1b-a1c1-4abf-b37b-923c129a8dff",
   "metadata": {},
   "outputs": [],
   "source": [
    "time2 = ':'.join([str(hour), convert(minute), convert(sec)])"
   ]
  },
  {
   "cell_type": "code",
   "execution_count": 92,
   "id": "f517617c-da59-4420-9ab1-edeacf601c81",
   "metadata": {},
   "outputs": [
    {
     "data": {
      "text/plain": [
       "'2023-01-04 21:46:26'"
      ]
     },
     "execution_count": 92,
     "metadata": {},
     "output_type": "execute_result"
    }
   ],
   "source": [
    "' '.join([time1, time2])"
   ]
  }
 ],
 "metadata": {
  "kernelspec": {
   "display_name": "Python 3 (ipykernel)",
   "language": "python",
   "name": "python3"
  },
  "language_info": {
   "codemirror_mode": {
    "name": "ipython",
    "version": 3
   },
   "file_extension": ".py",
   "mimetype": "text/x-python",
   "name": "python",
   "nbconvert_exporter": "python",
   "pygments_lexer": "ipython3",
   "version": "3.10.8"
  }
 },
 "nbformat": 4,
 "nbformat_minor": 5
}
